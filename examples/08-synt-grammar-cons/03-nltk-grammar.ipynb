{
 "cells": [
  {
   "cell_type": "markdown",
   "id": "6edaadd8",
   "metadata": {},
   "source": [
    "**Грамматический анализатор**\n",
    "\n",
    "Евгений Борисов <esborisov@sevsu.ru>\n",
    "\n",
    "синтаксические парсеры библиотеки NLTK"
   ]
  },
  {
   "cell_type": "markdown",
   "id": "cf85d5db",
   "metadata": {},
   "source": [
    "---"
   ]
  },
  {
   "cell_type": "markdown",
   "id": "38159f17",
   "metadata": {},
   "source": [
    "Синтаксический анализ в NLTK.   \n",
    "https://habr.com/ru/post/340574/   \n",
    "https://habr.com/ru/post/342162/      "
   ]
  },
  {
   "cell_type": "markdown",
   "id": "c30deba2",
   "metadata": {},
   "source": [
    "Steven Bird, Ewan Klein, and Edward Loper  Natural Language Processing with Python.   \n",
    "chapter 9. Building Feature Based Grammars.   \n",
    "https://www.nltk.org/book/ch09.html"
   ]
  },
  {
   "cell_type": "markdown",
   "id": "731b9f02",
   "metadata": {},
   "source": [
    "----"
   ]
  },
  {
   "cell_type": "code",
   "execution_count": 118,
   "id": "58f609af",
   "metadata": {},
   "outputs": [
    {
     "data": {
      "text/plain": [
       "(<Grammar with 13 productions>,\n",
       " S,\n",
       " [S -> OLT,\n",
       "  OLT -> OBJ,\n",
       "  OLT -> OBJ UN OLT,\n",
       "  OBJ -> ADJ NP,\n",
       "  NP -> 'сок',\n",
       "  NP -> 'морс',\n",
       "  NP -> 'компот',\n",
       "  ADJ -> 'апельсиновый',\n",
       "  ADJ -> 'вишнёвый',\n",
       "  ADJ -> 'абрикосовый',\n",
       "  ADJ -> 'томатный',\n",
       "  UN -> ',',\n",
       "  UN -> 'и'])"
      ]
     },
     "execution_count": 118,
     "metadata": {},
     "output_type": "execute_result"
    }
   ],
   "source": [
    "from nltk import CFG # Context-free grammar\n",
    "\n",
    "grammar = CFG.fromstring(\"\"\"\n",
    "S -> OLT\n",
    "OLT -> OBJ | OBJ UN OLT\n",
    "OBJ ->  ADJ NP\n",
    "NP -> 'сок' | 'морс' | 'компот'\n",
    "ADJ -> 'апельсиновый' | 'вишнёвый' | 'абрикосовый' | 'томатный'\n",
    "UN -> ',' |'и'\n",
    "\"\"\")\n",
    "\n",
    "grammar, grammar.start(), grammar.productions() "
   ]
  },
  {
   "cell_type": "code",
   "execution_count": 119,
   "id": "177669ca",
   "metadata": {},
   "outputs": [
    {
     "name": "stdout",
     "output_type": "stream",
     "text": [
      "                                             S                                            \n",
      "                                             |                                             \n",
      "                                            OLT                                           \n",
      "           __________________________________|_______                                      \n",
      "          |       |                                 OLT                                   \n",
      "          |       |                __________________|_________________                    \n",
      "          |       |               |          |                        OLT                 \n",
      "          |       |               |          |                 ________|____________       \n",
      "          |       |               |          |                |        |           OLT    \n",
      "          |       |               |          |                |        |            |      \n",
      "         OBJ      |              OBJ         |               OBJ       |           OBJ    \n",
      "    ______|___    |        _______|____      |        ________|___     |      ______|___   \n",
      "  ADJ         NP  UN     ADJ           NP    UN     ADJ           NP   UN   ADJ         NP\n",
      "   |          |   |       |            |     |       |            |    |     |          |  \n",
      "вишнёвый     сок  ,  абрикосовый     компот  ,  апельсиновый     морс  и  томатный     сок\n",
      "\n"
     ]
    }
   ],
   "source": [
    "from nltk.tokenize import word_tokenize as nltk_tokenize_word\n",
    "from nltk import ChartParser as Parser\n",
    "sentence = 'вишнёвый сок, абрикосовый компот, апельсиновый морс и томатный сок'\n",
    "\n",
    "tokens = nltk_tokenize_word(sentence)\n",
    "\n",
    "for tree in Parser(grammar).parse(tokens):  \n",
    "    tree.pretty_print()\n",
    "    # display(tree)"
   ]
  },
  {
   "cell_type": "code",
   "execution_count": 130,
   "id": "eba184b7",
   "metadata": {},
   "outputs": [
    {
     "data": {
      "image/svg+xml": [
       "<svg baseProfile=\"full\" height=\"120px\" preserveAspectRatio=\"xMidYMid meet\" style=\"font-family: times, serif; font-weight:normal; font-style: normal; font-size: 16px;\" version=\"1.1\" viewBox=\"0,0,160.0,120.0\" width=\"160px\" xmlns=\"http://www.w3.org/2000/svg\" xmlns:ev=\"http://www.w3.org/2001/xml-events\" xmlns:xlink=\"http://www.w3.org/1999/xlink\"><defs /><svg width=\"100%\" x=\"0\" y=\"0em\"><defs /><text text-anchor=\"middle\" x=\"50%\" y=\"1em\">OBJ</text></svg><svg width=\"70%\" x=\"0%\" y=\"3em\"><defs /><svg width=\"100%\" x=\"0\" y=\"0em\"><defs /><text text-anchor=\"middle\" x=\"50%\" y=\"1em\">ADJ</text></svg><svg width=\"100%\" x=\"0%\" y=\"3em\"><defs /><svg width=\"100%\" x=\"0\" y=\"0em\"><defs /><text text-anchor=\"middle\" x=\"50%\" y=\"1em\">апельсиновый</text></svg></svg><line stroke=\"black\" x1=\"50%\" x2=\"50%\" y1=\"1.2em\" y2=\"3em\" /></svg><line stroke=\"black\" x1=\"50%\" x2=\"35%\" y1=\"1.2em\" y2=\"3em\" /><svg width=\"30%\" x=\"70%\" y=\"3em\"><defs /><svg width=\"100%\" x=\"0\" y=\"0em\"><defs /><text text-anchor=\"middle\" x=\"50%\" y=\"1em\">NP</text></svg><svg width=\"100%\" x=\"0%\" y=\"3em\"><defs /><svg width=\"100%\" x=\"0\" y=\"0em\"><defs /><text text-anchor=\"middle\" x=\"50%\" y=\"1em\">морс</text></svg></svg><line stroke=\"black\" x1=\"50%\" x2=\"50%\" y1=\"1.2em\" y2=\"3em\" /></svg><line stroke=\"black\" x1=\"50%\" x2=\"85%\" y1=\"1.2em\" y2=\"3em\" /></svg>"
      ],
      "text/plain": [
       "Tree('OBJ', [Tree('ADJ', ['апельсиновый']), Tree('NP', ['морс'])])"
      ]
     },
     "execution_count": 130,
     "metadata": {},
     "output_type": "execute_result"
    }
   ],
   "source": [
    "tree[0][2][2][0]"
   ]
  },
  {
   "cell_type": "code",
   "execution_count": null,
   "id": "ed6dd18d",
   "metadata": {},
   "outputs": [],
   "source": []
  }
 ],
 "metadata": {
  "kernelspec": {
   "display_name": "Python 3 (ipykernel)",
   "language": "python",
   "name": "python3"
  },
  "language_info": {
   "codemirror_mode": {
    "name": "ipython",
    "version": 3
   },
   "file_extension": ".py",
   "mimetype": "text/x-python",
   "name": "python",
   "nbconvert_exporter": "python",
   "pygments_lexer": "ipython3",
   "version": "3.8.9"
  },
  "toc": {
   "base_numbering": 1,
   "nav_menu": {},
   "number_sections": true,
   "sideBar": true,
   "skip_h1_title": false,
   "title_cell": "Table of Contents",
   "title_sidebar": "Contents",
   "toc_cell": false,
   "toc_position": {},
   "toc_section_display": true,
   "toc_window_display": false
  }
 },
 "nbformat": 4,
 "nbformat_minor": 5
}
