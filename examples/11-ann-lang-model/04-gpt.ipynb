{
 "cells": [
  {
   "cell_type": "markdown",
   "id": "fd386f23",
   "metadata": {},
   "source": [
    "__Нейросетевая языковая модель GPT__ \n",
    "\n",
    "Евгений Борисов <esborisov@sevsu.ru>\n",
    "\n",
    "генератор текста"
   ]
  },
  {
   "cell_type": "markdown",
   "id": "982a1147",
   "metadata": {},
   "source": [
    "https://github.com/sberbank-ai/ru-gpts\n",
    "\n",
    "https://pythonrepo.com/repo/sberbank-ai-ru-gpts-python-natural-language-processing"
   ]
  },
  {
   "cell_type": "code",
   "execution_count": 3,
   "id": "a03a91ec",
   "metadata": {},
   "outputs": [],
   "source": [
    "# !pip install transformers"
   ]
  },
  {
   "cell_type": "code",
   "execution_count": 2,
   "id": "6c8e65ca",
   "metadata": {},
   "outputs": [],
   "source": [
    "from transformers import GPT2LMHeadModel, GPT2Tokenizer"
   ]
  },
  {
   "cell_type": "code",
   "execution_count": 5,
   "id": "9ea4181b",
   "metadata": {},
   "outputs": [],
   "source": [
    "# https://huggingface.co/sberbank-ai"
   ]
  },
  {
   "cell_type": "code",
   "execution_count": null,
   "id": "e4c17d2f",
   "metadata": {},
   "outputs": [],
   "source": [
    "# ~1GB\n",
    "\n",
    "# Git Large File Storage\n",
    "# !pacman -Ss git-lfs\n",
    "\n",
    "# !git clone https://huggingface.co/sberbank-ai/rugpt3small_based_on_gpt2\n",
    "\n",
    "# !cd rugpt3small_based_on_gpt2 && git lfs install\n",
    "# !cd rugpt3small_based_on_gpt2 && git lfs pull"
   ]
  },
  {
   "cell_type": "code",
   "execution_count": 6,
   "id": "410e543b",
   "metadata": {},
   "outputs": [],
   "source": [
    "model_name_or_path = \"sberbank-ai/rugpt3small_based_on_gpt2\"\n",
    "\n",
    "tokenizer = GPT2Tokenizer.from_pretrained(model_name_or_path)\n",
    "model = GPT2LMHeadModel.from_pretrained(model_name_or_path).cuda()"
   ]
  },
  {
   "cell_type": "code",
   "execution_count": 13,
   "id": "b2a92a1a",
   "metadata": {},
   "outputs": [
    {
     "name": "stderr",
     "output_type": "stream",
     "text": [
      "Setting `pad_token_id` to `eos_token_id`:50256 for open-end generation.\n"
     ]
    },
    {
     "name": "stdout",
     "output_type": "stream",
     "text": [
      "Его отец был крепостным крестьянином, а мать — крестьянкой.  В 17 лет он поступил\n"
     ]
    }
   ],
   "source": [
    "# text = \"Александр Сергеевич Пушкин родился в\"\n",
    "text = \"Его отец был крепостным крестьянином, а мать\"\n",
    "\n",
    "input_ids = tokenizer.encode(text, return_tensors=\"pt\").cuda()\n",
    "out = model.generate(input_ids.cuda())\n",
    "generated_text = list(map(tokenizer.decode, out))[0]\n",
    "print(generated_text)"
   ]
  },
  {
   "cell_type": "code",
   "execution_count": null,
   "id": "7254a6ae",
   "metadata": {},
   "outputs": [],
   "source": []
  }
 ],
 "metadata": {
  "kernelspec": {
   "display_name": "Python 3 (ipykernel)",
   "language": "python",
   "name": "python3"
  },
  "language_info": {
   "codemirror_mode": {
    "name": "ipython",
    "version": 3
   },
   "file_extension": ".py",
   "mimetype": "text/x-python",
   "name": "python",
   "nbconvert_exporter": "python",
   "pygments_lexer": "ipython3",
   "version": "3.8.9"
  },
  "toc": {
   "base_numbering": 1,
   "nav_menu": {},
   "number_sections": true,
   "sideBar": true,
   "skip_h1_title": false,
   "title_cell": "Table of Contents",
   "title_sidebar": "Contents",
   "toc_cell": false,
   "toc_position": {},
   "toc_section_display": true,
   "toc_window_display": false
  }
 },
 "nbformat": 4,
 "nbformat_minor": 5
}
