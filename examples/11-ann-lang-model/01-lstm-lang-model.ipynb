{
 "cells": [
  {
   "cell_type": "markdown",
   "id": "9095d55d",
   "metadata": {},
   "source": [
    "__Нейросетевая языковая модель на основе LSTM__ \n",
    "\n",
    "Евгений Борисов <esborisov@sevsu.ru>"
   ]
  },
  {
   "cell_type": "markdown",
   "id": "8ae74890",
   "metadata": {},
   "source": [
    "Shivam Bansal   \n",
    "Language Modelling and Text Generation using LSTMs — Deep Learning for NLP.    \n",
    "Mar 26, 2018\n",
    "\n",
    "https://medium.com/@shivambansal36/language-modelling-text-generation-using-lstms-deep-learning-for-nlp-ed36b224b275"
   ]
  },
  {
   "cell_type": "code",
   "execution_count": 1,
   "id": "a82d840d",
   "metadata": {},
   "outputs": [
    {
     "name": "stdout",
     "output_type": "stream",
     "text": [
      "465595\n"
     ]
    }
   ],
   "source": [
    "# загружаем текст\n",
    "import gzip\n",
    "with gzip.open('../data/dostoevsky-besy-p2.txt.gz','rt',encoding='utf-8') as f: data = f.read()     \n",
    "print(len(data))"
   ]
  },
  {
   "cell_type": "code",
   "execution_count": 2,
   "id": "a5574b3e",
   "metadata": {},
   "outputs": [],
   "source": [
    "# print(data[:1024*100])"
   ]
  },
  {
   "cell_type": "code",
   "execution_count": 3,
   "id": "34947f5f",
   "metadata": {},
   "outputs": [
    {
     "data": {
      "text/plain": [
       "5495"
      ]
     },
     "execution_count": 3,
     "metadata": {},
     "output_type": "execute_result"
    }
   ],
   "source": [
    "from nltk.tokenize import sent_tokenize as nltk_sentence_split\n",
    "from nltk.tokenize import word_tokenize as nltk_tokenize_word\n",
    "\n",
    "EOS = '<EOS>'\n",
    "PAD = '<UNK>'\n",
    "\n",
    "text = [ \n",
    "    nltk_tokenize_word(s,language='russian')+[EOS] # разбиваем предложения на слова\n",
    "    for s in nltk_sentence_split(data,language='russian') # режем текст на отдельные предложения\n",
    "]\n",
    "\n",
    "del data\n",
    "\n",
    "len(text)"
   ]
  },
  {
   "cell_type": "code",
   "execution_count": 4,
   "id": "a6b08a28",
   "metadata": {},
   "outputs": [],
   "source": [
    "text = text[1:1024*4]\n",
    "# text"
   ]
  },
  {
   "cell_type": "code",
   "execution_count": 5,
   "id": "057820ba",
   "metadata": {},
   "outputs": [
    {
     "data": {
      "text/plain": [
       "13585"
      ]
     },
     "execution_count": 5,
     "metadata": {},
     "output_type": "execute_result"
    }
   ],
   "source": [
    "import itertools\n",
    "\n",
    "words = sorted( set(itertools.chain(*text)) - set([PAD,EOS]) )\n",
    "word2index = { w:i+2 for i,w in enumerate(words) }\n",
    "del words\n",
    "\n",
    "word2index[PAD]=0\n",
    "word2index[EOS]=1\n",
    "\n",
    "index2word = { i:w for  w,i in word2index.items() }\n",
    "\n",
    "total_words = len(word2index)\n",
    "\n",
    "total_words"
   ]
  },
  {
   "cell_type": "code",
   "execution_count": 6,
   "id": "a0367473",
   "metadata": {},
   "outputs": [],
   "source": [
    "# word2index[EOS]"
   ]
  },
  {
   "cell_type": "code",
   "execution_count": 7,
   "id": "d2eb0938",
   "metadata": {},
   "outputs": [
    {
     "data": {
      "text/plain": [
       "(64655, 17)"
      ]
     },
     "execution_count": 7,
     "metadata": {},
     "output_type": "execute_result"
    }
   ],
   "source": [
    "import numpy as np\n",
    "from keras.preprocessing.sequence import pad_sequences\n",
    "\n",
    "min_seq_len = 3\n",
    "max_seq_len = 17\n",
    "\n",
    "n_grams = [\n",
    "   [ word2index[token] for token in sentence[:i+min_seq_len][-max_seq_len:] ]\n",
    "   for sentence in text\n",
    "   for i in range(len(sentence)-min_seq_len+1)\n",
    "]\n",
    "\n",
    "sequences = np.array(pad_sequences(n_grams, maxlen=max_seq_len, padding='pre'))\n",
    "\n",
    "del n_grams\n",
    "\n",
    "sequences.shape"
   ]
  },
  {
   "cell_type": "code",
   "execution_count": 8,
   "id": "bf3ddaa7",
   "metadata": {},
   "outputs": [],
   "source": [
    "import keras.utils as ku \n",
    "\n",
    "inputs = sequences[:,:-1]\n",
    "targets = sequences[:,-1]\n",
    "\n",
    "del sequences\n",
    "\n",
    "targets = ku.np_utils.to_categorical(targets, num_classes=total_words)"
   ]
  },
  {
   "cell_type": "code",
   "execution_count": 9,
   "id": "7f60539f",
   "metadata": {},
   "outputs": [
    {
     "data": {
      "text/plain": [
       "((64655, 16), dtype('int32'), (64655, 13585), dtype('float32'))"
      ]
     },
     "execution_count": 9,
     "metadata": {},
     "output_type": "execute_result"
    }
   ],
   "source": [
    "inputs.shape, inputs.dtype, targets.shape, targets.dtype"
   ]
  },
  {
   "cell_type": "code",
   "execution_count": 10,
   "id": "aa042199",
   "metadata": {},
   "outputs": [
    {
     "name": "stderr",
     "output_type": "stream",
     "text": [
      "2022-03-23 00:30:44.428068: I tensorflow/stream_executor/cuda/cuda_gpu_executor.cc:936] successful NUMA node read from SysFS had negative value (-1), but there must be at least one NUMA node, so returning NUMA node zero\n",
      "2022-03-23 00:30:44.485620: I tensorflow/stream_executor/cuda/cuda_gpu_executor.cc:936] successful NUMA node read from SysFS had negative value (-1), but there must be at least one NUMA node, so returning NUMA node zero\n",
      "2022-03-23 00:30:44.485826: I tensorflow/stream_executor/cuda/cuda_gpu_executor.cc:936] successful NUMA node read from SysFS had negative value (-1), but there must be at least one NUMA node, so returning NUMA node zero\n",
      "2022-03-23 00:30:44.486322: I tensorflow/core/platform/cpu_feature_guard.cc:151] This TensorFlow binary is optimized with oneAPI Deep Neural Network Library (oneDNN) to use the following CPU instructions in performance-critical operations:  AVX2 FMA\n",
      "To enable them in other operations, rebuild TensorFlow with the appropriate compiler flags.\n",
      "2022-03-23 00:30:44.486567: I tensorflow/stream_executor/cuda/cuda_gpu_executor.cc:936] successful NUMA node read from SysFS had negative value (-1), but there must be at least one NUMA node, so returning NUMA node zero\n",
      "2022-03-23 00:30:44.486721: I tensorflow/stream_executor/cuda/cuda_gpu_executor.cc:936] successful NUMA node read from SysFS had negative value (-1), but there must be at least one NUMA node, so returning NUMA node zero\n",
      "2022-03-23 00:30:44.486857: I tensorflow/stream_executor/cuda/cuda_gpu_executor.cc:936] successful NUMA node read from SysFS had negative value (-1), but there must be at least one NUMA node, so returning NUMA node zero\n",
      "2022-03-23 00:30:44.846665: I tensorflow/stream_executor/cuda/cuda_gpu_executor.cc:936] successful NUMA node read from SysFS had negative value (-1), but there must be at least one NUMA node, so returning NUMA node zero\n",
      "2022-03-23 00:30:44.846866: I tensorflow/stream_executor/cuda/cuda_gpu_executor.cc:936] successful NUMA node read from SysFS had negative value (-1), but there must be at least one NUMA node, so returning NUMA node zero\n",
      "2022-03-23 00:30:44.847021: I tensorflow/stream_executor/cuda/cuda_gpu_executor.cc:936] successful NUMA node read from SysFS had negative value (-1), but there must be at least one NUMA node, so returning NUMA node zero\n",
      "2022-03-23 00:30:44.847129: I tensorflow/core/common_runtime/gpu/gpu_device.cc:1525] Created device /job:localhost/replica:0/task:0/device:GPU:0 with 5369 MB memory:  -> device: 0, name: NVIDIA GeForce GTX 1060 6GB, pci bus id: 0000:01:00.0, compute capability: 6.1\n"
     ]
    }
   ],
   "source": [
    "import tensorflow as tf \n",
    "\n",
    "from keras.models import Sequential\n",
    "from keras.layers import Embedding\n",
    "from keras.layers import LSTM\n",
    "from keras.layers import Dense\n",
    "# from keras.layers import Dropout\n",
    "    \n",
    "model = Sequential()\n",
    "model.add(Embedding(total_words, 256, input_length=inputs.shape[1]))\n",
    "model.add(LSTM(128, return_sequences = True))\n",
    "# model.add(Dropout(0.2))\n",
    "model.add(LSTM(96))\n",
    "model.add(Dense(targets.shape[1], activation='softmax'))\n",
    "\n",
    "model.compile(\n",
    "    loss='categorical_crossentropy', \n",
    "#     optimizer=tf.optimizers.Adam(learning_rate=1e-4,),\n",
    "    optimizer='adam',\n",
    "    metrics=['accuracy']\n",
    ")"
   ]
  },
  {
   "cell_type": "code",
   "execution_count": 11,
   "id": "503780da",
   "metadata": {},
   "outputs": [
    {
     "name": "stdout",
     "output_type": "stream",
     "text": [
      "Model: \"sequential\"\n",
      "_________________________________________________________________\n",
      " Layer (type)                Output Shape              Param #   \n",
      "=================================================================\n",
      " embedding (Embedding)       (None, 16, 256)           3477760   \n",
      "                                                                 \n",
      " lstm (LSTM)                 (None, 16, 128)           197120    \n",
      "                                                                 \n",
      " lstm_1 (LSTM)               (None, 96)                86400     \n",
      "                                                                 \n",
      " dense (Dense)               (None, 13585)             1317745   \n",
      "                                                                 \n",
      "=================================================================\n",
      "Total params: 5,079,025\n",
      "Trainable params: 5,079,025\n",
      "Non-trainable params: 0\n",
      "_________________________________________________________________\n"
     ]
    }
   ],
   "source": [
    "# from tensorflow.keras.utils import plot_model\n",
    "# plot_model(model,to_file='cnn.png', show_layer_names=True, show_shapes=True )\n",
    "model.summary()"
   ]
  },
  {
   "cell_type": "code",
   "execution_count": 12,
   "id": "eaadb5ef",
   "metadata": {},
   "outputs": [],
   "source": [
    "# targets.sum(axis=0).astype(int)"
   ]
  },
  {
   "cell_type": "code",
   "execution_count": 13,
   "id": "7f2f0192",
   "metadata": {},
   "outputs": [],
   "source": [
    "# from keras.callbacks import EarlyStopping\n",
    "# callbacks = [ EarlyStopping(monitor='val_loss', min_delta=0, patience=5, verbose=0, mode='auto'), ]"
   ]
  },
  {
   "cell_type": "code",
   "execution_count": 14,
   "id": "44be98c5",
   "metadata": {},
   "outputs": [
    {
     "name": "stderr",
     "output_type": "stream",
     "text": [
      "2022-03-23 00:30:45.489775: W tensorflow/core/framework/cpu_allocator_impl.cc:82] Allocation of 3513352700 exceeds 10% of free system memory.\n",
      "2022-03-23 00:30:47.721302: W tensorflow/core/framework/cpu_allocator_impl.cc:82] Allocation of 3513352700 exceeds 10% of free system memory.\n"
     ]
    },
    {
     "name": "stdout",
     "output_type": "stream",
     "text": [
      "Epoch 1/100\n",
      "   1/2021 [..............................] - ETA: 1:18:51 - loss: 9.5169 - accuracy: 0.0000e+00"
     ]
    },
    {
     "name": "stderr",
     "output_type": "stream",
     "text": [
      "2022-03-23 00:30:51.212853: I tensorflow/stream_executor/cuda/cuda_dnn.cc:368] Loaded cuDNN version 8300\n"
     ]
    },
    {
     "name": "stdout",
     "output_type": "stream",
     "text": [
      "2021/2021 [==============================] - 27s 12ms/step - loss: 6.7816 - accuracy: 0.1594\n",
      "Epoch 2/100\n",
      "2021/2021 [==============================] - 25s 12ms/step - loss: 6.1201 - accuracy: 0.1802\n",
      "Epoch 3/100\n",
      "2021/2021 [==============================] - 24s 12ms/step - loss: 5.8143 - accuracy: 0.1843\n",
      "Epoch 4/100\n",
      "2021/2021 [==============================] - 23s 11ms/step - loss: 5.5520 - accuracy: 0.1999\n",
      "Epoch 5/100\n",
      "2021/2021 [==============================] - 22s 11ms/step - loss: 5.3200 - accuracy: 0.2129\n",
      "Epoch 6/100\n",
      "2021/2021 [==============================] - 22s 11ms/step - loss: 5.0970 - accuracy: 0.2264\n",
      "Epoch 7/100\n",
      "2021/2021 [==============================] - 22s 11ms/step - loss: 4.8785 - accuracy: 0.2428\n",
      "Epoch 8/100\n",
      "2021/2021 [==============================] - 22s 11ms/step - loss: 4.6658 - accuracy: 0.2556\n",
      "Epoch 9/100\n",
      "2021/2021 [==============================] - 22s 11ms/step - loss: 4.4589 - accuracy: 0.2655\n",
      "Epoch 10/100\n",
      "2021/2021 [==============================] - 22s 11ms/step - loss: 4.2575 - accuracy: 0.2774\n",
      "Epoch 11/100\n",
      "2021/2021 [==============================] - 23s 11ms/step - loss: 4.0579 - accuracy: 0.2892\n",
      "Epoch 12/100\n",
      "2021/2021 [==============================] - 23s 11ms/step - loss: 3.8539 - accuracy: 0.3034\n",
      "Epoch 13/100\n",
      "2021/2021 [==============================] - 23s 11ms/step - loss: 3.6511 - accuracy: 0.3182\n",
      "Epoch 14/100\n",
      "2021/2021 [==============================] - 23s 11ms/step - loss: 3.4556 - accuracy: 0.3397\n",
      "Epoch 15/100\n",
      "2021/2021 [==============================] - 23s 11ms/step - loss: 3.2623 - accuracy: 0.3648\n",
      "Epoch 16/100\n",
      "2021/2021 [==============================] - 22s 11ms/step - loss: 3.0797 - accuracy: 0.3915\n",
      "Epoch 17/100\n",
      "2021/2021 [==============================] - 23s 11ms/step - loss: 2.9040 - accuracy: 0.4223\n",
      "Epoch 18/100\n",
      "2021/2021 [==============================] - 23s 11ms/step - loss: 2.7426 - accuracy: 0.4505\n",
      "Epoch 19/100\n",
      "2021/2021 [==============================] - 23s 11ms/step - loss: 2.5901 - accuracy: 0.4784\n",
      "Epoch 20/100\n",
      "2021/2021 [==============================] - 23s 11ms/step - loss: 2.4497 - accuracy: 0.5056\n",
      "Epoch 21/100\n",
      "2021/2021 [==============================] - 22s 11ms/step - loss: 2.3172 - accuracy: 0.5266\n",
      "Epoch 22/100\n",
      "2021/2021 [==============================] - 23s 11ms/step - loss: 2.1949 - accuracy: 0.5514\n",
      "Epoch 23/100\n",
      "2021/2021 [==============================] - 23s 11ms/step - loss: 2.0782 - accuracy: 0.5731\n",
      "Epoch 24/100\n",
      "2021/2021 [==============================] - 23s 11ms/step - loss: 1.9727 - accuracy: 0.5921\n",
      "Epoch 25/100\n",
      "2021/2021 [==============================] - 23s 11ms/step - loss: 1.8715 - accuracy: 0.6116\n",
      "Epoch 26/100\n",
      "2021/2021 [==============================] - 23s 11ms/step - loss: 1.7771 - accuracy: 0.6300\n",
      "Epoch 27/100\n",
      "2021/2021 [==============================] - 23s 11ms/step - loss: 1.6885 - accuracy: 0.6477\n",
      "Epoch 28/100\n",
      "2021/2021 [==============================] - 23s 11ms/step - loss: 1.6067 - accuracy: 0.6637\n",
      "Epoch 29/100\n",
      "2021/2021 [==============================] - 22s 11ms/step - loss: 1.5278 - accuracy: 0.6798\n",
      "Epoch 30/100\n",
      "2021/2021 [==============================] - 23s 11ms/step - loss: 1.4521 - accuracy: 0.6954\n",
      "Epoch 31/100\n",
      "2021/2021 [==============================] - 23s 11ms/step - loss: 1.3817 - accuracy: 0.7083\n",
      "Epoch 32/100\n",
      "2021/2021 [==============================] - 24s 12ms/step - loss: 1.3157 - accuracy: 0.7225\n",
      "Epoch 33/100\n",
      "2021/2021 [==============================] - 24s 12ms/step - loss: 1.2533 - accuracy: 0.7341\n",
      "Epoch 34/100\n",
      "2021/2021 [==============================] - 24s 12ms/step - loss: 1.1926 - accuracy: 0.7461\n",
      "Epoch 35/100\n",
      "2021/2021 [==============================] - 24s 12ms/step - loss: 1.1377 - accuracy: 0.7573\n",
      "Epoch 36/100\n",
      "2021/2021 [==============================] - 24s 12ms/step - loss: 1.0855 - accuracy: 0.7684\n",
      "Epoch 37/100\n",
      "2021/2021 [==============================] - 24s 12ms/step - loss: 1.0325 - accuracy: 0.7793\n",
      "Epoch 38/100\n",
      "2021/2021 [==============================] - 24s 12ms/step - loss: 0.9836 - accuracy: 0.7907\n",
      "Epoch 39/100\n",
      "2021/2021 [==============================] - 24s 12ms/step - loss: 0.9391 - accuracy: 0.7987\n",
      "Epoch 40/100\n",
      "2021/2021 [==============================] - 22s 11ms/step - loss: 0.8993 - accuracy: 0.8077\n",
      "Epoch 41/100\n",
      "2021/2021 [==============================] - 22s 11ms/step - loss: 0.8555 - accuracy: 0.8171\n",
      "Epoch 42/100\n",
      "2021/2021 [==============================] - 23s 12ms/step - loss: 0.8197 - accuracy: 0.8221\n",
      "Epoch 43/100\n",
      "2021/2021 [==============================] - 22s 11ms/step - loss: 0.7836 - accuracy: 0.8318\n",
      "Epoch 44/100\n",
      "2021/2021 [==============================] - 22s 11ms/step - loss: 0.7489 - accuracy: 0.8383\n",
      "Epoch 45/100\n",
      "2021/2021 [==============================] - 23s 11ms/step - loss: 0.7137 - accuracy: 0.8460\n",
      "Epoch 46/100\n",
      "2021/2021 [==============================] - 23s 11ms/step - loss: 0.6856 - accuracy: 0.8522\n",
      "Epoch 47/100\n",
      "2021/2021 [==============================] - 22s 11ms/step - loss: 0.6551 - accuracy: 0.8582\n",
      "Epoch 48/100\n",
      "2021/2021 [==============================] - 23s 11ms/step - loss: 0.6279 - accuracy: 0.8634\n",
      "Epoch 49/100\n",
      "2021/2021 [==============================] - 23s 11ms/step - loss: 0.6020 - accuracy: 0.8697\n",
      "Epoch 50/100\n",
      "2021/2021 [==============================] - 23s 11ms/step - loss: 0.5809 - accuracy: 0.8733\n",
      "Epoch 51/100\n",
      "2021/2021 [==============================] - 23s 11ms/step - loss: 0.5524 - accuracy: 0.8803\n",
      "Epoch 52/100\n",
      "2021/2021 [==============================] - 22s 11ms/step - loss: 0.5322 - accuracy: 0.8825\n",
      "Epoch 53/100\n",
      "2021/2021 [==============================] - 23s 11ms/step - loss: 0.5117 - accuracy: 0.8874\n",
      "Epoch 54/100\n",
      "2021/2021 [==============================] - 23s 11ms/step - loss: 0.4926 - accuracy: 0.8916\n",
      "Epoch 55/100\n",
      "2021/2021 [==============================] - 23s 11ms/step - loss: 0.4718 - accuracy: 0.8959\n",
      "Epoch 56/100\n",
      "2021/2021 [==============================] - 23s 11ms/step - loss: 0.4531 - accuracy: 0.9012\n",
      "Epoch 57/100\n",
      "2021/2021 [==============================] - 23s 11ms/step - loss: 0.4371 - accuracy: 0.9041\n",
      "Epoch 58/100\n",
      "2021/2021 [==============================] - 22s 11ms/step - loss: 0.4215 - accuracy: 0.9075\n",
      "Epoch 59/100\n",
      "2021/2021 [==============================] - 22s 11ms/step - loss: 0.4098 - accuracy: 0.9101\n",
      "Epoch 60/100\n",
      "2021/2021 [==============================] - 22s 11ms/step - loss: 0.3929 - accuracy: 0.9138\n",
      "Epoch 61/100\n",
      "2021/2021 [==============================] - 22s 11ms/step - loss: 0.3793 - accuracy: 0.9156\n",
      "Epoch 62/100\n",
      "2021/2021 [==============================] - 22s 11ms/step - loss: 0.3685 - accuracy: 0.9175\n",
      "Epoch 63/100\n",
      "2021/2021 [==============================] - 23s 11ms/step - loss: 0.3540 - accuracy: 0.9209\n",
      "Epoch 64/100\n",
      "2021/2021 [==============================] - 22s 11ms/step - loss: 0.3423 - accuracy: 0.9237\n",
      "Epoch 65/100\n",
      "2021/2021 [==============================] - 22s 11ms/step - loss: 0.3324 - accuracy: 0.9253\n",
      "Epoch 66/100\n",
      "2021/2021 [==============================] - 22s 11ms/step - loss: 0.3251 - accuracy: 0.9267\n",
      "Epoch 67/100\n",
      "2021/2021 [==============================] - 23s 11ms/step - loss: 0.3114 - accuracy: 0.9296\n",
      "Epoch 68/100\n",
      "2021/2021 [==============================] - 23s 11ms/step - loss: 0.3028 - accuracy: 0.9318\n",
      "Epoch 69/100\n",
      "2021/2021 [==============================] - 23s 11ms/step - loss: 0.2953 - accuracy: 0.9336\n",
      "Epoch 70/100\n",
      "2021/2021 [==============================] - 23s 11ms/step - loss: 0.2855 - accuracy: 0.9346\n",
      "Epoch 71/100\n",
      "2021/2021 [==============================] - 23s 11ms/step - loss: 0.2788 - accuracy: 0.9368\n",
      "Epoch 72/100\n",
      "2021/2021 [==============================] - 23s 11ms/step - loss: 0.2734 - accuracy: 0.9372\n",
      "Epoch 73/100\n",
      "2021/2021 [==============================] - 23s 11ms/step - loss: 0.2672 - accuracy: 0.9385\n",
      "Epoch 74/100\n",
      "2021/2021 [==============================] - 23s 11ms/step - loss: 0.2593 - accuracy: 0.9402\n",
      "Epoch 75/100\n",
      "2021/2021 [==============================] - 23s 11ms/step - loss: 0.2491 - accuracy: 0.9423\n",
      "Epoch 76/100\n",
      "2021/2021 [==============================] - 23s 11ms/step - loss: 0.2453 - accuracy: 0.9427\n",
      "Epoch 77/100\n",
      "2021/2021 [==============================] - 23s 11ms/step - loss: 0.2396 - accuracy: 0.9444\n",
      "Epoch 78/100\n"
     ]
    },
    {
     "name": "stdout",
     "output_type": "stream",
     "text": [
      "2021/2021 [==============================] - 23s 11ms/step - loss: 0.2352 - accuracy: 0.9448\n",
      "Epoch 79/100\n",
      "2021/2021 [==============================] - 23s 11ms/step - loss: 0.2314 - accuracy: 0.9454\n",
      "Epoch 80/100\n",
      "2021/2021 [==============================] - 24s 12ms/step - loss: 0.2267 - accuracy: 0.9459\n",
      "Epoch 81/100\n",
      "2021/2021 [==============================] - 24s 12ms/step - loss: 0.2216 - accuracy: 0.9473\n",
      "Epoch 82/100\n",
      "2021/2021 [==============================] - 24s 12ms/step - loss: 0.2153 - accuracy: 0.9499\n",
      "Epoch 83/100\n",
      "2021/2021 [==============================] - 24s 12ms/step - loss: 0.2138 - accuracy: 0.9492\n",
      "Epoch 84/100\n",
      "2021/2021 [==============================] - 23s 11ms/step - loss: 0.2089 - accuracy: 0.9506\n",
      "Epoch 85/100\n",
      "2021/2021 [==============================] - 23s 11ms/step - loss: 0.2053 - accuracy: 0.9501\n",
      "Epoch 86/100\n",
      "2021/2021 [==============================] - 23s 11ms/step - loss: 0.2028 - accuracy: 0.9505\n",
      "Epoch 87/100\n",
      "2021/2021 [==============================] - 23s 11ms/step - loss: 0.1951 - accuracy: 0.9529\n",
      "Epoch 88/100\n",
      "2021/2021 [==============================] - 23s 11ms/step - loss: 0.1957 - accuracy: 0.9518\n",
      "Epoch 89/100\n",
      "2021/2021 [==============================] - 23s 11ms/step - loss: 0.1967 - accuracy: 0.9525\n",
      "Epoch 90/100\n",
      "2021/2021 [==============================] - 23s 11ms/step - loss: 0.1852 - accuracy: 0.9542\n",
      "Epoch 91/100\n",
      "2021/2021 [==============================] - 23s 11ms/step - loss: 0.1868 - accuracy: 0.9536\n",
      "Epoch 92/100\n",
      "2021/2021 [==============================] - 22s 11ms/step - loss: 0.1798 - accuracy: 0.9553\n",
      "Epoch 93/100\n",
      "2021/2021 [==============================] - 22s 11ms/step - loss: 0.1831 - accuracy: 0.9543\n",
      "Epoch 94/100\n",
      "2021/2021 [==============================] - 23s 11ms/step - loss: 0.1775 - accuracy: 0.9557\n",
      "Epoch 95/100\n",
      "2021/2021 [==============================] - 23s 11ms/step - loss: 0.1780 - accuracy: 0.9553\n",
      "Epoch 96/100\n",
      "2021/2021 [==============================] - 23s 11ms/step - loss: 0.1789 - accuracy: 0.9548\n",
      "Epoch 97/100\n",
      "2021/2021 [==============================] - 23s 11ms/step - loss: 0.1695 - accuracy: 0.9568\n",
      "Epoch 98/100\n",
      "2021/2021 [==============================] - 23s 11ms/step - loss: 0.1683 - accuracy: 0.9573\n",
      "Epoch 99/100\n",
      "2021/2021 [==============================] - 23s 11ms/step - loss: 0.1708 - accuracy: 0.9562\n",
      "Epoch 100/100\n",
      "2021/2021 [==============================] - 23s 11ms/step - loss: 0.1683 - accuracy: 0.9563\n",
      "CPU times: user 46min 17s, sys: 3min 3s, total: 49min 21s\n",
      "Wall time: 38min 19s\n"
     ]
    }
   ],
   "source": [
    "%%time \n",
    "\n",
    "epochs = 100\n",
    "\n",
    "history = model.fit( \n",
    "    inputs,\n",
    "    targets, \n",
    "    epochs=epochs, \n",
    "    verbose=1,\n",
    "    # callbacks=callbacks,\n",
    "    # validation_split=.1,\n",
    ")\n",
    "\n",
    "# 1min 30s"
   ]
  },
  {
   "cell_type": "code",
   "execution_count": 15,
   "id": "085873c1",
   "metadata": {},
   "outputs": [
    {
     "name": "stdout",
     "output_type": "stream",
     "text": [
      "dict_keys(['loss', 'accuracy'])\n"
     ]
    }
   ],
   "source": [
    "# score = model.evaluate(x_test, y_test, verbose=False)\n",
    "# print('Test accuracy:', score[1])\n",
    "\n",
    "print( history.history.keys() )"
   ]
  },
  {
   "cell_type": "code",
   "execution_count": 16,
   "id": "7165ef46",
   "metadata": {},
   "outputs": [
    {
     "data": {
      "image/png": "[encoded data removed]",
      "text/plain": [
       "<Figure size 432x288 with 1 Axes>"
      ]
     },
     "metadata": {
      "needs_background": "light"
     },
     "output_type": "display_data"
    }
   ],
   "source": [
    "from matplotlib import pyplot as plt\n",
    "\n",
    "loss = history.history['loss']\n",
    "# val_loss = history.history['val_loss']\n",
    "\n",
    "epochs = range(1, len(loss) + 1)\n",
    "\n",
    "plt.plot(epochs, loss, 'b', label='Training loss')\n",
    "# plt.plot(epochs, val_loss, 'r', label='Validation loss')\n",
    "# plt.title('Training and validation loss')\n",
    "plt.title('Training loss')\n",
    "plt.xlabel('Epochs')\n",
    "plt.ylabel('Loss')\n",
    "plt.legend()\n",
    "plt.grid()\n",
    "\n",
    "plt.show()"
   ]
  },
  {
   "cell_type": "code",
   "execution_count": 17,
   "id": "58651922",
   "metadata": {},
   "outputs": [],
   "source": [
    "# plt.clf()   # clear figure"
   ]
  },
  {
   "cell_type": "code",
   "execution_count": 18,
   "id": "2b673608",
   "metadata": {},
   "outputs": [
    {
     "data": {
      "image/png": "[encoded data removed]",
      "text/plain": [
       "<Figure size 432x288 with 1 Axes>"
      ]
     },
     "metadata": {
      "needs_background": "light"
     },
     "output_type": "display_data"
    }
   ],
   "source": [
    "acc = history.history['accuracy']\n",
    "# val_acc = history.history['val_accuracy']\n",
    "\n",
    "plt.plot(epochs, acc, 'b', label='Training acc')\n",
    "# plt.plot(epochs, val_acc, 'r', label='Validation acc')\n",
    "# plt.title('Training and validation accuracy')\n",
    "plt.title('Training accuracy')\n",
    "plt.xlabel('Epochs')\n",
    "plt.ylabel('Accuracy')\n",
    "plt.legend()\n",
    "plt.grid()\n",
    "\n",
    "plt.show()"
   ]
  },
  {
   "cell_type": "markdown",
   "id": "ef2a2ffb",
   "metadata": {},
   "source": [
    "-----"
   ]
  },
  {
   "cell_type": "code",
   "execution_count": 19,
   "id": "054f2f5e",
   "metadata": {},
   "outputs": [],
   "source": [
    "from random import sample\n",
    "\n",
    "def get_sample(text,min_len=max_seq_len):\n",
    "    for _ in range(100):\n",
    "        sentence = sample(text,1)[0]\n",
    "        if len(sentence)>min_len:\n",
    "            return sentence[:(min_len//2)]\n",
    "    return [PAD,]\n",
    "\n",
    "def encode_sentence(sentence,word2index=word2index,max_seq_len=max_seq_len-1):\n",
    "    return np.array(\n",
    "            pad_sequences(\n",
    "                [[ word2index[token] for token in sentence ][-max_seq_len:],], \n",
    "                maxlen=max_seq_len, \n",
    "                padding='pre',\n",
    "            )\n",
    "        )"
   ]
  },
  {
   "cell_type": "code",
   "execution_count": 23,
   "id": "8be12abf",
   "metadata": {},
   "outputs": [
    {
     "name": "stdout",
     "output_type": "stream",
     "text": [
      "Позвольте ( он взял прокламацию ) ; ну | да , топор и тут ; та самая , точнехонько . <EOS>\n",
      " -  -  -  -  -  -  -  -  -  -  -  -  -  -  -  -  -  -  -  -  -  -  -  -  -  -  -  -  -  - \n",
      "Это была их первая супружеская ссора , и | случилась она тотчас после свадьбы , в самые первые медовые дни , когда вдруг обнаружился пред нею\n",
      " -  -  -  -  -  -  -  -  -  -  -  -  -  -  -  -  -  -  -  -  -  -  -  -  -  -  -  -  -  - \n",
      "Веселым его не находили : `` человек претерпел | , человек не то что другие ; есть о чем и задуматься '' . <EOS>\n",
      " -  -  -  -  -  -  -  -  -  -  -  -  -  -  -  -  -  -  -  -  -  -  -  -  -  -  -  -  -  - \n",
      "- Однако же , позвольте заметить , что | вы меня не уважаете ; если я и не мог докончить мысль , что там будете было\n",
      " -  -  -  -  -  -  -  -  -  -  -  -  -  -  -  -  -  -  -  -  -  -  -  -  -  -  -  -  -  - \n",
      "Николай Всеволодович осмотрелся ; комната была крошечная , | низенькая ; мебель самая необходимая , стулья и диван деревянные , тоже совсем новой поделки , без\n",
      " -  -  -  -  -  -  -  -  -  -  -  -  -  -  -  -  -  -  -  -  -  -  -  -  -  -  -  -  -  - \n",
      "- То-есть , видишь ли , она хочет | назначить тебе день и место для взаимного объяснения ; остатки вашего сентиментальничанья . <EOS>\n",
      " -  -  -  -  -  -  -  -  -  -  -  -  -  -  -  -  -  -  -  -  -  -  -  -  -  -  -  -  -  - \n",
      "Ну-с , а теперь ... теперь , когда | эти дураки ... ну , когда это вышло наружу и уже у вас в руках , и\n",
      " -  -  -  -  -  -  -  -  -  -  -  -  -  -  -  -  -  -  -  -  -  -  -  -  -  -  -  -  -  - \n"
     ]
    }
   ],
   "source": [
    "for __ in range(7):\n",
    "\n",
    "    sentence0 = get_sample(text)\n",
    "    answer = []\n",
    "    sentence = sentence0.copy()\n",
    "\n",
    "    for _ in range(17):\n",
    "        sequence = encode_sentence(sentence)\n",
    "        predicted_index = np.argmax( model.predict(sequence) )\n",
    "        predicted_word = index2word[predicted_index]\n",
    "        answer.append(predicted_word)\n",
    "        if predicted_index == word2index[EOS]: break\n",
    "        sentence.append(predicted_word)\n",
    "\n",
    "    print(' '.join(sentence0)+' | ' + ' '.join(answer) )\n",
    "    print(' - '*30 )    "
   ]
  }
 ],
 "metadata": {
  "kernelspec": {
   "display_name": "Python 3 (ipykernel)",
   "language": "python",
   "name": "python3"
  },
  "language_info": {
   "codemirror_mode": {
    "name": "ipython",
    "version": 3
   },
   "file_extension": ".py",
   "mimetype": "text/x-python",
   "name": "python",
   "nbconvert_exporter": "python",
   "pygments_lexer": "ipython3",
   "version": "3.8.9"
  },
  "toc": {
   "base_numbering": 1,
   "nav_menu": {},
   "number_sections": true,
   "sideBar": true,
   "skip_h1_title": false,
   "title_cell": "Table of Contents",
   "title_sidebar": "Contents",
   "toc_cell": false,
   "toc_position": {},
   "toc_section_display": true,
   "toc_window_display": false
  }
 },
 "nbformat": 4,
 "nbformat_minor": 5
}
