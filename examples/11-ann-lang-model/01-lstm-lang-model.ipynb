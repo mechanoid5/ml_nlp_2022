{
 "cells": [
  {
   "cell_type": "markdown",
   "id": "9095d55d",
   "metadata": {},
   "source": [
    "__Нейросетевая языковая модель на основе LSTM__ \n",
    "\n",
    "Евгений Борисов <esborisov@sevsu.ru>"
   ]
  },
  {
   "cell_type": "code",
   "execution_count": 1,
   "id": "a82d840d",
   "metadata": {},
   "outputs": [
    {
     "name": "stdout",
     "output_type": "stream",
     "text": [
      "602297\n"
     ]
    }
   ],
   "source": [
    "# загружаем текст\n",
    "import gzip\n",
    "# with gzip.open('../data/dostoevsky-besy-p2.txt.gz','rt',encoding='utf-8') as f: data = f.read()     \n",
    "with gzip.open('../data/lobas-taxisty.txt.gz','rt',encoding='utf-8') as f: data = f.read()     \n",
    "print(len(data))"
   ]
  },
  {
   "cell_type": "code",
   "execution_count": 3,
   "id": "99a1033c",
   "metadata": {},
   "outputs": [
    {
     "name": "stdout",
     "output_type": "stream",
     "text": [
      "Желтые короли. Записки нью-йоркского таксиста.\n",
      "\n",
      "В.Лобас\n",
      "\n",
      "\n",
      "\n",
      "Товарищам моим - белым и черным, американцам и эмигрантам из России и Израиля, из Греции и Кореи, арабам, китайцам, полякам и всем прочим таксистам города Нью-Йорк в знак глубокого уважения к их нечеловеческому труду эту горькую книгу посвящаю...\n",
      "\n",
      "Водитель No 320718\n",
      "\n",
      "\n",
      "\"Я никогда не знал бы многое из того что я знаю, и половины чего достаточно, чтобы отравить навсегда несколько человеческих жизней, если бы мне не пришлось сделаться шофером такси...\" \n"
     ]
    }
   ],
   "source": [
    "print(data[:512])"
   ]
  },
  {
   "cell_type": "code",
   "execution_count": 4,
   "id": "a5574b3e",
   "metadata": {},
   "outputs": [],
   "source": [
    "# print(data[:1024*100])"
   ]
  },
  {
   "cell_type": "code",
   "execution_count": 5,
   "id": "34947f5f",
   "metadata": {},
   "outputs": [
    {
     "data": {
      "text/plain": [
       "6765"
      ]
     },
     "execution_count": 5,
     "metadata": {},
     "output_type": "execute_result"
    }
   ],
   "source": [
    "# выполняем токенизацию\n",
    "\n",
    "from nltk.tokenize import sent_tokenize as nltk_sentence_split\n",
    "from nltk.tokenize import word_tokenize as nltk_tokenize_word\n",
    "\n",
    "# специальные токены\n",
    "PAD = '<UNK>' # пусто\n",
    "EOS = '<EOS>' # конец предложения\n",
    "\n",
    "text = [ \n",
    "    nltk_tokenize_word(s,language='russian')+[EOS] # разбиваем предложения на слова\n",
    "    for s in nltk_sentence_split(data,language='russian') # режем текст на отдельные предложения\n",
    "]\n",
    "\n",
    "del data\n",
    "\n",
    "len(text)"
   ]
  },
  {
   "cell_type": "code",
   "execution_count": 6,
   "id": "a6b08a28",
   "metadata": {},
   "outputs": [],
   "source": [
    "# text = text[1:1024*4]\n",
    "# text"
   ]
  },
  {
   "cell_type": "code",
   "execution_count": 7,
   "id": "057820ba",
   "metadata": {},
   "outputs": [
    {
     "data": {
      "text/plain": [
       "24324"
      ]
     },
     "execution_count": 7,
     "metadata": {},
     "output_type": "execute_result"
    }
   ],
   "source": [
    "# формируем словарь \n",
    "import itertools\n",
    "\n",
    "# список токенов за исключением специальных\n",
    "words = sorted( set(itertools.chain(*text)) - set([PAD,EOS]) ) \n",
    "\n",
    "# нумеруем токены\n",
    "word2index = { w:i+2 for i,w in enumerate(words) }\n",
    "del words\n",
    "\n",
    "# нумеруем специальные токены\n",
    "word2index[PAD]=0\n",
    "word2index[EOS]=1\n",
    "\n",
    "# обратное преобразование из номера в токен\n",
    "index2word = { i:w for  w,i in word2index.items() }\n",
    "\n",
    "total_words = len(word2index) # всего токенов в словаре\n",
    "\n",
    "total_words"
   ]
  },
  {
   "cell_type": "code",
   "execution_count": 8,
   "id": "7f60539f",
   "metadata": {},
   "outputs": [
    {
     "data": {
      "text/plain": [
       "((43182, 16), dtype('int64'), (43182, 24324), dtype('float32'))"
      ]
     },
     "execution_count": 8,
     "metadata": {},
     "output_type": "execute_result"
    }
   ],
   "source": [
    "# собираем датасет [ левый контекст, слово ]\n",
    "import numpy as np\n",
    "import keras.utils as ku \n",
    "\n",
    "seq_len = 16+1 # размер левого контекста + 1 слово\n",
    "\n",
    "sequences = np.array([\n",
    "    [ word2index[token] for token in sentence[i:i+seq_len] ] # собираем токены и их левые контексты\n",
    "    for sentence in text if len(sentence)>seq_len # все предложения, которые длиннее размера контекста  \n",
    "    for i in range(len(sentence)-seq_len) # двигаем окно размера seq_len по предложению\n",
    "])\n",
    "\n",
    "# sequences.shape\n",
    "\n",
    "inputs = sequences[:,:-1] # контексты\n",
    "targets = sequences[:,-1] # целевые токены для контекстов \n",
    "\n",
    "del sequences\n",
    "\n",
    "# выполняем OHE, конвертируем номера токенов targets в векторы {0,1}\n",
    "targets = ku.np_utils.to_categorical(targets, num_classes=total_words)\n",
    "\n",
    "inputs.shape, inputs.dtype, targets.shape, targets.dtype"
   ]
  },
  {
   "cell_type": "code",
   "execution_count": 9,
   "id": "aa042199",
   "metadata": {},
   "outputs": [
    {
     "name": "stderr",
     "output_type": "stream",
     "text": [
      "2022-03-23 23:06:46.408567: I tensorflow/stream_executor/cuda/cuda_gpu_executor.cc:936] successful NUMA node read from SysFS had negative value (-1), but there must be at least one NUMA node, so returning NUMA node zero\n",
      "2022-03-23 23:06:46.475562: I tensorflow/stream_executor/cuda/cuda_gpu_executor.cc:936] successful NUMA node read from SysFS had negative value (-1), but there must be at least one NUMA node, so returning NUMA node zero\n",
      "2022-03-23 23:06:46.475752: I tensorflow/stream_executor/cuda/cuda_gpu_executor.cc:936] successful NUMA node read from SysFS had negative value (-1), but there must be at least one NUMA node, so returning NUMA node zero\n",
      "2022-03-23 23:06:46.476152: I tensorflow/core/platform/cpu_feature_guard.cc:151] This TensorFlow binary is optimized with oneAPI Deep Neural Network Library (oneDNN) to use the following CPU instructions in performance-critical operations:  AVX2 FMA\n",
      "To enable them in other operations, rebuild TensorFlow with the appropriate compiler flags.\n",
      "2022-03-23 23:06:46.476456: I tensorflow/stream_executor/cuda/cuda_gpu_executor.cc:936] successful NUMA node read from SysFS had negative value (-1), but there must be at least one NUMA node, so returning NUMA node zero\n",
      "2022-03-23 23:06:46.476641: I tensorflow/stream_executor/cuda/cuda_gpu_executor.cc:936] successful NUMA node read from SysFS had negative value (-1), but there must be at least one NUMA node, so returning NUMA node zero\n",
      "2022-03-23 23:06:46.476779: I tensorflow/stream_executor/cuda/cuda_gpu_executor.cc:936] successful NUMA node read from SysFS had negative value (-1), but there must be at least one NUMA node, so returning NUMA node zero\n",
      "2022-03-23 23:06:46.846074: I tensorflow/stream_executor/cuda/cuda_gpu_executor.cc:936] successful NUMA node read from SysFS had negative value (-1), but there must be at least one NUMA node, so returning NUMA node zero\n",
      "2022-03-23 23:06:46.846249: I tensorflow/stream_executor/cuda/cuda_gpu_executor.cc:936] successful NUMA node read from SysFS had negative value (-1), but there must be at least one NUMA node, so returning NUMA node zero\n",
      "2022-03-23 23:06:46.846375: I tensorflow/stream_executor/cuda/cuda_gpu_executor.cc:936] successful NUMA node read from SysFS had negative value (-1), but there must be at least one NUMA node, so returning NUMA node zero\n",
      "2022-03-23 23:06:46.846510: I tensorflow/core/common_runtime/gpu/gpu_device.cc:1525] Created device /job:localhost/replica:0/task:0/device:GPU:0 with 5369 MB memory:  -> device: 0, name: NVIDIA GeForce GTX 1060 6GB, pci bus id: 0000:01:00.0, compute capability: 6.1\n"
     ]
    }
   ],
   "source": [
    "# собираем языковую модель\n",
    "\n",
    "from keras.models import Sequential\n",
    "from keras.layers import Embedding\n",
    "from keras.layers import LSTM\n",
    "from keras.layers import Dense\n",
    "    \n",
    "model = Sequential()\n",
    "model.add(Embedding(total_words, 128, input_length=inputs.shape[1]))\n",
    "model.add(LSTM(1024))\n",
    "# model.add(LSTM(128,return_sequences=True))\n",
    "# model.add(LSTM(128))\n",
    "model.add(Dense(targets.shape[1], activation='softmax'))\n",
    "\n",
    "model.compile(\n",
    "    loss='categorical_crossentropy', \n",
    "    optimizer='adam',\n",
    "    metrics=['accuracy']\n",
    ")"
   ]
  },
  {
   "cell_type": "code",
   "execution_count": 10,
   "id": "503780da",
   "metadata": {},
   "outputs": [
    {
     "name": "stdout",
     "output_type": "stream",
     "text": [
      "Model: \"sequential\"\n",
      "_________________________________________________________________\n",
      " Layer (type)                Output Shape              Param #   \n",
      "=================================================================\n",
      " embedding (Embedding)       (None, 16, 128)           3113472   \n",
      "                                                                 \n",
      " lstm (LSTM)                 (None, 1024)              4722688   \n",
      "                                                                 \n",
      " dense (Dense)               (None, 24324)             24932100  \n",
      "                                                                 \n",
      "=================================================================\n",
      "Total params: 32,768,260\n",
      "Trainable params: 32,768,260\n",
      "Non-trainable params: 0\n",
      "_________________________________________________________________\n"
     ]
    }
   ],
   "source": [
    "model.summary() # описание нейросети"
   ]
  },
  {
   "cell_type": "code",
   "execution_count": 11,
   "id": "44be98c5",
   "metadata": {},
   "outputs": [
    {
     "name": "stderr",
     "output_type": "stream",
     "text": [
      "2022-03-23 23:06:55.413153: W tensorflow/core/framework/cpu_allocator_impl.cc:82] Allocation of 4201435872 exceeds 10% of free system memory.\n",
      "2022-03-23 23:06:58.068048: W tensorflow/core/framework/cpu_allocator_impl.cc:82] Allocation of 4201435872 exceeds 10% of free system memory.\n"
     ]
    },
    {
     "name": "stdout",
     "output_type": "stream",
     "text": [
      "Epoch 1/10\n",
      "   3/1350 [..............................] - ETA: 36s - loss: 10.0982 - accuracy: 0.0208      "
     ]
    },
    {
     "name": "stderr",
     "output_type": "stream",
     "text": [
      "2022-03-23 23:07:01.008659: I tensorflow/stream_executor/cuda/cuda_dnn.cc:368] Loaded cuDNN version 8300\n"
     ]
    },
    {
     "name": "stdout",
     "output_type": "stream",
     "text": [
      "1350/1350 [==============================] - 42s 30ms/step - loss: 7.5303 - accuracy: 0.1049\n",
      "Epoch 2/10\n",
      "1350/1350 [==============================] - 40s 30ms/step - loss: 6.6210 - accuracy: 0.1237\n",
      "Epoch 3/10\n",
      "1350/1350 [==============================] - 40s 30ms/step - loss: 6.0270 - accuracy: 0.1339\n",
      "Epoch 4/10\n",
      "1350/1350 [==============================] - 40s 30ms/step - loss: 5.1886 - accuracy: 0.1513\n",
      "Epoch 5/10\n",
      "1350/1350 [==============================] - 40s 30ms/step - loss: 3.9127 - accuracy: 0.2234\n",
      "Epoch 6/10\n",
      "1350/1350 [==============================] - 40s 30ms/step - loss: 2.3620 - accuracy: 0.4691\n",
      "Epoch 7/10\n",
      "1350/1350 [==============================] - 40s 30ms/step - loss: 1.2420 - accuracy: 0.7090\n",
      "Epoch 8/10\n",
      "1350/1350 [==============================] - 40s 30ms/step - loss: 0.6039 - accuracy: 0.8636\n",
      "Epoch 9/10\n",
      "1350/1350 [==============================] - 40s 30ms/step - loss: 0.2493 - accuracy: 0.9542\n",
      "Epoch 10/10\n",
      "1350/1350 [==============================] - 40s 30ms/step - loss: 0.1083 - accuracy: 0.9841\n",
      "CPU times: user 6min, sys: 24.7 s, total: 6min 24s\n",
      "Wall time: 6min 48s\n"
     ]
    }
   ],
   "source": [
    "%%time \n",
    "\n",
    "# обучем модель по левому контексту предсказывать следующий за ним токен\n",
    "history = model.fit( \n",
    "    inputs,\n",
    "    targets, \n",
    "    epochs=10, \n",
    "    verbose=1,\n",
    ")"
   ]
  },
  {
   "cell_type": "code",
   "execution_count": 12,
   "id": "70ae7aa9",
   "metadata": {},
   "outputs": [
    {
     "data": {
      "image/png": "[encoded data removed]",
      "text/plain": [
       "<Figure size 1152x216 with 2 Axes>"
      ]
     },
     "metadata": {
      "needs_background": "light"
     },
     "output_type": "display_data"
    }
   ],
   "source": [
    "from matplotlib import pyplot as plt\n",
    "\n",
    "# изменение значений ф-ции потери и погрешности в процессе обучения модели\n",
    "\n",
    "loss = { k:history.history[k] for k in history.history if k.find('loss')>-1 }  \n",
    "accuracy = { k:history.history[k] for k in history.history if k.find('acc')>-1 }  \n",
    "\n",
    "fig,(ax1,ax2) = plt.subplots(1,2,figsize=(16,3))\n",
    "\n",
    "for k in loss: \n",
    "    ax1.plot(loss[k], label=k)\n",
    "    ax1.legend()    \n",
    "    ax1.grid()\n",
    "    ax1.set_xlabel('Epochs')\n",
    "    ax1.set_ylabel('Loss')\n",
    "    \n",
    "    \n",
    "for k in accuracy: \n",
    "    ax2.plot(accuracy[k], label=k)\n",
    "    ax2.legend()    \n",
    "    ax2.grid()\n",
    "    ax2.set_xlabel('Epochs')\n",
    "    ax2.set_ylabel('Accuracy')\n",
    "\n",
    "    \n",
    "plt.show()"
   ]
  },
  {
   "cell_type": "code",
   "execution_count": 13,
   "id": "b22e8769",
   "metadata": {},
   "outputs": [],
   "source": [
    "# тестируем модель\n",
    "\n",
    "from numpy import random as rng\n",
    "from random import sample\n",
    "from keras.preprocessing.sequence import pad_sequences\n",
    "\n",
    "# выбираем случайный контекст из исходных данных\n",
    "def get_sample(text,seq_len=seq_len-2,max_seq_len=seq_len-1):\n",
    "    assert seq_len<max_seq_len\n",
    "    for _ in range(100):\n",
    "        sentence = sample(text,1)[0]\n",
    "        if len(sentence)>seq_len*2:\n",
    "            i = rng.randint(len(sentence)-seq_len*2)\n",
    "            return sentence[i:i+seq_len]\n",
    "    return [PAD,]\n",
    "\n",
    "# кодируем контекст\n",
    "def encode_sentence(sentence,word2index=word2index,max_seq_len=seq_len-1):\n",
    "    return np.array(\n",
    "            pad_sequences(\n",
    "                [[ word2index[token] for token in sentence ],], \n",
    "                maxlen=max_seq_len, \n",
    "                padding='pre',\n",
    "            )\n",
    "        )\n",
    "\n",
    "# encode_sentence(get_sample(text)).shape"
   ]
  },
  {
   "cell_type": "code",
   "execution_count": 17,
   "id": "8be12abf",
   "metadata": {},
   "outputs": [
    {
     "name": "stdout",
     "output_type": "stream",
     "text": [
      "\n",
      "в то утро поглощен я мыслями о своей персоне , как ни гордился собой ,\n",
      " | я все-таки догадался , что даже передо мной , случайно промелькнувшим на его пути человеком , он стыдился своей участи , своей желтой машины . за сто\n",
      " -  -  -  -  -  -  -  -  -  -  -  -  -  -  -  -  -  -  -  -  -  -  -  -  -  -  -  -  -  - \n",
      "\n",
      "знать , может , со временем вы будете благодарны за то , что получили сегодня\n",
      " | такой ответ. С тем гость и ушел , а рукопись - осталась ... 4 . . `` Нет , Гелий Иванович , так у нас не положено\n",
      " -  -  -  -  -  -  -  -  -  -  -  -  -  -  -  -  -  -  -  -  -  -  -  -  -  -  -  -  -  - \n",
      "\n",
      "Иван Иваныч , мне потом рассказывал : я походил , осмотрелся , оценил наблещенный паркет\n",
      " | и высоту до потолка , метров около пяти ( до революции здесь был то ли дешевый отель , то ли бордель ) , присмотрелся к нему ,\n",
      " -  -  -  -  -  -  -  -  -  -  -  -  -  -  -  -  -  -  -  -  -  -  -  -  -  -  -  -  -  - \n",
      "\n",
      "к боковому входу , отдал ключи аргентинцу Альберто : подвинешь , мол , мой чекер\n",
      " | , если очередь тронется , и - бегом за два квартала , к тележке под полосатым зонтом . кассу - - Я ? ! .. '' Насладившись\n",
      " -  -  -  -  -  -  -  -  -  -  -  -  -  -  -  -  -  -  -  -  -  -  -  -  -  -  -  -  -  - \n",
      "\n",
      "Пока я водил гаражный чекер , м о и багажник без запасного колеса не понадобился\n",
      " | денег и одному слов , который наталкивался к рукописи в Сохо от `` Кеннеди '' , и про свое беспримерное , по-видимому , открытие . чувство меры\n",
      " -  -  -  -  -  -  -  -  -  -  -  -  -  -  -  -  -  -  -  -  -  -  -  -  -  -  -  -  -  - \n",
      "\n",
      "менее капитан не вызверился , а только напомнил развязному остряку , дескать , вы ,\n",
      " | Гелий Иванович , как-никак находитесь в серьезном учреждении , и песенки распевать на допросах у нас не положено . . . или - для каждого водителя ...\n",
      " -  -  -  -  -  -  -  -  -  -  -  -  -  -  -  -  -  -  -  -  -  -  -  -  -  -  -  -  -  - \n",
      "\n",
      "выбрасывать - как-то неловко : за каждой из этих рукописей - растоптанная человеческая судьба ...\n",
      " | Решившись доверить свои мысли бумаге , `` самиздатовские '' авторы всегда сознают , что совершают шаг - в пропасть . или на поезд - в аэропорт ,\n",
      " -  -  -  -  -  -  -  -  -  -  -  -  -  -  -  -  -  -  -  -  -  -  -  -  -  -  -  -  -  - \n",
      "\n",
      "буквально с каждым часом , я все же не отважился еще раз показаться на глаза\n",
      " | ни жирному Ларри , ни , тем паче , странному моему заступнику , а , может паче , где-то моему заступнику , - были ото предками руссинов\n",
      " -  -  -  -  -  -  -  -  -  -  -  -  -  -  -  -  -  -  -  -  -  -  -  -  -  -  -  -  -  - \n",
      "\n",
      "- Как вам сказать ... Читаю книги , коллекционирую марки ... - Если не возражаете\n",
      " | сосиску , по-моему , совсем стоит неуместно ; однако же смысл его денег открылся , как как я взглянул на листок , на котором было написано :\n",
      " -  -  -  -  -  -  -  -  -  -  -  -  -  -  -  -  -  -  -  -  -  -  -  -  -  -  -  -  -  - \n",
      "\n",
      "Наверное , Фрэнку удалось-таки решить проблему , поскольку не такой он был человек , чтоб\n",
      " | он справившись в одной и приняться в заднего сиденья ... - Чекер ! `` Я нечего ! `` . НЕ чекер ! '' , когда он чаевые\n",
      " -  -  -  -  -  -  -  -  -  -  -  -  -  -  -  -  -  -  -  -  -  -  -  -  -  -  -  -  -  - \n"
     ]
    }
   ],
   "source": [
    "for __ in range(10):\n",
    "\n",
    "    sentence0 = get_sample(text) # выбираем контекст\n",
    "    answer = [] # предсказанные токены\n",
    "    sentence = [PAD]+sentence0 # начальный контекст\n",
    "\n",
    "    for _ in range(27):\n",
    "        sequence = encode_sentence(sentence[1:]) # кодируем контекст\n",
    "        predicted_index = np.argmax( model.predict(sequence) ) # продолжение контекста то модели \n",
    "        predicted_word = index2word[predicted_index] # декодируем ответ модели\n",
    "        answer.append(predicted_word) # запоминаем токен предсказанный моделью\n",
    "        if predicted_index == word2index[EOS]: break # если предсказан конец предложения то завершаем\n",
    "        sentence.append(predicted_word) # предсказанный токен в контекст\n",
    "        \n",
    "    print('\\n'+' '.join(sentence0)+'\\n | ' + ' '.join(answer) )\n",
    "    print(' - '*30 )    "
   ]
  },
  {
   "cell_type": "code",
   "execution_count": null,
   "id": "fa0e519e",
   "metadata": {},
   "outputs": [],
   "source": []
  }
 ],
 "metadata": {
  "kernelspec": {
   "display_name": "Python 3 (ipykernel)",
   "language": "python",
   "name": "python3"
  },
  "language_info": {
   "codemirror_mode": {
    "name": "ipython",
    "version": 3
   },
   "file_extension": ".py",
   "mimetype": "text/x-python",
   "name": "python",
   "nbconvert_exporter": "python",
   "pygments_lexer": "ipython3",
   "version": "3.8.9"
  },
  "toc": {
   "base_numbering": 1,
   "nav_menu": {},
   "number_sections": true,
   "sideBar": true,
   "skip_h1_title": false,
   "title_cell": "Table of Contents",
   "title_sidebar": "Contents",
   "toc_cell": false,
   "toc_position": {},
   "toc_section_display": true,
   "toc_window_display": false
  }
 },
 "nbformat": 4,
 "nbformat_minor": 5
}
