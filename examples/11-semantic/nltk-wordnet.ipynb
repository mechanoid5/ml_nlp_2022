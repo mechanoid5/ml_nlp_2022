{
 "cells": [
  {
   "cell_type": "markdown",
   "id": "8895e703",
   "metadata": {},
   "source": [
    "https://www.nltk.org/howto/wordnet.html"
   ]
  },
  {
   "cell_type": "code",
   "execution_count": 6,
   "id": "5a9af220",
   "metadata": {},
   "outputs": [],
   "source": [
    "import nltk\n",
    "from nltk.corpus import wordnet"
   ]
  },
  {
   "cell_type": "code",
   "execution_count": 7,
   "id": "98c2da47",
   "metadata": {},
   "outputs": [
    {
     "name": "stderr",
     "output_type": "stream",
     "text": [
      "[nltk_data] Downloading package omw-1.4 to\n",
      "[nltk_data]     /home/mechanoid/nltk_data...\n",
      "[nltk_data]   Unzipping corpora/omw-1.4.zip.\n"
     ]
    },
    {
     "data": {
      "text/plain": [
       "True"
      ]
     },
     "execution_count": 7,
     "metadata": {},
     "output_type": "execute_result"
    }
   ],
   "source": [
    "nltk.download('omw-1.4')"
   ]
  },
  {
   "cell_type": "code",
   "execution_count": 20,
   "id": "88ad026f",
   "metadata": {},
   "outputs": [],
   "source": [
    "# sorted(wordnet.langs())"
   ]
  },
  {
   "cell_type": "code",
   "execution_count": 16,
   "id": "334ab6d1",
   "metadata": {},
   "outputs": [
    {
     "name": "stdout",
     "output_type": "stream",
     "text": [
      "a member of the genus Canis (probably descended from the common wolf) that has been domesticated by man since prehistoric times; occurs in many breeds\n",
      "['dog', 'domestic_dog', 'Canis_familiaris']\n",
      "--------------------------------------------------\n",
      "a dull unattractive unpleasant girl or woman\n",
      "['frump', 'dog']\n",
      "--------------------------------------------------\n",
      "informal term for a man\n",
      "['dog']\n",
      "--------------------------------------------------\n",
      "someone who is morally reprehensible\n",
      "['cad', 'bounder', 'blackguard', 'dog', 'hound', 'heel']\n",
      "--------------------------------------------------\n",
      "a smooth-textured sausage of minced beef or pork usually smoked; often served on a bread roll\n",
      "['frank', 'frankfurter', 'hotdog', 'hot_dog', 'dog', 'wiener', 'wienerwurst', 'weenie']\n",
      "--------------------------------------------------\n",
      "a hinged catch that fits into a notch of a ratchet to move a wheel forward or prevent it from moving backward\n",
      "['pawl', 'detent', 'click', 'dog']\n",
      "--------------------------------------------------\n",
      "metal supports for logs in a fireplace\n",
      "['andiron', 'firedog', 'dog', 'dog-iron']\n",
      "--------------------------------------------------\n",
      "go after with the intent to catch\n",
      "['chase', 'chase_after', 'trail', 'tail', 'tag', 'give_chase', 'dog', 'go_after', 'track']\n",
      "--------------------------------------------------\n"
     ]
    }
   ],
   "source": [
    "for synset in wordnet.synsets('dog'):\n",
    "    print(synset.definition())\n",
    "    print([lemma.name() for lemma in synset.lemmas()])\n",
    "    print('-'*50)"
   ]
  },
  {
   "cell_type": "code",
   "execution_count": 21,
   "id": "d989e392",
   "metadata": {},
   "outputs": [],
   "source": [
    "# wordnet.synsets('кошка', lang='rus')"
   ]
  },
  {
   "cell_type": "code",
   "execution_count": null,
   "id": "e5fe33d5",
   "metadata": {},
   "outputs": [],
   "source": [
    "# >>> dog = wn.synset('dog.n.01')\n",
    "# >>> cat = wn.synset('cat.n.01')\n",
    "# dog.path_similarity(cat)"
   ]
  },
  {
   "cell_type": "code",
   "execution_count": 23,
   "id": "d8692d10",
   "metadata": {},
   "outputs": [],
   "source": [
    "nltk.corpus?"
   ]
  },
  {
   "cell_type": "code",
   "execution_count": null,
   "id": "05947fa0",
   "metadata": {},
   "outputs": [],
   "source": [
    "# >>> import nltk\n",
    "# >>> from nltk.corpus import wordnet as wn\n",
    "\n",
    "# >>> wn.synsets('dog')\n",
    "# [Synset('dog.n.01'), Synset('frump.n.01'), Synset('dog.n.03'), Synset('cad.n.01'), Synset('frank.n.02'), Synset('pawl.n.01'), Synset('andiron.n.01'), Synset('chase.v.01')]\n",
    "\n",
    "# >>> wn.synset('dog.n.01').definition()\n",
    "# u'a member of the genus Canis (probably descended from the common wolf) that has been domesticated by man since prehistoric times; occurs in many breeds'\n",
    "\n",
    "# >>> wn.synset('dog.n.03').definition()\n",
    "# u'informal term for a man'\n",
    "\n",
    "# >>> baseball = wn.synset('baseball.n.01')\n",
    "# >>> sport = wn.synset('sport.n.01')\n",
    "# >>> picture = wn.synset('picture.n.01')\n",
    "\n",
    "# >>> sport.path_similarity(baseball)\n",
    "# 0.16666666666666666\n",
    "\n",
    "# >>> sport.path_similarity(picture)\n",
    "# 0.06666666666666667"
   ]
  }
 ],
 "metadata": {
  "kernelspec": {
   "display_name": "Python 3 (ipykernel)",
   "language": "python",
   "name": "python3"
  },
  "language_info": {
   "codemirror_mode": {
    "name": "ipython",
    "version": 3
   },
   "file_extension": ".py",
   "mimetype": "text/x-python",
   "name": "python",
   "nbconvert_exporter": "python",
   "pygments_lexer": "ipython3",
   "version": "3.8.9"
  },
  "toc": {
   "base_numbering": 1,
   "nav_menu": {},
   "number_sections": true,
   "sideBar": true,
   "skip_h1_title": false,
   "title_cell": "Table of Contents",
   "title_sidebar": "Contents",
   "toc_cell": false,
   "toc_position": {},
   "toc_section_display": true,
   "toc_window_display": false
  }
 },
 "nbformat": 4,
 "nbformat_minor": 5
}
