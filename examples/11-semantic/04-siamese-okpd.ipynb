{
 "cells": [
  {
   "cell_type": "markdown",
   "metadata": {},
   "source": [
    "**сиамская сеть, оцениваем схожесть текстов**\n",
    "\n",
    "Евгений Борисов <esborisov@sevsu.ru>"
   ]
  },
  {
   "cell_type": "markdown",
   "metadata": {},
   "source": [
    "## Библиотеки"
   ]
  },
  {
   "cell_type": "code",
   "execution_count": 1,
   "metadata": {},
   "outputs": [],
   "source": [
    "import re\n",
    "import numpy as np\n",
    "from numpy import random as rng\n",
    "import pandas as pd\n",
    "from tqdm.notebook import tqdm\n",
    "# import gzip\n",
    "from matplotlib import pyplot as plt"
   ]
  },
  {
   "cell_type": "code",
   "execution_count": 2,
   "metadata": {},
   "outputs": [],
   "source": [
    "pd.options.display.max_colwidth = 200  \n",
    "tqdm.pandas()\n",
    "\n",
    "def pp(d): return \"{:,.0f}\".format(d).replace(\",\", \" \")\n",
    "def ppr(d): print('записей:', pp(len(d)) )  "
   ]
  },
  {
   "cell_type": "markdown",
   "metadata": {},
   "source": [
    "## Данные"
   ]
  },
  {
   "cell_type": "code",
   "execution_count": 3,
   "metadata": {},
   "outputs": [
    {
     "name": "stdout",
     "output_type": "stream",
     "text": [
      "записей: 19 464\n"
     ]
    },
    {
     "data": {
      "text/html": [
       "<div>\n",
       "<style scoped>\n",
       "    .dataframe tbody tr th:only-of-type {\n",
       "        vertical-align: middle;\n",
       "    }\n",
       "\n",
       "    .dataframe tbody tr th {\n",
       "        vertical-align: top;\n",
       "    }\n",
       "\n",
       "    .dataframe thead th {\n",
       "        text-align: right;\n",
       "    }\n",
       "</style>\n",
       "<table border=\"1\" class=\"dataframe\">\n",
       "  <thead>\n",
       "    <tr style=\"text-align: right;\">\n",
       "      <th></th>\n",
       "      <th>Код</th>\n",
       "      <th>Наименование</th>\n",
       "      <th>Комментарий</th>\n",
       "    </tr>\n",
       "  </thead>\n",
       "  <tbody>\n",
       "    <tr>\n",
       "      <th>15645</th>\n",
       "      <td>32.40.39.172</td>\n",
       "      <td>Украшения елочные металлические электромеханические (с микроэлектродвигателями)</td>\n",
       "      <td>NaN</td>\n",
       "    </tr>\n",
       "    <tr>\n",
       "      <th>11816</th>\n",
       "      <td>21.20.10.171</td>\n",
       "      <td>Антисептики и противомикробные препараты для лечения гинекологических заболеваний</td>\n",
       "      <td>NaN</td>\n",
       "    </tr>\n",
       "    <tr>\n",
       "      <th>11781</th>\n",
       "      <td>21.20.10.116</td>\n",
       "      <td>Препараты противодиарейные, кишечные противовоспалительные и противомикробные</td>\n",
       "      <td>NaN</td>\n",
       "    </tr>\n",
       "  </tbody>\n",
       "</table>\n",
       "</div>"
      ],
      "text/plain": [
       "                Код  \\\n",
       "15645  32.40.39.172   \n",
       "11816  21.20.10.171   \n",
       "11781  21.20.10.116   \n",
       "\n",
       "                                                                            Наименование  \\\n",
       "15645    Украшения елочные металлические электромеханические (с микроэлектродвигателями)   \n",
       "11816  Антисептики и противомикробные препараты для лечения гинекологических заболеваний   \n",
       "11781      Препараты противодиарейные, кишечные противовоспалительные и противомикробные   \n",
       "\n",
       "      Комментарий  \n",
       "15645         NaN  \n",
       "11816         NaN  \n",
       "11781         NaN  "
      ]
     },
     "execution_count": 3,
     "metadata": {},
     "output_type": "execute_result"
    }
   ],
   "source": [
    "# каталог товаров\n",
    "data = pd.read_excel('../data/okpd2.xlsx')\n",
    "ppr(data)\n",
    "data.sample(3)"
   ]
  },
  {
   "cell_type": "code",
   "execution_count": 4,
   "metadata": {},
   "outputs": [],
   "source": [
    "# нумеруем позиции каталога\n",
    "data['id'] = range(len(data))\n",
    "# будем использовать второй уровень каталога (две первые цифры)\n",
    "data['group'] = data['Код'].str[:5]"
   ]
  },
  {
   "cell_type": "code",
   "execution_count": 5,
   "metadata": {},
   "outputs": [
    {
     "data": {
      "text/plain": [
       "count    19464\n",
       "mean        58\n",
       "std         39\n",
       "min          3\n",
       "50%         50\n",
       "95%        130\n",
       "max        540\n",
       "Name: Наименование, dtype: int64"
      ]
     },
     "execution_count": 5,
     "metadata": {},
     "output_type": "execute_result"
    }
   ],
   "source": [
    "# длина описаний в символах\n",
    "data['Наименование'].str.len().describe([.95]).astype(int)"
   ]
  },
  {
   "cell_type": "code",
   "execution_count": 6,
   "metadata": {},
   "outputs": [
    {
     "name": "stdout",
     "output_type": "stream",
     "text": [
      "записей: 9 632\n"
     ]
    },
    {
     "data": {
      "text/html": [
       "<div>\n",
       "<style scoped>\n",
       "    .dataframe tbody tr th:only-of-type {\n",
       "        vertical-align: middle;\n",
       "    }\n",
       "\n",
       "    .dataframe tbody tr th {\n",
       "        vertical-align: top;\n",
       "    }\n",
       "\n",
       "    .dataframe thead th {\n",
       "        text-align: right;\n",
       "    }\n",
       "</style>\n",
       "<table border=\"1\" class=\"dataframe\">\n",
       "  <thead>\n",
       "    <tr style=\"text-align: right;\">\n",
       "      <th></th>\n",
       "      <th>id</th>\n",
       "      <th>group</th>\n",
       "      <th>Наименование</th>\n",
       "    </tr>\n",
       "  </thead>\n",
       "  <tbody>\n",
       "    <tr>\n",
       "      <th>7436</th>\n",
       "      <td>14920</td>\n",
       "      <td>29.31</td>\n",
       "      <td>Стартеры и стартер-генераторы для транспортных средств</td>\n",
       "    </tr>\n",
       "    <tr>\n",
       "      <th>4920</th>\n",
       "      <td>9809</td>\n",
       "      <td>14.19</td>\n",
       "      <td>Шапки швейные женские или для девочек</td>\n",
       "    </tr>\n",
       "    <tr>\n",
       "      <th>403</th>\n",
       "      <td>1083</td>\n",
       "      <td>46.24</td>\n",
       "      <td>Услуги по оптовой торговле шкурами и кожей</td>\n",
       "    </tr>\n",
       "  </tbody>\n",
       "</table>\n",
       "</div>"
      ],
      "text/plain": [
       "         id  group                                            Наименование\n",
       "7436  14920  29.31  Стартеры и стартер-генераторы для транспортных средств\n",
       "4920   9809  14.19                   Шапки швейные женские или для девочек\n",
       "403    1083  46.24              Услуги по оптовой торговле шкурами и кожей"
      ]
     },
     "execution_count": 6,
     "metadata": {},
     "output_type": "execute_result"
    }
   ],
   "source": [
    "# выкидываем короткие описания и дубликаты\n",
    "data = data[ (data['group'].str.len()==5) & data['Наименование'].str.len().between(30,100) ]\\\n",
    "  .drop_duplicates(['Наименование'])[['id','group','Наименование']]\\\n",
    "  .reset_index(drop=True)\n",
    "\n",
    "ppr(data)\n",
    "data.sample(3)"
   ]
  },
  {
   "cell_type": "code",
   "execution_count": 7,
   "metadata": {},
   "outputs": [
    {
     "name": "stdout",
     "output_type": "stream",
     "text": [
      "записей: 596\n"
     ]
    }
   ],
   "source": [
    "# формируем списки описаний по группам\n",
    "groups =  data[['id','group']].groupby('group')['id'].apply(list).reset_index()\n",
    "ppr(groups)"
   ]
  },
  {
   "cell_type": "code",
   "execution_count": 8,
   "metadata": {},
   "outputs": [
    {
     "data": {
      "text/plain": [
       "count    596\n",
       "mean      16\n",
       "std       24\n",
       "min        1\n",
       "50%        7\n",
       "95%       62\n",
       "max      185\n",
       "Name: id, dtype: int64"
      ]
     },
     "execution_count": 8,
     "metadata": {},
     "output_type": "execute_result"
    }
   ],
   "source": [
    "# количество описаний в группах\n",
    "groups['id'].str.len().describe([.95]).astype(int)"
   ]
  },
  {
   "cell_type": "code",
   "execution_count": 9,
   "metadata": {},
   "outputs": [
    {
     "name": "stdout",
     "output_type": "stream",
     "text": [
      "записей: 596\n",
      "записей: 227\n"
     ]
    }
   ],
   "source": [
    "# выкидываем группы с малым количеством описаний, обрезаем большие списки\n",
    "n_samples = 10\n",
    "\n",
    "ppr(groups)\n",
    "groups = groups[ groups['id'].str.len()> n_samples ].reset_index(drop=True)\n",
    "ppr(groups)\n",
    "groups['id'] = groups['id'].apply(rng.permutation).str[:n_samples]"
   ]
  },
  {
   "cell_type": "code",
   "execution_count": 10,
   "metadata": {},
   "outputs": [],
   "source": [
    "# похожие примеры\n",
    "groups['id_eq'] = groups['id'].apply(rng.permutation)"
   ]
  },
  {
   "cell_type": "code",
   "execution_count": 11,
   "metadata": {},
   "outputs": [
    {
     "data": {
      "text/html": [
       "<div>\n",
       "<style scoped>\n",
       "    .dataframe tbody tr th:only-of-type {\n",
       "        vertical-align: middle;\n",
       "    }\n",
       "\n",
       "    .dataframe tbody tr th {\n",
       "        vertical-align: top;\n",
       "    }\n",
       "\n",
       "    .dataframe thead th {\n",
       "        text-align: right;\n",
       "    }\n",
       "</style>\n",
       "<table border=\"1\" class=\"dataframe\">\n",
       "  <thead>\n",
       "    <tr style=\"text-align: right;\">\n",
       "      <th></th>\n",
       "      <th>group</th>\n",
       "      <th>id</th>\n",
       "      <th>id_eq</th>\n",
       "    </tr>\n",
       "  </thead>\n",
       "  <tbody>\n",
       "    <tr>\n",
       "      <th>0</th>\n",
       "      <td>01.11</td>\n",
       "      <td>[1368, 6121, 6073, 6080, 2827, 6117, 6060, 6070, 2844, 18539]</td>\n",
       "      <td>[1368, 2844, 6121, 6073, 6117, 6060, 6080, 18539, 6070, 2827]</td>\n",
       "    </tr>\n",
       "    <tr>\n",
       "      <th>1</th>\n",
       "      <td>01.13</td>\n",
       "      <td>[2879, 2870, 1373, 6235, 6229, 1379, 1375, 6225, 1374, 6226]</td>\n",
       "      <td>[1373, 6226, 1374, 6225, 1379, 6235, 6229, 2870, 1375, 2879]</td>\n",
       "    </tr>\n",
       "    <tr>\n",
       "      <th>2</th>\n",
       "      <td>01.15</td>\n",
       "      <td>[18166, 6248, 18171, 18168, 18178, 6246, 18177, 18167, 18175, 18165]</td>\n",
       "      <td>[18166, 18168, 18165, 6246, 6248, 18178, 18177, 18175, 18171, 18167]</td>\n",
       "    </tr>\n",
       "    <tr>\n",
       "      <th>3</th>\n",
       "      <td>01.16</td>\n",
       "      <td>[6269, 2887, 6272, 6271, 6258, 6250, 6264, 6270, 6259, 6249]</td>\n",
       "      <td>[6269, 6250, 6271, 6264, 2887, 6259, 6270, 6258, 6272, 6249]</td>\n",
       "    </tr>\n",
       "    <tr>\n",
       "      <th>4</th>\n",
       "      <td>01.19</td>\n",
       "      <td>[6288, 6287, 6276, 6283, 2894, 6298, 2893, 6275, 6273, 6284]</td>\n",
       "      <td>[6298, 6288, 6283, 6275, 6273, 2893, 6284, 6276, 2894, 6287]</td>\n",
       "    </tr>\n",
       "    <tr>\n",
       "      <th>...</th>\n",
       "      <td>...</td>\n",
       "      <td>...</td>\n",
       "      <td>...</td>\n",
       "    </tr>\n",
       "    <tr>\n",
       "      <th>222</th>\n",
       "      <td>95.29</td>\n",
       "      <td>[19319, 19294, 19273, 19263, 6017, 19255, 19311, 19317, 19296, 19257]</td>\n",
       "      <td>[19317, 19319, 19273, 19296, 19255, 19263, 19294, 6017, 19257, 19311]</td>\n",
       "    </tr>\n",
       "    <tr>\n",
       "      <th>223</th>\n",
       "      <td>96.01</td>\n",
       "      <td>[19407, 19360, 19396, 19392, 19370, 19364, 19323, 19398, 19400, 19381]</td>\n",
       "      <td>[19407, 19323, 19398, 19360, 19400, 19392, 19396, 19370, 19364, 19381]</td>\n",
       "    </tr>\n",
       "    <tr>\n",
       "      <th>224</th>\n",
       "      <td>96.02</td>\n",
       "      <td>[1353, 6025, 2818, 19414, 19412, 2817, 19411, 19415, 6026, 6027]</td>\n",
       "      <td>[19415, 6027, 2818, 19412, 6026, 2817, 19411, 6025, 1353, 19414]</td>\n",
       "    </tr>\n",
       "    <tr>\n",
       "      <th>225</th>\n",
       "      <td>96.03</td>\n",
       "      <td>[19432, 19425, 19424, 19427, 1354, 19443, 19442, 19434, 6030, 19441]</td>\n",
       "      <td>[6030, 19441, 19442, 19427, 19425, 19432, 19424, 19434, 1354, 19443]</td>\n",
       "    </tr>\n",
       "    <tr>\n",
       "      <th>226</th>\n",
       "      <td>96.09</td>\n",
       "      <td>[19450, 6033, 19456, 19455, 19452, 19463, 19447, 19449, 19451, 6036]</td>\n",
       "      <td>[19463, 19449, 6036, 19447, 19450, 19452, 19451, 19456, 6033, 19455]</td>\n",
       "    </tr>\n",
       "  </tbody>\n",
       "</table>\n",
       "<p>227 rows × 3 columns</p>\n",
       "</div>"
      ],
      "text/plain": [
       "     group  \\\n",
       "0    01.11   \n",
       "1    01.13   \n",
       "2    01.15   \n",
       "3    01.16   \n",
       "4    01.19   \n",
       "..     ...   \n",
       "222  95.29   \n",
       "223  96.01   \n",
       "224  96.02   \n",
       "225  96.03   \n",
       "226  96.09   \n",
       "\n",
       "                                                                         id  \\\n",
       "0             [1368, 6121, 6073, 6080, 2827, 6117, 6060, 6070, 2844, 18539]   \n",
       "1              [2879, 2870, 1373, 6235, 6229, 1379, 1375, 6225, 1374, 6226]   \n",
       "2      [18166, 6248, 18171, 18168, 18178, 6246, 18177, 18167, 18175, 18165]   \n",
       "3              [6269, 2887, 6272, 6271, 6258, 6250, 6264, 6270, 6259, 6249]   \n",
       "4              [6288, 6287, 6276, 6283, 2894, 6298, 2893, 6275, 6273, 6284]   \n",
       "..                                                                      ...   \n",
       "222   [19319, 19294, 19273, 19263, 6017, 19255, 19311, 19317, 19296, 19257]   \n",
       "223  [19407, 19360, 19396, 19392, 19370, 19364, 19323, 19398, 19400, 19381]   \n",
       "224        [1353, 6025, 2818, 19414, 19412, 2817, 19411, 19415, 6026, 6027]   \n",
       "225    [19432, 19425, 19424, 19427, 1354, 19443, 19442, 19434, 6030, 19441]   \n",
       "226    [19450, 6033, 19456, 19455, 19452, 19463, 19447, 19449, 19451, 6036]   \n",
       "\n",
       "                                                                      id_eq  \n",
       "0             [1368, 2844, 6121, 6073, 6117, 6060, 6080, 18539, 6070, 2827]  \n",
       "1              [1373, 6226, 1374, 6225, 1379, 6235, 6229, 2870, 1375, 2879]  \n",
       "2      [18166, 18168, 18165, 6246, 6248, 18178, 18177, 18175, 18171, 18167]  \n",
       "3              [6269, 6250, 6271, 6264, 2887, 6259, 6270, 6258, 6272, 6249]  \n",
       "4              [6298, 6288, 6283, 6275, 6273, 2893, 6284, 6276, 2894, 6287]  \n",
       "..                                                                      ...  \n",
       "222   [19317, 19319, 19273, 19296, 19255, 19263, 19294, 6017, 19257, 19311]  \n",
       "223  [19407, 19323, 19398, 19360, 19400, 19392, 19396, 19370, 19364, 19381]  \n",
       "224        [19415, 6027, 2818, 19412, 6026, 2817, 19411, 6025, 1353, 19414]  \n",
       "225    [6030, 19441, 19442, 19427, 19425, 19432, 19424, 19434, 1354, 19443]  \n",
       "226    [19463, 19449, 6036, 19447, 19450, 19452, 19451, 19456, 6033, 19455]  \n",
       "\n",
       "[227 rows x 3 columns]"
      ]
     },
     "execution_count": 11,
     "metadata": {},
     "output_type": "execute_result"
    }
   ],
   "source": [
    "groups"
   ]
  },
  {
   "cell_type": "code",
   "execution_count": 12,
   "metadata": {},
   "outputs": [
    {
     "data": {
      "text/html": [
       "<div>\n",
       "<style scoped>\n",
       "    .dataframe tbody tr th:only-of-type {\n",
       "        vertical-align: middle;\n",
       "    }\n",
       "\n",
       "    .dataframe tbody tr th {\n",
       "        vertical-align: top;\n",
       "    }\n",
       "\n",
       "    .dataframe thead th {\n",
       "        text-align: right;\n",
       "    }\n",
       "</style>\n",
       "<table border=\"1\" class=\"dataframe\">\n",
       "  <thead>\n",
       "    <tr style=\"text-align: right;\">\n",
       "      <th></th>\n",
       "      <th>group</th>\n",
       "      <th>group_neq</th>\n",
       "      <th>id_neq</th>\n",
       "    </tr>\n",
       "  </thead>\n",
       "  <tbody>\n",
       "    <tr>\n",
       "      <th>0</th>\n",
       "      <td>01.11</td>\n",
       "      <td>24.44</td>\n",
       "      <td>[4036, 4035, 12688, 1902, 1901, 4043, 4037, 12690, 4041, 12691]</td>\n",
       "    </tr>\n",
       "    <tr>\n",
       "      <th>1</th>\n",
       "      <td>01.13</td>\n",
       "      <td>01.15</td>\n",
       "      <td>[18166, 18167, 18177, 18175, 6248, 6246, 18165, 18168, 18178, 18171]</td>\n",
       "    </tr>\n",
       "    <tr>\n",
       "      <th>2</th>\n",
       "      <td>01.15</td>\n",
       "      <td>59.20</td>\n",
       "      <td>[1198, 5475, 17055, 17054, 2586, 17035, 17056, 17046, 2587, 17037]</td>\n",
       "    </tr>\n",
       "    <tr>\n",
       "      <th>3</th>\n",
       "      <td>01.16</td>\n",
       "      <td>25.71</td>\n",
       "      <td>[13025, 13022, 4102, 13032, 13031, 13024, 13033, 1940, 4101, 943]</td>\n",
       "    </tr>\n",
       "    <tr>\n",
       "      <th>4</th>\n",
       "      <td>01.19</td>\n",
       "      <td>03.21</td>\n",
       "      <td>[3027, 7222, 778, 7245, 7241, 7226, 1447, 7243, 7219, 7225]</td>\n",
       "    </tr>\n",
       "    <tr>\n",
       "      <th>...</th>\n",
       "      <td>...</td>\n",
       "      <td>...</td>\n",
       "      <td>...</td>\n",
       "    </tr>\n",
       "    <tr>\n",
       "      <th>220</th>\n",
       "      <td>95.29</td>\n",
       "      <td>30.92</td>\n",
       "      <td>[15232, 15235, 2186, 2187, 15231, 15234, 1002, 2190, 15240, 15238]</td>\n",
       "    </tr>\n",
       "    <tr>\n",
       "      <th>221</th>\n",
       "      <td>96.01</td>\n",
       "      <td>42.21</td>\n",
       "      <td>[16175, 99, 84, 86, 2295, 95, 94, 93, 106, 1048]</td>\n",
       "    </tr>\n",
       "    <tr>\n",
       "      <th>222</th>\n",
       "      <td>96.02</td>\n",
       "      <td>28.14</td>\n",
       "      <td>[2064, 14059, 2063, 18768, 4405, 18772, 14058, 18775, 18778, 18771]</td>\n",
       "    </tr>\n",
       "    <tr>\n",
       "      <th>223</th>\n",
       "      <td>96.03</td>\n",
       "      <td>52.22</td>\n",
       "      <td>[16833, 16838, 16844, 16824, 16832, 1173, 16827, 16825, 16845, 16830]</td>\n",
       "    </tr>\n",
       "    <tr>\n",
       "      <th>224</th>\n",
       "      <td>96.09</td>\n",
       "      <td>25.30</td>\n",
       "      <td>[18594, 12923, 12924, 12938, 18605, 12950, 12949, 18597, 18608, 12939]</td>\n",
       "    </tr>\n",
       "  </tbody>\n",
       "</table>\n",
       "<p>225 rows × 3 columns</p>\n",
       "</div>"
      ],
      "text/plain": [
       "     group group_neq  \\\n",
       "0    01.11     24.44   \n",
       "1    01.13     01.15   \n",
       "2    01.15     59.20   \n",
       "3    01.16     25.71   \n",
       "4    01.19     03.21   \n",
       "..     ...       ...   \n",
       "220  95.29     30.92   \n",
       "221  96.01     42.21   \n",
       "222  96.02     28.14   \n",
       "223  96.03     52.22   \n",
       "224  96.09     25.30   \n",
       "\n",
       "                                                                     id_neq  \n",
       "0           [4036, 4035, 12688, 1902, 1901, 4043, 4037, 12690, 4041, 12691]  \n",
       "1      [18166, 18167, 18177, 18175, 6248, 6246, 18165, 18168, 18178, 18171]  \n",
       "2        [1198, 5475, 17055, 17054, 2586, 17035, 17056, 17046, 2587, 17037]  \n",
       "3         [13025, 13022, 4102, 13032, 13031, 13024, 13033, 1940, 4101, 943]  \n",
       "4               [3027, 7222, 778, 7245, 7241, 7226, 1447, 7243, 7219, 7225]  \n",
       "..                                                                      ...  \n",
       "220      [15232, 15235, 2186, 2187, 15231, 15234, 1002, 2190, 15240, 15238]  \n",
       "221                        [16175, 99, 84, 86, 2295, 95, 94, 93, 106, 1048]  \n",
       "222     [2064, 14059, 2063, 18768, 4405, 18772, 14058, 18775, 18778, 18771]  \n",
       "223   [16833, 16838, 16844, 16824, 16832, 1173, 16827, 16825, 16845, 16830]  \n",
       "224  [18594, 12923, 12924, 12938, 18605, 12950, 12949, 18597, 18608, 12939]  \n",
       "\n",
       "[225 rows x 3 columns]"
      ]
     },
     "execution_count": 12,
     "metadata": {},
     "output_type": "execute_result"
    }
   ],
   "source": [
    "# непохожие примеры\n",
    "\n",
    "# пары из разных групп\n",
    "groups_ = groups[['group']].reset_index(drop=True)\n",
    "groups_['group_neq'] = rng.permutation(groups['group'])\n",
    "groups_ = groups_.query('group!=group_neq')\n",
    "\n",
    "groups_ = groups_.merge( groups[['group','id']]\\\n",
    "                          .rename(columns={'group':'group_neq','id':'id_neq'}), \n",
    "                        on=['group_neq'])\n",
    "\n",
    "groups_['id_neq'] = groups_['id_neq'].apply(rng.permutation)\n",
    "\n",
    "# groups[['group','id']].rename(columns={'group':'group_neq','id':'id_neq'})\n",
    "\n",
    "groups_"
   ]
  },
  {
   "cell_type": "code",
   "execution_count": 13,
   "metadata": {},
   "outputs": [
    {
     "data": {
      "text/html": [
       "<div>\n",
       "<style scoped>\n",
       "    .dataframe tbody tr th:only-of-type {\n",
       "        vertical-align: middle;\n",
       "    }\n",
       "\n",
       "    .dataframe tbody tr th {\n",
       "        vertical-align: top;\n",
       "    }\n",
       "\n",
       "    .dataframe thead th {\n",
       "        text-align: right;\n",
       "    }\n",
       "</style>\n",
       "<table border=\"1\" class=\"dataframe\">\n",
       "  <thead>\n",
       "    <tr style=\"text-align: right;\">\n",
       "      <th></th>\n",
       "      <th>group</th>\n",
       "      <th>id</th>\n",
       "      <th>id_eq</th>\n",
       "      <th>id_neq</th>\n",
       "    </tr>\n",
       "  </thead>\n",
       "  <tbody>\n",
       "    <tr>\n",
       "      <th>0</th>\n",
       "      <td>01.11</td>\n",
       "      <td>[1368, 6121, 6073, 6080, 2827, 6117, 6060, 6070, 2844, 18539]</td>\n",
       "      <td>[1368, 2844, 6121, 6073, 6117, 6060, 6080, 18539, 6070, 2827]</td>\n",
       "      <td>[4036, 4035, 12688, 1902, 1901, 4043, 4037, 12690, 4041, 12691]</td>\n",
       "    </tr>\n",
       "    <tr>\n",
       "      <th>1</th>\n",
       "      <td>01.13</td>\n",
       "      <td>[2879, 2870, 1373, 6235, 6229, 1379, 1375, 6225, 1374, 6226]</td>\n",
       "      <td>[1373, 6226, 1374, 6225, 1379, 6235, 6229, 2870, 1375, 2879]</td>\n",
       "      <td>[18166, 18167, 18177, 18175, 6248, 6246, 18165, 18168, 18178, 18171]</td>\n",
       "    </tr>\n",
       "    <tr>\n",
       "      <th>2</th>\n",
       "      <td>01.15</td>\n",
       "      <td>[18166, 6248, 18171, 18168, 18178, 6246, 18177, 18167, 18175, 18165]</td>\n",
       "      <td>[18166, 18168, 18165, 6246, 6248, 18178, 18177, 18175, 18171, 18167]</td>\n",
       "      <td>[1198, 5475, 17055, 17054, 2586, 17035, 17056, 17046, 2587, 17037]</td>\n",
       "    </tr>\n",
       "    <tr>\n",
       "      <th>3</th>\n",
       "      <td>01.16</td>\n",
       "      <td>[6269, 2887, 6272, 6271, 6258, 6250, 6264, 6270, 6259, 6249]</td>\n",
       "      <td>[6269, 6250, 6271, 6264, 2887, 6259, 6270, 6258, 6272, 6249]</td>\n",
       "      <td>[13025, 13022, 4102, 13032, 13031, 13024, 13033, 1940, 4101, 943]</td>\n",
       "    </tr>\n",
       "    <tr>\n",
       "      <th>4</th>\n",
       "      <td>01.19</td>\n",
       "      <td>[6288, 6287, 6276, 6283, 2894, 6298, 2893, 6275, 6273, 6284]</td>\n",
       "      <td>[6298, 6288, 6283, 6275, 6273, 2893, 6284, 6276, 2894, 6287]</td>\n",
       "      <td>[3027, 7222, 778, 7245, 7241, 7226, 1447, 7243, 7219, 7225]</td>\n",
       "    </tr>\n",
       "    <tr>\n",
       "      <th>...</th>\n",
       "      <td>...</td>\n",
       "      <td>...</td>\n",
       "      <td>...</td>\n",
       "      <td>...</td>\n",
       "    </tr>\n",
       "    <tr>\n",
       "      <th>220</th>\n",
       "      <td>95.29</td>\n",
       "      <td>[19319, 19294, 19273, 19263, 6017, 19255, 19311, 19317, 19296, 19257]</td>\n",
       "      <td>[19317, 19319, 19273, 19296, 19255, 19263, 19294, 6017, 19257, 19311]</td>\n",
       "      <td>[15232, 15235, 2186, 2187, 15231, 15234, 1002, 2190, 15240, 15238]</td>\n",
       "    </tr>\n",
       "    <tr>\n",
       "      <th>221</th>\n",
       "      <td>96.01</td>\n",
       "      <td>[19407, 19360, 19396, 19392, 19370, 19364, 19323, 19398, 19400, 19381]</td>\n",
       "      <td>[19407, 19323, 19398, 19360, 19400, 19392, 19396, 19370, 19364, 19381]</td>\n",
       "      <td>[16175, 99, 84, 86, 2295, 95, 94, 93, 106, 1048]</td>\n",
       "    </tr>\n",
       "    <tr>\n",
       "      <th>222</th>\n",
       "      <td>96.02</td>\n",
       "      <td>[1353, 6025, 2818, 19414, 19412, 2817, 19411, 19415, 6026, 6027]</td>\n",
       "      <td>[19415, 6027, 2818, 19412, 6026, 2817, 19411, 6025, 1353, 19414]</td>\n",
       "      <td>[2064, 14059, 2063, 18768, 4405, 18772, 14058, 18775, 18778, 18771]</td>\n",
       "    </tr>\n",
       "    <tr>\n",
       "      <th>223</th>\n",
       "      <td>96.03</td>\n",
       "      <td>[19432, 19425, 19424, 19427, 1354, 19443, 19442, 19434, 6030, 19441]</td>\n",
       "      <td>[6030, 19441, 19442, 19427, 19425, 19432, 19424, 19434, 1354, 19443]</td>\n",
       "      <td>[16833, 16838, 16844, 16824, 16832, 1173, 16827, 16825, 16845, 16830]</td>\n",
       "    </tr>\n",
       "    <tr>\n",
       "      <th>224</th>\n",
       "      <td>96.09</td>\n",
       "      <td>[19450, 6033, 19456, 19455, 19452, 19463, 19447, 19449, 19451, 6036]</td>\n",
       "      <td>[19463, 19449, 6036, 19447, 19450, 19452, 19451, 19456, 6033, 19455]</td>\n",
       "      <td>[18594, 12923, 12924, 12938, 18605, 12950, 12949, 18597, 18608, 12939]</td>\n",
       "    </tr>\n",
       "  </tbody>\n",
       "</table>\n",
       "<p>225 rows × 4 columns</p>\n",
       "</div>"
      ],
      "text/plain": [
       "     group  \\\n",
       "0    01.11   \n",
       "1    01.13   \n",
       "2    01.15   \n",
       "3    01.16   \n",
       "4    01.19   \n",
       "..     ...   \n",
       "220  95.29   \n",
       "221  96.01   \n",
       "222  96.02   \n",
       "223  96.03   \n",
       "224  96.09   \n",
       "\n",
       "                                                                         id  \\\n",
       "0             [1368, 6121, 6073, 6080, 2827, 6117, 6060, 6070, 2844, 18539]   \n",
       "1              [2879, 2870, 1373, 6235, 6229, 1379, 1375, 6225, 1374, 6226]   \n",
       "2      [18166, 6248, 18171, 18168, 18178, 6246, 18177, 18167, 18175, 18165]   \n",
       "3              [6269, 2887, 6272, 6271, 6258, 6250, 6264, 6270, 6259, 6249]   \n",
       "4              [6288, 6287, 6276, 6283, 2894, 6298, 2893, 6275, 6273, 6284]   \n",
       "..                                                                      ...   \n",
       "220   [19319, 19294, 19273, 19263, 6017, 19255, 19311, 19317, 19296, 19257]   \n",
       "221  [19407, 19360, 19396, 19392, 19370, 19364, 19323, 19398, 19400, 19381]   \n",
       "222        [1353, 6025, 2818, 19414, 19412, 2817, 19411, 19415, 6026, 6027]   \n",
       "223    [19432, 19425, 19424, 19427, 1354, 19443, 19442, 19434, 6030, 19441]   \n",
       "224    [19450, 6033, 19456, 19455, 19452, 19463, 19447, 19449, 19451, 6036]   \n",
       "\n",
       "                                                                      id_eq  \\\n",
       "0             [1368, 2844, 6121, 6073, 6117, 6060, 6080, 18539, 6070, 2827]   \n",
       "1              [1373, 6226, 1374, 6225, 1379, 6235, 6229, 2870, 1375, 2879]   \n",
       "2      [18166, 18168, 18165, 6246, 6248, 18178, 18177, 18175, 18171, 18167]   \n",
       "3              [6269, 6250, 6271, 6264, 2887, 6259, 6270, 6258, 6272, 6249]   \n",
       "4              [6298, 6288, 6283, 6275, 6273, 2893, 6284, 6276, 2894, 6287]   \n",
       "..                                                                      ...   \n",
       "220   [19317, 19319, 19273, 19296, 19255, 19263, 19294, 6017, 19257, 19311]   \n",
       "221  [19407, 19323, 19398, 19360, 19400, 19392, 19396, 19370, 19364, 19381]   \n",
       "222        [19415, 6027, 2818, 19412, 6026, 2817, 19411, 6025, 1353, 19414]   \n",
       "223    [6030, 19441, 19442, 19427, 19425, 19432, 19424, 19434, 1354, 19443]   \n",
       "224    [19463, 19449, 6036, 19447, 19450, 19452, 19451, 19456, 6033, 19455]   \n",
       "\n",
       "                                                                     id_neq  \n",
       "0           [4036, 4035, 12688, 1902, 1901, 4043, 4037, 12690, 4041, 12691]  \n",
       "1      [18166, 18167, 18177, 18175, 6248, 6246, 18165, 18168, 18178, 18171]  \n",
       "2        [1198, 5475, 17055, 17054, 2586, 17035, 17056, 17046, 2587, 17037]  \n",
       "3         [13025, 13022, 4102, 13032, 13031, 13024, 13033, 1940, 4101, 943]  \n",
       "4               [3027, 7222, 778, 7245, 7241, 7226, 1447, 7243, 7219, 7225]  \n",
       "..                                                                      ...  \n",
       "220      [15232, 15235, 2186, 2187, 15231, 15234, 1002, 2190, 15240, 15238]  \n",
       "221                        [16175, 99, 84, 86, 2295, 95, 94, 93, 106, 1048]  \n",
       "222     [2064, 14059, 2063, 18768, 4405, 18772, 14058, 18775, 18778, 18771]  \n",
       "223   [16833, 16838, 16844, 16824, 16832, 1173, 16827, 16825, 16845, 16830]  \n",
       "224  [18594, 12923, 12924, 12938, 18605, 12950, 12949, 18597, 18608, 12939]  \n",
       "\n",
       "[225 rows x 4 columns]"
      ]
     },
     "execution_count": 13,
     "metadata": {},
     "output_type": "execute_result"
    }
   ],
   "source": [
    "# группа, описания, похожие описания, непохожие описания\n",
    "groups = groups.merge( groups_[['group','id_neq']], on=['group'] )\n",
    "groups"
   ]
  },
  {
   "cell_type": "code",
   "execution_count": 14,
   "metadata": {},
   "outputs": [
    {
     "name": "stdout",
     "output_type": "stream",
     "text": [
      "записей: 2 250\n"
     ]
    },
    {
     "data": {
      "text/html": [
       "<div>\n",
       "<style scoped>\n",
       "    .dataframe tbody tr th:only-of-type {\n",
       "        vertical-align: middle;\n",
       "    }\n",
       "\n",
       "    .dataframe tbody tr th {\n",
       "        vertical-align: top;\n",
       "    }\n",
       "\n",
       "    .dataframe thead th {\n",
       "        text-align: right;\n",
       "    }\n",
       "</style>\n",
       "<table border=\"1\" class=\"dataframe\">\n",
       "  <thead>\n",
       "    <tr style=\"text-align: right;\">\n",
       "      <th></th>\n",
       "      <th>id</th>\n",
       "      <th>id_eq</th>\n",
       "      <th>id_neq</th>\n",
       "    </tr>\n",
       "  </thead>\n",
       "  <tbody>\n",
       "    <tr>\n",
       "      <th>194</th>\n",
       "      <td>17054</td>\n",
       "      <td>17054</td>\n",
       "      <td>13612</td>\n",
       "    </tr>\n",
       "    <tr>\n",
       "      <th>77</th>\n",
       "      <td>11416</td>\n",
       "      <td>11451</td>\n",
       "      <td>3526</td>\n",
       "    </tr>\n",
       "    <tr>\n",
       "      <th>151</th>\n",
       "      <td>14973</td>\n",
       "      <td>14964</td>\n",
       "      <td>11965</td>\n",
       "    </tr>\n",
       "  </tbody>\n",
       "</table>\n",
       "</div>"
      ],
      "text/plain": [
       "        id  id_eq id_neq\n",
       "194  17054  17054  13612\n",
       "77   11416  11451   3526\n",
       "151  14973  14964  11965"
      ]
     },
     "execution_count": 14,
     "metadata": {},
     "output_type": "execute_result"
    }
   ],
   "source": [
    "# разворачиваем в список пар\n",
    "groups = pd.DataFrame({'id':groups['id'].explode(), \n",
    "              'id_eq':groups['id_eq'].explode(),\n",
    "              'id_neq':groups['id_neq'].explode()})\n",
    "ppr(groups)\n",
    "groups.sample(3)"
   ]
  },
  {
   "cell_type": "code",
   "execution_count": 15,
   "metadata": {},
   "outputs": [
    {
     "data": {
      "text/html": [
       "<div>\n",
       "<style scoped>\n",
       "    .dataframe tbody tr th:only-of-type {\n",
       "        vertical-align: middle;\n",
       "    }\n",
       "\n",
       "    .dataframe tbody tr th {\n",
       "        vertical-align: top;\n",
       "    }\n",
       "\n",
       "    .dataframe thead th {\n",
       "        text-align: right;\n",
       "    }\n",
       "</style>\n",
       "<table border=\"1\" class=\"dataframe\">\n",
       "  <thead>\n",
       "    <tr style=\"text-align: right;\">\n",
       "      <th></th>\n",
       "      <th>id_L</th>\n",
       "      <th>id_R</th>\n",
       "      <th>target</th>\n",
       "    </tr>\n",
       "  </thead>\n",
       "  <tbody>\n",
       "    <tr>\n",
       "      <th>206</th>\n",
       "      <td>2700</td>\n",
       "      <td>5745</td>\n",
       "      <td>1</td>\n",
       "    </tr>\n",
       "    <tr>\n",
       "      <th>106</th>\n",
       "      <td>4089</td>\n",
       "      <td>1932</td>\n",
       "      <td>1</td>\n",
       "    </tr>\n",
       "    <tr>\n",
       "      <th>198</th>\n",
       "      <td>5562</td>\n",
       "      <td>18266</td>\n",
       "      <td>0</td>\n",
       "    </tr>\n",
       "  </tbody>\n",
       "</table>\n",
       "</div>"
      ],
      "text/plain": [
       "     id_L   id_R  target\n",
       "206  2700   5745       1\n",
       "106  4089   1932       1\n",
       "198  5562  18266       0"
      ]
     },
     "execution_count": 15,
     "metadata": {},
     "output_type": "execute_result"
    }
   ],
   "source": [
    "# формируем датасет\n",
    "pair = groups[['id','id_eq']].rename(columns={'id':'id_L','id_eq':'id_R'})\n",
    "pair['target'] = 1\n",
    "pair = pd.concat([ pair, groups[['id','id_neq']]\\\n",
    "           .rename(columns={'id':'id_L','id_neq':'id_R'}) ])\\\n",
    "           .fillna(0).astype(int)\n",
    "\n",
    "pair.sample(3)"
   ]
  },
  {
   "cell_type": "code",
   "execution_count": 16,
   "metadata": {},
   "outputs": [],
   "source": [
    "%xdel groups\n",
    "%xdel groups_"
   ]
  },
  {
   "cell_type": "markdown",
   "metadata": {},
   "source": [
    "## очистка данных"
   ]
  },
  {
   "cell_type": "code",
   "execution_count": 17,
   "metadata": {},
   "outputs": [],
   "source": [
    "# data['ttext_clean'] = data['ttext']\\\n",
    "#     .progress_apply(lambda t:[ w.strip() for w in t.split() if w.strip() ] )\\\n",
    "#     .progress_apply(lambda t:[ re.sub(r'^http.*',' url ', w.strip() ) for w in t ] )\\\n",
    "#     .progress_apply(lambda t:[ re.sub(r'[:;]-*[)D]',' happysmile ', w.strip() )for w in t ])\\\n",
    "#     .progress_apply(lambda t:[ re.sub(r'\\)\\)\\)*',' happysmile ', w.strip() ) for w in t ])\\\n",
    "#     .progress_apply(lambda t:[ re.sub(r'[:;]\\*',' kisssmile ', w.strip() ) for w in t ])\\\n",
    "#     .progress_apply(lambda t:[ re.sub(r':\\(',' sadsmile ', w.strip() ) for w in t ])\\\n",
    "#     .progress_apply(lambda t:[ re.sub(r'\\(\\(\\(*',' sadsmile ', w.strip() ) for w in t ])"
   ]
  },
  {
   "cell_type": "code",
   "execution_count": 18,
   "metadata": {},
   "outputs": [],
   "source": [
    "# data['ttext_clean'] = [ ' '.join(s) for s in data['ttext_clean'] ]"
   ]
  },
  {
   "cell_type": "code",
   "execution_count": 19,
   "metadata": {},
   "outputs": [
    {
     "data": {
      "application/vnd.jupyter.widget-view+json": {
       "model_id": "612da349811346fa8b1fb79ee96af389",
       "version_major": 2,
       "version_minor": 0
      },
      "text/plain": [
       "  0%|          | 0/9632 [00:00<?, ?it/s]"
      ]
     },
     "metadata": {},
     "output_type": "display_data"
    },
    {
     "data": {
      "application/vnd.jupyter.widget-view+json": {
       "model_id": "b7d53e1a6ba14cb88b6c414c5828d86f",
       "version_major": 2,
       "version_minor": 0
      },
      "text/plain": [
       "  0%|          | 0/9632 [00:00<?, ?it/s]"
      ]
     },
     "metadata": {},
     "output_type": "display_data"
    },
    {
     "data": {
      "application/vnd.jupyter.widget-view+json": {
       "model_id": "1cdbcbea33bc42018896bd3b058a3d75",
       "version_major": 2,
       "version_minor": 0
      },
      "text/plain": [
       "  0%|          | 0/9632 [00:00<?, ?it/s]"
      ]
     },
     "metadata": {},
     "output_type": "display_data"
    },
    {
     "data": {
      "application/vnd.jupyter.widget-view+json": {
       "model_id": "6df5a0fd9220477a828d8f091003a257",
       "version_major": 2,
       "version_minor": 0
      },
      "text/plain": [
       "  0%|          | 0/9632 [00:00<?, ?it/s]"
      ]
     },
     "metadata": {},
     "output_type": "display_data"
    },
    {
     "data": {
      "application/vnd.jupyter.widget-view+json": {
       "model_id": "0f21270422954724937a97e9919fee4a",
       "version_major": 2,
       "version_minor": 0
      },
      "text/plain": [
       "  0%|          | 0/9632 [00:00<?, ?it/s]"
      ]
     },
     "metadata": {},
     "output_type": "display_data"
    }
   ],
   "source": [
    "data['ttext_clean'] = data['Наименование'].str.lower()\\\n",
    "    .progress_apply(lambda s: re.sub( r'\\W', ' ', s))\\\n",
    "    .progress_apply(lambda s: re.sub( r'_', ' ', s))\\\n",
    "    .progress_apply(lambda s: re.sub( r'\\b\\d+\\b', ' digit ', s))\\\n",
    "    .progress_apply(lambda t:[ w.strip() for w in t.split() if w.strip() ] )\\\n",
    "    .progress_apply(lambda t: [w for w in t if not re.match( r'\\b.*\\d+.*\\b', w) ])"
   ]
  },
  {
   "cell_type": "code",
   "execution_count": 20,
   "metadata": {},
   "outputs": [
    {
     "data": {
      "text/html": [
       "<div>\n",
       "<style scoped>\n",
       "    .dataframe tbody tr th:only-of-type {\n",
       "        vertical-align: middle;\n",
       "    }\n",
       "\n",
       "    .dataframe tbody tr th {\n",
       "        vertical-align: top;\n",
       "    }\n",
       "\n",
       "    .dataframe thead th {\n",
       "        text-align: right;\n",
       "    }\n",
       "</style>\n",
       "<table border=\"1\" class=\"dataframe\">\n",
       "  <thead>\n",
       "    <tr style=\"text-align: right;\">\n",
       "      <th></th>\n",
       "      <th>id</th>\n",
       "      <th>group</th>\n",
       "      <th>Наименование</th>\n",
       "      <th>ttext_clean</th>\n",
       "    </tr>\n",
       "  </thead>\n",
       "  <tbody>\n",
       "    <tr>\n",
       "      <th>6350</th>\n",
       "      <td>12538</td>\n",
       "      <td>24.20</td>\n",
       "      <td>Трубы стальные бесшовные высокого давления</td>\n",
       "      <td>[трубы, стальные, бесшовные, высокого, давления]</td>\n",
       "    </tr>\n",
       "    <tr>\n",
       "      <th>1349</th>\n",
       "      <td>2806</td>\n",
       "      <td>94.99</td>\n",
       "      <td>Услуги прочих общественных организаций, не включенные в другие группировки</td>\n",
       "      <td>[услуги, прочих, общественных, организаций, не, включенные, в, другие, группировки]</td>\n",
       "    </tr>\n",
       "    <tr>\n",
       "      <th>3199</th>\n",
       "      <td>6818</td>\n",
       "      <td>02.20</td>\n",
       "      <td>Бревна еловые для опор линий связи и электропередач</td>\n",
       "      <td>[бревна, еловые, для, опор, линий, связи, и, электропередач]</td>\n",
       "    </tr>\n",
       "  </tbody>\n",
       "</table>\n",
       "</div>"
      ],
      "text/plain": [
       "         id  group  \\\n",
       "6350  12538  24.20   \n",
       "1349   2806  94.99   \n",
       "3199   6818  02.20   \n",
       "\n",
       "                                                                    Наименование  \\\n",
       "6350                                  Трубы стальные бесшовные высокого давления   \n",
       "1349  Услуги прочих общественных организаций, не включенные в другие группировки   \n",
       "3199                         Бревна еловые для опор линий связи и электропередач   \n",
       "\n",
       "                                                                              ttext_clean  \n",
       "6350                                     [трубы, стальные, бесшовные, высокого, давления]  \n",
       "1349  [услуги, прочих, общественных, организаций, не, включенные, в, другие, группировки]  \n",
       "3199                         [бревна, еловые, для, опор, линий, связи, и, электропередач]  "
      ]
     },
     "execution_count": 20,
     "metadata": {},
     "output_type": "execute_result"
    }
   ],
   "source": [
    "data.sample(3)"
   ]
  },
  {
   "cell_type": "code",
   "execution_count": 21,
   "metadata": {},
   "outputs": [
    {
     "name": "stdout",
     "output_type": "stream",
     "text": [
      "записей: 9 632\n",
      "записей: 9 632\n"
     ]
    }
   ],
   "source": [
    "ppr(data)\n",
    "data = data[ data['ttext_clean'].str.len()>0 ].reset_index(drop=True) \n",
    "ppr(data)"
   ]
  },
  {
   "cell_type": "code",
   "execution_count": 22,
   "metadata": {},
   "outputs": [
    {
     "data": {
      "text/html": [
       "<div>\n",
       "<style scoped>\n",
       "    .dataframe tbody tr th:only-of-type {\n",
       "        vertical-align: middle;\n",
       "    }\n",
       "\n",
       "    .dataframe tbody tr th {\n",
       "        vertical-align: top;\n",
       "    }\n",
       "\n",
       "    .dataframe thead th {\n",
       "        text-align: right;\n",
       "    }\n",
       "</style>\n",
       "<table border=\"1\" class=\"dataframe\">\n",
       "  <thead>\n",
       "    <tr style=\"text-align: right;\">\n",
       "      <th></th>\n",
       "      <th>id</th>\n",
       "      <th>group</th>\n",
       "      <th>Наименование</th>\n",
       "      <th>ttext_clean</th>\n",
       "    </tr>\n",
       "  </thead>\n",
       "  <tbody>\n",
       "    <tr>\n",
       "      <th>9428</th>\n",
       "      <td>19216</td>\n",
       "      <td>95.24</td>\n",
       "      <td>Услуги по ремонту мягкой мебели</td>\n",
       "      <td>[услуги, по, ремонту, мягкой, мебели]</td>\n",
       "    </tr>\n",
       "    <tr>\n",
       "      <th>2487</th>\n",
       "      <td>5369</td>\n",
       "      <td>52.24</td>\n",
       "      <td>Услуги по обработке контейнеров в портах</td>\n",
       "      <td>[услуги, по, обработке, контейнеров, в, портах]</td>\n",
       "    </tr>\n",
       "    <tr>\n",
       "      <th>6736</th>\n",
       "      <td>13394</td>\n",
       "      <td>26.30</td>\n",
       "      <td>Станции пожарной сигнализации, приборы управления и оповещатели пожарные</td>\n",
       "      <td>[станции, пожарной, сигнализации, приборы, управления, и, оповещатели, пожарные]</td>\n",
       "    </tr>\n",
       "  </tbody>\n",
       "</table>\n",
       "</div>"
      ],
      "text/plain": [
       "         id  group  \\\n",
       "9428  19216  95.24   \n",
       "2487   5369  52.24   \n",
       "6736  13394  26.30   \n",
       "\n",
       "                                                                  Наименование  \\\n",
       "9428                                           Услуги по ремонту мягкой мебели   \n",
       "2487                                  Услуги по обработке контейнеров в портах   \n",
       "6736  Станции пожарной сигнализации, приборы управления и оповещатели пожарные   \n",
       "\n",
       "                                                                           ttext_clean  \n",
       "9428                                             [услуги, по, ремонту, мягкой, мебели]  \n",
       "2487                                   [услуги, по, обработке, контейнеров, в, портах]  \n",
       "6736  [станции, пожарной, сигнализации, приборы, управления, и, оповещатели, пожарные]  "
      ]
     },
     "execution_count": 22,
     "metadata": {},
     "output_type": "execute_result"
    }
   ],
   "source": [
    "data.sample(3)"
   ]
  },
  {
   "cell_type": "code",
   "execution_count": 23,
   "metadata": {},
   "outputs": [
    {
     "name": "stdout",
     "output_type": "stream",
     "text": [
      "записей: 9 976\n"
     ]
    }
   ],
   "source": [
    "words = sorted(set.union( *data['ttext_clean'].apply(set) ))\n",
    "voc = { w:i+1 for i,w in enumerate(words) }\n",
    "voc['<pad>']= 0\n",
    "ppr(voc)"
   ]
  },
  {
   "cell_type": "markdown",
   "metadata": {},
   "source": [
    "## кодируем слова"
   ]
  },
  {
   "cell_type": "code",
   "execution_count": 24,
   "metadata": {},
   "outputs": [
    {
     "data": {
      "application/vnd.jupyter.widget-view+json": {
       "model_id": "297870cc34674d809ef6d247a5938c20",
       "version_major": 2,
       "version_minor": 0
      },
      "text/plain": [
       "  0%|          | 0/9632 [00:00<?, ?it/s]"
      ]
     },
     "metadata": {},
     "output_type": "display_data"
    }
   ],
   "source": [
    "data['code'] = data['ttext_clean'].progress_apply(lambda t: [ voc[w] for w in t] )"
   ]
  },
  {
   "cell_type": "code",
   "execution_count": 25,
   "metadata": {},
   "outputs": [
    {
     "data": {
      "text/html": [
       "<div>\n",
       "<style scoped>\n",
       "    .dataframe tbody tr th:only-of-type {\n",
       "        vertical-align: middle;\n",
       "    }\n",
       "\n",
       "    .dataframe tbody tr th {\n",
       "        vertical-align: top;\n",
       "    }\n",
       "\n",
       "    .dataframe thead th {\n",
       "        text-align: right;\n",
       "    }\n",
       "</style>\n",
       "<table border=\"1\" class=\"dataframe\">\n",
       "  <thead>\n",
       "    <tr style=\"text-align: right;\">\n",
       "      <th></th>\n",
       "      <th>ttext_clean</th>\n",
       "      <th>code</th>\n",
       "    </tr>\n",
       "  </thead>\n",
       "  <tbody>\n",
       "    <tr>\n",
       "      <th>8595</th>\n",
       "      <td>[бараны, производители, чистопородные, племенные, полутонкорунных, пород]</td>\n",
       "      <td>[401, 6572, 9527, 5863, 6206, 6262]</td>\n",
       "    </tr>\n",
       "    <tr>\n",
       "      <th>9491</th>\n",
       "      <td>[услуги, по, ремонту, платочно, шарфовых, изделий]</td>\n",
       "      <td>[8968, 5911, 7148, 5848, 9569, 2460]</td>\n",
       "    </tr>\n",
       "    <tr>\n",
       "      <th>9601</th>\n",
       "      <td>[услуги, по, косметическому, татуажу, пирсингу]</td>\n",
       "      <td>[8968, 5911, 3359, 8373, 5755]</td>\n",
       "    </tr>\n",
       "  </tbody>\n",
       "</table>\n",
       "</div>"
      ],
      "text/plain": [
       "                                                                    ttext_clean  \\\n",
       "8595  [бараны, производители, чистопородные, племенные, полутонкорунных, пород]   \n",
       "9491                         [услуги, по, ремонту, платочно, шарфовых, изделий]   \n",
       "9601                            [услуги, по, косметическому, татуажу, пирсингу]   \n",
       "\n",
       "                                      code  \n",
       "8595   [401, 6572, 9527, 5863, 6206, 6262]  \n",
       "9491  [8968, 5911, 7148, 5848, 9569, 2460]  \n",
       "9601        [8968, 5911, 3359, 8373, 5755]  "
      ]
     },
     "execution_count": 25,
     "metadata": {},
     "output_type": "execute_result"
    }
   ],
   "source": [
    "data[['ttext_clean','code']].sample(3)"
   ]
  },
  {
   "cell_type": "code",
   "execution_count": 26,
   "metadata": {},
   "outputs": [
    {
     "data": {
      "text/plain": [
       "count    9632\n",
       "mean        7\n",
       "std         2\n",
       "min         2\n",
       "25%         5\n",
       "50%         7\n",
       "75%         9\n",
       "max        16\n",
       "Name: code, dtype: int64"
      ]
     },
     "execution_count": 26,
     "metadata": {},
     "output_type": "execute_result"
    }
   ],
   "source": [
    "# оценка размеров последовательнистей\n",
    "data['code'].str.len().describe().astype(int)"
   ]
  },
  {
   "cell_type": "code",
   "execution_count": 27,
   "metadata": {},
   "outputs": [
    {
     "data": {
      "text/plain": [
       "<AxesSubplot:ylabel='Frequency'>"
      ]
     },
     "execution_count": 27,
     "metadata": {},
     "output_type": "execute_result"
    },
    {
     "data": {
      "image/png": "[encoded data removed]",
      "text/plain": [
       "<Figure size 432x288 with 1 Axes>"
      ]
     },
     "metadata": {
      "needs_background": "light"
     },
     "output_type": "display_data"
    }
   ],
   "source": [
    "data['code'].str.len().plot.hist()"
   ]
  },
  {
   "cell_type": "code",
   "execution_count": 28,
   "metadata": {},
   "outputs": [
    {
     "data": {
      "text/plain": [
       "16"
      ]
     },
     "execution_count": 28,
     "metadata": {},
     "output_type": "execute_result"
    }
   ],
   "source": [
    "# максимальная длина\n",
    "code_max_len = data['code'].str.len().max()\n",
    "code_max_len"
   ]
  },
  {
   "cell_type": "code",
   "execution_count": 29,
   "metadata": {},
   "outputs": [
    {
     "data": {
      "application/vnd.jupyter.widget-view+json": {
       "model_id": "2845965c7fac4dd69d89f3b232cb3bfe",
       "version_major": 2,
       "version_minor": 0
      },
      "text/plain": [
       "  0%|          | 0/9632 [00:00<?, ?it/s]"
      ]
     },
     "metadata": {},
     "output_type": "display_data"
    }
   ],
   "source": [
    "# дополняем короткие до максимальной длины\n",
    "z = [0]*code_max_len\n",
    "data['code'] = data['code'].progress_apply(lambda c: c+z[:(code_max_len-len(c))]  )"
   ]
  },
  {
   "cell_type": "code",
   "execution_count": 30,
   "metadata": {},
   "outputs": [
    {
     "data": {
      "text/plain": [
       "count    9632\n",
       "mean       16\n",
       "std         0\n",
       "min        16\n",
       "25%        16\n",
       "50%        16\n",
       "75%        16\n",
       "max        16\n",
       "Name: code, dtype: int64"
      ]
     },
     "execution_count": 30,
     "metadata": {},
     "output_type": "execute_result"
    }
   ],
   "source": [
    "data['code'].str.len().describe().astype(int)"
   ]
  },
  {
   "cell_type": "code",
   "execution_count": 31,
   "metadata": {},
   "outputs": [],
   "source": [
    "# data"
   ]
  },
  {
   "cell_type": "markdown",
   "metadata": {},
   "source": [
    "## строим датасет"
   ]
  },
  {
   "cell_type": "code",
   "execution_count": 32,
   "metadata": {},
   "outputs": [
    {
     "data": {
      "text/html": [
       "<div>\n",
       "<style scoped>\n",
       "    .dataframe tbody tr th:only-of-type {\n",
       "        vertical-align: middle;\n",
       "    }\n",
       "\n",
       "    .dataframe tbody tr th {\n",
       "        vertical-align: top;\n",
       "    }\n",
       "\n",
       "    .dataframe thead th {\n",
       "        text-align: right;\n",
       "    }\n",
       "</style>\n",
       "<table border=\"1\" class=\"dataframe\">\n",
       "  <thead>\n",
       "    <tr style=\"text-align: right;\">\n",
       "      <th></th>\n",
       "      <th>id_L</th>\n",
       "      <th>id_R</th>\n",
       "      <th>target</th>\n",
       "    </tr>\n",
       "  </thead>\n",
       "  <tbody>\n",
       "    <tr>\n",
       "      <th>0</th>\n",
       "      <td>1368</td>\n",
       "      <td>1368</td>\n",
       "      <td>1</td>\n",
       "    </tr>\n",
       "    <tr>\n",
       "      <th>0</th>\n",
       "      <td>6121</td>\n",
       "      <td>2844</td>\n",
       "      <td>1</td>\n",
       "    </tr>\n",
       "    <tr>\n",
       "      <th>0</th>\n",
       "      <td>6073</td>\n",
       "      <td>6121</td>\n",
       "      <td>1</td>\n",
       "    </tr>\n",
       "    <tr>\n",
       "      <th>0</th>\n",
       "      <td>6080</td>\n",
       "      <td>6073</td>\n",
       "      <td>1</td>\n",
       "    </tr>\n",
       "    <tr>\n",
       "      <th>0</th>\n",
       "      <td>2827</td>\n",
       "      <td>6117</td>\n",
       "      <td>1</td>\n",
       "    </tr>\n",
       "    <tr>\n",
       "      <th>...</th>\n",
       "      <td>...</td>\n",
       "      <td>...</td>\n",
       "      <td>...</td>\n",
       "    </tr>\n",
       "    <tr>\n",
       "      <th>224</th>\n",
       "      <td>19463</td>\n",
       "      <td>12950</td>\n",
       "      <td>0</td>\n",
       "    </tr>\n",
       "    <tr>\n",
       "      <th>224</th>\n",
       "      <td>19447</td>\n",
       "      <td>12949</td>\n",
       "      <td>0</td>\n",
       "    </tr>\n",
       "    <tr>\n",
       "      <th>224</th>\n",
       "      <td>19449</td>\n",
       "      <td>18597</td>\n",
       "      <td>0</td>\n",
       "    </tr>\n",
       "    <tr>\n",
       "      <th>224</th>\n",
       "      <td>19451</td>\n",
       "      <td>18608</td>\n",
       "      <td>0</td>\n",
       "    </tr>\n",
       "    <tr>\n",
       "      <th>224</th>\n",
       "      <td>6036</td>\n",
       "      <td>12939</td>\n",
       "      <td>0</td>\n",
       "    </tr>\n",
       "  </tbody>\n",
       "</table>\n",
       "<p>4500 rows × 3 columns</p>\n",
       "</div>"
      ],
      "text/plain": [
       "      id_L   id_R  target\n",
       "0     1368   1368       1\n",
       "0     6121   2844       1\n",
       "0     6073   6121       1\n",
       "0     6080   6073       1\n",
       "0     2827   6117       1\n",
       "..     ...    ...     ...\n",
       "224  19463  12950       0\n",
       "224  19447  12949       0\n",
       "224  19449  18597       0\n",
       "224  19451  18608       0\n",
       "224   6036  12939       0\n",
       "\n",
       "[4500 rows x 3 columns]"
      ]
     },
     "execution_count": 32,
     "metadata": {},
     "output_type": "execute_result"
    }
   ],
   "source": [
    "pair"
   ]
  },
  {
   "cell_type": "code",
   "execution_count": 33,
   "metadata": {},
   "outputs": [
    {
     "name": "stdout",
     "output_type": "stream",
     "text": [
      "записей: 4 500\n"
     ]
    },
    {
     "data": {
      "text/html": [
       "<div>\n",
       "<style scoped>\n",
       "    .dataframe tbody tr th:only-of-type {\n",
       "        vertical-align: middle;\n",
       "    }\n",
       "\n",
       "    .dataframe tbody tr th {\n",
       "        vertical-align: top;\n",
       "    }\n",
       "\n",
       "    .dataframe thead th {\n",
       "        text-align: right;\n",
       "    }\n",
       "</style>\n",
       "<table border=\"1\" class=\"dataframe\">\n",
       "  <thead>\n",
       "    <tr style=\"text-align: right;\">\n",
       "      <th></th>\n",
       "      <th>id_L</th>\n",
       "      <th>id_R</th>\n",
       "      <th>target</th>\n",
       "      <th>code_L</th>\n",
       "      <th>code_R</th>\n",
       "    </tr>\n",
       "  </thead>\n",
       "  <tbody>\n",
       "    <tr>\n",
       "      <th>1037</th>\n",
       "      <td>19005</td>\n",
       "      <td>3159</td>\n",
       "      <td>0</td>\n",
       "      <td>[8968, 5911, 2447, 3337, 3997, 5911, 2544, 2206, 4544, 0, 0, 0, 0, 0, 0, 0]</td>\n",
       "      <td>[5025, 3479, 2833, 2416, 1566, 2250, 0, 0, 0, 0, 0, 0, 0, 0, 0, 0]</td>\n",
       "    </tr>\n",
       "    <tr>\n",
       "      <th>3891</th>\n",
       "      <td>16219</td>\n",
       "      <td>14324</td>\n",
       "      <td>0</td>\n",
       "      <td>[6818, 8180, 2416, 7145, 7458, 7317, 1470, 6611, 0, 0, 0, 0, 0, 0, 0, 0]</td>\n",
       "      <td>[4928, 1266, 2416, 6799, 0, 0, 0, 0, 0, 0, 0, 0, 0, 0, 0, 0]</td>\n",
       "    </tr>\n",
       "    <tr>\n",
       "      <th>3640</th>\n",
       "      <td>13625</td>\n",
       "      <td>1998</td>\n",
       "      <td>1</td>\n",
       "      <td>[5606, 1095, 7317, 9458, 4144, 1103, 850, 0, 0, 0, 0, 0, 0, 0, 0, 0]</td>\n",
       "      <td>[9472, 1103, 850, 3479, 9459, 4143, 2416, 9460, 0, 0, 0, 0, 0, 0, 0, 0]</td>\n",
       "    </tr>\n",
       "  </tbody>\n",
       "</table>\n",
       "</div>"
      ],
      "text/plain": [
       "       id_L   id_R  target  \\\n",
       "1037  19005   3159       0   \n",
       "3891  16219  14324       0   \n",
       "3640  13625   1998       1   \n",
       "\n",
       "                                                                           code_L  \\\n",
       "1037  [8968, 5911, 2447, 3337, 3997, 5911, 2544, 2206, 4544, 0, 0, 0, 0, 0, 0, 0]   \n",
       "3891     [6818, 8180, 2416, 7145, 7458, 7317, 1470, 6611, 0, 0, 0, 0, 0, 0, 0, 0]   \n",
       "3640         [5606, 1095, 7317, 9458, 4144, 1103, 850, 0, 0, 0, 0, 0, 0, 0, 0, 0]   \n",
       "\n",
       "                                                                       code_R  \n",
       "1037       [5025, 3479, 2833, 2416, 1566, 2250, 0, 0, 0, 0, 0, 0, 0, 0, 0, 0]  \n",
       "3891             [4928, 1266, 2416, 6799, 0, 0, 0, 0, 0, 0, 0, 0, 0, 0, 0, 0]  \n",
       "3640  [9472, 1103, 850, 3479, 9459, 4143, 2416, 9460, 0, 0, 0, 0, 0, 0, 0, 0]  "
      ]
     },
     "execution_count": 33,
     "metadata": {},
     "output_type": "execute_result"
    }
   ],
   "source": [
    "dataset = pair\\\n",
    "  .merge(data[['id','code']].rename(columns={'id':'id_L','code':'code_L'}), on=['id_L'] )\\\n",
    "  .merge(data[['id','code']].rename(columns={'id':'id_R','code':'code_R'}), on=['id_R'] )\n",
    "ppr(dataset)\n",
    "dataset.sample(3)"
   ]
  },
  {
   "cell_type": "code",
   "execution_count": 34,
   "metadata": {},
   "outputs": [
    {
     "data": {
      "text/plain": [
       "((4500, 16), (4500, 16), (4500, 1))"
      ]
     },
     "execution_count": 34,
     "metadata": {},
     "output_type": "execute_result"
    }
   ],
   "source": [
    "x_left  = np.vstack(dataset['code_L'].values)\n",
    "x_right = np.vstack(dataset['code_R'].values)\n",
    "target  = np.vstack(dataset['target'].values)\n",
    "\n",
    "x_left.shape,x_right.shape,target.shape"
   ]
  },
  {
   "cell_type": "code",
   "execution_count": 35,
   "metadata": {},
   "outputs": [],
   "source": [
    "# размер вектора OHE для embeding слоя\n",
    "embed_input_dim = max([x_left.max(),x_right.max()]) + 1"
   ]
  },
  {
   "cell_type": "code",
   "execution_count": 36,
   "metadata": {},
   "outputs": [
    {
     "data": {
      "text/plain": [
       "((4500, 16), (4500, 16), (4500, 1), 9974)"
      ]
     },
     "execution_count": 36,
     "metadata": {},
     "output_type": "execute_result"
    }
   ],
   "source": [
    "x_left.shape, x_right.shape, target.shape, embed_input_dim"
   ]
  },
  {
   "cell_type": "code",
   "execution_count": 37,
   "metadata": {},
   "outputs": [],
   "source": [
    "# переворачиваем последовательности (нули дополнения вначале, первое слово в конце)\n",
    "x_left  = np.flip( x_left,  axis=1 )\n",
    "x_right = np.flip( x_right, axis=1 )"
   ]
  },
  {
   "cell_type": "code",
   "execution_count": 38,
   "metadata": {},
   "outputs": [
    {
     "data": {
      "text/plain": [
       "16"
      ]
     },
     "execution_count": 38,
     "metadata": {},
     "output_type": "execute_result"
    }
   ],
   "source": [
    "# длина последовательности слов \n",
    "seq_len = x_left.shape[1]\n",
    "seq_len"
   ]
  },
  {
   "cell_type": "code",
   "execution_count": 39,
   "metadata": {},
   "outputs": [],
   "source": [
    "# from sklearn.model_selection import train_test_split\n",
    "# from matplotlib import pyplot as plt"
   ]
  },
  {
   "cell_type": "code",
   "execution_count": 40,
   "metadata": {},
   "outputs": [],
   "source": [
    "# # отделяем тестовый набор\n",
    "# x_train, x_test, y_train, y_test = train_test_split( np.hstack([x_left,x_right]), target, test_size=.5)\n",
    "# x_train.shape, y_train.shape, x_test.shape, y_test.shape"
   ]
  },
  {
   "cell_type": "code",
   "execution_count": 41,
   "metadata": {},
   "outputs": [],
   "source": [
    "# x_left_train, x_right_train = x_train[:,:seq_len],x_train[:,seq_len:]\n",
    "# y_train = y_train.flatten()\n",
    "# x_left_train.shape, x_right_train.shape, y_train.shape"
   ]
  },
  {
   "cell_type": "code",
   "execution_count": 42,
   "metadata": {},
   "outputs": [],
   "source": [
    "# x_left_test, x_right_test = x_test[:,:seq_len],x_test[:,seq_len:]\n",
    "# y_test = y_test.flatten()\n",
    "# x_left_test.shape, x_right_test.shape, y_test.shape"
   ]
  },
  {
   "cell_type": "code",
   "execution_count": 43,
   "metadata": {},
   "outputs": [],
   "source": [
    "# %xdel x_left\n",
    "# %xdel x_right\n",
    "# %xdel target"
   ]
  },
  {
   "cell_type": "code",
   "execution_count": 44,
   "metadata": {},
   "outputs": [],
   "source": [
    "# gc.collect()"
   ]
  },
  {
   "cell_type": "code",
   "execution_count": 45,
   "metadata": {},
   "outputs": [],
   "source": [
    "# y_train.sum()/len(y_train), y_test.sum()/len(y_test)"
   ]
  },
  {
   "cell_type": "markdown",
   "metadata": {},
   "source": [
    "## модель"
   ]
  },
  {
   "cell_type": "code",
   "execution_count": 46,
   "metadata": {},
   "outputs": [
    {
     "data": {
      "text/plain": [
       "(9974, 128, 16)"
      ]
     },
     "execution_count": 46,
     "metadata": {},
     "output_type": "execute_result"
    }
   ],
   "source": [
    "embed_len = 128\n",
    "embed_input_dim, embed_len, seq_len"
   ]
  },
  {
   "cell_type": "code",
   "execution_count": 47,
   "metadata": {},
   "outputs": [
    {
     "data": {
      "text/plain": [
       "('2.8.0', '2.8.0')"
      ]
     },
     "execution_count": 47,
     "metadata": {},
     "output_type": "execute_result"
    }
   ],
   "source": [
    "from tensorflow import __version__ as tf_version\n",
    "from tensorflow.keras import __version__ as keras_version\n",
    "tf_version,keras_version"
   ]
  },
  {
   "cell_type": "code",
   "execution_count": 48,
   "metadata": {},
   "outputs": [],
   "source": [
    "from tensorflow.keras.models import Model\n",
    "from tensorflow.keras.layers import Input\n",
    "from tensorflow.keras.layers import Embedding\n",
    "from tensorflow.keras.layers import LSTM\n",
    "from tensorflow.keras.layers import Dense\n",
    "from tensorflow.keras.layers import Lambda\n",
    "from tensorflow.keras.optimizers import Adam\n",
    "from tensorflow.keras import backend as K\n",
    "from tensorflow.keras.utils import plot_model\n",
    "# from tensorflow_addons.losses import contrastive_loss\n",
    "from tensorflow import cast"
   ]
  },
  {
   "cell_type": "markdown",
   "metadata": {},
   "source": [
    "$$\n",
    "contrastive\\_loss(y,p) = y \\cdot p^2 + (1 - y) \\cdot \\max(0, m - p ) ^2\n",
    "$$"
   ]
  },
  {
   "cell_type": "code",
   "execution_count": 49,
   "metadata": {},
   "outputs": [],
   "source": [
    "def contrastive_loss(y, preds, margin=1):\n",
    "    y = cast(y, preds.dtype)\n",
    "    squaredMargin = K.square(K.maximum(margin - preds, 0))\n",
    "    return K.mean( y * K.square(preds) + (1-y)*squaredMargin)"
   ]
  },
  {
   "cell_type": "code",
   "execution_count": 50,
   "metadata": {},
   "outputs": [],
   "source": [
    "# from matplotlib import pyplot as plt\n",
    "# y = np.ones(10)\n",
    "# p = np.linspace(0,1,10)\n",
    "# # y = np.zeros(10)\n",
    "# # p = np.linspace(1,0,10)\n",
    "# plt.plot( y*(p**2) + (1-y)*((1-p)**2) )"
   ]
  },
  {
   "cell_type": "code",
   "execution_count": 51,
   "metadata": {},
   "outputs": [
    {
     "data": {
      "text/plain": [
       "(9974, 16, 128)"
      ]
     },
     "execution_count": 51,
     "metadata": {},
     "output_type": "execute_result"
    }
   ],
   "source": [
    "embed_input_dim,seq_len,embed_len"
   ]
  },
  {
   "cell_type": "code",
   "execution_count": 52,
   "metadata": {},
   "outputs": [
    {
     "name": "stderr",
     "output_type": "stream",
     "text": [
      "2022-03-16 15:04:22.468604: I tensorflow/stream_executor/cuda/cuda_gpu_executor.cc:936] successful NUMA node read from SysFS had negative value (-1), but there must be at least one NUMA node, so returning NUMA node zero\n",
      "2022-03-16 15:04:22.533258: I tensorflow/stream_executor/cuda/cuda_gpu_executor.cc:936] successful NUMA node read from SysFS had negative value (-1), but there must be at least one NUMA node, so returning NUMA node zero\n",
      "2022-03-16 15:04:22.533444: I tensorflow/stream_executor/cuda/cuda_gpu_executor.cc:936] successful NUMA node read from SysFS had negative value (-1), but there must be at least one NUMA node, so returning NUMA node zero\n"
     ]
    },
    {
     "name": "stdout",
     "output_type": "stream",
     "text": [
      "WARNING:tensorflow:Layer lstm will not use cuDNN kernels since it doesn't meet the criteria. It will use a generic GPU kernel as fallback when running on GPU.\n"
     ]
    },
    {
     "name": "stderr",
     "output_type": "stream",
     "text": [
      "2022-03-16 15:04:22.534617: I tensorflow/core/platform/cpu_feature_guard.cc:151] This TensorFlow binary is optimized with oneAPI Deep Neural Network Library (oneDNN) to use the following CPU instructions in performance-critical operations:  AVX2 FMA\n",
      "To enable them in other operations, rebuild TensorFlow with the appropriate compiler flags.\n",
      "2022-03-16 15:04:22.535013: I tensorflow/stream_executor/cuda/cuda_gpu_executor.cc:936] successful NUMA node read from SysFS had negative value (-1), but there must be at least one NUMA node, so returning NUMA node zero\n",
      "2022-03-16 15:04:22.535177: I tensorflow/stream_executor/cuda/cuda_gpu_executor.cc:936] successful NUMA node read from SysFS had negative value (-1), but there must be at least one NUMA node, so returning NUMA node zero\n",
      "2022-03-16 15:04:22.535309: I tensorflow/stream_executor/cuda/cuda_gpu_executor.cc:936] successful NUMA node read from SysFS had negative value (-1), but there must be at least one NUMA node, so returning NUMA node zero\n",
      "2022-03-16 15:04:22.924441: I tensorflow/stream_executor/cuda/cuda_gpu_executor.cc:936] successful NUMA node read from SysFS had negative value (-1), but there must be at least one NUMA node, so returning NUMA node zero\n",
      "2022-03-16 15:04:22.924703: I tensorflow/stream_executor/cuda/cuda_gpu_executor.cc:936] successful NUMA node read from SysFS had negative value (-1), but there must be at least one NUMA node, so returning NUMA node zero\n",
      "2022-03-16 15:04:22.924846: I tensorflow/stream_executor/cuda/cuda_gpu_executor.cc:936] successful NUMA node read from SysFS had negative value (-1), but there must be at least one NUMA node, so returning NUMA node zero\n",
      "2022-03-16 15:04:22.924993: I tensorflow/core/common_runtime/gpu/gpu_device.cc:1525] Created device /job:localhost/replica:0/task:0/device:GPU:0 with 4853 MB memory:  -> device: 0, name: NVIDIA GeForce GTX 1060 6GB, pci bus id: 0000:01:00.0, compute capability: 6.1\n"
     ]
    }
   ],
   "source": [
    "embedding = Embedding(input_dim=embed_input_dim, input_length=seq_len, output_dim=embed_len, )\n",
    "lstm = LSTM(embed_len,activation='relu') "
   ]
  },
  {
   "cell_type": "code",
   "execution_count": 53,
   "metadata": {},
   "outputs": [],
   "source": [
    "# Конструирование левой ветви модели: \n",
    "input_l = Input( shape=(seq_len,), dtype='int32')\n",
    "embedding_l = embedding(input_l)\n",
    "lstm_l = lstm(embedding_l)\n",
    "\n",
    "# Конструирование правой ветви модели: \n",
    "input_r = Input(shape=(seq_len,), dtype='int32')\n",
    "embedding_r = embedding(input_r)\n",
    "lstm_r = lstm(embedding_r)\n",
    "\n",
    "# # Getting the L1 Distance between the 2 encodings\n",
    "merged = Lambda(lambda t:K.abs(t[0]-t[1]),name='L1_distance')([lstm_l,lstm_r])\n",
    "\n",
    "# классификатор\n",
    "predictions = Dense(1, activation='relu')(merged)\n",
    "\n",
    "# создаём модель\n",
    "model = Model([input_l,input_r], predictions )"
   ]
  },
  {
   "cell_type": "code",
   "execution_count": 54,
   "metadata": {
    "scrolled": true
   },
   "outputs": [
    {
     "data": {
      "image/png": "[encoded data removed]",
      "text/plain": [
       "<IPython.core.display.Image object>"
      ]
     },
     "execution_count": 54,
     "metadata": {},
     "output_type": "execute_result"
    }
   ],
   "source": [
    "plot_model(model, show_layer_names=True, show_shapes=True )"
   ]
  },
  {
   "cell_type": "code",
   "execution_count": 55,
   "metadata": {},
   "outputs": [],
   "source": [
    "learning_rate = 9e-3\n",
    "model.compile(loss=contrastive_loss, metrics=['acc',], optimizer=Adam(learning_rate))"
   ]
  },
  {
   "cell_type": "code",
   "execution_count": 56,
   "metadata": {},
   "outputs": [
    {
     "data": {
      "text/plain": [
       "((4500, 16), (4500, 1))"
      ]
     },
     "execution_count": 56,
     "metadata": {},
     "output_type": "execute_result"
    }
   ],
   "source": [
    "x_left.shape,target.shape"
   ]
  },
  {
   "cell_type": "code",
   "execution_count": 57,
   "metadata": {},
   "outputs": [
    {
     "name": "stdout",
     "output_type": "stream",
     "text": [
      "Epoch 1/25\n",
      "5/5 [==============================] - 2s 33ms/step - loss: 0.3409 - acc: 0.4524\n",
      "Epoch 2/25\n",
      "5/5 [==============================] - 0s 38ms/step - loss: 0.1571 - acc: 0.2202\n",
      "Epoch 3/25\n",
      "5/5 [==============================] - 0s 37ms/step - loss: 0.0984 - acc: 0.1018\n",
      "Epoch 4/25\n",
      "5/5 [==============================] - 0s 31ms/step - loss: 0.0710 - acc: 0.0531\n",
      "Epoch 5/25\n",
      "5/5 [==============================] - 0s 32ms/step - loss: 0.0507 - acc: 0.0278\n",
      "Epoch 6/25\n",
      "5/5 [==============================] - 0s 32ms/step - loss: 0.0365 - acc: 0.0162\n",
      "Epoch 7/25\n",
      "5/5 [==============================] - 0s 30ms/step - loss: 0.0246 - acc: 0.0062\n",
      "Epoch 8/25\n",
      "5/5 [==============================] - 0s 34ms/step - loss: 0.0165 - acc: 0.0036\n",
      "Epoch 9/25\n",
      "5/5 [==============================] - 0s 35ms/step - loss: 0.0103 - acc: 0.0013\n",
      "Epoch 10/25\n",
      "5/5 [==============================] - 0s 35ms/step - loss: 0.0060 - acc: 6.6667e-04\n",
      "Epoch 11/25\n",
      "5/5 [==============================] - 0s 32ms/step - loss: 0.0030 - acc: 2.2222e-04\n",
      "Epoch 12/25\n",
      "5/5 [==============================] - 0s 35ms/step - loss: 0.0013 - acc: 0.0000e+00\n",
      "Epoch 13/25\n",
      "5/5 [==============================] - 0s 36ms/step - loss: 6.6856e-04 - acc: 0.0000e+00\n",
      "Epoch 14/25\n",
      "5/5 [==============================] - 0s 33ms/step - loss: 2.4351e-04 - acc: 0.0000e+00\n",
      "Epoch 15/25\n",
      "5/5 [==============================] - 0s 31ms/step - loss: 1.1605e-04 - acc: 0.0000e+00\n",
      "Epoch 16/25\n",
      "5/5 [==============================] - 0s 31ms/step - loss: 6.2198e-05 - acc: 0.0000e+00\n",
      "Epoch 17/25\n",
      "5/5 [==============================] - 0s 31ms/step - loss: 2.1560e-05 - acc: 0.0000e+00\n",
      "Epoch 18/25\n",
      "5/5 [==============================] - 0s 31ms/step - loss: 5.7681e-06 - acc: 0.0000e+00\n",
      "Epoch 19/25\n",
      "5/5 [==============================] - 0s 33ms/step - loss: 3.7137e-06 - acc: 0.0000e+00\n",
      "Epoch 20/25\n",
      "5/5 [==============================] - 0s 32ms/step - loss: 8.4804e-07 - acc: 0.0000e+00\n",
      "Epoch 21/25\n",
      "5/5 [==============================] - 0s 34ms/step - loss: 4.8344e-07 - acc: 0.0000e+00\n",
      "Epoch 22/25\n",
      "5/5 [==============================] - 0s 32ms/step - loss: 2.5026e-06 - acc: 0.0000e+00\n",
      "Epoch 23/25\n",
      "5/5 [==============================] - 0s 31ms/step - loss: 6.3607e-07 - acc: 0.0000e+00\n",
      "Epoch 24/25\n",
      "5/5 [==============================] - 0s 32ms/step - loss: 2.0980e-08 - acc: 0.0000e+00\n",
      "Epoch 25/25\n",
      "5/5 [==============================] - 0s 31ms/step - loss: 6.4450e-08 - acc: 0.0000e+00\n",
      "CPU times: user 9.33 s, sys: 626 ms, total: 9.96 s\n",
      "Wall time: 6.36 s\n"
     ]
    }
   ],
   "source": [
    "%%time\n",
    "\n",
    "n_epochs = 25\n",
    "\n",
    "history = model.fit( [x_left, x_right], target,epochs = n_epochs, batch_size = 1024, )"
   ]
  },
  {
   "cell_type": "markdown",
   "metadata": {},
   "source": [
    "----"
   ]
  },
  {
   "cell_type": "code",
   "execution_count": 58,
   "metadata": {},
   "outputs": [
    {
     "data": {
      "image/png": "[encoded data removed]",
      "text/plain": [
       "<Figure size 432x288 with 1 Axes>"
      ]
     },
     "metadata": {
      "needs_background": "light"
     },
     "output_type": "display_data"
    }
   ],
   "source": [
    "plt.plot(history.history['loss'],label='train loss')\n",
    "# plt.plot(history.history['val_loss'],label='val loss')\n",
    "plt.legend()\n",
    "plt.grid()"
   ]
  },
  {
   "cell_type": "code",
   "execution_count": 59,
   "metadata": {},
   "outputs": [
    {
     "data": {
      "image/png": "[encoded data removed]",
      "text/plain": [
       "<Figure size 432x288 with 1 Axes>"
      ]
     },
     "metadata": {
      "needs_background": "light"
     },
     "output_type": "display_data"
    }
   ],
   "source": [
    "plt.plot( 1. - np.array(history.history['acc']), label='train acc')\n",
    "# plt.plot( np.array(history.history['val_acc']), label='val acc')\n",
    "plt.legend()\n",
    "plt.grid()"
   ]
  },
  {
   "cell_type": "code",
   "execution_count": 60,
   "metadata": {},
   "outputs": [],
   "source": [
    "# gc.collect()"
   ]
  },
  {
   "cell_type": "markdown",
   "metadata": {},
   "source": [
    "## тест"
   ]
  },
  {
   "cell_type": "code",
   "execution_count": 61,
   "metadata": {},
   "outputs": [],
   "source": [
    "# dataset.sample(2)"
   ]
  },
  {
   "cell_type": "code",
   "execution_count": 62,
   "metadata": {},
   "outputs": [],
   "source": [
    "dataset['dist'] = model.predict([x_left,x_right,])"
   ]
  },
  {
   "cell_type": "code",
   "execution_count": 63,
   "metadata": {},
   "outputs": [],
   "source": [
    "data_dist = dataset[['id_L','id_R','target','dist']]\\\n",
    "    .merge(data[['id','Наименование']].rename(columns={'id':'id_R','Наименование':'ttext_R'}),on='id_R')\\\n",
    "    .merge(data[['id','Наименование']].rename(columns={'id':'id_L','Наименование':'ttext_L'}),on='id_L')\\\n",
    "    [['ttext_L','ttext_R','dist']]\n",
    "\n",
    "# data_dist.sample(3)"
   ]
  },
  {
   "cell_type": "code",
   "execution_count": 64,
   "metadata": {},
   "outputs": [
    {
     "data": {
      "text/html": [
       "<div>\n",
       "<style scoped>\n",
       "    .dataframe tbody tr th:only-of-type {\n",
       "        vertical-align: middle;\n",
       "    }\n",
       "\n",
       "    .dataframe tbody tr th {\n",
       "        vertical-align: top;\n",
       "    }\n",
       "\n",
       "    .dataframe thead th {\n",
       "        text-align: right;\n",
       "    }\n",
       "</style>\n",
       "<table border=\"1\" class=\"dataframe\">\n",
       "  <thead>\n",
       "    <tr style=\"text-align: right;\">\n",
       "      <th></th>\n",
       "      <th>count</th>\n",
       "      <th>mean</th>\n",
       "      <th>std</th>\n",
       "      <th>min</th>\n",
       "      <th>25%</th>\n",
       "      <th>50%</th>\n",
       "      <th>75%</th>\n",
       "      <th>max</th>\n",
       "    </tr>\n",
       "  </thead>\n",
       "  <tbody>\n",
       "    <tr>\n",
       "      <th>dist</th>\n",
       "      <td>4500.0</td>\n",
       "      <td>0.822694</td>\n",
       "      <td>0.869147</td>\n",
       "      <td>0.0</td>\n",
       "      <td>0.0</td>\n",
       "      <td>0.504612</td>\n",
       "      <td>1.562503</td>\n",
       "      <td>3.397567</td>\n",
       "    </tr>\n",
       "  </tbody>\n",
       "</table>\n",
       "</div>"
      ],
      "text/plain": [
       "       count      mean       std  min  25%       50%       75%       max\n",
       "dist  4500.0  0.822694  0.869147  0.0  0.0  0.504612  1.562503  3.397567"
      ]
     },
     "execution_count": 64,
     "metadata": {},
     "output_type": "execute_result"
    }
   ],
   "source": [
    "data_dist[['dist']].describe().T"
   ]
  },
  {
   "cell_type": "code",
   "execution_count": 65,
   "metadata": {},
   "outputs": [
    {
     "data": {
      "text/html": [
       "<div>\n",
       "<style scoped>\n",
       "    .dataframe tbody tr th:only-of-type {\n",
       "        vertical-align: middle;\n",
       "    }\n",
       "\n",
       "    .dataframe tbody tr th {\n",
       "        vertical-align: top;\n",
       "    }\n",
       "\n",
       "    .dataframe thead th {\n",
       "        text-align: right;\n",
       "    }\n",
       "</style>\n",
       "<table border=\"1\" class=\"dataframe\">\n",
       "  <thead>\n",
       "    <tr style=\"text-align: right;\">\n",
       "      <th></th>\n",
       "      <th>ttext_L</th>\n",
       "      <th>ttext_R</th>\n",
       "      <th>dist</th>\n",
       "    </tr>\n",
       "  </thead>\n",
       "  <tbody>\n",
       "    <tr>\n",
       "      <th>3428</th>\n",
       "      <td>Ограды (заборы) и ограждения прочие</td>\n",
       "      <td>Сооружения для занятий спортом и отдыха</td>\n",
       "      <td>0.0</td>\n",
       "    </tr>\n",
       "    <tr>\n",
       "      <th>1129</th>\n",
       "      <td>Услуги центрального аппарата Следственного комитета Российской Федерации</td>\n",
       "      <td>Услуги федеральных арбитражных судов округов</td>\n",
       "      <td>0.0</td>\n",
       "    </tr>\n",
       "    <tr>\n",
       "      <th>4042</th>\n",
       "      <td>Работы по укладке ковровых покрытий, линолеума и прочих гибких материалов для покрытия полов</td>\n",
       "      <td>Работы по устройству полов из тераццо, работы с использованием мрамора, гранита и сланца</td>\n",
       "      <td>0.0</td>\n",
       "    </tr>\n",
       "    <tr>\n",
       "      <th>1190</th>\n",
       "      <td>Дистилляты прочие полного цикла производства</td>\n",
       "      <td>Ликероводочные изделия крепостью свыше 25 % прочие</td>\n",
       "      <td>0.0</td>\n",
       "    </tr>\n",
       "    <tr>\n",
       "      <th>2920</th>\n",
       "      <td>Барабаны деревянные для электрических кабелей и проводов</td>\n",
       "      <td>Комплекты бочковые и бочки заливные</td>\n",
       "      <td>0.0</td>\n",
       "    </tr>\n",
       "    <tr>\n",
       "      <th>4334</th>\n",
       "      <td>Прицепы и полуприцепы типа фургонов для проживания или отдыха на природе</td>\n",
       "      <td>Контейнеры общего назначения (универсальные)</td>\n",
       "      <td>0.0</td>\n",
       "    </tr>\n",
       "    <tr>\n",
       "      <th>3524</th>\n",
       "      <td>Изделия санитарно-технические аналогичные пластмассовые</td>\n",
       "      <td>Изделия пластмассовые строительные</td>\n",
       "      <td>0.0</td>\n",
       "    </tr>\n",
       "    <tr>\n",
       "      <th>3496</th>\n",
       "      <td>Профили фасонные пластмассовые</td>\n",
       "      <td>Покрытия полимерные защитные для улучшения радиационной обстановки</td>\n",
       "      <td>0.0</td>\n",
       "    </tr>\n",
       "    <tr>\n",
       "      <th>227</th>\n",
       "      <td>Металлоконструкции строительные и их части</td>\n",
       "      <td>Конструкции детали для шахтного строительства из черных металлов</td>\n",
       "      <td>0.0</td>\n",
       "    </tr>\n",
       "    <tr>\n",
       "      <th>786</th>\n",
       "      <td>Работы с целью оказания медицинской помощи</td>\n",
       "      <td>Услуги радиолокационных станций, расположенных в аэропортах</td>\n",
       "      <td>0.0</td>\n",
       "    </tr>\n",
       "  </tbody>\n",
       "</table>\n",
       "</div>"
      ],
      "text/plain": [
       "                                                                                           ttext_L  \\\n",
       "3428                                                           Ограды (заборы) и ограждения прочие   \n",
       "1129                      Услуги центрального аппарата Следственного комитета Российской Федерации   \n",
       "4042  Работы по укладке ковровых покрытий, линолеума и прочих гибких материалов для покрытия полов   \n",
       "1190                                                  Дистилляты прочие полного цикла производства   \n",
       "2920                                      Барабаны деревянные для электрических кабелей и проводов   \n",
       "4334                      Прицепы и полуприцепы типа фургонов для проживания или отдыха на природе   \n",
       "3524                                       Изделия санитарно-технические аналогичные пластмассовые   \n",
       "3496                                                                Профили фасонные пластмассовые   \n",
       "227                                                     Металлоконструкции строительные и их части   \n",
       "786                                                     Работы с целью оказания медицинской помощи   \n",
       "\n",
       "                                                                                       ttext_R  \\\n",
       "3428                                                   Сооружения для занятий спортом и отдыха   \n",
       "1129                                              Услуги федеральных арбитражных судов округов   \n",
       "4042  Работы по устройству полов из тераццо, работы с использованием мрамора, гранита и сланца   \n",
       "1190                                        Ликероводочные изделия крепостью свыше 25 % прочие   \n",
       "2920                                                       Комплекты бочковые и бочки заливные   \n",
       "4334                                              Контейнеры общего назначения (универсальные)   \n",
       "3524                                                        Изделия пластмассовые строительные   \n",
       "3496                        Покрытия полимерные защитные для улучшения радиационной обстановки   \n",
       "227                           Конструкции детали для шахтного строительства из черных металлов   \n",
       "786                                Услуги радиолокационных станций, расположенных в аэропортах   \n",
       "\n",
       "      dist  \n",
       "3428   0.0  \n",
       "1129   0.0  \n",
       "4042   0.0  \n",
       "1190   0.0  \n",
       "2920   0.0  \n",
       "4334   0.0  \n",
       "3524   0.0  \n",
       "3496   0.0  \n",
       "227    0.0  \n",
       "786    0.0  "
      ]
     },
     "execution_count": 65,
     "metadata": {},
     "output_type": "execute_result"
    }
   ],
   "source": [
    "# похожие тексты\n",
    "data_dist[ (data_dist['dist']<0.5) & (data_dist['ttext_L']!=data_dist['ttext_R']) ].sample(10)"
   ]
  },
  {
   "cell_type": "code",
   "execution_count": 66,
   "metadata": {},
   "outputs": [
    {
     "data": {
      "text/html": [
       "<div>\n",
       "<style scoped>\n",
       "    .dataframe tbody tr th:only-of-type {\n",
       "        vertical-align: middle;\n",
       "    }\n",
       "\n",
       "    .dataframe tbody tr th {\n",
       "        vertical-align: top;\n",
       "    }\n",
       "\n",
       "    .dataframe thead th {\n",
       "        text-align: right;\n",
       "    }\n",
       "</style>\n",
       "<table border=\"1\" class=\"dataframe\">\n",
       "  <thead>\n",
       "    <tr style=\"text-align: right;\">\n",
       "      <th></th>\n",
       "      <th>ttext_L</th>\n",
       "      <th>ttext_R</th>\n",
       "      <th>dist</th>\n",
       "    </tr>\n",
       "  </thead>\n",
       "  <tbody>\n",
       "    <tr>\n",
       "      <th>4357</th>\n",
       "      <td>Мотоциклы с поршневым двигателем внутреннего сгорания с рабочим объемом цилиндров не более 50 см3</td>\n",
       "      <td>Услуги по ремонту электрооборудования прочих автотранспортных средств</td>\n",
       "      <td>1.263635</td>\n",
       "    </tr>\n",
       "    <tr>\n",
       "      <th>3601</th>\n",
       "      <td>Услуги по чистовой обработке прочих стеклянных изделий, включая технические стеклянные изделия</td>\n",
       "      <td>Услуги по заграничным и каботажным перевозкам морскими судами сухих сыпучих грузов</td>\n",
       "      <td>1.440093</td>\n",
       "    </tr>\n",
       "    <tr>\n",
       "      <th>971</th>\n",
       "      <td>Нефть смесевая особо высокосернистая особо легкая</td>\n",
       "      <td>Рыба и филе рыбное холодного копчения</td>\n",
       "      <td>1.388784</td>\n",
       "    </tr>\n",
       "    <tr>\n",
       "      <th>1409</th>\n",
       "      <td>Услуги по производству ювелирных и соответствующих изделий отдельные, выполняемые субподрядчиком</td>\n",
       "      <td>Услуги по бронированию и взаимосвязанные услуги прочие</td>\n",
       "      <td>1.094095</td>\n",
       "    </tr>\n",
       "    <tr>\n",
       "      <th>1895</th>\n",
       "      <td>Игры и игрушки, не включенные в другие группировки</td>\n",
       "      <td>Панели и прочие комплекты электрической аппаратуры коммутации или защиты на напряжение не более 1 кВ</td>\n",
       "      <td>1.318040</td>\n",
       "    </tr>\n",
       "    <tr>\n",
       "      <th>1371</th>\n",
       "      <td>Услуги по сбору неопасных отходов городского хозяйства, непригодных для повторного использования</td>\n",
       "      <td>Трубы и муфты асбестоцементные безнапорные</td>\n",
       "      <td>1.437839</td>\n",
       "    </tr>\n",
       "    <tr>\n",
       "      <th>3199</th>\n",
       "      <td>Работы строительные по строительству открытых плавательных бассейнов</td>\n",
       "      <td>Материалы смазочные; присадки; антифризы</td>\n",
       "      <td>1.363696</td>\n",
       "    </tr>\n",
       "    <tr>\n",
       "      <th>1613</th>\n",
       "      <td>Мороженое мягкое с заменителем молочного жира</td>\n",
       "      <td>Красители органические синтетические прочие</td>\n",
       "      <td>1.221022</td>\n",
       "    </tr>\n",
       "    <tr>\n",
       "      <th>687</th>\n",
       "      <td>Акула-молот свежая или охлажденная</td>\n",
       "      <td>Работы строительные по строительству фуникулеров и подвесных дорог</td>\n",
       "      <td>1.638706</td>\n",
       "    </tr>\n",
       "    <tr>\n",
       "      <th>1727</th>\n",
       "      <td>Изделия хлебобулочные; мучные кондитерские изделия, торты и пирожные недлительного хранения</td>\n",
       "      <td>Услуги кафе с полным обслуживанием без сопровождения развлекательных программ</td>\n",
       "      <td>2.524899</td>\n",
       "    </tr>\n",
       "  </tbody>\n",
       "</table>\n",
       "</div>"
      ],
      "text/plain": [
       "                                                                                                ttext_L  \\\n",
       "4357  Мотоциклы с поршневым двигателем внутреннего сгорания с рабочим объемом цилиндров не более 50 см3   \n",
       "3601     Услуги по чистовой обработке прочих стеклянных изделий, включая технические стеклянные изделия   \n",
       "971                                                   Нефть смесевая особо высокосернистая особо легкая   \n",
       "1409   Услуги по производству ювелирных и соответствующих изделий отдельные, выполняемые субподрядчиком   \n",
       "1895                                                 Игры и игрушки, не включенные в другие группировки   \n",
       "1371   Услуги по сбору неопасных отходов городского хозяйства, непригодных для повторного использования   \n",
       "3199                               Работы строительные по строительству открытых плавательных бассейнов   \n",
       "1613                                                      Мороженое мягкое с заменителем молочного жира   \n",
       "687                                                                  Акула-молот свежая или охлажденная   \n",
       "1727        Изделия хлебобулочные; мучные кондитерские изделия, торты и пирожные недлительного хранения   \n",
       "\n",
       "                                                                                                   ttext_R  \\\n",
       "4357                                 Услуги по ремонту электрооборудования прочих автотранспортных средств   \n",
       "3601                    Услуги по заграничным и каботажным перевозкам морскими судами сухих сыпучих грузов   \n",
       "971                                                                  Рыба и филе рыбное холодного копчения   \n",
       "1409                                                Услуги по бронированию и взаимосвязанные услуги прочие   \n",
       "1895  Панели и прочие комплекты электрической аппаратуры коммутации или защиты на напряжение не более 1 кВ   \n",
       "1371                                                            Трубы и муфты асбестоцементные безнапорные   \n",
       "3199                                                              Материалы смазочные; присадки; антифризы   \n",
       "1613                                                           Красители органические синтетические прочие   \n",
       "687                                     Работы строительные по строительству фуникулеров и подвесных дорог   \n",
       "1727                         Услуги кафе с полным обслуживанием без сопровождения развлекательных программ   \n",
       "\n",
       "          dist  \n",
       "4357  1.263635  \n",
       "3601  1.440093  \n",
       "971   1.388784  \n",
       "1409  1.094095  \n",
       "1895  1.318040  \n",
       "1371  1.437839  \n",
       "3199  1.363696  \n",
       "1613  1.221022  \n",
       "687   1.638706  \n",
       "1727  2.524899  "
      ]
     },
     "execution_count": 66,
     "metadata": {},
     "output_type": "execute_result"
    }
   ],
   "source": [
    "# НЕпохожие тексты\n",
    "data_dist[ (data_dist['dist']>0.5) ].sample(10)"
   ]
  },
  {
   "cell_type": "code",
   "execution_count": null,
   "metadata": {},
   "outputs": [],
   "source": []
  }
 ],
 "metadata": {
  "kernelspec": {
   "display_name": "Python 3 (ipykernel)",
   "language": "python",
   "name": "python3"
  },
  "language_info": {
   "codemirror_mode": {
    "name": "ipython",
    "version": 3
   },
   "file_extension": ".py",
   "mimetype": "text/x-python",
   "name": "python",
   "nbconvert_exporter": "python",
   "pygments_lexer": "ipython3",
   "version": "3.8.9"
  },
  "toc": {
   "base_numbering": 1,
   "nav_menu": {},
   "number_sections": true,
   "sideBar": true,
   "skip_h1_title": false,
   "title_cell": "Table of Contents",
   "title_sidebar": "Contents",
   "toc_cell": false,
   "toc_position": {},
   "toc_section_display": "block",
   "toc_window_display": false
  }
 },
 "nbformat": 4,
 "nbformat_minor": 4
}
