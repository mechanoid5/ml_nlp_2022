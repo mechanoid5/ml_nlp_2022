{
 "cells": [
  {
   "cell_type": "markdown",
   "metadata": {},
   "source": [
    "**извлечение признаков из текста на естественном языке**\n",
    "\n",
    "классификатор текстов лемматизация+TfidfVectorizer\n",
    "\n",
    "Евгений Борисов borisov.e@solarl.ru"
   ]
  },
  {
   "cell_type": "markdown",
   "metadata": {},
   "source": [
    "## библиотеки"
   ]
  },
  {
   "cell_type": "code",
   "execution_count": 1,
   "metadata": {},
   "outputs": [],
   "source": [
    "import re\n",
    "# import gzip\n",
    "import numpy as np\n",
    "import numpy.random as rng\n",
    "import pandas as pd\n",
    "from tqdm import tqdm\n",
    "\n",
    "np.set_printoptions(precision=2) # вывод на печать чисел до 2 знака\n",
    "pd.options.display.max_colwidth = 200 \n",
    "\n",
    "tqdm.pandas()"
   ]
  },
  {
   "cell_type": "code",
   "execution_count": 2,
   "metadata": {},
   "outputs": [],
   "source": [
    "# import numpy as np\n",
    "# import pandas as pd\n",
    "# import re"
   ]
  },
  {
   "cell_type": "code",
   "execution_count": 3,
   "metadata": {},
   "outputs": [
    {
     "data": {
      "text/plain": [
       "'0.24.1'"
      ]
     },
     "execution_count": 3,
     "metadata": {},
     "output_type": "execute_result"
    }
   ],
   "source": [
    "from sklearn import __version__ as SKLEARN_VERSION\n",
    "\n",
    "from sklearn.feature_extraction.text import TfidfVectorizer\n",
    "\n",
    "from sklearn.model_selection import train_test_split\n",
    "from sklearn.metrics import confusion_matrix\n",
    "from sklearn.metrics import classification_report\n",
    "from sklearn.metrics import accuracy_score\n",
    "\n",
    "SKLEARN_VERSION"
   ]
  },
  {
   "cell_type": "code",
   "execution_count": 4,
   "metadata": {},
   "outputs": [],
   "source": [
    "from pymorphy2 import MorphAnalyzer"
   ]
  },
  {
   "cell_type": "markdown",
   "metadata": {},
   "source": [
    "## тексты"
   ]
  },
  {
   "cell_type": "code",
   "execution_count": 5,
   "metadata": {},
   "outputs": [
    {
     "name": "stdout",
     "output_type": "stream",
     "text": [
      "записей: 3196\n"
     ]
    },
    {
     "data": {
      "text/html": [
       "<div>\n",
       "<style scoped>\n",
       "    .dataframe tbody tr th:only-of-type {\n",
       "        vertical-align: middle;\n",
       "    }\n",
       "\n",
       "    .dataframe tbody tr th {\n",
       "        vertical-align: top;\n",
       "    }\n",
       "\n",
       "    .dataframe thead th {\n",
       "        text-align: right;\n",
       "    }\n",
       "</style>\n",
       "<table border=\"1\" class=\"dataframe\">\n",
       "  <thead>\n",
       "    <tr style=\"text-align: right;\">\n",
       "      <th></th>\n",
       "      <th>text</th>\n",
       "      <th>tag</th>\n",
       "    </tr>\n",
       "  </thead>\n",
       "  <tbody>\n",
       "    <tr>\n",
       "      <th>1562</th>\n",
       "      <td>ХМЕЙМИМ (Сирия), 13 дек — РИА Новости. Сирийские власти полностью контролируют более 98% территории Алеппо, таким образом, общая площадь кварталов в восточной части города, где остаются боевики, н...</td>\n",
       "      <td>politics</td>\n",
       "    </tr>\n",
       "    <tr>\n",
       "      <th>442</th>\n",
       "      <td>В Иране сменят название национальной валюты\\n\\n7 декабря 2016 в 19:07\\n\\nЕвгений Калюков, РБК\\n\\nСовет министров и президент Хасан Роухани поддержали предложение Центробанка о деноминации и смене ...</td>\n",
       "      <td>politics</td>\n",
       "    </tr>\n",
       "  </tbody>\n",
       "</table>\n",
       "</div>"
      ],
      "text/plain": [
       "                                                                                                                                                                                                         text  \\\n",
       "1562  ХМЕЙМИМ (Сирия), 13 дек — РИА Новости. Сирийские власти полностью контролируют более 98% территории Алеппо, таким образом, общая площадь кварталов в восточной части города, где остаются боевики, н...   \n",
       "442   В Иране сменят название национальной валюты\\n\\n7 декабря 2016 в 19:07\\n\\nЕвгений Калюков, РБК\\n\\nСовет министров и президент Хасан Роухани поддержали предложение Центробанка о деноминации и смене ...   \n",
       "\n",
       "           tag  \n",
       "1562  politics  \n",
       "442   politics  "
      ]
     },
     "execution_count": 5,
     "metadata": {},
     "output_type": "execute_result"
    }
   ],
   "source": [
    "# загружаем тексты\n",
    "data = pd.read_pickle('../data/news.pkl.gz')\n",
    "print('записей:',len(data))\n",
    "data.sample(2)"
   ]
  },
  {
   "cell_type": "markdown",
   "metadata": {},
   "source": [
    "## токенизация и очистка"
   ]
  },
  {
   "cell_type": "code",
   "execution_count": 6,
   "metadata": {},
   "outputs": [],
   "source": [
    "# собираем словарь из текстов\n",
    "def get_vocabulary(ds):\n",
    "    vcb = [ set(s) for s in ds.tolist() ]\n",
    "    return sorted(set.union(*vcb))"
   ]
  },
  {
   "cell_type": "code",
   "execution_count": 7,
   "metadata": {},
   "outputs": [],
   "source": [
    "# лемматизация и очистка с помощью пакета морфологического анализа\n",
    "\n",
    "morph = MorphAnalyzer()\n",
    "\n",
    "\n",
    "# применяет список замен pat к строке s\n",
    "def replace_patterns(s,pat):\n",
    "    if len(pat)<1: return s\n",
    "    return  replace_patterns( re.sub(pat[0][0],pat[0][1],s), pat[1:] )\n",
    "\n",
    "# нормализация текста\n",
    "def string_normalizer(s):\n",
    "    pat = [\n",
    "       [r'ё','е'] # замена ё для унификации\n",
    "       ,[r'</?[a-z]+>',' '] # удаляем xml\n",
    "       ,[r'[^a-zа-я\\- ]+',' '] # оставляем только буквы, пробел и -\n",
    "       ,[r' -\\w+',' '] # удаляем '-й','-тый' и т.п.\n",
    "       ,[r'\\w+- ',' ']\n",
    "       ,[r' +',' '] # удаляем повторы пробелов\n",
    "    ]\n",
    "    return replace_patterns(s.lower(),pat).strip()\n",
    "\n",
    "# NOUN (существительное), VERB (глагол), ADJF (прилагательное)\n",
    "def word_normalizer(w, pos_types=('NOUN','VERB','ADJF')):\n",
    "    if not morph.word_is_known(w): return ''\n",
    "    p = morph.parse(w)[0] \n",
    "    return p.normal_form if (p.tag.POS in pos_types) else ''\n",
    "\n",
    "\n",
    "def tokenize_normalize(s):\n",
    "    return [ word_normalizer(w) for w in s.split(' ') if len(w)>1 ]"
   ]
  },
  {
   "cell_type": "code",
   "execution_count": 8,
   "metadata": {},
   "outputs": [
    {
     "name": "stderr",
     "output_type": "stream",
     "text": [
      "100%|██████████| 3196/3196 [00:00<00:00, 5148.71it/s]\n",
      "100%|██████████| 3196/3196 [01:20<00:00, 39.80it/s]\n"
     ]
    }
   ],
   "source": [
    "data['ctext'] = data['text'].progress_apply(string_normalizer).progress_apply( tokenize_normalize )"
   ]
  },
  {
   "cell_type": "code",
   "execution_count": 9,
   "metadata": {},
   "outputs": [
    {
     "name": "stdout",
     "output_type": "stream",
     "text": [
      "словарь 22673 слов\n"
     ]
    }
   ],
   "source": [
    "vcb0 =  get_vocabulary( data['ctext'] )\n",
    "print('словарь %i слов'%(len(vcb0)))\n",
    "# pd.DataFrame( vcb ).to_csv('voc0.txt',index=False,header=False)"
   ]
  },
  {
   "cell_type": "code",
   "execution_count": 10,
   "metadata": {},
   "outputs": [],
   "source": [
    "data['ctext'] = data['ctext'].apply( ' '.join  )"
   ]
  },
  {
   "cell_type": "code",
   "execution_count": 11,
   "metadata": {},
   "outputs": [
    {
     "data": {
      "text/html": [
       "<div>\n",
       "<style scoped>\n",
       "    .dataframe tbody tr th:only-of-type {\n",
       "        vertical-align: middle;\n",
       "    }\n",
       "\n",
       "    .dataframe tbody tr th {\n",
       "        vertical-align: top;\n",
       "    }\n",
       "\n",
       "    .dataframe thead th {\n",
       "        text-align: right;\n",
       "    }\n",
       "</style>\n",
       "<table border=\"1\" class=\"dataframe\">\n",
       "  <thead>\n",
       "    <tr style=\"text-align: right;\">\n",
       "      <th></th>\n",
       "      <th>text</th>\n",
       "      <th>tag</th>\n",
       "      <th>ctext</th>\n",
       "    </tr>\n",
       "  </thead>\n",
       "  <tbody>\n",
       "    <tr>\n",
       "      <th>1042</th>\n",
       "      <td>Не отходя от кассы. Сколько стоят кредиты, которые банки дают прямо в магазине\\n\\n3 декабря 2016 в 12:47\\n\\nМарта Булынко / FINANCE.TUT.BY\\n\\nМогут ли быть кредиты, оформленные прямо в магазине, п...</td>\n",
       "      <td>economics</td>\n",
       "      <td>касса  стоять кредит который банк давать  магазин декабрь март     мочь   кредит   магазин       посмотреть какой условие предлагать банк  клиент который хотеть  деньга    выбрать   быть  вариа...</td>\n",
       "    </tr>\n",
       "    <tr>\n",
       "      <th>2543</th>\n",
       "      <td>Американские ученые заявили о том, что самым одиноким местом на нашей планете является Точка Немо (Point Nemo).\\n\\n\\n\\nРасположен этот участок суши, который бы точно понравился социопатам, в Южной...</td>\n",
       "      <td>science</td>\n",
       "      <td>американский учёный заявить тот  самый одинокий место  наш планета являться точка     этот участок сушить который   понравиться социопат южный часть тихий океан    близкий  пункт  тыс километр    ...</td>\n",
       "    </tr>\n",
       "    <tr>\n",
       "      <th>2628</th>\n",
       "      <td>Финские ученые рассказали, какая продолжительность сна является оптимальной для человеческого организма.\\n\\nВ эксперименте приняли участие более 3700 женщин и мужчин. Наблюдения проводились в тече...</td>\n",
       "      <td>science</td>\n",
       "      <td>финский учёный рассказать какой продолжительность сон являться оптимальный  человеческий организм эксперимент принять участие  женщина мужчина наблюдение проводиться течение длительный время сообщ...</td>\n",
       "    </tr>\n",
       "    <tr>\n",
       "      <th>955</th>\n",
       "      <td>Экспорт белорусских нефтепродуктов в Россию сократился в три раза\\n\\n7 декабря 2016 в 13:09\\n\\nДмитрий Заяц, БелаПАН\\n\\nФото: Reuters\\n\\nОбъем экспорта белорусских нефтепродуктов продолжает уменьш...</td>\n",
       "      <td>economics</td>\n",
       "      <td>экспорт белорусский нефтепродукт россия сократиться  раз декабрь дмитрий заяц  фото  объём экспорт белорусский нефтепродукт продолжать   данные официальный статистика   год экспорт нефтепродукт со...</td>\n",
       "    </tr>\n",
       "    <tr>\n",
       "      <th>320</th>\n",
       "      <td>Вячеслав Малежик сегодня споет \"Вологду\" в \"Русском Доме\" (3)Вячеслав\\nМалежик на Вологодчине не первый раз. И, по словам певца, вологодский\\nкрай произвел на него сильное впечатление</td>\n",
       "      <td>culture</td>\n",
       "      <td>вячеслав   спеть вологда русский дом вячеслав     первый раз  слово певец вологодский край произвести   сильный впечатление</td>\n",
       "    </tr>\n",
       "    <tr>\n",
       "      <th>831</th>\n",
       "      <td>Человек-баян и техно под гитару. Как прошел отбор на \"Евровидение — 2017\"\\n\\n30 ноября 2016 в 23:11\\n\\nЕвгений Карпов / Фото: Дарья Бурякина / TUT.BY\\n\\nНа протяжении 14 лет белорусские артисты ма...</td>\n",
       "      <td>culture</td>\n",
       "      <td>техно  гитара  пройти отбор  евровидение ноябрь евгений карпов фото дарья     протяжение год белорусский артист  отправлять заявка  национальный отбор  конкурс евровидение некоторый   делать     ...</td>\n",
       "    </tr>\n",
       "    <tr>\n",
       "      <th>1899</th>\n",
       "      <td>НЬЮ-ЙОРК. 13 ДЕКАБРЯ. ИНТЕРФАКС — Самолет авиакомпании Lufthansa, следовавший из Хьюстона (штат Техас) во Франкфурт (Германия), был перенаправлен в нью-йоркский международный аэропорт имени Джона ...</td>\n",
       "      <td>incident</td>\n",
       "      <td>нью-йорк декабрь интерфакс самолёт авиакомпания    хьюстон штат техас  франкфурт германия быть  нью-йоркский международный аэропорт имя джон кеннеди  угроза взрыв передавать телеканал   ссылка  ис...</td>\n",
       "    </tr>\n",
       "    <tr>\n",
       "      <th>2984</th>\n",
       "      <td>Японская компания Mitsubishi вывела на дорожные тесты свой новый компактвэн повышенной проходимости. Предсерийный прототип модели, предназначенной для рынка Индонезии, запечатлели автомобильные фо...</td>\n",
       "      <td>auto</td>\n",
       "      <td>японский компания  вывести  дорожный тест свой новый  повышенный проходимость  прототип модель   рынок индонезия запечатлеть автомобильный  первый изображение   новинка оказаться распоряжение реда...</td>\n",
       "    </tr>\n",
       "    <tr>\n",
       "      <th>915</th>\n",
       "      <td>В конце декабря состоится самый крупный интернет-аукцион по продаже госсобственности\\n\\n3 декабря 2016 в 9:00\\n\\nЕлена Толкачева / REALTY.TUT.BY\\n\\nНа крупнейшие электронные торги госимуществом вы...</td>\n",
       "      <td>realty</td>\n",
       "      <td>конец декабрь состояться самый крупный интернет-аукцион  продажа  декабрь елена толкачёв     крупный электронный торг госимущество  объект недвижимость гомельский гродненский область общий стоимос...</td>\n",
       "    </tr>\n",
       "    <tr>\n",
       "      <th>80</th>\n",
       "      <td>Вышел релиз KDE 3.5Объявлено о выходе нового стабильного релиза десктоп\\nокружения KDE. Это последний \"major\" релиз до выхода KDE 4.</td>\n",
       "      <td>tech</td>\n",
       "      <td>выйти релиз   выход новый стабильный релиз десктоп окружение   последний  релиз  выход</td>\n",
       "    </tr>\n",
       "  </tbody>\n",
       "</table>\n",
       "</div>"
      ],
      "text/plain": [
       "                                                                                                                                                                                                         text  \\\n",
       "1042  Не отходя от кассы. Сколько стоят кредиты, которые банки дают прямо в магазине\\n\\n3 декабря 2016 в 12:47\\n\\nМарта Булынко / FINANCE.TUT.BY\\n\\nМогут ли быть кредиты, оформленные прямо в магазине, п...   \n",
       "2543  Американские ученые заявили о том, что самым одиноким местом на нашей планете является Точка Немо (Point Nemo).\\n\\n\\n\\nРасположен этот участок суши, который бы точно понравился социопатам, в Южной...   \n",
       "2628  Финские ученые рассказали, какая продолжительность сна является оптимальной для человеческого организма.\\n\\nВ эксперименте приняли участие более 3700 женщин и мужчин. Наблюдения проводились в тече...   \n",
       "955   Экспорт белорусских нефтепродуктов в Россию сократился в три раза\\n\\n7 декабря 2016 в 13:09\\n\\nДмитрий Заяц, БелаПАН\\n\\nФото: Reuters\\n\\nОбъем экспорта белорусских нефтепродуктов продолжает уменьш...   \n",
       "320                   Вячеслав Малежик сегодня споет \"Вологду\" в \"Русском Доме\" (3)Вячеслав\\nМалежик на Вологодчине не первый раз. И, по словам певца, вологодский\\nкрай произвел на него сильное впечатление   \n",
       "831   Человек-баян и техно под гитару. Как прошел отбор на \"Евровидение — 2017\"\\n\\n30 ноября 2016 в 23:11\\n\\nЕвгений Карпов / Фото: Дарья Бурякина / TUT.BY\\n\\nНа протяжении 14 лет белорусские артисты ма...   \n",
       "1899  НЬЮ-ЙОРК. 13 ДЕКАБРЯ. ИНТЕРФАКС — Самолет авиакомпании Lufthansa, следовавший из Хьюстона (штат Техас) во Франкфурт (Германия), был перенаправлен в нью-йоркский международный аэропорт имени Джона ...   \n",
       "2984  Японская компания Mitsubishi вывела на дорожные тесты свой новый компактвэн повышенной проходимости. Предсерийный прототип модели, предназначенной для рынка Индонезии, запечатлели автомобильные фо...   \n",
       "915   В конце декабря состоится самый крупный интернет-аукцион по продаже госсобственности\\n\\n3 декабря 2016 в 9:00\\n\\nЕлена Толкачева / REALTY.TUT.BY\\n\\nНа крупнейшие электронные торги госимуществом вы...   \n",
       "80                                                                       Вышел релиз KDE 3.5Объявлено о выходе нового стабильного релиза десктоп\\nокружения KDE. Это последний \"major\" релиз до выхода KDE 4.   \n",
       "\n",
       "            tag  \\\n",
       "1042  economics   \n",
       "2543    science   \n",
       "2628    science   \n",
       "955   economics   \n",
       "320     culture   \n",
       "831     culture   \n",
       "1899   incident   \n",
       "2984       auto   \n",
       "915      realty   \n",
       "80         tech   \n",
       "\n",
       "                                                                                                                                                                                                        ctext  \n",
       "1042     касса  стоять кредит который банк давать  магазин декабрь март     мочь   кредит   магазин       посмотреть какой условие предлагать банк  клиент который хотеть  деньга    выбрать   быть  вариа...  \n",
       "2543  американский учёный заявить тот  самый одинокий место  наш планета являться точка     этот участок сушить который   понравиться социопат южный часть тихий океан    близкий  пункт  тыс километр    ...  \n",
       "2628  финский учёный рассказать какой продолжительность сон являться оптимальный  человеческий организм эксперимент принять участие  женщина мужчина наблюдение проводиться течение длительный время сообщ...  \n",
       "955   экспорт белорусский нефтепродукт россия сократиться  раз декабрь дмитрий заяц  фото  объём экспорт белорусский нефтепродукт продолжать   данные официальный статистика   год экспорт нефтепродукт со...  \n",
       "320                                                                               вячеслав   спеть вологда русский дом вячеслав     первый раз  слово певец вологодский край произвести   сильный впечатление  \n",
       "831    техно  гитара  пройти отбор  евровидение ноябрь евгений карпов фото дарья     протяжение год белорусский артист  отправлять заявка  национальный отбор  конкурс евровидение некоторый   делать     ...  \n",
       "1899  нью-йорк декабрь интерфакс самолёт авиакомпания    хьюстон штат техас  франкфурт германия быть  нью-йоркский международный аэропорт имя джон кеннеди  угроза взрыв передавать телеканал   ссылка  ис...  \n",
       "2984  японский компания  вывести  дорожный тест свой новый  повышенный проходимость  прототип модель   рынок индонезия запечатлеть автомобильный  первый изображение   новинка оказаться распоряжение реда...  \n",
       "915   конец декабрь состояться самый крупный интернет-аукцион  продажа  декабрь елена толкачёв     крупный электронный торг госимущество  объект недвижимость гомельский гродненский область общий стоимос...  \n",
       "80                                                                                                                    выйти релиз   выход новый стабильный релиз десктоп окружение   последний  релиз  выход   "
      ]
     },
     "execution_count": 11,
     "metadata": {},
     "output_type": "execute_result"
    }
   ],
   "source": [
    "data.sample(10)"
   ]
  },
  {
   "cell_type": "markdown",
   "metadata": {},
   "source": [
    "##  Vectorizer"
   ]
  },
  {
   "cell_type": "code",
   "execution_count": 12,
   "metadata": {},
   "outputs": [
    {
     "name": "stdout",
     "output_type": "stream",
     "text": [
      "22672\n"
     ]
    }
   ],
   "source": [
    "def tokenizer(s): \n",
    "    for w in s.split(' '):\n",
    "        if (len(w)>1): \n",
    "            yield w\n",
    "            \n",
    "tf = TfidfVectorizer(use_idf=True, norm='l2', tokenizer=tokenizer, token_pattern=None).fit( data['ctext'] )\n",
    "vcb1 = sorted(tf.vocabulary_)\n",
    "print(len(vcb1))\n",
    "# pd.DataFrame( vcb1 ).to_csv('voc1.txt',index=False,header=False)"
   ]
  },
  {
   "cell_type": "code",
   "execution_count": 13,
   "metadata": {},
   "outputs": [
    {
     "data": {
      "text/plain": [
       "{''}"
      ]
     },
     "execution_count": 13,
     "metadata": {},
     "output_type": "execute_result"
    }
   ],
   "source": [
    "# разница между исходным словарём и словарём векторайзера\n",
    "set(vcb0)^set(vcb1)"
   ]
  },
  {
   "cell_type": "markdown",
   "metadata": {},
   "source": [
    "## формируем датасеты"
   ]
  },
  {
   "cell_type": "code",
   "execution_count": 14,
   "metadata": {},
   "outputs": [
    {
     "data": {
      "text/plain": [
       "(3196, 22672)"
      ]
     },
     "execution_count": 14,
     "metadata": {},
     "output_type": "execute_result"
    }
   ],
   "source": [
    "X = tf.transform( data['ctext'] )\n",
    "X.shape"
   ]
  },
  {
   "cell_type": "code",
   "execution_count": 15,
   "metadata": {},
   "outputs": [
    {
     "data": {
      "text/plain": [
       "{'auto': 0,\n",
       " 'culture': 1,\n",
       " 'economics': 2,\n",
       " 'health': 3,\n",
       " 'incident': 4,\n",
       " 'politics': 5,\n",
       " 'realty': 6,\n",
       " 'reclama': 7,\n",
       " 'science': 8,\n",
       " 'social': 9,\n",
       " 'sport': 10,\n",
       " 'tech': 11,\n",
       " 'woman': 12}"
      ]
     },
     "execution_count": 15,
     "metadata": {},
     "output_type": "execute_result"
    }
   ],
   "source": [
    "labels = { t:i for i,t in enumerate(sorted(set(data['tag']))) }\n",
    "labels"
   ]
  },
  {
   "cell_type": "code",
   "execution_count": 16,
   "metadata": {},
   "outputs": [
    {
     "data": {
      "text/plain": [
       "array([5, 1, 1, ..., 8, 5, 9])"
      ]
     },
     "execution_count": 16,
     "metadata": {},
     "output_type": "execute_result"
    }
   ],
   "source": [
    "y = data['tag'].map(labels).values\n",
    "y"
   ]
  },
  {
   "cell_type": "code",
   "execution_count": 17,
   "metadata": {},
   "outputs": [
    {
     "data": {
      "text/plain": [
       "((2237, 22672), (2237,), (959, 22672), (959,))"
      ]
     },
     "execution_count": 17,
     "metadata": {},
     "output_type": "execute_result"
    }
   ],
   "source": [
    "X_train, X_test, y_train, y_test = train_test_split( X, y, test_size=0.3, random_state=326 )\n",
    "X_train.shape, y_train.shape, X_test.shape, y_test.shape"
   ]
  },
  {
   "cell_type": "markdown",
   "metadata": {},
   "source": [
    "## обучаем классификатор"
   ]
  },
  {
   "cell_type": "code",
   "execution_count": 18,
   "metadata": {},
   "outputs": [
    {
     "data": {
      "text/plain": [
       "SGDClassifier(tol=0.19)"
      ]
     },
     "execution_count": 18,
     "metadata": {},
     "output_type": "execute_result"
    }
   ],
   "source": [
    "from sklearn.linear_model import SGDClassifier\n",
    "\n",
    "clf = SGDClassifier(loss='hinge',max_iter=1000, tol=0.19)\n",
    "clf.fit(X_train,y_train)"
   ]
  },
  {
   "cell_type": "markdown",
   "metadata": {},
   "source": [
    "## тестируем"
   ]
  },
  {
   "cell_type": "code",
   "execution_count": 19,
   "metadata": {},
   "outputs": [
    {
     "data": {
      "text/plain": [
       "0.9995529727313366"
      ]
     },
     "execution_count": 19,
     "metadata": {},
     "output_type": "execute_result"
    }
   ],
   "source": [
    "# доля правильных ответов на учебном наборе\n",
    "o = clf.predict(X_train)\n",
    "accuracy_score(y_train,o)"
   ]
  },
  {
   "cell_type": "code",
   "execution_count": 20,
   "metadata": {},
   "outputs": [
    {
     "data": {
      "text/plain": [
       "0.8748696558915537"
      ]
     },
     "execution_count": 20,
     "metadata": {},
     "output_type": "execute_result"
    }
   ],
   "source": [
    "# доля правильных ответов на тестовом наборе\n",
    "o = clf.predict(X_test)\n",
    "accuracy_score(y_test,o)"
   ]
  },
  {
   "cell_type": "code",
   "execution_count": 21,
   "metadata": {},
   "outputs": [
    {
     "name": "stdout",
     "output_type": "stream",
     "text": [
      "              precision    recall  f1-score   support\n",
      "\n",
      "           0       0.93      0.87      0.90        87\n",
      "           1       0.84      0.96      0.89       101\n",
      "           2       0.84      0.83      0.83        76\n",
      "           3       0.89      0.77      0.83        31\n",
      "           4       0.88      0.93      0.90       123\n",
      "           5       0.89      0.94      0.91       177\n",
      "           6       0.88      0.67      0.76        21\n",
      "           7       1.00      0.41      0.58        17\n",
      "           8       0.85      1.00      0.92        68\n",
      "           9       0.53      0.36      0.43        44\n",
      "          10       0.98      1.00      0.99       118\n",
      "          11       0.84      0.80      0.82        89\n",
      "          12       1.00      0.71      0.83         7\n",
      "\n",
      "    accuracy                           0.87       959\n",
      "   macro avg       0.87      0.79      0.82       959\n",
      "weighted avg       0.87      0.87      0.87       959\n",
      "\n"
     ]
    }
   ],
   "source": [
    "print( classification_report(y_test,o) )"
   ]
  },
  {
   "cell_type": "markdown",
   "metadata": {},
   "source": [
    "---"
   ]
  },
  {
   "cell_type": "code",
   "execution_count": 22,
   "metadata": {},
   "outputs": [
    {
     "data": {
      "image/png": "[encoded data removed]",
      "text/plain": [
       "<Figure size 720x648 with 2 Axes>"
      ]
     },
     "metadata": {
      "needs_background": "light"
     },
     "output_type": "display_data"
    }
   ],
   "source": [
    "from matplotlib import pyplot as plt\n",
    "import itertools\n",
    "\n",
    "classes = sorted(labels.keys())\n",
    "cm = confusion_matrix(y_test,o)\n",
    "tick_marks = np.arange(len(classes))\n",
    "\n",
    "plt.figure(figsize=(10,9))\n",
    "\n",
    "plt.xticks(tick_marks, classes, rotation=45)\n",
    "plt.yticks(tick_marks, classes)\n",
    "\n",
    "thresh = cm.max() / 2.\n",
    "for i, j in itertools.product(range(cm.shape[0]), range(cm.shape[1])):\n",
    "    plt.text(j, i, format(cm[i, j], 'd'),\n",
    "             horizontalalignment=\"center\",\n",
    "             color=\"white\" if cm[i, j] > thresh else \"black\")\n",
    "\n",
    "plt.title('Confusion matrix')\n",
    "plt.tight_layout()\n",
    "plt.ylabel('True label')\n",
    "plt.xlabel('Predicted label')\n",
    "plt.imshow(cm, interpolation='nearest', cmap=plt.cm.Blues)\n",
    "plt.colorbar()\n",
    "\n",
    "plt.show()"
   ]
  },
  {
   "cell_type": "markdown",
   "metadata": {},
   "source": [
    "---"
   ]
  },
  {
   "cell_type": "code",
   "execution_count": 23,
   "metadata": {},
   "outputs": [
    {
     "name": "stdout",
     "output_type": "stream",
     "text": [
      "tag: culture\n",
      "predict: culture\n",
      "Американский фильм-мюзикл «Ла-Ла Ленд» получил премию Critics Choice Award в номинации «Лучший фильм». Кинокартину снял Демиен Шазелл, который был удостоен награды как лучший режиссер, пишет kommersan...\n",
      "- - - - - - - - - - - - - - - - - -\n",
      "tag: sport\n",
      "predict: sport\n",
      "Стиверн: «Не знаю ни одного спортсмена, кто не употребляет то, что выпил я»\r\n",
      "Стиверн: «Побью Поветкина, а затем выйду против Уайлдера»\r\n",
      "Стиверн: «Понимаю, что в России нужно быть внимательным к еде и ...\n",
      "- - - - - - - - - - - - - - - - - -\n",
      "tag: politics\n",
      "predict: politics\n",
      "Керри, Лавров и Штайнмайер обсуждают Сирию в Гамбурге 8 декабря 2016 в 6:50 Deutsche Welle Переговоры о ситуации в Алеппо между госсекретарем США Джоном Керри и министром иностранных дел России Сер...\n",
      "- - - - - - - - - - - - - - - - - -\n",
      "tag: politics\n",
      "predict: politics\n",
      "О девальвации венесуэльского боливара Николас Мадуро объявил почти год назад Фото: REUTERS Венесуэльский лидер Николас Мадуро 11 декабря распорядился закрыть границу с Колумбией на 72 часа, о чем объ...\n",
      "- - - - - - - - - - - - - - - - - -\n",
      "tag: incident\n",
      "predict: incident\n",
      "Снежная буря стала основной причиной массового ДТП в Кемеровской области. Во вторник на участке дороги Кемерово–Ленинск-Кузнецкий столкнулись более восьми автомобилей. В результате аварии один человек...\n",
      "- - - - - - - - - - - - - - - - - -\n",
      "tag: economics\n",
      "predict: economics\n",
      "Курс валют на завтра в вашем смартфоне уже сегодня 4 декабря 2016 в 9:00 PR-служба TUT.BY Приложение «Финансы TUT.BY» радует белорусских пользователей усовершенствованными функциями. В считаные мин...\n",
      "- - - - - - - - - - - - - - - - - -\n",
      "tag: culture\n",
      "predict: culture\n",
      "ТИА Острова (tia-ostrova.ru) Фестиваль ремесел коренных малочисленных\n",
      "народов Севера Сахалина ?Живые традиции?  Работа второго дня Первого\n",
      "областного фестиваля ремесел коренных народов севера Сахалина...\n",
      "- - - - - - - - - - - - - - - - - -\n",
      "tag: reclama\n",
      "predict: reclama\n",
      "Пользователям TUT.BY стали доступны мобильные переводы с карты на карту 2 декабря 2016 в 9:00 *На правах рекламы Переводы осуществляются между картами MasterCard®, Maestro® и БЕЛКАРТ-Maestro любых ...\n",
      "- - - - - - - - - - - - - - - - - -\n",
      "tag: tech\n",
      "predict: tech\n",
      "Интернет-мошенники паразитируют на сайте американской налоговой\n",
      "службы Антивирусная компания Sophos сообщила о необычном \"фишерском\"\n",
      "письме, рассылаемом пользователям интернета с помощью спамерских те...\n",
      "- - - - - - - - - - - - - - - - - -\n",
      "tag: politics\n",
      "predict: politics\n",
      "Избранный президент США Дональд Трамп назван «человеком года» по версии деловой газеты Financial Times. «Он переписал правила политики США. Теперь президент, являющийся специалистом по заключению сде...\n",
      "- - - - - - - - - - - - - - - - - -\n"
     ]
    }
   ],
   "source": [
    "o = clf.predict(X)\n",
    "\n",
    "labels_inv = { labels[k]:k for k in labels }\n",
    "# labels_inv\n",
    "\n",
    "for n in range(10):\n",
    "    i = rng.randint(len(data))\n",
    "    print('tag:',data.iloc[i,1])\n",
    "    print('predict:',labels_inv[o[i]])\n",
    "    print(re.sub(r'\\n\\s*\\n',' ',data.iloc[i,0][:200])+'...')\n",
    "    print('- - - - - - - - - - - - - - - - - -')\n",
    "    "
   ]
  },
  {
   "cell_type": "code",
   "execution_count": 24,
   "metadata": {},
   "outputs": [],
   "source": [
    "# https://habr.com/ru/post/205360/"
   ]
  },
  {
   "cell_type": "code",
   "execution_count": null,
   "metadata": {},
   "outputs": [],
   "source": []
  }
 ],
 "metadata": {
  "kernelspec": {
   "display_name": "Python 3",
   "language": "python",
   "name": "python3"
  },
  "language_info": {
   "codemirror_mode": {
    "name": "ipython",
    "version": 3
   },
   "file_extension": ".py",
   "mimetype": "text/x-python",
   "name": "python",
   "nbconvert_exporter": "python",
   "pygments_lexer": "ipython3",
   "version": "3.9.2"
  },
  "toc": {
   "base_numbering": 1,
   "nav_menu": {},
   "number_sections": true,
   "sideBar": true,
   "skip_h1_title": false,
   "title_cell": "Table of Contents",
   "title_sidebar": "Contents",
   "toc_cell": false,
   "toc_position": {},
   "toc_section_display": true,
   "toc_window_display": true
  }
 },
 "nbformat": 4,
 "nbformat_minor": 2
}
