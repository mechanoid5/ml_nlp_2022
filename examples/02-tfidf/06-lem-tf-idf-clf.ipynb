{
 "cells": [
  {
   "cell_type": "markdown",
   "metadata": {},
   "source": [
    "**извлечение признаков из текста на естественном языке**\n",
    "\n",
    "классификатор текстов лемматизация+TfidfVectorizer\n",
    "\n",
    "_Евгений Борисов <esborisov@sevsu.ru>_"
   ]
  },
  {
   "cell_type": "markdown",
   "metadata": {},
   "source": [
    "## библиотеки"
   ]
  },
  {
   "cell_type": "code",
   "execution_count": 1,
   "metadata": {},
   "outputs": [],
   "source": [
    "import re\n",
    "# import gzip\n",
    "import numpy as np\n",
    "import numpy.random as rng\n",
    "import pandas as pd\n",
    "from tqdm.notebook import tqdm\n",
    "\n",
    "np.set_printoptions(precision=2) # вывод на печать чисел до 2 знака\n",
    "pd.options.display.max_colwidth = 200 \n",
    "\n",
    "tqdm.pandas()"
   ]
  },
  {
   "cell_type": "code",
   "execution_count": 2,
   "metadata": {},
   "outputs": [],
   "source": [
    "# import numpy as np\n",
    "# import pandas as pd\n",
    "# import re"
   ]
  },
  {
   "cell_type": "code",
   "execution_count": 3,
   "metadata": {},
   "outputs": [
    {
     "data": {
      "text/plain": [
       "'1.0.2'"
      ]
     },
     "execution_count": 3,
     "metadata": {},
     "output_type": "execute_result"
    }
   ],
   "source": [
    "from sklearn import __version__ as SKLEARN_VERSION\n",
    "\n",
    "from sklearn.feature_extraction.text import TfidfVectorizer\n",
    "\n",
    "from sklearn.model_selection import train_test_split\n",
    "from sklearn.metrics import confusion_matrix\n",
    "from sklearn.metrics import classification_report\n",
    "from sklearn.metrics import accuracy_score\n",
    "\n",
    "SKLEARN_VERSION"
   ]
  },
  {
   "cell_type": "code",
   "execution_count": 7,
   "metadata": {},
   "outputs": [],
   "source": [
    "# !pip install pymorphy2"
   ]
  },
  {
   "cell_type": "code",
   "execution_count": 8,
   "metadata": {},
   "outputs": [],
   "source": [
    "from pymorphy2 import MorphAnalyzer"
   ]
  },
  {
   "cell_type": "markdown",
   "metadata": {},
   "source": [
    "## тексты"
   ]
  },
  {
   "cell_type": "code",
   "execution_count": 9,
   "metadata": {},
   "outputs": [
    {
     "name": "stdout",
     "output_type": "stream",
     "text": [
      "записей: 3196\n"
     ]
    },
    {
     "data": {
      "text/html": [
       "<div>\n",
       "<style scoped>\n",
       "    .dataframe tbody tr th:only-of-type {\n",
       "        vertical-align: middle;\n",
       "    }\n",
       "\n",
       "    .dataframe tbody tr th {\n",
       "        vertical-align: top;\n",
       "    }\n",
       "\n",
       "    .dataframe thead th {\n",
       "        text-align: right;\n",
       "    }\n",
       "</style>\n",
       "<table border=\"1\" class=\"dataframe\">\n",
       "  <thead>\n",
       "    <tr style=\"text-align: right;\">\n",
       "      <th></th>\n",
       "      <th>text</th>\n",
       "      <th>tag</th>\n",
       "    </tr>\n",
       "  </thead>\n",
       "  <tbody>\n",
       "    <tr>\n",
       "      <th>1976</th>\n",
       "      <td>13 декабря 2016, 09:10\\n\\nАмериканские фондовые индикаторы преимущественно снизились по итогам вчерашних торгов, однако индекс Dow Jones достиг исторического максимума — шестую сессию подряд.\\n\\nП...</td>\n",
       "      <td>economics</td>\n",
       "    </tr>\n",
       "    <tr>\n",
       "      <th>1046</th>\n",
       "      <td>Деньги, которые нужны бизнесу\\n\\n2 декабря 2016 в 8:59\\n\\nFINANCE.TUT.BY\\n\\nСегодня белорусские компании столкнулись со снижением спроса потребителей на товары и услуги, которые раньше имели больш...</td>\n",
       "      <td>economics</td>\n",
       "    </tr>\n",
       "  </tbody>\n",
       "</table>\n",
       "</div>"
      ],
      "text/plain": [
       "                                                                                                                                                                                                         text  \\\n",
       "1976  13 декабря 2016, 09:10\\n\\nАмериканские фондовые индикаторы преимущественно снизились по итогам вчерашних торгов, однако индекс Dow Jones достиг исторического максимума — шестую сессию подряд.\\n\\nП...   \n",
       "1046  Деньги, которые нужны бизнесу\\n\\n2 декабря 2016 в 8:59\\n\\nFINANCE.TUT.BY\\n\\nСегодня белорусские компании столкнулись со снижением спроса потребителей на товары и услуги, которые раньше имели больш...   \n",
       "\n",
       "            tag  \n",
       "1976  economics  \n",
       "1046  economics  "
      ]
     },
     "execution_count": 9,
     "metadata": {},
     "output_type": "execute_result"
    }
   ],
   "source": [
    "# загружаем тексты\n",
    "data = pd.read_pickle('../data/news.pkl.gz')\n",
    "print('записей:',len(data))\n",
    "data.sample(2)"
   ]
  },
  {
   "cell_type": "markdown",
   "metadata": {},
   "source": [
    "## токенизация и очистка"
   ]
  },
  {
   "cell_type": "code",
   "execution_count": 10,
   "metadata": {},
   "outputs": [],
   "source": [
    "# собираем словарь из текстов\n",
    "def get_vocabulary(ds):\n",
    "    vcb = [ set(s) for s in ds.tolist() ]\n",
    "    return sorted(set.union(*vcb))"
   ]
  },
  {
   "cell_type": "code",
   "execution_count": 11,
   "metadata": {},
   "outputs": [],
   "source": [
    "# лемматизация и очистка с помощью пакета морфологического анализа\n",
    "\n",
    "morph = MorphAnalyzer()\n",
    "\n",
    "\n",
    "# применяет список замен pat к строке s\n",
    "def replace_patterns(s,pat):\n",
    "    if len(pat)<1: return s\n",
    "    return  replace_patterns( re.sub(pat[0][0],pat[0][1],s), pat[1:] )\n",
    "\n",
    "# нормализация текста\n",
    "def string_normalizer(s):\n",
    "    pat = [\n",
    "       [r'ё','е'] # замена ё для унификации\n",
    "       ,[r'</?[a-z]+>',' '] # удаляем xml\n",
    "       ,[r'[^a-zа-я\\- ]+',' '] # оставляем только буквы, пробел и -\n",
    "       ,[r' -\\w+',' '] # удаляем '-й','-тый' и т.п.\n",
    "       ,[r'\\w+- ',' ']\n",
    "       ,[r' +',' '] # удаляем повторы пробелов\n",
    "    ]\n",
    "    return replace_patterns(s.lower(),pat).strip()\n",
    "\n",
    "# NOUN (существительное), VERB (глагол), ADJF (прилагательное)\n",
    "def word_normalizer(w, pos_types=('NOUN','VERB','ADJF')):\n",
    "    if not morph.word_is_known(w): return ''\n",
    "    p = morph.parse(w)[0] \n",
    "    return p.normal_form if (p.tag.POS in pos_types) else ''\n",
    "\n",
    "\n",
    "def tokenize_normalize(s):\n",
    "    return [ word_normalizer(w) for w in s.split(' ') if len(w)>1 ]"
   ]
  },
  {
   "cell_type": "code",
   "execution_count": 12,
   "metadata": {},
   "outputs": [
    {
     "data": {
      "application/vnd.jupyter.widget-view+json": {
       "model_id": "367b05366fe64779a28a79cade57492f",
       "version_major": 2,
       "version_minor": 0
      },
      "text/plain": [
       "  0%|          | 0/3196 [00:00<?, ?it/s]"
      ]
     },
     "metadata": {},
     "output_type": "display_data"
    },
    {
     "data": {
      "application/vnd.jupyter.widget-view+json": {
       "model_id": "297fee54c64a4e03a523a1574ae1e087",
       "version_major": 2,
       "version_minor": 0
      },
      "text/plain": [
       "  0%|          | 0/3196 [00:00<?, ?it/s]"
      ]
     },
     "metadata": {},
     "output_type": "display_data"
    }
   ],
   "source": [
    "data['ctext'] = data['text'].progress_apply(string_normalizer).progress_apply( tokenize_normalize )"
   ]
  },
  {
   "cell_type": "code",
   "execution_count": 13,
   "metadata": {},
   "outputs": [
    {
     "name": "stdout",
     "output_type": "stream",
     "text": [
      "словарь 22673 слов\n"
     ]
    }
   ],
   "source": [
    "vcb0 =  get_vocabulary( data['ctext'] )\n",
    "print('словарь %i слов'%(len(vcb0)))\n",
    "# pd.DataFrame( vcb ).to_csv('voc0.txt',index=False,header=False)"
   ]
  },
  {
   "cell_type": "code",
   "execution_count": 14,
   "metadata": {},
   "outputs": [],
   "source": [
    "data['ctext'] = data['ctext'].apply( ' '.join  )"
   ]
  },
  {
   "cell_type": "code",
   "execution_count": 15,
   "metadata": {},
   "outputs": [
    {
     "data": {
      "text/html": [
       "<div>\n",
       "<style scoped>\n",
       "    .dataframe tbody tr th:only-of-type {\n",
       "        vertical-align: middle;\n",
       "    }\n",
       "\n",
       "    .dataframe tbody tr th {\n",
       "        vertical-align: top;\n",
       "    }\n",
       "\n",
       "    .dataframe thead th {\n",
       "        text-align: right;\n",
       "    }\n",
       "</style>\n",
       "<table border=\"1\" class=\"dataframe\">\n",
       "  <thead>\n",
       "    <tr style=\"text-align: right;\">\n",
       "      <th></th>\n",
       "      <th>text</th>\n",
       "      <th>tag</th>\n",
       "      <th>ctext</th>\n",
       "    </tr>\n",
       "  </thead>\n",
       "  <tbody>\n",
       "    <tr>\n",
       "      <th>1099</th>\n",
       "      <td>Вратарь ЦСКА установил уникальный рекорд Лиги чемпионов\\n\\n8 декабря 2016 в 11:23\\n\\nSPORT.TUT.BY\\n\\nВратарь ЦСКА Игорь Акинфеев в последнем матче группового этапа Лиги чемпионов против «Тоттенхэм...</td>\n",
       "      <td>sport</td>\n",
       "      <td>вратарь цска установить уникальный рекорд лига чемпион декабрь    вратарь цска игорь  последний матч групповой этап лига чемпион   забить гол свой ворота  своеобразный рекорд турнир матч закончить...</td>\n",
       "    </tr>\n",
       "    <tr>\n",
       "      <th>2107</th>\n",
       "      <td>Мадрид, , 10:06 — REGNUM Мадридский «Атлетико» с крупным счетом уступил «Вильярреалу» в матче пятнадцатого тура чемпионата Испании по футболу. Встреча, прошедшая 12 декабря на стадионе «Эль-Мадриг...</td>\n",
       "      <td>sport</td>\n",
       "      <td>мадрид  мадридский  крупный счёт уступить  матч пятнадцатый тур чемпионат испания  футбол встреча прошедший декабрь  стадион   завершиться  счёт победа жёлтый субмарина принести точный удар мануэл...</td>\n",
       "    </tr>\n",
       "    <tr>\n",
       "      <th>2421</th>\n",
       "      <td>Натали Портман и Кейси Аффлек получили призы кинокритиков за актерские работы\\n\\nFacebook ВКонтакте Twitter Google+\\n\\nКадр из фильма \"Джеки\"\\n\\nCritics' Choice – крупнейшая премия ассоциации кино...</td>\n",
       "      <td>culture</td>\n",
       "      <td>натали    получить приз кинокритик  актёрский работа  вконтакте   кадр  фильм джеки   крупный премия ассоциация кинокритик сша канада который состоять  критик вручаться   работа кино  телеэкран сч...</td>\n",
       "    </tr>\n",
       "    <tr>\n",
       "      <th>2037</th>\n",
       "      <td>(обновлено 08:09 13.12.2016 )\\n\\nМОСКВА, 13 дек - Р-Спорт. Две голевые передачи российского нападающего Евгения Малкина помогли хоккеистам \"Питтсбурга\" разгромить \"Аризону\" в матче регулярного чем...</td>\n",
       "      <td>sport</td>\n",
       "      <td>москва дек   голевой передача российский  евгений малкин помочь хоккеист питтсбург  аризона матч регулярный чемпионат нхл встреча прошедший понедельник  лёд питтсбург завершиться  счёт польза хоз...</td>\n",
       "    </tr>\n",
       "    <tr>\n",
       "      <th>1445</th>\n",
       "      <td>Избранный президент США Дональд Трамп принял решение отложить пресс-конференцию, на которой он объявит о своем уходе из бизнеса, сообщила его пресс-секретарь Хоуп Хикс.\\n\\nВ качестве причин перено...</td>\n",
       "      <td>politics</td>\n",
       "      <td>избранный президент сша дональд трамп принять решение  пресс-конференция  который  объявить свой уход  бизнес сообщить  пресс-секретарь   качество причина перенос представитель администрация трамп...</td>\n",
       "    </tr>\n",
       "    <tr>\n",
       "      <th>194</th>\n",
       "      <td>Ющенко поручил Кабмину создать Комитет по противодействию ВИЧ/СПИД Ющенко\\nпоручил Кабмину создать при Министерстве здравоохранения Комитет по\\nвопросам противодействия ВИЧ/СПИД и другим социально...</td>\n",
       "      <td>politics</td>\n",
       "      <td>ющенко поручить кабмин  комитет  противодействие вич спид ющенко поручить кабмин   министерство здравоохранение комитет  вопрос противодействие вич спид другой  опасный болезнь  февраль год   гово...</td>\n",
       "    </tr>\n",
       "    <tr>\n",
       "      <th>1943</th>\n",
       "      <td>Избранный президент США Дональд Трамп одержал победу на выборах главы государства в штатах Висконсин и Пенсильвания, свидетельствуют утвержденные итоги пересчета голосов, который ранее был инициир...</td>\n",
       "      <td>politics</td>\n",
       "      <td>избранный президент сша дональд трамп одержать победа  выборы глава государство штат висконсин пенсильвания свидетельствовать  итог пересчёт голос который  быть  лидер зелёный   пересчёт голос вис...</td>\n",
       "    </tr>\n",
       "    <tr>\n",
       "      <th>3161</th>\n",
       "      <td>ИТАР-ТАСС Урал (tass-ural.ru) Правительство Югры и Внешэкономбанк\\nдоговорились о совместной деятельности по развитию государственно-частного\\nпартнерства в автономном округе.  ТЮМЕНЬ, 19 июля. /К...</td>\n",
       "      <td>economics</td>\n",
       "      <td>итар-тасс урал   правительство югра внешэкономбанк договориться совместный деятельность  развитие государственно-частный партнёрство автономный округ тюмень июль  итар-тасс владимир зуёк правитель...</td>\n",
       "    </tr>\n",
       "    <tr>\n",
       "      <th>2738</th>\n",
       "      <td>В сети начали жаловаться на рекламу во время прослушивания музыки «ВКонтакте». Такие записи стали появляться во многих пабликах.\\n\\nИрина Гурт\\n\\nПост о том, что при желании послушать музыку прямо...</td>\n",
       "      <td>tech</td>\n",
       "      <td>сеть начать   реклама  время прослушивание музыка вконтакте такой запись стать   многий  ирина гурт пост тот   желание  музыка    вконтакте сам композиция появляться реклама один   набрать  челове...</td>\n",
       "    </tr>\n",
       "    <tr>\n",
       "      <th>1340</th>\n",
       "      <td>Смотрите необычное поздравление TUT.BY с Новым годом — в формате 360-градусного видео\\n\\n2 декабря 2016 в 14:49\\n\\n42.TUT.BY\\n\\nTUT.BY поздравляет всех своих читателей с наступающим Рождеством и Н...</td>\n",
       "      <td>social</td>\n",
       "      <td>смотреть необычный поздравление   новый год формат видео декабрь     поздравлять весь свой читатель  рождество новый год  этот раз наш поздравление   обычный   технологичный формат видео передача ...</td>\n",
       "    </tr>\n",
       "  </tbody>\n",
       "</table>\n",
       "</div>"
      ],
      "text/plain": [
       "                                                                                                                                                                                                         text  \\\n",
       "1099  Вратарь ЦСКА установил уникальный рекорд Лиги чемпионов\\n\\n8 декабря 2016 в 11:23\\n\\nSPORT.TUT.BY\\n\\nВратарь ЦСКА Игорь Акинфеев в последнем матче группового этапа Лиги чемпионов против «Тоттенхэм...   \n",
       "2107  Мадрид, , 10:06 — REGNUM Мадридский «Атлетико» с крупным счетом уступил «Вильярреалу» в матче пятнадцатого тура чемпионата Испании по футболу. Встреча, прошедшая 12 декабря на стадионе «Эль-Мадриг...   \n",
       "2421  Натали Портман и Кейси Аффлек получили призы кинокритиков за актерские работы\\n\\nFacebook ВКонтакте Twitter Google+\\n\\nКадр из фильма \"Джеки\"\\n\\nCritics' Choice – крупнейшая премия ассоциации кино...   \n",
       "2037  (обновлено 08:09 13.12.2016 )\\n\\nМОСКВА, 13 дек - Р-Спорт. Две голевые передачи российского нападающего Евгения Малкина помогли хоккеистам \"Питтсбурга\" разгромить \"Аризону\" в матче регулярного чем...   \n",
       "1445  Избранный президент США Дональд Трамп принял решение отложить пресс-конференцию, на которой он объявит о своем уходе из бизнеса, сообщила его пресс-секретарь Хоуп Хикс.\\n\\nВ качестве причин перено...   \n",
       "194   Ющенко поручил Кабмину создать Комитет по противодействию ВИЧ/СПИД Ющенко\\nпоручил Кабмину создать при Министерстве здравоохранения Комитет по\\nвопросам противодействия ВИЧ/СПИД и другим социально...   \n",
       "1943  Избранный президент США Дональд Трамп одержал победу на выборах главы государства в штатах Висконсин и Пенсильвания, свидетельствуют утвержденные итоги пересчета голосов, который ранее был инициир...   \n",
       "3161  ИТАР-ТАСС Урал (tass-ural.ru) Правительство Югры и Внешэкономбанк\\nдоговорились о совместной деятельности по развитию государственно-частного\\nпартнерства в автономном округе.  ТЮМЕНЬ, 19 июля. /К...   \n",
       "2738  В сети начали жаловаться на рекламу во время прослушивания музыки «ВКонтакте». Такие записи стали появляться во многих пабликах.\\n\\nИрина Гурт\\n\\nПост о том, что при желании послушать музыку прямо...   \n",
       "1340  Смотрите необычное поздравление TUT.BY с Новым годом — в формате 360-градусного видео\\n\\n2 декабря 2016 в 14:49\\n\\n42.TUT.BY\\n\\nTUT.BY поздравляет всех своих читателей с наступающим Рождеством и Н...   \n",
       "\n",
       "            tag  \\\n",
       "1099      sport   \n",
       "2107      sport   \n",
       "2421    culture   \n",
       "2037      sport   \n",
       "1445   politics   \n",
       "194    politics   \n",
       "1943   politics   \n",
       "3161  economics   \n",
       "2738       tech   \n",
       "1340     social   \n",
       "\n",
       "                                                                                                                                                                                                        ctext  \n",
       "1099  вратарь цска установить уникальный рекорд лига чемпион декабрь    вратарь цска игорь  последний матч групповой этап лига чемпион   забить гол свой ворота  своеобразный рекорд турнир матч закончить...  \n",
       "2107  мадрид  мадридский  крупный счёт уступить  матч пятнадцатый тур чемпионат испания  футбол встреча прошедший декабрь  стадион   завершиться  счёт победа жёлтый субмарина принести точный удар мануэл...  \n",
       "2421  натали    получить приз кинокритик  актёрский работа  вконтакте   кадр  фильм джеки   крупный премия ассоциация кинокритик сша канада который состоять  критик вручаться   работа кино  телеэкран сч...  \n",
       "2037   москва дек   голевой передача российский  евгений малкин помочь хоккеист питтсбург  аризона матч регулярный чемпионат нхл встреча прошедший понедельник  лёд питтсбург завершиться  счёт польза хоз...  \n",
       "1445  избранный президент сша дональд трамп принять решение  пресс-конференция  который  объявить свой уход  бизнес сообщить  пресс-секретарь   качество причина перенос представитель администрация трамп...  \n",
       "194   ющенко поручить кабмин  комитет  противодействие вич спид ющенко поручить кабмин   министерство здравоохранение комитет  вопрос противодействие вич спид другой  опасный болезнь  февраль год   гово...  \n",
       "1943  избранный президент сша дональд трамп одержать победа  выборы глава государство штат висконсин пенсильвания свидетельствовать  итог пересчёт голос который  быть  лидер зелёный   пересчёт голос вис...  \n",
       "3161  итар-тасс урал   правительство югра внешэкономбанк договориться совместный деятельность  развитие государственно-частный партнёрство автономный округ тюмень июль  итар-тасс владимир зуёк правитель...  \n",
       "2738  сеть начать   реклама  время прослушивание музыка вконтакте такой запись стать   многий  ирина гурт пост тот   желание  музыка    вконтакте сам композиция появляться реклама один   набрать  челове...  \n",
       "1340  смотреть необычный поздравление   новый год формат видео декабрь     поздравлять весь свой читатель  рождество новый год  этот раз наш поздравление   обычный   технологичный формат видео передача ...  "
      ]
     },
     "execution_count": 15,
     "metadata": {},
     "output_type": "execute_result"
    }
   ],
   "source": [
    "data.sample(10)"
   ]
  },
  {
   "cell_type": "markdown",
   "metadata": {},
   "source": [
    "##  Vectorizer"
   ]
  },
  {
   "cell_type": "code",
   "execution_count": 16,
   "metadata": {},
   "outputs": [
    {
     "name": "stdout",
     "output_type": "stream",
     "text": [
      "22672\n"
     ]
    }
   ],
   "source": [
    "def tokenizer(s): \n",
    "    for w in s.split(' '):\n",
    "        if (len(w)>1): \n",
    "            yield w\n",
    "            \n",
    "tf = TfidfVectorizer(use_idf=True, norm='l2', tokenizer=tokenizer, token_pattern=None).fit( data['ctext'] )\n",
    "vcb1 = sorted(tf.vocabulary_)\n",
    "print(len(vcb1))\n",
    "# pd.DataFrame( vcb1 ).to_csv('voc1.txt',index=False,header=False)"
   ]
  },
  {
   "cell_type": "code",
   "execution_count": 17,
   "metadata": {},
   "outputs": [
    {
     "data": {
      "text/plain": [
       "{''}"
      ]
     },
     "execution_count": 17,
     "metadata": {},
     "output_type": "execute_result"
    }
   ],
   "source": [
    "# разница между исходным словарём и словарём векторайзера\n",
    "set(vcb0)^set(vcb1)"
   ]
  },
  {
   "cell_type": "markdown",
   "metadata": {},
   "source": [
    "## формируем датасеты"
   ]
  },
  {
   "cell_type": "code",
   "execution_count": 18,
   "metadata": {},
   "outputs": [
    {
     "data": {
      "text/plain": [
       "(3196, 22672)"
      ]
     },
     "execution_count": 18,
     "metadata": {},
     "output_type": "execute_result"
    }
   ],
   "source": [
    "X = tf.transform( data['ctext'] )\n",
    "X.shape"
   ]
  },
  {
   "cell_type": "code",
   "execution_count": 19,
   "metadata": {},
   "outputs": [
    {
     "data": {
      "text/plain": [
       "{'auto': 0,\n",
       " 'culture': 1,\n",
       " 'economics': 2,\n",
       " 'health': 3,\n",
       " 'incident': 4,\n",
       " 'politics': 5,\n",
       " 'realty': 6,\n",
       " 'reclama': 7,\n",
       " 'science': 8,\n",
       " 'social': 9,\n",
       " 'sport': 10,\n",
       " 'tech': 11,\n",
       " 'woman': 12}"
      ]
     },
     "execution_count": 19,
     "metadata": {},
     "output_type": "execute_result"
    }
   ],
   "source": [
    "labels = { t:i for i,t in enumerate(sorted(set(data['tag']))) }\n",
    "labels"
   ]
  },
  {
   "cell_type": "code",
   "execution_count": 20,
   "metadata": {},
   "outputs": [
    {
     "data": {
      "text/plain": [
       "array([5, 1, 1, ..., 8, 5, 9])"
      ]
     },
     "execution_count": 20,
     "metadata": {},
     "output_type": "execute_result"
    }
   ],
   "source": [
    "y = data['tag'].map(labels).values\n",
    "y"
   ]
  },
  {
   "cell_type": "code",
   "execution_count": 21,
   "metadata": {},
   "outputs": [
    {
     "data": {
      "text/plain": [
       "((2237, 22672), (2237,), (959, 22672), (959,))"
      ]
     },
     "execution_count": 21,
     "metadata": {},
     "output_type": "execute_result"
    }
   ],
   "source": [
    "X_train, X_test, y_train, y_test = train_test_split( X, y, test_size=0.3, random_state=326 )\n",
    "X_train.shape, y_train.shape, X_test.shape, y_test.shape"
   ]
  },
  {
   "cell_type": "markdown",
   "metadata": {},
   "source": [
    "## обучаем классификатор"
   ]
  },
  {
   "cell_type": "code",
   "execution_count": 22,
   "metadata": {},
   "outputs": [
    {
     "data": {
      "text/plain": [
       "SGDClassifier(tol=0.19)"
      ]
     },
     "execution_count": 22,
     "metadata": {},
     "output_type": "execute_result"
    }
   ],
   "source": [
    "from sklearn.linear_model import SGDClassifier\n",
    "\n",
    "clf = SGDClassifier(loss='hinge',max_iter=1000, tol=0.19)\n",
    "clf.fit(X_train,y_train)"
   ]
  },
  {
   "cell_type": "markdown",
   "metadata": {},
   "source": [
    "## тестируем"
   ]
  },
  {
   "cell_type": "code",
   "execution_count": 23,
   "metadata": {},
   "outputs": [
    {
     "data": {
      "text/plain": [
       "0.9995529727313366"
      ]
     },
     "execution_count": 23,
     "metadata": {},
     "output_type": "execute_result"
    }
   ],
   "source": [
    "# доля правильных ответов на учебном наборе\n",
    "o = clf.predict(X_train)\n",
    "accuracy_score(y_train,o)"
   ]
  },
  {
   "cell_type": "code",
   "execution_count": 24,
   "metadata": {},
   "outputs": [
    {
     "data": {
      "text/plain": [
       "0.8706986444212722"
      ]
     },
     "execution_count": 24,
     "metadata": {},
     "output_type": "execute_result"
    }
   ],
   "source": [
    "# доля правильных ответов на тестовом наборе\n",
    "o = clf.predict(X_test)\n",
    "accuracy_score(y_test,o)"
   ]
  },
  {
   "cell_type": "code",
   "execution_count": 25,
   "metadata": {},
   "outputs": [
    {
     "name": "stdout",
     "output_type": "stream",
     "text": [
      "              precision    recall  f1-score   support\n",
      "\n",
      "           0       0.94      0.90      0.92        87\n",
      "           1       0.85      0.96      0.90       101\n",
      "           2       0.84      0.82      0.83        76\n",
      "           3       0.88      0.74      0.81        31\n",
      "           4       0.89      0.91      0.90       123\n",
      "           5       0.88      0.95      0.92       177\n",
      "           6       0.74      0.67      0.70        21\n",
      "           7       1.00      0.47      0.64        17\n",
      "           8       0.81      1.00      0.89        68\n",
      "           9       0.47      0.39      0.42        44\n",
      "          10       0.99      1.00      1.00       118\n",
      "          11       0.87      0.74      0.80        89\n",
      "          12       1.00      0.57      0.73         7\n",
      "\n",
      "    accuracy                           0.87       959\n",
      "   macro avg       0.86      0.78      0.80       959\n",
      "weighted avg       0.87      0.87      0.87       959\n",
      "\n"
     ]
    }
   ],
   "source": [
    "print( classification_report(y_test,o) )"
   ]
  },
  {
   "cell_type": "markdown",
   "metadata": {},
   "source": [
    "---"
   ]
  },
  {
   "cell_type": "code",
   "execution_count": 26,
   "metadata": {},
   "outputs": [
    {
     "data": {
      "image/png": "[encoded data removed]",
      "text/plain": [
       "<Figure size 720x648 with 2 Axes>"
      ]
     },
     "metadata": {
      "needs_background": "light"
     },
     "output_type": "display_data"
    }
   ],
   "source": [
    "from matplotlib import pyplot as plt\n",
    "import itertools\n",
    "\n",
    "classes = sorted(labels.keys())\n",
    "cm = confusion_matrix(y_test,o)\n",
    "tick_marks = np.arange(len(classes))\n",
    "\n",
    "plt.figure(figsize=(10,9))\n",
    "\n",
    "plt.xticks(tick_marks, classes, rotation=45)\n",
    "plt.yticks(tick_marks, classes)\n",
    "\n",
    "thresh = cm.max() / 2.\n",
    "for i, j in itertools.product(range(cm.shape[0]), range(cm.shape[1])):\n",
    "    plt.text(j, i, format(cm[i, j], 'd'),\n",
    "             horizontalalignment=\"center\",\n",
    "             color=\"white\" if cm[i, j] > thresh else \"black\")\n",
    "\n",
    "plt.title('Confusion matrix')\n",
    "plt.tight_layout()\n",
    "plt.ylabel('True label')\n",
    "plt.xlabel('Predicted label')\n",
    "plt.imshow(cm, interpolation='nearest', cmap=plt.cm.Blues)\n",
    "plt.colorbar()\n",
    "\n",
    "plt.show()"
   ]
  },
  {
   "cell_type": "markdown",
   "metadata": {},
   "source": [
    "---"
   ]
  },
  {
   "cell_type": "code",
   "execution_count": 27,
   "metadata": {},
   "outputs": [
    {
     "name": "stdout",
     "output_type": "stream",
     "text": [
      "tag: sport\n",
      "predict: sport\n",
      "Минское \"Динамо\" потерпело третье домашнее поражение подряд 4 декабря 2016 в 19:21 SPORT.TUT.BY / Фото: Дарья Бурякина Минское «Динамо» проиграло дома магнитогорскому «Металлургу» — 2:4 (0:2, 2:1, ...\n",
      "- - - - - - - - - - - - - - - - - -\n",
      "tag: economics\n",
      "predict: economics\n",
      "Сырая нефть Цены на нефть в понедельник подскочили на 5% после того, как страны, не входящие в ОПЕК, достигли соглашения насчет урезания добычи нефти на 558 тыс. баррелей. Россия дала обещание урезат...\n",
      "- - - - - - - - - - - - - - - - - -\n",
      "tag: tech\n",
      "predict: tech\n",
      "Wall Street Journal: \"Беларусь становится Кремниевой долиной Восточной Европы\" 7 декабря 2016 в 10:16 42.TUT.BY Американская деловая газета The Wall Street Journal опубликовала статью об успехах Бе...\n",
      "- - - - - - - - - - - - - - - - - -\n",
      "tag: sport\n",
      "predict: sport\n",
      "Нападающий \"Филадельфии\" Якуб Ворачек стал лучшим игроком недели в НХЛ, информирует официальный сайт НХЛ. В четырех встречах он забросил три шайбы и сделал шесть результативных передач. Второй звездо...\n",
      "- - - - - - - - - - - - - - - - - -\n",
      "tag: social\n",
      "predict: social\n",
      "ГТРК Красноярск (krasnoyarsk.rfn.ru) В Красноярске открылись курсы для\n",
      "переписчиков с Севера Среднестатистический переписчик Красноярска -\n",
      "студент, севера - пенсионер. Причём если первый всегда в осно...\n",
      "- - - - - - - - - - - - - - - - - -\n",
      "tag: sport\n",
      "predict: sport\n",
      "российских гроссмейстеров вышли во в 2-й тур Кубка мираВо вторник в\n",
      "Ханты-Мансийске прошли партии тай-брейков первого тура Кубка мира ФИДЕ,\n",
      "разыгрываемого по нокаут-системе в матчах из двух партий.Как...\n",
      "- - - - - - - - - - - - - - - - - -\n",
      "tag: culture\n",
      "predict: culture\n",
      "В могилевском университете представят уникальный документальный фильм, который снимали 10 лет 9 декабря 2016 в 7:54 Ольга Кисляк, СБ Беларусь Сегодня В Могилевском университете им. А. Кулешова пред...\n",
      "- - - - - - - - - - - - - - - - - -\n",
      "tag: social\n",
      "predict: social\n",
      "Мурманские оленеводы отдыхают в санатории В санаторно-гостиничный комплекс\n",
      "\"Изовела\" прибыла группа работников оленеводческих хозяйств из числа\n",
      "представителей коренных малочисленных народов Севера для...\n",
      "- - - - - - - - - - - - - - - - - -\n",
      "tag: incident\n",
      "predict: incident\n",
      "Под Минском поезд насмерть сбил человека 1 декабря 2016 в 18:20 БЕЛТА Под Минском электропоезд региональных линий насмерть сбил человека, сообщил БЕЛТА сотрудник пресс-службы МВД Александр Марченко...\n",
      "- - - - - - - - - - - - - - - - - -\n",
      "tag: health\n",
      "predict: health\n",
      "Британские ученые выведут капусту, предотвращающую рак Британские ученые\n",
      "работают над выведением нового сорта капусты брокколи с повышенным\n",
      "содержанием сульфорафана - вещества, способного выводить из ...\n",
      "- - - - - - - - - - - - - - - - - -\n"
     ]
    }
   ],
   "source": [
    "o = clf.predict(X)\n",
    "\n",
    "labels_inv = { labels[k]:k for k in labels }\n",
    "# labels_inv\n",
    "\n",
    "for n in range(10):\n",
    "    i = rng.randint(len(data))\n",
    "    print('tag:',data.iloc[i,1])\n",
    "    print('predict:',labels_inv[o[i]])\n",
    "    print(re.sub(r'\\n\\s*\\n',' ',data.iloc[i,0][:200])+'...')\n",
    "    print('- - - - - - - - - - - - - - - - - -')\n",
    "    "
   ]
  },
  {
   "cell_type": "code",
   "execution_count": 28,
   "metadata": {},
   "outputs": [],
   "source": [
    "# https://habr.com/ru/post/205360/"
   ]
  },
  {
   "cell_type": "code",
   "execution_count": null,
   "metadata": {},
   "outputs": [],
   "source": []
  }
 ],
 "metadata": {
  "kernelspec": {
   "display_name": "Python 3 (ipykernel)",
   "language": "python",
   "name": "python3"
  },
  "language_info": {
   "codemirror_mode": {
    "name": "ipython",
    "version": 3
   },
   "file_extension": ".py",
   "mimetype": "text/x-python",
   "name": "python",
   "nbconvert_exporter": "python",
   "pygments_lexer": "ipython3",
   "version": "3.8.9"
  },
  "toc": {
   "base_numbering": 1,
   "nav_menu": {},
   "number_sections": true,
   "sideBar": true,
   "skip_h1_title": false,
   "title_cell": "Table of Contents",
   "title_sidebar": "Contents",
   "toc_cell": false,
   "toc_position": {},
   "toc_section_display": true,
   "toc_window_display": false
  }
 },
 "nbformat": 4,
 "nbformat_minor": 2
}
