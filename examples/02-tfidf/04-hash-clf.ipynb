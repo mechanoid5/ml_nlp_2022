{
 "cells": [
  {
   "cell_type": "markdown",
   "metadata": {},
   "source": [
    "**извлечение признаков из текста на естественном языке**\n",
    "\n",
    "классификатор текстов HashingVectorizer\n",
    "\n",
    "_Евгений Борисов <esborisov@sevsu.ru>_"
   ]
  },
  {
   "cell_type": "markdown",
   "metadata": {},
   "source": [
    "## библиотеки"
   ]
  },
  {
   "cell_type": "code",
   "execution_count": 1,
   "metadata": {},
   "outputs": [],
   "source": [
    "import re\n",
    "# import gzip\n",
    "import numpy as np\n",
    "import numpy.random as rng\n",
    "import pandas as pd\n",
    "from tqdm.notebook import tqdm\n",
    "\n",
    "np.set_printoptions(precision=2) # вывод на печать чисел до 2 знака\n",
    "pd.options.display.max_colwidth = 200 \n",
    "\n",
    "tqdm.pandas()"
   ]
  },
  {
   "cell_type": "code",
   "execution_count": 2,
   "metadata": {},
   "outputs": [],
   "source": [
    "# import numpy as np\n",
    "# import pandas as pd\n",
    "# import re"
   ]
  },
  {
   "cell_type": "code",
   "execution_count": 3,
   "metadata": {},
   "outputs": [
    {
     "data": {
      "text/plain": [
       "'1.0.2'"
      ]
     },
     "execution_count": 3,
     "metadata": {},
     "output_type": "execute_result"
    }
   ],
   "source": [
    "from sklearn import __version__ as SKLEARN_VERSION\n",
    "\n",
    "from sklearn.feature_extraction.text import HashingVectorizer\n",
    "\n",
    "from sklearn.model_selection import train_test_split\n",
    "from sklearn.metrics import confusion_matrix\n",
    "from sklearn.metrics import classification_report\n",
    "from sklearn.metrics import accuracy_score\n",
    "\n",
    "SKLEARN_VERSION"
   ]
  },
  {
   "cell_type": "markdown",
   "metadata": {},
   "source": [
    "## тексты"
   ]
  },
  {
   "cell_type": "code",
   "execution_count": 4,
   "metadata": {},
   "outputs": [
    {
     "name": "stdout",
     "output_type": "stream",
     "text": [
      "записей: 3196\n"
     ]
    },
    {
     "data": {
      "text/html": [
       "<div>\n",
       "<style scoped>\n",
       "    .dataframe tbody tr th:only-of-type {\n",
       "        vertical-align: middle;\n",
       "    }\n",
       "\n",
       "    .dataframe tbody tr th {\n",
       "        vertical-align: top;\n",
       "    }\n",
       "\n",
       "    .dataframe thead th {\n",
       "        text-align: right;\n",
       "    }\n",
       "</style>\n",
       "<table border=\"1\" class=\"dataframe\">\n",
       "  <thead>\n",
       "    <tr style=\"text-align: right;\">\n",
       "      <th></th>\n",
       "      <th>text</th>\n",
       "      <th>tag</th>\n",
       "    </tr>\n",
       "  </thead>\n",
       "  <tbody>\n",
       "    <tr>\n",
       "      <th>1345</th>\n",
       "      <td>Объявлены обладатели \"игрового Оскара\"\\n\\n2 декабря 2016 в 9:54\\n\\nАлександр Михно, 42.TUT.BY\\n\\nВ Лос-Анджелесе в третий раз прошла ежегодная церемония награждения The Game Awards 2016. На основа...</td>\n",
       "      <td>tech</td>\n",
       "    </tr>\n",
       "    <tr>\n",
       "      <th>2496</th>\n",
       "      <td>На днях в польском Вроцлаве Европейская киноакадемия провела торжественную церемонию награждения, определив ведущий кинопроект 2016 года. Они назвали лучшей лентой фильм «Тони Эрдманн». Это совмес...</td>\n",
       "      <td>culture</td>\n",
       "    </tr>\n",
       "    <tr>\n",
       "      <th>3103</th>\n",
       "      <td>СеверИнфо (severinfo.ru) (Вологда) Тундра в ожидании праздника Приближается\\nглавный праздник тундры - День Оленя. О подготовке к нему пишет окружная\\nгазета ?Няръяна вындер?. Немногие праздники с...</td>\n",
       "      <td>social</td>\n",
       "    </tr>\n",
       "    <tr>\n",
       "      <th>1464</th>\n",
       "      <td>Лидер Радикальной партии Олег Ляшко раскритиковал депутата Верховной рады Украины от партии «Батькивщина» Надежду Савченко за встречу с главами самопровозглашенных Донецкой и Луганской народных ре...</td>\n",
       "      <td>politics</td>\n",
       "    </tr>\n",
       "    <tr>\n",
       "      <th>3124</th>\n",
       "      <td>Вестник Приобья (Нягань) Волшебные уроки мастерства В оздоровительном лагере\\n?Планета детства?, что действует на базе средней школы ? 4, - необычная\\nвстреча. В гости к ребятам пожаловали умельцы...</td>\n",
       "      <td>social</td>\n",
       "    </tr>\n",
       "  </tbody>\n",
       "</table>\n",
       "</div>"
      ],
      "text/plain": [
       "                                                                                                                                                                                                         text  \\\n",
       "1345  Объявлены обладатели \"игрового Оскара\"\\n\\n2 декабря 2016 в 9:54\\n\\nАлександр Михно, 42.TUT.BY\\n\\nВ Лос-Анджелесе в третий раз прошла ежегодная церемония награждения The Game Awards 2016. На основа...   \n",
       "2496  На днях в польском Вроцлаве Европейская киноакадемия провела торжественную церемонию награждения, определив ведущий кинопроект 2016 года. Они назвали лучшей лентой фильм «Тони Эрдманн». Это совмес...   \n",
       "3103  СеверИнфо (severinfo.ru) (Вологда) Тундра в ожидании праздника Приближается\\nглавный праздник тундры - День Оленя. О подготовке к нему пишет окружная\\nгазета ?Няръяна вындер?. Немногие праздники с...   \n",
       "1464  Лидер Радикальной партии Олег Ляшко раскритиковал депутата Верховной рады Украины от партии «Батькивщина» Надежду Савченко за встречу с главами самопровозглашенных Донецкой и Луганской народных ре...   \n",
       "3124  Вестник Приобья (Нягань) Волшебные уроки мастерства В оздоровительном лагере\\n?Планета детства?, что действует на базе средней школы ? 4, - необычная\\nвстреча. В гости к ребятам пожаловали умельцы...   \n",
       "\n",
       "           tag  \n",
       "1345      tech  \n",
       "2496   culture  \n",
       "3103    social  \n",
       "1464  politics  \n",
       "3124    social  "
      ]
     },
     "execution_count": 4,
     "metadata": {},
     "output_type": "execute_result"
    }
   ],
   "source": [
    "# загружаем тексты\n",
    "data = pd.read_pickle('../data/news.pkl.gz')\n",
    "print('записей:',len(data))\n",
    "data.sample(5)"
   ]
  },
  {
   "cell_type": "markdown",
   "metadata": {},
   "source": [
    "## токенизация и очистка"
   ]
  },
  {
   "cell_type": "code",
   "execution_count": 5,
   "metadata": {},
   "outputs": [],
   "source": [
    "# собираем словарь из текстов\n",
    "def get_vocabulary(ds):\n",
    "    vcb = [ set(s) for s in ds.tolist() ]\n",
    "    return sorted(set.union(*vcb))"
   ]
  },
  {
   "cell_type": "code",
   "execution_count": 6,
   "metadata": {},
   "outputs": [],
   "source": [
    "# применяет список замен pat к строке s\n",
    "def replace_patterns(s,pat):\n",
    "    if len(pat)<1: return s\n",
    "    return  replace_patterns( re.sub(pat[0][0],pat[0][1],s), pat[1:] )\n",
    "\n",
    "# нормализация текста\n",
    "def string_normalizer(s):\n",
    "    pat = [\n",
    "       [r'ё','е'] # замена ё для унификации\n",
    "       ,[r'</?[a-z]+>',' '] # удаляем xml\n",
    "       ,[r'[^a-zа-я\\- ]+',' '] # оставляем только буквы, пробел и -\n",
    "       ,[r' -\\w+',' '] # удаляем '-й','-тый' и т.п.\n",
    "       ,[r'\\w+- ',' ']\n",
    "       ,[r' +',' '] # удаляем повторы пробелов\n",
    "    ]\n",
    "    return replace_patterns(s.lower(),pat).strip()\n",
    "\n",
    "# разрезаем стоки на слова\n",
    "def tokenize(s): return [ w for w in s.split(' ') if (len(w)>1) ]"
   ]
  },
  {
   "cell_type": "code",
   "execution_count": 7,
   "metadata": {},
   "outputs": [
    {
     "data": {
      "application/vnd.jupyter.widget-view+json": {
       "model_id": "2e114271c1da4950a8456711eeff159b",
       "version_major": 2,
       "version_minor": 0
      },
      "text/plain": [
       "  0%|          | 0/3196 [00:00<?, ?it/s]"
      ]
     },
     "metadata": {},
     "output_type": "display_data"
    }
   ],
   "source": [
    "data['ctext'] = data['text'].progress_apply(string_normalizer)"
   ]
  },
  {
   "cell_type": "code",
   "execution_count": 8,
   "metadata": {},
   "outputs": [
    {
     "data": {
      "application/vnd.jupyter.widget-view+json": {
       "model_id": "dc6a0f284b914ac5bbe5237a7520da4c",
       "version_major": 2,
       "version_minor": 0
      },
      "text/plain": [
       "  0%|          | 0/3196 [00:00<?, ?it/s]"
      ]
     },
     "metadata": {},
     "output_type": "display_data"
    },
    {
     "name": "stdout",
     "output_type": "stream",
     "text": [
      "словарь 83094 слов\n"
     ]
    }
   ],
   "source": [
    "vcb =  get_vocabulary( data['ctext'].progress_apply( tokenize ) )\n",
    "print('словарь %i слов'%(len(vcb)))\n",
    "# pd.DataFrame( vcb ).to_csv('voc.txt',index=False,header=False)"
   ]
  },
  {
   "cell_type": "code",
   "execution_count": 9,
   "metadata": {},
   "outputs": [
    {
     "data": {
      "text/html": [
       "<div>\n",
       "<style scoped>\n",
       "    .dataframe tbody tr th:only-of-type {\n",
       "        vertical-align: middle;\n",
       "    }\n",
       "\n",
       "    .dataframe tbody tr th {\n",
       "        vertical-align: top;\n",
       "    }\n",
       "\n",
       "    .dataframe thead th {\n",
       "        text-align: right;\n",
       "    }\n",
       "</style>\n",
       "<table border=\"1\" class=\"dataframe\">\n",
       "  <thead>\n",
       "    <tr style=\"text-align: right;\">\n",
       "      <th></th>\n",
       "      <th>text</th>\n",
       "      <th>tag</th>\n",
       "      <th>ctext</th>\n",
       "    </tr>\n",
       "  </thead>\n",
       "  <tbody>\n",
       "    <tr>\n",
       "      <th>2578</th>\n",
       "      <td>Луна будет настолько яркой, что «приглушит» видимость метеорного потока Геминиды в 5-10 раз.\\n\\nВ ночь на 14 декабря произойдет последнее в 2016 году суперлуние. Астрономическое явление смогут наб...</td>\n",
       "      <td>science</td>\n",
       "      <td>луна будет настолько яркой что приглушит видимость метеорного потока геминиды в - раз в ночь на декабря произойдет последнее в году суперлуние астрономическое явление смогут наблюдать и жители ека...</td>\n",
       "    </tr>\n",
       "    <tr>\n",
       "      <th>1027</th>\n",
       "      <td>\"Ветер сорвал крышу, а страховку не выплатили\". Что нужно знать о страховании строений\\n\\n8 декабря 2016 в 11:01\\n\\nДмитрий Бобков / FINANCE.TUT.BY\\n\\nОт каких стихийных бедствий можно защитить до...</td>\n",
       "      <td>realty</td>\n",
       "      <td>ветер сорвал крышу а страховку не выплатили что нужно знать о страховании строений декабря в дмитрий бобков finance tut by от каких стихийных бедствий можно защитить дома что нужно знать о страхов...</td>\n",
       "    </tr>\n",
       "    <tr>\n",
       "      <th>1824</th>\n",
       "      <td>Тегеран, , 10:59 — REGNUM Энергетическое сотрудничество России и Ирана как одних из влиятельнейших игроков на нефтяном рынке набирает обороты. В понедельник, 12 декабря, стороны подписали меморанд...</td>\n",
       "      <td>economics</td>\n",
       "      <td>тегеран regnum энергетическое сотрудничество россии и ирана как одних из влиятельнейших игроков на нефтяном рынке набирает обороты в понедельник декабря стороны подписали меморандум о совместной р...</td>\n",
       "    </tr>\n",
       "    <tr>\n",
       "      <th>3033</th>\n",
       "      <td>Руководство одного из читинских ТСЖ, на данный момент уже отстраненное от исполнения должностных обязанностей, должно будет отчитаться за огромный долг перед коммунальщиками и предоставить жильцам...</td>\n",
       "      <td>social</td>\n",
       "      <td>руководство одного из читинских тсж на данный момент уже отстраненное от исполнения должностных обязанностей должно будет отчитаться за огромный долг перед коммунальщиками и предоставить жильцам д...</td>\n",
       "    </tr>\n",
       "    <tr>\n",
       "      <th>1872</th>\n",
       "      <td>МИД Японии обнародовал программу визита президента РФ Владимира Путина в Страну восходящего солнца. Об этом сообщает информационное агентство Киодо со ссылкой на внешнеполитическое ведомство.\\n\\nч...</td>\n",
       "      <td>politics</td>\n",
       "      <td>мид японии обнародовал программу визита президента рф владимира путина в страну восходящего солнца об этом сообщает информационное агентство киодо со ссылкой на внешнеполитическое ведомство читайт...</td>\n",
       "    </tr>\n",
       "  </tbody>\n",
       "</table>\n",
       "</div>"
      ],
      "text/plain": [
       "                                                                                                                                                                                                         text  \\\n",
       "2578  Луна будет настолько яркой, что «приглушит» видимость метеорного потока Геминиды в 5-10 раз.\\n\\nВ ночь на 14 декабря произойдет последнее в 2016 году суперлуние. Астрономическое явление смогут наб...   \n",
       "1027  \"Ветер сорвал крышу, а страховку не выплатили\". Что нужно знать о страховании строений\\n\\n8 декабря 2016 в 11:01\\n\\nДмитрий Бобков / FINANCE.TUT.BY\\n\\nОт каких стихийных бедствий можно защитить до...   \n",
       "1824  Тегеран, , 10:59 — REGNUM Энергетическое сотрудничество России и Ирана как одних из влиятельнейших игроков на нефтяном рынке набирает обороты. В понедельник, 12 декабря, стороны подписали меморанд...   \n",
       "3033  Руководство одного из читинских ТСЖ, на данный момент уже отстраненное от исполнения должностных обязанностей, должно будет отчитаться за огромный долг перед коммунальщиками и предоставить жильцам...   \n",
       "1872  МИД Японии обнародовал программу визита президента РФ Владимира Путина в Страну восходящего солнца. Об этом сообщает информационное агентство Киодо со ссылкой на внешнеполитическое ведомство.\\n\\nч...   \n",
       "\n",
       "            tag  \\\n",
       "2578    science   \n",
       "1027     realty   \n",
       "1824  economics   \n",
       "3033     social   \n",
       "1872   politics   \n",
       "\n",
       "                                                                                                                                                                                                        ctext  \n",
       "2578  луна будет настолько яркой что приглушит видимость метеорного потока геминиды в - раз в ночь на декабря произойдет последнее в году суперлуние астрономическое явление смогут наблюдать и жители ека...  \n",
       "1027  ветер сорвал крышу а страховку не выплатили что нужно знать о страховании строений декабря в дмитрий бобков finance tut by от каких стихийных бедствий можно защитить дома что нужно знать о страхов...  \n",
       "1824  тегеран regnum энергетическое сотрудничество россии и ирана как одних из влиятельнейших игроков на нефтяном рынке набирает обороты в понедельник декабря стороны подписали меморандум о совместной р...  \n",
       "3033  руководство одного из читинских тсж на данный момент уже отстраненное от исполнения должностных обязанностей должно будет отчитаться за огромный долг перед коммунальщиками и предоставить жильцам д...  \n",
       "1872  мид японии обнародовал программу визита президента рф владимира путина в страну восходящего солнца об этом сообщает информационное агентство киодо со ссылкой на внешнеполитическое ведомство читайт...  "
      ]
     },
     "execution_count": 9,
     "metadata": {},
     "output_type": "execute_result"
    }
   ],
   "source": [
    "data.sample(5)"
   ]
  },
  {
   "cell_type": "markdown",
   "metadata": {},
   "source": [
    "## Vectorizer"
   ]
  },
  {
   "cell_type": "code",
   "execution_count": 10,
   "metadata": {},
   "outputs": [],
   "source": [
    "def tokenizer(s): \n",
    "    for w in s.split(' '):\n",
    "        if (len(w)>1): \n",
    "            yield w\n",
    "\n",
    "tf = HashingVectorizer( n_features=4096, norm='l2', tokenizer=tokenizer,token_pattern=None).fit( data['ctext'] )"
   ]
  },
  {
   "cell_type": "markdown",
   "metadata": {},
   "source": [
    "## формируем датасеты"
   ]
  },
  {
   "cell_type": "code",
   "execution_count": 11,
   "metadata": {},
   "outputs": [
    {
     "data": {
      "text/plain": [
       "(3196, 4096)"
      ]
     },
     "execution_count": 11,
     "metadata": {},
     "output_type": "execute_result"
    }
   ],
   "source": [
    "X = tf.transform( data['ctext'] )\n",
    "X.shape"
   ]
  },
  {
   "cell_type": "code",
   "execution_count": 12,
   "metadata": {},
   "outputs": [
    {
     "data": {
      "text/plain": [
       "{'auto': 0,\n",
       " 'culture': 1,\n",
       " 'economics': 2,\n",
       " 'health': 3,\n",
       " 'incident': 4,\n",
       " 'politics': 5,\n",
       " 'realty': 6,\n",
       " 'reclama': 7,\n",
       " 'science': 8,\n",
       " 'social': 9,\n",
       " 'sport': 10,\n",
       " 'tech': 11,\n",
       " 'woman': 12}"
      ]
     },
     "execution_count": 12,
     "metadata": {},
     "output_type": "execute_result"
    }
   ],
   "source": [
    "labels = { t:i for i,t in enumerate(sorted(set(data['tag']))) }\n",
    "labels"
   ]
  },
  {
   "cell_type": "code",
   "execution_count": 13,
   "metadata": {},
   "outputs": [
    {
     "data": {
      "text/plain": [
       "array([5, 1, 1, ..., 8, 5, 9])"
      ]
     },
     "execution_count": 13,
     "metadata": {},
     "output_type": "execute_result"
    }
   ],
   "source": [
    "y = data['tag'].map(labels).values\n",
    "y"
   ]
  },
  {
   "cell_type": "code",
   "execution_count": 14,
   "metadata": {},
   "outputs": [
    {
     "data": {
      "text/plain": [
       "((2237, 4096), (2237,), (959, 4096), (959,))"
      ]
     },
     "execution_count": 14,
     "metadata": {},
     "output_type": "execute_result"
    }
   ],
   "source": [
    "X_train, X_test, y_train, y_test = train_test_split( X, y, test_size=0.3, random_state=326 )\n",
    "X_train.shape, y_train.shape, X_test.shape, y_test.shape"
   ]
  },
  {
   "cell_type": "markdown",
   "metadata": {},
   "source": [
    "## обучаем классификатор"
   ]
  },
  {
   "cell_type": "code",
   "execution_count": 15,
   "metadata": {},
   "outputs": [
    {
     "data": {
      "text/plain": [
       "SGDClassifier(tol=0.19)"
      ]
     },
     "execution_count": 15,
     "metadata": {},
     "output_type": "execute_result"
    }
   ],
   "source": [
    "from sklearn.linear_model import SGDClassifier\n",
    "\n",
    "clf = SGDClassifier(loss='hinge',max_iter=1000, tol=0.19)\n",
    "clf.fit(X_train,y_train)"
   ]
  },
  {
   "cell_type": "markdown",
   "metadata": {},
   "source": [
    "## тестируем"
   ]
  },
  {
   "cell_type": "code",
   "execution_count": 16,
   "metadata": {},
   "outputs": [
    {
     "data": {
      "text/plain": [
       "0.9995529727313366"
      ]
     },
     "execution_count": 16,
     "metadata": {},
     "output_type": "execute_result"
    }
   ],
   "source": [
    "o = clf.predict(X_train)\n",
    "accuracy_score(y_train,o)"
   ]
  },
  {
   "cell_type": "code",
   "execution_count": 17,
   "metadata": {},
   "outputs": [
    {
     "data": {
      "text/plain": [
       "0.8342022940563086"
      ]
     },
     "execution_count": 17,
     "metadata": {},
     "output_type": "execute_result"
    }
   ],
   "source": [
    "o = clf.predict(X_test)\n",
    "accuracy_score(y_test,o)"
   ]
  },
  {
   "cell_type": "code",
   "execution_count": 18,
   "metadata": {},
   "outputs": [
    {
     "name": "stdout",
     "output_type": "stream",
     "text": [
      "              precision    recall  f1-score   support\n",
      "\n",
      "           0       0.90      0.87      0.89        87\n",
      "           1       0.71      0.89      0.79       101\n",
      "           2       0.86      0.74      0.79        76\n",
      "           3       0.90      0.58      0.71        31\n",
      "           4       0.88      0.93      0.90       123\n",
      "           5       0.84      0.92      0.88       177\n",
      "           6       0.72      0.62      0.67        21\n",
      "           7       0.83      0.59      0.69        17\n",
      "           8       0.89      0.94      0.91        68\n",
      "           9       0.54      0.30      0.38        44\n",
      "          10       0.97      0.97      0.97       118\n",
      "          11       0.72      0.72      0.72        89\n",
      "          12       0.75      0.86      0.80         7\n",
      "\n",
      "    accuracy                           0.83       959\n",
      "   macro avg       0.81      0.76      0.78       959\n",
      "weighted avg       0.83      0.83      0.83       959\n",
      "\n"
     ]
    }
   ],
   "source": [
    "print( classification_report(y_test,o) )"
   ]
  },
  {
   "cell_type": "code",
   "execution_count": 19,
   "metadata": {},
   "outputs": [
    {
     "data": {
      "image/png": "[encoded data removed]",
      "text/plain": [
       "<Figure size 720x648 with 2 Axes>"
      ]
     },
     "metadata": {
      "needs_background": "light"
     },
     "output_type": "display_data"
    }
   ],
   "source": [
    "from matplotlib import pyplot as plt\n",
    "import itertools\n",
    "\n",
    "classes = sorted(labels.keys())\n",
    "cm = confusion_matrix(y_test,o)\n",
    "tick_marks = np.arange(len(classes))\n",
    "\n",
    "plt.figure(figsize=(10,9))\n",
    "\n",
    "plt.xticks(tick_marks, classes, rotation=45)\n",
    "plt.yticks(tick_marks, classes)\n",
    "\n",
    "thresh = cm.max() / 2.\n",
    "for i, j in itertools.product(range(cm.shape[0]), range(cm.shape[1])):\n",
    "    plt.text(j, i, format(cm[i, j], 'd'),\n",
    "             horizontalalignment=\"center\",\n",
    "             color=\"white\" if cm[i, j] > thresh else \"black\")\n",
    "\n",
    "plt.title('Confusion matrix')\n",
    "plt.tight_layout()\n",
    "plt.ylabel('True label')\n",
    "plt.xlabel('Predicted label')\n",
    "plt.imshow(cm, interpolation='nearest', cmap=plt.cm.Blues)\n",
    "plt.colorbar()\n",
    "\n",
    "plt.show()"
   ]
  },
  {
   "cell_type": "markdown",
   "metadata": {},
   "source": [
    "---"
   ]
  },
  {
   "cell_type": "code",
   "execution_count": 20,
   "metadata": {},
   "outputs": [
    {
     "name": "stdout",
     "output_type": "stream",
     "text": [
      "tag: incident\n",
      "predict: incident\n",
      "В Минске водитель сбил ребенка, сымитировал разговор по телефону с его мамой и скрылся с места ДТП 7 декабря 2016 в 15:40 AUTO.TUT.BY В Минске неизвестный водитель сбил на переходе ребенка и скрылс...\n",
      "- - - - - - - - - - - - - - - - - -\n",
      "tag: auto\n",
      "predict: auto\n",
      "Южнокорейский автоконцерн Kia выложил в открытый доступ тизер своего нового спортивного автомобиля – Kia GT. Новинку уже называют самым динамичным автомобилем в линейке «Киа». Судя по видеосюжету, так...\n",
      "- - - - - - - - - - - - - - - - - -\n",
      "tag: politics\n",
      "predict: politics\n",
      "Она напомнила, что Савченко заявила о формировании своей партии, она не координирует свою деятельность с партией \"Батькивщина\" и их позиции \"кардинально расходятся\" Лидер фракции \"Батькивщина\" Юлия Т...\n",
      "- - - - - - - - - - - - - - - - - -\n",
      "tag: sport\n",
      "predict: sport\n",
      "МОК продлил санкции в отношении России в связи с допинговыми скандалами 7 декабря 2016 в 20:17 Олег Кошелев, Лозанна, ТАСС Международный олимпийский комитет (МОК) продлил санкции в отношении России...\n",
      "- - - - - - - - - - - - - - - - - -\n",
      "tag: auto\n",
      "predict: auto\n",
      "Компания \"Чемпион Моторс\", израильский импортер автомобилей производства концерна Volkswagen, начинает продажу на местном рынке компактного кроссовера Audi Q2, самого маленького кроссовера германской ...\n",
      "- - - - - - - - - - - - - - - - - -\n",
      "tag: auto\n",
      "predict: auto\n",
      "17:51 - 12.12.2016 Как сообщают китайские СМИ, новая версия получила приставку Sport к названию. В отличие от стандартного исполнения внедорожника спортивный вариант оснащен 20-дюймовыми колесными д...\n",
      "- - - - - - - - - - - - - - - - - -\n",
      "tag: sport\n",
      "predict: sport\n",
      "Канадский боксер Бермейн Стиверн заявил, что планирует нокаутировать россиянина Александра Поветкина в первой половине предстоящего боя за звание временного чемпиона мира по версии Всемирного боксерск...\n",
      "- - - - - - - - - - - - - - - - - -\n",
      "tag: incident\n",
      "predict: incident\n",
      "Авария произошла у дома 8 на проспекте Солидарности в Невском районе Петербурга. Грузовик Mitsubishi столкнулся с рейсовым автобусом №12, после чего автобус выехал на трамвайные рельсы. На место ДТП п...\n",
      "- - - - - - - - - - - - - - - - - -\n",
      "tag: economics\n",
      "predict: economics\n",
      "Зальют ли деньгами белорусскую промышленность? 1 декабря 2016 в 20:12 Сергей Чалый / Ольга Лойко / TUT.BY По 16 холдингам Минпрома утвердили программу развития до 2030 года, по которой предусмотрен...\n",
      "- - - - - - - - - - - - - - - - - -\n",
      "tag: politics\n",
      "predict: politics\n",
      "КИЕВ. 12 декабря. УНН. Народный депутат Надежда Савченко не координирует свои действия с партией \"Батькивщина\", сообщила Юлия Тимошенко, передает корреспондент УНН. \"Вы знаете, что Надежда Савченко з...\n",
      "- - - - - - - - - - - - - - - - - -\n"
     ]
    }
   ],
   "source": [
    "o = clf.predict(X)\n",
    "\n",
    "labels_inv = { labels[k]:k for k in labels }\n",
    "\n",
    "for n in range(10):\n",
    "    i = rng.randint(len(data))\n",
    "    print('tag:',data.iloc[i,1])\n",
    "    print('predict:',labels_inv[o[i]])\n",
    "    print(re.sub(r'\\n\\s*\\n',' ',data.iloc[i,0][:200])+'...')\n",
    "    print('- - - - - - - - - - - - - - - - - -')\n",
    "    "
   ]
  },
  {
   "cell_type": "code",
   "execution_count": null,
   "metadata": {},
   "outputs": [],
   "source": []
  }
 ],
 "metadata": {
  "kernelspec": {
   "display_name": "Python 3 (ipykernel)",
   "language": "python",
   "name": "python3"
  },
  "language_info": {
   "codemirror_mode": {
    "name": "ipython",
    "version": 3
   },
   "file_extension": ".py",
   "mimetype": "text/x-python",
   "name": "python",
   "nbconvert_exporter": "python",
   "pygments_lexer": "ipython3",
   "version": "3.8.9"
  },
  "toc": {
   "base_numbering": 1,
   "nav_menu": {},
   "number_sections": true,
   "sideBar": true,
   "skip_h1_title": false,
   "title_cell": "Table of Contents",
   "title_sidebar": "Contents",
   "toc_cell": false,
   "toc_position": {},
   "toc_section_display": true,
   "toc_window_display": false
  }
 },
 "nbformat": 4,
 "nbformat_minor": 2
}
