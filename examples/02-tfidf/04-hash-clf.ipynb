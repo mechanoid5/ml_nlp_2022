{
 "cells": [
  {
   "cell_type": "markdown",
   "metadata": {},
   "source": [
    "**извлечение признаков из текста на естественном языке**\n",
    "\n",
    "классификатор текстов HashingVectorizer\n",
    "\n",
    "Евгений Борисов borisov.e@solarl.ru"
   ]
  },
  {
   "cell_type": "markdown",
   "metadata": {},
   "source": [
    "## библиотеки"
   ]
  },
  {
   "cell_type": "code",
   "execution_count": 1,
   "metadata": {},
   "outputs": [],
   "source": [
    "import re\n",
    "# import gzip\n",
    "import numpy as np\n",
    "import numpy.random as rng\n",
    "import pandas as pd\n",
    "from tqdm import tqdm\n",
    "\n",
    "np.set_printoptions(precision=2) # вывод на печать чисел до 2 знака\n",
    "pd.options.display.max_colwidth = 200 \n",
    "\n",
    "tqdm.pandas()"
   ]
  },
  {
   "cell_type": "code",
   "execution_count": 2,
   "metadata": {},
   "outputs": [],
   "source": [
    "# import numpy as np\n",
    "# import pandas as pd\n",
    "# import re"
   ]
  },
  {
   "cell_type": "code",
   "execution_count": 3,
   "metadata": {},
   "outputs": [
    {
     "data": {
      "text/plain": [
       "'0.24.1'"
      ]
     },
     "execution_count": 3,
     "metadata": {},
     "output_type": "execute_result"
    }
   ],
   "source": [
    "from sklearn import __version__ as SKLEARN_VERSION\n",
    "\n",
    "from sklearn.feature_extraction.text import HashingVectorizer\n",
    "\n",
    "from sklearn.model_selection import train_test_split\n",
    "from sklearn.metrics import confusion_matrix\n",
    "from sklearn.metrics import classification_report\n",
    "from sklearn.metrics import accuracy_score\n",
    "\n",
    "SKLEARN_VERSION"
   ]
  },
  {
   "cell_type": "markdown",
   "metadata": {},
   "source": [
    "## тексты"
   ]
  },
  {
   "cell_type": "code",
   "execution_count": 4,
   "metadata": {},
   "outputs": [
    {
     "name": "stdout",
     "output_type": "stream",
     "text": [
      "записей: 3196\n"
     ]
    },
    {
     "data": {
      "text/html": [
       "<div>\n",
       "<style scoped>\n",
       "    .dataframe tbody tr th:only-of-type {\n",
       "        vertical-align: middle;\n",
       "    }\n",
       "\n",
       "    .dataframe tbody tr th {\n",
       "        vertical-align: top;\n",
       "    }\n",
       "\n",
       "    .dataframe thead th {\n",
       "        text-align: right;\n",
       "    }\n",
       "</style>\n",
       "<table border=\"1\" class=\"dataframe\">\n",
       "  <thead>\n",
       "    <tr style=\"text-align: right;\">\n",
       "      <th></th>\n",
       "      <th>text</th>\n",
       "      <th>tag</th>\n",
       "    </tr>\n",
       "  </thead>\n",
       "  <tbody>\n",
       "    <tr>\n",
       "      <th>112</th>\n",
       "      <td>Положение команд после пятого тура Лиги чемпионов В пятом туре группового\\nэтапа Лиги чемпионов \"Манчестер юнайтед\" не смог воспользоваться\\nпреимуществом своего поля, сыграв вничью 0:0 с испански...</td>\n",
       "      <td>sport</td>\n",
       "    </tr>\n",
       "    <tr>\n",
       "      <th>3042</th>\n",
       "      <td>В филиале \"&lt;object&gt;МРСК Сибири&lt;/object&gt;\" - \"Алтайэнерго\" продолжаются работы по масштабной реконструкции высоковольтной линии 110 кВ \"Петропавловское  Солонешное\". Подробности сегодня, 16 июля, со...</td>\n",
       "      <td>social</td>\n",
       "    </tr>\n",
       "    <tr>\n",
       "      <th>2122</th>\n",
       "      <td>Полузащитник «Краснодара» и сборной России Павел Мамаев ответил экс-наставнику «быков» Олегу Кононову, который ранее заявил, что игрок не сделал определенных выводов после скандала, связанного с в...</td>\n",
       "      <td>sport</td>\n",
       "    </tr>\n",
       "    <tr>\n",
       "      <th>2618</th>\n",
       "      <td>В прошлом году социологи и лауреат Нобелевской премии Ангус Дитон заявили, что Америку поразила эпидемия «бытовой наркомании». Обезболивающие и безобидные лекарства не только не помогают, но еще и...</td>\n",
       "      <td>science</td>\n",
       "    </tr>\n",
       "    <tr>\n",
       "      <th>2423</th>\n",
       "      <td>Трагикомедия Демьяна Шазела \"Ла-Ла Ленд\" признана лучшим фильмом этого года. Critic`s Choice присуждается ежегодно и считается своеобразной подготовкой к церемонии вручения премии американской кин...</td>\n",
       "      <td>culture</td>\n",
       "    </tr>\n",
       "  </tbody>\n",
       "</table>\n",
       "</div>"
      ],
      "text/plain": [
       "                                                                                                                                                                                                         text  \\\n",
       "112   Положение команд после пятого тура Лиги чемпионов В пятом туре группового\\nэтапа Лиги чемпионов \"Манчестер юнайтед\" не смог воспользоваться\\nпреимуществом своего поля, сыграв вничью 0:0 с испански...   \n",
       "3042  В филиале \"<object>МРСК Сибири</object>\" - \"Алтайэнерго\" продолжаются работы по масштабной реконструкции высоковольтной линии 110 кВ \"Петропавловское  Солонешное\". Подробности сегодня, 16 июля, со...   \n",
       "2122  Полузащитник «Краснодара» и сборной России Павел Мамаев ответил экс-наставнику «быков» Олегу Кононову, который ранее заявил, что игрок не сделал определенных выводов после скандала, связанного с в...   \n",
       "2618  В прошлом году социологи и лауреат Нобелевской премии Ангус Дитон заявили, что Америку поразила эпидемия «бытовой наркомании». Обезболивающие и безобидные лекарства не только не помогают, но еще и...   \n",
       "2423  Трагикомедия Демьяна Шазела \"Ла-Ла Ленд\" признана лучшим фильмом этого года. Critic`s Choice присуждается ежегодно и считается своеобразной подготовкой к церемонии вручения премии американской кин...   \n",
       "\n",
       "          tag  \n",
       "112     sport  \n",
       "3042   social  \n",
       "2122    sport  \n",
       "2618  science  \n",
       "2423  culture  "
      ]
     },
     "execution_count": 4,
     "metadata": {},
     "output_type": "execute_result"
    }
   ],
   "source": [
    "# загружаем тексты\n",
    "data = pd.read_pickle('../data/news.pkl.gz')\n",
    "print('записей:',len(data))\n",
    "data.sample(5)"
   ]
  },
  {
   "cell_type": "markdown",
   "metadata": {},
   "source": [
    "## токенизация и очистка"
   ]
  },
  {
   "cell_type": "code",
   "execution_count": 5,
   "metadata": {},
   "outputs": [],
   "source": [
    "# собираем словарь из текстов\n",
    "def get_vocabulary(ds):\n",
    "    vcb = [ set(s) for s in ds.tolist() ]\n",
    "    return sorted(set.union(*vcb))"
   ]
  },
  {
   "cell_type": "code",
   "execution_count": 6,
   "metadata": {},
   "outputs": [],
   "source": [
    "# применяет список замен pat к строке s\n",
    "def replace_patterns(s,pat):\n",
    "    if len(pat)<1: return s\n",
    "    return  replace_patterns( re.sub(pat[0][0],pat[0][1],s), pat[1:] )\n",
    "\n",
    "# нормализация текста\n",
    "def string_normalizer(s):\n",
    "    pat = [\n",
    "       [r'ё','е'] # замена ё для унификации\n",
    "       ,[r'</?[a-z]+>',' '] # удаляем xml\n",
    "       ,[r'[^a-zа-я\\- ]+',' '] # оставляем только буквы, пробел и -\n",
    "       ,[r' -\\w+',' '] # удаляем '-й','-тый' и т.п.\n",
    "       ,[r'\\w+- ',' ']\n",
    "       ,[r' +',' '] # удаляем повторы пробелов\n",
    "    ]\n",
    "    return replace_patterns(s.lower(),pat).strip()\n",
    "\n",
    "# разрезаем стоки на слова\n",
    "def tokenize(s): return [ w for w in s.split(' ') if (len(w)>1) ]"
   ]
  },
  {
   "cell_type": "code",
   "execution_count": 7,
   "metadata": {},
   "outputs": [
    {
     "name": "stderr",
     "output_type": "stream",
     "text": [
      "100%|██████████| 3196/3196 [00:00<00:00, 5194.61it/s]\n"
     ]
    }
   ],
   "source": [
    "data['ctext'] = data['text'].progress_apply(string_normalizer)"
   ]
  },
  {
   "cell_type": "code",
   "execution_count": 8,
   "metadata": {},
   "outputs": [
    {
     "name": "stderr",
     "output_type": "stream",
     "text": [
      "100%|██████████| 3196/3196 [00:00<00:00, 26479.16it/s]\n"
     ]
    },
    {
     "name": "stdout",
     "output_type": "stream",
     "text": [
      "словарь 83094 слов\n"
     ]
    }
   ],
   "source": [
    "vcb =  get_vocabulary( data['ctext'].progress_apply( tokenize ) )\n",
    "print('словарь %i слов'%(len(vcb)))\n",
    "# pd.DataFrame( vcb ).to_csv('voc.txt',index=False,header=False)"
   ]
  },
  {
   "cell_type": "code",
   "execution_count": 9,
   "metadata": {},
   "outputs": [
    {
     "data": {
      "text/html": [
       "<div>\n",
       "<style scoped>\n",
       "    .dataframe tbody tr th:only-of-type {\n",
       "        vertical-align: middle;\n",
       "    }\n",
       "\n",
       "    .dataframe tbody tr th {\n",
       "        vertical-align: top;\n",
       "    }\n",
       "\n",
       "    .dataframe thead th {\n",
       "        text-align: right;\n",
       "    }\n",
       "</style>\n",
       "<table border=\"1\" class=\"dataframe\">\n",
       "  <thead>\n",
       "    <tr style=\"text-align: right;\">\n",
       "      <th></th>\n",
       "      <th>text</th>\n",
       "      <th>tag</th>\n",
       "      <th>ctext</th>\n",
       "    </tr>\n",
       "  </thead>\n",
       "  <tbody>\n",
       "    <tr>\n",
       "      <th>802</th>\n",
       "      <td>С электропилой и долотом. Белорусы создадут на Колыме ледяную вышиванку\\n\\n6 декабря 2016 в 11:50\\n\\nДенис Мартинович / TUT.BY\\n\\nБелорусские скульпторы летят на Колыму, чтобы принять участие в де...</td>\n",
       "      <td>culture</td>\n",
       "      <td>с электропилой и долотом белорусы создадут на колыме ледяную вышиванку декабря в денис мартинович tut by белорусские скульпторы летят на колыму чтобы принять участие в десятом международном конкур...</td>\n",
       "    </tr>\n",
       "    <tr>\n",
       "      <th>2127</th>\n",
       "      <td>Бывший главный тренер «Краснодара» Олег Кононов рассказал о своем отношении к полузащитнику «быков» Павлу Мамаева, после того как был замечен на вечеринке в Монте-Карло.\\n\\n\\n\\n\\n\\n— Когда это все...</td>\n",
       "      <td>sport</td>\n",
       "      <td>бывший главный тренер краснодара олег кононов рассказал о своем отношении к полузащитнику быков павлу мамаева после того как был замечен на вечеринке в монте-карло когда это все произошло я сразу ...</td>\n",
       "    </tr>\n",
       "    <tr>\n",
       "      <th>2821</th>\n",
       "      <td>Корпорация Google представила проект Google Earth Engine в режиме Timelapse, который позволяет узнать, как менялась поверхность Земли за три десятка лет. Соответствующее интересное видео появилось...</td>\n",
       "      <td>tech</td>\n",
       "      <td>корпорация google представила проект google earth engine в режиме timelapse который позволяет узнать как менялась поверхность земли за три десятка лет соответствующее интересное видео появилось в ...</td>\n",
       "    </tr>\n",
       "    <tr>\n",
       "      <th>1958</th>\n",
       "      <td>Об этом говорится в выпуске британской деловой газеты во вторник, 13 декабря. Financial Times считает, что миллиардер переписал правила политики своей страны.\\n\\nТеперь президент, являющийся специ...</td>\n",
       "      <td>politics</td>\n",
       "      <td>об этом говорится в выпуске британской деловой газеты во вторник декабря financial times считает что миллиардер переписал правила политики своей страны теперь президент являющийся специалистом по ...</td>\n",
       "    </tr>\n",
       "    <tr>\n",
       "      <th>2891</th>\n",
       "      <td>Мы уже имели удовольствие лицезреть новый седан Kia с купеобразным силуэтом на шпионских снимках, но, оказывается, стильная машина полна сюрпризов.\\n\\nКомпания Kia представила второе интригующее в...</td>\n",
       "      <td>auto</td>\n",
       "      <td>мы уже имели удовольствие лицезреть новый седан kia с купеобразным силуэтом на шпионских снимках но оказывается стильная машина полна сюрпризов компания kia представила второе интригующее видео с ...</td>\n",
       "    </tr>\n",
       "  </tbody>\n",
       "</table>\n",
       "</div>"
      ],
      "text/plain": [
       "                                                                                                                                                                                                         text  \\\n",
       "802   С электропилой и долотом. Белорусы создадут на Колыме ледяную вышиванку\\n\\n6 декабря 2016 в 11:50\\n\\nДенис Мартинович / TUT.BY\\n\\nБелорусские скульпторы летят на Колыму, чтобы принять участие в де...   \n",
       "2127  Бывший главный тренер «Краснодара» Олег Кононов рассказал о своем отношении к полузащитнику «быков» Павлу Мамаева, после того как был замечен на вечеринке в Монте-Карло.\\n\\n\\n\\n\\n\\n— Когда это все...   \n",
       "2821  Корпорация Google представила проект Google Earth Engine в режиме Timelapse, который позволяет узнать, как менялась поверхность Земли за три десятка лет. Соответствующее интересное видео появилось...   \n",
       "1958  Об этом говорится в выпуске британской деловой газеты во вторник, 13 декабря. Financial Times считает, что миллиардер переписал правила политики своей страны.\\n\\nТеперь президент, являющийся специ...   \n",
       "2891  Мы уже имели удовольствие лицезреть новый седан Kia с купеобразным силуэтом на шпионских снимках, но, оказывается, стильная машина полна сюрпризов.\\n\\nКомпания Kia представила второе интригующее в...   \n",
       "\n",
       "           tag  \\\n",
       "802    culture   \n",
       "2127     sport   \n",
       "2821      tech   \n",
       "1958  politics   \n",
       "2891      auto   \n",
       "\n",
       "                                                                                                                                                                                                        ctext  \n",
       "802   с электропилой и долотом белорусы создадут на колыме ледяную вышиванку декабря в денис мартинович tut by белорусские скульпторы летят на колыму чтобы принять участие в десятом международном конкур...  \n",
       "2127  бывший главный тренер краснодара олег кононов рассказал о своем отношении к полузащитнику быков павлу мамаева после того как был замечен на вечеринке в монте-карло когда это все произошло я сразу ...  \n",
       "2821  корпорация google представила проект google earth engine в режиме timelapse который позволяет узнать как менялась поверхность земли за три десятка лет соответствующее интересное видео появилось в ...  \n",
       "1958  об этом говорится в выпуске британской деловой газеты во вторник декабря financial times считает что миллиардер переписал правила политики своей страны теперь президент являющийся специалистом по ...  \n",
       "2891  мы уже имели удовольствие лицезреть новый седан kia с купеобразным силуэтом на шпионских снимках но оказывается стильная машина полна сюрпризов компания kia представила второе интригующее видео с ...  "
      ]
     },
     "execution_count": 9,
     "metadata": {},
     "output_type": "execute_result"
    }
   ],
   "source": [
    "data.sample(5)"
   ]
  },
  {
   "cell_type": "markdown",
   "metadata": {},
   "source": [
    "## Vectorizer"
   ]
  },
  {
   "cell_type": "code",
   "execution_count": 10,
   "metadata": {},
   "outputs": [],
   "source": [
    "def tokenizer(s): \n",
    "    for w in s.split(' '):\n",
    "        if (len(w)>1): \n",
    "            yield w\n",
    "\n",
    "tf = HashingVectorizer( n_features=4096, norm='l2', tokenizer=tokenizer,token_pattern=None).fit( data['ctext'] )"
   ]
  },
  {
   "cell_type": "markdown",
   "metadata": {},
   "source": [
    "## формируем датасеты"
   ]
  },
  {
   "cell_type": "code",
   "execution_count": 11,
   "metadata": {},
   "outputs": [
    {
     "data": {
      "text/plain": [
       "(3196, 4096)"
      ]
     },
     "execution_count": 11,
     "metadata": {},
     "output_type": "execute_result"
    }
   ],
   "source": [
    "X = tf.transform( data['ctext'] )\n",
    "X.shape"
   ]
  },
  {
   "cell_type": "code",
   "execution_count": 12,
   "metadata": {},
   "outputs": [
    {
     "data": {
      "text/plain": [
       "{'auto': 0,\n",
       " 'culture': 1,\n",
       " 'economics': 2,\n",
       " 'health': 3,\n",
       " 'incident': 4,\n",
       " 'politics': 5,\n",
       " 'realty': 6,\n",
       " 'reclama': 7,\n",
       " 'science': 8,\n",
       " 'social': 9,\n",
       " 'sport': 10,\n",
       " 'tech': 11,\n",
       " 'woman': 12}"
      ]
     },
     "execution_count": 12,
     "metadata": {},
     "output_type": "execute_result"
    }
   ],
   "source": [
    "labels = { t:i for i,t in enumerate(sorted(set(data['tag']))) }\n",
    "labels"
   ]
  },
  {
   "cell_type": "code",
   "execution_count": 13,
   "metadata": {},
   "outputs": [
    {
     "data": {
      "text/plain": [
       "array([5, 1, 1, ..., 8, 5, 9])"
      ]
     },
     "execution_count": 13,
     "metadata": {},
     "output_type": "execute_result"
    }
   ],
   "source": [
    "y = data['tag'].map(labels).values\n",
    "y"
   ]
  },
  {
   "cell_type": "code",
   "execution_count": 14,
   "metadata": {},
   "outputs": [
    {
     "data": {
      "text/plain": [
       "((2237, 4096), (2237,), (959, 4096), (959,))"
      ]
     },
     "execution_count": 14,
     "metadata": {},
     "output_type": "execute_result"
    }
   ],
   "source": [
    "X_train, X_test, y_train, y_test = train_test_split( X, y, test_size=0.3, random_state=326 )\n",
    "X_train.shape, y_train.shape, X_test.shape, y_test.shape"
   ]
  },
  {
   "cell_type": "markdown",
   "metadata": {},
   "source": [
    "## обучаем классификатор"
   ]
  },
  {
   "cell_type": "code",
   "execution_count": 15,
   "metadata": {},
   "outputs": [
    {
     "data": {
      "text/plain": [
       "SGDClassifier(tol=0.19)"
      ]
     },
     "execution_count": 15,
     "metadata": {},
     "output_type": "execute_result"
    }
   ],
   "source": [
    "from sklearn.linear_model import SGDClassifier\n",
    "\n",
    "clf = SGDClassifier(loss='hinge',max_iter=1000, tol=0.19)\n",
    "clf.fit(X_train,y_train)"
   ]
  },
  {
   "cell_type": "markdown",
   "metadata": {},
   "source": [
    "## тестируем"
   ]
  },
  {
   "cell_type": "code",
   "execution_count": 16,
   "metadata": {},
   "outputs": [
    {
     "data": {
      "text/plain": [
       "0.9995529727313366"
      ]
     },
     "execution_count": 16,
     "metadata": {},
     "output_type": "execute_result"
    }
   ],
   "source": [
    "o = clf.predict(X_train)\n",
    "accuracy_score(y_train,o)"
   ]
  },
  {
   "cell_type": "code",
   "execution_count": 17,
   "metadata": {},
   "outputs": [
    {
     "data": {
      "text/plain": [
       "0.8206465067778936"
      ]
     },
     "execution_count": 17,
     "metadata": {},
     "output_type": "execute_result"
    }
   ],
   "source": [
    "o = clf.predict(X_test)\n",
    "accuracy_score(y_test,o)"
   ]
  },
  {
   "cell_type": "code",
   "execution_count": 18,
   "metadata": {},
   "outputs": [
    {
     "name": "stdout",
     "output_type": "stream",
     "text": [
      "              precision    recall  f1-score   support\n",
      "\n",
      "           0       0.96      0.87      0.92        87\n",
      "           1       0.73      0.82      0.77       101\n",
      "           2       0.78      0.79      0.78        76\n",
      "           3       0.73      0.52      0.60        31\n",
      "           4       0.85      0.93      0.89       123\n",
      "           5       0.80      0.92      0.85       177\n",
      "           6       0.82      0.43      0.56        21\n",
      "           7       1.00      0.59      0.74        17\n",
      "           8       0.87      0.99      0.92        68\n",
      "           9       0.50      0.34      0.41        44\n",
      "          10       0.96      0.93      0.95       118\n",
      "          11       0.72      0.67      0.70        89\n",
      "          12       1.00      0.71      0.83         7\n",
      "\n",
      "    accuracy                           0.82       959\n",
      "   macro avg       0.82      0.73      0.76       959\n",
      "weighted avg       0.82      0.82      0.81       959\n",
      "\n"
     ]
    }
   ],
   "source": [
    "print( classification_report(y_test,o) )"
   ]
  },
  {
   "cell_type": "code",
   "execution_count": 19,
   "metadata": {},
   "outputs": [
    {
     "data": {
      "image/png": "[encoded data removed]",
      "text/plain": [
       "<Figure size 720x648 with 2 Axes>"
      ]
     },
     "metadata": {
      "needs_background": "light"
     },
     "output_type": "display_data"
    }
   ],
   "source": [
    "from matplotlib import pyplot as plt\n",
    "import itertools\n",
    "\n",
    "classes = sorted(labels.keys())\n",
    "cm = confusion_matrix(y_test,o)\n",
    "tick_marks = np.arange(len(classes))\n",
    "\n",
    "plt.figure(figsize=(10,9))\n",
    "\n",
    "plt.xticks(tick_marks, classes, rotation=45)\n",
    "plt.yticks(tick_marks, classes)\n",
    "\n",
    "thresh = cm.max() / 2.\n",
    "for i, j in itertools.product(range(cm.shape[0]), range(cm.shape[1])):\n",
    "    plt.text(j, i, format(cm[i, j], 'd'),\n",
    "             horizontalalignment=\"center\",\n",
    "             color=\"white\" if cm[i, j] > thresh else \"black\")\n",
    "\n",
    "plt.title('Confusion matrix')\n",
    "plt.tight_layout()\n",
    "plt.ylabel('True label')\n",
    "plt.xlabel('Predicted label')\n",
    "plt.imshow(cm, interpolation='nearest', cmap=plt.cm.Blues)\n",
    "plt.colorbar()\n",
    "\n",
    "plt.show()"
   ]
  },
  {
   "cell_type": "markdown",
   "metadata": {},
   "source": [
    "---"
   ]
  },
  {
   "cell_type": "code",
   "execution_count": 20,
   "metadata": {},
   "outputs": [
    {
     "name": "stdout",
     "output_type": "stream",
     "text": [
      "tag: science\n",
      "predict: science\n",
      "10:21 - 13.12.2016 Американской компании потребуется больше времени для оценки систем запуска ракеты. Компания Илона Маска SpaceX перенесла запуск пилотируемых капсул к Международной космической ста...\n",
      "- - - - - - - - - - - - - - - - - -\n",
      "tag: science\n",
      "predict: science\n",
      "Сегодня жители Земли увидят последнее суперлуние в этом году Ранее данное явление можно было наблюдать в октябре и ноябре В ночь на 14 декабря полнолуние примерно совпадёт по времени с максимальным ...\n",
      "- - - - - - - - - - - - - - - - - -\n",
      "tag: incident\n",
      "predict: incident\n",
      "На востоке Москвы горит склад пиломатериалов. Он расположен в одноэтажном деревянном здании на Мироновской улице, дом 32. На место ЧП прибыли пожарно-спасательные расчеты. Они уже приступили к ликвида...\n",
      "- - - - - - - - - - - - - - - - - -\n",
      "tag: auto\n",
      "predict: auto\n",
      "Японская компания Mitsubishi вывела на дорожные тесты свой новый компактвэн повышенной проходимости. Предсерийный прототип модели, предназначенной для рынка Индонезии, запечатлели автомобильные фотошп...\n",
      "- - - - - - - - - - - - - - - - - -\n",
      "tag: politics\n",
      "predict: politics\n",
      "Международная деловая газета Financial Times признала Дональда Трампа человеком года 13.12.2016 03:35 Международная деловая газета Financial Times назвала новоизбранного американского президента Д...\n",
      "- - - - - - - - - - - - - - - - - -\n",
      "tag: tech\n",
      "predict: tech\n",
      "Новый Mercedes E-Class появится в 2009 году Полностью новое поколение\n",
      "модели Mercedes E-Class должно появится на рынке лишь в 2009 году. Об\n",
      "этом со ссылкой на источники в немецкой компании сообщает Au...\n",
      "- - - - - - - - - - - - - - - - - -\n",
      "tag: reclama\n",
      "predict: reclama\n",
      "Осторожно! Весь декабрь до -28% 8 декабря 2016 в 9:00 *На правах рекламы ОАО «Мозырьсоль» сообщает о проведении предновогодней акции — весь декабрь в супермаркетах «ОМА» можно приобрести соль грану...\n",
      "- - - - - - - - - - - - - - - - - -\n",
      "tag: politics\n",
      "predict: politics\n",
      "МЕХИКО, 13 декабря. /Корр. ТАСС Иван Валюк/. Венесуэла в понедельник на 72 часа закрыла границу с Колумбией. Об этом объявил глава Боливарианской Республики Николас Мадуро. По его словам, такое решени...\n",
      "- - - - - - - - - - - - - - - - - -\n",
      "tag: auto\n",
      "predict: auto\n",
      "Как сообщается, причиной данного решения является повышение конкуренции со стороны современных переднеприводных автомоделей. Строительство транспортных средствна новой платформе позволит испытать все ...\n",
      "- - - - - - - - - - - - - - - - - -\n",
      "tag: culture\n",
      "predict: culture\n",
      "ИА Сахалин-Курилы 25 мастеров представили свои работы на первом областном\n",
      "фестивале ремесел коренных народов Сахалина Первый областной фестиваль ремесел\n",
      "коренных малочисленных народов Севера Сахалина ...\n",
      "- - - - - - - - - - - - - - - - - -\n"
     ]
    }
   ],
   "source": [
    "o = clf.predict(X)\n",
    "\n",
    "labels_inv = { labels[k]:k for k in labels }\n",
    "\n",
    "for n in range(10):\n",
    "    i = rng.randint(len(data))\n",
    "    print('tag:',data.iloc[i,1])\n",
    "    print('predict:',labels_inv[o[i]])\n",
    "    print(re.sub(r'\\n\\s*\\n',' ',data.iloc[i,0][:200])+'...')\n",
    "    print('- - - - - - - - - - - - - - - - - -')\n",
    "    "
   ]
  },
  {
   "cell_type": "code",
   "execution_count": null,
   "metadata": {},
   "outputs": [],
   "source": []
  }
 ],
 "metadata": {
  "kernelspec": {
   "display_name": "Python 3",
   "language": "python",
   "name": "python3"
  },
  "language_info": {
   "codemirror_mode": {
    "name": "ipython",
    "version": 3
   },
   "file_extension": ".py",
   "mimetype": "text/x-python",
   "name": "python",
   "nbconvert_exporter": "python",
   "pygments_lexer": "ipython3",
   "version": "3.9.2"
  },
  "toc": {
   "base_numbering": 1,
   "nav_menu": {},
   "number_sections": true,
   "sideBar": true,
   "skip_h1_title": false,
   "title_cell": "Table of Contents",
   "title_sidebar": "Contents",
   "toc_cell": false,
   "toc_position": {},
   "toc_section_display": true,
   "toc_window_display": true
  }
 },
 "nbformat": 4,
 "nbformat_minor": 2
}
