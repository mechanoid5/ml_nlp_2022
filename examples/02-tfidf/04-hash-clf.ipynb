{
 "cells": [
  {
   "cell_type": "markdown",
   "metadata": {},
   "source": [
    "**извлечение признаков из текста на естественном языке**\n",
    "\n",
    "классификатор текстов HashingVectorizer\n",
    "\n",
    "_Евгений Борисов <esborisov@sevsu.ru>_"
   ]
  },
  {
   "cell_type": "markdown",
   "metadata": {},
   "source": [
    "## библиотеки"
   ]
  },
  {
   "cell_type": "code",
   "execution_count": 1,
   "metadata": {},
   "outputs": [],
   "source": [
    "import re\n",
    "# import gzip\n",
    "import numpy as np\n",
    "import numpy.random as rng\n",
    "import pandas as pd\n",
    "from tqdm.notebook import tqdm\n",
    "\n",
    "np.set_printoptions(precision=2) # вывод на печать чисел до 2 знака\n",
    "pd.options.display.max_colwidth = 200 \n",
    "\n",
    "tqdm.pandas()"
   ]
  },
  {
   "cell_type": "code",
   "execution_count": 2,
   "metadata": {},
   "outputs": [],
   "source": [
    "# import numpy as np\n",
    "# import pandas as pd\n",
    "# import re"
   ]
  },
  {
   "cell_type": "code",
   "execution_count": 3,
   "metadata": {},
   "outputs": [
    {
     "data": {
      "text/plain": [
       "'1.0.2'"
      ]
     },
     "execution_count": 3,
     "metadata": {},
     "output_type": "execute_result"
    }
   ],
   "source": [
    "from sklearn import __version__ as SKLEARN_VERSION\n",
    "\n",
    "from sklearn.feature_extraction.text import HashingVectorizer\n",
    "\n",
    "from sklearn.model_selection import train_test_split\n",
    "from sklearn.metrics import confusion_matrix\n",
    "from sklearn.metrics import classification_report\n",
    "from sklearn.metrics import accuracy_score\n",
    "\n",
    "SKLEARN_VERSION"
   ]
  },
  {
   "cell_type": "markdown",
   "metadata": {},
   "source": [
    "## тексты"
   ]
  },
  {
   "cell_type": "code",
   "execution_count": 4,
   "metadata": {},
   "outputs": [
    {
     "name": "stdout",
     "output_type": "stream",
     "text": [
      "записей: 3196\n"
     ]
    },
    {
     "data": {
      "text/html": [
       "<div>\n",
       "<style scoped>\n",
       "    .dataframe tbody tr th:only-of-type {\n",
       "        vertical-align: middle;\n",
       "    }\n",
       "\n",
       "    .dataframe tbody tr th {\n",
       "        vertical-align: top;\n",
       "    }\n",
       "\n",
       "    .dataframe thead th {\n",
       "        text-align: right;\n",
       "    }\n",
       "</style>\n",
       "<table border=\"1\" class=\"dataframe\">\n",
       "  <thead>\n",
       "    <tr style=\"text-align: right;\">\n",
       "      <th></th>\n",
       "      <th>text</th>\n",
       "      <th>tag</th>\n",
       "    </tr>\n",
       "  </thead>\n",
       "  <tbody>\n",
       "    <tr>\n",
       "      <th>1224</th>\n",
       "      <td>В США поезд с кроссоверами BMW сошел с рельсов: повреждено около 120 автомобилей\\n\\n6 декабря 2016 в 12:35\\n\\nAUTO.TUT.BY\\n\\nВ результате схода поезда с рельсов в США повреждены около 120 автомоби...</td>\n",
       "      <td>auto</td>\n",
       "    </tr>\n",
       "    <tr>\n",
       "      <th>2829</th>\n",
       "      <td>17:23 - 12.12.2016\\n\\nТакже это касается и официальных порталов госорганов, сайтов государственных и муниципальных предприятий.\\n\\nКак отметили в ведомстве, надзорный орган не будет применять меры...</td>\n",
       "      <td>tech</td>\n",
       "    </tr>\n",
       "    <tr>\n",
       "      <th>3054</th>\n",
       "      <td>Накануне мы рассказали о проблеме жителей поселка Южный. По их словам, оборудование, установленное возле небольшой речки, уже 15 лет загрязняет водоем. Там перестала водиться рыба, вода стала опас...</td>\n",
       "      <td>social</td>\n",
       "    </tr>\n",
       "    <tr>\n",
       "      <th>763</th>\n",
       "      <td>Белорусский \"Фармлэнд\" изымает из обращения лекарственное средство \"Эмоксипин\"\\n\\nопубликовано: 7 декабря 2016 в 10:21\\n\\nобновлено: 7 декабря 2016 в 18:05\\n\\nЕжедневник\\n\\nБелорусский производите...</td>\n",
       "      <td>social</td>\n",
       "    </tr>\n",
       "    <tr>\n",
       "      <th>1060</th>\n",
       "      <td>От 5 до 50%. Где минчанам искать скидки в декабре\\n\\n29 ноября 2016 в 14:39\\n\\nFINANCE.TUT.BY\\n\\nСтоличные универмаги и торговые сети в декабре будут часто предоставлять скидки на товары. Об акция...</td>\n",
       "      <td>economics</td>\n",
       "    </tr>\n",
       "  </tbody>\n",
       "</table>\n",
       "</div>"
      ],
      "text/plain": [
       "                                                                                                                                                                                                         text  \\\n",
       "1224  В США поезд с кроссоверами BMW сошел с рельсов: повреждено около 120 автомобилей\\n\\n6 декабря 2016 в 12:35\\n\\nAUTO.TUT.BY\\n\\nВ результате схода поезда с рельсов в США повреждены около 120 автомоби...   \n",
       "2829  17:23 - 12.12.2016\\n\\nТакже это касается и официальных порталов госорганов, сайтов государственных и муниципальных предприятий.\\n\\nКак отметили в ведомстве, надзорный орган не будет применять меры...   \n",
       "3054  Накануне мы рассказали о проблеме жителей поселка Южный. По их словам, оборудование, установленное возле небольшой речки, уже 15 лет загрязняет водоем. Там перестала водиться рыба, вода стала опас...   \n",
       "763   Белорусский \"Фармлэнд\" изымает из обращения лекарственное средство \"Эмоксипин\"\\n\\nопубликовано: 7 декабря 2016 в 10:21\\n\\nобновлено: 7 декабря 2016 в 18:05\\n\\nЕжедневник\\n\\nБелорусский производите...   \n",
       "1060  От 5 до 50%. Где минчанам искать скидки в декабре\\n\\n29 ноября 2016 в 14:39\\n\\nFINANCE.TUT.BY\\n\\nСтоличные универмаги и торговые сети в декабре будут часто предоставлять скидки на товары. Об акция...   \n",
       "\n",
       "            tag  \n",
       "1224       auto  \n",
       "2829       tech  \n",
       "3054     social  \n",
       "763      social  \n",
       "1060  economics  "
      ]
     },
     "execution_count": 4,
     "metadata": {},
     "output_type": "execute_result"
    }
   ],
   "source": [
    "# загружаем тексты\n",
    "data = pd.read_pickle('../data/news.pkl.gz')\n",
    "print('записей:',len(data))\n",
    "data.sample(5)"
   ]
  },
  {
   "cell_type": "markdown",
   "metadata": {},
   "source": [
    "## токенизация и очистка"
   ]
  },
  {
   "cell_type": "code",
   "execution_count": 5,
   "metadata": {},
   "outputs": [],
   "source": [
    "# # собираем словарь из текстов\n",
    "# def get_vocabulary(ds):\n",
    "#     vcb = [ set(s) for s in ds.tolist() ]\n",
    "#     return sorted(set.union(*vcb))"
   ]
  },
  {
   "cell_type": "code",
   "execution_count": 6,
   "metadata": {},
   "outputs": [],
   "source": [
    "# применяет список замен pat к строке s\n",
    "def replace_patterns(s,pat):\n",
    "    if len(pat)<1: return s\n",
    "    return  replace_patterns( re.sub(pat[0][0],pat[0][1],s), pat[1:] )\n",
    "\n",
    "# нормализация текста\n",
    "def string_normalizer(s):\n",
    "    pat = [\n",
    "       [r'ё','е'] # замена ё для унификации\n",
    "       ,[r'</?[a-z]+>',' '] # удаляем xml\n",
    "       ,[r'[^a-zа-я\\- ]+',' '] # оставляем только буквы, пробел и -\n",
    "       ,[r' -\\w+',' '] # удаляем '-й','-тый' и т.п.\n",
    "       ,[r'\\w+- ',' ']\n",
    "       ,[r' +',' '] # удаляем повторы пробелов\n",
    "    ]\n",
    "    return replace_patterns(s.lower(),pat).strip()"
   ]
  },
  {
   "cell_type": "code",
   "execution_count": 7,
   "metadata": {},
   "outputs": [
    {
     "data": {
      "application/vnd.jupyter.widget-view+json": {
       "model_id": "d9a662a3df4243ddaaa336339b812c3a",
       "version_major": 2,
       "version_minor": 0
      },
      "text/plain": [
       "  0%|          | 0/3196 [00:00<?, ?it/s]"
      ]
     },
     "metadata": {},
     "output_type": "display_data"
    }
   ],
   "source": [
    "data['ctext'] = data['text'].progress_apply(string_normalizer)"
   ]
  },
  {
   "cell_type": "code",
   "execution_count": 8,
   "metadata": {},
   "outputs": [],
   "source": [
    "# # разрезаем стоки на слова\n",
    "# def tokenize(s): return [ w for w in s.split(' ') if (len(w)>1) ]"
   ]
  },
  {
   "cell_type": "code",
   "execution_count": 9,
   "metadata": {},
   "outputs": [],
   "source": [
    "# vcb =  get_vocabulary( data['ctext'].progress_apply( tokenize ) )\n",
    "# print('словарь %i слов'%(len(vcb)))\n",
    "# # pd.DataFrame( vcb ).to_csv('voc.txt',index=False,header=False)"
   ]
  },
  {
   "cell_type": "code",
   "execution_count": 10,
   "metadata": {},
   "outputs": [
    {
     "data": {
      "text/html": [
       "<div>\n",
       "<style scoped>\n",
       "    .dataframe tbody tr th:only-of-type {\n",
       "        vertical-align: middle;\n",
       "    }\n",
       "\n",
       "    .dataframe tbody tr th {\n",
       "        vertical-align: top;\n",
       "    }\n",
       "\n",
       "    .dataframe thead th {\n",
       "        text-align: right;\n",
       "    }\n",
       "</style>\n",
       "<table border=\"1\" class=\"dataframe\">\n",
       "  <thead>\n",
       "    <tr style=\"text-align: right;\">\n",
       "      <th></th>\n",
       "      <th>text</th>\n",
       "      <th>tag</th>\n",
       "      <th>ctext</th>\n",
       "    </tr>\n",
       "  </thead>\n",
       "  <tbody>\n",
       "    <tr>\n",
       "      <th>1537</th>\n",
       "      <td>В Москве сотрудниками Главного управления экономической безопасности и противодействия коррупции МВД России совместно с ГУ МВД России по г. Москве при содействии Минздрава России выявлено крупное ...</td>\n",
       "      <td>incident</td>\n",
       "      <td>в москве сотрудниками главного управления экономической безопасности и противодействия коррупции мвд россии совместно с гу мвд россии по г москве при содействии минздрава россии выявлено крупное х...</td>\n",
       "    </tr>\n",
       "    <tr>\n",
       "      <th>1885</th>\n",
       "      <td>Аукционный дом Tajan обнаружил в пачке из 15 рисунков, которые принёс парижский пенсионер, неизвестный эскиз Леонардо да Винчи. Об этом сообщает The Telegraph.\\n\\nВ ходе экспертиз было установлено...</td>\n",
       "      <td>culture</td>\n",
       "      <td>аукционный дом tajan обнаружил в пачке из рисунков которые принес парижский пенсионер неизвестный эскиз леонардо да винчи об этом сообщает the telegraph в ходе экспертиз было установлено что рисун...</td>\n",
       "    </tr>\n",
       "    <tr>\n",
       "      <th>1678</th>\n",
       "      <td>Заявление первого президента СССР Михаила Горбачева о том, что в границах бывшего Советского Союза может появиться новое государство, — не более чем популизм. Такое мнение в беседе с «Лентой.ру» в...</td>\n",
       "      <td>politics</td>\n",
       "      <td>заявление первого президента ссср михаила горбачева о том что в границах бывшего советского союза может появиться новое государство не более чем популизм такое мнение в беседе с лентой ру высказал...</td>\n",
       "    </tr>\n",
       "    <tr>\n",
       "      <th>2057</th>\n",
       "      <td>Сеск Фабрегас / Фото: © Reuters\\n\\nПолузащитник лондонского «Челси» Сеск Фабрегас отказался переходить в китайский клуб, предложивший ему годовую зарплату размером в 31 миллион евро.\\n\\nЧемпион ми...</td>\n",
       "      <td>sport</td>\n",
       "      <td>сеск фабрегас фото reuters полузащитник лондонского челси сеск фабрегас отказался переходить в китайский клуб предложивший ему годовую зарплату размером в миллион евро чемпион мира и европы в сост...</td>\n",
       "    </tr>\n",
       "    <tr>\n",
       "      <th>1069</th>\n",
       "      <td>Sports.ru вычислил медалистов Сочи-2014, которые пили допинговый коктейль Родченкова\\n\\n10 декабря 2016 в 12:10\\n\\nАлексей Авдохин, Sports.ru\\n\\nЕще в интервью The New York Times Григорий Родченко...</td>\n",
       "      <td>sport</td>\n",
       "      <td>sports ru вычислил медалистов которые пили допинговый коктейль родченкова декабря в алексей авдохин sports ru еще в интервью the new york times григорий родченков бывший глава московской лаборатор...</td>\n",
       "    </tr>\n",
       "  </tbody>\n",
       "</table>\n",
       "</div>"
      ],
      "text/plain": [
       "                                                                                                                                                                                                         text  \\\n",
       "1537  В Москве сотрудниками Главного управления экономической безопасности и противодействия коррупции МВД России совместно с ГУ МВД России по г. Москве при содействии Минздрава России выявлено крупное ...   \n",
       "1885  Аукционный дом Tajan обнаружил в пачке из 15 рисунков, которые принёс парижский пенсионер, неизвестный эскиз Леонардо да Винчи. Об этом сообщает The Telegraph.\\n\\nВ ходе экспертиз было установлено...   \n",
       "1678  Заявление первого президента СССР Михаила Горбачева о том, что в границах бывшего Советского Союза может появиться новое государство, — не более чем популизм. Такое мнение в беседе с «Лентой.ру» в...   \n",
       "2057  Сеск Фабрегас / Фото: © Reuters\\n\\nПолузащитник лондонского «Челси» Сеск Фабрегас отказался переходить в китайский клуб, предложивший ему годовую зарплату размером в 31 миллион евро.\\n\\nЧемпион ми...   \n",
       "1069  Sports.ru вычислил медалистов Сочи-2014, которые пили допинговый коктейль Родченкова\\n\\n10 декабря 2016 в 12:10\\n\\nАлексей Авдохин, Sports.ru\\n\\nЕще в интервью The New York Times Григорий Родченко...   \n",
       "\n",
       "           tag  \\\n",
       "1537  incident   \n",
       "1885   culture   \n",
       "1678  politics   \n",
       "2057     sport   \n",
       "1069     sport   \n",
       "\n",
       "                                                                                                                                                                                                        ctext  \n",
       "1537  в москве сотрудниками главного управления экономической безопасности и противодействия коррупции мвд россии совместно с гу мвд россии по г москве при содействии минздрава россии выявлено крупное х...  \n",
       "1885  аукционный дом tajan обнаружил в пачке из рисунков которые принес парижский пенсионер неизвестный эскиз леонардо да винчи об этом сообщает the telegraph в ходе экспертиз было установлено что рисун...  \n",
       "1678  заявление первого президента ссср михаила горбачева о том что в границах бывшего советского союза может появиться новое государство не более чем популизм такое мнение в беседе с лентой ру высказал...  \n",
       "2057  сеск фабрегас фото reuters полузащитник лондонского челси сеск фабрегас отказался переходить в китайский клуб предложивший ему годовую зарплату размером в миллион евро чемпион мира и европы в сост...  \n",
       "1069  sports ru вычислил медалистов которые пили допинговый коктейль родченкова декабря в алексей авдохин sports ru еще в интервью the new york times григорий родченков бывший глава московской лаборатор...  "
      ]
     },
     "execution_count": 10,
     "metadata": {},
     "output_type": "execute_result"
    }
   ],
   "source": [
    "data.sample(5)"
   ]
  },
  {
   "cell_type": "markdown",
   "metadata": {},
   "source": [
    "## Vectorizer"
   ]
  },
  {
   "cell_type": "code",
   "execution_count": 11,
   "metadata": {},
   "outputs": [
    {
     "name": "stdout",
     "output_type": "stream",
     "text": [
      "CPU times: user 314 µs, sys: 29 µs, total: 343 µs\n",
      "Wall time: 353 µs\n"
     ]
    }
   ],
   "source": [
    "%%time \n",
    "\n",
    "def tokenizer(s): \n",
    "    for w in s.split(' '):\n",
    "        if (len(w)>1): \n",
    "            yield w\n",
    "\n",
    "tf = HashingVectorizer( n_features=4096, norm='l2', tokenizer=tokenizer,token_pattern=None).fit( data['ctext'] )"
   ]
  },
  {
   "cell_type": "markdown",
   "metadata": {},
   "source": [
    "## формируем датасеты"
   ]
  },
  {
   "cell_type": "code",
   "execution_count": 12,
   "metadata": {},
   "outputs": [
    {
     "name": "stdout",
     "output_type": "stream",
     "text": [
      "CPU times: user 1.05 s, sys: 12.6 ms, total: 1.07 s\n",
      "Wall time: 1.14 s\n"
     ]
    },
    {
     "data": {
      "text/plain": [
       "(3196, 4096)"
      ]
     },
     "execution_count": 12,
     "metadata": {},
     "output_type": "execute_result"
    }
   ],
   "source": [
    "%%time \n",
    "\n",
    "X = tf.transform( data['ctext'] )\n",
    "X.shape"
   ]
  },
  {
   "cell_type": "code",
   "execution_count": 13,
   "metadata": {},
   "outputs": [
    {
     "data": {
      "text/plain": [
       "{'auto': 0,\n",
       " 'culture': 1,\n",
       " 'economics': 2,\n",
       " 'health': 3,\n",
       " 'incident': 4,\n",
       " 'politics': 5,\n",
       " 'realty': 6,\n",
       " 'reclama': 7,\n",
       " 'science': 8,\n",
       " 'social': 9,\n",
       " 'sport': 10,\n",
       " 'tech': 11,\n",
       " 'woman': 12}"
      ]
     },
     "execution_count": 13,
     "metadata": {},
     "output_type": "execute_result"
    }
   ],
   "source": [
    "labels = { t:i for i,t in enumerate(sorted(set(data['tag']))) }\n",
    "labels"
   ]
  },
  {
   "cell_type": "code",
   "execution_count": 14,
   "metadata": {},
   "outputs": [
    {
     "data": {
      "text/plain": [
       "array([5, 1, 1, ..., 8, 5, 9])"
      ]
     },
     "execution_count": 14,
     "metadata": {},
     "output_type": "execute_result"
    }
   ],
   "source": [
    "y = data['tag'].map(labels).values\n",
    "y"
   ]
  },
  {
   "cell_type": "code",
   "execution_count": 15,
   "metadata": {},
   "outputs": [
    {
     "data": {
      "text/plain": [
       "((2237, 4096), (2237,), (959, 4096), (959,))"
      ]
     },
     "execution_count": 15,
     "metadata": {},
     "output_type": "execute_result"
    }
   ],
   "source": [
    "X_train, X_test, y_train, y_test = train_test_split( X, y, test_size=0.3, random_state=326 )\n",
    "X_train.shape, y_train.shape, X_test.shape, y_test.shape"
   ]
  },
  {
   "cell_type": "markdown",
   "metadata": {},
   "source": [
    "## обучаем классификатор"
   ]
  },
  {
   "cell_type": "code",
   "execution_count": 16,
   "metadata": {},
   "outputs": [
    {
     "data": {
      "text/plain": [
       "SGDClassifier(tol=0.19)"
      ]
     },
     "execution_count": 16,
     "metadata": {},
     "output_type": "execute_result"
    }
   ],
   "source": [
    "from sklearn.linear_model import SGDClassifier\n",
    "\n",
    "clf = SGDClassifier(loss='hinge',max_iter=1000, tol=0.19)\n",
    "clf.fit(X_train,y_train)"
   ]
  },
  {
   "cell_type": "markdown",
   "metadata": {},
   "source": [
    "## тестируем"
   ]
  },
  {
   "cell_type": "code",
   "execution_count": 17,
   "metadata": {},
   "outputs": [
    {
     "data": {
      "text/plain": [
       "0.9991059454626732"
      ]
     },
     "execution_count": 17,
     "metadata": {},
     "output_type": "execute_result"
    }
   ],
   "source": [
    "o = clf.predict(X_train)\n",
    "accuracy_score(y_train,o)"
   ]
  },
  {
   "cell_type": "code",
   "execution_count": 18,
   "metadata": {},
   "outputs": [
    {
     "data": {
      "text/plain": [
       "0.8269030239833159"
      ]
     },
     "execution_count": 18,
     "metadata": {},
     "output_type": "execute_result"
    }
   ],
   "source": [
    "o = clf.predict(X_test)\n",
    "accuracy_score(y_test,o)"
   ]
  },
  {
   "cell_type": "code",
   "execution_count": 19,
   "metadata": {},
   "outputs": [
    {
     "name": "stdout",
     "output_type": "stream",
     "text": [
      "              precision    recall  f1-score   support\n",
      "\n",
      "           0       0.93      0.87      0.90        87\n",
      "           1       0.74      0.85      0.79       101\n",
      "           2       0.78      0.79      0.78        76\n",
      "           3       0.81      0.55      0.65        31\n",
      "           4       0.90      0.89      0.89       123\n",
      "           5       0.80      0.93      0.86       177\n",
      "           6       0.58      0.52      0.55        21\n",
      "           7       1.00      0.59      0.74        17\n",
      "           8       0.84      0.99      0.91        68\n",
      "           9       0.62      0.34      0.44        44\n",
      "          10       0.97      0.96      0.97       118\n",
      "          11       0.73      0.66      0.69        89\n",
      "          12       1.00      0.86      0.92         7\n",
      "\n",
      "    accuracy                           0.83       959\n",
      "   macro avg       0.82      0.75      0.78       959\n",
      "weighted avg       0.83      0.83      0.82       959\n",
      "\n"
     ]
    }
   ],
   "source": [
    "print( classification_report(y_test,o) )"
   ]
  },
  {
   "cell_type": "code",
   "execution_count": 20,
   "metadata": {},
   "outputs": [
    {
     "data": {
      "image/png": "[encoded data removed]",
      "text/plain": [
       "<Figure size 720x648 with 2 Axes>"
      ]
     },
     "metadata": {
      "needs_background": "light"
     },
     "output_type": "display_data"
    }
   ],
   "source": [
    "from matplotlib import pyplot as plt\n",
    "import itertools\n",
    "\n",
    "classes = sorted(labels.keys())\n",
    "cm = confusion_matrix(y_test,o)\n",
    "tick_marks = np.arange(len(classes))\n",
    "\n",
    "plt.figure(figsize=(10,9))\n",
    "\n",
    "plt.xticks(tick_marks, classes, rotation=45)\n",
    "plt.yticks(tick_marks, classes)\n",
    "\n",
    "thresh = cm.max() / 2.\n",
    "for i, j in itertools.product(range(cm.shape[0]), range(cm.shape[1])):\n",
    "    plt.text(j, i, format(cm[i, j], 'd'),\n",
    "             horizontalalignment=\"center\",\n",
    "             color=\"white\" if cm[i, j] > thresh else \"black\")\n",
    "\n",
    "plt.title('Confusion matrix')\n",
    "plt.tight_layout()\n",
    "plt.ylabel('True label')\n",
    "plt.xlabel('Predicted label')\n",
    "plt.imshow(cm, interpolation='nearest', cmap=plt.cm.Blues)\n",
    "plt.colorbar()\n",
    "\n",
    "plt.show()"
   ]
  },
  {
   "cell_type": "markdown",
   "metadata": {},
   "source": [
    "---"
   ]
  },
  {
   "cell_type": "code",
   "execution_count": 21,
   "metadata": {},
   "outputs": [
    {
     "name": "stdout",
     "output_type": "stream",
     "text": [
      "tag: tech\n",
      "predict: tech\n",
      "После первого января новостные агрегаторы смогут продолжать использовать материалы СМИ без каких-либо проверок. Роскомнадзор не будет привлекать их к ответственности за недостоверную информацию в заре...\n",
      "- - - - - - - - - - - - - - - - - -\n",
      "tag: politics\n",
      "predict: politics\n",
      "Президент Венесуэлы Николас Мадуро распорядился на 72 часа закрыть границу с Колумбией, чтобы избежать контрабанды валюты. Об этом сообщает Associated Press. По словам Мадуро, контрабандисты, которых...\n",
      "- - - - - - - - - - - - - - - - - -\n",
      "tag: auto\n",
      "predict: auto\n",
      "\"Оля всегда боялась машин\". В Слуцке простились с погибшей под колесами авто пьяного гаишника 28 ноября 2016 в 20:25 Тамара Савич / AUTO.TUT.BY / Фото: Вадим Замировский «Ты сильный, ты же взрослый...\n",
      "- - - - - - - - - - - - - - - - - -\n",
      "tag: tech\n",
      "predict: tech\n",
      "Новая технология уменьшит количество сотовых башен Корейский оператор\n",
      "SK Telecom в следующем году планирует построить новую сеть, а точнее\n",
      "сеть, основанную на новой технологии antennae diversity. Нова...\n",
      "- - - - - - - - - - - - - - - - - -\n",
      "tag: incident\n",
      "predict: incident\n",
      "В Ростовской области сотрудники полиции устанавливают обстоятельства лобового столкновения двух грузовиков Volvo. В результате аварии травмы различной степени тяжести получили водители грузовых машин....\n",
      "- - - - - - - - - - - - - - - - - -\n",
      "tag: tech\n",
      "predict: tech\n",
      "Вышла финальная версия Firefox 1.5 Анонсирован выход релиза Firefox 1.5...\n",
      "- - - - - - - - - - - - - - - - - -\n",
      "tag: culture\n",
      "predict: culture\n",
      "ВАРШАВА, 11 декабря. /Корр. ТАСС Ирина Полина/. Европейская киноакадемия (European Film Academy) объявила обладателей премии European Film Awards 2016. Торжественная церемония состоялась вечером в суб...\n",
      "- - - - - - - - - - - - - - - - - -\n",
      "tag: politics\n",
      "predict: politics\n",
      "Избранный президент США Дональд Трамп объявил о намерении сделать президента Goldman Sachs Гари Кона своим советником по экономике, а также назначить его главой Национального экономического совета. «Н...\n",
      "- - - - - - - - - - - - - - - - - -\n",
      "tag: incident\n",
      "predict: incident\n",
      "Как сообщается, 12 декабря на военной базе прогремел мощный взрыв, точная его причина пока не выяснена. По меньшей мере двадцать три военных получили ранение из-за мощного взрыва, который прогремел н...\n",
      "- - - - - - - - - - - - - - - - - -\n",
      "tag: politics\n",
      "predict: politics\n",
      "Место главного дипломата Америки точно не светит экс-кандидату на пост президента США в 2012 году Митту Ромни. С мечтой возглавить дипломатический корпус известный своими антироссийскими высказываниям...\n",
      "- - - - - - - - - - - - - - - - - -\n"
     ]
    }
   ],
   "source": [
    "o = clf.predict(X)\n",
    "\n",
    "labels_inv = { labels[k]:k for k in labels }\n",
    "\n",
    "for n in range(10):\n",
    "    i = rng.randint(len(data))\n",
    "    print('tag:',data.iloc[i,1])\n",
    "    print('predict:',labels_inv[o[i]])\n",
    "    print(re.sub(r'\\n\\s*\\n',' ',data.iloc[i,0][:200])+'...')\n",
    "    print('- - - - - - - - - - - - - - - - - -')\n",
    "    "
   ]
  },
  {
   "cell_type": "code",
   "execution_count": null,
   "metadata": {},
   "outputs": [],
   "source": []
  }
 ],
 "metadata": {
  "kernelspec": {
   "display_name": "Python 3 (ipykernel)",
   "language": "python",
   "name": "python3"
  },
  "language_info": {
   "codemirror_mode": {
    "name": "ipython",
    "version": 3
   },
   "file_extension": ".py",
   "mimetype": "text/x-python",
   "name": "python",
   "nbconvert_exporter": "python",
   "pygments_lexer": "ipython3",
   "version": "3.8.9"
  },
  "toc": {
   "base_numbering": 1,
   "nav_menu": {},
   "number_sections": true,
   "sideBar": true,
   "skip_h1_title": false,
   "title_cell": "Table of Contents",
   "title_sidebar": "Contents",
   "toc_cell": false,
   "toc_position": {},
   "toc_section_display": true,
   "toc_window_display": false
  }
 },
 "nbformat": 4,
 "nbformat_minor": 2
}
