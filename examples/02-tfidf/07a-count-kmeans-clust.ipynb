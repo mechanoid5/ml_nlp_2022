{
 "cells": [
  {
   "cell_type": "markdown",
   "metadata": {},
   "source": [
    "**извлечение признаков из текста на естественном языке**\n",
    "\n",
    "кластеризатор текстов   \n",
    "  CountVectorizer + KMeans\n",
    "\n",
    "_Евгений Борисов <esborisov@sevsu.ru>_"
   ]
  },
  {
   "cell_type": "markdown",
   "metadata": {},
   "source": [
    "## библиотеки"
   ]
  },
  {
   "cell_type": "code",
   "execution_count": 1,
   "metadata": {},
   "outputs": [],
   "source": [
    "import re\n",
    "# import gzip\n",
    "import numpy as np\n",
    "import numpy.random as rng\n",
    "import pandas as pd\n",
    "from tqdm.notebook import tqdm\n",
    "\n",
    "np.set_printoptions(precision=2) # вывод на печать чисел до 2 знака\n",
    "pd.options.display.max_colwidth = 200 \n",
    "\n",
    "tqdm.pandas()"
   ]
  },
  {
   "cell_type": "code",
   "execution_count": 2,
   "metadata": {},
   "outputs": [
    {
     "data": {
      "text/plain": [
       "'1.0.2'"
      ]
     },
     "execution_count": 2,
     "metadata": {},
     "output_type": "execute_result"
    }
   ],
   "source": [
    "from sklearn import __version__ as SKLEARN_VERSION\n",
    "\n",
    "from sklearn.feature_extraction.text import CountVectorizer\n",
    "from sklearn.cluster import KMeans\n",
    "from matplotlib import pyplot as plt\n",
    "\n",
    "SKLEARN_VERSION"
   ]
  },
  {
   "cell_type": "markdown",
   "metadata": {},
   "source": [
    "## тексты"
   ]
  },
  {
   "cell_type": "code",
   "execution_count": 3,
   "metadata": {},
   "outputs": [
    {
     "name": "stdout",
     "output_type": "stream",
     "text": [
      "записей: 3196\n"
     ]
    }
   ],
   "source": [
    "# загружаем тексты\n",
    "data = pd.read_pickle('../data/news.pkl.gz')\n",
    "print('записей:',len(data))"
   ]
  },
  {
   "cell_type": "code",
   "execution_count": 4,
   "metadata": {},
   "outputs": [
    {
     "data": {
      "text/html": [
       "<div>\n",
       "<style scoped>\n",
       "    .dataframe tbody tr th:only-of-type {\n",
       "        vertical-align: middle;\n",
       "    }\n",
       "\n",
       "    .dataframe tbody tr th {\n",
       "        vertical-align: top;\n",
       "    }\n",
       "\n",
       "    .dataframe thead th {\n",
       "        text-align: right;\n",
       "    }\n",
       "</style>\n",
       "<table border=\"1\" class=\"dataframe\">\n",
       "  <thead>\n",
       "    <tr style=\"text-align: right;\">\n",
       "      <th></th>\n",
       "      <th>text</th>\n",
       "      <th>tag</th>\n",
       "    </tr>\n",
       "  </thead>\n",
       "  <tbody>\n",
       "    <tr>\n",
       "      <th>2840</th>\n",
       "      <td>Насколько я понимаю, иск подан по статье 152 Гражданского кодекса по поводу защиты чести, достоинства и деловой репутации ведущей программы «Ревизирро» Елены Летучей. В данном случае необходимо пр...</td>\n",
       "      <td>incident</td>\n",
       "    </tr>\n",
       "    <tr>\n",
       "      <th>2714</th>\n",
       "      <td>Разработкой сверхпрочных ноутбуков с защитой от воды, ударов, высоких (до +50 градусов) и низких (до -50 градусов) температур, а также электромагнитных полей займется отечественная компания \"Т-Пла...</td>\n",
       "      <td>tech</td>\n",
       "    </tr>\n",
       "  </tbody>\n",
       "</table>\n",
       "</div>"
      ],
      "text/plain": [
       "                                                                                                                                                                                                         text  \\\n",
       "2840  Насколько я понимаю, иск подан по статье 152 Гражданского кодекса по поводу защиты чести, достоинства и деловой репутации ведущей программы «Ревизирро» Елены Летучей. В данном случае необходимо пр...   \n",
       "2714  Разработкой сверхпрочных ноутбуков с защитой от воды, ударов, высоких (до +50 градусов) и низких (до -50 градусов) температур, а также электромагнитных полей займется отечественная компания \"Т-Пла...   \n",
       "\n",
       "           tag  \n",
       "2840  incident  \n",
       "2714      tech  "
      ]
     },
     "execution_count": 4,
     "metadata": {},
     "output_type": "execute_result"
    }
   ],
   "source": [
    "data.sample(2)"
   ]
  },
  {
   "cell_type": "markdown",
   "metadata": {},
   "source": [
    "## токенизация и очистка"
   ]
  },
  {
   "cell_type": "code",
   "execution_count": 5,
   "metadata": {},
   "outputs": [],
   "source": [
    "# применяет список замен pat к строке s\n",
    "def replace_patterns(s,pat):\n",
    "    if len(pat)<1: return s\n",
    "    return  replace_patterns( re.sub(pat[0][0],pat[0][1],s), pat[1:] )\n",
    "\n",
    "# нормализация текста\n",
    "def string_normalizer(s):\n",
    "    pat = [\n",
    "       [r'ё','е'] # замена ё для унификации\n",
    "       ,[r'</?[a-z]+>',' '] # удаляем xml\n",
    "       ,[r'[^a-zа-я\\- ]+',' '] # оставляем только буквы, пробел и -\n",
    "       ,[r' -\\w+',' '] # удаляем '-й','-тый' и т.п.\n",
    "       ,[r'\\w+- ',' ']\n",
    "       ,[r' +',' '] # удаляем повторы пробелов\n",
    "    ]\n",
    "    return replace_patterns(s.lower(),pat).strip()"
   ]
  },
  {
   "cell_type": "code",
   "execution_count": 6,
   "metadata": {},
   "outputs": [
    {
     "data": {
      "application/vnd.jupyter.widget-view+json": {
       "model_id": "a6445a9c960b4f6e894c4cda58333e6d",
       "version_major": 2,
       "version_minor": 0
      },
      "text/plain": [
       "  0%|          | 0/3196 [00:00<?, ?it/s]"
      ]
     },
     "metadata": {},
     "output_type": "display_data"
    }
   ],
   "source": [
    "data['ctext'] = data['text'].progress_apply(string_normalizer)"
   ]
  },
  {
   "cell_type": "markdown",
   "metadata": {},
   "source": [
    "##  Vectorizer"
   ]
  },
  {
   "cell_type": "code",
   "execution_count": 11,
   "metadata": {},
   "outputs": [],
   "source": [
    "%%time \n",
    "\n",
    "def tokenizer(s): \n",
    "    for w in s.split(' '):\n",
    "        if (len(w)>1): \n",
    "            yield w\n",
    "\n",
    "X = CountVectorizer(tokenizer=tokenizer, token_pattern=None).fit_transform(data['ctext'])"
   ]
  },
  {
   "cell_type": "markdown",
   "metadata": {},
   "source": [
    "## кластеризируем"
   ]
  },
  {
   "cell_type": "code",
   "execution_count": 12,
   "metadata": {},
   "outputs": [
    {
     "data": {
      "text/plain": [
       "12"
      ]
     },
     "execution_count": 12,
     "metadata": {},
     "output_type": "execute_result"
    }
   ],
   "source": [
    "data['cluster'] = KMeans(n_clusters=12).fit(X).labels_\n",
    "data['cluster'].drop_duplicates().count()"
   ]
  },
  {
   "cell_type": "markdown",
   "metadata": {},
   "source": [
    "## тестируем"
   ]
  },
  {
   "cell_type": "code",
   "execution_count": 13,
   "metadata": {},
   "outputs": [
    {
     "data": {
      "text/html": [
       "<div>\n",
       "<style scoped>\n",
       "    .dataframe tbody tr th:only-of-type {\n",
       "        vertical-align: middle;\n",
       "    }\n",
       "\n",
       "    .dataframe tbody tr th {\n",
       "        vertical-align: top;\n",
       "    }\n",
       "\n",
       "    .dataframe thead th {\n",
       "        text-align: right;\n",
       "    }\n",
       "</style>\n",
       "<table border=\"1\" class=\"dataframe\">\n",
       "  <thead>\n",
       "    <tr style=\"text-align: right;\">\n",
       "      <th></th>\n",
       "      <th>cluster</th>\n",
       "      <th>count</th>\n",
       "      <th>tags</th>\n",
       "    </tr>\n",
       "  </thead>\n",
       "  <tbody>\n",
       "    <tr>\n",
       "      <th>0</th>\n",
       "      <td>0</td>\n",
       "      <td>2418</td>\n",
       "      <td>economics woman tech auto culture health sport politics reclama social incident realty science</td>\n",
       "    </tr>\n",
       "    <tr>\n",
       "      <th>1</th>\n",
       "      <td>1</td>\n",
       "      <td>5</td>\n",
       "      <td>woman sport social</td>\n",
       "    </tr>\n",
       "    <tr>\n",
       "      <th>2</th>\n",
       "      <td>2</td>\n",
       "      <td>564</td>\n",
       "      <td>economics woman tech auto culture politics social reclama realty incident sport science</td>\n",
       "    </tr>\n",
       "    <tr>\n",
       "      <th>3</th>\n",
       "      <td>3</td>\n",
       "      <td>157</td>\n",
       "      <td>economics woman tech auto culture politics social reclama sport incident realty science</td>\n",
       "    </tr>\n",
       "    <tr>\n",
       "      <th>4</th>\n",
       "      <td>4</td>\n",
       "      <td>1</td>\n",
       "      <td>woman</td>\n",
       "    </tr>\n",
       "    <tr>\n",
       "      <th>5</th>\n",
       "      <td>5</td>\n",
       "      <td>38</td>\n",
       "      <td>economics woman auto culture social realty sport incident</td>\n",
       "    </tr>\n",
       "    <tr>\n",
       "      <th>6</th>\n",
       "      <td>6</td>\n",
       "      <td>3</td>\n",
       "      <td>economics woman auto</td>\n",
       "    </tr>\n",
       "    <tr>\n",
       "      <th>7</th>\n",
       "      <td>7</td>\n",
       "      <td>2</td>\n",
       "      <td>woman</td>\n",
       "    </tr>\n",
       "    <tr>\n",
       "      <th>8</th>\n",
       "      <td>8</td>\n",
       "      <td>3</td>\n",
       "      <td>sport</td>\n",
       "    </tr>\n",
       "    <tr>\n",
       "      <th>9</th>\n",
       "      <td>9</td>\n",
       "      <td>2</td>\n",
       "      <td>economics reclama</td>\n",
       "    </tr>\n",
       "    <tr>\n",
       "      <th>10</th>\n",
       "      <td>10</td>\n",
       "      <td>1</td>\n",
       "      <td>social</td>\n",
       "    </tr>\n",
       "    <tr>\n",
       "      <th>11</th>\n",
       "      <td>11</td>\n",
       "      <td>2</td>\n",
       "      <td>woman</td>\n",
       "    </tr>\n",
       "  </tbody>\n",
       "</table>\n",
       "</div>"
      ],
      "text/plain": [
       "    cluster  count  \\\n",
       "0         0   2418   \n",
       "1         1      5   \n",
       "2         2    564   \n",
       "3         3    157   \n",
       "4         4      1   \n",
       "5         5     38   \n",
       "6         6      3   \n",
       "7         7      2   \n",
       "8         8      3   \n",
       "9         9      2   \n",
       "10       10      1   \n",
       "11       11      2   \n",
       "\n",
       "                                                                                              tags  \n",
       "0   economics woman tech auto culture health sport politics reclama social incident realty science  \n",
       "1                                                                               woman sport social  \n",
       "2          economics woman tech auto culture politics social reclama realty incident sport science  \n",
       "3          economics woman tech auto culture politics social reclama sport incident realty science  \n",
       "4                                                                                            woman  \n",
       "5                                        economics woman auto culture social realty sport incident  \n",
       "6                                                                             economics woman auto  \n",
       "7                                                                                            woman  \n",
       "8                                                                                            sport  \n",
       "9                                                                                economics reclama  \n",
       "10                                                                                          social  \n",
       "11                                                                                           woman  "
      ]
     },
     "execution_count": 13,
     "metadata": {},
     "output_type": "execute_result"
    }
   ],
   "source": [
    "# номер кластера, количество объектов, метки объектов\n",
    "# (cluster=-1 - некластеризованные DBSCAN объекты)\n",
    "cluster_descr = pd.concat([\n",
    "        data[['cluster','tag']].groupby(['cluster'])['tag'].count(),\n",
    "        data[['cluster','tag']].groupby(['cluster'])['tag'].apply(lambda s: set(s)).apply(' '.join)\n",
    "    ],axis=1).reset_index()\n",
    "\n",
    "cluster_descr.columns = ['cluster','count','tags']\n",
    "\n",
    "cluster_descr"
   ]
  },
  {
   "cell_type": "code",
   "execution_count": 14,
   "metadata": {},
   "outputs": [
    {
     "data": {
      "text/plain": [
       "<AxesSubplot:xlabel='cluster'>"
      ]
     },
     "execution_count": 14,
     "metadata": {},
     "output_type": "execute_result"
    },
    {
     "data": {
      "image/png": "[encoded data removed]",
      "text/plain": [
       "<Figure size 1152x360 with 1 Axes>"
      ]
     },
     "metadata": {
      "needs_background": "light"
     },
     "output_type": "display_data"
    }
   ],
   "source": [
    "# размеры кластеров\n",
    "cluster_descr[['cluster','count']]\\\n",
    "    .query('cluster>-1')\\\n",
    "    .set_index('cluster')\\\n",
    "    .plot.bar(grid=True,figsize=(16,5))"
   ]
  },
  {
   "cell_type": "code",
   "execution_count": 15,
   "metadata": {},
   "outputs": [],
   "source": [
    "def print_cluster_samples(n,ns=3,nt=300):\n",
    "    count,tags = cluster_descr.query(f'cluster=={n}')[['count','tags']].values[0]#.tolist\n",
    "    df = data.query(f'cluster=={n}')\n",
    "    ns_ = min(ns,len(df))\n",
    "    top = [ t[:nt].replace('\\n',' ') for t in df['text'].sample(ns_).values ]\n",
    "    print('[ КЛАСТЕР %i, элементов: %i, метки: \"%s\" ]'%(n,count,tags))\n",
    "    for s in top: print('\\n%s ...\\n'%(s) )"
   ]
  },
  {
   "cell_type": "code",
   "execution_count": 16,
   "metadata": {},
   "outputs": [
    {
     "name": "stdout",
     "output_type": "stream",
     "text": [
      "[ КЛАСТЕР 8, элементов: 3, метки: \"sport\" ]\n",
      "\n",
      "90+6' Диего Симеоне и его команда допускают очередной \"ляп\" в чемпионате и тем самым усложняют себе задачу. О чемпионстве \"Атлетико\" говорить теперь не приходится, теперь на повестке дня стоит задача по завоеванию места в еврокубковой зоне, а сделать это с такой игрой будет весьма сложно. Возможно з ...\n",
      "\n",
      "\n",
      "90+6' Отличная игра - много моментов. Очень равная игра была на поле. Хозяева комбинировали и пытались владеть мячом, а гости, в основном, контратаковали.  90+6' Матч только что завершился.  90+5' Матиас Вечино (Фиорентина) разыгрывает мяч.  90+5' Хрвое Милич (Фиорентина) обострял ситуацию сейчас. О ...\n",
      "\n",
      "\n",
      "90+6' Все! Матч завершен! В сумасшедшем по накалу украинском \"Эль-Класико\" победу одержал \"Шахтер\" со счетом 4:3! Теперь \"горняки\" увеличили отрыв в турнирной таблице от \"Динамо\" на 13 очков! Предлагаем Вам выбрать лучших игроков этого матча в составах обеих команд. Для Вас прямую онлайн-трансляцию  ...\n",
      "\n",
      "\n",
      "= = = = = = = = = = = = = = = = = = = = = = = = = =\n",
      "\n",
      "[ КЛАСТЕР 2, элементов: 564, метки: \"economics woman tech auto culture politics social reclama realty incident sport science\" ]\n",
      "\n",
      "13 декабря 2016, 09:21  Мировые цены на «черное золото» утром во вторник снижаются в ходе электронных торгов на Лондонской и Нью-Йоркской биржах.  Февральские фьючерсы на нефть эталонной марки Brent просели на Лондонской бирже ICE Futures на 0,14% до $55,61 за баррель. Январские фьючерсы на легкую н ...\n",
      "\n",
      "\n",
      "Только в Минской области за сутки утонули 6 рыбаков. Власти запретили выход на лед  10 декабря 2016 в 19:20  TUT.BY  На территории Минской области распоряжением Миноблисполкома введен запрет выхода на лед. Только за сутки 9 декабря в регионе утонули 6 человек, еще нескольких успели спасти, сегодня,  ...\n",
      "\n",
      "\n",
      "Картинка дня: как выглядит буря на Сатурне  8 декабря 2016 в 10:19  42.TUT.BY  Межпланетная станция «Кассини» передала на Землю первые фотоснимки после перехода на новую орбиту Сатурна. Изображения опубликованы на сайте лаборатории реактивного движения NASA.  Коллаж из четырех фотографий показывает  ...\n",
      "\n",
      "\n",
      "= = = = = = = = = = = = = = = = = = = = = = = = = =\n",
      "\n",
      "[ КЛАСТЕР 7, элементов: 2, метки: \"woman\" ]\n",
      "\n",
      "Истории от Юлии Чернявской. Идеалист и его жена  10 декабря 2016 в 16:43  Юлия Чернявская / TUT.BY  В детстве я часто бывала в этом доме: мы жили по соседству, и их внуки были моими друзьями. Однажды, когда папа мальчиков не смог поехать с ними в Прибалтику, путевку подарили мне, чужой, в сущности,  ...\n",
      "\n",
      "\n",
      "Мех дня: как люди спасают животных, а животные - отношения в паре  1 декабря 2016 в 8:30  LADY.TUT.BY  «Мех дня» — зимний проект, которым мы греемся и доказываем: «мех» — должен быть живым, четверолапым и самым любимым.  Ваши истории о питомцах (как они появились, каков их характер, привычки и проде ...\n",
      "\n",
      "\n",
      "= = = = = = = = = = = = = = = = = = = = = = = = = =\n",
      "\n"
     ]
    }
   ],
   "source": [
    "for n in rng.permutation(cluster_descr['cluster'].max())[:3] :\n",
    "    print_cluster_samples(n)\n",
    "    print('\\n= = = = = = = = = = = = = = = = = = = = = = = = = =\\n')"
   ]
  },
  {
   "cell_type": "code",
   "execution_count": null,
   "metadata": {},
   "outputs": [],
   "source": []
  },
  {
   "cell_type": "code",
   "execution_count": null,
   "metadata": {},
   "outputs": [],
   "source": []
  }
 ],
 "metadata": {
  "kernelspec": {
   "display_name": "Python 3 (ipykernel)",
   "language": "python",
   "name": "python3"
  },
  "language_info": {
   "codemirror_mode": {
    "name": "ipython",
    "version": 3
   },
   "file_extension": ".py",
   "mimetype": "text/x-python",
   "name": "python",
   "nbconvert_exporter": "python",
   "pygments_lexer": "ipython3",
   "version": "3.8.9"
  },
  "toc": {
   "base_numbering": 1,
   "nav_menu": {},
   "number_sections": true,
   "sideBar": true,
   "skip_h1_title": false,
   "title_cell": "Table of Contents",
   "title_sidebar": "Contents",
   "toc_cell": false,
   "toc_position": {},
   "toc_section_display": true,
   "toc_window_display": false
  }
 },
 "nbformat": 4,
 "nbformat_minor": 2
}
