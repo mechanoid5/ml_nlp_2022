{
 "cells": [
  {
   "cell_type": "markdown",
   "metadata": {},
   "source": [
    "**извлечение признаков из текста на естественном языке**\n",
    "\n",
    "кластеризатор текстов   \n",
    "  CountVectorizer + KMeans\n",
    "\n",
    "_Евгений Борисов <esborisov@sevsu.ru>_"
   ]
  },
  {
   "cell_type": "markdown",
   "metadata": {},
   "source": [
    "## библиотеки"
   ]
  },
  {
   "cell_type": "code",
   "execution_count": 1,
   "metadata": {},
   "outputs": [],
   "source": [
    "import re\n",
    "# import gzip\n",
    "import numpy as np\n",
    "import numpy.random as rng\n",
    "import pandas as pd\n",
    "from tqdm.notebook import tqdm\n",
    "\n",
    "np.set_printoptions(precision=2) # вывод на печать чисел до 2 знака\n",
    "pd.options.display.max_colwidth = 200 \n",
    "\n",
    "tqdm.pandas()"
   ]
  },
  {
   "cell_type": "code",
   "execution_count": 2,
   "metadata": {},
   "outputs": [
    {
     "data": {
      "text/plain": [
       "'1.0.2'"
      ]
     },
     "execution_count": 2,
     "metadata": {},
     "output_type": "execute_result"
    }
   ],
   "source": [
    "from sklearn import __version__ as SKLEARN_VERSION\n",
    "\n",
    "from sklearn.feature_extraction.text import CountVectorizer\n",
    "from sklearn.cluster import KMeans\n",
    "from matplotlib import pyplot as plt\n",
    "\n",
    "SKLEARN_VERSION"
   ]
  },
  {
   "cell_type": "markdown",
   "metadata": {},
   "source": [
    "## тексты"
   ]
  },
  {
   "cell_type": "code",
   "execution_count": 3,
   "metadata": {},
   "outputs": [
    {
     "name": "stdout",
     "output_type": "stream",
     "text": [
      "записей: 3196\n"
     ]
    }
   ],
   "source": [
    "# загружаем тексты\n",
    "data = pd.read_pickle('../data/news.pkl.gz')\n",
    "print('записей:',len(data))"
   ]
  },
  {
   "cell_type": "code",
   "execution_count": 4,
   "metadata": {},
   "outputs": [
    {
     "data": {
      "text/html": [
       "<div>\n",
       "<style scoped>\n",
       "    .dataframe tbody tr th:only-of-type {\n",
       "        vertical-align: middle;\n",
       "    }\n",
       "\n",
       "    .dataframe tbody tr th {\n",
       "        vertical-align: top;\n",
       "    }\n",
       "\n",
       "    .dataframe thead th {\n",
       "        text-align: right;\n",
       "    }\n",
       "</style>\n",
       "<table border=\"1\" class=\"dataframe\">\n",
       "  <thead>\n",
       "    <tr style=\"text-align: right;\">\n",
       "      <th></th>\n",
       "      <th>text</th>\n",
       "      <th>tag</th>\n",
       "    </tr>\n",
       "  </thead>\n",
       "  <tbody>\n",
       "    <tr>\n",
       "      <th>296</th>\n",
       "      <td>Кинотеатр \"Салют\" установит новый рекорд В кинотеатре \"Салют\" в субботу\\n10 декабря стартует фестиваль французских фильмов. Уральцам покажут 5\\nфильмов, в том числе новый фильм Франсуа Озона \"Врем...</td>\n",
       "      <td>culture</td>\n",
       "    </tr>\n",
       "    <tr>\n",
       "      <th>616</th>\n",
       "      <td>Когда в паспорте Кошмар и Копец: истории белорусок с необычными фамилиями\\n\\n5 декабря 2016 в 8:40\\n\\nЕлена Колосова / Фото из личных архивов героинь\\n\\nФамилию, как и родственников, не выбирают. ...</td>\n",
       "      <td>woman</td>\n",
       "    </tr>\n",
       "  </tbody>\n",
       "</table>\n",
       "</div>"
      ],
      "text/plain": [
       "                                                                                                                                                                                                        text  \\\n",
       "296  Кинотеатр \"Салют\" установит новый рекорд В кинотеатре \"Салют\" в субботу\\n10 декабря стартует фестиваль французских фильмов. Уральцам покажут 5\\nфильмов, в том числе новый фильм Франсуа Озона \"Врем...   \n",
       "616  Когда в паспорте Кошмар и Копец: истории белорусок с необычными фамилиями\\n\\n5 декабря 2016 в 8:40\\n\\nЕлена Колосова / Фото из личных архивов героинь\\n\\nФамилию, как и родственников, не выбирают. ...   \n",
       "\n",
       "         tag  \n",
       "296  culture  \n",
       "616    woman  "
      ]
     },
     "execution_count": 4,
     "metadata": {},
     "output_type": "execute_result"
    }
   ],
   "source": [
    "data.sample(2)"
   ]
  },
  {
   "cell_type": "markdown",
   "metadata": {},
   "source": [
    "## токенизация и очистка"
   ]
  },
  {
   "cell_type": "code",
   "execution_count": 5,
   "metadata": {},
   "outputs": [],
   "source": [
    "# применяет список замен pat к строке s\n",
    "def replace_patterns(s,pat):\n",
    "    if len(pat)<1: return s\n",
    "    return  replace_patterns( re.sub(pat[0][0],pat[0][1],s), pat[1:] )\n",
    "\n",
    "# нормализация текста\n",
    "def string_normalizer(s):\n",
    "    pat = [\n",
    "       [r'ё','е'] # замена ё для унификации\n",
    "       ,[r'</?[a-z]+>',' '] # удаляем xml\n",
    "       ,[r'[^a-zа-я\\- ]+',' '] # оставляем только буквы, пробел и -\n",
    "       ,[r' -\\w+',' '] # удаляем '-й','-тый' и т.п.\n",
    "       ,[r'\\w+- ',' ']\n",
    "       ,[r' +',' '] # удаляем повторы пробелов\n",
    "    ]\n",
    "    return replace_patterns(s.lower(),pat).strip()\n",
    "\n",
    "\n",
    "# разрезаем стоки на слова\n",
    "def tokenize(s): \n",
    "    return [ w for w in s.split(' ') if (len(w)>1)  ]\n"
   ]
  },
  {
   "cell_type": "code",
   "execution_count": 6,
   "metadata": {},
   "outputs": [
    {
     "data": {
      "application/vnd.jupyter.widget-view+json": {
       "model_id": "c28233f332e645b9aab8dcff7be38978",
       "version_major": 2,
       "version_minor": 0
      },
      "text/plain": [
       "  0%|          | 0/3196 [00:00<?, ?it/s]"
      ]
     },
     "metadata": {},
     "output_type": "display_data"
    },
    {
     "data": {
      "application/vnd.jupyter.widget-view+json": {
       "model_id": "3c66a38838aa422e906935768eaab3ac",
       "version_major": 2,
       "version_minor": 0
      },
      "text/plain": [
       "  0%|          | 0/3196 [00:00<?, ?it/s]"
      ]
     },
     "metadata": {},
     "output_type": "display_data"
    }
   ],
   "source": [
    "data['ctext'] = (\n",
    "    data['text']\n",
    "    .progress_apply(string_normalizer)\n",
    "    .progress_apply(tokenize)\n",
    "    )"
   ]
  },
  {
   "cell_type": "code",
   "execution_count": 7,
   "metadata": {},
   "outputs": [],
   "source": [
    "# собираем словарь из текстов\n",
    "def get_vocabulary(ds):\n",
    "    vcb = [ set(s) for s in ds.tolist() ]\n",
    "    return sorted(set.union(*vcb))"
   ]
  },
  {
   "cell_type": "code",
   "execution_count": 8,
   "metadata": {},
   "outputs": [
    {
     "name": "stdout",
     "output_type": "stream",
     "text": [
      "словарь 83094 слов\n"
     ]
    }
   ],
   "source": [
    "vcb0 =  get_vocabulary( data['ctext'] )\n",
    "print('словарь %i слов'%(len(vcb0)))\n",
    "# pd.DataFrame( vcb ).to_csv('voc0.txt',index=False,header=False)"
   ]
  },
  {
   "cell_type": "code",
   "execution_count": 9,
   "metadata": {},
   "outputs": [],
   "source": [
    "data['ctext'] = data['ctext'].apply(' '.join)"
   ]
  },
  {
   "cell_type": "code",
   "execution_count": 10,
   "metadata": {},
   "outputs": [
    {
     "data": {
      "text/html": [
       "<div>\n",
       "<style scoped>\n",
       "    .dataframe tbody tr th:only-of-type {\n",
       "        vertical-align: middle;\n",
       "    }\n",
       "\n",
       "    .dataframe tbody tr th {\n",
       "        vertical-align: top;\n",
       "    }\n",
       "\n",
       "    .dataframe thead th {\n",
       "        text-align: right;\n",
       "    }\n",
       "</style>\n",
       "<table border=\"1\" class=\"dataframe\">\n",
       "  <thead>\n",
       "    <tr style=\"text-align: right;\">\n",
       "      <th></th>\n",
       "      <th>text</th>\n",
       "      <th>tag</th>\n",
       "      <th>ctext</th>\n",
       "    </tr>\n",
       "  </thead>\n",
       "  <tbody>\n",
       "    <tr>\n",
       "      <th>749</th>\n",
       "      <td>Анонимки для милиции: на что жалуются жители Минской области\\n\\n7 декабря 2016 в 19:35\\n\\nTUT.BY\\n\\nСотрудники милиции делятся первыми результатами совместного с «Белпочтой» эксперимента: жителям ...</td>\n",
       "      <td>social</td>\n",
       "      <td>анонимки для милиции на что жалуются жители минской области декабря tut by сотрудники милиции делятся первыми результатами совместного белпочтой эксперимента жителям минской области предложили пис...</td>\n",
       "    </tr>\n",
       "    <tr>\n",
       "      <th>243</th>\n",
       "      <td>ЭКЗАМЕН КОМПЬЮТЕРНОЙ ГРАМОТНОСТИ Чиновники Львовского городского совета\\nсдадут экзамены на владение компьютером в рамках очередной аттестации.\\nОб этом сообщил и.о. городского председателя Львова...</td>\n",
       "      <td>politics</td>\n",
       "      <td>экзамен компьютерной грамотности чиновники львовского городского совета сдадут экзамены на владение компьютером рамках очередной аттестации об этом сообщил городского председателя львова зеновий с...</td>\n",
       "    </tr>\n",
       "    <tr>\n",
       "      <th>1787</th>\n",
       "      <td>В ноябре рост производства стали в Китае ускорился до 5 процентов к АППГ, что стало самым высоким приростом за последние 2,5 года\\n\\n13 декабря, Пекин. Металлургические предприятия Китайской народ...</td>\n",
       "      <td>economics</td>\n",
       "      <td>ноябре рост производства стали китае ускорился до процентов аппг что стало самым высоким приростом за последние года декабря пекин металлургические предприятия китайской народной республики кнр ув...</td>\n",
       "    </tr>\n",
       "    <tr>\n",
       "      <th>2097</th>\n",
       "      <td>Футболисты киевского клуба «Динамо» и донецкого клуба «Шахтер» устроили драку на поле во время матча чемпионата Украины, об этом сообщает «Спорт-экспресс».\\n\\nКонфликт произошел в середине второго...</td>\n",
       "      <td>sport</td>\n",
       "      <td>футболисты киевского клуба динамо донецкого клуба шахтер устроили драку на поле во время матча чемпионата украины об этом сообщает спорт-экспресс конфликт произошел середине второго тайма после то...</td>\n",
       "    </tr>\n",
       "    <tr>\n",
       "      <th>2500</th>\n",
       "      <td>\\r\\nФото: Фонтанка.ру\\r\\n\\r\\nНа «Ленфильме» представят лучшие исторические книги\\r\\n\\r\\nРейтинг:*****\\r\\n\\r\\nВыставка исторической литературы появилась в Петербурге в 2015 году и тогда казалась эк...</td>\n",
       "      <td>culture</td>\n",
       "      <td>фото фонтанка ру на ленфильме представят лучшие исторические книги рейтинг выставка исторической литературы появилась петербурге году тогда казалась экспериментом организаторов три десятка издател...</td>\n",
       "    </tr>\n",
       "    <tr>\n",
       "      <th>467</th>\n",
       "      <td>Партия Меркель в преддверии выборов ужесточает миграционную политику\\n\\n5 декабря 2016 в 23:55\\n\\nКсения Польская, Deutsche Welle\\n\\nПеред партийным съездом, который пройдет 6−7 декабря, ХДС соста...</td>\n",
       "      <td>politics</td>\n",
       "      <td>партия меркель преддверии выборов ужесточает миграционную политику декабря ксения польская deutsche welle перед партийным съездом который пройдет декабря хдс составил список более жестких требован...</td>\n",
       "    </tr>\n",
       "    <tr>\n",
       "      <th>1406</th>\n",
       "      <td>Михаил Горбачев в интервью, приуроченном к 25-й годовщине распада СССР, ответил на вопрос, возможно ли его восстановление: «Советского Союза — нет, а Союза — да». «В прежних границах и с тем же со...</td>\n",
       "      <td>politics</td>\n",
       "      <td>михаил горбачев интервью приуроченном годовщине распада ссср ответил на вопрос возможно ли его восстановление советского союза нет союза да прежних границах тем же составом добровольно считаю что ...</td>\n",
       "    </tr>\n",
       "    <tr>\n",
       "      <th>2406</th>\n",
       "      <td>Лучшая драма\\n\\n«По соображениям совести»\\n\\n«Любой ценой»\\n\\n«Лев»\\n\\n«Манчестер у моря»\\n\\n«Лунный свет»\\n\\nВ главной номинации в нынешнем году намечена главная интрига. Во-первых, одним из фаво...</td>\n",
       "      <td>culture</td>\n",
       "      <td>лучшая драма по соображениям совести любой ценой лев манчестер моря лунный свет главной номинации нынешнем году намечена главная интрига во-первых одним из фаворитов глобусов как грядущего оскара ...</td>\n",
       "    </tr>\n",
       "    <tr>\n",
       "      <th>1984</th>\n",
       "      <td>Избранный президент США Дональд Трамп официально объявил о том, что он назначает президента Goldman Sachs Гари Кона главой национального экономического совета.\\n\\nПресс-релиз опубликован на сайте ...</td>\n",
       "      <td>politics</td>\n",
       "      <td>избранный президент сша дональд трамп официально объявил том что он назначает президента goldman sachs гари кона главой национального экономического совета пресс-релиз опубликован на сайте переход...</td>\n",
       "    </tr>\n",
       "    <tr>\n",
       "      <th>1119</th>\n",
       "      <td>Повторил \"подвиг\" серба, или Как греческий футболист не попал в сетку с линии ворот\\n\\n6 декабря 2016 в 19:54\\n\\nSPORT.TUT.BY\\n\\nВ чемпионате Греции в поединке между «Македоникос Козани» и «Ватеро...</td>\n",
       "      <td>sport</td>\n",
       "      <td>повторил подвиг серба или как греческий футболист не попал сетку линии ворот декабря sport tut by чемпионате греции поединке между македоникос козани ватерой нападающий танасис такидис не забил пр...</td>\n",
       "    </tr>\n",
       "  </tbody>\n",
       "</table>\n",
       "</div>"
      ],
      "text/plain": [
       "                                                                                                                                                                                                         text  \\\n",
       "749   Анонимки для милиции: на что жалуются жители Минской области\\n\\n7 декабря 2016 в 19:35\\n\\nTUT.BY\\n\\nСотрудники милиции делятся первыми результатами совместного с «Белпочтой» эксперимента: жителям ...   \n",
       "243   ЭКЗАМЕН КОМПЬЮТЕРНОЙ ГРАМОТНОСТИ Чиновники Львовского городского совета\\nсдадут экзамены на владение компьютером в рамках очередной аттестации.\\nОб этом сообщил и.о. городского председателя Львова...   \n",
       "1787  В ноябре рост производства стали в Китае ускорился до 5 процентов к АППГ, что стало самым высоким приростом за последние 2,5 года\\n\\n13 декабря, Пекин. Металлургические предприятия Китайской народ...   \n",
       "2097  Футболисты киевского клуба «Динамо» и донецкого клуба «Шахтер» устроили драку на поле во время матча чемпионата Украины, об этом сообщает «Спорт-экспресс».\\n\\nКонфликт произошел в середине второго...   \n",
       "2500  \\r\\nФото: Фонтанка.ру\\r\\n\\r\\nНа «Ленфильме» представят лучшие исторические книги\\r\\n\\r\\nРейтинг:*****\\r\\n\\r\\nВыставка исторической литературы появилась в Петербурге в 2015 году и тогда казалась эк...   \n",
       "467   Партия Меркель в преддверии выборов ужесточает миграционную политику\\n\\n5 декабря 2016 в 23:55\\n\\nКсения Польская, Deutsche Welle\\n\\nПеред партийным съездом, который пройдет 6−7 декабря, ХДС соста...   \n",
       "1406  Михаил Горбачев в интервью, приуроченном к 25-й годовщине распада СССР, ответил на вопрос, возможно ли его восстановление: «Советского Союза — нет, а Союза — да». «В прежних границах и с тем же со...   \n",
       "2406  Лучшая драма\\n\\n«По соображениям совести»\\n\\n«Любой ценой»\\n\\n«Лев»\\n\\n«Манчестер у моря»\\n\\n«Лунный свет»\\n\\nВ главной номинации в нынешнем году намечена главная интрига. Во-первых, одним из фаво...   \n",
       "1984  Избранный президент США Дональд Трамп официально объявил о том, что он назначает президента Goldman Sachs Гари Кона главой национального экономического совета.\\n\\nПресс-релиз опубликован на сайте ...   \n",
       "1119  Повторил \"подвиг\" серба, или Как греческий футболист не попал в сетку с линии ворот\\n\\n6 декабря 2016 в 19:54\\n\\nSPORT.TUT.BY\\n\\nВ чемпионате Греции в поединке между «Македоникос Козани» и «Ватеро...   \n",
       "\n",
       "            tag  \\\n",
       "749      social   \n",
       "243    politics   \n",
       "1787  economics   \n",
       "2097      sport   \n",
       "2500    culture   \n",
       "467    politics   \n",
       "1406   politics   \n",
       "2406    culture   \n",
       "1984   politics   \n",
       "1119      sport   \n",
       "\n",
       "                                                                                                                                                                                                        ctext  \n",
       "749   анонимки для милиции на что жалуются жители минской области декабря tut by сотрудники милиции делятся первыми результатами совместного белпочтой эксперимента жителям минской области предложили пис...  \n",
       "243   экзамен компьютерной грамотности чиновники львовского городского совета сдадут экзамены на владение компьютером рамках очередной аттестации об этом сообщил городского председателя львова зеновий с...  \n",
       "1787  ноябре рост производства стали китае ускорился до процентов аппг что стало самым высоким приростом за последние года декабря пекин металлургические предприятия китайской народной республики кнр ув...  \n",
       "2097  футболисты киевского клуба динамо донецкого клуба шахтер устроили драку на поле во время матча чемпионата украины об этом сообщает спорт-экспресс конфликт произошел середине второго тайма после то...  \n",
       "2500  фото фонтанка ру на ленфильме представят лучшие исторические книги рейтинг выставка исторической литературы появилась петербурге году тогда казалась экспериментом организаторов три десятка издател...  \n",
       "467   партия меркель преддверии выборов ужесточает миграционную политику декабря ксения польская deutsche welle перед партийным съездом который пройдет декабря хдс составил список более жестких требован...  \n",
       "1406  михаил горбачев интервью приуроченном годовщине распада ссср ответил на вопрос возможно ли его восстановление советского союза нет союза да прежних границах тем же составом добровольно считаю что ...  \n",
       "2406  лучшая драма по соображениям совести любой ценой лев манчестер моря лунный свет главной номинации нынешнем году намечена главная интрига во-первых одним из фаворитов глобусов как грядущего оскара ...  \n",
       "1984  избранный президент сша дональд трамп официально объявил том что он назначает президента goldman sachs гари кона главой национального экономического совета пресс-релиз опубликован на сайте переход...  \n",
       "1119  повторил подвиг серба или как греческий футболист не попал сетку линии ворот декабря sport tut by чемпионате греции поединке между македоникос козани ватерой нападающий танасис такидис не забил пр...  "
      ]
     },
     "execution_count": 10,
     "metadata": {},
     "output_type": "execute_result"
    }
   ],
   "source": [
    "data.sample(10)"
   ]
  },
  {
   "cell_type": "markdown",
   "metadata": {},
   "source": [
    "##  Vectorizer"
   ]
  },
  {
   "cell_type": "code",
   "execution_count": 11,
   "metadata": {},
   "outputs": [],
   "source": [
    "def tokenizer(s): \n",
    "    for w in s.split(' '):\n",
    "        if (len(w)>1): \n",
    "            yield w\n",
    "\n",
    "X = CountVectorizer(tokenizer=tokenizer, token_pattern=None).fit_transform(data['ctext'])"
   ]
  },
  {
   "cell_type": "markdown",
   "metadata": {},
   "source": [
    "## кластеризируем"
   ]
  },
  {
   "cell_type": "code",
   "execution_count": 12,
   "metadata": {},
   "outputs": [
    {
     "data": {
      "text/plain": [
       "12"
      ]
     },
     "execution_count": 12,
     "metadata": {},
     "output_type": "execute_result"
    }
   ],
   "source": [
    "data['cluster'] = KMeans(n_clusters=12).fit(X).labels_\n",
    "data['cluster'].drop_duplicates().count()"
   ]
  },
  {
   "cell_type": "markdown",
   "metadata": {},
   "source": [
    "## тестируем"
   ]
  },
  {
   "cell_type": "code",
   "execution_count": 13,
   "metadata": {},
   "outputs": [
    {
     "data": {
      "text/html": [
       "<div>\n",
       "<style scoped>\n",
       "    .dataframe tbody tr th:only-of-type {\n",
       "        vertical-align: middle;\n",
       "    }\n",
       "\n",
       "    .dataframe tbody tr th {\n",
       "        vertical-align: top;\n",
       "    }\n",
       "\n",
       "    .dataframe thead th {\n",
       "        text-align: right;\n",
       "    }\n",
       "</style>\n",
       "<table border=\"1\" class=\"dataframe\">\n",
       "  <thead>\n",
       "    <tr style=\"text-align: right;\">\n",
       "      <th></th>\n",
       "      <th>cluster</th>\n",
       "      <th>count</th>\n",
       "      <th>tags</th>\n",
       "    </tr>\n",
       "  </thead>\n",
       "  <tbody>\n",
       "    <tr>\n",
       "      <th>0</th>\n",
       "      <td>0</td>\n",
       "      <td>3</td>\n",
       "      <td>reclama economics</td>\n",
       "    </tr>\n",
       "    <tr>\n",
       "      <th>1</th>\n",
       "      <td>1</td>\n",
       "      <td>167</td>\n",
       "      <td>politics realty reclama tech auto woman science culture social sport incident economics</td>\n",
       "    </tr>\n",
       "    <tr>\n",
       "      <th>2</th>\n",
       "      <td>2</td>\n",
       "      <td>5</td>\n",
       "      <td>realty economics auto</td>\n",
       "    </tr>\n",
       "    <tr>\n",
       "      <th>3</th>\n",
       "      <td>3</td>\n",
       "      <td>781</td>\n",
       "      <td>politics realty reclama tech auto woman science culture social sport incident economics</td>\n",
       "    </tr>\n",
       "    <tr>\n",
       "      <th>4</th>\n",
       "      <td>4</td>\n",
       "      <td>50</td>\n",
       "      <td>politics realty reclama tech auto woman science culture social sport incident economics</td>\n",
       "    </tr>\n",
       "    <tr>\n",
       "      <th>5</th>\n",
       "      <td>5</td>\n",
       "      <td>2059</td>\n",
       "      <td>politics realty reclama tech health auto woman science culture social sport incident economics</td>\n",
       "    </tr>\n",
       "    <tr>\n",
       "      <th>6</th>\n",
       "      <td>6</td>\n",
       "      <td>19</td>\n",
       "      <td>auto woman culture social sport economics</td>\n",
       "    </tr>\n",
       "    <tr>\n",
       "      <th>7</th>\n",
       "      <td>7</td>\n",
       "      <td>97</td>\n",
       "      <td>politics realty reclama tech auto woman culture social sport incident economics</td>\n",
       "    </tr>\n",
       "    <tr>\n",
       "      <th>8</th>\n",
       "      <td>8</td>\n",
       "      <td>4</td>\n",
       "      <td>woman economics</td>\n",
       "    </tr>\n",
       "    <tr>\n",
       "      <th>9</th>\n",
       "      <td>9</td>\n",
       "      <td>6</td>\n",
       "      <td>woman sport auto</td>\n",
       "    </tr>\n",
       "    <tr>\n",
       "      <th>10</th>\n",
       "      <td>10</td>\n",
       "      <td>1</td>\n",
       "      <td>social</td>\n",
       "    </tr>\n",
       "    <tr>\n",
       "      <th>11</th>\n",
       "      <td>11</td>\n",
       "      <td>4</td>\n",
       "      <td>sport</td>\n",
       "    </tr>\n",
       "  </tbody>\n",
       "</table>\n",
       "</div>"
      ],
      "text/plain": [
       "    cluster  count  \\\n",
       "0         0      3   \n",
       "1         1    167   \n",
       "2         2      5   \n",
       "3         3    781   \n",
       "4         4     50   \n",
       "5         5   2059   \n",
       "6         6     19   \n",
       "7         7     97   \n",
       "8         8      4   \n",
       "9         9      6   \n",
       "10       10      1   \n",
       "11       11      4   \n",
       "\n",
       "                                                                                              tags  \n",
       "0                                                                                reclama economics  \n",
       "1          politics realty reclama tech auto woman science culture social sport incident economics  \n",
       "2                                                                            realty economics auto  \n",
       "3          politics realty reclama tech auto woman science culture social sport incident economics  \n",
       "4          politics realty reclama tech auto woman science culture social sport incident economics  \n",
       "5   politics realty reclama tech health auto woman science culture social sport incident economics  \n",
       "6                                                        auto woman culture social sport economics  \n",
       "7                  politics realty reclama tech auto woman culture social sport incident economics  \n",
       "8                                                                                  woman economics  \n",
       "9                                                                                 woman sport auto  \n",
       "10                                                                                          social  \n",
       "11                                                                                           sport  "
      ]
     },
     "execution_count": 13,
     "metadata": {},
     "output_type": "execute_result"
    }
   ],
   "source": [
    "# номер кластера, количество объектов, метки объектов\n",
    "# (cluster=-1 - некластеризованные DBSCAN объекты)\n",
    "cluster_descr = pd.concat([\n",
    "        data[['cluster','tag']].groupby(['cluster'])['tag'].count(),\n",
    "        data[['cluster','tag']].groupby(['cluster'])['tag'].apply(lambda s: set(s)).apply(' '.join)\n",
    "    ],axis=1).reset_index()\n",
    "\n",
    "cluster_descr.columns = ['cluster','count','tags']\n",
    "\n",
    "cluster_descr"
   ]
  },
  {
   "cell_type": "code",
   "execution_count": 14,
   "metadata": {},
   "outputs": [
    {
     "data": {
      "text/plain": [
       "<AxesSubplot:xlabel='cluster'>"
      ]
     },
     "execution_count": 14,
     "metadata": {},
     "output_type": "execute_result"
    },
    {
     "data": {
      "image/png": "[encoded data removed]",
      "text/plain": [
       "<Figure size 1152x360 with 1 Axes>"
      ]
     },
     "metadata": {
      "needs_background": "light"
     },
     "output_type": "display_data"
    }
   ],
   "source": [
    "# размеры кластеров\n",
    "cluster_descr[['cluster','count']]\\\n",
    "    .query('cluster>-1')\\\n",
    "    .set_index('cluster')\\\n",
    "    .plot.bar(grid=True,figsize=(16,5))"
   ]
  },
  {
   "cell_type": "code",
   "execution_count": 15,
   "metadata": {},
   "outputs": [],
   "source": [
    "def print_cluster_samples(n,ns=3,nt=300):\n",
    "    count,tags = cluster_descr.query(f'cluster=={n}')[['count','tags']].values[0]#.tolist\n",
    "    df = data.query(f'cluster=={n}')\n",
    "    ns_ = min(ns,len(df))\n",
    "    top = [ t[:nt].replace('\\n',' ') for t in df['text'].sample(ns_).values ]\n",
    "    print('[ КЛАСТЕР %i, элементов: %i, метки: \"%s\" ]'%(n,count,tags))\n",
    "    for s in top: print('\\n%s ...\\n'%(s) )"
   ]
  },
  {
   "cell_type": "code",
   "execution_count": 16,
   "metadata": {},
   "outputs": [
    {
     "name": "stdout",
     "output_type": "stream",
     "text": [
      "[ КЛАСТЕР 7, элементов: 97, метки: \"politics realty reclama tech auto woman culture social sport incident economics\" ]\n",
      "\n",
      "Тренды маркетинга 2017  6 декабря 2016 в 9:00  *На правах рекламы  Будущее наступает быстрее, чем завтра.  Если перечитать эту фразу больше 3 раз, начинают шевелиться волосы на голове. Оно реально наступает стремительнее, чем мы успеваем заметить! Как успевать ловить все изменения, тенденции, иннова ...\n",
      "\n",
      "\n",
      "Латвийские банки закрывают счета нерезидентов  9 декабря 2016 в 8:32  Русская служба Би-би-си  С начала года объем вкладов в латвийских банках нерезидентов, среди которых, как считается, значительную долю составляют российские физические и юридические лица, сократился на 20%, говорят в Ассоциации ко ...\n",
      "\n",
      "\n",
      "Как правильно питаться зимой: 6 работающих советов  7 декабря 2016 в 9:50  kitchenmag.ru  Зима — время проверки на прочность: холод и темные дни так и тянут нас сойти с пути правильного питания в сторону полок со сладостями, булочками и вареньем.  Мы часто мерзнем, а потому организм требует больше ж ...\n",
      "\n",
      "\n",
      "= = = = = = = = = = = = = = = = = = = = = = = = = =\n",
      "\n",
      "[ КЛАСТЕР 9, элементов: 6, метки: \"woman sport auto\" ]\n",
      "\n",
      "\"Боялся подвести Лукашенко и Булыгина\". Интервью тренера, неожиданно покинувшего Беларусь  опубликовано: 5 декабря 2016 в 9:44  обновлено: 5 декабря 2016 в 16:27  Виктория Ковальчук, Tribuna.com  Валерий Польховский был назначен главным тренером белорусской сборной по биатлону в мае 2016 года. А в к ...\n",
      "\n",
      "\n",
      "\"Дорога на Драгобрат\": как мы два раза пытались сломать Hyundai Creta  9 декабря 2016 в 7:53  Дмитрий Новицкий, AUTO.TUT.BY  Как сломать «паркетник», небольшой кроссовер? Отправить его по маршруту рамных и мостовых внедорожников: в нашей третьей части экспедиции «Дорога на Драгобрат» мы расскажем, к ...\n",
      "\n",
      "\n",
      "Боксер Юсси Койвула: \"Я не стыжусь своей истории и самого себя\"  6 декабря 2016 в 9:50  Алина Шарко / Фото: Нина Шпаковская  Юсси Койвула — профессиональный боксер. В 12 лет он потерял обоих родителей из-за злоупотребления ими алкоголем и наркотиками, по этой же причине умерли его брат и сестра. В б ...\n",
      "\n",
      "\n",
      "= = = = = = = = = = = = = = = = = = = = = = = = = =\n",
      "\n",
      "[ КЛАСТЕР 2, элементов: 5, метки: \"realty economics auto\" ]\n",
      "\n",
      "\"В сильные морозы беру у жены фен\". Как в холод заводят \"дизель\" владельцы и что советуют на СТО  30 ноября 2016 в 9:09  Иван Петренко, фото Глеба Малофеева, AUTO.TUT.BY  С наступлением устойчивых холодов, потом и морозов некоторые владельцы дизельных автомобилей сталкиваются с проблемами запуска св ...\n",
      "\n",
      "\n",
      "\"Ветер сорвал крышу, а страховку не выплатили\". Что нужно знать о страховании строений  8 декабря 2016 в 11:01  Дмитрий Бобков / FINANCE.TUT.BY  От каких стихийных бедствий можно защитить дома, что нужно знать о страховании животных и оформлении КАСКО. В новом проекте «На всякий случай» вместе с ком ...\n",
      "\n",
      "\n",
      "Дом, построенный за 35 тысяч долларов и расписанный вручную. Проект \"Дом моей семьи\"  9 декабря 2016 в 9:00  Олеся Смирнова / ВАШ ДОМ.TUT.BY  На REALTY.TUT.BY стартовал конкурс «Дом моей семьи». Рассказы и фото ждем до 20 декабря. В течение ноября и декабря мы будем публиковать рассказы читателей о  ...\n",
      "\n",
      "\n",
      "= = = = = = = = = = = = = = = = = = = = = = = = = =\n",
      "\n"
     ]
    }
   ],
   "source": [
    "for n in rng.permutation(cluster_descr['cluster'].max())[:3] :\n",
    "    print_cluster_samples(n)\n",
    "    print('\\n= = = = = = = = = = = = = = = = = = = = = = = = = =\\n')"
   ]
  },
  {
   "cell_type": "code",
   "execution_count": null,
   "metadata": {},
   "outputs": [],
   "source": []
  }
 ],
 "metadata": {
  "kernelspec": {
   "display_name": "Python 3 (ipykernel)",
   "language": "python",
   "name": "python3"
  },
  "language_info": {
   "codemirror_mode": {
    "name": "ipython",
    "version": 3
   },
   "file_extension": ".py",
   "mimetype": "text/x-python",
   "name": "python",
   "nbconvert_exporter": "python",
   "pygments_lexer": "ipython3",
   "version": "3.8.9"
  },
  "toc": {
   "base_numbering": 1,
   "nav_menu": {},
   "number_sections": true,
   "sideBar": true,
   "skip_h1_title": false,
   "title_cell": "Table of Contents",
   "title_sidebar": "Contents",
   "toc_cell": false,
   "toc_position": {},
   "toc_section_display": true,
   "toc_window_display": false
  }
 },
 "nbformat": 4,
 "nbformat_minor": 2
}
