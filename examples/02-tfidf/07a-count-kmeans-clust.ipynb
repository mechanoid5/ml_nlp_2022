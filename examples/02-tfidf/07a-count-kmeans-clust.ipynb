{
 "cells": [
  {
   "cell_type": "markdown",
   "metadata": {},
   "source": [
    "**извлечение признаков из текста на естественном языке**\n",
    "\n",
    "кластеризатор текстов   \n",
    " SnowballStemmer + CountVectorizer + KMeans\n",
    "\n",
    "_Евгений Борисов <esborisov@sevsu.ru>_"
   ]
  },
  {
   "cell_type": "markdown",
   "metadata": {},
   "source": [
    "## библиотеки"
   ]
  },
  {
   "cell_type": "code",
   "execution_count": 1,
   "metadata": {},
   "outputs": [],
   "source": [
    "import re\n",
    "# import gzip\n",
    "import numpy as np\n",
    "import numpy.random as rng\n",
    "import pandas as pd\n",
    "from tqdm.notebook import tqdm\n",
    "\n",
    "np.set_printoptions(precision=2) # вывод на печать чисел до 2 знака\n",
    "pd.options.display.max_colwidth = 200 \n",
    "\n",
    "tqdm.pandas()"
   ]
  },
  {
   "cell_type": "code",
   "execution_count": 2,
   "metadata": {},
   "outputs": [
    {
     "data": {
      "text/plain": [
       "'1.0.2'"
      ]
     },
     "execution_count": 2,
     "metadata": {},
     "output_type": "execute_result"
    }
   ],
   "source": [
    "from sklearn import __version__ as SKLEARN_VERSION\n",
    "\n",
    "from sklearn.feature_extraction.text import CountVectorizer\n",
    "from sklearn.cluster import KMeans\n",
    "from matplotlib import pyplot as plt\n",
    "\n",
    "SKLEARN_VERSION"
   ]
  },
  {
   "cell_type": "code",
   "execution_count": 3,
   "metadata": {},
   "outputs": [],
   "source": [
    "from nltk.stem.snowball import SnowballStemmer\n",
    "from nltk.corpus import stopwords as nltk_stopwords\n",
    "# from nltk import download as nltk_download\n",
    "# nltk_download('stopwords')"
   ]
  },
  {
   "cell_type": "markdown",
   "metadata": {},
   "source": [
    "## тексты"
   ]
  },
  {
   "cell_type": "code",
   "execution_count": 4,
   "metadata": {},
   "outputs": [
    {
     "name": "stdout",
     "output_type": "stream",
     "text": [
      "записей: 3196\n"
     ]
    }
   ],
   "source": [
    "# загружаем тексты\n",
    "data = pd.read_pickle('../data/news.pkl.gz')\n",
    "print('записей:',len(data))"
   ]
  },
  {
   "cell_type": "code",
   "execution_count": 5,
   "metadata": {},
   "outputs": [
    {
     "data": {
      "text/html": [
       "<div>\n",
       "<style scoped>\n",
       "    .dataframe tbody tr th:only-of-type {\n",
       "        vertical-align: middle;\n",
       "    }\n",
       "\n",
       "    .dataframe tbody tr th {\n",
       "        vertical-align: top;\n",
       "    }\n",
       "\n",
       "    .dataframe thead th {\n",
       "        text-align: right;\n",
       "    }\n",
       "</style>\n",
       "<table border=\"1\" class=\"dataframe\">\n",
       "  <thead>\n",
       "    <tr style=\"text-align: right;\">\n",
       "      <th></th>\n",
       "      <th>text</th>\n",
       "      <th>tag</th>\n",
       "    </tr>\n",
       "  </thead>\n",
       "  <tbody>\n",
       "    <tr>\n",
       "      <th>831</th>\n",
       "      <td>Человек-баян и техно под гитару. Как прошел отбор на \"Евровидение — 2017\"\\n\\n30 ноября 2016 в 23:11\\n\\nЕвгений Карпов / Фото: Дарья Бурякина / TUT.BY\\n\\nНа протяжении 14 лет белорусские артисты ма...</td>\n",
       "      <td>culture</td>\n",
       "    </tr>\n",
       "    <tr>\n",
       "      <th>2752</th>\n",
       "      <td>\\r\\nВокзалы Москвы оборудовали стендами с QR-кодами для обратной связи. Любой желающий может воспользоваться брендированными табличками и оставить свой отзыв о работе вокзала.\\r\\n\\r\\nТаблички с QR...</td>\n",
       "      <td>tech</td>\n",
       "    </tr>\n",
       "  </tbody>\n",
       "</table>\n",
       "</div>"
      ],
      "text/plain": [
       "                                                                                                                                                                                                         text  \\\n",
       "831   Человек-баян и техно под гитару. Как прошел отбор на \"Евровидение — 2017\"\\n\\n30 ноября 2016 в 23:11\\n\\nЕвгений Карпов / Фото: Дарья Бурякина / TUT.BY\\n\\nНа протяжении 14 лет белорусские артисты ма...   \n",
       "2752  \\r\\nВокзалы Москвы оборудовали стендами с QR-кодами для обратной связи. Любой желающий может воспользоваться брендированными табличками и оставить свой отзыв о работе вокзала.\\r\\n\\r\\nТаблички с QR...   \n",
       "\n",
       "          tag  \n",
       "831   culture  \n",
       "2752     tech  "
      ]
     },
     "execution_count": 5,
     "metadata": {},
     "output_type": "execute_result"
    }
   ],
   "source": [
    "data.sample(2)"
   ]
  },
  {
   "cell_type": "markdown",
   "metadata": {},
   "source": [
    "## токенизация и очистка"
   ]
  },
  {
   "cell_type": "code",
   "execution_count": 6,
   "metadata": {},
   "outputs": [],
   "source": [
    "# применяет список замен pat к строке s\n",
    "def replace_patterns(s,pat):\n",
    "    if len(pat)<1: return s\n",
    "    return  replace_patterns( re.sub(pat[0][0],pat[0][1],s), pat[1:] )\n",
    "\n",
    "# нормализация текста\n",
    "def string_normalizer(s):\n",
    "    pat = [\n",
    "       [r'ё','е'] # замена ё для унификации\n",
    "       ,[r'</?[a-z]+>',' '] # удаляем xml\n",
    "       ,[r'[^a-zа-я\\- ]+',' '] # оставляем только буквы, пробел и -\n",
    "       ,[r' -\\w+',' '] # удаляем '-й','-тый' и т.п.\n",
    "       ,[r'\\w+- ',' ']\n",
    "       ,[r' +',' '] # удаляем повторы пробелов\n",
    "    ]\n",
    "    return replace_patterns(s.lower(),pat).strip()\n",
    "\n",
    "\n",
    "stopwords = set(nltk_stopwords.words('russian'))\n",
    "stemmer = SnowballStemmer('russian')\n",
    "\n",
    "# разрезаем стоки на слова, выкидываем stopwords, выполняем стеминг\n",
    "def tokenize_stemmer(s): \n",
    "    p = [ stemmer.stem(w).replace('^','') for w in s.split(' ') if ( w not in stopwords ) ]\n",
    "    return [ w for w in p if (len(w)>1) ]\n"
   ]
  },
  {
   "cell_type": "code",
   "execution_count": 7,
   "metadata": {},
   "outputs": [],
   "source": [
    "# # лемматизация и очистка с помощью пакета морфологического анализа\n",
    "\n",
    "# morph = MorphAnalyzer()\n",
    "\n",
    "# # применяет список замен pat к строке s\n",
    "# def replace_patterns(s,pat):\n",
    "#     if len(pat)<1: return s\n",
    "#     return  replace_patterns( re.sub(pat[0][0],pat[0][1],s), pat[1:] )\n",
    "\n",
    "# # нормализация текста\n",
    "# def string_normalizer(s):\n",
    "#     pat = [\n",
    "#        [r'ё','е'] # замена ё для унификации\n",
    "#        ,[r'</?[a-z]+>',' '] # удаляем xml\n",
    "#        ,[r'[^a-zа-я\\- ]+',' '] # оставляем только буквы, пробел и -\n",
    "#        ,[r' -\\w+',' '] # удаляем '-й','-тый' и т.п.\n",
    "#        ,[r'\\w+- ',' ']\n",
    "#        ,[r' +',' '] # удаляем повторы пробелов\n",
    "#     ]\n",
    "#     return replace_patterns(s.lower(),pat).strip()\n",
    "\n",
    "# # NOUN (существительное), VERB (глагол), ADJF (прилагательное)\n",
    "# def word_normalizer(w, pos_types=('NOUN','VERB','ADJF')):\n",
    "#     if not morph.word_is_known(w): return ''\n",
    "#     p = morph.parse(w)[0] \n",
    "#     return p.normal_form if (p.tag.POS in pos_types) else ''\n",
    "\n",
    "\n",
    "# def tokenize_normalize(s):\n",
    "#     return [ word_normalizer(w) for w in s.split(' ') if len(w)>1 ]"
   ]
  },
  {
   "cell_type": "code",
   "execution_count": 8,
   "metadata": {},
   "outputs": [
    {
     "data": {
      "application/vnd.jupyter.widget-view+json": {
       "model_id": "6fcbb813e0214151973698e9a81c6105",
       "version_major": 2,
       "version_minor": 0
      },
      "text/plain": [
       "  0%|          | 0/3196 [00:00<?, ?it/s]"
      ]
     },
     "metadata": {},
     "output_type": "display_data"
    },
    {
     "data": {
      "application/vnd.jupyter.widget-view+json": {
       "model_id": "a6bef49fc6e84848a858a879065847b4",
       "version_major": 2,
       "version_minor": 0
      },
      "text/plain": [
       "  0%|          | 0/3196 [00:00<?, ?it/s]"
      ]
     },
     "metadata": {},
     "output_type": "display_data"
    }
   ],
   "source": [
    "data['ctext'] = (\n",
    "    data['text']\n",
    "    .progress_apply(string_normalizer)\n",
    "    .progress_apply(tokenize_stemmer)\n",
    "    )"
   ]
  },
  {
   "cell_type": "code",
   "execution_count": 9,
   "metadata": {},
   "outputs": [],
   "source": [
    "# собираем словарь из текстов\n",
    "def get_vocabulary(ds):\n",
    "    vcb = [ set(s) for s in ds.tolist() ]\n",
    "    return sorted(set.union(*vcb))"
   ]
  },
  {
   "cell_type": "code",
   "execution_count": 10,
   "metadata": {},
   "outputs": [
    {
     "name": "stdout",
     "output_type": "stream",
     "text": [
      "словарь 36369 слов\n"
     ]
    }
   ],
   "source": [
    "vcb0 =  get_vocabulary( data['ctext'] )\n",
    "print('словарь %i слов'%(len(vcb0)))\n",
    "# pd.DataFrame( vcb ).to_csv('voc0.txt',index=False,header=False)"
   ]
  },
  {
   "cell_type": "code",
   "execution_count": 11,
   "metadata": {},
   "outputs": [],
   "source": [
    "data['ctext'] = data['ctext'].apply(' '.join)"
   ]
  },
  {
   "cell_type": "code",
   "execution_count": 12,
   "metadata": {},
   "outputs": [
    {
     "data": {
      "text/html": [
       "<div>\n",
       "<style scoped>\n",
       "    .dataframe tbody tr th:only-of-type {\n",
       "        vertical-align: middle;\n",
       "    }\n",
       "\n",
       "    .dataframe tbody tr th {\n",
       "        vertical-align: top;\n",
       "    }\n",
       "\n",
       "    .dataframe thead th {\n",
       "        text-align: right;\n",
       "    }\n",
       "</style>\n",
       "<table border=\"1\" class=\"dataframe\">\n",
       "  <thead>\n",
       "    <tr style=\"text-align: right;\">\n",
       "      <th></th>\n",
       "      <th>text</th>\n",
       "      <th>tag</th>\n",
       "      <th>ctext</th>\n",
       "    </tr>\n",
       "  </thead>\n",
       "  <tbody>\n",
       "    <tr>\n",
       "      <th>2401</th>\n",
       "      <td>Вручение премий \"Золотой глобус\" состоится 8 января 2017 года.\\n\\nНоминантов на премию \"Золотой глобус\" объявила Ассоциация международной кинопрессы в понедельник, 12 декабря.\\n\\nПо информации Асс...</td>\n",
       "      <td>culture</td>\n",
       "      <td>вручен прем золот глобус состо январ год номинант прем золот глобус объяв ассоциац международн кинопресс понедельник декабр информац ассоциац побед сем номинац прем претенд кинокартин ла-ла-ленд с...</td>\n",
       "    </tr>\n",
       "    <tr>\n",
       "      <th>2050</th>\n",
       "      <td>МОСКВА, 13 декабря. /ТАСС/. \"Лос-Анджелес Лейкерс\" потерпел поражение от \"Сакраменто\" со счетом 92:116 в гостевом матче регулярного чемпионата Национальной баскетбольной ассоциации (НБА).\\n\\nСамым...</td>\n",
       "      <td>sport</td>\n",
       "      <td>москв декабр тасс лос-анджелес лейкерс потерпел поражен сакрамент счет гостев матч регулярн чемпионат национальн баскетбольн ассоциац нба сам результативн игрок встреч стал форвард хозя демаркус к...</td>\n",
       "    </tr>\n",
       "    <tr>\n",
       "      <th>3084</th>\n",
       "      <td>Комиинформ (komiinform.ru) (Сыктывкар) Минрегионразвития РФ поддержит\\n?Луд? и ?Усть-Цилемскую горку?  Министр национальной политики Коми Валерий\\nКоробов и первый заместитель постоянного представ...</td>\n",
       "      <td>politics</td>\n",
       "      <td>комиинформ komiinform ru сыктывкар минрегионразвит рф поддерж луд усть-цилемск горк министр национальн политик ком валер короб перв заместител постоя представител ком президент рф игор михел встре...</td>\n",
       "    </tr>\n",
       "    <tr>\n",
       "      <th>2312</th>\n",
       "      <td>Сотрудница полиции, которая на своем автомобиле сбила насмерть двух пешеходов в Серпухове, уволена со службы в органах внутренних дел по отрицательным мотивам. Об этом сообщила официальный предста...</td>\n",
       "      <td>incident</td>\n",
       "      <td>сотрудниц полиц котор сво автомобил сбил насмерт двух пешеход серпухов увол служб орган внутрен дел отрицательн мотив сообщ официальн представител мвд рф ирин волк решен руководств подмосковн глав...</td>\n",
       "    </tr>\n",
       "    <tr>\n",
       "      <th>1486</th>\n",
       "      <td>На парламентских выборах в Македонии победу одержала правящая партия экс-премьера Николы Груевского.\\n\\nНи одна из партий не сможет сформировать правительство\\n\\nКак сообщают СМИ, избиратели Макед...</td>\n",
       "      <td>politics</td>\n",
       "      <td>парламентск выбор македон побед одержа правя парт экс-премьер никол груевск одн парт сможет сформирова правительств сообща сми избирател македон отда парт груевск вмро-дпмн процент голос главн соп...</td>\n",
       "    </tr>\n",
       "    <tr>\n",
       "      <th>2972</th>\n",
       "      <td>Дата: 11.12.2016 16:45:13\\n\\nАвторынок в ноябре «пошел на взлет» после 2 лет депрессии\\n\\nКомментируя данные по продажам автомобилей в России в ноябре этого года, председатель Комитета автопроизво...</td>\n",
       "      <td>auto</td>\n",
       "      <td>дат авторынок ноябр пошел взлет лет депресс комментиру дан продаж автомобил росс ноябр год председател комитет автопроизводител аеб йорг шрайбер отмет вперв год отрицательн тренд объединен сегмент...</td>\n",
       "    </tr>\n",
       "    <tr>\n",
       "      <th>216</th>\n",
       "      <td>На следующей неделе в Волгограде откроется музей Сталина. Он будет\\nнаходиться на Мамаевом кургане. Это будет частный музей. В нем будут\\nпроходить выставки, посвященные роли Сталина в Великой Оте...</td>\n",
       "      <td>culture</td>\n",
       "      <td>след недел волгоград откроет муз сталин наход мамаев курган эт частн муз нем будут проход выставк посвящен рол сталин велик отечествен войн муз откр зал вип-персон</td>\n",
       "    </tr>\n",
       "    <tr>\n",
       "      <th>465</th>\n",
       "      <td>Выборщик-республиканец из Техаса отказался голосовать за Трампа\\n\\n6 декабря 2016 в 7:06\\n\\nРусская служба Би-би-си\\n\\nЧлен коллегии выборщиков от штата Техас Крис Супрун, представляющий Республик...</td>\n",
       "      <td>politics</td>\n",
       "      <td>выборщик-республиканец техас отказа голосова трамп декабр русск служб би-би-с член коллег выборщик штат техас крис супрун представля республиканск парт заяв станет голосова дональд трамп собран эл...</td>\n",
       "    </tr>\n",
       "    <tr>\n",
       "      <th>946</th>\n",
       "      <td>Финиш империи. Как 25 лет назад СССР отправляли в последний путь\\r\\n\\r\\n8 декабря 2016 в 7:51\\r\\n\\r\\nTUT.BY\\r\\n\\r\\n25 лет назад председатель Верховного Совета Беларуси Станислав Шушкевич пригласил...</td>\n",
       "      <td>politics</td>\n",
       "      <td>финиш импер лет назад ссср отправля последн пут декабр tut by лет назад председател верховн совет беларус станисла шушкевич приглас сво коллег украин росс леонид кравчук борис ельцин беловежск пущ...</td>\n",
       "    </tr>\n",
       "    <tr>\n",
       "      <th>605</th>\n",
       "      <td>Как перестать есть слишком много сладкого: 7 практических советов\\n\\n9 декабря 2016 в 8:40\\n\\nkitchenmag.ru\\n\\nСахар сам по себе не представляет никакой опасности для организма. В умеренных количе...</td>\n",
       "      <td>woman</td>\n",
       "      <td>переста слишк сладк практическ совет декабр kitchenmag ru сахар представля никак опасн организм умерен количеств помога взбодр настро рабоч лад друг дел останов воврем уплет любим шоколад задач ле...</td>\n",
       "    </tr>\n",
       "  </tbody>\n",
       "</table>\n",
       "</div>"
      ],
      "text/plain": [
       "                                                                                                                                                                                                         text  \\\n",
       "2401  Вручение премий \"Золотой глобус\" состоится 8 января 2017 года.\\n\\nНоминантов на премию \"Золотой глобус\" объявила Ассоциация международной кинопрессы в понедельник, 12 декабря.\\n\\nПо информации Асс...   \n",
       "2050  МОСКВА, 13 декабря. /ТАСС/. \"Лос-Анджелес Лейкерс\" потерпел поражение от \"Сакраменто\" со счетом 92:116 в гостевом матче регулярного чемпионата Национальной баскетбольной ассоциации (НБА).\\n\\nСамым...   \n",
       "3084  Комиинформ (komiinform.ru) (Сыктывкар) Минрегионразвития РФ поддержит\\n?Луд? и ?Усть-Цилемскую горку?  Министр национальной политики Коми Валерий\\nКоробов и первый заместитель постоянного представ...   \n",
       "2312  Сотрудница полиции, которая на своем автомобиле сбила насмерть двух пешеходов в Серпухове, уволена со службы в органах внутренних дел по отрицательным мотивам. Об этом сообщила официальный предста...   \n",
       "1486  На парламентских выборах в Македонии победу одержала правящая партия экс-премьера Николы Груевского.\\n\\nНи одна из партий не сможет сформировать правительство\\n\\nКак сообщают СМИ, избиратели Макед...   \n",
       "2972  Дата: 11.12.2016 16:45:13\\n\\nАвторынок в ноябре «пошел на взлет» после 2 лет депрессии\\n\\nКомментируя данные по продажам автомобилей в России в ноябре этого года, председатель Комитета автопроизво...   \n",
       "216   На следующей неделе в Волгограде откроется музей Сталина. Он будет\\nнаходиться на Мамаевом кургане. Это будет частный музей. В нем будут\\nпроходить выставки, посвященные роли Сталина в Великой Оте...   \n",
       "465   Выборщик-республиканец из Техаса отказался голосовать за Трампа\\n\\n6 декабря 2016 в 7:06\\n\\nРусская служба Би-би-си\\n\\nЧлен коллегии выборщиков от штата Техас Крис Супрун, представляющий Республик...   \n",
       "946   Финиш империи. Как 25 лет назад СССР отправляли в последний путь\\r\\n\\r\\n8 декабря 2016 в 7:51\\r\\n\\r\\nTUT.BY\\r\\n\\r\\n25 лет назад председатель Верховного Совета Беларуси Станислав Шушкевич пригласил...   \n",
       "605   Как перестать есть слишком много сладкого: 7 практических советов\\n\\n9 декабря 2016 в 8:40\\n\\nkitchenmag.ru\\n\\nСахар сам по себе не представляет никакой опасности для организма. В умеренных количе...   \n",
       "\n",
       "           tag  \\\n",
       "2401   culture   \n",
       "2050     sport   \n",
       "3084  politics   \n",
       "2312  incident   \n",
       "1486  politics   \n",
       "2972      auto   \n",
       "216    culture   \n",
       "465   politics   \n",
       "946   politics   \n",
       "605      woman   \n",
       "\n",
       "                                                                                                                                                                                                        ctext  \n",
       "2401  вручен прем золот глобус состо январ год номинант прем золот глобус объяв ассоциац международн кинопресс понедельник декабр информац ассоциац побед сем номинац прем претенд кинокартин ла-ла-ленд с...  \n",
       "2050  москв декабр тасс лос-анджелес лейкерс потерпел поражен сакрамент счет гостев матч регулярн чемпионат национальн баскетбольн ассоциац нба сам результативн игрок встреч стал форвард хозя демаркус к...  \n",
       "3084  комиинформ komiinform ru сыктывкар минрегионразвит рф поддерж луд усть-цилемск горк министр национальн политик ком валер короб перв заместител постоя представител ком президент рф игор михел встре...  \n",
       "2312  сотрудниц полиц котор сво автомобил сбил насмерт двух пешеход серпухов увол служб орган внутрен дел отрицательн мотив сообщ официальн представител мвд рф ирин волк решен руководств подмосковн глав...  \n",
       "1486  парламентск выбор македон побед одержа правя парт экс-премьер никол груевск одн парт сможет сформирова правительств сообща сми избирател македон отда парт груевск вмро-дпмн процент голос главн соп...  \n",
       "2972  дат авторынок ноябр пошел взлет лет депресс комментиру дан продаж автомобил росс ноябр год председател комитет автопроизводител аеб йорг шрайбер отмет вперв год отрицательн тренд объединен сегмент...  \n",
       "216                                       след недел волгоград откроет муз сталин наход мамаев курган эт частн муз нем будут проход выставк посвящен рол сталин велик отечествен войн муз откр зал вип-персон  \n",
       "465   выборщик-республиканец техас отказа голосова трамп декабр русск служб би-би-с член коллег выборщик штат техас крис супрун представля республиканск парт заяв станет голосова дональд трамп собран эл...  \n",
       "946   финиш импер лет назад ссср отправля последн пут декабр tut by лет назад председател верховн совет беларус станисла шушкевич приглас сво коллег украин росс леонид кравчук борис ельцин беловежск пущ...  \n",
       "605   переста слишк сладк практическ совет декабр kitchenmag ru сахар представля никак опасн организм умерен количеств помога взбодр настро рабоч лад друг дел останов воврем уплет любим шоколад задач ле...  "
      ]
     },
     "execution_count": 12,
     "metadata": {},
     "output_type": "execute_result"
    }
   ],
   "source": [
    "data.sample(10)"
   ]
  },
  {
   "cell_type": "markdown",
   "metadata": {},
   "source": [
    "##  Vectorizer"
   ]
  },
  {
   "cell_type": "code",
   "execution_count": 13,
   "metadata": {},
   "outputs": [],
   "source": [
    "def tokenizer(s): \n",
    "    for w in s.split(' '):\n",
    "        if (len(w)>1): \n",
    "            yield w\n",
    "\n",
    "X = CountVectorizer(tokenizer=tokenizer, token_pattern=None).fit_transform(data['ctext'])"
   ]
  },
  {
   "cell_type": "markdown",
   "metadata": {},
   "source": [
    "## кластеризируем"
   ]
  },
  {
   "cell_type": "code",
   "execution_count": 14,
   "metadata": {},
   "outputs": [
    {
     "data": {
      "text/plain": [
       "12"
      ]
     },
     "execution_count": 14,
     "metadata": {},
     "output_type": "execute_result"
    }
   ],
   "source": [
    "data['cluster'] = KMeans(n_clusters=12).fit(X).labels_\n",
    "data['cluster'].drop_duplicates().count()"
   ]
  },
  {
   "cell_type": "markdown",
   "metadata": {},
   "source": [
    "## тестируем"
   ]
  },
  {
   "cell_type": "code",
   "execution_count": 15,
   "metadata": {},
   "outputs": [
    {
     "data": {
      "text/html": [
       "<div>\n",
       "<style scoped>\n",
       "    .dataframe tbody tr th:only-of-type {\n",
       "        vertical-align: middle;\n",
       "    }\n",
       "\n",
       "    .dataframe tbody tr th {\n",
       "        vertical-align: top;\n",
       "    }\n",
       "\n",
       "    .dataframe thead th {\n",
       "        text-align: right;\n",
       "    }\n",
       "</style>\n",
       "<table border=\"1\" class=\"dataframe\">\n",
       "  <thead>\n",
       "    <tr style=\"text-align: right;\">\n",
       "      <th></th>\n",
       "      <th>cluster</th>\n",
       "      <th>count</th>\n",
       "      <th>tags</th>\n",
       "    </tr>\n",
       "  </thead>\n",
       "  <tbody>\n",
       "    <tr>\n",
       "      <th>0</th>\n",
       "      <td>0</td>\n",
       "      <td>24</td>\n",
       "      <td>culture politics economics auto woman sport realty social</td>\n",
       "    </tr>\n",
       "    <tr>\n",
       "      <th>1</th>\n",
       "      <td>1</td>\n",
       "      <td>1</td>\n",
       "      <td>woman</td>\n",
       "    </tr>\n",
       "    <tr>\n",
       "      <th>2</th>\n",
       "      <td>2</td>\n",
       "      <td>84</td>\n",
       "      <td>culture tech woman sport social</td>\n",
       "    </tr>\n",
       "    <tr>\n",
       "      <th>3</th>\n",
       "      <td>3</td>\n",
       "      <td>1</td>\n",
       "      <td>woman</td>\n",
       "    </tr>\n",
       "    <tr>\n",
       "      <th>4</th>\n",
       "      <td>4</td>\n",
       "      <td>1</td>\n",
       "      <td>woman</td>\n",
       "    </tr>\n",
       "    <tr>\n",
       "      <th>5</th>\n",
       "      <td>5</td>\n",
       "      <td>2</td>\n",
       "      <td>sport</td>\n",
       "    </tr>\n",
       "    <tr>\n",
       "      <th>6</th>\n",
       "      <td>6</td>\n",
       "      <td>1</td>\n",
       "      <td>social</td>\n",
       "    </tr>\n",
       "    <tr>\n",
       "      <th>7</th>\n",
       "      <td>7</td>\n",
       "      <td>2</td>\n",
       "      <td>woman economics</td>\n",
       "    </tr>\n",
       "    <tr>\n",
       "      <th>8</th>\n",
       "      <td>8</td>\n",
       "      <td>2</td>\n",
       "      <td>sport</td>\n",
       "    </tr>\n",
       "    <tr>\n",
       "      <th>9</th>\n",
       "      <td>9</td>\n",
       "      <td>233</td>\n",
       "      <td>reclama incident culture politics science economics auto tech woman sport realty social</td>\n",
       "    </tr>\n",
       "    <tr>\n",
       "      <th>10</th>\n",
       "      <td>10</td>\n",
       "      <td>2844</td>\n",
       "      <td>reclama incident culture politics science economics auto tech health woman sport realty social</td>\n",
       "    </tr>\n",
       "    <tr>\n",
       "      <th>11</th>\n",
       "      <td>11</td>\n",
       "      <td>1</td>\n",
       "      <td>economics</td>\n",
       "    </tr>\n",
       "  </tbody>\n",
       "</table>\n",
       "</div>"
      ],
      "text/plain": [
       "    cluster  count  \\\n",
       "0         0     24   \n",
       "1         1      1   \n",
       "2         2     84   \n",
       "3         3      1   \n",
       "4         4      1   \n",
       "5         5      2   \n",
       "6         6      1   \n",
       "7         7      2   \n",
       "8         8      2   \n",
       "9         9    233   \n",
       "10       10   2844   \n",
       "11       11      1   \n",
       "\n",
       "                                                                                              tags  \n",
       "0                                        culture politics economics auto woman sport realty social  \n",
       "1                                                                                            woman  \n",
       "2                                                                  culture tech woman sport social  \n",
       "3                                                                                            woman  \n",
       "4                                                                                            woman  \n",
       "5                                                                                            sport  \n",
       "6                                                                                           social  \n",
       "7                                                                                  woman economics  \n",
       "8                                                                                            sport  \n",
       "9          reclama incident culture politics science economics auto tech woman sport realty social  \n",
       "10  reclama incident culture politics science economics auto tech health woman sport realty social  \n",
       "11                                                                                       economics  "
      ]
     },
     "execution_count": 15,
     "metadata": {},
     "output_type": "execute_result"
    }
   ],
   "source": [
    "# номер кластера, количество объектов, метки объектов\n",
    "# (cluster=-1 - некластеризованные DBSCAN объекты)\n",
    "cluster_descr = pd.concat([\n",
    "        data[['cluster','tag']].groupby(['cluster'])['tag'].count(),\n",
    "        data[['cluster','tag']].groupby(['cluster'])['tag'].apply(lambda s: set(s)).apply(' '.join)\n",
    "    ],axis=1).reset_index()\n",
    "\n",
    "cluster_descr.columns = ['cluster','count','tags']\n",
    "\n",
    "cluster_descr"
   ]
  },
  {
   "cell_type": "code",
   "execution_count": 16,
   "metadata": {},
   "outputs": [
    {
     "data": {
      "text/plain": [
       "<AxesSubplot:xlabel='cluster'>"
      ]
     },
     "execution_count": 16,
     "metadata": {},
     "output_type": "execute_result"
    },
    {
     "data": {
      "image/png": "[encoded data removed]",
      "text/plain": [
       "<Figure size 1152x360 with 1 Axes>"
      ]
     },
     "metadata": {
      "needs_background": "light"
     },
     "output_type": "display_data"
    }
   ],
   "source": [
    "# размеры кластеров\n",
    "cluster_descr[['cluster','count']]\\\n",
    "    .query('cluster>-1')\\\n",
    "    .set_index('cluster')\\\n",
    "    .plot.bar(grid=True,figsize=(16,5))"
   ]
  },
  {
   "cell_type": "code",
   "execution_count": 17,
   "metadata": {},
   "outputs": [],
   "source": [
    "def print_cluster_samples(n,ns=3,nt=300):\n",
    "    count,tags = cluster_descr.query(f'cluster=={n}')[['count','tags']].values[0]#.tolist\n",
    "    df = data.query(f'cluster=={n}')\n",
    "    ns_ = min(ns,len(df))\n",
    "    top = [ t[:nt].replace('\\n',' ') for t in df['text'].sample(ns_).values ]\n",
    "    print('[ КЛАСТЕР %i, элементов: %i, метки: \"%s\" ]'%(n,count,tags))\n",
    "    for s in top: print('\\n%s ...\\n'%(s) )"
   ]
  },
  {
   "cell_type": "code",
   "execution_count": 18,
   "metadata": {},
   "outputs": [
    {
     "name": "stdout",
     "output_type": "stream",
     "text": [
      "[ КЛАСТЕР 5, элементов: 2, метки: \"sport\" ]\n",
      "\n",
      "90+6' Диего Симеоне и его команда допускают очередной \"ляп\" в чемпионате и тем самым усложняют себе задачу. О чемпионстве \"Атлетико\" говорить теперь не приходится, теперь на повестке дня стоит задача по завоеванию места в еврокубковой зоне, а сделать это с такой игрой будет весьма сложно. Возможно з ...\n",
      "\n",
      "\n",
      "90+6' Отличная игра - много моментов. Очень равная игра была на поле. Хозяева комбинировали и пытались владеть мячом, а гости, в основном, контратаковали.  90+6' Матч только что завершился.  90+5' Матиас Вечино (Фиорентина) разыгрывает мяч.  90+5' Хрвое Милич (Фиорентина) обострял ситуацию сейчас. О ...\n",
      "\n",
      "\n",
      "= = = = = = = = = = = = = = = = = = = = = = = = = =\n",
      "\n",
      "[ КЛАСТЕР 2, элементов: 84, метки: \"culture tech woman sport social\" ]\n",
      "\n",
      "В столичном концертном зале Prime Hall прошла церемония закрытия футбольного сезона — «Звездный мяч — 2016». На ней названы лучший футболист и тренер Беларуси, лучший игрок национального чемпионата, арбитры, а также другие лауреаты в разных номинациях.  Лучшим тренером Беларуси признан наставник «Уф ...\n",
      "\n",
      "\n",
      "\"Действительно важное кино\". В Минске покажут лучший европейский фильм года  7 декабря 2016 в 9:34  AFISHA.TUT.BY  В преддверии вручения европейского \"Оскара\" в «Falcon club Бутик кино» состоятся показы фильма «Тони Эрдманн» — картины, получившей Гран-при Международной федерации кинопрессы ФИПРЕССИ  ...\n",
      "\n",
      "\n",
      "«Вильярреал» смог дома одолеет «Атлетико». Победили жёлтые в родных стенах с разгромным счётом, 3:0. Голы забили: Тригерос, 28, дос Сантос, 38, Роберто Сориано, 90+3.  Евгения Штоль  Последний матч 15-го тура Ла Лиги оказался самым интересным среди других противостояний. На этот раз сразились между  ...\n",
      "\n",
      "\n",
      "= = = = = = = = = = = = = = = = = = = = = = = = = =\n",
      "\n",
      "[ КЛАСТЕР 0, элементов: 24, метки: \"culture politics economics auto woman sport realty social\" ]\n",
      "\n",
      "Боксер Юсси Койвула: \"Я не стыжусь своей истории и самого себя\"  6 декабря 2016 в 9:50  Алина Шарко / Фото: Нина Шпаковская  Юсси Койвула — профессиональный боксер. В 12 лет он потерял обоих родителей из-за злоупотребления ими алкоголем и наркотиками, по этой же причине умерли его брат и сестра. В б ...\n",
      "\n",
      "\n",
      "Истории от Юлии Чернявской. Идеалист и его жена  10 декабря 2016 в 16:43  Юлия Чернявская / TUT.BY  В детстве я часто бывала в этом доме: мы жили по соседству, и их внуки были моими друзьями. Однажды, когда папа мальчиков не смог поехать с ними в Прибалтику, путевку подарили мне, чужой, в сущности,  ...\n",
      "\n",
      "\n",
      "Когда в паспорте Кошмар и Копец: истории белорусок с необычными фамилиями  5 декабря 2016 в 8:40  Елена Колосова / Фото из личных архивов героинь  Фамилию, как и родственников, не выбирают. Кому-то судьба быть пятым Ивановым или Кузнецовым на своем предприятии. Кого-то всю жизнь будут ассоциировать  ...\n",
      "\n",
      "\n",
      "= = = = = = = = = = = = = = = = = = = = = = = = = =\n",
      "\n"
     ]
    }
   ],
   "source": [
    "for n in rng.permutation(cluster_descr['cluster'].max())[:3] :\n",
    "    print_cluster_samples(n)\n",
    "    print('\\n= = = = = = = = = = = = = = = = = = = = = = = = = =\\n')"
   ]
  },
  {
   "cell_type": "code",
   "execution_count": null,
   "metadata": {},
   "outputs": [],
   "source": []
  }
 ],
 "metadata": {
  "kernelspec": {
   "display_name": "Python 3 (ipykernel)",
   "language": "python",
   "name": "python3"
  },
  "language_info": {
   "codemirror_mode": {
    "name": "ipython",
    "version": 3
   },
   "file_extension": ".py",
   "mimetype": "text/x-python",
   "name": "python",
   "nbconvert_exporter": "python",
   "pygments_lexer": "ipython3",
   "version": "3.8.9"
  },
  "toc": {
   "base_numbering": 1,
   "nav_menu": {},
   "number_sections": true,
   "sideBar": true,
   "skip_h1_title": false,
   "title_cell": "Table of Contents",
   "title_sidebar": "Contents",
   "toc_cell": false,
   "toc_position": {},
   "toc_section_display": true,
   "toc_window_display": false
  }
 },
 "nbformat": 4,
 "nbformat_minor": 2
}
