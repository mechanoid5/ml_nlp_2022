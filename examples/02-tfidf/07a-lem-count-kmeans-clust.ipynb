{
 "cells": [
  {
   "cell_type": "markdown",
   "metadata": {},
   "source": [
    "**извлечение признаков из текста на естественном языке**\n",
    "\n",
    "кластеризатор текстов   \n",
    "   лемматизация + CountVectorizer + KMeans\n",
    "\n",
    "Евгений Борисов borisov.e@solarl.ru"
   ]
  },
  {
   "cell_type": "markdown",
   "metadata": {},
   "source": [
    "## библиотеки"
   ]
  },
  {
   "cell_type": "code",
   "execution_count": 1,
   "metadata": {},
   "outputs": [],
   "source": [
    "import re\n",
    "# import gzip\n",
    "import numpy as np\n",
    "import numpy.random as rng\n",
    "import pandas as pd\n",
    "from tqdm import tqdm\n",
    "\n",
    "np.set_printoptions(precision=2) # вывод на печать чисел до 2 знака\n",
    "pd.options.display.max_colwidth = 200 \n",
    "\n",
    "tqdm.pandas()"
   ]
  },
  {
   "cell_type": "code",
   "execution_count": 2,
   "metadata": {},
   "outputs": [
    {
     "data": {
      "text/plain": [
       "'0.24.1'"
      ]
     },
     "execution_count": 2,
     "metadata": {},
     "output_type": "execute_result"
    }
   ],
   "source": [
    "from sklearn import __version__ as SKLEARN_VERSION\n",
    "\n",
    "from sklearn.feature_extraction.text import CountVectorizer\n",
    "from sklearn.cluster import KMeans\n",
    "from matplotlib import pyplot as plt\n",
    "\n",
    "from pymorphy2 import MorphAnalyzer\n",
    "\n",
    "SKLEARN_VERSION"
   ]
  },
  {
   "cell_type": "markdown",
   "metadata": {},
   "source": [
    "## тексты"
   ]
  },
  {
   "cell_type": "code",
   "execution_count": 3,
   "metadata": {},
   "outputs": [
    {
     "name": "stdout",
     "output_type": "stream",
     "text": [
      "записей: 3196\n"
     ]
    }
   ],
   "source": [
    "# загружаем тексты\n",
    "data = pd.read_pickle('../data/news.pkl.gz')\n",
    "print('записей:',len(data))"
   ]
  },
  {
   "cell_type": "code",
   "execution_count": 4,
   "metadata": {},
   "outputs": [
    {
     "data": {
      "text/html": [
       "<div>\n",
       "<style scoped>\n",
       "    .dataframe tbody tr th:only-of-type {\n",
       "        vertical-align: middle;\n",
       "    }\n",
       "\n",
       "    .dataframe tbody tr th {\n",
       "        vertical-align: top;\n",
       "    }\n",
       "\n",
       "    .dataframe thead th {\n",
       "        text-align: right;\n",
       "    }\n",
       "</style>\n",
       "<table border=\"1\" class=\"dataframe\">\n",
       "  <thead>\n",
       "    <tr style=\"text-align: right;\">\n",
       "      <th></th>\n",
       "      <th>text</th>\n",
       "      <th>tag</th>\n",
       "    </tr>\n",
       "  </thead>\n",
       "  <tbody>\n",
       "    <tr>\n",
       "      <th>1251</th>\n",
       "      <td>\"Спасибо за идеи. Некоторые реализовали\". Начальник УГАИ — о письмах от водителей и пешеходов\\n\\n30 ноября 2016 в 10:45\\n\\nТатьяна Матвеева / TUT.BY\\n\\nГосавтоинспекция региона проводит проект «От...</td>\n",
       "      <td>auto</td>\n",
       "    </tr>\n",
       "    <tr>\n",
       "      <th>696</th>\n",
       "      <td>Жительница Постав зарабатывала сутенерством, использовав в том числе 12-летнюю девочку\\n\\n9 декабря 2016 в 15:59\\n\\nTUT.BY\\n\\nЗавершено расследование уголовного дела в отношении 48-летней жительни...</td>\n",
       "      <td>incident</td>\n",
       "    </tr>\n",
       "  </tbody>\n",
       "</table>\n",
       "</div>"
      ],
      "text/plain": [
       "                                                                                                                                                                                                         text  \\\n",
       "1251  \"Спасибо за идеи. Некоторые реализовали\". Начальник УГАИ — о письмах от водителей и пешеходов\\n\\n30 ноября 2016 в 10:45\\n\\nТатьяна Матвеева / TUT.BY\\n\\nГосавтоинспекция региона проводит проект «От...   \n",
       "696   Жительница Постав зарабатывала сутенерством, использовав в том числе 12-летнюю девочку\\n\\n9 декабря 2016 в 15:59\\n\\nTUT.BY\\n\\nЗавершено расследование уголовного дела в отношении 48-летней жительни...   \n",
       "\n",
       "           tag  \n",
       "1251      auto  \n",
       "696   incident  "
      ]
     },
     "execution_count": 4,
     "metadata": {},
     "output_type": "execute_result"
    }
   ],
   "source": [
    "data.sample(2)"
   ]
  },
  {
   "cell_type": "markdown",
   "metadata": {},
   "source": [
    "## токенизация и очистка"
   ]
  },
  {
   "cell_type": "code",
   "execution_count": 5,
   "metadata": {},
   "outputs": [],
   "source": [
    "# собираем словарь из текстов\n",
    "def get_vocabulary(ds):\n",
    "    vcb = [ set(s) for s in ds.tolist() ]\n",
    "    return sorted(set.union(*vcb))"
   ]
  },
  {
   "cell_type": "code",
   "execution_count": 6,
   "metadata": {},
   "outputs": [],
   "source": [
    "# лемматизация и очистка с помощью пакета морфологического анализа\n",
    "\n",
    "morph = MorphAnalyzer()\n",
    "\n",
    "# применяет список замен pat к строке s\n",
    "def replace_patterns(s,pat):\n",
    "    if len(pat)<1: return s\n",
    "    return  replace_patterns( re.sub(pat[0][0],pat[0][1],s), pat[1:] )\n",
    "\n",
    "# нормализация текста\n",
    "def string_normalizer(s):\n",
    "    pat = [\n",
    "       [r'ё','е'] # замена ё для унификации\n",
    "       ,[r'</?[a-z]+>',' '] # удаляем xml\n",
    "       ,[r'[^a-zа-я\\- ]+',' '] # оставляем только буквы, пробел и -\n",
    "       ,[r' -\\w+',' '] # удаляем '-й','-тый' и т.п.\n",
    "       ,[r'\\w+- ',' ']\n",
    "       ,[r' +',' '] # удаляем повторы пробелов\n",
    "    ]\n",
    "    return replace_patterns(s.lower(),pat).strip()\n",
    "\n",
    "# NOUN (существительное), VERB (глагол), ADJF (прилагательное)\n",
    "def word_normalizer(w, pos_types=('NOUN','VERB','ADJF')):\n",
    "    if not morph.word_is_known(w): return ''\n",
    "    p = morph.parse(w)[0] \n",
    "    return p.normal_form if (p.tag.POS in pos_types) else ''\n",
    "\n",
    "\n",
    "def tokenize_normalize(s):\n",
    "    return [ word_normalizer(w) for w in s.split(' ') if len(w)>1 ]"
   ]
  },
  {
   "cell_type": "code",
   "execution_count": 7,
   "metadata": {},
   "outputs": [
    {
     "name": "stderr",
     "output_type": "stream",
     "text": [
      "100%|██████████| 3196/3196 [00:00<00:00, 5387.90it/s]\n",
      "100%|██████████| 3196/3196 [01:20<00:00, 39.74it/s]\n"
     ]
    }
   ],
   "source": [
    "data['ctext'] = data['text']\\\n",
    "                    .progress_apply(string_normalizer)\\\n",
    "                    .progress_apply(tokenize_normalize)"
   ]
  },
  {
   "cell_type": "code",
   "execution_count": 8,
   "metadata": {},
   "outputs": [
    {
     "name": "stdout",
     "output_type": "stream",
     "text": [
      "словарь 22673 слов\n"
     ]
    }
   ],
   "source": [
    "vcb0 =  get_vocabulary( data['ctext'] )\n",
    "print('словарь %i слов'%(len(vcb0)))\n",
    "# pd.DataFrame( vcb ).to_csv('voc0.txt',index=False,header=False)"
   ]
  },
  {
   "cell_type": "code",
   "execution_count": 9,
   "metadata": {},
   "outputs": [],
   "source": [
    "data['ctext'] = data['ctext'].apply(' '.join)"
   ]
  },
  {
   "cell_type": "code",
   "execution_count": 10,
   "metadata": {},
   "outputs": [
    {
     "data": {
      "text/html": [
       "<div>\n",
       "<style scoped>\n",
       "    .dataframe tbody tr th:only-of-type {\n",
       "        vertical-align: middle;\n",
       "    }\n",
       "\n",
       "    .dataframe tbody tr th {\n",
       "        vertical-align: top;\n",
       "    }\n",
       "\n",
       "    .dataframe thead th {\n",
       "        text-align: right;\n",
       "    }\n",
       "</style>\n",
       "<table border=\"1\" class=\"dataframe\">\n",
       "  <thead>\n",
       "    <tr style=\"text-align: right;\">\n",
       "      <th></th>\n",
       "      <th>text</th>\n",
       "      <th>tag</th>\n",
       "      <th>ctext</th>\n",
       "    </tr>\n",
       "  </thead>\n",
       "  <tbody>\n",
       "    <tr>\n",
       "      <th>377</th>\n",
       "      <td>Франсуа Кеворкян вновь претендует на звание \"Лучшего резидента\" и едет\\nв Москву Франсуа Кеворкян, как и в прошлом году, номинирован на премию\\nClub World Awards. Конкуренцию в категории \"Лучший р...</td>\n",
       "      <td>culture</td>\n",
       "      <td>франсуа   претендовать  звание хороший резидент ехать москва франсуа   прошлый год   премия    конкуренция категория хороший резидент  составить      итог объявить</td>\n",
       "    </tr>\n",
       "    <tr>\n",
       "      <th>1455</th>\n",
       "      <td>Венесуэла закрывает границу с Колумбией из-за валютной мафии Код для вставки в блог Телеканал \"Звезда\"Венесуэла закрывает границу с Колумбией из-за валютной мафии13 декабря 2016, 03:21Президент Ве...</td>\n",
       "      <td>politics</td>\n",
       "      <td>венесуэла закрывать граница колумбия  валютный мафия код  вставка блог телеканал звезда венесуэла закрывать граница колумбия  валютный мафия декабрь президент венесуэла николас  распорядиться  гра...</td>\n",
       "    </tr>\n",
       "    <tr>\n",
       "      <th>1389</th>\n",
       "      <td>13.12.16 10:00\\n\\nМосква. 13 декабря. ИНТЕРФАКС - Почти три четверти россиян уверены, что президент РФ Владимир Путин \"искренне хочет добиться повышения благосостояния населения\": 24% из них счита...</td>\n",
       "      <td>politics</td>\n",
       "      <td>москва декабрь интерфакс   четверть россиянин   президент рф владимир путин  хотеть  повышение благосостояние население   считать   удаться   опасаться   помешать бюрократия отсутствие хороший ком...</td>\n",
       "    </tr>\n",
       "    <tr>\n",
       "      <th>1657</th>\n",
       "      <td>МОСКВА, 13 дек — РИА Новости. Российские власти предложили Темирлану Эскерханову, обвиняемому по уголовному делу об убийстве Бориса Немцова, компенсацию в шесть тысяч евро, пишет \"Коммерсант\". По ...</td>\n",
       "      <td>politics</td>\n",
       "      <td>москва дек риа новость российский власть предложить     уголовный дело  убийство борис немцов компенсация  тысяча евро писать коммерсант  данные газета  аналогичный выплата мочь  другой фигурант н...</td>\n",
       "    </tr>\n",
       "    <tr>\n",
       "      <th>2890</th>\n",
       "      <td>Вчера, 20:30\\n\\nАвтостроительная компания из Южной Кореи Kia Motors во второй раз решила привлечь внимание к себе и опубликовала в Сети новый видеотизер. На этот раз на ролике демонстрируется нови...</td>\n",
       "      <td>auto</td>\n",
       "      <td>автостроительный компания  южный корея    второй раз решить  внимание  опубликовать сеть новый   этот раз  ролик демонстрироваться новинка   который планировать  серийный производство официальный...</td>\n",
       "    </tr>\n",
       "    <tr>\n",
       "      <th>1687</th>\n",
       "      <td>Самолет A380 немецкой авиакомпании Lufthansa совершил экстренную посадку в международном аэропорту имени Джона Кеннеди в Нью-Йорке после сообщения о заложенной на борту бомбе. Инцидент произошел в...</td>\n",
       "      <td>incident</td>\n",
       "      <td>самолёт немецкий авиакомпания  совершить экстренный посадка международный аэропорт имя джон кеннеди нью-йорк  сообщение   борт бомба инцидент произойти  понедельник декабрь  местный время ранний  ...</td>\n",
       "    </tr>\n",
       "    <tr>\n",
       "      <th>654</th>\n",
       "      <td>Элитные подарки от фабрики \"ГеосИдеал\"!\\n\\n5 декабря 2016 в 9:00\\n\\n*На правах рекламы\\n\\nВ предновогодней суете, придумывая и разыскивая подарки для самых близких людей, не забудьте про подарок и...</td>\n",
       "      <td>reclama</td>\n",
       "      <td>элитный подарок  фабрика  декабрь  право реклама предновогодний суета   подарок  самый близкий человек  забыть  подарок   подарок который мечтать целый год подарок который волшебный образ изменить...</td>\n",
       "    </tr>\n",
       "    <tr>\n",
       "      <th>1205</th>\n",
       "      <td>Специалист о пробках на площади Богушевича: Пока мы строим метро, ситуация не изменится\\n\\n9 декабря 2016 в 13:05\\n\\nТамара Савич / AUTO.TUT.BY\\n\\nАвтомобилист Сергей из Минска пожаловался, что еж...</td>\n",
       "      <td>auto</td>\n",
       "      <td>специалист пробка  площадь    строить метро ситуация  измениться декабрь тамара     автомобилист сергей  минск пожаловаться   застревать пробка  площадь     выяснить специалист    исправиться ситу...</td>\n",
       "    </tr>\n",
       "    <tr>\n",
       "      <th>2679</th>\n",
       "      <td>Ученые из института исследований в области медицины в Барселоне сделали важное открытие, которое позволит в будущем эффективно бороться с онкологическими заболеваниями.\\r\\nДело в том, что специали...</td>\n",
       "      <td>science</td>\n",
       "      <td>учёный  институт исследование область медицина барселона сделать важный открытие который позволить будущее   онкологический заболевание дело тот  специалист выяснить причина живучесть раковый клет...</td>\n",
       "    </tr>\n",
       "    <tr>\n",
       "      <th>441</th>\n",
       "      <td>Горбачев: В развале СССР виновато прежнее руководство России\\n\\n7 декабря 2016 в 21:49\\n\\nРусская служба Би-би-си\\n\\nЭкс-президент СССР Михаил Горбачев считает, что в развале Советского Союза вино...</td>\n",
       "      <td>politics</td>\n",
       "      <td>горбачёв развал ссср  прежний руководство россия декабрь русский служба би-би-си экс-президент ссср михаил горбачёв считать  развал советский союз  участник беловежский соглашение который   мнение...</td>\n",
       "    </tr>\n",
       "  </tbody>\n",
       "</table>\n",
       "</div>"
      ],
      "text/plain": [
       "                                                                                                                                                                                                         text  \\\n",
       "377   Франсуа Кеворкян вновь претендует на звание \"Лучшего резидента\" и едет\\nв Москву Франсуа Кеворкян, как и в прошлом году, номинирован на премию\\nClub World Awards. Конкуренцию в категории \"Лучший р...   \n",
       "1455  Венесуэла закрывает границу с Колумбией из-за валютной мафии Код для вставки в блог Телеканал \"Звезда\"Венесуэла закрывает границу с Колумбией из-за валютной мафии13 декабря 2016, 03:21Президент Ве...   \n",
       "1389  13.12.16 10:00\\n\\nМосква. 13 декабря. ИНТЕРФАКС - Почти три четверти россиян уверены, что президент РФ Владимир Путин \"искренне хочет добиться повышения благосостояния населения\": 24% из них счита...   \n",
       "1657  МОСКВА, 13 дек — РИА Новости. Российские власти предложили Темирлану Эскерханову, обвиняемому по уголовному делу об убийстве Бориса Немцова, компенсацию в шесть тысяч евро, пишет \"Коммерсант\". По ...   \n",
       "2890  Вчера, 20:30\\n\\nАвтостроительная компания из Южной Кореи Kia Motors во второй раз решила привлечь внимание к себе и опубликовала в Сети новый видеотизер. На этот раз на ролике демонстрируется нови...   \n",
       "1687  Самолет A380 немецкой авиакомпании Lufthansa совершил экстренную посадку в международном аэропорту имени Джона Кеннеди в Нью-Йорке после сообщения о заложенной на борту бомбе. Инцидент произошел в...   \n",
       "654   Элитные подарки от фабрики \"ГеосИдеал\"!\\n\\n5 декабря 2016 в 9:00\\n\\n*На правах рекламы\\n\\nВ предновогодней суете, придумывая и разыскивая подарки для самых близких людей, не забудьте про подарок и...   \n",
       "1205  Специалист о пробках на площади Богушевича: Пока мы строим метро, ситуация не изменится\\n\\n9 декабря 2016 в 13:05\\n\\nТамара Савич / AUTO.TUT.BY\\n\\nАвтомобилист Сергей из Минска пожаловался, что еж...   \n",
       "2679  Ученые из института исследований в области медицины в Барселоне сделали важное открытие, которое позволит в будущем эффективно бороться с онкологическими заболеваниями.\\r\\nДело в том, что специали...   \n",
       "441   Горбачев: В развале СССР виновато прежнее руководство России\\n\\n7 декабря 2016 в 21:49\\n\\nРусская служба Би-би-си\\n\\nЭкс-президент СССР Михаил Горбачев считает, что в развале Советского Союза вино...   \n",
       "\n",
       "           tag  \\\n",
       "377    culture   \n",
       "1455  politics   \n",
       "1389  politics   \n",
       "1657  politics   \n",
       "2890      auto   \n",
       "1687  incident   \n",
       "654    reclama   \n",
       "1205      auto   \n",
       "2679   science   \n",
       "441   politics   \n",
       "\n",
       "                                                                                                                                                                                                        ctext  \n",
       "377                                       франсуа   претендовать  звание хороший резидент ехать москва франсуа   прошлый год   премия    конкуренция категория хороший резидент  составить      итог объявить  \n",
       "1455  венесуэла закрывать граница колумбия  валютный мафия код  вставка блог телеканал звезда венесуэла закрывать граница колумбия  валютный мафия декабрь президент венесуэла николас  распорядиться  гра...  \n",
       "1389  москва декабрь интерфакс   четверть россиянин   президент рф владимир путин  хотеть  повышение благосостояние население   считать   удаться   опасаться   помешать бюрократия отсутствие хороший ком...  \n",
       "1657  москва дек риа новость российский власть предложить     уголовный дело  убийство борис немцов компенсация  тысяча евро писать коммерсант  данные газета  аналогичный выплата мочь  другой фигурант н...  \n",
       "2890   автостроительный компания  южный корея    второй раз решить  внимание  опубликовать сеть новый   этот раз  ролик демонстрироваться новинка   который планировать  серийный производство официальный...  \n",
       "1687  самолёт немецкий авиакомпания  совершить экстренный посадка международный аэропорт имя джон кеннеди нью-йорк  сообщение   борт бомба инцидент произойти  понедельник декабрь  местный время ранний  ...  \n",
       "654   элитный подарок  фабрика  декабрь  право реклама предновогодний суета   подарок  самый близкий человек  забыть  подарок   подарок который мечтать целый год подарок который волшебный образ изменить...  \n",
       "1205  специалист пробка  площадь    строить метро ситуация  измениться декабрь тамара     автомобилист сергей  минск пожаловаться   застревать пробка  площадь     выяснить специалист    исправиться ситу...  \n",
       "2679  учёный  институт исследование область медицина барселона сделать важный открытие который позволить будущее   онкологический заболевание дело тот  специалист выяснить причина живучесть раковый клет...  \n",
       "441   горбачёв развал ссср  прежний руководство россия декабрь русский служба би-би-си экс-президент ссср михаил горбачёв считать  развал советский союз  участник беловежский соглашение который   мнение...  "
      ]
     },
     "execution_count": 10,
     "metadata": {},
     "output_type": "execute_result"
    }
   ],
   "source": [
    "data.sample(10)"
   ]
  },
  {
   "cell_type": "markdown",
   "metadata": {},
   "source": [
    "##  Vectorizer"
   ]
  },
  {
   "cell_type": "code",
   "execution_count": 11,
   "metadata": {},
   "outputs": [],
   "source": [
    "def tokenizer(s): \n",
    "    for w in s.split(' '):\n",
    "        if (len(w)>1): \n",
    "            yield w\n",
    "\n",
    "X = CountVectorizer(tokenizer=tokenizer, token_pattern=None).fit_transform(data['ctext'])"
   ]
  },
  {
   "cell_type": "markdown",
   "metadata": {},
   "source": [
    "## кластеризируем"
   ]
  },
  {
   "cell_type": "code",
   "execution_count": 12,
   "metadata": {},
   "outputs": [
    {
     "data": {
      "text/plain": [
       "12"
      ]
     },
     "execution_count": 12,
     "metadata": {},
     "output_type": "execute_result"
    }
   ],
   "source": [
    "data['cluster'] = KMeans(n_clusters=12).fit(X).labels_\n",
    "data['cluster'].drop_duplicates().count()"
   ]
  },
  {
   "cell_type": "markdown",
   "metadata": {},
   "source": [
    "## тестируем"
   ]
  },
  {
   "cell_type": "code",
   "execution_count": 13,
   "metadata": {},
   "outputs": [
    {
     "data": {
      "text/html": [
       "<div>\n",
       "<style scoped>\n",
       "    .dataframe tbody tr th:only-of-type {\n",
       "        vertical-align: middle;\n",
       "    }\n",
       "\n",
       "    .dataframe tbody tr th {\n",
       "        vertical-align: top;\n",
       "    }\n",
       "\n",
       "    .dataframe thead th {\n",
       "        text-align: right;\n",
       "    }\n",
       "</style>\n",
       "<table border=\"1\" class=\"dataframe\">\n",
       "  <thead>\n",
       "    <tr style=\"text-align: right;\">\n",
       "      <th></th>\n",
       "      <th>cluster</th>\n",
       "      <th>count</th>\n",
       "      <th>tags</th>\n",
       "    </tr>\n",
       "  </thead>\n",
       "  <tbody>\n",
       "    <tr>\n",
       "      <th>0</th>\n",
       "      <td>0</td>\n",
       "      <td>59</td>\n",
       "      <td>culture tech sport</td>\n",
       "    </tr>\n",
       "    <tr>\n",
       "      <th>1</th>\n",
       "      <td>1</td>\n",
       "      <td>128</td>\n",
       "      <td>woman reclama culture social science politics auto sport economics realty tech incident</td>\n",
       "    </tr>\n",
       "    <tr>\n",
       "      <th>2</th>\n",
       "      <td>2</td>\n",
       "      <td>1</td>\n",
       "      <td>sport</td>\n",
       "    </tr>\n",
       "    <tr>\n",
       "      <th>3</th>\n",
       "      <td>3</td>\n",
       "      <td>1</td>\n",
       "      <td>incident</td>\n",
       "    </tr>\n",
       "    <tr>\n",
       "      <th>4</th>\n",
       "      <td>4</td>\n",
       "      <td>437</td>\n",
       "      <td>woman reclama culture social tech science politics realty economics sport auto incident</td>\n",
       "    </tr>\n",
       "    <tr>\n",
       "      <th>5</th>\n",
       "      <td>5</td>\n",
       "      <td>1</td>\n",
       "      <td>woman</td>\n",
       "    </tr>\n",
       "    <tr>\n",
       "      <th>6</th>\n",
       "      <td>6</td>\n",
       "      <td>1</td>\n",
       "      <td>woman</td>\n",
       "    </tr>\n",
       "    <tr>\n",
       "      <th>7</th>\n",
       "      <td>7</td>\n",
       "      <td>15</td>\n",
       "      <td>woman social sport realty economics auto</td>\n",
       "    </tr>\n",
       "    <tr>\n",
       "      <th>8</th>\n",
       "      <td>8</td>\n",
       "      <td>4</td>\n",
       "      <td>sport</td>\n",
       "    </tr>\n",
       "    <tr>\n",
       "      <th>9</th>\n",
       "      <td>9</td>\n",
       "      <td>1</td>\n",
       "      <td>woman</td>\n",
       "    </tr>\n",
       "    <tr>\n",
       "      <th>10</th>\n",
       "      <td>10</td>\n",
       "      <td>1</td>\n",
       "      <td>social</td>\n",
       "    </tr>\n",
       "    <tr>\n",
       "      <th>11</th>\n",
       "      <td>11</td>\n",
       "      <td>2547</td>\n",
       "      <td>health woman reclama culture social science politics auto sport economics realty tech incident</td>\n",
       "    </tr>\n",
       "  </tbody>\n",
       "</table>\n",
       "</div>"
      ],
      "text/plain": [
       "    cluster  count  \\\n",
       "0         0     59   \n",
       "1         1    128   \n",
       "2         2      1   \n",
       "3         3      1   \n",
       "4         4    437   \n",
       "5         5      1   \n",
       "6         6      1   \n",
       "7         7     15   \n",
       "8         8      4   \n",
       "9         9      1   \n",
       "10       10      1   \n",
       "11       11   2547   \n",
       "\n",
       "                                                                                              tags  \n",
       "0                                                                               culture tech sport  \n",
       "1          woman reclama culture social science politics auto sport economics realty tech incident  \n",
       "2                                                                                            sport  \n",
       "3                                                                                         incident  \n",
       "4          woman reclama culture social tech science politics realty economics sport auto incident  \n",
       "5                                                                                            woman  \n",
       "6                                                                                            woman  \n",
       "7                                                         woman social sport realty economics auto  \n",
       "8                                                                                            sport  \n",
       "9                                                                                            woman  \n",
       "10                                                                                          social  \n",
       "11  health woman reclama culture social science politics auto sport economics realty tech incident  "
      ]
     },
     "execution_count": 13,
     "metadata": {},
     "output_type": "execute_result"
    }
   ],
   "source": [
    "# номер кластера, количество объектов, метки объектов\n",
    "# (cluster=-1 - некластеризованные DBSCAN объекты)\n",
    "cluster_descr = pd.concat([\n",
    "        data[['cluster','tag']].groupby(['cluster'])['tag'].count(),\n",
    "        data[['cluster','tag']].groupby(['cluster'])['tag'].apply(lambda s: set(s)).apply(' '.join)\n",
    "    ],axis=1).reset_index()\n",
    "\n",
    "cluster_descr.columns = ['cluster','count','tags']\n",
    "\n",
    "cluster_descr"
   ]
  },
  {
   "cell_type": "code",
   "execution_count": 14,
   "metadata": {},
   "outputs": [
    {
     "data": {
      "text/plain": [
       "<AxesSubplot:xlabel='cluster'>"
      ]
     },
     "execution_count": 14,
     "metadata": {},
     "output_type": "execute_result"
    },
    {
     "data": {
      "image/png": "[encoded data removed]",
      "text/plain": [
       "<Figure size 1152x360 with 1 Axes>"
      ]
     },
     "metadata": {
      "needs_background": "light"
     },
     "output_type": "display_data"
    }
   ],
   "source": [
    "# размеры кластеров\n",
    "cluster_descr[['cluster','count']]\\\n",
    "    .query('cluster>-1')\\\n",
    "    .set_index('cluster')\\\n",
    "    .plot.bar(grid=True,figsize=(16,5))"
   ]
  },
  {
   "cell_type": "code",
   "execution_count": 15,
   "metadata": {},
   "outputs": [],
   "source": [
    "def print_cluster_samples(n,ns=3,nt=300):\n",
    "    count,tags = cluster_descr.query(f'cluster=={n}')[['count','tags']].values[0]#.tolist\n",
    "    df = data.query(f'cluster=={n}')\n",
    "    ns_ = min(ns,len(df))\n",
    "    top = [ t[:nt].replace('\\n',' ') for t in df['text'].sample(ns_).values ]\n",
    "    print('[ КЛАСТЕР %i, элементов: %i, метки: \"%s\" ]'%(n,count,tags))\n",
    "    for s in top: print('\\n%s ...\\n'%(s) )"
   ]
  },
  {
   "cell_type": "code",
   "execution_count": 17,
   "metadata": {},
   "outputs": [
    {
     "name": "stdout",
     "output_type": "stream",
     "text": [
      "[ КЛАСТЕР 3, элементов: 1, метки: \"incident\" ]\n",
      "\n",
      "Гомельские строители утверждают, что их \"кинули\" в Жлобине. Бизнесмен: \"Это ложь и клевета\"  9 декабря 2016 в 13:45  Елена Бычкова / TUT.BY  В редакцию TUT. BY обратились строители одной из гомельской фирм, которые утверждают — их «кинули». Не в России, а дома, на родине. Уже два года мужчины ищут с ...\n",
      "\n",
      "\n",
      "= = = = = = = = = = = = = = = = = = = = = = = = = =\n",
      "\n",
      "[ КЛАСТЕР 0, элементов: 59, метки: \"culture tech sport\" ]\n",
      "\n",
      "«Индиана» — «Шарлотт» 110:94  «Индиана Пэйсерс» на домашнем паркете обыграла «Шарлотт Хорнетс» со счетом 110:94 (25:20, 20:23, 31:30, 34:21).  Наибольший вклад в успех хозяев внесли Пол Джордж и Майлз Тернер, набравшие по 22 очка.  В составе «Хорнетс» выделим Николя Батюма, оформившего дабл-дабл из  ...\n",
      "\n",
      "\n",
      "\"Действительно важное кино\". В Минске покажут лучший европейский фильм года  7 декабря 2016 в 9:34  AFISHA.TUT.BY  В преддверии вручения европейского \"Оскара\" в «Falcon club Бутик кино» состоятся показы фильма «Тони Эрдманн» — картины, получившей Гран-при Международной федерации кинопрессы ФИПРЕССИ  ...\n",
      "\n",
      "\n",
      "Объявлены номинанты на премию \"Золотой глобус\"  Лидером по числу номинаций стал фильм \"Ла-Ла Ленд\", который представлен сразу в семи категориях  Актеры Дон Чидл, Лора Дерн и Анна Кендрик (слева направо) во время объявления номинантов на премию \"Золотой глобус\"  Москва. 12 декабря. INTERFAX.RU - Ассо ...\n",
      "\n",
      "\n",
      "= = = = = = = = = = = = = = = = = = = = = = = = = =\n",
      "\n",
      "[ КЛАСТЕР 10, элементов: 1, метки: \"social\" ]\n",
      "\n",
      "\"Привел солдат на плац и контролируешь, как снег убирают\". Как прошел призыв офицеров запаса  8 декабря 2016 в 11:37  Елена Мельникова, TUT.BY  В июле президент подписал указ о призыве на военную службу офицеров запаса — и сейчас призыв завершен. Как сообщили в Министерстве обороны, сто человек назн ...\n",
      "\n",
      "\n",
      "= = = = = = = = = = = = = = = = = = = = = = = = = =\n",
      "\n"
     ]
    }
   ],
   "source": [
    "for n in rng.permutation(cluster_descr['cluster'].max())[:3] :\n",
    "    print_cluster_samples(n)\n",
    "    print('\\n= = = = = = = = = = = = = = = = = = = = = = = = = =\\n')"
   ]
  },
  {
   "cell_type": "code",
   "execution_count": null,
   "metadata": {},
   "outputs": [],
   "source": []
  }
 ],
 "metadata": {
  "kernelspec": {
   "display_name": "Python 3",
   "language": "python",
   "name": "python3"
  },
  "language_info": {
   "codemirror_mode": {
    "name": "ipython",
    "version": 3
   },
   "file_extension": ".py",
   "mimetype": "text/x-python",
   "name": "python",
   "nbconvert_exporter": "python",
   "pygments_lexer": "ipython3",
   "version": "3.8.9"
  },
  "toc": {
   "base_numbering": 1,
   "nav_menu": {},
   "number_sections": true,
   "sideBar": true,
   "skip_h1_title": false,
   "title_cell": "Table of Contents",
   "title_sidebar": "Contents",
   "toc_cell": false,
   "toc_position": {},
   "toc_section_display": true,
   "toc_window_display": false
  }
 },
 "nbformat": 4,
 "nbformat_minor": 2
}
