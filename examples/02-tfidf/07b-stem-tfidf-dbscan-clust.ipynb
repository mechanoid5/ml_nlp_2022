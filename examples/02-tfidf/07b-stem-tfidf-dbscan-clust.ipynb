{
 "cells": [
  {
   "cell_type": "markdown",
   "metadata": {},
   "source": [
    "**извлечение признаков из текста на естественном языке**\n",
    "\n",
    "кластеризатор текстов   \n",
    "SnowballStemmer + TFIDF + DBSCAN\n",
    "\n",
    "_Евгений Борисов <esborisov@sevsu.ru>_"
   ]
  },
  {
   "cell_type": "markdown",
   "metadata": {},
   "source": [
    "## библиотеки"
   ]
  },
  {
   "cell_type": "code",
   "execution_count": 1,
   "metadata": {},
   "outputs": [],
   "source": [
    "import re\n",
    "# import gzip\n",
    "import numpy as np\n",
    "import numpy.random as rng\n",
    "import pandas as pd\n",
    "from tqdm.notebook import tqdm\n",
    "\n",
    "np.set_printoptions(precision=2) # вывод на печать чисел до 2 знака\n",
    "pd.options.display.max_colwidth = 200 \n",
    "\n",
    "tqdm.pandas()"
   ]
  },
  {
   "cell_type": "code",
   "execution_count": 2,
   "metadata": {},
   "outputs": [
    {
     "data": {
      "text/plain": [
       "'1.0.2'"
      ]
     },
     "execution_count": 2,
     "metadata": {},
     "output_type": "execute_result"
    }
   ],
   "source": [
    "from sklearn import __version__ as SKLEARN_VERSION\n",
    "\n",
    "from sklearn.feature_extraction.text import TfidfVectorizer\n",
    "from sklearn.cluster import DBSCAN\n",
    "\n",
    "from matplotlib import pyplot as plt\n",
    "\n",
    "SKLEARN_VERSION"
   ]
  },
  {
   "cell_type": "code",
   "execution_count": 3,
   "metadata": {},
   "outputs": [],
   "source": [
    "from nltk.stem.snowball import SnowballStemmer\n",
    "from nltk.corpus import stopwords as nltk_stopwords\n",
    "# from nltk import download as nltk_download\n",
    "# nltk_download('stopwords')"
   ]
  },
  {
   "cell_type": "markdown",
   "metadata": {},
   "source": [
    "## тексты"
   ]
  },
  {
   "cell_type": "code",
   "execution_count": 4,
   "metadata": {},
   "outputs": [
    {
     "name": "stdout",
     "output_type": "stream",
     "text": [
      "записей: 3196\n"
     ]
    }
   ],
   "source": [
    "# загружаем тексты\n",
    "data = pd.read_pickle('../data/news.pkl.gz')\n",
    "print('записей:',len(data))"
   ]
  },
  {
   "cell_type": "code",
   "execution_count": 5,
   "metadata": {},
   "outputs": [
    {
     "data": {
      "text/html": [
       "<div>\n",
       "<style scoped>\n",
       "    .dataframe tbody tr th:only-of-type {\n",
       "        vertical-align: middle;\n",
       "    }\n",
       "\n",
       "    .dataframe tbody tr th {\n",
       "        vertical-align: top;\n",
       "    }\n",
       "\n",
       "    .dataframe thead th {\n",
       "        text-align: right;\n",
       "    }\n",
       "</style>\n",
       "<table border=\"1\" class=\"dataframe\">\n",
       "  <thead>\n",
       "    <tr style=\"text-align: right;\">\n",
       "      <th></th>\n",
       "      <th>text</th>\n",
       "      <th>tag</th>\n",
       "    </tr>\n",
       "  </thead>\n",
       "  <tbody>\n",
       "    <tr>\n",
       "      <th>2638</th>\n",
       "      <td>Ученые из Хельсинки выяснили, сколько времени на самом деле нужно спать по ночам, чтобы как следует высыпаться и хорошо себя чувствовать. Научным сотрудникам понадобилось провести целый ряд испыта...</td>\n",
       "      <td>science</td>\n",
       "    </tr>\n",
       "    <tr>\n",
       "      <th>2974</th>\n",
       "      <td>Разработчики Alfa Romeo 4C могут создать версию Quadrifoglio\\n\\nПо неподтверждённой информации, итальянский эксклюзивный бренд может создать версию Quadrifoglio для модели Alfa Romeo 4C.\\n\\n\\n\\n\\n...</td>\n",
       "      <td>auto</td>\n",
       "    </tr>\n",
       "  </tbody>\n",
       "</table>\n",
       "</div>"
      ],
      "text/plain": [
       "                                                                                                                                                                                                         text  \\\n",
       "2638  Ученые из Хельсинки выяснили, сколько времени на самом деле нужно спать по ночам, чтобы как следует высыпаться и хорошо себя чувствовать. Научным сотрудникам понадобилось провести целый ряд испыта...   \n",
       "2974  Разработчики Alfa Romeo 4C могут создать версию Quadrifoglio\\n\\nПо неподтверждённой информации, итальянский эксклюзивный бренд может создать версию Quadrifoglio для модели Alfa Romeo 4C.\\n\\n\\n\\n\\n...   \n",
       "\n",
       "          tag  \n",
       "2638  science  \n",
       "2974     auto  "
      ]
     },
     "execution_count": 5,
     "metadata": {},
     "output_type": "execute_result"
    }
   ],
   "source": [
    "data.sample(2)"
   ]
  },
  {
   "cell_type": "markdown",
   "metadata": {},
   "source": [
    "## токенизация и очистка"
   ]
  },
  {
   "cell_type": "code",
   "execution_count": 6,
   "metadata": {},
   "outputs": [],
   "source": [
    "# применяет список замен pat к строке s\n",
    "def replace_patterns(s,pat):\n",
    "    if len(pat)<1: return s\n",
    "    return  replace_patterns( re.sub(pat[0][0],pat[0][1],s), pat[1:] )\n",
    "\n",
    "# нормализация текста\n",
    "def string_normalizer(s):\n",
    "    pat = [\n",
    "       [r'ё','е'] # замена ё для унификации\n",
    "       ,[r'</?[a-z]+>',' '] # удаляем xml\n",
    "       ,[r'[^a-zа-я\\- ]+',' '] # оставляем только буквы, пробел и -\n",
    "       ,[r' -\\w+',' '] # удаляем '-й','-тый' и т.п.\n",
    "       ,[r'\\w+- ',' ']\n",
    "       ,[r' +',' '] # удаляем повторы пробелов\n",
    "    ]\n",
    "    return replace_patterns(s.lower(),pat).strip()"
   ]
  },
  {
   "cell_type": "code",
   "execution_count": 7,
   "metadata": {},
   "outputs": [
    {
     "data": {
      "application/vnd.jupyter.widget-view+json": {
       "model_id": "eb8dc9c9233b4fbcaae46a239ce0626a",
       "version_major": 2,
       "version_minor": 0
      },
      "text/plain": [
       "  0%|          | 0/3196 [00:00<?, ?it/s]"
      ]
     },
     "metadata": {},
     "output_type": "display_data"
    }
   ],
   "source": [
    "data['ctext'] = data['text'].progress_apply(string_normalizer)"
   ]
  },
  {
   "cell_type": "markdown",
   "metadata": {},
   "source": [
    "##  Vectorizer"
   ]
  },
  {
   "cell_type": "code",
   "execution_count": 8,
   "metadata": {},
   "outputs": [],
   "source": [
    "from nltk.stem.snowball import SnowballStemmer\n",
    "from nltk.corpus import stopwords as nltk_stopwords\n",
    "\n",
    "stopwords = set(nltk_stopwords.words('russian'))\n",
    "stemmer = SnowballStemmer('russian')\n",
    "\n",
    "# разрезаем стоки на слова, выкидываем stopwords, выполняем стеминг\n",
    "def tokenizer_stemmer(s,stemmer=stemmer,stopwords=stopwords): \n",
    "    for w in s.split(' '):\n",
    "        o = stemmer.stem(w).replace('^','')\n",
    "        if len(o)<2: continue\n",
    "        if o in stopwords: continue\n",
    "        yield o        "
   ]
  },
  {
   "cell_type": "code",
   "execution_count": 9,
   "metadata": {},
   "outputs": [
    {
     "name": "stdout",
     "output_type": "stream",
     "text": [
      "CPU times: user 1min 16s, sys: 49.5 ms, total: 1min 16s\n",
      "Wall time: 1min 17s\n"
     ]
    }
   ],
   "source": [
    "%%time\n",
    "\n",
    "X = TfidfVectorizer(\n",
    "        use_idf=True,\n",
    "        norm='l2',\n",
    "        tokenizer=tokenizer_stemmer,\n",
    "        token_pattern=None,\n",
    "    ).fit_transform( data['ctext'] )"
   ]
  },
  {
   "cell_type": "code",
   "execution_count": 10,
   "metadata": {},
   "outputs": [
    {
     "data": {
      "text/plain": [
       "(3196, 36354)"
      ]
     },
     "execution_count": 10,
     "metadata": {},
     "output_type": "execute_result"
    }
   ],
   "source": [
    "X.shape"
   ]
  },
  {
   "cell_type": "markdown",
   "metadata": {},
   "source": [
    "## кластеризируем"
   ]
  },
  {
   "cell_type": "code",
   "execution_count": 11,
   "metadata": {},
   "outputs": [
    {
     "data": {
      "text/plain": [
       "52"
      ]
     },
     "execution_count": 11,
     "metadata": {},
     "output_type": "execute_result"
    }
   ],
   "source": [
    "data['cluster'] = DBSCAN(eps=.85,min_samples=5).fit(X).labels_\n",
    "data['cluster'].drop_duplicates().count()"
   ]
  },
  {
   "cell_type": "markdown",
   "metadata": {},
   "source": [
    "## тестируем"
   ]
  },
  {
   "cell_type": "code",
   "execution_count": 12,
   "metadata": {},
   "outputs": [
    {
     "data": {
      "text/html": [
       "<div>\n",
       "<style scoped>\n",
       "    .dataframe tbody tr th:only-of-type {\n",
       "        vertical-align: middle;\n",
       "    }\n",
       "\n",
       "    .dataframe tbody tr th {\n",
       "        vertical-align: top;\n",
       "    }\n",
       "\n",
       "    .dataframe thead th {\n",
       "        text-align: right;\n",
       "    }\n",
       "</style>\n",
       "<table border=\"1\" class=\"dataframe\">\n",
       "  <thead>\n",
       "    <tr style=\"text-align: right;\">\n",
       "      <th></th>\n",
       "      <th>cluster</th>\n",
       "      <th>count</th>\n",
       "      <th>tags</th>\n",
       "    </tr>\n",
       "  </thead>\n",
       "  <tbody>\n",
       "    <tr>\n",
       "      <th>0</th>\n",
       "      <td>-1</td>\n",
       "      <td>2765</td>\n",
       "      <td>reclama auto science realty politics health sport economics social woman incident tech culture</td>\n",
       "    </tr>\n",
       "    <tr>\n",
       "      <th>1</th>\n",
       "      <td>0</td>\n",
       "      <td>6</td>\n",
       "      <td>economics</td>\n",
       "    </tr>\n",
       "    <tr>\n",
       "      <th>2</th>\n",
       "      <td>1</td>\n",
       "      <td>21</td>\n",
       "      <td>politics</td>\n",
       "    </tr>\n",
       "    <tr>\n",
       "      <th>3</th>\n",
       "      <td>2</td>\n",
       "      <td>9</td>\n",
       "      <td>politics</td>\n",
       "    </tr>\n",
       "    <tr>\n",
       "      <th>4</th>\n",
       "      <td>3</td>\n",
       "      <td>13</td>\n",
       "      <td>politics</td>\n",
       "    </tr>\n",
       "    <tr>\n",
       "      <th>5</th>\n",
       "      <td>4</td>\n",
       "      <td>5</td>\n",
       "      <td>politics</td>\n",
       "    </tr>\n",
       "    <tr>\n",
       "      <th>6</th>\n",
       "      <td>5</td>\n",
       "      <td>27</td>\n",
       "      <td>politics</td>\n",
       "    </tr>\n",
       "    <tr>\n",
       "      <th>7</th>\n",
       "      <td>6</td>\n",
       "      <td>5</td>\n",
       "      <td>politics</td>\n",
       "    </tr>\n",
       "    <tr>\n",
       "      <th>8</th>\n",
       "      <td>7</td>\n",
       "      <td>10</td>\n",
       "      <td>incident</td>\n",
       "    </tr>\n",
       "    <tr>\n",
       "      <th>9</th>\n",
       "      <td>8</td>\n",
       "      <td>12</td>\n",
       "      <td>politics</td>\n",
       "    </tr>\n",
       "    <tr>\n",
       "      <th>10</th>\n",
       "      <td>9</td>\n",
       "      <td>12</td>\n",
       "      <td>politics</td>\n",
       "    </tr>\n",
       "    <tr>\n",
       "      <th>11</th>\n",
       "      <td>10</td>\n",
       "      <td>8</td>\n",
       "      <td>culture</td>\n",
       "    </tr>\n",
       "    <tr>\n",
       "      <th>12</th>\n",
       "      <td>11</td>\n",
       "      <td>9</td>\n",
       "      <td>politics</td>\n",
       "    </tr>\n",
       "    <tr>\n",
       "      <th>13</th>\n",
       "      <td>12</td>\n",
       "      <td>12</td>\n",
       "      <td>sport</td>\n",
       "    </tr>\n",
       "    <tr>\n",
       "      <th>14</th>\n",
       "      <td>13</td>\n",
       "      <td>9</td>\n",
       "      <td>science</td>\n",
       "    </tr>\n",
       "    <tr>\n",
       "      <th>15</th>\n",
       "      <td>14</td>\n",
       "      <td>9</td>\n",
       "      <td>politics</td>\n",
       "    </tr>\n",
       "    <tr>\n",
       "      <th>16</th>\n",
       "      <td>15</td>\n",
       "      <td>5</td>\n",
       "      <td>politics</td>\n",
       "    </tr>\n",
       "    <tr>\n",
       "      <th>17</th>\n",
       "      <td>16</td>\n",
       "      <td>7</td>\n",
       "      <td>incident</td>\n",
       "    </tr>\n",
       "    <tr>\n",
       "      <th>18</th>\n",
       "      <td>17</td>\n",
       "      <td>5</td>\n",
       "      <td>economics</td>\n",
       "    </tr>\n",
       "    <tr>\n",
       "      <th>19</th>\n",
       "      <td>18</td>\n",
       "      <td>14</td>\n",
       "      <td>economics</td>\n",
       "    </tr>\n",
       "    <tr>\n",
       "      <th>20</th>\n",
       "      <td>19</td>\n",
       "      <td>6</td>\n",
       "      <td>auto</td>\n",
       "    </tr>\n",
       "    <tr>\n",
       "      <th>21</th>\n",
       "      <td>20</td>\n",
       "      <td>6</td>\n",
       "      <td>economics</td>\n",
       "    </tr>\n",
       "    <tr>\n",
       "      <th>22</th>\n",
       "      <td>21</td>\n",
       "      <td>8</td>\n",
       "      <td>incident</td>\n",
       "    </tr>\n",
       "    <tr>\n",
       "      <th>23</th>\n",
       "      <td>22</td>\n",
       "      <td>6</td>\n",
       "      <td>culture</td>\n",
       "    </tr>\n",
       "    <tr>\n",
       "      <th>24</th>\n",
       "      <td>23</td>\n",
       "      <td>12</td>\n",
       "      <td>politics</td>\n",
       "    </tr>\n",
       "    <tr>\n",
       "      <th>25</th>\n",
       "      <td>24</td>\n",
       "      <td>8</td>\n",
       "      <td>politics</td>\n",
       "    </tr>\n",
       "    <tr>\n",
       "      <th>26</th>\n",
       "      <td>25</td>\n",
       "      <td>5</td>\n",
       "      <td>sport</td>\n",
       "    </tr>\n",
       "    <tr>\n",
       "      <th>27</th>\n",
       "      <td>26</td>\n",
       "      <td>5</td>\n",
       "      <td>sport</td>\n",
       "    </tr>\n",
       "    <tr>\n",
       "      <th>28</th>\n",
       "      <td>27</td>\n",
       "      <td>6</td>\n",
       "      <td>sport</td>\n",
       "    </tr>\n",
       "    <tr>\n",
       "      <th>29</th>\n",
       "      <td>28</td>\n",
       "      <td>6</td>\n",
       "      <td>incident</td>\n",
       "    </tr>\n",
       "    <tr>\n",
       "      <th>30</th>\n",
       "      <td>29</td>\n",
       "      <td>11</td>\n",
       "      <td>incident</td>\n",
       "    </tr>\n",
       "    <tr>\n",
       "      <th>31</th>\n",
       "      <td>30</td>\n",
       "      <td>8</td>\n",
       "      <td>incident</td>\n",
       "    </tr>\n",
       "    <tr>\n",
       "      <th>32</th>\n",
       "      <td>31</td>\n",
       "      <td>5</td>\n",
       "      <td>incident</td>\n",
       "    </tr>\n",
       "    <tr>\n",
       "      <th>33</th>\n",
       "      <td>32</td>\n",
       "      <td>9</td>\n",
       "      <td>incident</td>\n",
       "    </tr>\n",
       "    <tr>\n",
       "      <th>34</th>\n",
       "      <td>33</td>\n",
       "      <td>8</td>\n",
       "      <td>incident</td>\n",
       "    </tr>\n",
       "    <tr>\n",
       "      <th>35</th>\n",
       "      <td>34</td>\n",
       "      <td>6</td>\n",
       "      <td>incident</td>\n",
       "    </tr>\n",
       "    <tr>\n",
       "      <th>36</th>\n",
       "      <td>35</td>\n",
       "      <td>6</td>\n",
       "      <td>culture</td>\n",
       "    </tr>\n",
       "    <tr>\n",
       "      <th>37</th>\n",
       "      <td>36</td>\n",
       "      <td>9</td>\n",
       "      <td>science</td>\n",
       "    </tr>\n",
       "    <tr>\n",
       "      <th>38</th>\n",
       "      <td>37</td>\n",
       "      <td>10</td>\n",
       "      <td>science</td>\n",
       "    </tr>\n",
       "    <tr>\n",
       "      <th>39</th>\n",
       "      <td>38</td>\n",
       "      <td>5</td>\n",
       "      <td>science</td>\n",
       "    </tr>\n",
       "    <tr>\n",
       "      <th>40</th>\n",
       "      <td>39</td>\n",
       "      <td>5</td>\n",
       "      <td>science</td>\n",
       "    </tr>\n",
       "    <tr>\n",
       "      <th>41</th>\n",
       "      <td>40</td>\n",
       "      <td>12</td>\n",
       "      <td>tech</td>\n",
       "    </tr>\n",
       "    <tr>\n",
       "      <th>42</th>\n",
       "      <td>41</td>\n",
       "      <td>7</td>\n",
       "      <td>science tech</td>\n",
       "    </tr>\n",
       "    <tr>\n",
       "      <th>43</th>\n",
       "      <td>42</td>\n",
       "      <td>8</td>\n",
       "      <td>tech</td>\n",
       "    </tr>\n",
       "    <tr>\n",
       "      <th>44</th>\n",
       "      <td>43</td>\n",
       "      <td>5</td>\n",
       "      <td>tech</td>\n",
       "    </tr>\n",
       "    <tr>\n",
       "      <th>45</th>\n",
       "      <td>44</td>\n",
       "      <td>5</td>\n",
       "      <td>tech</td>\n",
       "    </tr>\n",
       "    <tr>\n",
       "      <th>46</th>\n",
       "      <td>45</td>\n",
       "      <td>13</td>\n",
       "      <td>tech</td>\n",
       "    </tr>\n",
       "    <tr>\n",
       "      <th>47</th>\n",
       "      <td>46</td>\n",
       "      <td>5</td>\n",
       "      <td>incident tech</td>\n",
       "    </tr>\n",
       "    <tr>\n",
       "      <th>48</th>\n",
       "      <td>47</td>\n",
       "      <td>6</td>\n",
       "      <td>auto</td>\n",
       "    </tr>\n",
       "    <tr>\n",
       "      <th>49</th>\n",
       "      <td>48</td>\n",
       "      <td>8</td>\n",
       "      <td>social</td>\n",
       "    </tr>\n",
       "    <tr>\n",
       "      <th>50</th>\n",
       "      <td>49</td>\n",
       "      <td>8</td>\n",
       "      <td>social incident politics</td>\n",
       "    </tr>\n",
       "    <tr>\n",
       "      <th>51</th>\n",
       "      <td>50</td>\n",
       "      <td>6</td>\n",
       "      <td>social politics</td>\n",
       "    </tr>\n",
       "  </tbody>\n",
       "</table>\n",
       "</div>"
      ],
      "text/plain": [
       "    cluster  count  \\\n",
       "0        -1   2765   \n",
       "1         0      6   \n",
       "2         1     21   \n",
       "3         2      9   \n",
       "4         3     13   \n",
       "5         4      5   \n",
       "6         5     27   \n",
       "7         6      5   \n",
       "8         7     10   \n",
       "9         8     12   \n",
       "10        9     12   \n",
       "11       10      8   \n",
       "12       11      9   \n",
       "13       12     12   \n",
       "14       13      9   \n",
       "15       14      9   \n",
       "16       15      5   \n",
       "17       16      7   \n",
       "18       17      5   \n",
       "19       18     14   \n",
       "20       19      6   \n",
       "21       20      6   \n",
       "22       21      8   \n",
       "23       22      6   \n",
       "24       23     12   \n",
       "25       24      8   \n",
       "26       25      5   \n",
       "27       26      5   \n",
       "28       27      6   \n",
       "29       28      6   \n",
       "30       29     11   \n",
       "31       30      8   \n",
       "32       31      5   \n",
       "33       32      9   \n",
       "34       33      8   \n",
       "35       34      6   \n",
       "36       35      6   \n",
       "37       36      9   \n",
       "38       37     10   \n",
       "39       38      5   \n",
       "40       39      5   \n",
       "41       40     12   \n",
       "42       41      7   \n",
       "43       42      8   \n",
       "44       43      5   \n",
       "45       44      5   \n",
       "46       45     13   \n",
       "47       46      5   \n",
       "48       47      6   \n",
       "49       48      8   \n",
       "50       49      8   \n",
       "51       50      6   \n",
       "\n",
       "                                                                                              tags  \n",
       "0   reclama auto science realty politics health sport economics social woman incident tech culture  \n",
       "1                                                                                        economics  \n",
       "2                                                                                         politics  \n",
       "3                                                                                         politics  \n",
       "4                                                                                         politics  \n",
       "5                                                                                         politics  \n",
       "6                                                                                         politics  \n",
       "7                                                                                         politics  \n",
       "8                                                                                         incident  \n",
       "9                                                                                         politics  \n",
       "10                                                                                        politics  \n",
       "11                                                                                         culture  \n",
       "12                                                                                        politics  \n",
       "13                                                                                           sport  \n",
       "14                                                                                         science  \n",
       "15                                                                                        politics  \n",
       "16                                                                                        politics  \n",
       "17                                                                                        incident  \n",
       "18                                                                                       economics  \n",
       "19                                                                                       economics  \n",
       "20                                                                                            auto  \n",
       "21                                                                                       economics  \n",
       "22                                                                                        incident  \n",
       "23                                                                                         culture  \n",
       "24                                                                                        politics  \n",
       "25                                                                                        politics  \n",
       "26                                                                                           sport  \n",
       "27                                                                                           sport  \n",
       "28                                                                                           sport  \n",
       "29                                                                                        incident  \n",
       "30                                                                                        incident  \n",
       "31                                                                                        incident  \n",
       "32                                                                                        incident  \n",
       "33                                                                                        incident  \n",
       "34                                                                                        incident  \n",
       "35                                                                                        incident  \n",
       "36                                                                                         culture  \n",
       "37                                                                                         science  \n",
       "38                                                                                         science  \n",
       "39                                                                                         science  \n",
       "40                                                                                         science  \n",
       "41                                                                                            tech  \n",
       "42                                                                                    science tech  \n",
       "43                                                                                            tech  \n",
       "44                                                                                            tech  \n",
       "45                                                                                            tech  \n",
       "46                                                                                            tech  \n",
       "47                                                                                   incident tech  \n",
       "48                                                                                            auto  \n",
       "49                                                                                          social  \n",
       "50                                                                        social incident politics  \n",
       "51                                                                                 social politics  "
      ]
     },
     "execution_count": 12,
     "metadata": {},
     "output_type": "execute_result"
    }
   ],
   "source": [
    "# номер кластера, количество объектов, метки объектов\n",
    "# (cluster=-1 - некластеризованные DBSCAN объекты)\n",
    "cluster_descr = pd.concat([\n",
    "        data[['cluster','tag']].groupby(['cluster'])['tag'].count(),\n",
    "        data[['cluster','tag']].groupby(['cluster'])['tag'].apply(lambda s: set(s)).apply(' '.join)\n",
    "    ],axis=1).reset_index()\n",
    "\n",
    "cluster_descr.columns = ['cluster','count','tags']\n",
    "\n",
    "cluster_descr"
   ]
  },
  {
   "cell_type": "code",
   "execution_count": 13,
   "metadata": {},
   "outputs": [
    {
     "data": {
      "text/plain": [
       "<AxesSubplot:xlabel='cluster'>"
      ]
     },
     "execution_count": 13,
     "metadata": {},
     "output_type": "execute_result"
    },
    {
     "data": {
      "image/png": "[encoded data removed]",
      "text/plain": [
       "<Figure size 1152x360 with 1 Axes>"
      ]
     },
     "metadata": {
      "needs_background": "light"
     },
     "output_type": "display_data"
    }
   ],
   "source": [
    "# размеры кластеров\n",
    "cluster_descr[['cluster','count']]\\\n",
    "    .query('cluster>-1')\\\n",
    "    .set_index('cluster')\\\n",
    "    .plot.bar(grid=True,figsize=(16,5))"
   ]
  },
  {
   "cell_type": "code",
   "execution_count": 14,
   "metadata": {},
   "outputs": [],
   "source": [
    "def print_cluster_samples(n,ns=3,nt=300):\n",
    "    count,tags = cluster_descr.query(f'cluster=={n}')[['count','tags']].values[0]#.tolist\n",
    "    df = data.query(f'cluster=={n}')\n",
    "    ns_ = min(ns,len(df))\n",
    "    top = [ t[:nt].replace('\\n',' ') for t in df['text'].sample(ns_).values ]\n",
    "    print('[ КЛАСТЕР %i, элементов: %i, метки: \"%s\" ]'%(n,count,tags))\n",
    "    for s in top: print('\\n%s ...\\n'%(s) )"
   ]
  },
  {
   "cell_type": "code",
   "execution_count": 15,
   "metadata": {},
   "outputs": [
    {
     "name": "stdout",
     "output_type": "stream",
     "text": [
      "[ КЛАСТЕР 41, элементов: 7, метки: \"science tech\" ]\n",
      "\n",
      "Москва, 13 декабря. АО «Гознак» получило несколько патентов, призванных защитить деньги и другие ценные бумаги от подделки. В частности, речь идет об изготовлении денег с прозрачными участками, а также бумаги с волокнами, флуоресцирующими в обычном видимом свете. Об этом сообщается в базах данных Ро ...\n",
      "\n",
      "\n",
      "Российские деньги станут частично прозрачными и будут светиться, - такие новшества внедряет завод по производству купюр АО «Гознак». Новые технологии призваны усилить защиту денег от подделки.  Предприятию «Гознак» выданы новые патенты на защиту купюр, передает «Лайф». Один патент касается бумаги с  ...\n",
      "\n",
      "\n",
      "АО «Гознак» будет изготавливать денежные купюры с прозрачными участками для повышения безопасности от подделки. Отмечается, что в данных Роспатента, информация о технологиях Гознака уже имеется.  Согласно патенту, прозрачные участки на банкнотах будут делаться с помощью локальной пропитки бумаги гли ...\n",
      "\n",
      "\n",
      "= = = = = = = = = = = = = = = = = = = = = = = = = =\n",
      "\n",
      "[ КЛАСТЕР 6, элементов: 5, метки: \"politics\" ]\n",
      "\n",
      "12 декабря новый премьер-министр Италии Паоло Джентилони представил президенту республики состав своего антикризисного правительства.  - Я сделал все, что мог, для того, чтобы сформировать новое правительство в кротчайшие сроки, дабы исполнить пожелание президента и действуя в интересах стабильности ...\n",
      "\n",
      "\n",
      "РИМ, 12 декабря. /Корр. ТАСС Вера Щербакова/. Паоло Джентилони, получивший от президента Италии Серджо Маттареллы премьерский мандат после отставки Маттео Ренци, объявил в понедельник состав своего кабинета. Церемония приведения к присяге в президентском Квиринальском дворце состоится в 20:00 (22:00 ...\n",
      "\n",
      "\n",
      "В понедельник, 12 декабря, в Италии был оглашен состав нового кабинета министров. Список членов правительства представил президенту страны ​Серджо Маттарелло премьер-министр Паоло Джентилони.  «Правительство будет двигаться в том же направлении, что и кабинет ушедшего в отставку Маттео Ренци», — при ...\n",
      "\n",
      "\n",
      "= = = = = = = = = = = = = = = = = = = = = = = = = =\n",
      "\n",
      "[ КЛАСТЕР 13, элементов: 9, метки: \"science\" ]\n",
      "\n",
      "ПЕТРОПАВЛОВСК-КАМЧАТСКИЙ, 13 декабря. /Корр. ТАСС Елена Верещака/. Вулкан Безымянный на Камчатке готовится к первому за последние четыре года мощному извержению и может в любой момент выбросить пепел на высоту 15 и более километров над уровнем моря. Активность исполина в последние несколько дней сущ ...\n",
      "\n",
      "\n",
      "ПЕТРОПАВЛОВСК-КАМЧАТСКИЙ, 13 дек – РИА Новости. Сильное извержение вулкана Безымянный, являющегося одним из наиболее активных в мире, может произойти в ближайшее время на Камчатке, сообщила РИА Новости руководитель Камчатской группы реагирования на вулканические извержения (KVERT) Института вулканол ...\n",
      "\n",
      "\n",
      "Ученые прогнозируют извержение вулкана \"Безымянный\", который находится на Дальнем Востоке в 500 км от Петропавловска-Камчатского. Об этом сообщили сотрудники Камчатской группы реагирования на вулканические извержения (KVERT) Института вулканологии и сейсмологии ДВО РАН.  По словам ученых, активность ...\n",
      "\n",
      "\n",
      "= = = = = = = = = = = = = = = = = = = = = = = = = =\n",
      "\n"
     ]
    }
   ],
   "source": [
    "for n in rng.permutation(cluster_descr['cluster'].max())[:3] :\n",
    "    print_cluster_samples(n)\n",
    "    print('\\n= = = = = = = = = = = = = = = = = = = = = = = = = =\\n')"
   ]
  },
  {
   "cell_type": "code",
   "execution_count": null,
   "metadata": {},
   "outputs": [],
   "source": []
  },
  {
   "cell_type": "code",
   "execution_count": null,
   "metadata": {},
   "outputs": [],
   "source": []
  }
 ],
 "metadata": {
  "kernelspec": {
   "display_name": "Python 3 (ipykernel)",
   "language": "python",
   "name": "python3"
  },
  "language_info": {
   "codemirror_mode": {
    "name": "ipython",
    "version": 3
   },
   "file_extension": ".py",
   "mimetype": "text/x-python",
   "name": "python",
   "nbconvert_exporter": "python",
   "pygments_lexer": "ipython3",
   "version": "3.8.9"
  },
  "toc": {
   "base_numbering": 1,
   "nav_menu": {},
   "number_sections": true,
   "sideBar": true,
   "skip_h1_title": false,
   "title_cell": "Table of Contents",
   "title_sidebar": "Contents",
   "toc_cell": false,
   "toc_position": {},
   "toc_section_display": true,
   "toc_window_display": false
  }
 },
 "nbformat": 4,
 "nbformat_minor": 2
}
