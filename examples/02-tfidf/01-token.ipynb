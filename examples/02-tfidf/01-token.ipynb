{
 "cells": [
  {
   "cell_type": "markdown",
   "metadata": {},
   "source": [
    "**извлечение признаков из текста на естественном языке**\n",
    "\n",
    "очистка текста и токенизация\n",
    "\n",
    "_Евгений Борисов <esborisov@sevsu.ru>_"
   ]
  },
  {
   "cell_type": "markdown",
   "metadata": {},
   "source": [
    "## библиотеки"
   ]
  },
  {
   "cell_type": "code",
   "execution_count": 1,
   "metadata": {},
   "outputs": [],
   "source": [
    "import re\n",
    "# import numpy as np\n",
    "# import numpy.random as rng\n",
    "import pandas as pd\n",
    "# from tqdm import tqdm\n",
    "from tqdm.notebook import tqdm\n",
    "\n",
    "# np.set_printoptions(precision=2) # вывод на печать чисел до 2 знака\n",
    "pd.options.display.max_colwidth = 200 \n",
    "\n",
    "tqdm.pandas()"
   ]
  },
  {
   "cell_type": "markdown",
   "metadata": {},
   "source": [
    "---"
   ]
  },
  {
   "cell_type": "code",
   "execution_count": 2,
   "metadata": {},
   "outputs": [],
   "source": [
    "# https://habr.com/ru/post/516098/\n",
    "# Corus — коллекция русскоязычных NLP-датасетов\n",
    "# https://github.com/yutkin/Lenta.Ru-News-Dataset/"
   ]
  },
  {
   "cell_type": "markdown",
   "metadata": {},
   "source": [
    "## тексты"
   ]
  },
  {
   "cell_type": "code",
   "execution_count": 3,
   "metadata": {},
   "outputs": [
    {
     "name": "stdout",
     "output_type": "stream",
     "text": [
      "записей: 3196\n"
     ]
    },
    {
     "data": {
      "text/html": [
       "<div>\n",
       "<style scoped>\n",
       "    .dataframe tbody tr th:only-of-type {\n",
       "        vertical-align: middle;\n",
       "    }\n",
       "\n",
       "    .dataframe tbody tr th {\n",
       "        vertical-align: top;\n",
       "    }\n",
       "\n",
       "    .dataframe thead th {\n",
       "        text-align: right;\n",
       "    }\n",
       "</style>\n",
       "<table border=\"1\" class=\"dataframe\">\n",
       "  <thead>\n",
       "    <tr style=\"text-align: right;\">\n",
       "      <th></th>\n",
       "      <th>text</th>\n",
       "      <th>tag</th>\n",
       "    </tr>\n",
       "  </thead>\n",
       "  <tbody>\n",
       "    <tr>\n",
       "      <th>1362</th>\n",
       "      <td>Китайский космонавт рассказал о странном стуке в космосе\\n\\n30 ноября 2016 в 17:49\\n\\n42.TUT.BY\\n\\nКосмонавт Ян Ливэй в последнем интервью центральному китайскому телевидению рассказал о загадочно...</td>\n",
       "      <td>tech</td>\n",
       "    </tr>\n",
       "    <tr>\n",
       "      <th>1057</th>\n",
       "      <td>Вырастут пенсии и цены на сигареты. Что меняется с 1 декабря\\n\\n30 ноября 2016 в 7:00\\n\\nFINANCE.TUT.BY\\n\\nУ пенсионеров появятся лишние примерно 14 рублей, по традиции подорожают сигареты, а забы...</td>\n",
       "      <td>economics</td>\n",
       "    </tr>\n",
       "    <tr>\n",
       "      <th>1111</th>\n",
       "      <td>Первый в Беларуси \"Манекен челлендж\" с маленькими футболистами\\n\\n7 декабря 2016 в 11:16\\n\\nSPORT.TUT.BY\\n\\nПервый в Беларуси «Манекен челлендж» с маленькими футболистами сделал минский мини-футбо...</td>\n",
       "      <td>sport</td>\n",
       "    </tr>\n",
       "    <tr>\n",
       "      <th>2354</th>\n",
       "      <td>По предварительным данным, пенсионерка и двое ее взрослых детей отравились газом\\n\\nВсе материалы сюжета Пожары, ДТП и криминальные события в Ростовской области\\n\\nОбстоятельства гибели трех челов...</td>\n",
       "      <td>incident</td>\n",
       "    </tr>\n",
       "    <tr>\n",
       "      <th>2660</th>\n",
       "      <td>Ученые из Эдинбургского университета (Великобритания) допустили, что в атмосферах коричневых карликов — объектов, занимающих промежуточное положение между звездами и планетами, могут обитать живые...</td>\n",
       "      <td>science</td>\n",
       "    </tr>\n",
       "  </tbody>\n",
       "</table>\n",
       "</div>"
      ],
      "text/plain": [
       "                                                                                                                                                                                                         text  \\\n",
       "1362  Китайский космонавт рассказал о странном стуке в космосе\\n\\n30 ноября 2016 в 17:49\\n\\n42.TUT.BY\\n\\nКосмонавт Ян Ливэй в последнем интервью центральному китайскому телевидению рассказал о загадочно...   \n",
       "1057  Вырастут пенсии и цены на сигареты. Что меняется с 1 декабря\\n\\n30 ноября 2016 в 7:00\\n\\nFINANCE.TUT.BY\\n\\nУ пенсионеров появятся лишние примерно 14 рублей, по традиции подорожают сигареты, а забы...   \n",
       "1111  Первый в Беларуси \"Манекен челлендж\" с маленькими футболистами\\n\\n7 декабря 2016 в 11:16\\n\\nSPORT.TUT.BY\\n\\nПервый в Беларуси «Манекен челлендж» с маленькими футболистами сделал минский мини-футбо...   \n",
       "2354  По предварительным данным, пенсионерка и двое ее взрослых детей отравились газом\\n\\nВсе материалы сюжета Пожары, ДТП и криминальные события в Ростовской области\\n\\nОбстоятельства гибели трех челов...   \n",
       "2660  Ученые из Эдинбургского университета (Великобритания) допустили, что в атмосферах коричневых карликов — объектов, занимающих промежуточное положение между звездами и планетами, могут обитать живые...   \n",
       "\n",
       "            tag  \n",
       "1362       tech  \n",
       "1057  economics  \n",
       "1111      sport  \n",
       "2354   incident  \n",
       "2660    science  "
      ]
     },
     "execution_count": 3,
     "metadata": {},
     "output_type": "execute_result"
    }
   ],
   "source": [
    "# загружаем тексты\n",
    "data = pd.read_pickle('../data/news.pkl.gz')\n",
    "print('записей:',len(data))\n",
    "data.sample(5)"
   ]
  },
  {
   "cell_type": "code",
   "execution_count": 4,
   "metadata": {},
   "outputs": [
    {
     "data": {
      "text/html": [
       "<div>\n",
       "<style scoped>\n",
       "    .dataframe tbody tr th:only-of-type {\n",
       "        vertical-align: middle;\n",
       "    }\n",
       "\n",
       "    .dataframe tbody tr th {\n",
       "        vertical-align: top;\n",
       "    }\n",
       "\n",
       "    .dataframe thead th {\n",
       "        text-align: right;\n",
       "    }\n",
       "</style>\n",
       "<table border=\"1\" class=\"dataframe\">\n",
       "  <thead>\n",
       "    <tr style=\"text-align: right;\">\n",
       "      <th></th>\n",
       "      <th>count</th>\n",
       "      <th>mean</th>\n",
       "      <th>std</th>\n",
       "      <th>min</th>\n",
       "      <th>10%</th>\n",
       "      <th>25%</th>\n",
       "      <th>50%</th>\n",
       "      <th>75%</th>\n",
       "      <th>95%</th>\n",
       "      <th>max</th>\n",
       "    </tr>\n",
       "  </thead>\n",
       "  <tbody>\n",
       "    <tr>\n",
       "      <th>text</th>\n",
       "      <td>3196</td>\n",
       "      <td>1720</td>\n",
       "      <td>2177</td>\n",
       "      <td>25</td>\n",
       "      <td>370</td>\n",
       "      <td>675</td>\n",
       "      <td>1070</td>\n",
       "      <td>1813</td>\n",
       "      <td>5761</td>\n",
       "      <td>30710</td>\n",
       "    </tr>\n",
       "  </tbody>\n",
       "</table>\n",
       "</div>"
      ],
      "text/plain": [
       "      count  mean   std  min  10%  25%   50%   75%   95%    max\n",
       "text   3196  1720  2177   25  370  675  1070  1813  5761  30710"
      ]
     },
     "execution_count": 4,
     "metadata": {},
     "output_type": "execute_result"
    }
   ],
   "source": [
    "# длина строк\n",
    "pd.DataFrame(data['text'].str.len()).describe([.1,.25,.5,.75,.95]).astype(int).T"
   ]
  },
  {
   "cell_type": "code",
   "execution_count": 5,
   "metadata": {},
   "outputs": [
    {
     "data": {
      "text/plain": [
       "13"
      ]
     },
     "execution_count": 5,
     "metadata": {},
     "output_type": "execute_result"
    }
   ],
   "source": [
    "# количество категорий\n",
    "data['tag'].drop_duplicates().count()"
   ]
  },
  {
   "cell_type": "code",
   "execution_count": 6,
   "metadata": {},
   "outputs": [],
   "source": [
    "# собираем словарь из текстов\n",
    "def get_vocabulary(ds):\n",
    "    vcb = [ set(s) for s in ds.tolist() ]\n",
    "    return sorted(set.union(*vcb))"
   ]
  },
  {
   "cell_type": "markdown",
   "metadata": {},
   "source": [
    "## очистка и токенизация "
   ]
  },
  {
   "cell_type": "code",
   "execution_count": 7,
   "metadata": {},
   "outputs": [
    {
     "data": {
      "application/vnd.jupyter.widget-view+json": {
       "model_id": "d80de92083014be7b94b1bad325b519f",
       "version_major": 2,
       "version_minor": 0
      },
      "text/plain": [
       "  0%|          | 0/3196 [00:00<?, ?it/s]"
      ]
     },
     "metadata": {},
     "output_type": "display_data"
    }
   ],
   "source": [
    "# применяет список замен pat к строке s\n",
    "def replace_patterns(s,pat):\n",
    "    if len(pat)<1: return s\n",
    "    return  replace_patterns( re.sub(pat[0][0],pat[0][1],s), pat[1:] )\n",
    "\n",
    "# нормализация текста\n",
    "def string_normalizer(s):\n",
    "    pat = [\n",
    "       [r'ё','е'] # замена ё для унификации\n",
    "       ,[r'</?[a-z]+>',' '] # удаляем xml\n",
    "       ,[r'[^a-zа-я\\- ]+',' '] # оставляем только буквы, пробел и -\n",
    "       ,[r' -\\w+',' '] # удаляем '-й','-тый' и т.п.\n",
    "       ,[r'\\w+- ',' ']\n",
    "       ,[r' +',' '] # удаляем повторы пробелов\n",
    "    ]\n",
    "    return replace_patterns(s.lower(),pat).strip()\n",
    "\n",
    "data['ctext'] = data['text'].progress_apply(string_normalizer)"
   ]
  },
  {
   "cell_type": "code",
   "execution_count": 8,
   "metadata": {},
   "outputs": [
    {
     "data": {
      "application/vnd.jupyter.widget-view+json": {
       "model_id": "9d6c0e042c634c7c8f712ffade4875a6",
       "version_major": 2,
       "version_minor": 0
      },
      "text/plain": [
       "  0%|          | 0/3196 [00:00<?, ?it/s]"
      ]
     },
     "metadata": {},
     "output_type": "display_data"
    }
   ],
   "source": [
    "# разрезаем стоки на слова\n",
    "def tokenize(s): \n",
    "    return [ w for w in s.split(' ') if (len(w)>1) ]\n",
    "\n",
    "data['ctext'] = data['ctext'].progress_apply( tokenize )"
   ]
  },
  {
   "cell_type": "code",
   "execution_count": 9,
   "metadata": {},
   "outputs": [
    {
     "name": "stdout",
     "output_type": "stream",
     "text": [
      "словарь 83094 слов\n"
     ]
    }
   ],
   "source": [
    "vcb =  get_vocabulary( data['ctext'] )\n",
    "print('словарь %i слов'%(len(vcb)))\n",
    "# pd.DataFrame( vcb ).to_csv('voc0.txt',index=False,header=False)"
   ]
  },
  {
   "cell_type": "code",
   "execution_count": 10,
   "metadata": {},
   "outputs": [
    {
     "data": {
      "text/html": [
       "<div>\n",
       "<style scoped>\n",
       "    .dataframe tbody tr th:only-of-type {\n",
       "        vertical-align: middle;\n",
       "    }\n",
       "\n",
       "    .dataframe tbody tr th {\n",
       "        vertical-align: top;\n",
       "    }\n",
       "\n",
       "    .dataframe thead th {\n",
       "        text-align: right;\n",
       "    }\n",
       "</style>\n",
       "<table border=\"1\" class=\"dataframe\">\n",
       "  <thead>\n",
       "    <tr style=\"text-align: right;\">\n",
       "      <th></th>\n",
       "      <th>text</th>\n",
       "      <th>tag</th>\n",
       "      <th>ctext</th>\n",
       "    </tr>\n",
       "  </thead>\n",
       "  <tbody>\n",
       "    <tr>\n",
       "      <th>990</th>\n",
       "      <td>Министр обороны Равков уверил Николая Статкевича в преданности армии белорусскому народу\\n\\n2 декабря 2016 в 15:08\\n\\nTUT.BY\\n\\nБелорусская армия готова защищать суверенитет, независимость, террит...</td>\n",
       "      <td>politics</td>\n",
       "      <td>[министр, обороны, равков, уверил, николая, статкевича, преданности, армии, белорусскому, народу, декабря, tut, by, белорусская, армия, готова, защищать, суверенитет, независимость, территориальну...</td>\n",
       "    </tr>\n",
       "    <tr>\n",
       "      <th>2772</th>\n",
       "      <td>Корпорация Apple добавит второй слот для SIM-карты в новом iPhone. Новый гаджет будет представлен в конце 2017 года, передает Gizmochina со ссылкой на пост в китайской соцсети Weibo.\\n\\nСообщается...</td>\n",
       "      <td>tech</td>\n",
       "      <td>[корпорация, apple, добавит, второй, слот, для, sim-карты, новом, iphone, новый, гаджет, будет, представлен, конце, года, передает, gizmochina, со, ссылкой, на, пост, китайской, соцсети, weibo, со...</td>\n",
       "    </tr>\n",
       "    <tr>\n",
       "      <th>2014</th>\n",
       "      <td>(обновлено 10:04 13.12.2016 )\\n\\nМОСКВА, 13 дек - Р-Спорт. Южнокорейские скелетонисты намерены бойкотировать чемпионат мира-2017 по бобслею и скелетону в Сочи из-за допингового скандала, сообщает ...</td>\n",
       "      <td>sport</td>\n",
       "      <td>[обновлено, москва, дек, р-спорт, южнокорейские, скелетонисты, намерены, бойкотировать, чемпионат, по, бобслею, скелетону, сочи, из-за, допингового, скандала, сообщает, агентство, ренхап, со, ссыл...</td>\n",
       "    </tr>\n",
       "  </tbody>\n",
       "</table>\n",
       "</div>"
      ],
      "text/plain": [
       "                                                                                                                                                                                                         text  \\\n",
       "990   Министр обороны Равков уверил Николая Статкевича в преданности армии белорусскому народу\\n\\n2 декабря 2016 в 15:08\\n\\nTUT.BY\\n\\nБелорусская армия готова защищать суверенитет, независимость, террит...   \n",
       "2772  Корпорация Apple добавит второй слот для SIM-карты в новом iPhone. Новый гаджет будет представлен в конце 2017 года, передает Gizmochina со ссылкой на пост в китайской соцсети Weibo.\\n\\nСообщается...   \n",
       "2014  (обновлено 10:04 13.12.2016 )\\n\\nМОСКВА, 13 дек - Р-Спорт. Южнокорейские скелетонисты намерены бойкотировать чемпионат мира-2017 по бобслею и скелетону в Сочи из-за допингового скандала, сообщает ...   \n",
       "\n",
       "           tag  \\\n",
       "990   politics   \n",
       "2772      tech   \n",
       "2014     sport   \n",
       "\n",
       "                                                                                                                                                                                                        ctext  \n",
       "990   [министр, обороны, равков, уверил, николая, статкевича, преданности, армии, белорусскому, народу, декабря, tut, by, белорусская, армия, готова, защищать, суверенитет, независимость, территориальну...  \n",
       "2772  [корпорация, apple, добавит, второй, слот, для, sim-карты, новом, iphone, новый, гаджет, будет, представлен, конце, года, передает, gizmochina, со, ссылкой, на, пост, китайской, соцсети, weibo, со...  \n",
       "2014  [обновлено, москва, дек, р-спорт, южнокорейские, скелетонисты, намерены, бойкотировать, чемпионат, по, бобслею, скелетону, сочи, из-за, допингового, скандала, сообщает, агентство, ренхап, со, ссыл...  "
      ]
     },
     "execution_count": 10,
     "metadata": {},
     "output_type": "execute_result"
    }
   ],
   "source": [
    "data.sample(3)"
   ]
  },
  {
   "cell_type": "markdown",
   "metadata": {},
   "source": [
    "## стеминг"
   ]
  },
  {
   "cell_type": "code",
   "execution_count": 11,
   "metadata": {},
   "outputs": [],
   "source": [
    "from nltk.stem.snowball import SnowballStemmer\n",
    "from nltk.corpus import stopwords as nltk_stopwords\n",
    "# from nltk import download as nltk_download\n",
    "# nltk_download('stopwords')\n",
    "\n",
    "stopwords = set(nltk_stopwords.words('russian'))\n",
    "stemmer = SnowballStemmer('russian')\n",
    "\n",
    "# выкидываем stopwords, выполняем стеминг\n",
    "def stem(s): \n",
    "    return [ stemmer.stem(w) for w in s if w not in stopwords ]"
   ]
  },
  {
   "cell_type": "code",
   "execution_count": 12,
   "metadata": {},
   "outputs": [
    {
     "data": {
      "application/vnd.jupyter.widget-view+json": {
       "model_id": "61b29adbf32e4a0ea89cd1e2ab95476d",
       "version_major": 2,
       "version_minor": 0
      },
      "text/plain": [
       "  0%|          | 0/3196 [00:00<?, ?it/s]"
      ]
     },
     "metadata": {},
     "output_type": "display_data"
    }
   ],
   "source": [
    "data['ctext'] = data['ctext'].progress_apply( stem )"
   ]
  },
  {
   "cell_type": "code",
   "execution_count": 13,
   "metadata": {},
   "outputs": [
    {
     "name": "stdout",
     "output_type": "stream",
     "text": [
      "словарь 36381 слов\n"
     ]
    }
   ],
   "source": [
    "vcb =  get_vocabulary( data['ctext'] )\n",
    "print('словарь %i слов'%(len(vcb)))\n",
    "# pd.DataFrame( vcb ).to_csv('voc1.txt',index=False,header=False)"
   ]
  },
  {
   "cell_type": "code",
   "execution_count": 14,
   "metadata": {},
   "outputs": [
    {
     "data": {
      "text/html": [
       "<div>\n",
       "<style scoped>\n",
       "    .dataframe tbody tr th:only-of-type {\n",
       "        vertical-align: middle;\n",
       "    }\n",
       "\n",
       "    .dataframe tbody tr th {\n",
       "        vertical-align: top;\n",
       "    }\n",
       "\n",
       "    .dataframe thead th {\n",
       "        text-align: right;\n",
       "    }\n",
       "</style>\n",
       "<table border=\"1\" class=\"dataframe\">\n",
       "  <thead>\n",
       "    <tr style=\"text-align: right;\">\n",
       "      <th></th>\n",
       "      <th>text</th>\n",
       "      <th>tag</th>\n",
       "      <th>ctext</th>\n",
       "    </tr>\n",
       "  </thead>\n",
       "  <tbody>\n",
       "    <tr>\n",
       "      <th>1110</th>\n",
       "      <td>Слуцкий после увольнения из ЦСКА отправится в Антарктиду\\n\\n7 декабря 2016 в 11:27\\n\\nСоветский спорт\\n\\nФото: Александр Федоров, «Спорт-Экспресс»\\n\\nКак стало известно «Советскому спорту», Леонид...</td>\n",
       "      <td>sport</td>\n",
       "      <td>[слуцк, увольнен, цска, отправ, антарктид, декабр, советск, спорт, фот, александр, федор, спорт-экспресс, стал, известн, советск, спорт, леонид, слуцк, котор, матч, тоттенхэм, покинет, пост, главн...</td>\n",
       "    </tr>\n",
       "    <tr>\n",
       "      <th>256</th>\n",
       "      <td>Джордж Майкл последует примеру Элтона Джона Джордж Майкл сообщил, что он\\nготов воспользоваться поправкой британского законодательства и\\nзарегистрировать брак со своим давним партером Кенни Джосс...</td>\n",
       "      <td>culture</td>\n",
       "      <td>[джордж, майкл, послед, пример, элтон, джон, джордж, майкл, сообщ, гот, воспользова, поправк, британск, законодательств, зарегистрирова, брак, сво, давн, партер, кен, джосс, напомн, декабр, сексуа...</td>\n",
       "    </tr>\n",
       "    <tr>\n",
       "      <th>227</th>\n",
       "      <td>Екатеринбурженка делает из кожи картины Ван Гога и Пикассо Жительница\\nЕкатеринбурга Ираида Горячих из кусочков кожи делает репродукции картин\\nизвестных художников, таких как Пабло Пикассо, Канди...</td>\n",
       "      <td>culture</td>\n",
       "      <td>[екатеринбурженк, дела, кож, картин, ван, гог, пикасс, жительниц, екатеринбург, ираид, горяч, кусочк, кож, дела, репродукц, картин, известн, художник, так, пабл, пикасс, кандинск, винсент, ван, гог]</td>\n",
       "    </tr>\n",
       "  </tbody>\n",
       "</table>\n",
       "</div>"
      ],
      "text/plain": [
       "                                                                                                                                                                                                         text  \\\n",
       "1110  Слуцкий после увольнения из ЦСКА отправится в Антарктиду\\n\\n7 декабря 2016 в 11:27\\n\\nСоветский спорт\\n\\nФото: Александр Федоров, «Спорт-Экспресс»\\n\\nКак стало известно «Советскому спорту», Леонид...   \n",
       "256   Джордж Майкл последует примеру Элтона Джона Джордж Майкл сообщил, что он\\nготов воспользоваться поправкой британского законодательства и\\nзарегистрировать брак со своим давним партером Кенни Джосс...   \n",
       "227   Екатеринбурженка делает из кожи картины Ван Гога и Пикассо Жительница\\nЕкатеринбурга Ираида Горячих из кусочков кожи делает репродукции картин\\nизвестных художников, таких как Пабло Пикассо, Канди...   \n",
       "\n",
       "          tag  \\\n",
       "1110    sport   \n",
       "256   culture   \n",
       "227   culture   \n",
       "\n",
       "                                                                                                                                                                                                        ctext  \n",
       "1110  [слуцк, увольнен, цска, отправ, антарктид, декабр, советск, спорт, фот, александр, федор, спорт-экспресс, стал, известн, советск, спорт, леонид, слуцк, котор, матч, тоттенхэм, покинет, пост, главн...  \n",
       "256   [джордж, майкл, послед, пример, элтон, джон, джордж, майкл, сообщ, гот, воспользова, поправк, британск, законодательств, зарегистрирова, брак, сво, давн, партер, кен, джосс, напомн, декабр, сексуа...  \n",
       "227    [екатеринбурженк, дела, кож, картин, ван, гог, пикасс, жительниц, екатеринбург, ираид, горяч, кусочк, кож, дела, репродукц, картин, известн, художник, так, пабл, пикасс, кандинск, винсент, ван, гог]  "
      ]
     },
     "execution_count": 14,
     "metadata": {},
     "output_type": "execute_result"
    }
   ],
   "source": [
    "data.sample(3)"
   ]
  }
 ],
 "metadata": {
  "kernelspec": {
   "display_name": "Python 3 (ipykernel)",
   "language": "python",
   "name": "python3"
  },
  "language_info": {
   "codemirror_mode": {
    "name": "ipython",
    "version": 3
   },
   "file_extension": ".py",
   "mimetype": "text/x-python",
   "name": "python",
   "nbconvert_exporter": "python",
   "pygments_lexer": "ipython3",
   "version": "3.8.9"
  },
  "toc": {
   "base_numbering": 1,
   "nav_menu": {},
   "number_sections": true,
   "sideBar": true,
   "skip_h1_title": false,
   "title_cell": "Table of Contents",
   "title_sidebar": "Contents",
   "toc_cell": false,
   "toc_position": {},
   "toc_section_display": true,
   "toc_window_display": false
  }
 },
 "nbformat": 4,
 "nbformat_minor": 2
}
