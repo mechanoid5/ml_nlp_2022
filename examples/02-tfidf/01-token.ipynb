{
 "cells": [
  {
   "cell_type": "markdown",
   "metadata": {},
   "source": [
    "**извлечение признаков из текста на естественном языке**\n",
    "\n",
    "очистка текста и токенизация\n",
    "\n",
    "_Евгений Борисов <esborisov@sevsu.ru>_"
   ]
  },
  {
   "cell_type": "markdown",
   "metadata": {},
   "source": [
    "## библиотеки"
   ]
  },
  {
   "cell_type": "code",
   "execution_count": 1,
   "metadata": {},
   "outputs": [],
   "source": [
    "import re\n",
    "# import numpy as np\n",
    "# import numpy.random as rng\n",
    "import pandas as pd\n",
    "# from tqdm import tqdm\n",
    "from tqdm.notebook import tqdm\n",
    "\n",
    "# np.set_printoptions(precision=2) # вывод на печать чисел до 2 знака\n",
    "pd.options.display.max_colwidth = 200 \n",
    "\n",
    "tqdm.pandas()"
   ]
  },
  {
   "cell_type": "markdown",
   "metadata": {},
   "source": [
    "## тексты"
   ]
  },
  {
   "cell_type": "code",
   "execution_count": 2,
   "metadata": {},
   "outputs": [
    {
     "name": "stdout",
     "output_type": "stream",
     "text": [
      "записей: 3196\n"
     ]
    },
    {
     "data": {
      "text/html": [
       "<div>\n",
       "<style scoped>\n",
       "    .dataframe tbody tr th:only-of-type {\n",
       "        vertical-align: middle;\n",
       "    }\n",
       "\n",
       "    .dataframe tbody tr th {\n",
       "        vertical-align: top;\n",
       "    }\n",
       "\n",
       "    .dataframe thead th {\n",
       "        text-align: right;\n",
       "    }\n",
       "</style>\n",
       "<table border=\"1\" class=\"dataframe\">\n",
       "  <thead>\n",
       "    <tr style=\"text-align: right;\">\n",
       "      <th></th>\n",
       "      <th>text</th>\n",
       "      <th>tag</th>\n",
       "    </tr>\n",
       "  </thead>\n",
       "  <tbody>\n",
       "    <tr>\n",
       "      <th>3103</th>\n",
       "      <td>СеверИнфо (severinfo.ru) (Вологда) Тундра в ожидании праздника Приближается\\nглавный праздник тундры - День Оленя. О подготовке к нему пишет окружная\\nгазета ?Няръяна вындер?. Немногие праздники с...</td>\n",
       "      <td>social</td>\n",
       "    </tr>\n",
       "    <tr>\n",
       "      <th>434</th>\n",
       "      <td>Коалиция США нанесла удары по госпиталю в Мосуле\\n\\n8 декабря 2016 в 9:01\\n\\nLenta.ru\\n\\nВозглавляемая США коалиция нанесла удары по госпиталю в Мосуле, который использовали боевики «Исламского го...</td>\n",
       "      <td>politics</td>\n",
       "    </tr>\n",
       "    <tr>\n",
       "      <th>677</th>\n",
       "      <td>Компетентное мнение о среднем образовании на английском языке\\n\\n28 ноября 2016 в 9:00\\n\\n*На правах рекламы\\n\\nО чем говорим:\\n\\n— В каких странах могут учиться белорусские дети\\n\\n— Дорого и оче...</td>\n",
       "      <td>reclama</td>\n",
       "    </tr>\n",
       "    <tr>\n",
       "      <th>1902</th>\n",
       "      <td>Ковентри (Великобритания), 13 декабря. Британские астрономы открыли экзопланету HAT-P-7 b. В атмосфере небесного тела есть облака из корунда — минерала, разновидностями которого являются рубин и с...</td>\n",
       "      <td>science</td>\n",
       "    </tr>\n",
       "    <tr>\n",
       "      <th>2374</th>\n",
       "      <td>Водитель оставил машину и скрылся с места происшествия.\\n\\nНа западе Москвы, в районе Раменки, водитель автомобиля Mercedes совершил наезд на двух школьниц. Об этом во вторник, 13 декабря, сообщил...</td>\n",
       "      <td>incident</td>\n",
       "    </tr>\n",
       "  </tbody>\n",
       "</table>\n",
       "</div>"
      ],
      "text/plain": [
       "                                                                                                                                                                                                         text  \\\n",
       "3103  СеверИнфо (severinfo.ru) (Вологда) Тундра в ожидании праздника Приближается\\nглавный праздник тундры - День Оленя. О подготовке к нему пишет окружная\\nгазета ?Няръяна вындер?. Немногие праздники с...   \n",
       "434   Коалиция США нанесла удары по госпиталю в Мосуле\\n\\n8 декабря 2016 в 9:01\\n\\nLenta.ru\\n\\nВозглавляемая США коалиция нанесла удары по госпиталю в Мосуле, который использовали боевики «Исламского го...   \n",
       "677   Компетентное мнение о среднем образовании на английском языке\\n\\n28 ноября 2016 в 9:00\\n\\n*На правах рекламы\\n\\nО чем говорим:\\n\\n— В каких странах могут учиться белорусские дети\\n\\n— Дорого и оче...   \n",
       "1902  Ковентри (Великобритания), 13 декабря. Британские астрономы открыли экзопланету HAT-P-7 b. В атмосфере небесного тела есть облака из корунда — минерала, разновидностями которого являются рубин и с...   \n",
       "2374  Водитель оставил машину и скрылся с места происшествия.\\n\\nНа западе Москвы, в районе Раменки, водитель автомобиля Mercedes совершил наезд на двух школьниц. Об этом во вторник, 13 декабря, сообщил...   \n",
       "\n",
       "           tag  \n",
       "3103    social  \n",
       "434   politics  \n",
       "677    reclama  \n",
       "1902   science  \n",
       "2374  incident  "
      ]
     },
     "execution_count": 2,
     "metadata": {},
     "output_type": "execute_result"
    }
   ],
   "source": [
    "# загружаем тексты\n",
    "data = pd.read_pickle('../data/news.pkl.gz')\n",
    "print('записей:',len(data))\n",
    "data.sample(5)"
   ]
  },
  {
   "cell_type": "code",
   "execution_count": 3,
   "metadata": {},
   "outputs": [
    {
     "data": {
      "text/html": [
       "<div>\n",
       "<style scoped>\n",
       "    .dataframe tbody tr th:only-of-type {\n",
       "        vertical-align: middle;\n",
       "    }\n",
       "\n",
       "    .dataframe tbody tr th {\n",
       "        vertical-align: top;\n",
       "    }\n",
       "\n",
       "    .dataframe thead th {\n",
       "        text-align: right;\n",
       "    }\n",
       "</style>\n",
       "<table border=\"1\" class=\"dataframe\">\n",
       "  <thead>\n",
       "    <tr style=\"text-align: right;\">\n",
       "      <th></th>\n",
       "      <th>count</th>\n",
       "      <th>mean</th>\n",
       "      <th>std</th>\n",
       "      <th>min</th>\n",
       "      <th>10%</th>\n",
       "      <th>25%</th>\n",
       "      <th>50%</th>\n",
       "      <th>75%</th>\n",
       "      <th>95%</th>\n",
       "      <th>max</th>\n",
       "    </tr>\n",
       "  </thead>\n",
       "  <tbody>\n",
       "    <tr>\n",
       "      <th>text</th>\n",
       "      <td>3196</td>\n",
       "      <td>1720</td>\n",
       "      <td>2177</td>\n",
       "      <td>25</td>\n",
       "      <td>370</td>\n",
       "      <td>675</td>\n",
       "      <td>1070</td>\n",
       "      <td>1813</td>\n",
       "      <td>5761</td>\n",
       "      <td>30710</td>\n",
       "    </tr>\n",
       "  </tbody>\n",
       "</table>\n",
       "</div>"
      ],
      "text/plain": [
       "      count  mean   std  min  10%  25%   50%   75%   95%    max\n",
       "text   3196  1720  2177   25  370  675  1070  1813  5761  30710"
      ]
     },
     "execution_count": 3,
     "metadata": {},
     "output_type": "execute_result"
    }
   ],
   "source": [
    "# длина строк\n",
    "pd.DataFrame(data['text'].str.len()).describe([.1,.25,.5,.75,.95]).astype(int).T"
   ]
  },
  {
   "cell_type": "code",
   "execution_count": 4,
   "metadata": {},
   "outputs": [
    {
     "data": {
      "text/plain": [
       "13"
      ]
     },
     "execution_count": 4,
     "metadata": {},
     "output_type": "execute_result"
    }
   ],
   "source": [
    "# количество категорий\n",
    "data['tag'].drop_duplicates().count()"
   ]
  },
  {
   "cell_type": "code",
   "execution_count": 5,
   "metadata": {},
   "outputs": [],
   "source": [
    "# собираем словарь из текстов\n",
    "def get_vocabulary(ds):\n",
    "    vcb = [ set(s) for s in ds.tolist() ]\n",
    "    return sorted(set.union(*vcb))"
   ]
  },
  {
   "cell_type": "markdown",
   "metadata": {},
   "source": [
    "## очистка и токенизация "
   ]
  },
  {
   "cell_type": "code",
   "execution_count": 6,
   "metadata": {},
   "outputs": [
    {
     "data": {
      "application/vnd.jupyter.widget-view+json": {
       "model_id": "07ced734c7624c75864866a958f27ed2",
       "version_major": 2,
       "version_minor": 0
      },
      "text/plain": [
       "  0%|          | 0/3196 [00:00<?, ?it/s]"
      ]
     },
     "metadata": {},
     "output_type": "display_data"
    }
   ],
   "source": [
    "# применяет список замен pat к строке s\n",
    "def replace_patterns(s,pat):\n",
    "    if len(pat)<1: return s\n",
    "    return  replace_patterns( re.sub(pat[0][0],pat[0][1],s), pat[1:] )\n",
    "\n",
    "# нормализация текста\n",
    "def string_normalizer(s):\n",
    "    pat = [\n",
    "       [r'ё','е'] # замена ё для унификации\n",
    "       ,[r'</?[a-z]+>',' '] # удаляем xml\n",
    "       ,[r'[^a-zа-я\\- ]+',' '] # оставляем только буквы, пробел и -\n",
    "       ,[r' -\\w+',' '] # удаляем '-й','-тый' и т.п.\n",
    "       ,[r'\\w+- ',' ']\n",
    "       ,[r' +',' '] # удаляем повторы пробелов\n",
    "    ]\n",
    "    return replace_patterns(s.lower(),pat).strip()\n",
    "\n",
    "data['ctext'] = data['text'].progress_apply(string_normalizer)"
   ]
  },
  {
   "cell_type": "code",
   "execution_count": 7,
   "metadata": {},
   "outputs": [
    {
     "data": {
      "application/vnd.jupyter.widget-view+json": {
       "model_id": "2cf8dc87514f4a5b8badadb016b976ac",
       "version_major": 2,
       "version_minor": 0
      },
      "text/plain": [
       "  0%|          | 0/3196 [00:00<?, ?it/s]"
      ]
     },
     "metadata": {},
     "output_type": "display_data"
    }
   ],
   "source": [
    "# разрезаем стоки на слова\n",
    "def tokenize(s): \n",
    "    return [ w for w in s.split(' ') if (len(w)>1) ]\n",
    "\n",
    "data['ctext'] = data['ctext'].progress_apply( tokenize )"
   ]
  },
  {
   "cell_type": "code",
   "execution_count": 8,
   "metadata": {},
   "outputs": [
    {
     "name": "stdout",
     "output_type": "stream",
     "text": [
      "словарь 83094 слов\n"
     ]
    }
   ],
   "source": [
    "vcb =  get_vocabulary( data['ctext'] )\n",
    "print('словарь %i слов'%(len(vcb)))\n",
    "# pd.DataFrame( vcb ).to_csv('voc0.txt',index=False,header=False)"
   ]
  },
  {
   "cell_type": "code",
   "execution_count": 9,
   "metadata": {},
   "outputs": [
    {
     "data": {
      "text/html": [
       "<div>\n",
       "<style scoped>\n",
       "    .dataframe tbody tr th:only-of-type {\n",
       "        vertical-align: middle;\n",
       "    }\n",
       "\n",
       "    .dataframe tbody tr th {\n",
       "        vertical-align: top;\n",
       "    }\n",
       "\n",
       "    .dataframe thead th {\n",
       "        text-align: right;\n",
       "    }\n",
       "</style>\n",
       "<table border=\"1\" class=\"dataframe\">\n",
       "  <thead>\n",
       "    <tr style=\"text-align: right;\">\n",
       "      <th></th>\n",
       "      <th>text</th>\n",
       "      <th>tag</th>\n",
       "      <th>ctext</th>\n",
       "    </tr>\n",
       "  </thead>\n",
       "  <tbody>\n",
       "    <tr>\n",
       "      <th>2587</th>\n",
       "      <td>Полная Луна помешает москвичам увидеть в декабре самый красивый звездопад северного полушария Земли - Геминиды, сообщает пресс-служба Московского планетария.\\n\\n«С 4 по 17 декабря на ночном небе н...</td>\n",
       "      <td>science</td>\n",
       "      <td>[полная, луна, помешает, москвичам, увидеть, декабре, самый, красивый, звездопад, северного, полушария, земли, геминиды, сообщает, пресс-служба, московского, планетария, по, декабря, на, ночном, н...</td>\n",
       "    </tr>\n",
       "    <tr>\n",
       "      <th>835</th>\n",
       "      <td>Новоселы в Гродненском зоопарке: обезьянки-вегетарианцы, сова-сипуха и маленькая альпака\\n\\n30 ноября 2016 в 9:27\\n\\nTUT.BY / Фото: Игорь Ремзик\\n\\nДвух обезьянок необычной окраски зоопарк приобре...</td>\n",
       "      <td>social</td>\n",
       "      <td>[новоселы, гродненском, зоопарке, обезьянки-вегетарианцы, сова-сипуха, маленькая, альпака, ноября, tut, by, фото, игорь, ремзик, двух, обезьянок, необычной, окраски, зоопарк, приобрел, калининград...</td>\n",
       "    </tr>\n",
       "    <tr>\n",
       "      <th>2281</th>\n",
       "      <td>В связи с неблагоприятными погодными условиями сотрудники ГИБДД приняли решение перекрыть движение по автомагистрали Кемерово – Ленинск-Кузнецкий в обоих направлениях. Временное перекрытие сделано...</td>\n",
       "      <td>incident</td>\n",
       "      <td>[связи, неблагоприятными, погодными, условиями, сотрудники, гибдд, приняли, решение, перекрыть, движение, по, автомагистрали, кемерово, ленинск-кузнецкий, обоих, направлениях, временное, перекрыти...</td>\n",
       "    </tr>\n",
       "  </tbody>\n",
       "</table>\n",
       "</div>"
      ],
      "text/plain": [
       "                                                                                                                                                                                                         text  \\\n",
       "2587  Полная Луна помешает москвичам увидеть в декабре самый красивый звездопад северного полушария Земли - Геминиды, сообщает пресс-служба Московского планетария.\\n\\n«С 4 по 17 декабря на ночном небе н...   \n",
       "835   Новоселы в Гродненском зоопарке: обезьянки-вегетарианцы, сова-сипуха и маленькая альпака\\n\\n30 ноября 2016 в 9:27\\n\\nTUT.BY / Фото: Игорь Ремзик\\n\\nДвух обезьянок необычной окраски зоопарк приобре...   \n",
       "2281  В связи с неблагоприятными погодными условиями сотрудники ГИБДД приняли решение перекрыть движение по автомагистрали Кемерово – Ленинск-Кузнецкий в обоих направлениях. Временное перекрытие сделано...   \n",
       "\n",
       "           tag  \\\n",
       "2587   science   \n",
       "835     social   \n",
       "2281  incident   \n",
       "\n",
       "                                                                                                                                                                                                        ctext  \n",
       "2587  [полная, луна, помешает, москвичам, увидеть, декабре, самый, красивый, звездопад, северного, полушария, земли, геминиды, сообщает, пресс-служба, московского, планетария, по, декабря, на, ночном, н...  \n",
       "835   [новоселы, гродненском, зоопарке, обезьянки-вегетарианцы, сова-сипуха, маленькая, альпака, ноября, tut, by, фото, игорь, ремзик, двух, обезьянок, необычной, окраски, зоопарк, приобрел, калининград...  \n",
       "2281  [связи, неблагоприятными, погодными, условиями, сотрудники, гибдд, приняли, решение, перекрыть, движение, по, автомагистрали, кемерово, ленинск-кузнецкий, обоих, направлениях, временное, перекрыти...  "
      ]
     },
     "execution_count": 9,
     "metadata": {},
     "output_type": "execute_result"
    }
   ],
   "source": [
    "data.sample(3)"
   ]
  },
  {
   "cell_type": "markdown",
   "metadata": {},
   "source": [
    "## стеминг"
   ]
  },
  {
   "cell_type": "code",
   "execution_count": 10,
   "metadata": {},
   "outputs": [],
   "source": [
    "from nltk.stem.snowball import SnowballStemmer\n",
    "from nltk.corpus import stopwords as nltk_stopwords\n",
    "# from nltk import download as nltk_download\n",
    "# nltk_download('stopwords')\n",
    "\n",
    "stopwords = set(nltk_stopwords.words('russian'))\n",
    "stemmer = SnowballStemmer('russian')\n",
    "\n",
    "# выкидываем stopwords, выполняем стеминг\n",
    "def stem(s): \n",
    "    return [ stemmer.stem(w) for w in s if w not in stopwords ]"
   ]
  },
  {
   "cell_type": "code",
   "execution_count": 11,
   "metadata": {},
   "outputs": [
    {
     "data": {
      "application/vnd.jupyter.widget-view+json": {
       "model_id": "fe300f9c2f4549cbbdfcd35fcb60ca6d",
       "version_major": 2,
       "version_minor": 0
      },
      "text/plain": [
       "  0%|          | 0/3196 [00:00<?, ?it/s]"
      ]
     },
     "metadata": {},
     "output_type": "display_data"
    }
   ],
   "source": [
    "data['ctext'] = data['ctext'].progress_apply( stem )"
   ]
  },
  {
   "cell_type": "code",
   "execution_count": 12,
   "metadata": {},
   "outputs": [
    {
     "name": "stdout",
     "output_type": "stream",
     "text": [
      "словарь 36381 слов\n"
     ]
    }
   ],
   "source": [
    "vcb =  get_vocabulary( data['ctext'] )\n",
    "print('словарь %i слов'%(len(vcb)))\n",
    "# pd.DataFrame( vcb ).to_csv('voc1.txt',index=False,header=False)"
   ]
  },
  {
   "cell_type": "code",
   "execution_count": 13,
   "metadata": {},
   "outputs": [
    {
     "data": {
      "text/html": [
       "<div>\n",
       "<style scoped>\n",
       "    .dataframe tbody tr th:only-of-type {\n",
       "        vertical-align: middle;\n",
       "    }\n",
       "\n",
       "    .dataframe tbody tr th {\n",
       "        vertical-align: top;\n",
       "    }\n",
       "\n",
       "    .dataframe thead th {\n",
       "        text-align: right;\n",
       "    }\n",
       "</style>\n",
       "<table border=\"1\" class=\"dataframe\">\n",
       "  <thead>\n",
       "    <tr style=\"text-align: right;\">\n",
       "      <th></th>\n",
       "      <th>text</th>\n",
       "      <th>tag</th>\n",
       "      <th>ctext</th>\n",
       "    </tr>\n",
       "  </thead>\n",
       "  <tbody>\n",
       "    <tr>\n",
       "      <th>1831</th>\n",
       "      <td>Иран и Россия подписали в Тегеране меморандум о сотрудничестве в области нефти и энергетики. Документ, состоящий из 23 пунктов, был подписан в понедельник при участии заместителя министра энергети...</td>\n",
       "      <td>economics</td>\n",
       "      <td>[ира, росс, подписа, тегеран, меморандум, сотрудничеств, област, нефт, энергетик, документ, состоя, пункт, подписа, понедельник, участ, заместител, министр, энергетик, росс, кирилл, молодцов, замм...</td>\n",
       "    </tr>\n",
       "    <tr>\n",
       "      <th>2874</th>\n",
       "      <td>Корейский автопроизводитель планировал начать продажи нового Tivoli в России ещё в ноябре, но уже прошла половина декабря, а официальных новостей о новинке по-прежнему нет.\\n\\nВ российской пресс-с...</td>\n",
       "      <td>auto</td>\n",
       "      <td>[корейск, автопроизводител, планирова, нача, продаж, нов, tivoli, росс, ноябр, прошл, половин, декабр, официальн, новост, новинк, по-прежн, российск, пресс-служб, ssangyong, никак, информац, эт, в...</td>\n",
       "    </tr>\n",
       "    <tr>\n",
       "      <th>1542</th>\n",
       "      <td>\"Сотрудниками Главного управления экономической безопасности и противодействия коррупции МВД России совместно с ГУ МВД России по г. Москве, при содействии Минздрава России выявлена схема хищения б...</td>\n",
       "      <td>incident</td>\n",
       "      <td>[сотрудник, главн, управлен, экономическ, безопасн, противодейств, коррупц, мвд, росс, совместн, гу, мвд, росс, москв, содейств, минздрав, росс, выявл, схем, хищен, бюджетн, денежн, средств, выдел...</td>\n",
       "    </tr>\n",
       "  </tbody>\n",
       "</table>\n",
       "</div>"
      ],
      "text/plain": [
       "                                                                                                                                                                                                         text  \\\n",
       "1831  Иран и Россия подписали в Тегеране меморандум о сотрудничестве в области нефти и энергетики. Документ, состоящий из 23 пунктов, был подписан в понедельник при участии заместителя министра энергети...   \n",
       "2874  Корейский автопроизводитель планировал начать продажи нового Tivoli в России ещё в ноябре, но уже прошла половина декабря, а официальных новостей о новинке по-прежнему нет.\\n\\nВ российской пресс-с...   \n",
       "1542  \"Сотрудниками Главного управления экономической безопасности и противодействия коррупции МВД России совместно с ГУ МВД России по г. Москве, при содействии Минздрава России выявлена схема хищения б...   \n",
       "\n",
       "            tag  \\\n",
       "1831  economics   \n",
       "2874       auto   \n",
       "1542   incident   \n",
       "\n",
       "                                                                                                                                                                                                        ctext  \n",
       "1831  [ира, росс, подписа, тегеран, меморандум, сотрудничеств, област, нефт, энергетик, документ, состоя, пункт, подписа, понедельник, участ, заместител, министр, энергетик, росс, кирилл, молодцов, замм...  \n",
       "2874  [корейск, автопроизводител, планирова, нача, продаж, нов, tivoli, росс, ноябр, прошл, половин, декабр, официальн, новост, новинк, по-прежн, российск, пресс-служб, ssangyong, никак, информац, эт, в...  \n",
       "1542  [сотрудник, главн, управлен, экономическ, безопасн, противодейств, коррупц, мвд, росс, совместн, гу, мвд, росс, москв, содейств, минздрав, росс, выявл, схем, хищен, бюджетн, денежн, средств, выдел...  "
      ]
     },
     "execution_count": 13,
     "metadata": {},
     "output_type": "execute_result"
    }
   ],
   "source": [
    "data.sample(3)"
   ]
  }
 ],
 "metadata": {
  "kernelspec": {
   "display_name": "Python 3 (ipykernel)",
   "language": "python",
   "name": "python3"
  },
  "language_info": {
   "codemirror_mode": {
    "name": "ipython",
    "version": 3
   },
   "file_extension": ".py",
   "mimetype": "text/x-python",
   "name": "python",
   "nbconvert_exporter": "python",
   "pygments_lexer": "ipython3",
   "version": "3.8.9"
  },
  "toc": {
   "base_numbering": 1,
   "nav_menu": {},
   "number_sections": true,
   "sideBar": true,
   "skip_h1_title": false,
   "title_cell": "Table of Contents",
   "title_sidebar": "Contents",
   "toc_cell": false,
   "toc_position": {},
   "toc_section_display": true,
   "toc_window_display": false
  }
 },
 "nbformat": 4,
 "nbformat_minor": 2
}
