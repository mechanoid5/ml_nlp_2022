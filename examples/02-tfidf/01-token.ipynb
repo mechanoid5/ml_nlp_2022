{
 "cells": [
  {
   "cell_type": "markdown",
   "metadata": {},
   "source": [
    "**извлечение признаков из текста на естественном языке**\n",
    "\n",
    "очистка текста и токенизация\n",
    "\n",
    "Евгений Борисов borisov.e@solarl.ru"
   ]
  },
  {
   "cell_type": "markdown",
   "metadata": {},
   "source": [
    "## библиотеки"
   ]
  },
  {
   "cell_type": "code",
   "execution_count": 1,
   "metadata": {},
   "outputs": [],
   "source": [
    "import re\n",
    "# import numpy as np\n",
    "# import numpy.random as rng\n",
    "import pandas as pd\n",
    "from tqdm import tqdm\n",
    "\n",
    "# np.set_printoptions(precision=2) # вывод на печать чисел до 2 знака\n",
    "pd.options.display.max_colwidth = 200 \n",
    "\n",
    "tqdm.pandas()"
   ]
  },
  {
   "cell_type": "markdown",
   "metadata": {},
   "source": [
    "## тексты"
   ]
  },
  {
   "cell_type": "code",
   "execution_count": 2,
   "metadata": {},
   "outputs": [
    {
     "name": "stdout",
     "output_type": "stream",
     "text": [
      "записей: 3196\n"
     ]
    },
    {
     "data": {
      "text/html": [
       "<div>\n",
       "<style scoped>\n",
       "    .dataframe tbody tr th:only-of-type {\n",
       "        vertical-align: middle;\n",
       "    }\n",
       "\n",
       "    .dataframe tbody tr th {\n",
       "        vertical-align: top;\n",
       "    }\n",
       "\n",
       "    .dataframe thead th {\n",
       "        text-align: right;\n",
       "    }\n",
       "</style>\n",
       "<table border=\"1\" class=\"dataframe\">\n",
       "  <thead>\n",
       "    <tr style=\"text-align: right;\">\n",
       "      <th></th>\n",
       "      <th>text</th>\n",
       "      <th>tag</th>\n",
       "    </tr>\n",
       "  </thead>\n",
       "  <tbody>\n",
       "    <tr>\n",
       "      <th>1693</th>\n",
       "      <td>Управление Директора национальной разведки США (ODNI)отказалось поддержать версию, ранее выдвинутую ЦРУ, о том, что Россия якобы проводила хакерские атаки, чтобы помочь республиканцу Дональду Трам...</td>\n",
       "      <td>politics</td>\n",
       "    </tr>\n",
       "    <tr>\n",
       "      <th>2746</th>\n",
       "      <td>АО «Гознак» будет изготавливать денежные купюры с прозрачными участками для повышения безопасности от подделки. Отмечается, что в данных Роспатента, информация о технологиях Гознака уже имеется.\\n...</td>\n",
       "      <td>science</td>\n",
       "    </tr>\n",
       "    <tr>\n",
       "      <th>3056</th>\n",
       "      <td>В четверг, 4 августа 2010 года Хакасское УФАС России возбудило дело в отношении открытого акционерного общества &lt;object&gt;МРСК Сибири&lt;/object&gt; по признакам нарушения части 1 статьи 10 Закона о защит...</td>\n",
       "      <td>incident</td>\n",
       "    </tr>\n",
       "    <tr>\n",
       "      <th>1273</th>\n",
       "      <td>Galaxy Note 7 — всё: Samsung принудительно заблокирует оставшиеся смартфоны\\n\\n10 декабря 2016 в 9:59\\n\\nLenta.ru\\n\\nКомпания Samsung принудительно отключит оставшиеся в обращении Galaxy Note 7. О...</td>\n",
       "      <td>tech</td>\n",
       "    </tr>\n",
       "    <tr>\n",
       "      <th>374</th>\n",
       "      <td>Аутизм связан с наследственными изменениями в строении мозга Родственники\\nлюдей, страдающих аутизмом, имеют сходные отклонения в строении мозга.\\nОб этом сообщили сразу две научные группы на 35-й...</td>\n",
       "      <td>health</td>\n",
       "    </tr>\n",
       "  </tbody>\n",
       "</table>\n",
       "</div>"
      ],
      "text/plain": [
       "                                                                                                                                                                                                         text  \\\n",
       "1693  Управление Директора национальной разведки США (ODNI)отказалось поддержать версию, ранее выдвинутую ЦРУ, о том, что Россия якобы проводила хакерские атаки, чтобы помочь республиканцу Дональду Трам...   \n",
       "2746  АО «Гознак» будет изготавливать денежные купюры с прозрачными участками для повышения безопасности от подделки. Отмечается, что в данных Роспатента, информация о технологиях Гознака уже имеется.\\n...   \n",
       "3056  В четверг, 4 августа 2010 года Хакасское УФАС России возбудило дело в отношении открытого акционерного общества <object>МРСК Сибири</object> по признакам нарушения части 1 статьи 10 Закона о защит...   \n",
       "1273  Galaxy Note 7 — всё: Samsung принудительно заблокирует оставшиеся смартфоны\\n\\n10 декабря 2016 в 9:59\\n\\nLenta.ru\\n\\nКомпания Samsung принудительно отключит оставшиеся в обращении Galaxy Note 7. О...   \n",
       "374   Аутизм связан с наследственными изменениями в строении мозга Родственники\\nлюдей, страдающих аутизмом, имеют сходные отклонения в строении мозга.\\nОб этом сообщили сразу две научные группы на 35-й...   \n",
       "\n",
       "           tag  \n",
       "1693  politics  \n",
       "2746   science  \n",
       "3056  incident  \n",
       "1273      tech  \n",
       "374     health  "
      ]
     },
     "execution_count": 2,
     "metadata": {},
     "output_type": "execute_result"
    }
   ],
   "source": [
    "# загружаем тексты\n",
    "data = pd.read_pickle('../data/news.pkl.gz')\n",
    "print('записей:',len(data))\n",
    "data.sample(5)"
   ]
  },
  {
   "cell_type": "code",
   "execution_count": 3,
   "metadata": {},
   "outputs": [
    {
     "data": {
      "text/html": [
       "<div>\n",
       "<style scoped>\n",
       "    .dataframe tbody tr th:only-of-type {\n",
       "        vertical-align: middle;\n",
       "    }\n",
       "\n",
       "    .dataframe tbody tr th {\n",
       "        vertical-align: top;\n",
       "    }\n",
       "\n",
       "    .dataframe thead th {\n",
       "        text-align: right;\n",
       "    }\n",
       "</style>\n",
       "<table border=\"1\" class=\"dataframe\">\n",
       "  <thead>\n",
       "    <tr style=\"text-align: right;\">\n",
       "      <th></th>\n",
       "      <th>count</th>\n",
       "      <th>mean</th>\n",
       "      <th>std</th>\n",
       "      <th>min</th>\n",
       "      <th>10%</th>\n",
       "      <th>25%</th>\n",
       "      <th>50%</th>\n",
       "      <th>75%</th>\n",
       "      <th>95%</th>\n",
       "      <th>max</th>\n",
       "    </tr>\n",
       "  </thead>\n",
       "  <tbody>\n",
       "    <tr>\n",
       "      <th>text</th>\n",
       "      <td>3196</td>\n",
       "      <td>1720</td>\n",
       "      <td>2177</td>\n",
       "      <td>25</td>\n",
       "      <td>370</td>\n",
       "      <td>675</td>\n",
       "      <td>1070</td>\n",
       "      <td>1813</td>\n",
       "      <td>5761</td>\n",
       "      <td>30710</td>\n",
       "    </tr>\n",
       "  </tbody>\n",
       "</table>\n",
       "</div>"
      ],
      "text/plain": [
       "      count  mean   std  min  10%  25%   50%   75%   95%    max\n",
       "text   3196  1720  2177   25  370  675  1070  1813  5761  30710"
      ]
     },
     "execution_count": 3,
     "metadata": {},
     "output_type": "execute_result"
    }
   ],
   "source": [
    "# длина строк\n",
    "pd.DataFrame(data['text'].str.len()).describe([.1,.25,.5,.75,.95]).astype(int).T"
   ]
  },
  {
   "cell_type": "code",
   "execution_count": 4,
   "metadata": {},
   "outputs": [
    {
     "data": {
      "text/plain": [
       "13"
      ]
     },
     "execution_count": 4,
     "metadata": {},
     "output_type": "execute_result"
    }
   ],
   "source": [
    "# количество категорий\n",
    "data['tag'].drop_duplicates().count()"
   ]
  },
  {
   "cell_type": "code",
   "execution_count": 5,
   "metadata": {},
   "outputs": [],
   "source": [
    "# собираем словарь из текстов\n",
    "def get_vocabulary(ds):\n",
    "    vcb = [ set(s) for s in ds.tolist() ]\n",
    "    return sorted(set.union(*vcb))"
   ]
  },
  {
   "cell_type": "markdown",
   "metadata": {},
   "source": [
    "## очистка и токенизация "
   ]
  },
  {
   "cell_type": "code",
   "execution_count": 6,
   "metadata": {},
   "outputs": [],
   "source": [
    "# применяет список замен pat к строке s\n",
    "def replace_patterns(s,pat):\n",
    "    if len(pat)<1: return s\n",
    "    return  replace_patterns( re.sub(pat[0][0],pat[0][1],s), pat[1:] )\n",
    "\n",
    "# нормализация текста\n",
    "def string_normalizer(s):\n",
    "    pat = [\n",
    "       [r'ё','е'] # замена ё для унификации\n",
    "       ,[r'</?[a-z]+>',' '] # удаляем xml\n",
    "       ,[r'[^a-zа-я\\- ]+',' '] # оставляем только буквы, пробел и -\n",
    "       ,[r' -\\w+',' '] # удаляем '-й','-тый' и т.п.\n",
    "       ,[r'\\w+- ',' ']\n",
    "       ,[r' +',' '] # удаляем повторы пробелов\n",
    "    ]\n",
    "    return replace_patterns(s.lower(),pat).strip()\n",
    "\n",
    "# разрезаем стоки на слова\n",
    "def tokenize(s): \n",
    "    return [ w for w in s.split(' ') if (len(w)>1) ]"
   ]
  },
  {
   "cell_type": "code",
   "execution_count": 7,
   "metadata": {},
   "outputs": [
    {
     "name": "stderr",
     "output_type": "stream",
     "text": [
      "100%|██████████| 3196/3196 [00:00<00:00, 5006.80it/s]\n",
      "100%|██████████| 3196/3196 [00:00<00:00, 34587.38it/s]\n"
     ]
    }
   ],
   "source": [
    "data['ctext'] = data['text'].progress_apply(string_normalizer).progress_apply( tokenize )"
   ]
  },
  {
   "cell_type": "code",
   "execution_count": 8,
   "metadata": {},
   "outputs": [
    {
     "name": "stdout",
     "output_type": "stream",
     "text": [
      "словарь 83094 слов\n"
     ]
    }
   ],
   "source": [
    "vcb =  get_vocabulary( data['ctext'] )\n",
    "print('словарь %i слов'%(len(vcb)))\n",
    "# pd.DataFrame( vcb ).to_csv('voc0.txt',index=False,header=False)"
   ]
  },
  {
   "cell_type": "code",
   "execution_count": 9,
   "metadata": {},
   "outputs": [
    {
     "data": {
      "text/html": [
       "<div>\n",
       "<style scoped>\n",
       "    .dataframe tbody tr th:only-of-type {\n",
       "        vertical-align: middle;\n",
       "    }\n",
       "\n",
       "    .dataframe tbody tr th {\n",
       "        vertical-align: top;\n",
       "    }\n",
       "\n",
       "    .dataframe thead th {\n",
       "        text-align: right;\n",
       "    }\n",
       "</style>\n",
       "<table border=\"1\" class=\"dataframe\">\n",
       "  <thead>\n",
       "    <tr style=\"text-align: right;\">\n",
       "      <th></th>\n",
       "      <th>text</th>\n",
       "      <th>tag</th>\n",
       "      <th>ctext</th>\n",
       "    </tr>\n",
       "  </thead>\n",
       "  <tbody>\n",
       "    <tr>\n",
       "      <th>2599</th>\n",
       "      <td>Вымершие пернатые обитали на островах\\n\\nВ Красную книгу были добавлены 740 новых видов птиц, из них 13 профессионалы признали вымершими.\\n\\nПо утверждению исследователей, виды вымерших птиц обита...</td>\n",
       "      <td>science</td>\n",
       "      <td>[вымершие, пернатые, обитали, на, островах, красную, книгу, были, добавлены, новых, видов, птиц, из, них, профессионалы, признали, вымершими, по, утверждению, исследователей, виды, вымерших, птиц,...</td>\n",
       "    </tr>\n",
       "    <tr>\n",
       "      <th>2926</th>\n",
       "      <td>Китайцы выпустят клона Mercedes-Benz Gelаndewagen\\n\\nКитайцы выпустят новый внедорожник под названием Beijing BJ80. Он является по сути клоном известного автомобиля Mercedes-Benz G-Class.\\n\\nФото:...</td>\n",
       "      <td>auto</td>\n",
       "      <td>[китайцы, выпустят, клона, mercedes-benz, gelаndewagen, китайцы, выпустят, новый, внедорожник, под, названием, beijing, bj, он, является, по, сути, клоном, известного, автомобиля, mercedes-benz, g...</td>\n",
       "    </tr>\n",
       "    <tr>\n",
       "      <th>63</th>\n",
       "      <td>\"Синдром большого пальца\": новая болезнь, связанная с технологиями\\nБританские врачи предупреждают о появлении нового недуга, который они\\nназывают \"синдромом большого пальца\" или же \"палец iPod\"....</td>\n",
       "      <td>health</td>\n",
       "      <td>[синдром, большого, пальца, новая, болезнь, связанная, технологиями, британские, врачи, предупреждают, появлении, нового, недуга, который, они, называют, синдромом, большого, пальца, или, же, пале...</td>\n",
       "    </tr>\n",
       "  </tbody>\n",
       "</table>\n",
       "</div>"
      ],
      "text/plain": [
       "                                                                                                                                                                                                         text  \\\n",
       "2599  Вымершие пернатые обитали на островах\\n\\nВ Красную книгу были добавлены 740 новых видов птиц, из них 13 профессионалы признали вымершими.\\n\\nПо утверждению исследователей, виды вымерших птиц обита...   \n",
       "2926  Китайцы выпустят клона Mercedes-Benz Gelаndewagen\\n\\nКитайцы выпустят новый внедорожник под названием Beijing BJ80. Он является по сути клоном известного автомобиля Mercedes-Benz G-Class.\\n\\nФото:...   \n",
       "63    \"Синдром большого пальца\": новая болезнь, связанная с технологиями\\nБританские врачи предупреждают о появлении нового недуга, который они\\nназывают \"синдромом большого пальца\" или же \"палец iPod\"....   \n",
       "\n",
       "          tag  \\\n",
       "2599  science   \n",
       "2926     auto   \n",
       "63     health   \n",
       "\n",
       "                                                                                                                                                                                                        ctext  \n",
       "2599  [вымершие, пернатые, обитали, на, островах, красную, книгу, были, добавлены, новых, видов, птиц, из, них, профессионалы, признали, вымершими, по, утверждению, исследователей, виды, вымерших, птиц,...  \n",
       "2926  [китайцы, выпустят, клона, mercedes-benz, gelаndewagen, китайцы, выпустят, новый, внедорожник, под, названием, beijing, bj, он, является, по, сути, клоном, известного, автомобиля, mercedes-benz, g...  \n",
       "63    [синдром, большого, пальца, новая, болезнь, связанная, технологиями, британские, врачи, предупреждают, появлении, нового, недуга, который, они, называют, синдромом, большого, пальца, или, же, пале...  "
      ]
     },
     "execution_count": 9,
     "metadata": {},
     "output_type": "execute_result"
    }
   ],
   "source": [
    "data.sample(3)"
   ]
  },
  {
   "cell_type": "markdown",
   "metadata": {},
   "source": [
    "## стеминг"
   ]
  },
  {
   "cell_type": "code",
   "execution_count": 10,
   "metadata": {},
   "outputs": [],
   "source": [
    "from nltk.stem.snowball import SnowballStemmer\n",
    "from nltk.corpus import stopwords as nltk_stopwords\n",
    "# from nltk import download as nltk_download\n",
    "# nltk_download('stopwords')\n",
    "\n",
    "stopwords = set(nltk_stopwords.words('russian'))\n",
    "stemmer = SnowballStemmer('russian')\n",
    "\n",
    "# выкидываем stopwords, выполняем стеминг\n",
    "def stem(s): \n",
    "    return [ stemmer.stem(w) for w in s if w not in stopwords ]"
   ]
  },
  {
   "cell_type": "code",
   "execution_count": 11,
   "metadata": {},
   "outputs": [
    {
     "name": "stderr",
     "output_type": "stream",
     "text": [
      "100%|██████████| 3196/3196 [00:14<00:00, 214.71it/s]\n"
     ]
    }
   ],
   "source": [
    "data['ctext'] = data['ctext'].progress_apply( stem )"
   ]
  },
  {
   "cell_type": "code",
   "execution_count": 12,
   "metadata": {},
   "outputs": [
    {
     "name": "stdout",
     "output_type": "stream",
     "text": [
      "словарь 36381 слов\n"
     ]
    }
   ],
   "source": [
    "vcb =  get_vocabulary( data['ctext'] )\n",
    "print('словарь %i слов'%(len(vcb)))\n",
    "# pd.DataFrame( vcb ).to_csv('voc1.txt',index=False,header=False)"
   ]
  },
  {
   "cell_type": "code",
   "execution_count": 13,
   "metadata": {},
   "outputs": [
    {
     "data": {
      "text/html": [
       "<div>\n",
       "<style scoped>\n",
       "    .dataframe tbody tr th:only-of-type {\n",
       "        vertical-align: middle;\n",
       "    }\n",
       "\n",
       "    .dataframe tbody tr th {\n",
       "        vertical-align: top;\n",
       "    }\n",
       "\n",
       "    .dataframe thead th {\n",
       "        text-align: right;\n",
       "    }\n",
       "</style>\n",
       "<table border=\"1\" class=\"dataframe\">\n",
       "  <thead>\n",
       "    <tr style=\"text-align: right;\">\n",
       "      <th></th>\n",
       "      <th>text</th>\n",
       "      <th>tag</th>\n",
       "      <th>ctext</th>\n",
       "    </tr>\n",
       "  </thead>\n",
       "  <tbody>\n",
       "    <tr>\n",
       "      <th>401</th>\n",
       "      <td>Французы провели первую в мире пересадку лица 36-летняя француженка стала\\nпервой пациенткой в мире, получившей новое лицо в ходе пятичасовой\\nоперации. Лицо пациентки было изуродовано в результат...</td>\n",
       "      <td>health</td>\n",
       "      <td>[француз, провел, перв, мир, пересадк, лиц, француженк, стал, перв, пациентк, мир, получ, нов, лиц, ход, пятичасов, операц, лиц, пациентк, изуродова, результат, нападен, собак, хирург, замен, лиш,...</td>\n",
       "    </tr>\n",
       "    <tr>\n",
       "      <th>730</th>\n",
       "      <td>Жители Костюковки о новых названиях своих улиц: \"Никто нашего мнения не спрашивал\"\\n\\n8 декабря 2016 в 15:36\\n\\nАлена Германович, Naviny.by\\n\\nСердитые смайлики появляются под новостью в социальны...</td>\n",
       "      <td>social</td>\n",
       "      <td>[жител, костюковк, нов, назван, сво, улиц, никт, наш, мнен, спрашива, декабр, ал, германович, naviny, by, сердит, смайлик, появля, новост, социальн, сет, переименован, улиц, костюковк, бывш, рабоч...</td>\n",
       "    </tr>\n",
       "    <tr>\n",
       "      <th>229</th>\n",
       "      <td>Алла Пугачева развелась с Киркоровым и затаилась в Нижнем Тагиле Алла\\nПугачева и Филипп Киркоров официально заявили о своем разводе. Правда\\nсделали это через посредника - певицу Лолиту Милявскую...</td>\n",
       "      <td>culture</td>\n",
       "      <td>[алл, пугачев, развел, киркоров, зата, нижн, тагил, алл, пугачев, филипп, киркор, официальн, заяв, сво, развод, правд, сдела, эт, посредник, певиц, лолит, милявск, котор, озвуч, новост, наканун, в...</td>\n",
       "    </tr>\n",
       "  </tbody>\n",
       "</table>\n",
       "</div>"
      ],
      "text/plain": [
       "                                                                                                                                                                                                        text  \\\n",
       "401  Французы провели первую в мире пересадку лица 36-летняя француженка стала\\nпервой пациенткой в мире, получившей новое лицо в ходе пятичасовой\\nоперации. Лицо пациентки было изуродовано в результат...   \n",
       "730  Жители Костюковки о новых названиях своих улиц: \"Никто нашего мнения не спрашивал\"\\n\\n8 декабря 2016 в 15:36\\n\\nАлена Германович, Naviny.by\\n\\nСердитые смайлики появляются под новостью в социальны...   \n",
       "229  Алла Пугачева развелась с Киркоровым и затаилась в Нижнем Тагиле Алла\\nПугачева и Филипп Киркоров официально заявили о своем разводе. Правда\\nсделали это через посредника - певицу Лолиту Милявскую...   \n",
       "\n",
       "         tag  \\\n",
       "401   health   \n",
       "730   social   \n",
       "229  culture   \n",
       "\n",
       "                                                                                                                                                                                                       ctext  \n",
       "401  [француз, провел, перв, мир, пересадк, лиц, француженк, стал, перв, пациентк, мир, получ, нов, лиц, ход, пятичасов, операц, лиц, пациентк, изуродова, результат, нападен, собак, хирург, замен, лиш,...  \n",
       "730  [жител, костюковк, нов, назван, сво, улиц, никт, наш, мнен, спрашива, декабр, ал, германович, naviny, by, сердит, смайлик, появля, новост, социальн, сет, переименован, улиц, костюковк, бывш, рабоч...  \n",
       "229  [алл, пугачев, развел, киркоров, зата, нижн, тагил, алл, пугачев, филипп, киркор, официальн, заяв, сво, развод, правд, сдела, эт, посредник, певиц, лолит, милявск, котор, озвуч, новост, наканун, в...  "
      ]
     },
     "execution_count": 13,
     "metadata": {},
     "output_type": "execute_result"
    }
   ],
   "source": [
    "data.sample(3)"
   ]
  },
  {
   "cell_type": "markdown",
   "metadata": {},
   "source": [
    "## лемматизация"
   ]
  },
  {
   "cell_type": "code",
   "execution_count": 14,
   "metadata": {},
   "outputs": [],
   "source": [
    "# лемматизация и очистка с помощью пакета морфологического анализа\n",
    "\n",
    "from pymorphy2 import MorphAnalyzer\n",
    "\n",
    "morph = MorphAnalyzer()\n",
    "\n",
    "# NOUN (существительное), VERB (глагол), ADJF (прилагательное)\n",
    "def word_normalizer(w, pos_types=('NOUN','VERB','ADJF')):\n",
    "    if not morph.word_is_known(w): return ''\n",
    "    p = morph.parse(w)[0] \n",
    "    return p.normal_form if (p.tag.POS in pos_types) else ''\n",
    "\n",
    "def text_normalizer_tokenize(s):\n",
    "    return [ word_normalizer(w) for w in s.split(' ') if len(w)>1 ]"
   ]
  },
  {
   "cell_type": "code",
   "execution_count": 15,
   "metadata": {},
   "outputs": [
    {
     "name": "stderr",
     "output_type": "stream",
     "text": [
      "100%|██████████| 3196/3196 [00:00<00:00, 5024.19it/s]\n",
      "100%|██████████| 3196/3196 [01:22<00:00, 38.93it/s]\n"
     ]
    }
   ],
   "source": [
    "data['ctext'] = data['text']\\\n",
    "                   .progress_apply(string_normalizer)\\\n",
    "                   .progress_apply( text_normalizer_tokenize )"
   ]
  },
  {
   "cell_type": "code",
   "execution_count": 16,
   "metadata": {},
   "outputs": [
    {
     "name": "stdout",
     "output_type": "stream",
     "text": [
      "словарь 22673 слов\n"
     ]
    }
   ],
   "source": [
    "vcb =  get_vocabulary( data['ctext'] )\n",
    "print('словарь %i слов'%(len(vcb)))\n",
    "# pd.DataFrame( vcb ).to_csv('voc2.txt',index=False,header=False)"
   ]
  },
  {
   "cell_type": "code",
   "execution_count": 17,
   "metadata": {},
   "outputs": [
    {
     "data": {
      "text/html": [
       "<div>\n",
       "<style scoped>\n",
       "    .dataframe tbody tr th:only-of-type {\n",
       "        vertical-align: middle;\n",
       "    }\n",
       "\n",
       "    .dataframe tbody tr th {\n",
       "        vertical-align: top;\n",
       "    }\n",
       "\n",
       "    .dataframe thead th {\n",
       "        text-align: right;\n",
       "    }\n",
       "</style>\n",
       "<table border=\"1\" class=\"dataframe\">\n",
       "  <thead>\n",
       "    <tr style=\"text-align: right;\">\n",
       "      <th></th>\n",
       "      <th>text</th>\n",
       "      <th>tag</th>\n",
       "      <th>ctext</th>\n",
       "    </tr>\n",
       "  </thead>\n",
       "  <tbody>\n",
       "    <tr>\n",
       "      <th>2382</th>\n",
       "      <td>По данным пресс-службы столичной автоинспекции, авария произошла на пересечение улицы Мосфильмовская с Университетским проспектом. Девочек, которым 8 и 9 лет, направили в больницу на осмотр. По пр...</td>\n",
       "      <td>incident</td>\n",
       "      <td>[, данные, пресс-служба, столичный, автоинспекция, авария, произойти, , пересечение, улица, , университетский, проспект, девочка, который, год, направить, больница, , осмотр, , предварительный, да...</td>\n",
       "    </tr>\n",
       "    <tr>\n",
       "      <th>2076</th>\n",
       "      <td>Sport Arena выделяет ключевые моменты матча на Стадио Олимпико, завершившегося минимальной победой хозяев.\\n\\nРома – Милан: как это было\\n\\nЛучано Спаллетти был честен и прав\\n\\nМатематически преи...</td>\n",
       "      <td>sport</td>\n",
       "      <td>[, , выделять, ключевой, момент, матч, , , , , минимальный, победа, хозяин, рома, милан, , , быть, , , быть, , право, , преимущество, белый, , чёрный, , сказать, расизм, шахматы, , , , , статистик...</td>\n",
       "    </tr>\n",
       "    <tr>\n",
       "      <th>793</th>\n",
       "      <td>Инсталляция появилась на кольце на Варшавском шоссе, сообщает BrestCITY.com . \\r\\nСветящийся фонтан установлен в месте, где ранее планировалось разместить въездную стелу .\\r\\n\\r\\nФотофакт. В Брест...</td>\n",
       "      <td>culture</td>\n",
       "      <td>[инсталляция, появиться, , кольцо, , варшавский, шоссе, сообщать, , , светящийся, фонтан, , место, , , планироваться, , въездной, стела, , брест, новый, год, установить, большой, светящийся, фонтан]</td>\n",
       "    </tr>\n",
       "  </tbody>\n",
       "</table>\n",
       "</div>"
      ],
      "text/plain": [
       "                                                                                                                                                                                                         text  \\\n",
       "2382  По данным пресс-службы столичной автоинспекции, авария произошла на пересечение улицы Мосфильмовская с Университетским проспектом. Девочек, которым 8 и 9 лет, направили в больницу на осмотр. По пр...   \n",
       "2076  Sport Arena выделяет ключевые моменты матча на Стадио Олимпико, завершившегося минимальной победой хозяев.\\n\\nРома – Милан: как это было\\n\\nЛучано Спаллетти был честен и прав\\n\\nМатематически преи...   \n",
       "793   Инсталляция появилась на кольце на Варшавском шоссе, сообщает BrestCITY.com . \\r\\nСветящийся фонтан установлен в месте, где ранее планировалось разместить въездную стелу .\\r\\n\\r\\nФотофакт. В Брест...   \n",
       "\n",
       "           tag  \\\n",
       "2382  incident   \n",
       "2076     sport   \n",
       "793    culture   \n",
       "\n",
       "                                                                                                                                                                                                        ctext  \n",
       "2382  [, данные, пресс-служба, столичный, автоинспекция, авария, произойти, , пересечение, улица, , университетский, проспект, девочка, который, год, направить, больница, , осмотр, , предварительный, да...  \n",
       "2076  [, , выделять, ключевой, момент, матч, , , , , минимальный, победа, хозяин, рома, милан, , , быть, , , быть, , право, , преимущество, белый, , чёрный, , сказать, расизм, шахматы, , , , , статистик...  \n",
       "793    [инсталляция, появиться, , кольцо, , варшавский, шоссе, сообщать, , , светящийся, фонтан, , место, , , планироваться, , въездной, стела, , брест, новый, год, установить, большой, светящийся, фонтан]  "
      ]
     },
     "execution_count": 17,
     "metadata": {},
     "output_type": "execute_result"
    }
   ],
   "source": [
    "data.sample(3)"
   ]
  },
  {
   "cell_type": "code",
   "execution_count": null,
   "metadata": {},
   "outputs": [],
   "source": []
  }
 ],
 "metadata": {
  "kernelspec": {
   "display_name": "Python 3",
   "language": "python",
   "name": "python3"
  },
  "language_info": {
   "codemirror_mode": {
    "name": "ipython",
    "version": 3
   },
   "file_extension": ".py",
   "mimetype": "text/x-python",
   "name": "python",
   "nbconvert_exporter": "python",
   "pygments_lexer": "ipython3",
   "version": "3.9.2"
  },
  "toc": {
   "base_numbering": 1,
   "nav_menu": {},
   "number_sections": true,
   "sideBar": true,
   "skip_h1_title": false,
   "title_cell": "Table of Contents",
   "title_sidebar": "Contents",
   "toc_cell": false,
   "toc_position": {},
   "toc_section_display": true,
   "toc_window_display": false
  }
 },
 "nbformat": 4,
 "nbformat_minor": 2
}
