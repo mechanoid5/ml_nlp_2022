{
 "cells": [
  {
   "cell_type": "markdown",
   "id": "5364f5ac",
   "metadata": {},
   "source": [
    "**Разметка частей речи**\n",
    "\n",
    "Евгений Борисов <esborisov@sevsu.ru>\n",
    "\n",
    "библиотека NLTK"
   ]
  },
  {
   "cell_type": "code",
   "execution_count": null,
   "id": "a1822705",
   "metadata": {},
   "outputs": [],
   "source": [
    "import nltk\n",
    "# nltk.download('punkt')\n",
    "# nltk.download('averaged_perceptron_tagger')"
   ]
  },
  {
   "cell_type": "code",
   "execution_count": 8,
   "id": "3b1741c4",
   "metadata": {},
   "outputs": [
    {
     "data": {
      "text/plain": [
       "[('Today', 'NN'),\n",
       " ('morning', 'NN'),\n",
       " (',', ','),\n",
       " ('Arthur', 'NNP'),\n",
       " ('felt', 'VBD'),\n",
       " ('very', 'RB'),\n",
       " ('good', 'JJ'),\n",
       " ('.', '.')]"
      ]
     },
     "execution_count": 8,
     "metadata": {},
     "output_type": "execute_result"
    }
   ],
   "source": [
    "sentence = 'Today morning, Arthur felt very good.'\n",
    "\n",
    "nltk.pos_tag(  nltk.word_tokenize(sentence), lang='eng')"
   ]
  },
  {
   "cell_type": "code",
   "execution_count": 7,
   "id": "f9fda02a",
   "metadata": {},
   "outputs": [
    {
     "data": {
      "text/plain": [
       "[('Кроме', 'PR'),\n",
       " ('того', 'S-PRO'),\n",
       " (',', 'NONLEX'),\n",
       " ('иногда', 'ADV'),\n",
       " ('одно', 'A-PRO=n'),\n",
       " ('и', 'CONJ'),\n",
       " ('то', 'S-PRO'),\n",
       " ('же', 'PART'),\n",
       " ('слово', 'S'),\n",
       " ('может', 'V'),\n",
       " ('иметь', 'V'),\n",
       " ('несколько', 'NUM=acc'),\n",
       " ('разных', 'A=pl'),\n",
       " ('лемм', 'S'),\n",
       " ('.', 'NONLEX')]"
      ]
     },
     "execution_count": 7,
     "metadata": {},
     "output_type": "execute_result"
    }
   ],
   "source": [
    "sentence = 'Кроме того, иногда одно и то же слово может иметь несколько разных лемм.'\n",
    "\n",
    "nltk.pos_tag(  nltk.word_tokenize(sentence), lang='rus')"
   ]
  },
  {
   "cell_type": "raw",
   "id": "a6fafeb4",
   "metadata": {},
   "source": [
    "CC Coordinating Conjunction\n",
    "CD Cardinal Digit\n",
    "DT Determiner\n",
    "EX Existential There. Example: “there is” … think of it like “there exists”)\n",
    "FW Foreign Word.\n",
    "IN Preposition/Subordinating Conjunction.\n",
    "JJ Adjective.\n",
    "JJR Adjective, Comparative.\n",
    "JJS Adjective, Superlative.\n",
    "LS List Marker 1.\n",
    "MD Modal.\n",
    "NN Noun, Singular.\n",
    "NNS Noun Plural.\n",
    "NNP Proper Noun, Singular.\n",
    "NNPS Proper Noun, Plural.\n",
    "PDT Predeterminer.\n",
    "POS Possessive Ending. Example: parent’s\n",
    "PRP Personal Pronoun. Examples: I, he, she\n",
    "PRP$ Possessive Pronoun. Examples: my, his, hers\n",
    "RB Adverb. Examples: very, silently,\n",
    "RBR Adverb, Comparative. Example: better\n",
    "RBS Adverb, Superlative. Example: best\n",
    "RP Particle. Example: give up\n",
    "TO to. Example: go ‘to’ the store.\n",
    "UH Interjection. Example: errrrrrrrm\n",
    "VB Verb, Base Form. Example: take\n",
    "VBD Verb, Past Tense. Example: took\n",
    "VBG Verb, Gerund/Present Participle. Example: taking\n",
    "VBN Verb, Past Participle. Example: taken\n",
    "VBP Verb, Sing Present, non-3d take\n",
    "VBZ Verb, 3rd person sing. present takes\n",
    "WDT wh-determiner. Example: which\n",
    "WP wh-pronoun. Example: who, what\n",
    "WP$ possessive wh-pronoun. Example: whose\n",
    "WRB wh-abverb. Example: where, when"
   ]
  }
 ],
 "metadata": {
  "kernelspec": {
   "display_name": "Python 3 (ipykernel)",
   "language": "python",
   "name": "python3"
  },
  "language_info": {
   "codemirror_mode": {
    "name": "ipython",
    "version": 3
   },
   "file_extension": ".py",
   "mimetype": "text/x-python",
   "name": "python",
   "nbconvert_exporter": "python",
   "pygments_lexer": "ipython3",
   "version": "3.8.9"
  },
  "toc": {
   "base_numbering": 1,
   "nav_menu": {},
   "number_sections": true,
   "sideBar": true,
   "skip_h1_title": false,
   "title_cell": "Table of Contents",
   "title_sidebar": "Contents",
   "toc_cell": false,
   "toc_position": {},
   "toc_section_display": true,
   "toc_window_display": false
  }
 },
 "nbformat": 4,
 "nbformat_minor": 5
}
