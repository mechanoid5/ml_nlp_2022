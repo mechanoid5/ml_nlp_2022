{
 "cells": [
  {
   "cell_type": "markdown",
   "id": "ac9bfcd8",
   "metadata": {},
   "source": [
    "**Статистическая языковая модель**\n",
    "\n",
    "Евгений Борисов <esborisov@sevsu.ru>\n",
    "\n",
    "подбираем наиболее вероятное продолжение цепочки слов (NLTK model)"
   ]
  },
  {
   "cell_type": "code",
   "execution_count": 1,
   "id": "6bd99f8f",
   "metadata": {},
   "outputs": [],
   "source": [
    "import re\n",
    "import gzip\n",
    "from random import sample\n",
    "import nltk\n",
    "from nltk.tokenize import sent_tokenize\n",
    "from nltk.tokenize import word_tokenize"
   ]
  },
  {
   "cell_type": "code",
   "execution_count": 2,
   "id": "765735ae",
   "metadata": {},
   "outputs": [
    {
     "name": "stdout",
     "output_type": "stream",
     "text": [
      "символов:465490\n",
      "\n",
      "Теперь, когда уже все прошло, и я пишу хронику, мы уже знаем в чем дело; но тогда мы еще ничего не знали, и естественно, что нам представлялись странными разные вещи. По крайней мере мы со Степаном Трофимовичем в первое время заперлись и с испугом наблюдали издали. Я-то кой-куда еще выходил и по-прежнему приносил ему разные вести, без чего он и пробыть не мог.\n",
      "предложений: 5556\n",
      "\n"
     ]
    },
    {
     "data": {
      "text/plain": [
       "[['-', 'Нет', '.'],\n",
       " ['Шатов', 'брезгливо', 'и', 'раздражительно', 'ухмылялся', '.']]"
      ]
     },
     "execution_count": 2,
     "metadata": {},
     "output_type": "execute_result"
    }
   ],
   "source": [
    "file_name = '../data/dostoevsky-besy-p2.txt.gz'\n",
    "\n",
    "with gzip.open(file_name,'rt') as f:  text = f.read()[105:] # выкидываем заголовок\n",
    "\n",
    "print('символов:%i\\n'%(len(text)))\n",
    "print(text[:364].strip())\n",
    "\n",
    "text = [ \n",
    "    word_tokenize (s) # разбиваем предложения на слова\n",
    "    for s in sent_tokenize(text) # режем текст на отдельные предложения\n",
    "]\n",
    "\n",
    "print('предложений: %i\\n'%(len(text)))\n",
    "\n",
    "sample(text,2)"
   ]
  },
  {
   "cell_type": "code",
   "execution_count": 3,
   "id": "e810ef5c",
   "metadata": {},
   "outputs": [
    {
     "name": "stdout",
     "output_type": "stream",
     "text": [
      "16634\n"
     ]
    }
   ],
   "source": [
    "from nltk.lm.preprocessing import padded_everygram_pipeline\n",
    "\n",
    "# генерируем учебный датасет\n",
    "train, vocab = padded_everygram_pipeline(2, text)\n",
    "\n",
    "\n",
    "# собираем модель\n",
    "\n",
    "from nltk.lm import MLE as Model # Maximum Likelihood Estimator\n",
    "# from nltk.lm import Laplace as Model\n",
    "\n",
    "model = Model(2) \n",
    "model.fit(train, vocab)\n",
    "print(len(model.vocab))"
   ]
  },
  {
   "cell_type": "code",
   "execution_count": 4,
   "id": "309be2c0",
   "metadata": {},
   "outputs": [
    {
     "name": "stdout",
     "output_type": "stream",
     "text": [
      "Вас бы я конечно не потащил туда , зная ваш теперешний образ мыслей ... то-есть в том смысле , чтобы вас там не мучить , а не из того , что мы думаем , что вы...['и', 'с', 'Кирилловым']\n",
      "\n",
      "Швейцар меня знал ; я объявил , что мы оба к Юлии...['Михайловны', 'на', 'след']\n",
      "\n",
      "Петр Степанович , конечно , знал , что рискует , пускаясь в такие выверты , но уж когда он сам бывал возбужден , то лучше желал рисковать хоть на все , чем оставлять себя в...['котором', 'я', 'не']\n",
      "\n",
      "- Ну да , ну...['там', 'есть', 'тут']\n",
      "\n",
      "Недели с три назад заболел там и умер один рабочий азиятскою холерой ; потом заболело еще несколько...['камней', 'и', 'не']\n",
      "\n",
      "Начиналась она грозными звуками Марсельезы : '' Qu'un sang impur abreuve nos sillons...['!', '</s>', 'с']\n",
      "\n",
      "Минуту спустя он проговорил , смотря на меня в отчаянии : - Я...['сама', 'Юлия', 'Михайловна']\n",
      "\n",
      "Этот пристав - восторженно административная личность , Василий Иванович Флибустьеров , был еще недавним гостем в нашем городе , но уже отличился и прогремел своею непомерною ревностью , своим каким-то наскоком во всех приемах по исполнительной части и прирожденным нетрезвым...['состоянием', 'все', 'же']\n",
      "\n"
     ]
    }
   ],
   "source": [
    "# генерируем продолжения\n",
    "for sentence in sample(text,10):\n",
    "    if len(sentence)<5: continue\n",
    "    print( \n",
    "        ' '.join(sentence[:-2])\n",
    "        + '...' \n",
    "        + str( model.generate(3, text_seed=sentence[:-2]) )\n",
    "        + '\\n'\n",
    "    )"
   ]
  },
  {
   "cell_type": "code",
   "execution_count": 5,
   "id": "08863bde",
   "metadata": {},
   "outputs": [],
   "source": [
    "from nltk.util import bigrams\n",
    "\n",
    "text_bigrams = [ ngram for s in text for ngram in bigrams(s) ]"
   ]
  },
  {
   "cell_type": "code",
   "execution_count": 6,
   "id": "83ff46c2",
   "metadata": {},
   "outputs": [
    {
     "data": {
      "text/plain": [
       "4.56330074985801"
      ]
     },
     "execution_count": 6,
     "metadata": {},
     "output_type": "execute_result"
    }
   ],
   "source": [
    "model.entropy( text_bigrams  )"
   ]
  },
  {
   "cell_type": "code",
   "execution_count": 7,
   "id": "40f25400",
   "metadata": {},
   "outputs": [
    {
     "data": {
      "text/plain": [
       "23.642337077815522"
      ]
     },
     "execution_count": 7,
     "metadata": {},
     "output_type": "execute_result"
    }
   ],
   "source": [
    "model.perplexity( text_bigrams )"
   ]
  },
  {
   "cell_type": "code",
   "execution_count": null,
   "id": "29036d7d",
   "metadata": {},
   "outputs": [],
   "source": []
  }
 ],
 "metadata": {
  "kernelspec": {
   "display_name": "Python 3 (ipykernel)",
   "language": "python",
   "name": "python3"
  },
  "language_info": {
   "codemirror_mode": {
    "name": "ipython",
    "version": 3
   },
   "file_extension": ".py",
   "mimetype": "text/x-python",
   "name": "python",
   "nbconvert_exporter": "python",
   "pygments_lexer": "ipython3",
   "version": "3.8.9"
  },
  "toc": {
   "base_numbering": 1,
   "nav_menu": {},
   "number_sections": true,
   "sideBar": true,
   "skip_h1_title": false,
   "title_cell": "Table of Contents",
   "title_sidebar": "Contents",
   "toc_cell": false,
   "toc_position": {},
   "toc_section_display": true,
   "toc_window_display": false
  }
 },
 "nbformat": 4,
 "nbformat_minor": 5
}
