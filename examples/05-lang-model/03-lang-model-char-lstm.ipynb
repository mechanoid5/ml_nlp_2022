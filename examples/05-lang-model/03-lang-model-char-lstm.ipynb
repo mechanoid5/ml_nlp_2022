{
 "cells": [
  {
   "cell_type": "markdown",
   "metadata": {},
   "source": [
    "__Нейросетевая языковая модель__ \n",
    "\n",
    "\n",
    "char-LSTM\n",
    "\n",
    "Евгений Борисов <esborisov@sevsu.ru>\n",
    "\n",
    "генерирует следующий символ по предыдущим"
   ]
  },
  {
   "cell_type": "code",
   "execution_count": 1,
   "metadata": {},
   "outputs": [],
   "source": [
    "import gzip\n",
    "import re\n",
    "import numpy as np\n",
    "from numpy import random as rng\n",
    "import pandas as pd\n",
    "from tqdm import tqdm\n",
    "from os.path import join as pjoin"
   ]
  },
  {
   "cell_type": "code",
   "execution_count": 2,
   "metadata": {},
   "outputs": [],
   "source": [
    "def ppr(df): return print(len(df))\n",
    "\n",
    "def replace_patterns(s,pat):\n",
    "    if len(pat)<1: return s\n",
    "    return  replace_patterns( re.sub(pat[0][0],pat[0][1],s), pat[1:] )"
   ]
  },
  {
   "cell_type": "code",
   "execution_count": 3,
   "metadata": {},
   "outputs": [],
   "source": [
    "np.set_printoptions(precision=2) # вывод на печать чисел до 2 знака\n",
    "pd.options.display.max_colwidth=200 \n",
    "\n",
    "tqdm.pandas()"
   ]
  },
  {
   "cell_type": "code",
   "execution_count": 4,
   "metadata": {},
   "outputs": [],
   "source": [
    "FOLDER_RESULT='result'"
   ]
  },
  {
   "cell_type": "code",
   "execution_count": 5,
   "metadata": {},
   "outputs": [
    {
     "name": "stdout",
     "output_type": "stream",
     "text": [
      "mkdir: невозможно создать каталог «result»: Файл существует\r\n"
     ]
    }
   ],
   "source": [
    "!mkdir result"
   ]
  },
  {
   "cell_type": "markdown",
   "metadata": {},
   "source": [
    "## загружаем данные"
   ]
  },
  {
   "cell_type": "code",
   "execution_count": 6,
   "metadata": {},
   "outputs": [
    {
     "name": "stdout",
     "output_type": "stream",
     "text": [
      "465595\n"
     ]
    }
   ],
   "source": [
    "FILE_DATA = '../data/dostoevsky-besy-p2.txt.gz'\n",
    "with gzip.open(FILE_DATA,'rt',encoding='utf-8') as f: text = f.read()     \n",
    "ppr(text)    "
   ]
  },
  {
   "cell_type": "code",
   "execution_count": 7,
   "metadata": {},
   "outputs": [
    {
     "name": "stdout",
     "output_type": "stream",
     "text": [
      "БЕСЫ\n",
      "\n",
      "Федор Михайлович Достоевский\n",
      "\n",
      "\n",
      "\n",
      "\n",
      "\n",
      "ЧАСТЬ ВТОРАЯ\n",
      "\n",
      "\n",
      "\n",
      "ГЛАВА ПЕРВАЯ\n",
      "\n",
      "\n",
      "\n",
      "Ночь\n",
      "\n",
      "\n",
      "\n",
      "I\n",
      "\n",
      "\n",
      "\n",
      "Прошло восемь дней. Теперь, когда уже все прошло, и я пишу хронику, мы уже знаем в чем дело; но тогда мы еще ничего...\n"
     ]
    }
   ],
   "source": [
    "print(text[:200]+'...')"
   ]
  },
  {
   "cell_type": "code",
   "execution_count": 8,
   "metadata": {},
   "outputs": [
    {
     "data": {
      "text/html": [
       "<div>\n",
       "<style scoped>\n",
       "    .dataframe tbody tr th:only-of-type {\n",
       "        vertical-align: middle;\n",
       "    }\n",
       "\n",
       "    .dataframe tbody tr th {\n",
       "        vertical-align: top;\n",
       "    }\n",
       "\n",
       "    .dataframe thead th {\n",
       "        text-align: right;\n",
       "    }\n",
       "</style>\n",
       "<table border=\"1\" class=\"dataframe\">\n",
       "  <thead>\n",
       "    <tr style=\"text-align: right;\">\n",
       "      <th></th>\n",
       "      <th>line</th>\n",
       "    </tr>\n",
       "  </thead>\n",
       "  <tbody>\n",
       "    <tr>\n",
       "      <th>0</th>\n",
       "      <td>БЕСЫ</td>\n",
       "    </tr>\n",
       "    <tr>\n",
       "      <th>1</th>\n",
       "      <td>Федор Михайлович Достоевский</td>\n",
       "    </tr>\n",
       "    <tr>\n",
       "      <th>2</th>\n",
       "      <td>ЧАСТЬ ВТОРАЯ</td>\n",
       "    </tr>\n",
       "    <tr>\n",
       "      <th>3</th>\n",
       "      <td>ГЛАВА ПЕРВАЯ</td>\n",
       "    </tr>\n",
       "    <tr>\n",
       "      <th>4</th>\n",
       "      <td>Ночь</td>\n",
       "    </tr>\n",
       "    <tr>\n",
       "      <th>5</th>\n",
       "      <td>I</td>\n",
       "    </tr>\n",
       "    <tr>\n",
       "      <th>6</th>\n",
       "      <td>Прошло восемь дней.</td>\n",
       "    </tr>\n",
       "    <tr>\n",
       "      <th>7</th>\n",
       "      <td>Теперь, когда уже все прошло, и я пишу хронику, мы уже знаем в чем дело;</td>\n",
       "    </tr>\n",
       "    <tr>\n",
       "      <th>8</th>\n",
       "      <td>но тогда мы еще ничего не знали, и естественно, что нам представлялись странными разные вещи.</td>\n",
       "    </tr>\n",
       "    <tr>\n",
       "      <th>9</th>\n",
       "      <td>По крайней мере мы со Степаном Трофимовичем в первое время заперлись и с испугом наблюдали издали.</td>\n",
       "    </tr>\n",
       "    <tr>\n",
       "      <th>10</th>\n",
       "      <td>Я-то кой-куда еще выходил и по-прежнему приносил ему разные вести, без чего он и пробыть не мог.</td>\n",
       "    </tr>\n",
       "    <tr>\n",
       "      <th>11</th>\n",
       "      <td>Нечего и говорить, что по городу пошли самые разнообразные слухи, то-есть насчет пощечины, обморока Лизаветы Николаевны и прочего случившегося в то воскресенье.</td>\n",
       "    </tr>\n",
       "    <tr>\n",
       "      <th>12</th>\n",
       "      <td>Но удивительно нам было то: через кого это все могло так скоро и точно выйти наружу?</td>\n",
       "    </tr>\n",
       "    <tr>\n",
       "      <th>13</th>\n",
       "      <td>Ни одно из присутствовавших тогда лиц не имело бы, кажется, ни нужды, ни выгоды нарушить секрет происшедшего.</td>\n",
       "    </tr>\n",
       "    <tr>\n",
       "      <th>14</th>\n",
       "      <td>Прислуги тогда не было;</td>\n",
       "    </tr>\n",
       "    <tr>\n",
       "      <th>15</th>\n",
       "      <td>один Лебядкин мог бы что-нибудь разболтать, не столько по злобе, потому что вышел тогда в крайнем испуге (а страх к врагу уничтожает и злобу к нему), а единственно по невоздержности.</td>\n",
       "    </tr>\n",
       "    <tr>\n",
       "      <th>16</th>\n",
       "      <td>Но Лебядкин, вместе с сестрицей, на другой же день пропал без вести;</td>\n",
       "    </tr>\n",
       "    <tr>\n",
       "      <th>17</th>\n",
       "      <td>в доме Филиппова его не оказалось, он переехал неизвестно куда и точно сгинул.</td>\n",
       "    </tr>\n",
       "    <tr>\n",
       "      <th>18</th>\n",
       "      <td>Шатов, у которого я хотел было справиться о Марье Тимофеевне, заперся и, кажется, все эти восемь дней просидел у себя на квартире, даже прервав свои занятия в городе.</td>\n",
       "    </tr>\n",
       "    <tr>\n",
       "      <th>19</th>\n",
       "      <td>Меня он не принял.</td>\n",
       "    </tr>\n",
       "    <tr>\n",
       "      <th>20</th>\n",
       "      <td>Я было зашел к нему во вторник и стукнул в дверь.</td>\n",
       "    </tr>\n",
       "    <tr>\n",
       "      <th>21</th>\n",
       "      <td>Ответа не получил, но уверенный, по несомненным данным, что он дома, постучался в другой раз.</td>\n",
       "    </tr>\n",
       "    <tr>\n",
       "      <th>22</th>\n",
       "      <td>Тогда он, соскочив по-видимому с постели, подошел крупными шагами к дверям и крикнул мне во весь голос: \"Шатова дома нет\".</td>\n",
       "    </tr>\n",
       "    <tr>\n",
       "      <th>23</th>\n",
       "      <td>Я с тем и ушел.</td>\n",
       "    </tr>\n",
       "    <tr>\n",
       "      <th>24</th>\n",
       "      <td>Мы со Степаном Трофимовичем, не без страха за смелость предположения, но обоюдно ободряя друг друга, остановились наконец на одной мысли: мы решили, что виновником разошедшихся слухов мог быть оди...</td>\n",
       "    </tr>\n",
       "    <tr>\n",
       "      <th>25</th>\n",
       "      <td>Вот что еще замечательно: на второй же день, в понедельник ввечеру, я встретил Липутина, и он уже знал все до последнего слова, стало быть, несомненно узнал из первых.</td>\n",
       "    </tr>\n",
       "    <tr>\n",
       "      <th>26</th>\n",
       "      <td>Многие из дам (и из самых светских) любопытствовали и о \"загадочной хромоножке\", так называли Марью Тимофеевну.</td>\n",
       "    </tr>\n",
       "    <tr>\n",
       "      <th>27</th>\n",
       "      <td>Нашлись даже пожелавшие непременно увидать ее лично и познакомиться, так что господа, поспешившие припрятать Лебядкиных, очевидно поступили и кстати.</td>\n",
       "    </tr>\n",
       "    <tr>\n",
       "      <th>28</th>\n",
       "      <td>Но на первом плане все-таки стоял обморок Лизаветы Николаевны, и этим интересовался \"весь свет\", уже по тому одному, что дело прямо касалось Юлии Михайловны как родственницы Лизаветы Николаевны и...</td>\n",
       "    </tr>\n",
       "    <tr>\n",
       "      <th>29</th>\n",
       "      <td>И чего-чего ни болтали!</td>\n",
       "    </tr>\n",
       "  </tbody>\n",
       "</table>\n",
       "</div>"
      ],
      "text/plain": [
       "                                                                                                                                                                                                       line\n",
       "0                                                                                                                                                                                                      БЕСЫ\n",
       "1                                                                                                                                                                              Федор Михайлович Достоевский\n",
       "2                                                                                                                                                                                              ЧАСТЬ ВТОРАЯ\n",
       "3                                                                                                                                                                                              ГЛАВА ПЕРВАЯ\n",
       "4                                                                                                                                                                                                      Ночь\n",
       "5                                                                                                                                                                                                         I\n",
       "6                                                                                                                                                                                       Прошло восемь дней.\n",
       "7                                                                                                                                  Теперь, когда уже все прошло, и я пишу хронику, мы уже знаем в чем дело;\n",
       "8                                                                                                             но тогда мы еще ничего не знали, и естественно, что нам представлялись странными разные вещи.\n",
       "9                                                                                                        По крайней мере мы со Степаном Трофимовичем в первое время заперлись и с испугом наблюдали издали.\n",
       "10                                                                                                         Я-то кой-куда еще выходил и по-прежнему приносил ему разные вести, без чего он и пробыть не мог.\n",
       "11                                         Нечего и говорить, что по городу пошли самые разнообразные слухи, то-есть насчет пощечины, обморока Лизаветы Николаевны и прочего случившегося в то воскресенье.\n",
       "12                                                                                                                     Но удивительно нам было то: через кого это все могло так скоро и точно выйти наружу?\n",
       "13                                                                                            Ни одно из присутствовавших тогда лиц не имело бы, кажется, ни нужды, ни выгоды нарушить секрет происшедшего.\n",
       "14                                                                                                                                                                                  Прислуги тогда не было;\n",
       "15                   один Лебядкин мог бы что-нибудь разболтать, не столько по злобе, потому что вышел тогда в крайнем испуге (а страх к врагу уничтожает и злобу к нему), а единственно по невоздержности.\n",
       "16                                                                                                                                     Но Лебядкин, вместе с сестрицей, на другой же день пропал без вести;\n",
       "17                                                                                                                           в доме Филиппова его не оказалось, он переехал неизвестно куда и точно сгинул.\n",
       "18                                   Шатов, у которого я хотел было справиться о Марье Тимофеевне, заперся и, кажется, все эти восемь дней просидел у себя на квартире, даже прервав свои занятия в городе.\n",
       "19                                                                                                                                                                                       Меня он не принял.\n",
       "20                                                                                                                                                        Я было зашел к нему во вторник и стукнул в дверь.\n",
       "21                                                                                                            Ответа не получил, но уверенный, по несомненным данным, что он дома, постучался в другой раз.\n",
       "22                                                                               Тогда он, соскочив по-видимому с постели, подошел крупными шагами к дверям и крикнул мне во весь голос: \"Шатова дома нет\".\n",
       "23                                                                                                                                                                                          Я с тем и ушел.\n",
       "24  Мы со Степаном Трофимовичем, не без страха за смелость предположения, но обоюдно ободряя друг друга, остановились наконец на одной мысли: мы решили, что виновником разошедшихся слухов мог быть оди...\n",
       "25                                  Вот что еще замечательно: на второй же день, в понедельник ввечеру, я встретил Липутина, и он уже знал все до последнего слова, стало быть, несомненно узнал из первых.\n",
       "26                                                                                          Многие из дам (и из самых светских) любопытствовали и о \"загадочной хромоножке\", так называли Марью Тимофеевну.\n",
       "27                                                    Нашлись даже пожелавшие непременно увидать ее лично и познакомиться, так что господа, поспешившие припрятать Лебядкиных, очевидно поступили и кстати.\n",
       "28   Но на первом плане все-таки стоял обморок Лизаветы Николаевны, и этим интересовался \"весь свет\", уже по тому одному, что дело прямо касалось Юлии Михайловны как родственницы Лизаветы Николаевны и...\n",
       "29                                                                                                                                                                                  И чего-чего ни болтали!"
      ]
     },
     "execution_count": 8,
     "metadata": {},
     "output_type": "execute_result"
    }
   ],
   "source": [
    "pat = [\n",
    "    [r'([\\.!\\?;]+)',r'\\1\\n'],\n",
    "    ['\\n+','\\n'],\n",
    "]\n",
    "\n",
    "data = pd.DataFrame({'line':replace_patterns(text,pat).split('\\n')})\n",
    "data.head(30)"
   ]
  },
  {
   "cell_type": "code",
   "execution_count": 9,
   "metadata": {},
   "outputs": [],
   "source": [
    "data = data.iloc[6:]"
   ]
  },
  {
   "cell_type": "code",
   "execution_count": 10,
   "metadata": {},
   "outputs": [
    {
     "data": {
      "text/plain": [
       "count    6828\n",
       "mean       66\n",
       "std        59\n",
       "min         0\n",
       "25%        26\n",
       "50%        49\n",
       "75%        89\n",
       "max       584\n",
       "Name: line, dtype: int64"
      ]
     },
     "execution_count": 10,
     "metadata": {},
     "output_type": "execute_result"
    }
   ],
   "source": [
    "data['line'] = data['line'].str.strip()\n",
    "data['line'].str.len().describe().astype(int)"
   ]
  },
  {
   "cell_type": "code",
   "execution_count": 11,
   "metadata": {},
   "outputs": [
    {
     "name": "stdout",
     "output_type": "stream",
     "text": [
      "6828\n",
      "6827\n"
     ]
    }
   ],
   "source": [
    "ppr(data)\n",
    "data = data[ data['line'].str.len()>0 ] \n",
    "ppr(data)"
   ]
  },
  {
   "cell_type": "code",
   "execution_count": 12,
   "metadata": {},
   "outputs": [],
   "source": [
    "# data[data['line'].str.len()<1]"
   ]
  },
  {
   "cell_type": "markdown",
   "metadata": {},
   "source": [
    "## очистка данных"
   ]
  },
  {
   "cell_type": "code",
   "execution_count": 13,
   "metadata": {},
   "outputs": [],
   "source": [
    "# def tokenize(s): \n",
    "#     return [ w.strip() for w in re.split(r'\\b| ',s) if w.strip() ]"
   ]
  },
  {
   "cell_type": "code",
   "execution_count": 14,
   "metadata": {},
   "outputs": [
    {
     "name": "stderr",
     "output_type": "stream",
     "text": [
      "100%|██████████████████████████████████████████████████████████████████████████████████████████████████████████████████████████████████████████████████████████████████████████████████████████████████| 6827/6827 [00:00<00:00, 54860.85it/s]\n"
     ]
    }
   ],
   "source": [
    "pat = [\n",
    "    [r'\"|\\'',' '],\n",
    "    [r'\\(|\\)',','],\n",
    "    ['\\d+','D'],\n",
    "    ['[a-z•^]+',' '],\n",
    "    ['\\n',' '],\n",
    "    [',',' , '],\n",
    "    ['-',' - '],\n",
    "    [r' +',' ',],\n",
    "]\n",
    "\n",
    "data['line'] = data['line']\\\n",
    "    .progress_apply(lambda s: replace_patterns(s.lower(),pat).strip() )\n",
    "#     .progress_apply(tokenize) "
   ]
  },
  {
   "cell_type": "code",
   "execution_count": 15,
   "metadata": {},
   "outputs": [],
   "source": [
    "%xdel text"
   ]
  },
  {
   "cell_type": "code",
   "execution_count": 16,
   "metadata": {},
   "outputs": [
    {
     "name": "stdout",
     "output_type": "stream",
     "text": [
      "6827\n"
     ]
    },
    {
     "data": {
      "text/html": [
       "<div>\n",
       "<style scoped>\n",
       "    .dataframe tbody tr th:only-of-type {\n",
       "        vertical-align: middle;\n",
       "    }\n",
       "\n",
       "    .dataframe tbody tr th {\n",
       "        vertical-align: top;\n",
       "    }\n",
       "\n",
       "    .dataframe thead th {\n",
       "        text-align: right;\n",
       "    }\n",
       "</style>\n",
       "<table border=\"1\" class=\"dataframe\">\n",
       "  <thead>\n",
       "    <tr style=\"text-align: right;\">\n",
       "      <th></th>\n",
       "      <th>line</th>\n",
       "    </tr>\n",
       "  </thead>\n",
       "  <tbody>\n",
       "    <tr>\n",
       "      <th>6454</th>\n",
       "      <td>этот пристав - восторженно административная личность , василий иванович флибустьеров , был еще недавним гостем в нашем городе , но уже отличился и прогремел своею непомерною ревностью , своим каки...</td>\n",
       "    </tr>\n",
       "    <tr>\n",
       "      <th>3012</th>\n",
       "      <td>вся тайна в том , что тут все зависит от взглядов правительства.</td>\n",
       "    </tr>\n",
       "    <tr>\n",
       "      <th>141</th>\n",
       "      <td>- проговорил я укоризненно.</td>\n",
       "    </tr>\n",
       "    <tr>\n",
       "      <th>670</th>\n",
       "      <td>вот прочтите это письмо , от гаганова;</td>\n",
       "    </tr>\n",
       "  </tbody>\n",
       "</table>\n",
       "</div>"
      ],
      "text/plain": [
       "                                                                                                                                                                                                         line\n",
       "6454  этот пристав - восторженно административная личность , василий иванович флибустьеров , был еще недавним гостем в нашем городе , но уже отличился и прогремел своею непомерною ревностью , своим каки...\n",
       "3012                                                                                                                                         вся тайна в том , что тут все зависит от взглядов правительства.\n",
       "141                                                                                                                                                                               - проговорил я укоризненно.\n",
       "670                                                                                                                                                                    вот прочтите это письмо , от гаганова;"
      ]
     },
     "execution_count": 16,
     "metadata": {},
     "output_type": "execute_result"
    }
   ],
   "source": [
    "ppr(data)\n",
    "data.sample(4)"
   ]
  },
  {
   "cell_type": "markdown",
   "metadata": {},
   "source": [
    "## кодируем текст"
   ]
  },
  {
   "cell_type": "code",
   "execution_count": 17,
   "metadata": {},
   "outputs": [
    {
     "data": {
      "text/plain": [
       "41"
      ]
     },
     "execution_count": 17,
     "metadata": {},
     "output_type": "execute_result"
    }
   ],
   "source": [
    "# алфавит\n",
    "abc = set(' '.join( data['line'].values.tolist() ) )\n",
    "len(abc)"
   ]
  },
  {
   "cell_type": "code",
   "execution_count": 18,
   "metadata": {},
   "outputs": [
    {
     "name": "stdout",
     "output_type": "stream",
     "text": [
      "42\n"
     ]
    }
   ],
   "source": [
    "abc = { a:i+1 for i,a in enumerate(sorted(abc)) }\n",
    "zero_symbol = '\\t'\n",
    "abc[zero_symbol] = 0\n",
    "ppr(abc)\n",
    "# abc"
   ]
  },
  {
   "cell_type": "code",
   "execution_count": 19,
   "metadata": {},
   "outputs": [],
   "source": [
    "def encode_str(s): \n",
    "    return [ abc[c] for c in list(s)]"
   ]
  },
  {
   "cell_type": "code",
   "execution_count": 20,
   "metadata": {},
   "outputs": [
    {
     "name": "stderr",
     "output_type": "stream",
     "text": [
      "100%|██████████████████████████████████████████████████████████████████████████████████████████████████████████████████████████████████████████████████████████████████████████████████████████████████| 6827/6827 [00:00<00:00, 73330.07it/s]\n"
     ]
    }
   ],
   "source": [
    "data['code'] = data['line'].progress_apply(encode_str) \n",
    "# lambda s: [ abc[c] for c in list(s)] )"
   ]
  },
  {
   "cell_type": "markdown",
   "metadata": {},
   "source": [
    "## собираем датасет"
   ]
  },
  {
   "cell_type": "code",
   "execution_count": 21,
   "metadata": {},
   "outputs": [],
   "source": [
    "hist_deep = 15 # глубина истории контекста (символов)"
   ]
  },
  {
   "cell_type": "code",
   "execution_count": 22,
   "metadata": {},
   "outputs": [
    {
     "data": {
      "text/plain": [
       "count    6827\n",
       "mean       67\n",
       "std        61\n",
       "min         0\n",
       "10%        14\n",
       "25%        26\n",
       "50%        49\n",
       "75%        91\n",
       "90%       147\n",
       "95%       188\n",
       "99%       303\n",
       "max       595\n",
       "Name: code, dtype: int64"
      ]
     },
     "execution_count": 22,
     "metadata": {},
     "output_type": "execute_result"
    }
   ],
   "source": [
    "data['code'].str.len().describe([.1,.25,.5,.75,.9,.95,.99]).astype(int)"
   ]
  },
  {
   "cell_type": "code",
   "execution_count": 23,
   "metadata": {},
   "outputs": [
    {
     "name": "stdout",
     "output_type": "stream",
     "text": [
      "6827\n",
      "5719\n"
     ]
    }
   ],
   "source": [
    "ppr(data)\n",
    "data = data[ data['code'].str.len().between(hist_deep+1,data['code'].str.len().quantile(.95)) ] \n",
    "ppr(data)"
   ]
  },
  {
   "cell_type": "code",
   "execution_count": 24,
   "metadata": {},
   "outputs": [],
   "source": [
    "# [ контекст, символ ]\n",
    "def pack_history(s,hd=hist_deep):\n",
    "    return [ [ s[i-hd:i], s[i] ] for i in range(hd,len(s)) ] "
   ]
  },
  {
   "cell_type": "code",
   "execution_count": 25,
   "metadata": {},
   "outputs": [
    {
     "name": "stderr",
     "output_type": "stream",
     "text": [
      "100%|██████████████████████████████████████████████████████████████████████████████████████████████████████████████████████████████████████████████████████████████████████████████████████████████████| 5719/5719 [00:00<00:00, 14622.08it/s]\n"
     ]
    }
   ],
   "source": [
    "d = data['code'].progress_apply(pack_history)"
   ]
  },
  {
   "cell_type": "code",
   "execution_count": 26,
   "metadata": {},
   "outputs": [
    {
     "name": "stderr",
     "output_type": "stream",
     "text": [
      "100%|██████████████████████████████████████████████████████████████████████████████████████████████████████████████████████████████████████████████████████████████████████████████████████████████████| 5719/5719 [00:00<00:00, 20642.34it/s]"
     ]
    },
    {
     "name": "stdout",
     "output_type": "stream",
     "text": [
      "CPU times: user 297 ms, sys: 0 ns, total: 297 ms\n",
      "Wall time: 295 ms\n"
     ]
    },
    {
     "name": "stderr",
     "output_type": "stream",
     "text": [
      "\n"
     ]
    },
    {
     "data": {
      "text/plain": [
       "((285770, 15), (285770,))"
      ]
     },
     "execution_count": 26,
     "metadata": {},
     "output_type": "execute_result"
    }
   ],
   "source": [
    "%%time \n",
    "\n",
    "x_context = [] \n",
    "x = []\n",
    "for s in tqdm(d.values.tolist()):\n",
    "    x_context.append(np.array([ c for c,_ in s ]))\n",
    "    x.append(np.array([ w for _,w in s ]))\n",
    "    \n",
    "x_context = np.vstack(x_context)  # контекст слова\n",
    "x = np.hstack(x) # номер слова\n",
    "\n",
    "x_context.shape, x.shape"
   ]
  },
  {
   "cell_type": "code",
   "execution_count": 27,
   "metadata": {},
   "outputs": [],
   "source": [
    "%xdel d"
   ]
  },
  {
   "cell_type": "markdown",
   "metadata": {},
   "source": [
    "## модель"
   ]
  },
  {
   "cell_type": "code",
   "execution_count": 28,
   "metadata": {},
   "outputs": [],
   "source": [
    "import tensorflow as tf\n",
    "from tensorflow.keras import Model\n",
    "from tensorflow.keras.layers import Input\n",
    "from tensorflow.keras.layers import Reshape\n",
    "from tensorflow.keras.layers import LSTM\n",
    "from tensorflow.keras.layers import Dense\n",
    "from tensorflow.keras.optimizers import Adam\n",
    "\n",
    "from tensorflow.keras.utils import plot_model"
   ]
  },
  {
   "cell_type": "code",
   "execution_count": 29,
   "metadata": {},
   "outputs": [
    {
     "data": {
      "text/plain": [
       "(285770, 15)"
      ]
     },
     "execution_count": 29,
     "metadata": {},
     "output_type": "execute_result"
    }
   ],
   "source": [
    "x_context.shape"
   ]
  },
  {
   "cell_type": "code",
   "execution_count": 30,
   "metadata": {},
   "outputs": [
    {
     "data": {
      "text/plain": [
       "(15, 42, 1024)"
      ]
     },
     "execution_count": 30,
     "metadata": {},
     "output_type": "execute_result"
    }
   ],
   "source": [
    "abc_len = len(abc) # размер алфавита\n",
    "hist_deep = x_context.shape[1] # глубина контекста\n",
    "\n",
    "code_len = 1024 # размер внутреннего представления контекста\n",
    "\n",
    "hist_deep, abc_len, code_len, "
   ]
  },
  {
   "cell_type": "code",
   "execution_count": 31,
   "metadata": {},
   "outputs": [
    {
     "name": "stderr",
     "output_type": "stream",
     "text": [
      "2022-03-03 11:41:08.188463: I tensorflow/stream_executor/cuda/cuda_gpu_executor.cc:936] successful NUMA node read from SysFS had negative value (-1), but there must be at least one NUMA node, so returning NUMA node zero\n",
      "2022-03-03 11:41:08.253557: I tensorflow/stream_executor/cuda/cuda_gpu_executor.cc:936] successful NUMA node read from SysFS had negative value (-1), but there must be at least one NUMA node, so returning NUMA node zero\n",
      "2022-03-03 11:41:08.253732: I tensorflow/stream_executor/cuda/cuda_gpu_executor.cc:936] successful NUMA node read from SysFS had negative value (-1), but there must be at least one NUMA node, so returning NUMA node zero\n",
      "2022-03-03 11:41:08.254375: I tensorflow/core/platform/cpu_feature_guard.cc:151] This TensorFlow binary is optimized with oneAPI Deep Neural Network Library (oneDNN) to use the following CPU instructions in performance-critical operations:  AVX2 FMA\n",
      "To enable them in other operations, rebuild TensorFlow with the appropriate compiler flags.\n",
      "2022-03-03 11:41:08.254849: I tensorflow/stream_executor/cuda/cuda_gpu_executor.cc:936] successful NUMA node read from SysFS had negative value (-1), but there must be at least one NUMA node, so returning NUMA node zero\n",
      "2022-03-03 11:41:08.255020: I tensorflow/stream_executor/cuda/cuda_gpu_executor.cc:936] successful NUMA node read from SysFS had negative value (-1), but there must be at least one NUMA node, so returning NUMA node zero\n",
      "2022-03-03 11:41:08.255172: I tensorflow/stream_executor/cuda/cuda_gpu_executor.cc:936] successful NUMA node read from SysFS had negative value (-1), but there must be at least one NUMA node, so returning NUMA node zero\n",
      "2022-03-03 11:41:08.619295: I tensorflow/stream_executor/cuda/cuda_gpu_executor.cc:936] successful NUMA node read from SysFS had negative value (-1), but there must be at least one NUMA node, so returning NUMA node zero\n",
      "2022-03-03 11:41:08.619454: I tensorflow/stream_executor/cuda/cuda_gpu_executor.cc:936] successful NUMA node read from SysFS had negative value (-1), but there must be at least one NUMA node, so returning NUMA node zero\n",
      "2022-03-03 11:41:08.619575: I tensorflow/stream_executor/cuda/cuda_gpu_executor.cc:936] successful NUMA node read from SysFS had negative value (-1), but there must be at least one NUMA node, so returning NUMA node zero\n",
      "2022-03-03 11:41:08.619684: I tensorflow/core/common_runtime/gpu/gpu_device.cc:1525] Created device /job:localhost/replica:0/task:0/device:GPU:0 with 4986 MB memory:  -> device: 0, name: NVIDIA GeForce GTX 1060 6GB, pci bus id: 0000:01:00.0, compute capability: 6.1\n"
     ]
    }
   ],
   "source": [
    "model_name='char-LSTM'\n",
    "\n",
    "i = Input(shape=(None, abc_len))\n",
    "o = LSTM(code_len)(i)\n",
    "o = Dense(abc_len, activation='softmax')(o)\n",
    "model = Model(i,o)"
   ]
  },
  {
   "cell_type": "code",
   "execution_count": 32,
   "metadata": {},
   "outputs": [
    {
     "data": {
      "image/png": "[encoded data removed]",
      "text/plain": [
       "<IPython.core.display.Image object>"
      ]
     },
     "execution_count": 32,
     "metadata": {},
     "output_type": "execute_result"
    }
   ],
   "source": [
    "plot_model(model,to_file=pjoin(FOLDER_RESULT,model_name+'.png'), \n",
    "                show_layer_names=True, show_shapes=True )"
   ]
  },
  {
   "cell_type": "code",
   "execution_count": 33,
   "metadata": {},
   "outputs": [],
   "source": [
    "with open( pjoin(FOLDER_RESULT,model_name+'.json'), 'wt') as f: f.write( model.to_json() )"
   ]
  },
  {
   "cell_type": "markdown",
   "metadata": {},
   "source": [
    "## обучаем модель"
   ]
  },
  {
   "cell_type": "code",
   "execution_count": 34,
   "metadata": {},
   "outputs": [],
   "source": [
    "learning_rate = 1e-3\n",
    "\n",
    "optimizer=Adam(learning_rate=learning_rate)\n",
    "model.compile(optimizer=optimizer, loss='categorical_crossentropy',metrics=['accuracy'])"
   ]
  },
  {
   "cell_type": "code",
   "execution_count": 35,
   "metadata": {},
   "outputs": [],
   "source": [
    "# np.eye(abc_len,dtype=int)[x_context[:3]].shape\n",
    "# np.eye(abc_len,dtype=int)[x[:3]].shape"
   ]
  },
  {
   "cell_type": "code",
   "execution_count": 36,
   "metadata": {},
   "outputs": [],
   "source": [
    "def encode_bin(seq,al=len(abc)):\n",
    "    return np.eye(al,dtype=int)[seq]"
   ]
  },
  {
   "cell_type": "code",
   "execution_count": 37,
   "metadata": {},
   "outputs": [],
   "source": [
    "# преобразовать весь датасет в матрицы OHE займёт очень много памяти\n",
    "# будем делать это в процессе формирования batch\n",
    "# построим генератор батчей\n",
    "\n",
    "# x - номера слов, \n",
    "# xc- цепочки номеров слов контекста для x\n",
    "# batch_size - размер пакета данных\n",
    "def data_gen(x,xc,batch_size):\n",
    "    bc = np.ceil(x.shape[0]/batch_size).astype(int) # количество пакетов данных\n",
    "    while True:\n",
    "        # перемешиваем номера примеров\n",
    "        rand_idx = rng.permutation(range(x.shape[0]))\n",
    "        # делим список индексов на части\n",
    "        batches_idx = np.array_split(rand_idx,bc)\n",
    "        # последовательно формируем и выдаём пакеты данных\n",
    "        for ii in batches_idx:\n",
    "            yield encode_bin(xc[ii,:]), encode_bin(x[ii]) "
   ]
  },
  {
   "cell_type": "code",
   "execution_count": 38,
   "metadata": {},
   "outputs": [],
   "source": [
    "# dg = data_gen(x,x_context,batch_size=8)\n",
    "# wc,w = next(dg)\n",
    "# wc.shape,w.shape"
   ]
  },
  {
   "cell_type": "code",
   "execution_count": 39,
   "metadata": {},
   "outputs": [
    {
     "name": "stdout",
     "output_type": "stream",
     "text": [
      "Epoch 1/64\n"
     ]
    },
    {
     "name": "stderr",
     "output_type": "stream",
     "text": [
      "2022-03-03 11:41:12.115857: I tensorflow/stream_executor/cuda/cuda_dnn.cc:368] Loaded cuDNN version 8300\n"
     ]
    },
    {
     "name": "stdout",
     "output_type": "stream",
     "text": [
      "139/139 [==============================] - 40s 279ms/step - loss: 2.9585 - accuracy: 0.1967\n",
      "Epoch 2/64\n",
      "139/139 [==============================] - 39s 279ms/step - loss: 2.4314 - accuracy: 0.2987\n",
      "Epoch 3/64\n",
      "139/139 [==============================] - 39s 281ms/step - loss: 2.2646 - accuracy: 0.3368\n",
      "Epoch 4/64\n",
      "139/139 [==============================] - 39s 280ms/step - loss: 2.1130 - accuracy: 0.3810\n",
      "Epoch 5/64\n",
      "139/139 [==============================] - 39s 278ms/step - loss: 1.9714 - accuracy: 0.4213\n",
      "Epoch 6/64\n",
      "139/139 [==============================] - 39s 281ms/step - loss: 1.8493 - accuracy: 0.4566\n",
      "Epoch 7/64\n",
      "139/139 [==============================] - 39s 278ms/step - loss: 1.7417 - accuracy: 0.4862\n",
      "Epoch 8/64\n",
      "139/139 [==============================] - 38s 276ms/step - loss: 1.6462 - accuracy: 0.5124\n",
      "Epoch 9/64\n",
      "139/139 [==============================] - 38s 276ms/step - loss: 1.5538 - accuracy: 0.5379\n",
      "Epoch 10/64\n",
      "139/139 [==============================] - 39s 279ms/step - loss: 1.4623 - accuracy: 0.5641\n",
      "Epoch 11/64\n",
      "139/139 [==============================] - 39s 278ms/step - loss: 1.3663 - accuracy: 0.5905\n",
      "Epoch 12/64\n",
      "139/139 [==============================] - 39s 280ms/step - loss: 1.2591 - accuracy: 0.6216\n",
      "Epoch 13/64\n",
      "139/139 [==============================] - 39s 278ms/step - loss: 1.1359 - accuracy: 0.6571\n",
      "Epoch 14/64\n",
      "139/139 [==============================] - 39s 281ms/step - loss: 0.9970 - accuracy: 0.7002\n",
      "Epoch 15/64\n",
      "139/139 [==============================] - 39s 278ms/step - loss: 0.8444 - accuracy: 0.7494\n",
      "Epoch 16/64\n",
      "139/139 [==============================] - 39s 278ms/step - loss: 0.6859 - accuracy: 0.8013\n",
      "Epoch 17/64\n",
      "139/139 [==============================] - 39s 280ms/step - loss: 0.5296 - accuracy: 0.8537\n",
      "Epoch 18/64\n",
      "139/139 [==============================] - 39s 279ms/step - loss: 0.3923 - accuracy: 0.8996\n",
      "Epoch 19/64\n",
      "139/139 [==============================] - 38s 276ms/step - loss: 0.2831 - accuracy: 0.9351\n",
      "Epoch 20/64\n",
      "139/139 [==============================] - 39s 277ms/step - loss: 0.2094 - accuracy: 0.9568\n",
      "Epoch 21/64\n",
      "139/139 [==============================] - 38s 276ms/step - loss: 0.1600 - accuracy: 0.9696\n",
      "Epoch 22/64\n",
      "139/139 [==============================] - 38s 276ms/step - loss: 0.1331 - accuracy: 0.9748\n",
      "Epoch 23/64\n",
      "139/139 [==============================] - 38s 276ms/step - loss: 0.1179 - accuracy: 0.9770\n",
      "Epoch 24/64\n",
      "139/139 [==============================] - 39s 277ms/step - loss: 0.1056 - accuracy: 0.9785\n",
      "Epoch 25/64\n",
      "139/139 [==============================] - 38s 277ms/step - loss: 0.0978 - accuracy: 0.9794\n",
      "Epoch 26/64\n",
      "139/139 [==============================] - 38s 276ms/step - loss: 0.0932 - accuracy: 0.9799\n",
      "Epoch 27/64\n",
      "139/139 [==============================] - 38s 276ms/step - loss: 0.0889 - accuracy: 0.9801\n",
      "Epoch 28/64\n",
      "139/139 [==============================] - 38s 276ms/step - loss: 0.0857 - accuracy: 0.9804\n",
      "Epoch 29/64\n",
      "139/139 [==============================] - 38s 276ms/step - loss: 0.0833 - accuracy: 0.9806\n",
      "Epoch 30/64\n",
      "139/139 [==============================] - 38s 277ms/step - loss: 0.0802 - accuracy: 0.9810\n",
      "Epoch 31/64\n",
      "139/139 [==============================] - 38s 277ms/step - loss: 0.0794 - accuracy: 0.9808\n",
      "Epoch 32/64\n",
      "139/139 [==============================] - 38s 276ms/step - loss: 0.0787 - accuracy: 0.9807\n",
      "Epoch 33/64\n",
      "139/139 [==============================] - 39s 277ms/step - loss: 0.0752 - accuracy: 0.9814\n",
      "Epoch 34/64\n",
      "139/139 [==============================] - 39s 278ms/step - loss: 0.0742 - accuracy: 0.9815\n",
      "Epoch 35/64\n",
      "139/139 [==============================] - 39s 278ms/step - loss: 0.0740 - accuracy: 0.9813\n",
      "Epoch 36/64\n",
      "139/139 [==============================] - 38s 276ms/step - loss: 0.0742 - accuracy: 0.9812\n",
      "Epoch 37/64\n",
      "139/139 [==============================] - 39s 277ms/step - loss: 0.0735 - accuracy: 0.9811\n",
      "Epoch 38/64\n",
      "139/139 [==============================] - 38s 276ms/step - loss: 0.0749 - accuracy: 0.9810\n",
      "Epoch 39/64\n",
      "139/139 [==============================] - 38s 277ms/step - loss: 0.0778 - accuracy: 0.9801\n",
      "Epoch 40/64\n",
      "139/139 [==============================] - 39s 278ms/step - loss: 0.0869 - accuracy: 0.9784\n",
      "Epoch 41/64\n",
      "139/139 [==============================] - 38s 276ms/step - loss: 0.1224 - accuracy: 0.9663\n",
      "Epoch 42/64\n",
      "139/139 [==============================] - 38s 277ms/step - loss: 0.1820 - accuracy: 0.9441\n",
      "Epoch 43/64\n",
      "139/139 [==============================] - 38s 277ms/step - loss: 0.1375 - accuracy: 0.9601\n",
      "Epoch 44/64\n",
      "139/139 [==============================] - 38s 276ms/step - loss: 0.0841 - accuracy: 0.9771\n",
      "Epoch 45/64\n",
      "139/139 [==============================] - 38s 276ms/step - loss: 0.0655 - accuracy: 0.9818\n",
      "Epoch 46/64\n",
      "139/139 [==============================] - 38s 277ms/step - loss: 0.0596 - accuracy: 0.9825\n",
      "Epoch 47/64\n",
      "139/139 [==============================] - 38s 276ms/step - loss: 0.0554 - accuracy: 0.9828\n",
      "Epoch 48/64\n",
      "139/139 [==============================] - 38s 276ms/step - loss: 0.0542 - accuracy: 0.9828\n",
      "Epoch 49/64\n",
      "139/139 [==============================] - 39s 277ms/step - loss: 0.0528 - accuracy: 0.9828\n",
      "Epoch 50/64\n",
      "139/139 [==============================] - 38s 276ms/step - loss: 0.0518 - accuracy: 0.9830\n",
      "Epoch 51/64\n",
      "139/139 [==============================] - 38s 277ms/step - loss: 0.0511 - accuracy: 0.9831\n",
      "Epoch 52/64\n",
      "139/139 [==============================] - 38s 277ms/step - loss: 0.0510 - accuracy: 0.9831\n",
      "Epoch 53/64\n",
      "139/139 [==============================] - 38s 276ms/step - loss: 0.0512 - accuracy: 0.9830\n",
      "Epoch 54/64\n",
      "139/139 [==============================] - 38s 276ms/step - loss: 0.0501 - accuracy: 0.9832\n",
      "Epoch 55/64\n",
      "139/139 [==============================] - 38s 277ms/step - loss: 0.0507 - accuracy: 0.9831\n",
      "Epoch 56/64\n",
      "139/139 [==============================] - 38s 276ms/step - loss: 0.0516 - accuracy: 0.9827\n",
      "Epoch 57/64\n",
      "139/139 [==============================] - 38s 277ms/step - loss: 0.0510 - accuracy: 0.9829\n",
      "Epoch 58/64\n",
      "139/139 [==============================] - 38s 276ms/step - loss: 0.0524 - accuracy: 0.9826\n",
      "Epoch 59/64\n",
      "139/139 [==============================] - 38s 276ms/step - loss: 0.0525 - accuracy: 0.9828\n",
      "Epoch 60/64\n",
      "139/139 [==============================] - 38s 276ms/step - loss: 0.0544 - accuracy: 0.9827\n",
      "Epoch 61/64\n",
      "139/139 [==============================] - 38s 276ms/step - loss: 0.1044 - accuracy: 0.9675\n",
      "Epoch 62/64\n",
      "139/139 [==============================] - 39s 278ms/step - loss: 0.3763 - accuracy: 0.8755\n",
      "Epoch 63/64\n",
      "139/139 [==============================] - 39s 278ms/step - loss: 0.1719 - accuracy: 0.9440\n",
      "Epoch 64/64\n",
      "139/139 [==============================] - 38s 277ms/step - loss: 0.0729 - accuracy: 0.9779\n",
      "CPU times: user 28min 59s, sys: 11.2 s, total: 29min 11s\n",
      "Wall time: 41min 23s\n"
     ]
    }
   ],
   "source": [
    "%%time \n",
    "\n",
    "n_epochs = 64\n",
    "# batch_size = 6144\n",
    "batch_size = 2048\n",
    "\n",
    "hist = model.fit(\n",
    "    data_gen(x,x_context,batch_size),\n",
    "    steps_per_epoch = x.shape[0]//batch_size,\n",
    "    epochs = n_epochs\n",
    ")"
   ]
  },
  {
   "cell_type": "code",
   "execution_count": null,
   "metadata": {},
   "outputs": [],
   "source": [
    "# model.save_weights( pjoin(FOLDER_RESULT,model_name+'-%02d.tf'%(n_epochs) ), save_format='tf') "
   ]
  },
  {
   "cell_type": "markdown",
   "metadata": {},
   "source": [
    "---"
   ]
  },
  {
   "cell_type": "code",
   "execution_count": 40,
   "metadata": {},
   "outputs": [
    {
     "data": {
      "image/png": "[encoded data removed]",
      "text/plain": [
       "<Figure size 864x288 with 2 Axes>"
      ]
     },
     "metadata": {
      "needs_background": "light"
     },
     "output_type": "display_data"
    }
   ],
   "source": [
    "from matplotlib import pyplot as plt\n",
    "\n",
    "k = hist.history.keys()\n",
    "\n",
    "w,h = 6,4\n",
    "\n",
    "fig,ax = plt.subplots(1,len(k),figsize=(w*len(k),h))\n",
    "for i,n in enumerate(k):\n",
    "    ax[i].plot(hist.history[n],label=n)\n",
    "    ax[i].grid(True)\n",
    "    ax[i].legend()\n",
    "    ax[i].set_ylim([-.1,1.1])"
   ]
  },
  {
   "cell_type": "markdown",
   "metadata": {},
   "source": [
    "## тестируем"
   ]
  },
  {
   "cell_type": "code",
   "execution_count": 41,
   "metadata": {},
   "outputs": [],
   "source": [
    "# !ls result"
   ]
  },
  {
   "cell_type": "code",
   "execution_count": 42,
   "metadata": {},
   "outputs": [],
   "source": [
    "# from tensorflow.keras.models import model_from_json\n",
    "# # from tensorflow.keras.models import load_model\n",
    "\n",
    "# fname='result/charCNN-BiLSTM.json'\n",
    "# with open( fname, 'rt') as f: model = model_from_json(f.read())\n",
    "# #model.compile(optimizer='Adam', loss='categorical_crossentropy',metrics=['accuracy'])\n",
    "\n",
    "# fname = 'result/charCNN-BiLSTM-64.tf'\n",
    "# model.load_weights( fname )     "
   ]
  },
  {
   "cell_type": "code",
   "execution_count": 43,
   "metadata": {},
   "outputs": [],
   "source": [
    "abc_inv = { abc[k]:k for k in abc } # декодер символов"
   ]
  },
  {
   "cell_type": "code",
   "execution_count": 44,
   "metadata": {},
   "outputs": [
    {
     "data": {
      "text/plain": [
       "'- вдруг вскинул'"
      ]
     },
     "execution_count": 44,
     "metadata": {},
     "output_type": "execute_result"
    }
   ],
   "source": [
    "# начальный контекст\n",
    "s = data['line'].sample().values[0][:hist_deep]\n",
    "s"
   ]
  },
  {
   "cell_type": "code",
   "execution_count": 45,
   "metadata": {},
   "outputs": [
    {
     "data": {
      "text/plain": [
       "'- вдруг вскинул | ся николай всеволодович , - вы , стало быть , вы брали деньги.'"
      ]
     },
     "execution_count": 45,
     "metadata": {},
     "output_type": "execute_result"
    }
   ],
   "source": [
    "o = s + ' | ' # результат\n",
    "\n",
    "for i in range(400):\n",
    "    t = encode_bin(encode_str(s))[np.newaxis,:]\n",
    "    p = model.predict(t)\n",
    "    r = np.argmax(p)\n",
    "    c = abc_inv[r]\n",
    "    s = s[1:] + c\n",
    "    o += c\n",
    "    if c == '.': break\n",
    "\n",
    "o"
   ]
  },
  {
   "cell_type": "code",
   "execution_count": 46,
   "metadata": {},
   "outputs": [
    {
     "data": {
      "text/plain": [
       "'ы брали деньги.'"
      ]
     },
     "execution_count": 46,
     "metadata": {},
     "output_type": "execute_result"
    }
   ],
   "source": [
    "s"
   ]
  },
  {
   "cell_type": "code",
   "execution_count": null,
   "metadata": {},
   "outputs": [],
   "source": []
  }
 ],
 "metadata": {
  "kernelspec": {
   "display_name": "Python 3 (ipykernel)",
   "language": "python",
   "name": "python3"
  },
  "language_info": {
   "codemirror_mode": {
    "name": "ipython",
    "version": 3
   },
   "file_extension": ".py",
   "mimetype": "text/x-python",
   "name": "python",
   "nbconvert_exporter": "python",
   "pygments_lexer": "ipython3",
   "version": "3.8.9"
  },
  "toc": {
   "base_numbering": 1,
   "nav_menu": {},
   "number_sections": true,
   "sideBar": true,
   "skip_h1_title": false,
   "title_cell": "Table of Contents",
   "title_sidebar": "Contents",
   "toc_cell": false,
   "toc_position": {
    "height": "calc(100% - 180px)",
    "left": "10px",
    "top": "150px",
    "width": "218.594px"
   },
   "toc_section_display": true,
   "toc_window_display": false
  }
 },
 "nbformat": 4,
 "nbformat_minor": 2
}
