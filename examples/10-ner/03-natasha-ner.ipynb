{
 "cells": [
  {
   "cell_type": "markdown",
   "id": "6dd55182",
   "metadata": {},
   "source": [
    "__Извлечение именованных сущностей из текстов__\n",
    "\n",
    "Евгений Борисов <esborisov@sevsu.ru>"
   ]
  },
  {
   "cell_type": "markdown",
   "id": "d4535af7",
   "metadata": {},
   "source": [
    "---"
   ]
  },
  {
   "cell_type": "markdown",
   "id": "1286685d",
   "metadata": {},
   "source": [
    "https://github.com/natasha/slovnet"
   ]
  },
  {
   "cell_type": "markdown",
   "id": "75a26eae",
   "metadata": {},
   "source": [
    "---"
   ]
  },
  {
   "cell_type": "code",
   "execution_count": 1,
   "id": "1eabd45f",
   "metadata": {},
   "outputs": [
    {
     "data": {
      "text/plain": [
       "[{'year': 2017, 'month': 1, 'day': 24},\n",
       " {'year': 2015},\n",
       " {'year': 2014},\n",
       " {'month': 4, 'day': 1},\n",
       " {'year': 2017, 'month': 5},\n",
       " {'year': 2017, 'month': 5, 'day': 9}]"
      ]
     },
     "execution_count": 1,
     "metadata": {},
     "output_type": "execute_result"
    }
   ],
   "source": [
    "text = '24.01.2017, 2015 год, 2014 г, 1 апреля, май 2017 г., 9 мая 2017 года'\n",
    "\n",
    "from natasha import MorphVocab\n",
    "from natasha import DatesExtractor\n",
    "\n",
    "list( DatesExtractor( MorphVocab() )(text) )\n",
    "\n",
    "[ dict( m.as_json['fact'].as_json ) for m in DatesExtractor( MorphVocab() )(text) ]"
   ]
  },
  {
   "cell_type": "markdown",
   "id": "73eeba80",
   "metadata": {},
   "source": [
    "---"
   ]
  },
  {
   "cell_type": "code",
   "execution_count": 2,
   "id": "349e2a84",
   "metadata": {},
   "outputs": [],
   "source": [
    "text = (\n",
    "'В мероприятии примут участие не только российские учёные,'\n",
    "' но и зарубежные исследователи, в том числе, Крис Хелмбрехт '\n",
    "'- управляющий директор и совладелец креативного агентства'\n",
    "' Kollektiv (Германия, США), Ннека Угбома - руководитель проекта'\n",
    "' Mushroom works (Великобритания), Гергей Ковач - политик и лидер'\n",
    "' субкультурной партии «Dog with two tails» (Венгрия),'\n",
    "' Георг Жено - немецкий режиссёр, один из создателей экспериментального'\n",
    "' театра «Театр.doc», Театра им. Йозефа Бойса (Германия).'\n",
    ")"
   ]
  },
  {
   "cell_type": "code",
   "execution_count": 5,
   "id": "c9924a29",
   "metadata": {},
   "outputs": [
    {
     "data": {
      "text/html": [
       "<div class=\"tex2jax_ignore\" style=\"white-space: pre-wrap\">В мероприятии примут участие не только российские учёные, но и зарубежные исследователи, в том числе, <span style=\"padding: 2px; border-radius: 4px; border: 1px solid #bbdefb; background: #e3f2fd\">Крис Хелмбрехт<span style=\"vertical-align: middle; margin-left: 2px; font-size: 0.7em; color: #64b5f6;\">PER</span></span> - управляющий директор и совладелец креативного агентства <span style=\"padding: 2px; border-radius: 4px; border: 1px solid #c8e6c9; background: #e8f5e9\">Kollektiv<span style=\"vertical-align: middle; margin-left: 2px; font-size: 0.7em; color: #66bb6a;\">ORG</span></span> (<span style=\"padding: 2px; border-radius: 4px; border: 1px solid #ffcdd2; background: #ffebee\">Германия<span style=\"vertical-align: middle; margin-left: 2px; font-size: 0.7em; color: #e57373;\">LOC</span></span>, <span style=\"padding: 2px; border-radius: 4px; border: 1px solid #ffcdd2; background: #ffebee\">США<span style=\"vertical-align: middle; margin-left: 2px; font-size: 0.7em; color: #e57373;\">LOC</span></span>), <span style=\"padding: 2px; border-radius: 4px; border: 1px solid #bbdefb; background: #e3f2fd\">Ннека Угбома<span style=\"vertical-align: middle; margin-left: 2px; font-size: 0.7em; color: #64b5f6;\">PER</span></span> - руководитель проекта <span style=\"padding: 2px; border-radius: 4px; border: 1px solid #c8e6c9; background: #e8f5e9\">Mushroom works<span style=\"vertical-align: middle; margin-left: 2px; font-size: 0.7em; color: #66bb6a;\">ORG</span></span> (<span style=\"padding: 2px; border-radius: 4px; border: 1px solid #ffcdd2; background: #ffebee\">Великобритания<span style=\"vertical-align: middle; margin-left: 2px; font-size: 0.7em; color: #e57373;\">LOC</span></span>), <span style=\"padding: 2px; border-radius: 4px; border: 1px solid #bbdefb; background: #e3f2fd\">Гергей Ковач<span style=\"vertical-align: middle; margin-left: 2px; font-size: 0.7em; color: #64b5f6;\">PER</span></span> - политик и лидер субкультурной партии «Dog with two tails» (<span style=\"padding: 2px; border-radius: 4px; border: 1px solid #ffcdd2; background: #ffebee\">Венгрия<span style=\"vertical-align: middle; margin-left: 2px; font-size: 0.7em; color: #e57373;\">LOC</span></span>), <span style=\"padding: 2px; border-radius: 4px; border: 1px solid #bbdefb; background: #e3f2fd\">Георг Жено<span style=\"vertical-align: middle; margin-left: 2px; font-size: 0.7em; color: #64b5f6;\">PER</span></span> - немецкий режиссёр, один из создателей экспериментального театра «<span style=\"padding: 2px; border-radius: 4px; border: 1px solid #c8e6c9; background: #e8f5e9\">Театр.doc<span style=\"vertical-align: middle; margin-left: 2px; font-size: 0.7em; color: #66bb6a;\">ORG</span></span>», <span style=\"padding: 2px; border-radius: 4px; border: 1px solid #c8e6c9; background: #e8f5e9\">Театра им.<span style=\"vertical-align: middle; margin-left: 2px; font-size: 0.7em; color: #66bb6a;\">ORG</span></span> <span style=\"padding: 2px; border-radius: 4px; border: 1px solid #bbdefb; background: #e3f2fd\">Йозефа Бойса<span style=\"vertical-align: middle; margin-left: 2px; font-size: 0.7em; color: #64b5f6;\">PER</span></span> (<span style=\"padding: 2px; border-radius: 4px; border: 1px solid #ffcdd2; background: #ffebee\">Германия<span style=\"vertical-align: middle; margin-left: 2px; font-size: 0.7em; color: #e57373;\">LOC</span></span>).</div>"
      ],
      "text/plain": [
       "<IPython.core.display.HTML object>"
      ]
     },
     "metadata": {},
     "output_type": "display_data"
    }
   ],
   "source": [
    "from ipymarkup import show_span_box_markup as show_markup\n",
    "from natasha import Doc\n",
    "from natasha import Segmenter\n",
    "from natasha import NewsNERTagger\n",
    "from natasha import NewsEmbedding\n",
    "\n",
    "doc = Doc(text)\n",
    "doc.segment(Segmenter())\n",
    "doc.tag_ner( NewsNERTagger(NewsEmbedding()) )\n",
    "\n",
    "# doc.ner.print()\n",
    "show_markup(text, doc.ner.spans )"
   ]
  },
  {
   "cell_type": "code",
   "execution_count": null,
   "id": "f1ee3ba1",
   "metadata": {},
   "outputs": [],
   "source": []
  }
 ],
 "metadata": {
  "kernelspec": {
   "display_name": "Python 3 (ipykernel)",
   "language": "python",
   "name": "python3"
  },
  "language_info": {
   "codemirror_mode": {
    "name": "ipython",
    "version": 3
   },
   "file_extension": ".py",
   "mimetype": "text/x-python",
   "name": "python",
   "nbconvert_exporter": "python",
   "pygments_lexer": "ipython3",
   "version": "3.8.9"
  },
  "toc": {
   "base_numbering": 1,
   "nav_menu": {},
   "number_sections": true,
   "sideBar": true,
   "skip_h1_title": false,
   "title_cell": "Table of Contents",
   "title_sidebar": "Contents",
   "toc_cell": false,
   "toc_position": {},
   "toc_section_display": true,
   "toc_window_display": false
  }
 },
 "nbformat": 4,
 "nbformat_minor": 5
}
