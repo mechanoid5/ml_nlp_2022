{
 "cells": [
  {
   "cell_type": "markdown",
   "id": "5130613a",
   "metadata": {},
   "source": [
    "**Грамматический анализатор для калькулятора**\n",
    "\n",
    "Евгений Борисов <esborisov@sevsu.ru>\n",
    "\n",
    "библиотека [Python Lex-Yacc](https://ply.readthedocs.io/en/latest/ply.html)"
   ]
  },
  {
   "cell_type": "markdown",
   "id": "9ec3992f",
   "metadata": {},
   "source": [
    "Виталий Дятлов  \n",
    "Разбор кода и построение синтаксических деревьев с PLY.   \n",
    "https://habr.com/ru/post/191252/\n",
    "\n",
    "\n",
    "David Beazley    \n",
    "A simple calculator with variables.   \n",
    "https://pythonrepo.com/repo/dabeaz-ply-python-text-processing"
   ]
  },
  {
   "cell_type": "code",
   "execution_count": 1,
   "id": "0a19b40c",
   "metadata": {},
   "outputs": [],
   "source": [
    "# !pip install ply"
   ]
  },
  {
   "cell_type": "code",
   "execution_count": 2,
   "id": "4bd5d917",
   "metadata": {},
   "outputs": [],
   "source": [
    "__file__ = '01-ply-calc.ipynb'"
   ]
  },
  {
   "cell_type": "code",
   "execution_count": 9,
   "id": "f55d2004",
   "metadata": {},
   "outputs": [],
   "source": [
    "# Build the lexer\n",
    "import ply.lex as lex\n",
    "\n",
    "tokens = (\n",
    "    'INTEGER',\n",
    "    'PLUS','MINUS','TIMES','DIVIDE',\n",
    "    'LPAREN','RPAREN',\n",
    "    )\n",
    "\n",
    "# Tokens\n",
    "t_PLUS    = r'\\+'\n",
    "t_MINUS   = r'-'\n",
    "t_TIMES   = r'\\*'\n",
    "t_DIVIDE  = r'/'\n",
    "t_LPAREN  = r'\\('\n",
    "t_RPAREN  = r'\\)'\n",
    "\n",
    "# Ignored characters\n",
    "t_ignore = \" \\t\"\n",
    "\n",
    "def t_INTEGER(t):\n",
    "    r'\\d+'\n",
    "    t.value = int(t.value)\n",
    "    return t\n",
    "\n",
    "def t_error(t):\n",
    "    print(f\"Illegal character {t.value[0]!r}\")\n",
    "    t.lexer.skip(1)\n",
    "\n",
    "\n",
    "lexer = lex.lex()"
   ]
  },
  {
   "cell_type": "code",
   "execution_count": 5,
   "id": "eedd089f",
   "metadata": {},
   "outputs": [
    {
     "name": "stderr",
     "output_type": "stream",
     "text": [
      "Generating LALR tables\n"
     ]
    }
   ],
   "source": [
    "import ply.yacc as yacc\n",
    "\n",
    "# Precedence rules for the arithmetic operators\n",
    "precedence = (\n",
    "    ('left','PLUS','MINUS'),\n",
    "    ('left','TIMES','DIVIDE'),\n",
    "    ('right','UMINUS'),\n",
    "    )\n",
    "\n",
    "def p_statement_expr(p):\n",
    "    'statement : expression'\n",
    "    print(p[1])\n",
    "\n",
    "def p_expression_binop(p):\n",
    "    '''expression : expression PLUS expression\n",
    "                  | expression MINUS expression\n",
    "                  | expression TIMES expression\n",
    "                  | expression DIVIDE expression'''\n",
    "    if   p[2] == '+': p[0] = p[1] + p[3]\n",
    "    elif p[2] == '-': p[0] = p[1] - p[3]\n",
    "    elif p[2] == '*': p[0] = p[1] * p[3]\n",
    "    elif p[2] == '/': p[0] = p[1] / p[3]\n",
    "\n",
    "def p_expression_uminus(p):\n",
    "    'expression : MINUS expression %prec UMINUS'\n",
    "    p[0] = -p[2]\n",
    "\n",
    "def p_expression_group(p):\n",
    "    'expression : LPAREN expression RPAREN'\n",
    "    p[0] = p[2]\n",
    "\n",
    "def p_expression_number(p):\n",
    "    'expression : INTEGER'\n",
    "    p[0] = p[1]\n",
    "\n",
    "def p_error(p):\n",
    "    print(f\"Syntax error at {p.value!r}\")\n",
    "\n",
    "parser = yacc.yacc(write_tables=False)"
   ]
  },
  {
   "cell_type": "code",
   "execution_count": 6,
   "id": "e983b41c",
   "metadata": {},
   "outputs": [
    {
     "name": "stdout",
     "output_type": "stream",
     "text": [
      "calc > 3+4\n",
      "7\n",
      "calc > (3+7)/4\n",
      "2.5\n",
      "calc > \n",
      "error: 'NoneType' object has no attribute 'value'\n"
     ]
    }
   ],
   "source": [
    "while True:\n",
    "    try:\n",
    "        s = input('calc > ')\n",
    "        parser.parse(s)\n",
    "    except Exception as e:\n",
    "        print('error:',e)\n",
    "        break"
   ]
  }
 ],
 "metadata": {
  "kernelspec": {
   "display_name": "Python 3 (ipykernel)",
   "language": "python",
   "name": "python3"
  },
  "language_info": {
   "codemirror_mode": {
    "name": "ipython",
    "version": 3
   },
   "file_extension": ".py",
   "mimetype": "text/x-python",
   "name": "python",
   "nbconvert_exporter": "python",
   "pygments_lexer": "ipython3",
   "version": "3.8.9"
  },
  "toc": {
   "base_numbering": 1,
   "nav_menu": {},
   "number_sections": true,
   "sideBar": true,
   "skip_h1_title": false,
   "title_cell": "Table of Contents",
   "title_sidebar": "Contents",
   "toc_cell": false,
   "toc_position": {},
   "toc_section_display": true,
   "toc_window_display": false
  }
 },
 "nbformat": 4,
 "nbformat_minor": 5
}
