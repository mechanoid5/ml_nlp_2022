{
 "cells": [
  {
   "cell_type": "markdown",
   "metadata": {},
   "source": [
    "**тематическое моделирование**\n",
    "\n",
    "Евгений Борисов borisov.e@solarl.ru"
   ]
  },
  {
   "cell_type": "code",
   "execution_count": 1,
   "metadata": {},
   "outputs": [],
   "source": [
    "# http://scikit-learn.org/stable/auto_examples/applications/plot_topics_extraction_with_nmf_lda.html\n",
    "\n",
    "# разложение частотной матрицы [ слова x документы ]  \n",
    "#\n",
    "# получаем матрицу с описанием тем [ слова х темы ]   \n",
    "# и матрицу вероятностей событий \"тема описывает документ\"  [ темы х документы ]\n",
    "# \n",
    "# [ слова x документы ] = [ слова х темы ] * [ темы х документы ]\n",
    "# \n",
    "# p(w|d) = p(w|t) * p(t|d)"
   ]
  },
  {
   "cell_type": "markdown",
   "metadata": {},
   "source": [
    "## библиотеки"
   ]
  },
  {
   "cell_type": "code",
   "execution_count": 2,
   "metadata": {},
   "outputs": [],
   "source": [
    "import re\n",
    "# import gzip\n",
    "import numpy as np\n",
    "import numpy.random as rng\n",
    "import pandas as pd\n",
    "from tqdm import tqdm\n",
    "from matplotlib import pyplot as plt\n",
    "\n",
    "np.set_printoptions(precision=2) # вывод на печать чисел до 2 знака\n",
    "pd.options.display.max_colwidth = 200 \n",
    "\n",
    "tqdm.pandas()"
   ]
  },
  {
   "cell_type": "code",
   "execution_count": 3,
   "metadata": {},
   "outputs": [
    {
     "data": {
      "text/plain": [
       "'0.24.1'"
      ]
     },
     "execution_count": 3,
     "metadata": {},
     "output_type": "execute_result"
    }
   ],
   "source": [
    "from sklearn import __version__ as SKLEARN_VERSION\n",
    "\n",
    "from sklearn.feature_extraction.text import CountVectorizer\n",
    "from sklearn.feature_extraction.text import TfidfVectorizer\n",
    "\n",
    "from sklearn.decomposition import LatentDirichletAllocation\n",
    "from sklearn.decomposition import NMF\n",
    "\n",
    "from pymorphy2 import MorphAnalyzer\n",
    "\n",
    "SKLEARN_VERSION"
   ]
  },
  {
   "cell_type": "markdown",
   "metadata": {},
   "source": [
    "## тексты"
   ]
  },
  {
   "cell_type": "code",
   "execution_count": 4,
   "metadata": {},
   "outputs": [
    {
     "name": "stdout",
     "output_type": "stream",
     "text": [
      "текстов: 3196\n"
     ]
    },
    {
     "data": {
      "text/html": [
       "<div>\n",
       "<style scoped>\n",
       "    .dataframe tbody tr th:only-of-type {\n",
       "        vertical-align: middle;\n",
       "    }\n",
       "\n",
       "    .dataframe tbody tr th {\n",
       "        vertical-align: top;\n",
       "    }\n",
       "\n",
       "    .dataframe thead th {\n",
       "        text-align: right;\n",
       "    }\n",
       "</style>\n",
       "<table border=\"1\" class=\"dataframe\">\n",
       "  <thead>\n",
       "    <tr style=\"text-align: right;\">\n",
       "      <th></th>\n",
       "      <th>text</th>\n",
       "      <th>tag</th>\n",
       "    </tr>\n",
       "  </thead>\n",
       "  <tbody>\n",
       "    <tr>\n",
       "      <th>1009</th>\n",
       "      <td>Торговля перешла на экономрежим\\n\\n30 ноября 2016 в 19:14\\n\\nАлександр Заяц / TUT.BY\\n\\nБелорусские ритейлеры в условиях падения доходов населения и увеличения административных издержек вынуждены ...</td>\n",
       "      <td>economics</td>\n",
       "    </tr>\n",
       "    <tr>\n",
       "      <th>2276</th>\n",
       "      <td>На магистрали Кемерово – Ленинск-Кузнецкий произошло сразу несколько аварий в общей сложности с участием восьми машин.\\n\\nВо вторник, 13 декабря, на 15 километре автомагистрали Кемерово – Ленинск-...</td>\n",
       "      <td>incident</td>\n",
       "    </tr>\n",
       "    <tr>\n",
       "      <th>1393</th>\n",
       "      <td>Москва, 13 декабря. Опрос, проведенный социологическим «Аналитическим центром Юрия Левады» показал, что три четверти россиян уверены в том, что президент Владимир Путин последовательно работает на...</td>\n",
       "      <td>politics</td>\n",
       "    </tr>\n",
       "    <tr>\n",
       "      <th>252</th>\n",
       "      <td>Пугачева за 1 млн долларов рассказала о любви и разводе с Киркоровым Якобы,\\nобедая в ресторане с известным пародистом и телеведущим, Алла Борисовна\\nзаявила официанту, \"они с мужем\" желают заказа...</td>\n",
       "      <td>culture</td>\n",
       "    </tr>\n",
       "  </tbody>\n",
       "</table>\n",
       "</div>"
      ],
      "text/plain": [
       "                                                                                                                                                                                                         text  \\\n",
       "1009  Торговля перешла на экономрежим\\n\\n30 ноября 2016 в 19:14\\n\\nАлександр Заяц / TUT.BY\\n\\nБелорусские ритейлеры в условиях падения доходов населения и увеличения административных издержек вынуждены ...   \n",
       "2276  На магистрали Кемерово – Ленинск-Кузнецкий произошло сразу несколько аварий в общей сложности с участием восьми машин.\\n\\nВо вторник, 13 декабря, на 15 километре автомагистрали Кемерово – Ленинск-...   \n",
       "1393  Москва, 13 декабря. Опрос, проведенный социологическим «Аналитическим центром Юрия Левады» показал, что три четверти россиян уверены в том, что президент Владимир Путин последовательно работает на...   \n",
       "252   Пугачева за 1 млн долларов рассказала о любви и разводе с Киркоровым Якобы,\\nобедая в ресторане с известным пародистом и телеведущим, Алла Борисовна\\nзаявила официанту, \"они с мужем\" желают заказа...   \n",
       "\n",
       "            tag  \n",
       "1009  economics  \n",
       "2276   incident  \n",
       "1393   politics  \n",
       "252     culture  "
      ]
     },
     "execution_count": 4,
     "metadata": {},
     "output_type": "execute_result"
    }
   ],
   "source": [
    "data = pd.read_pickle('../data/news.pkl.gz')\n",
    "print('текстов:',len(data))\n",
    "data.sample(4)"
   ]
  },
  {
   "cell_type": "markdown",
   "metadata": {},
   "source": [
    "## токенизация и очистка"
   ]
  },
  {
   "cell_type": "code",
   "execution_count": 5,
   "metadata": {},
   "outputs": [],
   "source": [
    "from nltk.corpus import stopwords as nltk_stopwords\n",
    "stopwords = set(nltk_stopwords.words('russian'))"
   ]
  },
  {
   "cell_type": "code",
   "execution_count": 6,
   "metadata": {},
   "outputs": [],
   "source": [
    "# лемматизация и очистка с помощью пакета морфологического анализа\n",
    "\n",
    "morph = MorphAnalyzer()\n",
    "\n",
    "# NOUN\tсуществительное\n",
    "# VERB\tглагол\n",
    "# ADJF\tприлагательное\n",
    "def word_normalizer(w, pos_types=('NOUN','VERB','ADJF')):\n",
    "    if not morph.word_is_known(w): return ''\n",
    "    p = morph.parse(w)[0] \n",
    "    return p.normal_form if (p.tag.POS in pos_types) else ''\n",
    "\n",
    "def string_normalizer(s):\n",
    "    return re.sub(r'[\\W]+',' ',s.lower().replace('ё','е'))\n",
    "\n",
    "def text_normalizer(s):\n",
    "    return [ word_normalizer(w) for w in string_normalizer(s).split() ]\n",
    "\n",
    "def drop_stopwords(s):\n",
    "    return [ w for w in s if ( w not in stopwords ) ]"
   ]
  },
  {
   "cell_type": "code",
   "execution_count": 7,
   "metadata": {},
   "outputs": [
    {
     "name": "stderr",
     "output_type": "stream",
     "text": [
      "100%|██████████| 3196/3196 [01:59<00:00, 26.76it/s]\n",
      "100%|██████████| 3196/3196 [00:00<00:00, 58665.96it/s]\n"
     ]
    }
   ],
   "source": [
    "data['ctext'] = data['text']\\\n",
    "        .progress_apply(text_normalizer)\\\n",
    "        .progress_apply(drop_stopwords)\\\n",
    "        .apply(' '.join)"
   ]
  },
  {
   "cell_type": "markdown",
   "metadata": {},
   "source": [
    "## модели"
   ]
  },
  {
   "cell_type": "code",
   "execution_count": 8,
   "metadata": {},
   "outputs": [],
   "source": [
    "def print_top_words(model, feature_names, n_top_words=7):\n",
    "    for topic_idx, topic in enumerate(model.components_):\n",
    "        message = \"Тема %d: \" % topic_idx\n",
    "        message += \" \".join([feature_names[i] for i in topic.argsort()[:-n_top_words - 1:-1]])\n",
    "        print(message)"
   ]
  },
  {
   "cell_type": "code",
   "execution_count": 9,
   "metadata": {},
   "outputs": [],
   "source": [
    "n_features = 1000\n",
    "n_components = 10"
   ]
  },
  {
   "cell_type": "markdown",
   "metadata": {},
   "source": [
    "### CountVectorizer + LatentDirichletAllocation"
   ]
  },
  {
   "cell_type": "code",
   "execution_count": 10,
   "metadata": {},
   "outputs": [
    {
     "name": "stdout",
     "output_type": "stream",
     "text": [
      "\n",
      "LDA:\n",
      "\n",
      "Тема 0: год россия народ глава декабрь министр президент\n",
      "Тема 1: год тысяча доллар рубль декабрь мир миллион\n",
      "Тема 2: год который новый фильм мочь учёный самый\n",
      "Тема 3: компания автомобиль рубль рынок банк млн который\n",
      "Тема 4: хороший матч команда который свой стать мяч\n",
      "Тема 5: дом квартира ул музей работа выставка центр\n",
      "Тема 6: служба информация сообщение сообщать сайт москва год\n",
      "Тема 7: который мочь свой человек весь беларусь наш\n",
      "Тема 8: сша трамп президент свой американский который дональд\n",
      "Тема 9: человек декабрь район который место женщина водитель\n"
     ]
    }
   ],
   "source": [
    "# tf features \n",
    "tf_vectorizer = CountVectorizer( max_df=0.95, min_df=2, max_features=n_features )\n",
    "tf = tf_vectorizer.fit_transform(data['ctext'])\n",
    "tf_feature_names = tf_vectorizer.get_feature_names()\n",
    "\n",
    "# LDA - латентное размещение Дирихле\n",
    "lda = LatentDirichletAllocation( n_components=n_components, max_iter=5, \n",
    "                                learning_method='online', learning_offset=50.,\n",
    "                                random_state=0 ).fit(tf)\n",
    "print('\\nLDA:\\n')\n",
    "print_top_words(lda, tf_feature_names)"
   ]
  },
  {
   "cell_type": "code",
   "execution_count": 11,
   "metadata": {},
   "outputs": [
    {
     "data": {
      "image/png": "[encoded data removed]",
      "text/plain": [
       "<Figure size 432x288 with 1 Axes>"
      ]
     },
     "metadata": {
      "needs_background": "light"
     },
     "output_type": "display_data"
    }
   ],
   "source": [
    "t = np.argmax(lda.transform(tf),axis=1) \n",
    "plt.hist(t)\n",
    "plt.grid()"
   ]
  },
  {
   "cell_type": "markdown",
   "metadata": {},
   "source": [
    "### TfidfVectorizer + NMF (Frobenius norm)"
   ]
  },
  {
   "cell_type": "code",
   "execution_count": 12,
   "metadata": {},
   "outputs": [
    {
     "name": "stderr",
     "output_type": "stream",
     "text": [
      "/usr/lib/python3.9/site-packages/sklearn/decomposition/_nmf.py:312: FutureWarning: The 'init' value, when 'init=None' and n_components is less than n_samples and n_features, will be changed from 'nndsvd' to 'nndsvda' in 1.1 (renaming of 0.26).\n",
      "  warnings.warn((\"The 'init' value, when 'init=None' and \"\n"
     ]
    },
    {
     "name": "stdout",
     "output_type": "stream",
     "text": [
      "\n",
      "NMF:\n",
      "\n",
      "Тема 0: президент россия путин япония министр глава государство\n",
      "Тема 1: трамп сша президент дональд избранный выборы бизнес\n",
      "Тема 2: матч чемпионат команда очко динамо лига шахтёр\n",
      "Тема 3: водитель дтп авария произойти автобус летний автомобиль\n",
      "Тема 4: автомобиль модель компания новый рынок год версия\n",
      "Тема 5: год который человек учёный мочь свой весь\n",
      "Тема 6: савченко депутат надежда украина партия лидер народный\n",
      "Тема 7: фильм хороший премия награда номинация актёр картина\n",
      "Тема 8: рубль доллар млрд млн цена год нефть\n",
      "Тема 9: народ коренной север малочисленный край фестиваль район\n"
     ]
    }
   ],
   "source": [
    "# tf-idf features \n",
    "tfidf_vectorizer = TfidfVectorizer( max_df=0.95, min_df=2, max_features=n_features)\n",
    "\n",
    "tfidf = tfidf_vectorizer.fit_transform(data['ctext'])\n",
    "tfidf_feature_names = tfidf_vectorizer.get_feature_names()\n",
    "\n",
    "# NMF (Frobenius norm) - неотрицательное матричное разложение\n",
    "nmf = NMF( n_components=n_components, random_state=1,alpha=.1, l1_ratio=.5 ).fit(tfidf)\n",
    "\n",
    "print('\\nNMF:\\n')\n",
    "print_top_words( nmf, tfidf_feature_names )"
   ]
  },
  {
   "cell_type": "code",
   "execution_count": 13,
   "metadata": {},
   "outputs": [
    {
     "data": {
      "image/png": "[encoded data removed]",
      "text/plain": [
       "<Figure size 432x288 with 1 Axes>"
      ]
     },
     "metadata": {
      "needs_background": "light"
     },
     "output_type": "display_data"
    }
   ],
   "source": [
    "t = np.argmax(nmf.transform(tfidf),axis=1) \n",
    "plt.hist(t)\n",
    "plt.grid()"
   ]
  },
  {
   "cell_type": "markdown",
   "metadata": {},
   "source": [
    "### TfidfVectorizer + NMF (generalized Kullback-Leibler divergence)"
   ]
  },
  {
   "cell_type": "code",
   "execution_count": 14,
   "metadata": {},
   "outputs": [
    {
     "name": "stderr",
     "output_type": "stream",
     "text": [
      "/usr/lib/python3.9/site-packages/sklearn/decomposition/_nmf.py:312: FutureWarning: The 'init' value, when 'init=None' and n_components is less than n_samples and n_features, will be changed from 'nndsvd' to 'nndsvda' in 1.1 (renaming of 0.26).\n",
      "  warnings.warn((\"The 'init' value, when 'init=None' and \"\n"
     ]
    },
    {
     "name": "stdout",
     "output_type": "stream",
     "text": [
      "\n",
      "NMF:\n",
      "\n",
      "Тема 0: год который декабрь мочь россия беларусь компания\n",
      "Тема 1: президент трамп сша министр глава выборы путин\n",
      "Тема 2: матч чемпионат команда клуб сборная чемпион мир\n",
      "Тема 3: водитель летний дтп произойти декабрь результат человек\n",
      "Тема 4: автомобиль модель компания новый версия машина год\n",
      "Тема 5: учёный человек который женщина мочь самый жизнь\n",
      "Тема 6: украина савченко союз депутат партия лидер надежда\n",
      "Тема 7: фильм хороший нефть премия год актёр конкурс\n",
      "Тема 8: рубль дом млн доллар млрд работа год\n",
      "Тема 9: народ коренной север малочисленный город самолёт центр\n"
     ]
    }
   ],
   "source": [
    "# tf-idf features \n",
    "tfidf_vectorizer = TfidfVectorizer( max_df=0.95, min_df=2, max_features=n_features)\n",
    "\n",
    "tfidf = tfidf_vectorizer.fit_transform(data['ctext'])\n",
    "tfidf_feature_names = tfidf_vectorizer.get_feature_names()\n",
    "\n",
    "# NMF (generalized Kullback-Leibler divergence) \n",
    "nmf = NMF( n_components=n_components, random_state=1, beta_loss='kullback-leibler', \n",
    "          solver='mu', max_iter=1000, alpha=.1, l1_ratio=.5 ).fit(tfidf)\n",
    "\n",
    "print('\\nNMF:\\n')\n",
    "print_top_words( nmf, tfidf_feature_names )"
   ]
  },
  {
   "cell_type": "code",
   "execution_count": 15,
   "metadata": {},
   "outputs": [
    {
     "data": {
      "image/png": "[encoded data removed]",
      "text/plain": [
       "<Figure size 432x288 with 1 Axes>"
      ]
     },
     "metadata": {
      "needs_background": "light"
     },
     "output_type": "display_data"
    }
   ],
   "source": [
    "t = np.argmax(nmf.transform(tfidf),axis=1) \n",
    "plt.hist(t)\n",
    "plt.grid()"
   ]
  },
  {
   "cell_type": "code",
   "execution_count": null,
   "metadata": {},
   "outputs": [],
   "source": []
  }
 ],
 "metadata": {
  "kernelspec": {
   "display_name": "Python 3",
   "language": "python",
   "name": "python3"
  },
  "language_info": {
   "codemirror_mode": {
    "name": "ipython",
    "version": 3
   },
   "file_extension": ".py",
   "mimetype": "text/x-python",
   "name": "python",
   "nbconvert_exporter": "python",
   "pygments_lexer": "ipython3",
   "version": "3.9.2"
  },
  "toc": {
   "base_numbering": 1,
   "nav_menu": {},
   "number_sections": true,
   "sideBar": true,
   "skip_h1_title": false,
   "title_cell": "Table of Contents",
   "title_sidebar": "Contents",
   "toc_cell": false,
   "toc_position": {},
   "toc_section_display": true,
   "toc_window_display": false
  }
 },
 "nbformat": 4,
 "nbformat_minor": 2
}
