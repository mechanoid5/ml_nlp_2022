{
 "cells": [
  {
   "cell_type": "markdown",
   "metadata": {},
   "source": [
    "**тематическое моделирование**\n",
    "\n",
    "_Евгений Борисов <esborisov@sevsu.ru>_"
   ]
  },
  {
   "cell_type": "code",
   "execution_count": 1,
   "metadata": {},
   "outputs": [],
   "source": [
    "# http://scikit-learn.org/stable/auto_examples/applications/plot_topics_extraction_with_nmf_lda.html\n",
    "\n",
    "# разложение частотной матрицы [ слова x документы ]  \n",
    "#\n",
    "# получаем матрицу с описанием тем [ слова х темы ]   \n",
    "# и матрицу вероятностей событий \"тема описывает документ\"  [ темы х документы ]\n",
    "# \n",
    "# [ слова x документы ] = [ слова х темы ] * [ темы х документы ]\n",
    "# \n",
    "# p(w|d) = p(w|t) * p(t|d)"
   ]
  },
  {
   "cell_type": "markdown",
   "metadata": {},
   "source": [
    "## библиотеки"
   ]
  },
  {
   "cell_type": "code",
   "execution_count": 2,
   "metadata": {},
   "outputs": [],
   "source": [
    "import re\n",
    "# import gzip\n",
    "import numpy as np\n",
    "import numpy.random as rng\n",
    "import pandas as pd\n",
    "from tqdm.notebook import tqdm\n",
    "from matplotlib import pyplot as plt\n",
    "\n",
    "np.set_printoptions(precision=2) # вывод на печать чисел до 2 знака\n",
    "pd.options.display.max_colwidth = 200 \n",
    "\n",
    "tqdm.pandas()"
   ]
  },
  {
   "cell_type": "code",
   "execution_count": 3,
   "metadata": {},
   "outputs": [
    {
     "data": {
      "text/plain": [
       "'1.1.2'"
      ]
     },
     "execution_count": 3,
     "metadata": {},
     "output_type": "execute_result"
    }
   ],
   "source": [
    "from sklearn import __version__ as SKLEARN_VERSION\n",
    "\n",
    "from sklearn.feature_extraction.text import CountVectorizer\n",
    "from sklearn.feature_extraction.text import TfidfVectorizer\n",
    "\n",
    "from sklearn.decomposition import LatentDirichletAllocation\n",
    "from sklearn.decomposition import NMF\n",
    "\n",
    "SKLEARN_VERSION"
   ]
  },
  {
   "cell_type": "markdown",
   "metadata": {},
   "source": [
    "## тексты"
   ]
  },
  {
   "cell_type": "code",
   "execution_count": 4,
   "metadata": {},
   "outputs": [
    {
     "name": "stdout",
     "output_type": "stream",
     "text": [
      "текстов: 3196\n"
     ]
    },
    {
     "data": {
      "text/html": [
       "<div>\n",
       "<style scoped>\n",
       "    .dataframe tbody tr th:only-of-type {\n",
       "        vertical-align: middle;\n",
       "    }\n",
       "\n",
       "    .dataframe tbody tr th {\n",
       "        vertical-align: top;\n",
       "    }\n",
       "\n",
       "    .dataframe thead th {\n",
       "        text-align: right;\n",
       "    }\n",
       "</style>\n",
       "<table border=\"1\" class=\"dataframe\">\n",
       "  <thead>\n",
       "    <tr style=\"text-align: right;\">\n",
       "      <th></th>\n",
       "      <th>text</th>\n",
       "      <th>tag</th>\n",
       "    </tr>\n",
       "  </thead>\n",
       "  <tbody>\n",
       "    <tr>\n",
       "      <th>3155</th>\n",
       "      <td>ИТАР-ТАСС. Новости культуры (оперативная лента) На Чукотке открылся фестиваль\\nморских охотников \"Берингия\" Культурно- спортивный фестиваль морских охотников\\n\"Берингия\" открылся сегодня в чукотск...</td>\n",
       "      <td>culture</td>\n",
       "    </tr>\n",
       "    <tr>\n",
       "      <th>1060</th>\n",
       "      <td>От 5 до 50%. Где минчанам искать скидки в декабре\\n\\n29 ноября 2016 в 14:39\\n\\nFINANCE.TUT.BY\\n\\nСтоличные универмаги и торговые сети в декабре будут часто предоставлять скидки на товары. Об акция...</td>\n",
       "      <td>economics</td>\n",
       "    </tr>\n",
       "    <tr>\n",
       "      <th>664</th>\n",
       "      <td>Грандиозная распродажа Hyundai Accent и Hyundai Creta!\\n\\n1 декабря 2016 в 9:00\\n\\n*На правах рекламы\\n\\nСегодня официально объявлена зима и открыт сезон предновогодних распродаж автомобилей Hyund...</td>\n",
       "      <td>reclama</td>\n",
       "    </tr>\n",
       "    <tr>\n",
       "      <th>2704</th>\n",
       "      <td>Минпромторг России выдал 150 миллионов отечественной компании «Т-Платформе» для разработки влагозащищенных и противоударных ноутбуков. Аппараты станут функционировать на базе процессора Intel, пиш...</td>\n",
       "      <td>tech</td>\n",
       "    </tr>\n",
       "  </tbody>\n",
       "</table>\n",
       "</div>"
      ],
      "text/plain": [
       "                                                                                                                                                                                                         text  \\\n",
       "3155  ИТАР-ТАСС. Новости культуры (оперативная лента) На Чукотке открылся фестиваль\\nморских охотников \"Берингия\" Культурно- спортивный фестиваль морских охотников\\n\"Берингия\" открылся сегодня в чукотск...   \n",
       "1060  От 5 до 50%. Где минчанам искать скидки в декабре\\n\\n29 ноября 2016 в 14:39\\n\\nFINANCE.TUT.BY\\n\\nСтоличные универмаги и торговые сети в декабре будут часто предоставлять скидки на товары. Об акция...   \n",
       "664   Грандиозная распродажа Hyundai Accent и Hyundai Creta!\\n\\n1 декабря 2016 в 9:00\\n\\n*На правах рекламы\\n\\nСегодня официально объявлена зима и открыт сезон предновогодних распродаж автомобилей Hyund...   \n",
       "2704  Минпромторг России выдал 150 миллионов отечественной компании «Т-Платформе» для разработки влагозащищенных и противоударных ноутбуков. Аппараты станут функционировать на базе процессора Intel, пиш...   \n",
       "\n",
       "            tag  \n",
       "3155    culture  \n",
       "1060  economics  \n",
       "664     reclama  \n",
       "2704       tech  "
      ]
     },
     "execution_count": 4,
     "metadata": {},
     "output_type": "execute_result"
    }
   ],
   "source": [
    "data = pd.read_pickle('../data/news.pkl.gz')\n",
    "print('текстов:',len(data))\n",
    "data.sample(4)"
   ]
  },
  {
   "cell_type": "markdown",
   "metadata": {},
   "source": [
    "## токенизация и очистка"
   ]
  },
  {
   "cell_type": "code",
   "execution_count": 5,
   "metadata": {},
   "outputs": [],
   "source": [
    "# применяет список замен pat к строке s\n",
    "def replace_patterns(s,pat):\n",
    "    if len(pat)<1: return s\n",
    "    return  replace_patterns( re.sub(pat[0][0],pat[0][1],s), pat[1:] )\n",
    "\n",
    "# нормализация текста\n",
    "def string_normalizer(s):\n",
    "    pat = [\n",
    "       [r'ё','е'] # замена ё для унификации\n",
    "       ,[r'</?[a-z]+>',' '] # удаляем xml\n",
    "       ,[r'[^a-zа-я\\- ]+',' '] # оставляем только буквы, пробел и -\n",
    "       ,[r' -\\w+',' '] # удаляем '-й','-тый' и т.п.\n",
    "       ,[r'\\w+- ',' ']\n",
    "       ,[r' +',' '] # удаляем повторы пробелов\n",
    "    ]\n",
    "    return replace_patterns(s.lower(),pat).strip()"
   ]
  },
  {
   "cell_type": "code",
   "execution_count": 6,
   "metadata": {},
   "outputs": [],
   "source": [
    "# def string_normalizer(s): \n",
    "#     return re.sub(r'[\\W]+',' ',s.lower().replace('ё','е'))"
   ]
  },
  {
   "cell_type": "code",
   "execution_count": 7,
   "metadata": {},
   "outputs": [
    {
     "data": {
      "application/vnd.jupyter.widget-view+json": {
       "model_id": "9ee8571a1db24d20a6403c334ead9026",
       "version_major": 2,
       "version_minor": 0
      },
      "text/plain": [
       "  0%|          | 0/3196 [00:00<?, ?it/s]"
      ]
     },
     "metadata": {},
     "output_type": "display_data"
    }
   ],
   "source": [
    "data['ctext'] = data['text'].progress_apply(string_normalizer)"
   ]
  },
  {
   "cell_type": "code",
   "execution_count": 8,
   "metadata": {},
   "outputs": [
    {
     "data": {
      "text/html": [
       "<div>\n",
       "<style scoped>\n",
       "    .dataframe tbody tr th:only-of-type {\n",
       "        vertical-align: middle;\n",
       "    }\n",
       "\n",
       "    .dataframe tbody tr th {\n",
       "        vertical-align: top;\n",
       "    }\n",
       "\n",
       "    .dataframe thead th {\n",
       "        text-align: right;\n",
       "    }\n",
       "</style>\n",
       "<table border=\"1\" class=\"dataframe\">\n",
       "  <thead>\n",
       "    <tr style=\"text-align: right;\">\n",
       "      <th></th>\n",
       "      <th>text</th>\n",
       "      <th>tag</th>\n",
       "      <th>ctext</th>\n",
       "    </tr>\n",
       "  </thead>\n",
       "  <tbody>\n",
       "    <tr>\n",
       "      <th>976</th>\n",
       "      <td>Умер директор департамента безопасности Беларусбанка\\n\\n5 декабря 2016 в 11:41\\n\\nTUT.BY\\n\\nНа 63-м году жизни скончался генерал-майор милиции в отставке, директор департамента безопасности Белару...</td>\n",
       "      <td>economics</td>\n",
       "      <td>умер директор департамента безопасности беларусбанка декабря в tut by на году жизни скончался генерал-майор милиции в отставке директор департамента безопасности беларусбанка иван сергей информаци...</td>\n",
       "    </tr>\n",
       "    <tr>\n",
       "      <th>37</th>\n",
       "      <td>Футбол : Николаю Толстых предложили перейти на другую работу Многолетний\\nпредводитель первого и второго дивизионов футбольного чемпионата страны\\nНиколай Толстых переизбран главой Профессионально...</td>\n",
       "      <td>sport</td>\n",
       "      <td>футбол николаю толстых предложили перейти на другую работу многолетний предводитель первого и второго дивизионов футбольного чемпионата страны николай толстых переизбран главой профессиональной фу...</td>\n",
       "    </tr>\n",
       "    <tr>\n",
       "      <th>2994</th>\n",
       "      <td>Японская автомобильная компания Mitsubishi начала процесс тестирования своего нового кроссвэна. Стоит отметить, что главной площадкой продаж станет индонезийский автомобильный рынок.\\n\\nОб этом ст...</td>\n",
       "      <td>auto</td>\n",
       "      <td>японская автомобильная компания mitsubishi начала процесс тестирования своего нового кроссвэна стоит отметить что главной площадкой продаж станет индонезийский автомобильный рынок об этом стало из...</td>\n",
       "    </tr>\n",
       "  </tbody>\n",
       "</table>\n",
       "</div>"
      ],
      "text/plain": [
       "                                                                                                                                                                                                         text  \\\n",
       "976   Умер директор департамента безопасности Беларусбанка\\n\\n5 декабря 2016 в 11:41\\n\\nTUT.BY\\n\\nНа 63-м году жизни скончался генерал-майор милиции в отставке, директор департамента безопасности Белару...   \n",
       "37    Футбол : Николаю Толстых предложили перейти на другую работу Многолетний\\nпредводитель первого и второго дивизионов футбольного чемпионата страны\\nНиколай Толстых переизбран главой Профессионально...   \n",
       "2994  Японская автомобильная компания Mitsubishi начала процесс тестирования своего нового кроссвэна. Стоит отметить, что главной площадкой продаж станет индонезийский автомобильный рынок.\\n\\nОб этом ст...   \n",
       "\n",
       "            tag  \\\n",
       "976   economics   \n",
       "37        sport   \n",
       "2994       auto   \n",
       "\n",
       "                                                                                                                                                                                                        ctext  \n",
       "976   умер директор департамента безопасности беларусбанка декабря в tut by на году жизни скончался генерал-майор милиции в отставке директор департамента безопасности беларусбанка иван сергей информаци...  \n",
       "37    футбол николаю толстых предложили перейти на другую работу многолетний предводитель первого и второго дивизионов футбольного чемпионата страны николай толстых переизбран главой профессиональной фу...  \n",
       "2994  японская автомобильная компания mitsubishi начала процесс тестирования своего нового кроссвэна стоит отметить что главной площадкой продаж станет индонезийский автомобильный рынок об этом стало из...  "
      ]
     },
     "execution_count": 8,
     "metadata": {},
     "output_type": "execute_result"
    }
   ],
   "source": [
    "data.sample(3)"
   ]
  },
  {
   "cell_type": "markdown",
   "metadata": {},
   "source": [
    "## модели"
   ]
  },
  {
   "cell_type": "code",
   "execution_count": 9,
   "metadata": {},
   "outputs": [],
   "source": [
    "def print_top_words(model, feature_names, n_top_words=7):\n",
    "    for topic_idx, topic in enumerate(model.components_):\n",
    "        message = \"Тема %d: \" % topic_idx\n",
    "        message += \" \".join([feature_names[i] for i in topic.argsort()[:-n_top_words - 1:-1]])\n",
    "        print(message)"
   ]
  },
  {
   "cell_type": "code",
   "execution_count": 10,
   "metadata": {},
   "outputs": [],
   "source": [
    "n_features = 1000\n",
    "n_components = 10"
   ]
  },
  {
   "cell_type": "markdown",
   "metadata": {},
   "source": [
    "### CountVectorizer + LatentDirichletAllocation"
   ]
  },
  {
   "cell_type": "code",
   "execution_count": 11,
   "metadata": {},
   "outputs": [],
   "source": [
    "from nltk.corpus import stopwords as nltk_stopwords\n",
    "\n",
    "stopwords = set(nltk_stopwords.words('russian'))\n",
    "\n",
    "# разрезаем стоки на слова, выкидываем stopwords, выполняем стеминг\n",
    "def tokenizer(s,stopwords=stopwords): \n",
    "    for w in s.split(' '):\n",
    "        if len(w)<2: continue\n",
    "        if w in stopwords: continue\n",
    "        yield w        \n",
    "    return ''"
   ]
  },
  {
   "cell_type": "code",
   "execution_count": 12,
   "metadata": {},
   "outputs": [
    {
     "name": "stdout",
     "output_type": "stream",
     "text": [
      "\n",
      "LDA:\n",
      "\n",
      "Тема 0: компания компании сети apple пользователей фото рынке\n",
      "Тема 1: ученые коми путин ссср университета японии также\n",
      "Тема 2: автомобиль дтп автомобилей результате км водитель автомобиля\n",
      "Тема 3: мяч фильм лучший динамо матче получил очков\n",
      "Тема 4: рублей народов млн коренных севера года малочисленных\n",
      "Тема 5: это очень которые лет время года году\n",
      "Тема 6: by tut декабря фото ноября внимание установлена\n",
      "Тема 7: года декабря также россии мира году время\n",
      "Тема 8: россии заявил беларуси декабря президента глава также\n",
      "Тема 9: года сша декабря россии трамп ранее сообщает\n",
      "CPU times: user 3.76 s, sys: 0 ns, total: 3.76 s\n",
      "Wall time: 3.77 s\n"
     ]
    }
   ],
   "source": [
    "%%time\n",
    "\n",
    "# tf features \n",
    "tf_vectorizer = CountVectorizer( \n",
    "        max_df=.95, \n",
    "        min_df=2, \n",
    "        max_features=n_features,\n",
    "        tokenizer=tokenizer, \n",
    "        token_pattern=None,\n",
    "    )\n",
    "tf = tf_vectorizer.fit_transform(data['ctext'])\n",
    "tf_feature_names = tf_vectorizer.get_feature_names_out()\n",
    "\n",
    "# LDA - латентное размещение Дирихле\n",
    "lda = LatentDirichletAllocation( \n",
    "        n_components=n_components, \n",
    "        max_iter=5,\n",
    "        learning_method='online', \n",
    "        learning_offset=50.,\n",
    "        random_state=0, \n",
    "    ).fit(tf)\n",
    "\n",
    "print('\\nLDA:\\n')\n",
    "print_top_words(lda, tf_feature_names)"
   ]
  },
  {
   "cell_type": "code",
   "execution_count": 17,
   "metadata": {},
   "outputs": [],
   "source": [
    "# LDA:\n",
    "\n",
    "# Тема 0: на что по его года также как\n",
    "# Тема 1: версия вас или не установлена браузер ваш\n",
    "# Тема 2: object динамо украины sport на матча 14\n",
    "# Тема 3: на до по декабря 00 рублей by\n",
    "# Тема 4: на мяч чемпионата матче лучший команды сборной\n",
    "# Тема 5: на что не будет для от при\n",
    "# Тема 6: на года за из по году 2016\n",
    "# Тема 7: народов коренных севера малочисленных края коми руб\n",
    "# Тема 8: не на что но это как из\n",
    "# Тема 9: по на из что за декабря не"
   ]
  },
  {
   "cell_type": "code",
   "execution_count": 18,
   "metadata": {},
   "outputs": [
    {
     "data": {
      "image/png": "[encoded data removed]",
      "text/plain": [
       "<Figure size 432x288 with 1 Axes>"
      ]
     },
     "metadata": {
      "needs_background": "light"
     },
     "output_type": "display_data"
    }
   ],
   "source": [
    "t = np.argmax(lda.transform(tf),axis=1) \n",
    "plt.hist(t)\n",
    "plt.grid()"
   ]
  },
  {
   "cell_type": "markdown",
   "metadata": {},
   "source": [
    "### TfidfVectorizer + NMF (Frobenius norm)"
   ]
  },
  {
   "cell_type": "code",
   "execution_count": 30,
   "metadata": {},
   "outputs": [
    {
     "name": "stdout",
     "output_type": "stream",
     "text": [
      "\n",
      "NMF:\n",
      "\n",
      "Тема 0: это by tut беларуси очень декабря фото\n",
      "Тема 1: трамп сша трампа дональд президент избранный президента\n",
      "Тема 2: дтп водитель области результате мвд декабря происшествия\n",
      "Тема 3: flash adobe javascript player проигрывателя html отключен\n",
      "Тема 4: савченко украины партии надежда заявила лидер действия\n",
      "Тема 5: народов севера коренных малочисленных края июля фестиваль\n",
      "Тема 6: ученые университета специалисты могут часов исследования людей\n",
      "Тема 7: рублей года компания млн компании году млрд\n",
      "Тема 8: россии путин рф заявил россия глава алеппо\n",
      "Тема 9: динамо матче чемпионата мира стал очков лучшим\n"
     ]
    }
   ],
   "source": [
    "# tf-idf features \n",
    "tfidf_vectorizer = TfidfVectorizer( \n",
    "    max_df=.95, \n",
    "    min_df=2, \n",
    "    max_features=n_features,\n",
    "    tokenizer=tokenizer, \n",
    "    token_pattern=None,)\n",
    "\n",
    "tfidf = tfidf_vectorizer.fit_transform(data['ctext'])\n",
    "tfidf_feature_names = tf_vectorizer.get_feature_names_out()\n",
    "\n",
    "# NMF (Frobenius norm) - неотрицательное матричное разложение\n",
    "nmf = NMF( n_components=n_components, random_state=1, l1_ratio=.5 ).fit(tfidf)\n",
    "\n",
    "print('\\nNMF:\\n')\n",
    "print_top_words( nmf, tfidf_feature_names )"
   ]
  },
  {
   "cell_type": "code",
   "execution_count": 31,
   "metadata": {},
   "outputs": [
    {
     "data": {
      "image/png": "[encoded data removed]",
      "text/plain": [
       "<Figure size 640x480 with 1 Axes>"
      ]
     },
     "metadata": {},
     "output_type": "display_data"
    }
   ],
   "source": [
    "t = np.argmax(nmf.transform(tfidf),axis=1) \n",
    "plt.hist(t)\n",
    "plt.grid()"
   ]
  },
  {
   "cell_type": "code",
   "execution_count": 35,
   "metadata": {},
   "outputs": [],
   "source": [
    "# data['topic_id'] = np.argmax( nmf.transform( tfidf_vectorizer.transform(data['ctext']) ) ,axis=1)\n",
    "# data.sample(5)"
   ]
  },
  {
   "cell_type": "markdown",
   "metadata": {},
   "source": [
    "### TfidfVectorizer + NMF (generalized Kullback-Leibler divergence)"
   ]
  },
  {
   "cell_type": "code",
   "execution_count": 36,
   "metadata": {},
   "outputs": [
    {
     "name": "stdout",
     "output_type": "stream",
     "text": [
      "\n",
      "NMF:\n",
      "\n",
      "Тема 0: это очень лет которые просто время поэтому\n",
      "Тема 1: сша трамп президент трампа президента пост дональд\n",
      "Тема 2: дтп области водитель результате мвд декабря мчс\n",
      "Тема 3: by tut беларуси декабря видео фото беларусь\n",
      "Тема 4: савченко россии заявил украины россия глава путин\n",
      "Тема 5: рублей млн народов севера евро коренных области\n",
      "Тема 6: ученые специалисты людей могут часов университета человека\n",
      "Тема 7: компания компании долларов года модели рублей автомобиль\n",
      "Тема 8: новости риа сообщает алеппо города передает говорится\n",
      "Тема 9: мира динамо стал чемпионата лучший матче лучшим\n"
     ]
    }
   ],
   "source": [
    "# tf-idf features \n",
    "tfidf_vectorizer = TfidfVectorizer( \n",
    "    max_df=.95, \n",
    "    min_df=2, \n",
    "    max_features=n_features, \n",
    "    tokenizer=tokenizer, \n",
    "    token_pattern=None,)\n",
    "\n",
    "tfidf = tfidf_vectorizer.fit_transform(data['ctext'])\n",
    "tfidf_feature_names = tf_vectorizer.get_feature_names_out()\n",
    "\n",
    "# NMF (generalized Kullback-Leibler divergence) \n",
    "nmf = NMF( n_components=n_components, random_state=1, beta_loss='kullback-leibler', \n",
    "          solver='mu', max_iter=1000,  l1_ratio=.5 ).fit(tfidf)\n",
    "\n",
    "print('\\nNMF:\\n')\n",
    "print_top_words( nmf, tfidf_feature_names )"
   ]
  },
  {
   "cell_type": "code",
   "execution_count": 37,
   "metadata": {},
   "outputs": [
    {
     "data": {
      "image/png": "[encoded data removed]",
      "text/plain": [
       "<Figure size 640x480 with 1 Axes>"
      ]
     },
     "metadata": {},
     "output_type": "display_data"
    }
   ],
   "source": [
    "t = np.argmax(nmf.transform(tfidf),axis=1) \n",
    "plt.hist(t)\n",
    "plt.grid()"
   ]
  },
  {
   "cell_type": "code",
   "execution_count": 38,
   "metadata": {},
   "outputs": [
    {
     "data": {
      "text/html": [
       "<div>\n",
       "<style scoped>\n",
       "    .dataframe tbody tr th:only-of-type {\n",
       "        vertical-align: middle;\n",
       "    }\n",
       "\n",
       "    .dataframe tbody tr th {\n",
       "        vertical-align: top;\n",
       "    }\n",
       "\n",
       "    .dataframe thead th {\n",
       "        text-align: right;\n",
       "    }\n",
       "</style>\n",
       "<table border=\"1\" class=\"dataframe\">\n",
       "  <thead>\n",
       "    <tr style=\"text-align: right;\">\n",
       "      <th></th>\n",
       "      <th>text</th>\n",
       "      <th>tag</th>\n",
       "      <th>ctext</th>\n",
       "      <th>topic_id</th>\n",
       "    </tr>\n",
       "  </thead>\n",
       "  <tbody>\n",
       "    <tr>\n",
       "      <th>2954</th>\n",
       "      <td>Как сообщают некоторые автомобильные аналитики, которые проанализировали российский рынок автомобилей, самой популярной моделью с автоматической коробкой передач является Toyota Camry . Дело в том...</td>\n",
       "      <td>auto</td>\n",
       "      <td>как сообщают некоторые автомобильные аналитики которые проанализировали российский рынок автомобилей самой популярной моделью с автоматической коробкой передач является toyota camry дело в том что...</td>\n",
       "      <td>7</td>\n",
       "    </tr>\n",
       "    <tr>\n",
       "      <th>1912</th>\n",
       "      <td>МОСКВА, 12 дек – РИА Новости. Ночью в атмосфере экзопланеты HAT-P-7 b идут дожди, \"капли\" в которых представляют собой кристаллы рубинов и сапфиров, говорится в статье, опубликованной в журнале Na...</td>\n",
       "      <td>science</td>\n",
       "      <td>москва дек риа новости ночью в атмосфере экзопланеты hat- b идут дожди капли в которых представляют собой кристаллы рубинов и сапфиров говорится в статье опубликованной в журнале nature astronomy ...</td>\n",
       "      <td>6</td>\n",
       "    </tr>\n",
       "    <tr>\n",
       "      <th>2395</th>\n",
       "      <td>Всероссийский конкурс юных талантов\\n\\n\"Ведь это очень вредно – не ехать на бал,\\n\\nкогда ты этого заслуживаешь!\"\\n\\nЕвгений Шварц. \"Золушка\"\\n\\nМы открываем второй сезон!\\n\\nУстраивайтесь у экран...</td>\n",
       "      <td>culture</td>\n",
       "      <td>всероссийский конкурс юных талантов ведь это очень вредно не ехать на бал когда ты этого заслуживаешь евгений шварц золушка мы открываем второй сезон устраивайтесь у экрана всей семьей участвуйте ...</td>\n",
       "      <td>0</td>\n",
       "    </tr>\n",
       "    <tr>\n",
       "      <th>1918</th>\n",
       "      <td>Обама присмотрел себе офис во Всемирном фонде дикой природы\\n\\nОдин из офисов в вашингтонской штаб-квартире Всемирного фонда дикой природы (WWF) будет арендовать уходящий президент Соединенных шта...</td>\n",
       "      <td>politics</td>\n",
       "      <td>обама присмотрел себе офис во всемирном фонде дикой природы один из офисов в вашингтонской штаб-квартире всемирного фонда дикой природы wwf будет арендовать уходящий президент соединенных штатов а...</td>\n",
       "      <td>1</td>\n",
       "    </tr>\n",
       "    <tr>\n",
       "      <th>3188</th>\n",
       "      <td>Fishery (fishery.ru) (Владивосток) Традиционный промысел обеспечили треской\\nПредставители коренных малочисленных народов, проживающие на территории\\nМурманской области, получили квоты на вылов тр...</td>\n",
       "      <td>social</td>\n",
       "      <td>fishery fishery ru владивосток традиционный промысел обеспечили треской представители коренных малочисленных народов проживающие на территории мурманской области получили квоты на вылов трески и п...</td>\n",
       "      <td>5</td>\n",
       "    </tr>\n",
       "  </tbody>\n",
       "</table>\n",
       "</div>"
      ],
      "text/plain": [
       "                                                                                                                                                                                                         text  \\\n",
       "2954  Как сообщают некоторые автомобильные аналитики, которые проанализировали российский рынок автомобилей, самой популярной моделью с автоматической коробкой передач является Toyota Camry . Дело в том...   \n",
       "1912  МОСКВА, 12 дек – РИА Новости. Ночью в атмосфере экзопланеты HAT-P-7 b идут дожди, \"капли\" в которых представляют собой кристаллы рубинов и сапфиров, говорится в статье, опубликованной в журнале Na...   \n",
       "2395  Всероссийский конкурс юных талантов\\n\\n\"Ведь это очень вредно – не ехать на бал,\\n\\nкогда ты этого заслуживаешь!\"\\n\\nЕвгений Шварц. \"Золушка\"\\n\\nМы открываем второй сезон!\\n\\nУстраивайтесь у экран...   \n",
       "1918  Обама присмотрел себе офис во Всемирном фонде дикой природы\\n\\nОдин из офисов в вашингтонской штаб-квартире Всемирного фонда дикой природы (WWF) будет арендовать уходящий президент Соединенных шта...   \n",
       "3188  Fishery (fishery.ru) (Владивосток) Традиционный промысел обеспечили треской\\nПредставители коренных малочисленных народов, проживающие на территории\\nМурманской области, получили квоты на вылов тр...   \n",
       "\n",
       "           tag  \\\n",
       "2954      auto   \n",
       "1912   science   \n",
       "2395   culture   \n",
       "1918  politics   \n",
       "3188    social   \n",
       "\n",
       "                                                                                                                                                                                                        ctext  \\\n",
       "2954  как сообщают некоторые автомобильные аналитики которые проанализировали российский рынок автомобилей самой популярной моделью с автоматической коробкой передач является toyota camry дело в том что...   \n",
       "1912  москва дек риа новости ночью в атмосфере экзопланеты hat- b идут дожди капли в которых представляют собой кристаллы рубинов и сапфиров говорится в статье опубликованной в журнале nature astronomy ...   \n",
       "2395  всероссийский конкурс юных талантов ведь это очень вредно не ехать на бал когда ты этого заслуживаешь евгений шварц золушка мы открываем второй сезон устраивайтесь у экрана всей семьей участвуйте ...   \n",
       "1918  обама присмотрел себе офис во всемирном фонде дикой природы один из офисов в вашингтонской штаб-квартире всемирного фонда дикой природы wwf будет арендовать уходящий президент соединенных штатов а...   \n",
       "3188  fishery fishery ru владивосток традиционный промысел обеспечили треской представители коренных малочисленных народов проживающие на территории мурманской области получили квоты на вылов трески и п...   \n",
       "\n",
       "      topic_id  \n",
       "2954         7  \n",
       "1912         6  \n",
       "2395         0  \n",
       "1918         1  \n",
       "3188         5  "
      ]
     },
     "execution_count": 38,
     "metadata": {},
     "output_type": "execute_result"
    }
   ],
   "source": [
    "data['topic_id'] = np.argmax( nmf.transform( tfidf_vectorizer.transform(data['ctext']) ) ,axis=1)\n",
    "data.sample(5)"
   ]
  },
  {
   "cell_type": "code",
   "execution_count": null,
   "metadata": {},
   "outputs": [],
   "source": []
  }
 ],
 "metadata": {
  "kernelspec": {
   "display_name": "Python 3 (ipykernel)",
   "language": "python",
   "name": "python3"
  },
  "language_info": {
   "codemirror_mode": {
    "name": "ipython",
    "version": 3
   },
   "file_extension": ".py",
   "mimetype": "text/x-python",
   "name": "python",
   "nbconvert_exporter": "python",
   "pygments_lexer": "ipython3",
   "version": "3.10.8"
  },
  "toc": {
   "base_numbering": 1,
   "nav_menu": {},
   "number_sections": true,
   "sideBar": true,
   "skip_h1_title": false,
   "title_cell": "Table of Contents",
   "title_sidebar": "Contents",
   "toc_cell": false,
   "toc_position": {},
   "toc_section_display": true,
   "toc_window_display": false
  }
 },
 "nbformat": 4,
 "nbformat_minor": 2
}
