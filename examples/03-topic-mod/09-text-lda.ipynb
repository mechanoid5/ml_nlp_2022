{
 "cells": [
  {
   "cell_type": "markdown",
   "metadata": {},
   "source": [
    "**тематическое моделирование**\n",
    "\n",
    "_Евгений Борисов <esborisov@sevsu.ru>_"
   ]
  },
  {
   "cell_type": "code",
   "execution_count": 1,
   "metadata": {},
   "outputs": [],
   "source": [
    "# http://scikit-learn.org/stable/auto_examples/applications/plot_topics_extraction_with_nmf_lda.html\n",
    "\n",
    "# разложение частотной матрицы [ слова x документы ]  \n",
    "#\n",
    "# получаем матрицу с описанием тем [ слова х темы ]   \n",
    "# и матрицу вероятностей событий \"тема описывает документ\"  [ темы х документы ]\n",
    "# \n",
    "# [ слова x документы ] = [ слова х темы ] * [ темы х документы ]\n",
    "# \n",
    "# p(w|d) = p(w|t) * p(t|d)"
   ]
  },
  {
   "cell_type": "markdown",
   "metadata": {},
   "source": [
    "## библиотеки"
   ]
  },
  {
   "cell_type": "code",
   "execution_count": 2,
   "metadata": {},
   "outputs": [],
   "source": [
    "import re\n",
    "# import gzip\n",
    "import numpy as np\n",
    "import numpy.random as rng\n",
    "import pandas as pd\n",
    "from tqdm.notebook import tqdm\n",
    "from matplotlib import pyplot as plt\n",
    "\n",
    "np.set_printoptions(precision=2) # вывод на печать чисел до 2 знака\n",
    "pd.options.display.max_colwidth = 200 \n",
    "\n",
    "tqdm.pandas()"
   ]
  },
  {
   "cell_type": "code",
   "execution_count": 3,
   "metadata": {},
   "outputs": [
    {
     "data": {
      "text/plain": [
       "'1.0.2'"
      ]
     },
     "execution_count": 3,
     "metadata": {},
     "output_type": "execute_result"
    }
   ],
   "source": [
    "from sklearn import __version__ as SKLEARN_VERSION\n",
    "\n",
    "from sklearn.feature_extraction.text import CountVectorizer\n",
    "from sklearn.feature_extraction.text import TfidfVectorizer\n",
    "\n",
    "from sklearn.decomposition import LatentDirichletAllocation\n",
    "from sklearn.decomposition import NMF\n",
    "\n",
    "SKLEARN_VERSION"
   ]
  },
  {
   "cell_type": "markdown",
   "metadata": {},
   "source": [
    "## тексты"
   ]
  },
  {
   "cell_type": "code",
   "execution_count": 4,
   "metadata": {},
   "outputs": [
    {
     "name": "stdout",
     "output_type": "stream",
     "text": [
      "текстов: 3196\n"
     ]
    },
    {
     "data": {
      "text/html": [
       "<div>\n",
       "<style scoped>\n",
       "    .dataframe tbody tr th:only-of-type {\n",
       "        vertical-align: middle;\n",
       "    }\n",
       "\n",
       "    .dataframe tbody tr th {\n",
       "        vertical-align: top;\n",
       "    }\n",
       "\n",
       "    .dataframe thead th {\n",
       "        text-align: right;\n",
       "    }\n",
       "</style>\n",
       "<table border=\"1\" class=\"dataframe\">\n",
       "  <thead>\n",
       "    <tr style=\"text-align: right;\">\n",
       "      <th></th>\n",
       "      <th>text</th>\n",
       "      <th>tag</th>\n",
       "    </tr>\n",
       "  </thead>\n",
       "  <tbody>\n",
       "    <tr>\n",
       "      <th>242</th>\n",
       "      <td>БЕЛЬГИЙЦЫ - САМЫЕ БОГАТЫЕ В ЗАПАДНОЙ ЕВРОПЕ Бельгийцы являются самыми\\nбогатыми среди граждан стран Западной Европы, и по этому показателю они\\nобогнали швейцарцев. Согласно данным, обнародованным...</td>\n",
       "      <td>politics</td>\n",
       "    </tr>\n",
       "    <tr>\n",
       "      <th>2313</th>\n",
       "      <td>13.12.16 09:24\\n\\nМосква. 13 декабря. ИНТЕРФАКС - Следователи попросят суд арестовать сотрудницу полиции, которая, по данным СКР, находясь за рулем в состоянии опьянения, сбила насмерть двух пешех...</td>\n",
       "      <td>incident</td>\n",
       "    </tr>\n",
       "    <tr>\n",
       "      <th>2900</th>\n",
       "      <td>Российская компания Marussia Motors существовала с 2008 по 2014 год и покинула этот мир с долгами и конфликтами. Хотя в стенах штаб-квартиры «Маруси» разрабатывалось несколько любопытных моделей, ...</td>\n",
       "      <td>auto</td>\n",
       "    </tr>\n",
       "    <tr>\n",
       "      <th>1388</th>\n",
       "      <td>Митт Ромни расстался с мыслью стать госсекретарем США\\n\\nПо данным СМИ, Трамп объявит имя нового главы Госдепа во вторник утром, главным претендентом на пост является глава Exxon Mobil Рекс Тиллер...</td>\n",
       "      <td>politics</td>\n",
       "    </tr>\n",
       "  </tbody>\n",
       "</table>\n",
       "</div>"
      ],
      "text/plain": [
       "                                                                                                                                                                                                         text  \\\n",
       "242   БЕЛЬГИЙЦЫ - САМЫЕ БОГАТЫЕ В ЗАПАДНОЙ ЕВРОПЕ Бельгийцы являются самыми\\nбогатыми среди граждан стран Западной Европы, и по этому показателю они\\nобогнали швейцарцев. Согласно данным, обнародованным...   \n",
       "2313  13.12.16 09:24\\n\\nМосква. 13 декабря. ИНТЕРФАКС - Следователи попросят суд арестовать сотрудницу полиции, которая, по данным СКР, находясь за рулем в состоянии опьянения, сбила насмерть двух пешех...   \n",
       "2900  Российская компания Marussia Motors существовала с 2008 по 2014 год и покинула этот мир с долгами и конфликтами. Хотя в стенах штаб-квартиры «Маруси» разрабатывалось несколько любопытных моделей, ...   \n",
       "1388  Митт Ромни расстался с мыслью стать госсекретарем США\\n\\nПо данным СМИ, Трамп объявит имя нового главы Госдепа во вторник утром, главным претендентом на пост является глава Exxon Mobil Рекс Тиллер...   \n",
       "\n",
       "           tag  \n",
       "242   politics  \n",
       "2313  incident  \n",
       "2900      auto  \n",
       "1388  politics  "
      ]
     },
     "execution_count": 4,
     "metadata": {},
     "output_type": "execute_result"
    }
   ],
   "source": [
    "data = pd.read_pickle('../data/news.pkl.gz')\n",
    "print('текстов:',len(data))\n",
    "data.sample(4)"
   ]
  },
  {
   "cell_type": "markdown",
   "metadata": {},
   "source": [
    "## токенизация и очистка"
   ]
  },
  {
   "cell_type": "code",
   "execution_count": 5,
   "metadata": {},
   "outputs": [],
   "source": [
    "# применяет список замен pat к строке s\n",
    "def replace_patterns(s,pat):\n",
    "    if len(pat)<1: return s\n",
    "    return  replace_patterns( re.sub(pat[0][0],pat[0][1],s), pat[1:] )\n",
    "\n",
    "# нормализация текста\n",
    "def string_normalizer(s):\n",
    "    pat = [\n",
    "       [r'ё','е'] # замена ё для унификации\n",
    "       ,[r'</?[a-z]+>',' '] # удаляем xml\n",
    "       ,[r'[^a-zа-я\\- ]+',' '] # оставляем только буквы, пробел и -\n",
    "       ,[r' -\\w+',' '] # удаляем '-й','-тый' и т.п.\n",
    "       ,[r'\\w+- ',' ']\n",
    "       ,[r' +',' '] # удаляем повторы пробелов\n",
    "    ]\n",
    "    return replace_patterns(s.lower(),pat).strip()"
   ]
  },
  {
   "cell_type": "code",
   "execution_count": 6,
   "metadata": {},
   "outputs": [],
   "source": [
    "# def string_normalizer(s): \n",
    "#     return re.sub(r'[\\W]+',' ',s.lower().replace('ё','е'))"
   ]
  },
  {
   "cell_type": "code",
   "execution_count": 7,
   "metadata": {},
   "outputs": [
    {
     "data": {
      "application/vnd.jupyter.widget-view+json": {
       "model_id": "3201d5c448754a8da1892165085c8dd4",
       "version_major": 2,
       "version_minor": 0
      },
      "text/plain": [
       "  0%|          | 0/3196 [00:00<?, ?it/s]"
      ]
     },
     "metadata": {},
     "output_type": "display_data"
    }
   ],
   "source": [
    "data['ctext'] = data['text'].progress_apply(string_normalizer)"
   ]
  },
  {
   "cell_type": "code",
   "execution_count": 8,
   "metadata": {},
   "outputs": [
    {
     "data": {
      "text/html": [
       "<div>\n",
       "<style scoped>\n",
       "    .dataframe tbody tr th:only-of-type {\n",
       "        vertical-align: middle;\n",
       "    }\n",
       "\n",
       "    .dataframe tbody tr th {\n",
       "        vertical-align: top;\n",
       "    }\n",
       "\n",
       "    .dataframe thead th {\n",
       "        text-align: right;\n",
       "    }\n",
       "</style>\n",
       "<table border=\"1\" class=\"dataframe\">\n",
       "  <thead>\n",
       "    <tr style=\"text-align: right;\">\n",
       "      <th></th>\n",
       "      <th>text</th>\n",
       "      <th>tag</th>\n",
       "      <th>ctext</th>\n",
       "    </tr>\n",
       "  </thead>\n",
       "  <tbody>\n",
       "    <tr>\n",
       "      <th>3157</th>\n",
       "      <td>28.07.2010. ИТАР-ТАСС - Программа ВОСТОК На Колыме успешно завершился\\nэтнокультурный образовательныйэксперимент по программе поддержки северных\\nнародов Губернские ведомости (Южно-Сахалинск) Севе...</td>\n",
       "      <td>social</td>\n",
       "      <td>итар-тасс - программа восток на колыме успешно завершился этнокультурный образовательныйэксперимент по программе поддержки северных народов губернские ведомости южно-сахалинск северные мотивы перв...</td>\n",
       "    </tr>\n",
       "    <tr>\n",
       "      <th>435</th>\n",
       "      <td>Эммануэль, Мануэль или Марин: кто станет следующим президентом Франции?\\n\\n8 декабря 2016 в 8:07\\n\\nРусская служба Би-би-си\\n\\nЗа благорасположение французских избирателей на предстоящих 23 апреля...</td>\n",
       "      <td>politics</td>\n",
       "      <td>эммануэль мануэль или марин кто станет следующим президентом франции декабря в русская служба би-би-си за благорасположение французских избирателей на предстоящих апреля года президентских выборах...</td>\n",
       "    </tr>\n",
       "    <tr>\n",
       "      <th>21</th>\n",
       "      <td>Контрактники могут получить льготы при поступлении в вузы... и внести в\\nГосдуму проект федерального закона, направленного на обеспечение доступности\\nвысшего образования для лиц, проходивших воен...</td>\n",
       "      <td>politics</td>\n",
       "      <td>контрактники могут получить льготы при поступлении в вузы и внести в госдуму проект федерального закона направленного на обеспечение доступности высшего образования для лиц проходивших военную слу...</td>\n",
       "    </tr>\n",
       "  </tbody>\n",
       "</table>\n",
       "</div>"
      ],
      "text/plain": [
       "                                                                                                                                                                                                         text  \\\n",
       "3157  28.07.2010. ИТАР-ТАСС - Программа ВОСТОК На Колыме успешно завершился\\nэтнокультурный образовательныйэксперимент по программе поддержки северных\\nнародов Губернские ведомости (Южно-Сахалинск) Севе...   \n",
       "435   Эммануэль, Мануэль или Марин: кто станет следующим президентом Франции?\\n\\n8 декабря 2016 в 8:07\\n\\nРусская служба Би-би-си\\n\\nЗа благорасположение французских избирателей на предстоящих 23 апреля...   \n",
       "21    Контрактники могут получить льготы при поступлении в вузы... и внести в\\nГосдуму проект федерального закона, направленного на обеспечение доступности\\nвысшего образования для лиц, проходивших воен...   \n",
       "\n",
       "           tag  \\\n",
       "3157    social   \n",
       "435   politics   \n",
       "21    politics   \n",
       "\n",
       "                                                                                                                                                                                                        ctext  \n",
       "3157  итар-тасс - программа восток на колыме успешно завершился этнокультурный образовательныйэксперимент по программе поддержки северных народов губернские ведомости южно-сахалинск северные мотивы перв...  \n",
       "435   эммануэль мануэль или марин кто станет следующим президентом франции декабря в русская служба би-би-си за благорасположение французских избирателей на предстоящих апреля года президентских выборах...  \n",
       "21    контрактники могут получить льготы при поступлении в вузы и внести в госдуму проект федерального закона направленного на обеспечение доступности высшего образования для лиц проходивших военную слу...  "
      ]
     },
     "execution_count": 8,
     "metadata": {},
     "output_type": "execute_result"
    }
   ],
   "source": [
    "data.sample(3)"
   ]
  },
  {
   "cell_type": "markdown",
   "metadata": {},
   "source": [
    "## модели"
   ]
  },
  {
   "cell_type": "code",
   "execution_count": 9,
   "metadata": {},
   "outputs": [],
   "source": [
    "def print_top_words(model, feature_names, n_top_words=7):\n",
    "    for topic_idx, topic in enumerate(model.components_):\n",
    "        message = \"Тема %d: \" % topic_idx\n",
    "        message += \" \".join([feature_names[i] for i in topic.argsort()[:-n_top_words - 1:-1]])\n",
    "        print(message)"
   ]
  },
  {
   "cell_type": "code",
   "execution_count": 10,
   "metadata": {},
   "outputs": [],
   "source": [
    "n_features = 1000\n",
    "n_components = 10"
   ]
  },
  {
   "cell_type": "markdown",
   "metadata": {},
   "source": [
    "### CountVectorizer + LatentDirichletAllocation"
   ]
  },
  {
   "cell_type": "code",
   "execution_count": 15,
   "metadata": {},
   "outputs": [],
   "source": [
    "from nltk.corpus import stopwords as nltk_stopwords\n",
    "\n",
    "stopwords = set(nltk_stopwords.words('russian'))\n",
    "\n",
    "# разрезаем стоки на слова, выкидываем stopwords, выполняем стеминг\n",
    "def tokenizer(s,stopwords=stopwords): \n",
    "    for w in s.split(' '):\n",
    "        if len(w)<2: continue\n",
    "        if w in stopwords: continue\n",
    "        yield w        \n",
    "    return ''"
   ]
  },
  {
   "cell_type": "code",
   "execution_count": 16,
   "metadata": {},
   "outputs": [
    {
     "name": "stdout",
     "output_type": "stream",
     "text": [
      "\n",
      "LDA:\n",
      "\n",
      "Тема 0: компания компании сети apple пользователей фото рынке\n",
      "Тема 1: ученые коми путин ссср университета японии также\n",
      "Тема 2: автомобиль дтп автомобилей результате км водитель автомобиля\n",
      "Тема 3: мяч фильм лучший динамо матче получил очков\n",
      "Тема 4: рублей народов млн коренных севера года малочисленных\n",
      "Тема 5: это очень которые лет время года году\n",
      "Тема 6: by tut декабря фото ноября внимание установлена\n",
      "Тема 7: года декабря также россии мира году время\n",
      "Тема 8: россии заявил беларуси декабря президента глава также\n",
      "Тема 9: года сша декабря россии трамп ранее сообщает\n",
      "CPU times: user 24.7 s, sys: 39.6 ms, total: 24.7 s\n",
      "Wall time: 25.1 s\n"
     ]
    }
   ],
   "source": [
    "%%time\n",
    "\n",
    "# tf features \n",
    "tf_vectorizer = CountVectorizer( \n",
    "        max_df=.95, \n",
    "        min_df=2, \n",
    "        max_features=n_features,\n",
    "        tokenizer=tokenizer, \n",
    "        token_pattern=None,\n",
    "    )\n",
    "tf = tf_vectorizer.fit_transform(data['ctext'])\n",
    "tf_feature_names = tf_vectorizer.get_feature_names_out()\n",
    "\n",
    "# LDA - латентное размещение Дирихле\n",
    "lda = LatentDirichletAllocation( \n",
    "        n_components=n_components, \n",
    "        max_iter=5,\n",
    "        learning_method='online', \n",
    "        learning_offset=50.,\n",
    "        random_state=0, \n",
    "    ).fit(tf)\n",
    "\n",
    "print('\\nLDA:\\n')\n",
    "print_top_words(lda, tf_feature_names)"
   ]
  },
  {
   "cell_type": "code",
   "execution_count": 17,
   "metadata": {},
   "outputs": [],
   "source": [
    "# LDA:\n",
    "\n",
    "# Тема 0: на что по его года также как\n",
    "# Тема 1: версия вас или не установлена браузер ваш\n",
    "# Тема 2: object динамо украины sport на матча 14\n",
    "# Тема 3: на до по декабря 00 рублей by\n",
    "# Тема 4: на мяч чемпионата матче лучший команды сборной\n",
    "# Тема 5: на что не будет для от при\n",
    "# Тема 6: на года за из по году 2016\n",
    "# Тема 7: народов коренных севера малочисленных края коми руб\n",
    "# Тема 8: не на что но это как из\n",
    "# Тема 9: по на из что за декабря не"
   ]
  },
  {
   "cell_type": "code",
   "execution_count": 18,
   "metadata": {},
   "outputs": [
    {
     "data": {
      "image/png": "[encoded data removed]",
      "text/plain": [
       "<Figure size 432x288 with 1 Axes>"
      ]
     },
     "metadata": {
      "needs_background": "light"
     },
     "output_type": "display_data"
    }
   ],
   "source": [
    "t = np.argmax(lda.transform(tf),axis=1) \n",
    "plt.hist(t)\n",
    "plt.grid()"
   ]
  },
  {
   "cell_type": "markdown",
   "metadata": {},
   "source": [
    "### TfidfVectorizer + NMF (Frobenius norm)"
   ]
  },
  {
   "cell_type": "code",
   "execution_count": 27,
   "metadata": {},
   "outputs": [
    {
     "name": "stderr",
     "output_type": "stream",
     "text": [
      "/opt/python3.8/lib/python3.8/site-packages/sklearn/decomposition/_nmf.py:289: FutureWarning: The 'init' value, when 'init=None' and n_components is less than n_samples and n_features, will be changed from 'nndsvd' to 'nndsvda' in 1.1 (renaming of 0.26).\n",
      "  warnings.warn(\n"
     ]
    },
    {
     "name": "stdout",
     "output_type": "stream",
     "text": [
      "\n",
      "NMF:\n",
      "\n",
      "Тема 0: это by tut беларуси очень декабря фото\n",
      "Тема 1: трамп сша трампа дональд президент избранный президента\n",
      "Тема 2: дтп водитель области результате мвд декабря происшествия\n",
      "Тема 3: flash adobe javascript player проигрывателя html отключен\n",
      "Тема 4: савченко украины партии надежда заявила лидер действия\n",
      "Тема 5: народов севера коренных малочисленных края июля фестиваль\n",
      "Тема 6: ученые университета специалисты могут часов исследования людей\n",
      "Тема 7: рублей года компания млн компании году млрд\n",
      "Тема 8: россии путин рф заявил россия глава алеппо\n",
      "Тема 9: динамо матче чемпионата мира стал очков лучшим\n"
     ]
    }
   ],
   "source": [
    "# tf-idf features \n",
    "tfidf_vectorizer = TfidfVectorizer( \n",
    "    max_df=.95, \n",
    "    min_df=2, \n",
    "    max_features=n_features,\n",
    "    tokenizer=tokenizer, \n",
    "    token_pattern=None,)\n",
    "\n",
    "tfidf = tfidf_vectorizer.fit_transform(data['ctext'])\n",
    "tfidf_feature_names = tf_vectorizer.get_feature_names_out()\n",
    "\n",
    "# NMF (Frobenius norm) - неотрицательное матричное разложение\n",
    "nmf = NMF( n_components=n_components, random_state=1, l1_ratio=.5 ).fit(tfidf)\n",
    "\n",
    "print('\\nNMF:\\n')\n",
    "print_top_words( nmf, tfidf_feature_names )"
   ]
  },
  {
   "cell_type": "code",
   "execution_count": 28,
   "metadata": {},
   "outputs": [
    {
     "data": {
      "image/png": "[encoded data removed]",
      "text/plain": [
       "<Figure size 432x288 with 1 Axes>"
      ]
     },
     "metadata": {
      "needs_background": "light"
     },
     "output_type": "display_data"
    }
   ],
   "source": [
    "t = np.argmax(nmf.transform(tfidf),axis=1) \n",
    "plt.hist(t)\n",
    "plt.grid()"
   ]
  },
  {
   "cell_type": "markdown",
   "metadata": {},
   "source": [
    "### TfidfVectorizer + NMF (generalized Kullback-Leibler divergence)"
   ]
  },
  {
   "cell_type": "code",
   "execution_count": 29,
   "metadata": {},
   "outputs": [
    {
     "name": "stderr",
     "output_type": "stream",
     "text": [
      "/opt/python3.8/lib/python3.8/site-packages/sklearn/decomposition/_nmf.py:289: FutureWarning: The 'init' value, when 'init=None' and n_components is less than n_samples and n_features, will be changed from 'nndsvd' to 'nndsvda' in 1.1 (renaming of 0.26).\n",
      "  warnings.warn(\n"
     ]
    },
    {
     "name": "stdout",
     "output_type": "stream",
     "text": [
      "\n",
      "NMF:\n",
      "\n",
      "Тема 0: это фото декабря года который лет время\n",
      "Тема 1: сша трамп президент трампа президента пост дональд\n",
      "Тема 2: дтп области водитель результате мвд декабря сообщили\n",
      "Тема 3: by tut декабря видео поддерживает установлена версия\n",
      "Тема 4: савченко россии украины заявил путин декабря глава\n",
      "Тема 5: народов млн рублей севера коренных области малочисленных\n",
      "Тема 6: ученые специалисты университета людей жизни часов могут\n",
      "Тема 7: компания компании рублей долларов года модели автомобиль\n",
      "Тема 8: сообщает алеппо новости риа москва также сми\n",
      "Тема 9: мира динамо стал матче чемпионата лучший место\n"
     ]
    }
   ],
   "source": [
    "# tf-idf features \n",
    "tfidf_vectorizer = TfidfVectorizer( \n",
    "    max_df=.95, \n",
    "    min_df=2, \n",
    "    max_features=n_features, \n",
    "    tokenizer=tokenizer, \n",
    "    token_pattern=None,)\n",
    "\n",
    "tfidf = tfidf_vectorizer.fit_transform(data['ctext'])\n",
    "tfidf_feature_names = tf_vectorizer.get_feature_names_out()\n",
    "\n",
    "# NMF (generalized Kullback-Leibler divergence) \n",
    "nmf = NMF( n_components=n_components, random_state=1, beta_loss='kullback-leibler', \n",
    "          solver='mu', max_iter=1000,  l1_ratio=.5 ).fit(tfidf)\n",
    "\n",
    "print('\\nNMF:\\n')\n",
    "print_top_words( nmf, tfidf_feature_names )"
   ]
  },
  {
   "cell_type": "code",
   "execution_count": 30,
   "metadata": {},
   "outputs": [
    {
     "data": {
      "image/png": "[encoded data removed]",
      "text/plain": [
       "<Figure size 432x288 with 1 Axes>"
      ]
     },
     "metadata": {
      "needs_background": "light"
     },
     "output_type": "display_data"
    }
   ],
   "source": [
    "t = np.argmax(nmf.transform(tfidf),axis=1) \n",
    "plt.hist(t)\n",
    "plt.grid()"
   ]
  },
  {
   "cell_type": "code",
   "execution_count": null,
   "metadata": {},
   "outputs": [],
   "source": []
  }
 ],
 "metadata": {
  "kernelspec": {
   "display_name": "Python 3 (ipykernel)",
   "language": "python",
   "name": "python3"
  },
  "language_info": {
   "codemirror_mode": {
    "name": "ipython",
    "version": 3
   },
   "file_extension": ".py",
   "mimetype": "text/x-python",
   "name": "python",
   "nbconvert_exporter": "python",
   "pygments_lexer": "ipython3",
   "version": "3.8.9"
  },
  "toc": {
   "base_numbering": 1,
   "nav_menu": {},
   "number_sections": true,
   "sideBar": true,
   "skip_h1_title": false,
   "title_cell": "Table of Contents",
   "title_sidebar": "Contents",
   "toc_cell": false,
   "toc_position": {},
   "toc_section_display": true,
   "toc_window_display": false
  }
 },
 "nbformat": 4,
 "nbformat_minor": 2
}
