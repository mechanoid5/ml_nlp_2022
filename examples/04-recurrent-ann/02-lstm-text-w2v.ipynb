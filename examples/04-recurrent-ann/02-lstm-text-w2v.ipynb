{
 "cells": [
  {
   "cell_type": "markdown",
   "metadata": {},
   "source": [
    "**классификатор текстов LSTM + W2V**\n",
    "\n",
    "Евгений Борисов <borisov.e@solarl.ru>"
   ]
  },
  {
   "cell_type": "markdown",
   "metadata": {},
   "source": [
    "Национальный корпус русского языка  \n",
    "https://ruscorpora.ru/new/\n",
    "\n",
    "\n",
    "Russian Distributional Thesaurus  \n",
    "https://nlpub.ru/Russian_Distributional_Thesaurus    \n",
    "\n",
    "\n",
    "\n",
    "Ю. В. Рубцова. Построение корпуса текстов для настройки тонового классификатора // Программные продукты и системы, 2015, №1(109)\n",
    "http://study.mokoron.com\n"
   ]
  },
  {
   "cell_type": "markdown",
   "metadata": {},
   "source": [
    "## Библиотеки"
   ]
  },
  {
   "cell_type": "code",
   "execution_count": 1,
   "metadata": {},
   "outputs": [],
   "source": [
    "import numpy as np\n",
    "import pandas as pd\n",
    "pd.options.display.max_colwidth = 200  \n",
    "import re\n",
    "import gc\n",
    "# import gzip\n",
    "from tqdm.notebook import tqdm"
   ]
  },
  {
   "cell_type": "code",
   "execution_count": 2,
   "metadata": {},
   "outputs": [],
   "source": [
    "tqdm.pandas()"
   ]
  },
  {
   "cell_type": "code",
   "execution_count": 3,
   "metadata": {},
   "outputs": [],
   "source": [
    "def pp(d): return \"{:,.0f}\".format(d).replace(\",\", \" \")\n",
    "def ppr(d): print('записей:', pp(len(d)) )  "
   ]
  },
  {
   "cell_type": "markdown",
   "metadata": {},
   "source": [
    "## Данные"
   ]
  },
  {
   "cell_type": "raw",
   "metadata": {},
   "source": [
    "Ю. В. Рубцова. Построение корпуса текстов для настройки тонового классификатора // Программные продукты и системы, 2015, №1(109), –С.72-78\n",
    "\n",
    "http://study.mokoron.com\n",
    "\n",
    "– id: уникальный номер сообщения в системе twitter;\n",
    "– tdate: дата публикации сообщения (твита);\n",
    "– tmane: имя пользователя, опубликовавшего сообщение;\n",
    "– ttext:  текст сообщения (твита);\n",
    "– ttype: поле в котором в дальнейшем будет указано к кому классу относится твит (положительный, отрицательный, нейтральный);\n",
    "– trep: количество реплаев к данному сообщению. В настоящий момент API твиттера не отдает эту информацию;\n",
    "– tfav: число сколько раз данное сообщение было добавлено в избранное другими пользователями;\n",
    "– tstcount: число всех сообщений пользователя в сети twitter;\n",
    "– tfol: количество фоловеров пользователя (тех людей, которые читают пользователя);\n",
    "– tfrien: количество друзей пользователя (те люди, которых читает пользователь);\n",
    "– listcount: количество листов-подписок в которые добавлен твиттер-пользователь."
   ]
  },
  {
   "cell_type": "code",
   "execution_count": 10,
   "metadata": {},
   "outputs": [],
   "source": [
    "# !wget -c https://www.dropbox.com/s/fnpq3z4bcnoktiv/positive.csv\n",
    "# !wget -c https://www.dropbox.com/s/r6u59ljhhjdg6j0/negative.csv"
   ]
  },
  {
   "cell_type": "code",
   "execution_count": 11,
   "metadata": {},
   "outputs": [],
   "source": [
    "ff = ['id', 'tdate', 'tmane', 'ttext', 'ttype', 'trep', 'tfav', 'tstcount', 'tfol', 'tfrien', 'listcount','unk']"
   ]
  },
  {
   "cell_type": "code",
   "execution_count": 12,
   "metadata": {},
   "outputs": [
    {
     "name": "stdout",
     "output_type": "stream",
     "text": [
      "записей: 111 923\n"
     ]
    }
   ],
   "source": [
    "neg = pd.read_csv('negative.csv',sep=';',header=None)\n",
    "ppr(neg)\n",
    "neg.columns = ff"
   ]
  },
  {
   "cell_type": "code",
   "execution_count": 13,
   "metadata": {},
   "outputs": [
    {
     "name": "stdout",
     "output_type": "stream",
     "text": [
      "записей: 114 910\n"
     ]
    }
   ],
   "source": [
    "pos = pd.read_csv('positive.csv',sep=';')\n",
    "ppr(pos)\n",
    "pos.columns = ff"
   ]
  },
  {
   "cell_type": "code",
   "execution_count": 14,
   "metadata": {},
   "outputs": [
    {
     "name": "stdout",
     "output_type": "stream",
     "text": [
      "записей: 226 833\n"
     ]
    }
   ],
   "source": [
    "data = pd.concat([pos,neg],sort=False)[['id','ttext', 'ttype']]\n",
    "ppr(data)"
   ]
  },
  {
   "cell_type": "code",
   "execution_count": 15,
   "metadata": {},
   "outputs": [
    {
     "data": {
      "text/html": [
       "<div>\n",
       "<style scoped>\n",
       "    .dataframe tbody tr th:only-of-type {\n",
       "        vertical-align: middle;\n",
       "    }\n",
       "\n",
       "    .dataframe tbody tr th {\n",
       "        vertical-align: top;\n",
       "    }\n",
       "\n",
       "    .dataframe thead th {\n",
       "        text-align: right;\n",
       "    }\n",
       "</style>\n",
       "<table border=\"1\" class=\"dataframe\">\n",
       "  <thead>\n",
       "    <tr style=\"text-align: right;\">\n",
       "      <th></th>\n",
       "      <th>id</th>\n",
       "      <th>ttext</th>\n",
       "      <th>ttype</th>\n",
       "    </tr>\n",
       "  </thead>\n",
       "  <tbody>\n",
       "    <tr>\n",
       "      <th>42397</th>\n",
       "      <td>414078301964369920</td>\n",
       "      <td>Очень жалко, что они только 2 раза в неделю:(</td>\n",
       "      <td>-1</td>\n",
       "    </tr>\n",
       "    <tr>\n",
       "      <th>54507</th>\n",
       "      <td>415711491883827201</td>\n",
       "      <td>RT @xenia_sobchak: Я в аэропорту. И реально задыхаюсь.бедные красноярцы:(... Как вы живете с такими экологическими проблемами? Вы же травит…</td>\n",
       "      <td>-1</td>\n",
       "    </tr>\n",
       "    <tr>\n",
       "      <th>13747</th>\n",
       "      <td>410845242976632832</td>\n",
       "      <td>Как же всё таки плохо,что мы не поехали в зимний лагерь : ((</td>\n",
       "      <td>-1</td>\n",
       "    </tr>\n",
       "    <tr>\n",
       "      <th>103642</th>\n",
       "      <td>411113594898898944</td>\n",
       "      <td>Если Том приедет в Рашку,то я покрашусь в зеленый цвет,обещаю блин! Ахаха)</td>\n",
       "      <td>1</td>\n",
       "    </tr>\n",
       "    <tr>\n",
       "      <th>6552</th>\n",
       "      <td>409086806991179776</td>\n",
       "      <td>RT @naranzun: Шинэ жилээр  ёолкон дээр хүүхнүүд аймаар адилхан болдог шүү...танигдах тэмдэг тавиарай даа..андуурсан тохиолдол байгаа шоо..:)</td>\n",
       "      <td>1</td>\n",
       "    </tr>\n",
       "    <tr>\n",
       "      <th>92470</th>\n",
       "      <td>422089337967108096</td>\n",
       "      <td>@phosphormustdie он не пишет почти ничего(((</td>\n",
       "      <td>-1</td>\n",
       "    </tr>\n",
       "    <tr>\n",
       "      <th>87420</th>\n",
       "      <td>421235536422895616</td>\n",
       "      <td>@m_athanasios @VRSoloviev  вот елки палки :( думал о пиндосах поговорим, Синегале. Тут по ОРТ отца Афанасия показали.</td>\n",
       "      <td>-1</td>\n",
       "    </tr>\n",
       "    <tr>\n",
       "      <th>90159</th>\n",
       "      <td>410842209274302465</td>\n",
       "      <td>А теперь смирись.Сейчас стало все ясно,с кем не бывает?И у тебя такое было!И все равно спасибо тебе,было круто;)</td>\n",
       "      <td>1</td>\n",
       "    </tr>\n",
       "    <tr>\n",
       "      <th>32016</th>\n",
       "      <td>409745183467507712</td>\n",
       "      <td>@kaleriya_meow  Панда,это кто?:D \\nДай угадаю,хомяк?о.о</td>\n",
       "      <td>1</td>\n",
       "    </tr>\n",
       "    <tr>\n",
       "      <th>89627</th>\n",
       "      <td>410837813450375168</td>\n",
       "      <td>когда шли спокойной ночи малыши мама подпевала песенке из заставки:D\\nмам ты норм?</td>\n",
       "      <td>1</td>\n",
       "    </tr>\n",
       "  </tbody>\n",
       "</table>\n",
       "</div>"
      ],
      "text/plain": [
       "                        id  \\\n",
       "42397   414078301964369920   \n",
       "54507   415711491883827201   \n",
       "13747   410845242976632832   \n",
       "103642  411113594898898944   \n",
       "6552    409086806991179776   \n",
       "92470   422089337967108096   \n",
       "87420   421235536422895616   \n",
       "90159   410842209274302465   \n",
       "32016   409745183467507712   \n",
       "89627   410837813450375168   \n",
       "\n",
       "                                                                                                                                               ttext  \\\n",
       "42397                                                                                                  Очень жалко, что они только 2 раза в неделю:(   \n",
       "54507   RT @xenia_sobchak: Я в аэропорту. И реально задыхаюсь.бедные красноярцы:(... Как вы живете с такими экологическими проблемами? Вы же травит…   \n",
       "13747                                                                                   Как же всё таки плохо,что мы не поехали в зимний лагерь : ((   \n",
       "103642                                                                    Если Том приедет в Рашку,то я покрашусь в зеленый цвет,обещаю блин! Ахаха)   \n",
       "6552    RT @naranzun: Шинэ жилээр  ёолкон дээр хүүхнүүд аймаар адилхан болдог шүү...танигдах тэмдэг тавиарай даа..андуурсан тохиолдол байгаа шоо..:)   \n",
       "92470                                                                                                   @phosphormustdie он не пишет почти ничего(((   \n",
       "87420                          @m_athanasios @VRSoloviev  вот елки палки :( думал о пиндосах поговорим, Синегале. Тут по ОРТ отца Афанасия показали.   \n",
       "90159                               А теперь смирись.Сейчас стало все ясно,с кем не бывает?И у тебя такое было!И все равно спасибо тебе,было круто;)   \n",
       "32016                                                                                        @kaleriya_meow  Панда,это кто?:D \\nДай угадаю,хомяк?о.о   \n",
       "89627                                                             когда шли спокойной ночи малыши мама подпевала песенке из заставки:D\\nмам ты норм?   \n",
       "\n",
       "        ttype  \n",
       "42397      -1  \n",
       "54507      -1  \n",
       "13747      -1  \n",
       "103642      1  \n",
       "6552        1  \n",
       "92470      -1  \n",
       "87420      -1  \n",
       "90159       1  \n",
       "32016       1  \n",
       "89627       1  "
      ]
     },
     "execution_count": 15,
     "metadata": {},
     "output_type": "execute_result"
    }
   ],
   "source": [
    "data.sample(10)"
   ]
  },
  {
   "cell_type": "markdown",
   "metadata": {},
   "source": [
    "## очистка данных"
   ]
  },
  {
   "cell_type": "code",
   "execution_count": 16,
   "metadata": {},
   "outputs": [
    {
     "data": {
      "application/vnd.jupyter.widget-view+json": {
       "model_id": "884ba8661a824db6a6ccc9ed81d28fce",
       "version_major": 2,
       "version_minor": 0
      },
      "text/plain": [
       "  0%|          | 0/226833 [00:00<?, ?it/s]"
      ]
     },
     "metadata": {},
     "output_type": "display_data"
    },
    {
     "data": {
      "application/vnd.jupyter.widget-view+json": {
       "model_id": "48e95f343e3b43eabc40454c8c63e939",
       "version_major": 2,
       "version_minor": 0
      },
      "text/plain": [
       "  0%|          | 0/226833 [00:00<?, ?it/s]"
      ]
     },
     "metadata": {},
     "output_type": "display_data"
    },
    {
     "data": {
      "application/vnd.jupyter.widget-view+json": {
       "model_id": "c6f2027bdef047ec990c2ff3e6beeadd",
       "version_major": 2,
       "version_minor": 0
      },
      "text/plain": [
       "  0%|          | 0/226833 [00:00<?, ?it/s]"
      ]
     },
     "metadata": {},
     "output_type": "display_data"
    },
    {
     "data": {
      "application/vnd.jupyter.widget-view+json": {
       "model_id": "1ebaf84d867643198cc714ee166f57cd",
       "version_major": 2,
       "version_minor": 0
      },
      "text/plain": [
       "  0%|          | 0/226833 [00:00<?, ?it/s]"
      ]
     },
     "metadata": {},
     "output_type": "display_data"
    },
    {
     "data": {
      "application/vnd.jupyter.widget-view+json": {
       "model_id": "1be89e42f85d4f67b782ab6923c8206f",
       "version_major": 2,
       "version_minor": 0
      },
      "text/plain": [
       "  0%|          | 0/226833 [00:00<?, ?it/s]"
      ]
     },
     "metadata": {},
     "output_type": "display_data"
    },
    {
     "data": {
      "application/vnd.jupyter.widget-view+json": {
       "model_id": "1deb92fee60a484ea756f15acd262681",
       "version_major": 2,
       "version_minor": 0
      },
      "text/plain": [
       "  0%|          | 0/226833 [00:00<?, ?it/s]"
      ]
     },
     "metadata": {},
     "output_type": "display_data"
    },
    {
     "data": {
      "application/vnd.jupyter.widget-view+json": {
       "model_id": "730e0e30ba3c4ede8a0fecbee82a6a7f",
       "version_major": 2,
       "version_minor": 0
      },
      "text/plain": [
       "  0%|          | 0/226833 [00:00<?, ?it/s]"
      ]
     },
     "metadata": {},
     "output_type": "display_data"
    },
    {
     "data": {
      "application/vnd.jupyter.widget-view+json": {
       "model_id": "86cec9e84f5c4efc8a3d1e5e6d939095",
       "version_major": 2,
       "version_minor": 0
      },
      "text/plain": [
       "  0%|          | 0/226833 [00:00<?, ?it/s]"
      ]
     },
     "metadata": {},
     "output_type": "display_data"
    }
   ],
   "source": [
    "data['ttext_clean'] = data['ttext']\\\n",
    "    .progress_apply(lambda t:[ w.strip() for w in t.split() if w.strip() ] )\\\n",
    "    .progress_apply(lambda t:[ re.sub(r'^http.*',' url ', w.strip() ) for w in t ] )\\\n",
    "    .progress_apply(lambda t:[ re.sub(r'^@.*',' twit ', w.strip() ) for w in t ] )\\\n",
    "    .progress_apply(lambda t:[ re.sub(r'[:;]-*[)D]',' happysmile ', w.strip() )for w in t ])\\\n",
    "    .progress_apply(lambda t:[ re.sub(r'\\)\\)\\)*',' happysmile ', w.strip() ) for w in t ])\\\n",
    "    .progress_apply(lambda t:[ re.sub(r'[:;]\\*',' kisssmile ', w.strip() ) for w in t ])\\\n",
    "    .progress_apply(lambda t:[ re.sub(r':\\(',' sadsmile ', w.strip() ) for w in t ])\\\n",
    "    .progress_apply(lambda t:[ re.sub(r'\\(\\(\\(*',' sadsmile ', w.strip() ) for w in t ])"
   ]
  },
  {
   "cell_type": "code",
   "execution_count": 17,
   "metadata": {},
   "outputs": [],
   "source": [
    "data['ttext_clean'] = [ ' '.join(s) for s in data['ttext_clean'] ]"
   ]
  },
  {
   "cell_type": "code",
   "execution_count": 18,
   "metadata": {},
   "outputs": [
    {
     "data": {
      "application/vnd.jupyter.widget-view+json": {
       "model_id": "4ed56f95fa9a49039c346faf6ae9589a",
       "version_major": 2,
       "version_minor": 0
      },
      "text/plain": [
       "  0%|          | 0/226833 [00:00<?, ?it/s]"
      ]
     },
     "metadata": {},
     "output_type": "display_data"
    },
    {
     "data": {
      "application/vnd.jupyter.widget-view+json": {
       "model_id": "bdd848d14fe14a1db0f07d3c3f17e9c6",
       "version_major": 2,
       "version_minor": 0
      },
      "text/plain": [
       "  0%|          | 0/226833 [00:00<?, ?it/s]"
      ]
     },
     "metadata": {},
     "output_type": "display_data"
    },
    {
     "data": {
      "application/vnd.jupyter.widget-view+json": {
       "model_id": "2ac546b890e1487284ee2f7e2ecb8c57",
       "version_major": 2,
       "version_minor": 0
      },
      "text/plain": [
       "  0%|          | 0/226833 [00:00<?, ?it/s]"
      ]
     },
     "metadata": {},
     "output_type": "display_data"
    },
    {
     "data": {
      "application/vnd.jupyter.widget-view+json": {
       "model_id": "09b78fa65da845beb35ca4fa89ea0e49",
       "version_major": 2,
       "version_minor": 0
      },
      "text/plain": [
       "  0%|          | 0/226833 [00:00<?, ?it/s]"
      ]
     },
     "metadata": {},
     "output_type": "display_data"
    },
    {
     "data": {
      "application/vnd.jupyter.widget-view+json": {
       "model_id": "a47dbd2438c348a1bcf963d82d288b42",
       "version_major": 2,
       "version_minor": 0
      },
      "text/plain": [
       "  0%|          | 0/226833 [00:00<?, ?it/s]"
      ]
     },
     "metadata": {},
     "output_type": "display_data"
    }
   ],
   "source": [
    "data['ttext_clean'] = data['ttext_clean'].str.lower()\\\n",
    "    .progress_apply(lambda s: re.sub( r'\\W', ' ', s))\\\n",
    "    .progress_apply(lambda s: re.sub( r'_', ' ', s))\\\n",
    "    .progress_apply(lambda s: re.sub( r'\\b\\d+\\b', ' digit ', s))\\\n",
    "    .progress_apply(lambda t:[ w.strip() for w in t.split() if w.strip() ] )\\\n",
    "    .progress_apply(lambda t: [w for w in t if not re.match( r'\\b.*\\d+.*\\b', w) ])"
   ]
  },
  {
   "cell_type": "code",
   "execution_count": 19,
   "metadata": {},
   "outputs": [
    {
     "data": {
      "text/html": [
       "<div>\n",
       "<style scoped>\n",
       "    .dataframe tbody tr th:only-of-type {\n",
       "        vertical-align: middle;\n",
       "    }\n",
       "\n",
       "    .dataframe tbody tr th {\n",
       "        vertical-align: top;\n",
       "    }\n",
       "\n",
       "    .dataframe thead th {\n",
       "        text-align: right;\n",
       "    }\n",
       "</style>\n",
       "<table border=\"1\" class=\"dataframe\">\n",
       "  <thead>\n",
       "    <tr style=\"text-align: right;\">\n",
       "      <th></th>\n",
       "      <th>id</th>\n",
       "      <th>ttext</th>\n",
       "      <th>ttype</th>\n",
       "      <th>ttext_clean</th>\n",
       "    </tr>\n",
       "  </thead>\n",
       "  <tbody>\n",
       "    <tr>\n",
       "      <th>54017</th>\n",
       "      <td>415574286884409344</td>\n",
       "      <td>почему я такая бездарность?? ничего не получается (( если я что-то начну делать, либо рисовать или украшать ёлку, всё равно хуйня получится</td>\n",
       "      <td>-1</td>\n",
       "      <td>[почему, я, такая, бездарность, ничего, не, получается, sadsmile, если, я, что, то, начну, делать, либо, рисовать, или, украшать, ёлку, всё, равно, хуйня, получится]</td>\n",
       "    </tr>\n",
       "    <tr>\n",
       "      <th>4003</th>\n",
       "      <td>409052810748387328</td>\n",
       "      <td>Офигенные:* Как этих ребят можно не любить? http://t.co/8Z8SlWhaA8</td>\n",
       "      <td>1</td>\n",
       "      <td>[офигенные, kisssmile, как, этих, ребят, можно, не, любить, url]</td>\n",
       "    </tr>\n",
       "    <tr>\n",
       "      <th>84526</th>\n",
       "      <td>420463613586202624</td>\n",
       "      <td>Как за иАло!!Скачивать аськи!!не навижу цифру 1((((</td>\n",
       "      <td>-1</td>\n",
       "      <td>[как, за, иало, скачивать, аськи, не, навижу, цифру, digit, sadsmile]</td>\n",
       "    </tr>\n",
       "  </tbody>\n",
       "</table>\n",
       "</div>"
      ],
      "text/plain": [
       "                       id  \\\n",
       "54017  415574286884409344   \n",
       "4003   409052810748387328   \n",
       "84526  420463613586202624   \n",
       "\n",
       "                                                                                                                                             ttext  \\\n",
       "54017  почему я такая бездарность?? ничего не получается (( если я что-то начну делать, либо рисовать или украшать ёлку, всё равно хуйня получится   \n",
       "4003                                                                            Офигенные:* Как этих ребят можно не любить? http://t.co/8Z8SlWhaA8   \n",
       "84526                                                                                          Как за иАло!!Скачивать аськи!!не навижу цифру 1((((   \n",
       "\n",
       "       ttype  \\\n",
       "54017     -1   \n",
       "4003       1   \n",
       "84526     -1   \n",
       "\n",
       "                                                                                                                                                                 ttext_clean  \n",
       "54017  [почему, я, такая, бездарность, ничего, не, получается, sadsmile, если, я, что, то, начну, делать, либо, рисовать, или, украшать, ёлку, всё, равно, хуйня, получится]  \n",
       "4003                                                                                                        [офигенные, kisssmile, как, этих, ребят, можно, не, любить, url]  \n",
       "84526                                                                                                  [как, за, иало, скачивать, аськи, не, навижу, цифру, digit, sadsmile]  "
      ]
     },
     "execution_count": 19,
     "metadata": {},
     "output_type": "execute_result"
    }
   ],
   "source": [
    "data.sample(3)"
   ]
  },
  {
   "cell_type": "code",
   "execution_count": 20,
   "metadata": {},
   "outputs": [
    {
     "data": {
      "application/vnd.jupyter.widget-view+json": {
       "model_id": "1ce96396fda4478185dcb4b166786e5e",
       "version_major": 2,
       "version_minor": 0
      },
      "text/plain": [
       "  0%|          | 0/226833 [00:00<?, ?it/s]"
      ]
     },
     "metadata": {},
     "output_type": "display_data"
    }
   ],
   "source": [
    "# удаление коротких слов\n",
    "data['ttext_clean'] = data['ttext_clean'].progress_apply(lambda t:[w for w in t if len(w)>2])"
   ]
  },
  {
   "cell_type": "code",
   "execution_count": 21,
   "metadata": {},
   "outputs": [
    {
     "name": "stdout",
     "output_type": "stream",
     "text": [
      "записей: 226 833\n",
      "записей: 226 831\n"
     ]
    }
   ],
   "source": [
    "ppr(data)\n",
    "data = data[ data['ttext_clean'].str.len()>0 ].reset_index(drop=True) \n",
    "ppr(data)"
   ]
  },
  {
   "cell_type": "code",
   "execution_count": 22,
   "metadata": {},
   "outputs": [
    {
     "data": {
      "text/html": [
       "<div>\n",
       "<style scoped>\n",
       "    .dataframe tbody tr th:only-of-type {\n",
       "        vertical-align: middle;\n",
       "    }\n",
       "\n",
       "    .dataframe tbody tr th {\n",
       "        vertical-align: top;\n",
       "    }\n",
       "\n",
       "    .dataframe thead th {\n",
       "        text-align: right;\n",
       "    }\n",
       "</style>\n",
       "<table border=\"1\" class=\"dataframe\">\n",
       "  <thead>\n",
       "    <tr style=\"text-align: right;\">\n",
       "      <th></th>\n",
       "      <th>id</th>\n",
       "      <th>ttext</th>\n",
       "      <th>ttype</th>\n",
       "      <th>ttext_clean</th>\n",
       "    </tr>\n",
       "  </thead>\n",
       "  <tbody>\n",
       "    <tr>\n",
       "      <th>86378</th>\n",
       "      <td>410804125857640448</td>\n",
       "      <td>@Alenka_Rusher да уже ничего, просто мне лилена мама звонила в тот момент, и Лилю искала)</td>\n",
       "      <td>1</td>\n",
       "      <td>[twit, уже, ничего, просто, мне, лилена, мама, звонила, тот, момент, лилю, искала]</td>\n",
       "    </tr>\n",
       "    <tr>\n",
       "      <th>8306</th>\n",
       "      <td>409106899519688705</td>\n",
       "      <td>RT @seweheniwy: Интересно живое выступление человекоподобных роботов играющих на настоящих инструментах это хуже или лучше фанеры? :)</td>\n",
       "      <td>1</td>\n",
       "      <td>[twit, интересно, живое, выступление, человекоподобных, роботов, играющих, настоящих, инструментах, это, хуже, или, лучше, фанеры, happysmile]</td>\n",
       "    </tr>\n",
       "    <tr>\n",
       "      <th>186246</th>\n",
       "      <td>417930591485825024</td>\n",
       "      <td>Еду в Киев ((( Ужасно нехочу.блин как по мне это будет самый ужастный новый год. \\nPs:спасите меня</td>\n",
       "      <td>-1</td>\n",
       "      <td>[еду, киев, sadsmile, ужасно, нехочу, блин, как, мне, это, будет, самый, ужастный, новый, год, спасите, меня]</td>\n",
       "    </tr>\n",
       "  </tbody>\n",
       "</table>\n",
       "</div>"
      ],
      "text/plain": [
       "                        id  \\\n",
       "86378   410804125857640448   \n",
       "8306    409106899519688705   \n",
       "186246  417930591485825024   \n",
       "\n",
       "                                                                                                                                        ttext  \\\n",
       "86378                                               @Alenka_Rusher да уже ничего, просто мне лилена мама звонила в тот момент, и Лилю искала)   \n",
       "8306    RT @seweheniwy: Интересно живое выступление человекоподобных роботов играющих на настоящих инструментах это хуже или лучше фанеры? :)   \n",
       "186246                                    Еду в Киев ((( Ужасно нехочу.блин как по мне это будет самый ужастный новый год. \\nPs:спасите меня    \n",
       "\n",
       "        ttype  \\\n",
       "86378       1   \n",
       "8306        1   \n",
       "186246     -1   \n",
       "\n",
       "                                                                                                                                           ttext_clean  \n",
       "86378                                                               [twit, уже, ничего, просто, мне, лилена, мама, звонила, тот, момент, лилю, искала]  \n",
       "8306    [twit, интересно, живое, выступление, человекоподобных, роботов, играющих, настоящих, инструментах, это, хуже, или, лучше, фанеры, happysmile]  \n",
       "186246                                   [еду, киев, sadsmile, ужасно, нехочу, блин, как, мне, это, будет, самый, ужастный, новый, год, спасите, меня]  "
      ]
     },
     "execution_count": 22,
     "metadata": {},
     "output_type": "execute_result"
    }
   ],
   "source": [
    "data.sample(3)"
   ]
  },
  {
   "cell_type": "markdown",
   "metadata": {},
   "source": [
    "## строим датасет"
   ]
  },
  {
   "cell_type": "markdown",
   "metadata": {},
   "source": [
    "### кодируем word2vec"
   ]
  },
  {
   "cell_type": "code",
   "execution_count": 63,
   "metadata": {},
   "outputs": [
    {
     "data": {
      "text/plain": [
       "'4.1.2'"
      ]
     },
     "execution_count": 63,
     "metadata": {},
     "output_type": "execute_result"
    }
   ],
   "source": [
    "import gensim\n",
    "gensim.__version__"
   ]
  },
  {
   "cell_type": "code",
   "execution_count": null,
   "metadata": {},
   "outputs": [],
   "source": [
    "# %%time\n",
    "\n",
    "# загружаем предобученный Gensim W2V\n",
    "\n",
    "# https://nlpub.ru/Russian_Distributional_Thesaurus\n",
    "    \n",
    "# from gensim.models import KeyedVectors \n",
    "# w2v_file = 'tenth.norm-sz500-w7-cb0-it5-min5.w2v'\n",
    "# w2v = KeyedVectors.load_word2vec_format(w2v_file, binary=True, unicode_errors='ignore')\n",
    "# w2v.init_sims(replace=True)"
   ]
  },
  {
   "cell_type": "code",
   "execution_count": 25,
   "metadata": {},
   "outputs": [
    {
     "name": "stdout",
     "output_type": "stream",
     "text": [
      "CPU times: user 23.2 s, sys: 714 ms, total: 23.9 s\n",
      "Wall time: 9.45 s\n"
     ]
    }
   ],
   "source": [
    "%%time\n",
    "\n",
    "# строим W2V на основе текстов\n",
    "\n",
    "from multiprocessing  import cpu_count\n",
    "from gensim.models.word2vec import Word2Vec\n",
    "\n",
    "w2v_size = 128\n",
    "\n",
    "w2v = Word2Vec(\n",
    "    sentences=data['ttext_clean'].values, \n",
    "    vector_size=w2v_size, \n",
    "    window=4, \n",
    "    min_count=1, \n",
    "    workers=cpu_count(),\n",
    ")\n",
    "\n",
    "# w2v = Word2Vec( data['ttext_clean'].values, min_count=1, size=w2v_size, window=4, workers=4)\n",
    "# with open('result/Word2Vec.pkl', 'wb') as f: pickle.dump(w2v, f)"
   ]
  },
  {
   "cell_type": "code",
   "execution_count": 34,
   "metadata": {},
   "outputs": [
    {
     "name": "stdout",
     "output_type": "stream",
     "text": [
      "записей: 181 101\n"
     ]
    }
   ],
   "source": [
    "w2v_vocab = sorted([w for w in w2v.wv.index_to_key])\n",
    "ppr(w2v_vocab)"
   ]
  },
  {
   "cell_type": "code",
   "execution_count": 36,
   "metadata": {},
   "outputs": [
    {
     "name": "stdout",
     "output_type": "stream",
     "text": [
      "рекламируйте : ['момент', 'петух', 'слезливый', 'отрыла', 'болван']\n",
      "фармакологию : ['дорогу', 'плитку', 'коллекцию', 'качалке', 'слюной']\n",
      "помоют : ['назидаться', 'шатулину', 'фаулер', 'webcamtoy', 'историца']\n",
      "пошловатые : ['грубые', 'поступки', 'которыми', 'плохие', 'здоровы']\n",
      "смекалка : ['приветище', 'полин', 'awww', 'огого', 'projects']\n",
      "пескорассыпателей : ['bakers', 'шланга', 'итальянском', 'соли', 'поднятая']\n",
      "соревы : ['поедем', 'бассейн', 'соревнования', 'санках', 'пойдём']\n",
      "белоруссию : ['праздничных', 'карибы', 'командную', 'паранормальные', 'неотложку']\n",
      "знае : ['виками', 'лежите', 'нееееттт', 'dно', 'ралинк']\n",
      "переходе : ['впрочем', 'пишется', 'хдд', 'неё', 'диман']\n",
      "шоколадный : ['дэвид', 'тре', 'корпус', 'bang', 'такий']\n",
      "допоет : ['роисся', 'выдлоипфдылва', 'образуют', 'срываешься', 'раздумьях']\n",
      "ispu : ['поторопитесь', 'оценивает', 'помелло', 'красавчік', 'enigmbox']\n",
      "национальная : ['общежитие', 'слоупок', 'елочка', 'аахахах', 'пидар']\n",
      "плащ : ['динамо', 'він', 'feat', 'болып', 'барьж']\n",
      "лосины : ['динамо', 'ман', 'ноутбука', 'центра', 'штуку']\n",
      "ибидно : ['минном', 'свенсена', 'свитоэ', 'темнице', 'броварах']\n",
      "лися : ['открывшийся', 'потому', 'петрухиным', 'несмотря', 'умеющая']\n",
      "гнуть : ['fect', 'модер', 'школьницы', 'воспоминая', 'фамилий']\n",
      "mtvstars : ['seconds', 'mars', 'летием', 'one', 'пантераа']\n",
      "стучит : ['непонятно', 'думаете', 'знал', 'пойдет', 'орал']\n",
      "звездные : ['флэш', 'быдло', 'вах', 'денис', 'кккк']\n",
      "бронзу : ['разбавлены', 'нельга', 'симбиана', 'венды', 'контроля']\n",
      "сцену : ['играем', 'айн', 'москвы', 'гэта', 'треть']\n",
      "жуёчек : ['шкоолуу', 'высказать', 'токда', 'помириться', 'поделиться']\n",
      "щекотливом : ['квартирах', 'большей', 'бесполезная', 'обществе', 'поворотами']\n",
      "судейскую : ['природы', 'рыбака', 'креста', 'есь', 'мэндээ']\n",
      "нежданность : ['калугу', 'happyvirthday', 'причинила', 'тронуло', 'оочень']\n",
      "ранхигс : ['моозг', 'угрем', 'помирит', 'проблы', 'heeeelp']\n",
      "произношу : ['сорок', 'десять', 'пять', 'ноябрь', 'ограничено']\n"
     ]
    }
   ],
   "source": [
    "ii = np.random.permutation(len(w2v_vocab))[:30]\n",
    "for i in ii:\n",
    "    w = w2v_vocab[i]\n",
    "    ww = [ v[0] for v in w2v.wv.most_similar(w, topn=5) ]\n",
    "    print( w,':',ww )"
   ]
  },
  {
   "cell_type": "code",
   "execution_count": 37,
   "metadata": {},
   "outputs": [
    {
     "data": {
      "application/vnd.jupyter.widget-view+json": {
       "model_id": "9da42b4d2150490da03149b80f972040",
       "version_major": 2,
       "version_minor": 0
      },
      "text/plain": [
       "  0%|          | 0/226831 [00:00<?, ?it/s]"
      ]
     },
     "metadata": {},
     "output_type": "display_data"
    }
   ],
   "source": [
    "data['code'] = data['ttext_clean'].progress_apply(lambda t: [ w2v.wv.get_vector(w) for w in t ] )"
   ]
  },
  {
   "cell_type": "code",
   "execution_count": 38,
   "metadata": {},
   "outputs": [],
   "source": [
    "%xdel w2v\n",
    "%xdel w2v_vocab"
   ]
  },
  {
   "cell_type": "code",
   "execution_count": 39,
   "metadata": {},
   "outputs": [
    {
     "data": {
      "text/plain": [
       "32"
      ]
     },
     "execution_count": 39,
     "metadata": {},
     "output_type": "execute_result"
    }
   ],
   "source": [
    "code_max_len = data['code'].str.len().max()\n",
    "code_max_len"
   ]
  },
  {
   "cell_type": "code",
   "execution_count": 40,
   "metadata": {},
   "outputs": [
    {
     "data": {
      "text/plain": [
       "count    226831\n",
       "mean         10\n",
       "std           3\n",
       "min           1\n",
       "25%           7\n",
       "50%           9\n",
       "75%          13\n",
       "max          32\n",
       "Name: code, dtype: int64"
      ]
     },
     "execution_count": 40,
     "metadata": {},
     "output_type": "execute_result"
    }
   ],
   "source": [
    "data['code'].str.len().describe().astype(int)"
   ]
  },
  {
   "cell_type": "code",
   "execution_count": 41,
   "metadata": {},
   "outputs": [
    {
     "data": {
      "application/vnd.jupyter.widget-view+json": {
       "model_id": "7b31f81603e247f799120b8cb071d27d",
       "version_major": 2,
       "version_minor": 0
      },
      "text/plain": [
       "  0%|          | 0/226831 [00:00<?, ?it/s]"
      ]
     },
     "metadata": {},
     "output_type": "display_data"
    }
   ],
   "source": [
    "# дополняем последовательности до единого размера\n",
    "z = [[0.]*w2v_size]*code_max_len\n",
    "data['code'] = data['code'].progress_apply(lambda c: c+z[:(code_max_len-len(c))]  )"
   ]
  },
  {
   "cell_type": "code",
   "execution_count": 42,
   "metadata": {},
   "outputs": [
    {
     "data": {
      "text/plain": [
       "count    226831\n",
       "mean         32\n",
       "std           0\n",
       "min          32\n",
       "25%          32\n",
       "50%          32\n",
       "75%          32\n",
       "max          32\n",
       "Name: code, dtype: int64"
      ]
     },
     "execution_count": 42,
     "metadata": {},
     "output_type": "execute_result"
    }
   ],
   "source": [
    "data['code'].str.len().describe().astype(int)"
   ]
  },
  {
   "cell_type": "code",
   "execution_count": 43,
   "metadata": {},
   "outputs": [
    {
     "data": {
      "application/vnd.jupyter.widget-view+json": {
       "model_id": "83bbc639f40d48be9de290ab87e7e635",
       "version_major": 2,
       "version_minor": 0
      },
      "text/plain": [
       "  0%|          | 0/226831 [00:00<?, ?it/s]"
      ]
     },
     "metadata": {},
     "output_type": "display_data"
    }
   ],
   "source": [
    "data['code'] = data['code'].progress_apply(np.array)"
   ]
  },
  {
   "cell_type": "code",
   "execution_count": 44,
   "metadata": {},
   "outputs": [
    {
     "data": {
      "text/plain": [
       "(226831, 32, 128)"
      ]
     },
     "execution_count": 44,
     "metadata": {},
     "output_type": "execute_result"
    }
   ],
   "source": [
    "x = np.stack( data['code'].values )\n",
    "x.shape"
   ]
  },
  {
   "cell_type": "code",
   "execution_count": 45,
   "metadata": {},
   "outputs": [],
   "source": [
    "x = np.flip(x,axis=1) # переворачиваем последовательности"
   ]
  },
  {
   "cell_type": "code",
   "execution_count": 46,
   "metadata": {},
   "outputs": [
    {
     "data": {
      "text/plain": [
       "(226831, 2)"
      ]
     },
     "execution_count": 46,
     "metadata": {},
     "output_type": "execute_result"
    }
   ],
   "source": [
    "n_classes=2\n",
    "target = data['ttype'].values\n",
    "target = (target+1)//2\n",
    "y = np.eye(n_classes)[target]\n",
    "\n",
    "y.shape"
   ]
  },
  {
   "cell_type": "code",
   "execution_count": 47,
   "metadata": {},
   "outputs": [],
   "source": [
    "%xdel data"
   ]
  },
  {
   "cell_type": "code",
   "execution_count": 48,
   "metadata": {},
   "outputs": [
    {
     "data": {
      "text/plain": [
       "154"
      ]
     },
     "execution_count": 48,
     "metadata": {},
     "output_type": "execute_result"
    }
   ],
   "source": [
    "gc.collect()"
   ]
  },
  {
   "cell_type": "code",
   "execution_count": 49,
   "metadata": {},
   "outputs": [
    {
     "data": {
      "text/plain": [
       "((136098, 32, 128), (136098, 2), (90733, 32, 128), (90733, 2))"
      ]
     },
     "execution_count": 49,
     "metadata": {},
     "output_type": "execute_result"
    }
   ],
   "source": [
    "from sklearn.model_selection import train_test_split\n",
    "\n",
    "x_train, x_test, y_train, y_test = train_test_split( x, y, test_size=.4 )\n",
    "x_train.shape, y_train.shape, x_test.shape, y_test.shape"
   ]
  },
  {
   "cell_type": "code",
   "execution_count": 50,
   "metadata": {},
   "outputs": [
    {
     "data": {
      "text/plain": [
       "(array([67097., 69001.]), array([44825., 45908.]))"
      ]
     },
     "execution_count": 50,
     "metadata": {},
     "output_type": "execute_result"
    }
   ],
   "source": [
    "y_train.sum(axis=0),y_test.sum(axis=0),"
   ]
  },
  {
   "cell_type": "code",
   "execution_count": 51,
   "metadata": {},
   "outputs": [],
   "source": [
    "%xdel x\n",
    "%xdel y"
   ]
  },
  {
   "cell_type": "code",
   "execution_count": 52,
   "metadata": {},
   "outputs": [
    {
     "data": {
      "text/plain": [
       "32"
      ]
     },
     "execution_count": 52,
     "metadata": {},
     "output_type": "execute_result"
    }
   ],
   "source": [
    "gc.collect()"
   ]
  },
  {
   "cell_type": "markdown",
   "metadata": {},
   "source": [
    "## строим нейросеть "
   ]
  },
  {
   "cell_type": "code",
   "execution_count": 53,
   "metadata": {},
   "outputs": [
    {
     "data": {
      "text/plain": [
       "((136098, 32, 128), (136098, 2), 32, 128)"
      ]
     },
     "execution_count": 53,
     "metadata": {},
     "output_type": "execute_result"
    }
   ],
   "source": [
    "seq_len = x_train.shape[1]\n",
    "x_train.shape , y_train.shape, seq_len, w2v_size"
   ]
  },
  {
   "cell_type": "code",
   "execution_count": 54,
   "metadata": {},
   "outputs": [],
   "source": [
    "from tensorflow.keras.models import Sequential\n",
    "from tensorflow.keras.layers import LSTM\n",
    "from tensorflow.keras.layers import Dense"
   ]
  },
  {
   "cell_type": "code",
   "execution_count": 55,
   "metadata": {},
   "outputs": [
    {
     "name": "stderr",
     "output_type": "stream",
     "text": [
      "2022-02-21 15:54:27.144368: I tensorflow/stream_executor/cuda/cuda_gpu_executor.cc:936] successful NUMA node read from SysFS had negative value (-1), but there must be at least one NUMA node, so returning NUMA node zero\n",
      "2022-02-21 15:54:27.887546: I tensorflow/stream_executor/cuda/cuda_gpu_executor.cc:936] successful NUMA node read from SysFS had negative value (-1), but there must be at least one NUMA node, so returning NUMA node zero\n",
      "2022-02-21 15:54:27.888148: I tensorflow/stream_executor/cuda/cuda_gpu_executor.cc:936] successful NUMA node read from SysFS had negative value (-1), but there must be at least one NUMA node, so returning NUMA node zero\n",
      "2022-02-21 15:54:27.904653: I tensorflow/core/platform/cpu_feature_guard.cc:151] This TensorFlow binary is optimized with oneAPI Deep Neural Network Library (oneDNN) to use the following CPU instructions in performance-critical operations:  AVX2 FMA\n",
      "To enable them in other operations, rebuild TensorFlow with the appropriate compiler flags.\n",
      "2022-02-21 15:54:27.905491: I tensorflow/stream_executor/cuda/cuda_gpu_executor.cc:936] successful NUMA node read from SysFS had negative value (-1), but there must be at least one NUMA node, so returning NUMA node zero\n",
      "2022-02-21 15:54:27.906170: I tensorflow/stream_executor/cuda/cuda_gpu_executor.cc:936] successful NUMA node read from SysFS had negative value (-1), but there must be at least one NUMA node, so returning NUMA node zero\n",
      "2022-02-21 15:54:27.906701: I tensorflow/stream_executor/cuda/cuda_gpu_executor.cc:936] successful NUMA node read from SysFS had negative value (-1), but there must be at least one NUMA node, so returning NUMA node zero\n",
      "2022-02-21 15:54:31.452453: I tensorflow/stream_executor/cuda/cuda_gpu_executor.cc:936] successful NUMA node read from SysFS had negative value (-1), but there must be at least one NUMA node, so returning NUMA node zero\n",
      "2022-02-21 15:54:31.453097: I tensorflow/stream_executor/cuda/cuda_gpu_executor.cc:936] successful NUMA node read from SysFS had negative value (-1), but there must be at least one NUMA node, so returning NUMA node zero\n",
      "2022-02-21 15:54:31.453549: I tensorflow/stream_executor/cuda/cuda_gpu_executor.cc:936] successful NUMA node read from SysFS had negative value (-1), but there must be at least one NUMA node, so returning NUMA node zero\n",
      "2022-02-21 15:54:31.462438: I tensorflow/core/common_runtime/gpu/gpu_device.cc:1525] Created device /job:localhost/replica:0/task:0/device:GPU:0 with 4907 MB memory:  -> device: 0, name: NVIDIA GeForce GTX 1060 6GB, pci bus id: 0000:01:00.0, compute capability: 6.1\n"
     ]
    }
   ],
   "source": [
    "model = Sequential()\n",
    "model.add(LSTM(64, input_shape=(seq_len, w2v_size)))  \n",
    "model.add(Dense(n_classes, activation='softmax'))"
   ]
  },
  {
   "cell_type": "code",
   "execution_count": 64,
   "metadata": {},
   "outputs": [],
   "source": [
    "model.compile(loss='categorical_crossentropy',\n",
    "              optimizer='adam',\n",
    "              metrics=['accuracy'])"
   ]
  },
  {
   "cell_type": "code",
   "execution_count": 65,
   "metadata": {},
   "outputs": [
    {
     "data": {
      "image/png": "[encoded data removed]",
      "text/plain": [
       "<IPython.core.display.Image object>"
      ]
     },
     "execution_count": 65,
     "metadata": {},
     "output_type": "execute_result"
    }
   ],
   "source": [
    "from tensorflow.keras.utils import plot_model\n",
    "plot_model(model, show_layer_names=True, show_shapes=True )"
   ]
  },
  {
   "cell_type": "code",
   "execution_count": 66,
   "metadata": {},
   "outputs": [
    {
     "name": "stderr",
     "output_type": "stream",
     "text": [
      "2022-02-21 15:57:16.397814: W tensorflow/core/framework/cpu_allocator_impl.cc:82] Allocation of 1560870912 exceeds 10% of free system memory.\n",
      "2022-02-21 15:57:17.307577: W tensorflow/core/framework/cpu_allocator_impl.cc:82] Allocation of 1560870912 exceeds 10% of free system memory.\n"
     ]
    },
    {
     "name": "stdout",
     "output_type": "stream",
     "text": [
      "Epoch 1/15\n"
     ]
    },
    {
     "name": "stderr",
     "output_type": "stream",
     "text": [
      "2022-02-21 15:57:27.580779: I tensorflow/stream_executor/cuda/cuda_dnn.cc:368] Loaded cuDNN version 8300\n"
     ]
    },
    {
     "name": "stdout",
     "output_type": "stream",
     "text": [
      "94/94 [==============================] - 14s 24ms/step - loss: 0.3590 - accuracy: 0.8133 - val_loss: 0.2456 - val_accuracy: 0.8666\n",
      "Epoch 2/15\n",
      "94/94 [==============================] - 2s 16ms/step - loss: 0.2390 - accuracy: 0.8698 - val_loss: 0.2407 - val_accuracy: 0.8648\n",
      "Epoch 3/15\n",
      "94/94 [==============================] - 2s 16ms/step - loss: 0.2300 - accuracy: 0.8741 - val_loss: 0.2569 - val_accuracy: 0.8552\n",
      "Epoch 4/15\n",
      "94/94 [==============================] - 2s 16ms/step - loss: 0.2288 - accuracy: 0.8739 - val_loss: 0.2388 - val_accuracy: 0.8630\n",
      "Epoch 5/15\n",
      "94/94 [==============================] - 2s 16ms/step - loss: 0.2216 - accuracy: 0.8786 - val_loss: 0.2262 - val_accuracy: 0.8733\n",
      "Epoch 6/15\n",
      "94/94 [==============================] - 2s 16ms/step - loss: 0.2176 - accuracy: 0.8818 - val_loss: 0.2223 - val_accuracy: 0.8774\n",
      "Epoch 7/15\n",
      "94/94 [==============================] - 1s 16ms/step - loss: 0.2153 - accuracy: 0.8835 - val_loss: 0.2210 - val_accuracy: 0.8783\n",
      "Epoch 8/15\n",
      "94/94 [==============================] - 2s 16ms/step - loss: 0.2128 - accuracy: 0.8854 - val_loss: 0.2212 - val_accuracy: 0.8779\n",
      "Epoch 9/15\n",
      "94/94 [==============================] - 2s 16ms/step - loss: 0.2112 - accuracy: 0.8861 - val_loss: 0.2236 - val_accuracy: 0.8767\n",
      "Epoch 10/15\n",
      "94/94 [==============================] - 2s 16ms/step - loss: 0.2109 - accuracy: 0.8871 - val_loss: 0.2472 - val_accuracy: 0.8600\n",
      "Epoch 11/15\n",
      "94/94 [==============================] - 2s 16ms/step - loss: 0.2100 - accuracy: 0.8873 - val_loss: 0.2193 - val_accuracy: 0.8809\n",
      "Epoch 12/15\n",
      "94/94 [==============================] - 2s 16ms/step - loss: 0.2072 - accuracy: 0.8901 - val_loss: 0.2183 - val_accuracy: 0.8813\n",
      "Epoch 13/15\n",
      "94/94 [==============================] - 2s 16ms/step - loss: 0.2041 - accuracy: 0.8921 - val_loss: 0.2243 - val_accuracy: 0.8785\n",
      "Epoch 14/15\n",
      "94/94 [==============================] - 2s 16ms/step - loss: 0.2032 - accuracy: 0.8917 - val_loss: 0.2333 - val_accuracy: 0.8695\n",
      "Epoch 15/15\n",
      "94/94 [==============================] - 2s 16ms/step - loss: 0.2037 - accuracy: 0.8925 - val_loss: 0.2230 - val_accuracy: 0.8778\n",
      "CPU times: user 30.6 s, sys: 4.8 s, total: 35.4 s\n",
      "Wall time: 44.7 s\n"
     ]
    }
   ],
   "source": [
    "%%time\n",
    "\n",
    "hist = model.fit(x_train,y_train, batch_size=1024, epochs=15, validation_split=.3)"
   ]
  },
  {
   "cell_type": "code",
   "execution_count": 67,
   "metadata": {},
   "outputs": [
    {
     "name": "stderr",
     "output_type": "stream",
     "text": [
      "2022-02-21 15:58:01.061483: W tensorflow/core/framework/cpu_allocator_impl.cc:82] Allocation of 1486569472 exceeds 10% of free system memory.\n",
      "2022-02-21 15:58:01.885491: W tensorflow/core/framework/cpu_allocator_impl.cc:82] Allocation of 1486569472 exceeds 10% of free system memory.\n"
     ]
    },
    {
     "name": "stdout",
     "output_type": "stream",
     "text": [
      "2836/2836 [==============================] - 6s 2ms/step - loss: 0.2237 - accuracy: 0.8783\n"
     ]
    },
    {
     "data": {
      "text/plain": [
       "[0.22367466986179352, 0.8783243298530579]"
      ]
     },
     "execution_count": 67,
     "metadata": {},
     "output_type": "execute_result"
    }
   ],
   "source": [
    "model.evaluate(x_test ,y_test )"
   ]
  },
  {
   "cell_type": "code",
   "execution_count": 68,
   "metadata": {},
   "outputs": [
    {
     "data": {
      "image/png": "[encoded data removed]",
      "text/plain": [
       "<Figure size 1728x288 with 4 Axes>"
      ]
     },
     "metadata": {
      "needs_background": "light"
     },
     "output_type": "display_data"
    }
   ],
   "source": [
    "from matplotlib import pyplot as plt\n",
    "\n",
    "k = hist.history.keys()\n",
    "\n",
    "w,h = 6,4\n",
    "\n",
    "fig,ax = plt.subplots(1,len(k),figsize=(w*len(k),h))\n",
    "for i,n in enumerate(k):\n",
    "    ax[i].plot(hist.history[n],label=n)\n",
    "    ax[i].grid(True)\n",
    "    ax[i].legend()\n",
    "    ax[i].set_ylim([-.1,1.1])"
   ]
  },
  {
   "cell_type": "code",
   "execution_count": null,
   "metadata": {},
   "outputs": [],
   "source": []
  }
 ],
 "metadata": {
  "kernelspec": {
   "display_name": "Python 3 (ipykernel)",
   "language": "python",
   "name": "python3"
  },
  "language_info": {
   "codemirror_mode": {
    "name": "ipython",
    "version": 3
   },
   "file_extension": ".py",
   "mimetype": "text/x-python",
   "name": "python",
   "nbconvert_exporter": "python",
   "pygments_lexer": "ipython3",
   "version": "3.8.9"
  },
  "toc": {
   "base_numbering": 1,
   "nav_menu": {},
   "number_sections": true,
   "sideBar": true,
   "skip_h1_title": false,
   "title_cell": "Table of Contents",
   "title_sidebar": "Contents",
   "toc_cell": false,
   "toc_position": {},
   "toc_section_display": "block",
   "toc_window_display": false
  }
 },
 "nbformat": 4,
 "nbformat_minor": 4
}
