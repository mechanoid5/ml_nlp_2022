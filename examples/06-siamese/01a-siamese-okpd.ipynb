{
 "cells": [
  {
   "cell_type": "markdown",
   "metadata": {},
   "source": [
    "**сиамская сеть, оцениваем схожесть текстов**\n",
    "\n",
    "Евгений Борисов <esborisov@sevsu.ru>"
   ]
  },
  {
   "cell_type": "markdown",
   "metadata": {},
   "source": [
    "## Библиотеки"
   ]
  },
  {
   "cell_type": "code",
   "execution_count": 1,
   "metadata": {},
   "outputs": [],
   "source": [
    "import re\n",
    "import numpy as np\n",
    "from numpy import random as rng\n",
    "import pandas as pd\n",
    "from tqdm import tqdm\n",
    "# import gzip\n",
    "from matplotlib import pyplot as plt"
   ]
  },
  {
   "cell_type": "code",
   "execution_count": 2,
   "metadata": {},
   "outputs": [],
   "source": [
    "pd.options.display.max_colwidth = 200  \n",
    "tqdm.pandas()\n",
    "\n",
    "def pp(d): return \"{:,.0f}\".format(d).replace(\",\", \" \")\n",
    "def ppr(d): print('записей:', pp(len(d)) )  "
   ]
  },
  {
   "cell_type": "markdown",
   "metadata": {},
   "source": [
    "## Данные"
   ]
  },
  {
   "cell_type": "code",
   "execution_count": 3,
   "metadata": {},
   "outputs": [
    {
     "name": "stdout",
     "output_type": "stream",
     "text": [
      "записей: 19 464\n"
     ]
    },
    {
     "data": {
      "text/html": [
       "<div>\n",
       "<style scoped>\n",
       "    .dataframe tbody tr th:only-of-type {\n",
       "        vertical-align: middle;\n",
       "    }\n",
       "\n",
       "    .dataframe tbody tr th {\n",
       "        vertical-align: top;\n",
       "    }\n",
       "\n",
       "    .dataframe thead th {\n",
       "        text-align: right;\n",
       "    }\n",
       "</style>\n",
       "<table border=\"1\" class=\"dataframe\">\n",
       "  <thead>\n",
       "    <tr style=\"text-align: right;\">\n",
       "      <th></th>\n",
       "      <th>Код</th>\n",
       "      <th>Наименование</th>\n",
       "      <th>Комментарий</th>\n",
       "    </tr>\n",
       "  </thead>\n",
       "  <tbody>\n",
       "    <tr>\n",
       "      <th>3874</th>\n",
       "      <td>23.14.99</td>\n",
       "      <td>Услуги по производству стекловолокна отдельные, выполняемые субподрядчиком</td>\n",
       "      <td>NaN</td>\n",
       "    </tr>\n",
       "    <tr>\n",
       "      <th>6306</th>\n",
       "      <td>01.22.14.000</td>\n",
       "      <td>Инжир</td>\n",
       "      <td>NaN</td>\n",
       "    </tr>\n",
       "    <tr>\n",
       "      <th>4981</th>\n",
       "      <td>45.11.31</td>\n",
       "      <td>Услуги по розничной торговле легковыми автомобилями и грузовыми автомобилями малой грузоподъемности через информационно-коммуникационную сеть Интернет</td>\n",
       "      <td>NaN</td>\n",
       "    </tr>\n",
       "  </tbody>\n",
       "</table>\n",
       "</div>"
      ],
      "text/plain": [
       "               Код  \\\n",
       "3874      23.14.99   \n",
       "6306  01.22.14.000   \n",
       "4981      45.11.31   \n",
       "\n",
       "                                                                                                                                                Наименование  \\\n",
       "3874                                                                              Услуги по производству стекловолокна отдельные, выполняемые субподрядчиком   \n",
       "6306                                                                                                                                                   Инжир   \n",
       "4981  Услуги по розничной торговле легковыми автомобилями и грузовыми автомобилями малой грузоподъемности через информационно-коммуникационную сеть Интернет   \n",
       "\n",
       "     Комментарий  \n",
       "3874         NaN  \n",
       "6306         NaN  \n",
       "4981         NaN  "
      ]
     },
     "execution_count": 3,
     "metadata": {},
     "output_type": "execute_result"
    }
   ],
   "source": [
    "# каталог товаров\n",
    "data = pd.read_excel('../data/okpd2.xlsx')\n",
    "ppr(data)\n",
    "data.sample(3)"
   ]
  },
  {
   "cell_type": "code",
   "execution_count": 4,
   "metadata": {},
   "outputs": [],
   "source": [
    "# нумеруем позиции каталога\n",
    "data['id'] = range(len(data))\n",
    "# будем использовать второй уровень каталога (две первые цифры)\n",
    "data['group'] = data['Код'].str[:5]"
   ]
  },
  {
   "cell_type": "code",
   "execution_count": 5,
   "metadata": {},
   "outputs": [
    {
     "data": {
      "text/plain": [
       "count    19464\n",
       "mean        58\n",
       "std         39\n",
       "min          3\n",
       "50%         50\n",
       "95%        130\n",
       "max        540\n",
       "Name: Наименование, dtype: int64"
      ]
     },
     "execution_count": 5,
     "metadata": {},
     "output_type": "execute_result"
    }
   ],
   "source": [
    "# длина описаний в символах\n",
    "data['Наименование'].str.len().describe([.95]).astype(int)"
   ]
  },
  {
   "cell_type": "code",
   "execution_count": 6,
   "metadata": {},
   "outputs": [
    {
     "name": "stdout",
     "output_type": "stream",
     "text": [
      "записей: 9 632\n"
     ]
    },
    {
     "data": {
      "text/html": [
       "<div>\n",
       "<style scoped>\n",
       "    .dataframe tbody tr th:only-of-type {\n",
       "        vertical-align: middle;\n",
       "    }\n",
       "\n",
       "    .dataframe tbody tr th {\n",
       "        vertical-align: top;\n",
       "    }\n",
       "\n",
       "    .dataframe thead th {\n",
       "        text-align: right;\n",
       "    }\n",
       "</style>\n",
       "<table border=\"1\" class=\"dataframe\">\n",
       "  <thead>\n",
       "    <tr style=\"text-align: right;\">\n",
       "      <th></th>\n",
       "      <th>id</th>\n",
       "      <th>group</th>\n",
       "      <th>Наименование</th>\n",
       "    </tr>\n",
       "  </thead>\n",
       "  <tbody>\n",
       "    <tr>\n",
       "      <th>2592</th>\n",
       "      <td>5553</td>\n",
       "      <td>64.19</td>\n",
       "      <td>Услуги по предоставлению кредитов финансовыми организациями прочие</td>\n",
       "    </tr>\n",
       "    <tr>\n",
       "      <th>6423</th>\n",
       "      <td>12742</td>\n",
       "      <td>24.45</td>\n",
       "      <td>Магний и изделия из него, сплавы на основе магния, порошки</td>\n",
       "    </tr>\n",
       "    <tr>\n",
       "      <th>9410</th>\n",
       "      <td>19192</td>\n",
       "      <td>95.23</td>\n",
       "      <td>Услуги по укреплению подошв, каблуков, крокульной части подошв</td>\n",
       "    </tr>\n",
       "  </tbody>\n",
       "</table>\n",
       "</div>"
      ],
      "text/plain": [
       "         id  group  \\\n",
       "2592   5553  64.19   \n",
       "6423  12742  24.45   \n",
       "9410  19192  95.23   \n",
       "\n",
       "                                                            Наименование  \n",
       "2592  Услуги по предоставлению кредитов финансовыми организациями прочие  \n",
       "6423          Магний и изделия из него, сплавы на основе магния, порошки  \n",
       "9410      Услуги по укреплению подошв, каблуков, крокульной части подошв  "
      ]
     },
     "execution_count": 6,
     "metadata": {},
     "output_type": "execute_result"
    }
   ],
   "source": [
    "# выкидываем короткие описания и дубликаты\n",
    "data = data[ (data['group'].str.len()==5) & data['Наименование'].str.len().between(30,100) ]\\\n",
    "  .drop_duplicates(['Наименование'])[['id','group','Наименование']]\\\n",
    "  .reset_index(drop=True)\n",
    "\n",
    "ppr(data)\n",
    "data.sample(3)"
   ]
  },
  {
   "cell_type": "code",
   "execution_count": 7,
   "metadata": {},
   "outputs": [
    {
     "name": "stdout",
     "output_type": "stream",
     "text": [
      "записей: 596\n"
     ]
    }
   ],
   "source": [
    "# формируем списки описаний по группам\n",
    "groups =  data[['id','group']].groupby('group')['id'].apply(list).reset_index()\n",
    "ppr(groups)"
   ]
  },
  {
   "cell_type": "code",
   "execution_count": 8,
   "metadata": {},
   "outputs": [
    {
     "data": {
      "text/plain": [
       "count    596\n",
       "mean      16\n",
       "std       24\n",
       "min        1\n",
       "50%        7\n",
       "95%       62\n",
       "max      185\n",
       "Name: id, dtype: int64"
      ]
     },
     "execution_count": 8,
     "metadata": {},
     "output_type": "execute_result"
    }
   ],
   "source": [
    "# количество описаний в группах\n",
    "groups['id'].str.len().describe([.95]).astype(int)"
   ]
  },
  {
   "cell_type": "code",
   "execution_count": 9,
   "metadata": {},
   "outputs": [
    {
     "name": "stdout",
     "output_type": "stream",
     "text": [
      "записей: 596\n",
      "записей: 227\n"
     ]
    }
   ],
   "source": [
    "# выкидываем группы с малым количеством описаний, обрезаем большие списки\n",
    "n_samples = 10\n",
    "\n",
    "ppr(groups)\n",
    "groups = groups[ groups['id'].str.len()> n_samples ].reset_index(drop=True)\n",
    "ppr(groups)\n",
    "groups['id'] = groups['id'].apply(rng.permutation).str[:n_samples]"
   ]
  },
  {
   "cell_type": "code",
   "execution_count": 10,
   "metadata": {},
   "outputs": [],
   "source": [
    "# похожие примеры\n",
    "groups['id_eq'] = groups['id'].apply(rng.permutation)"
   ]
  },
  {
   "cell_type": "code",
   "execution_count": 11,
   "metadata": {},
   "outputs": [
    {
     "data": {
      "text/html": [
       "<div>\n",
       "<style scoped>\n",
       "    .dataframe tbody tr th:only-of-type {\n",
       "        vertical-align: middle;\n",
       "    }\n",
       "\n",
       "    .dataframe tbody tr th {\n",
       "        vertical-align: top;\n",
       "    }\n",
       "\n",
       "    .dataframe thead th {\n",
       "        text-align: right;\n",
       "    }\n",
       "</style>\n",
       "<table border=\"1\" class=\"dataframe\">\n",
       "  <thead>\n",
       "    <tr style=\"text-align: right;\">\n",
       "      <th></th>\n",
       "      <th>group</th>\n",
       "      <th>id</th>\n",
       "      <th>id_eq</th>\n",
       "    </tr>\n",
       "  </thead>\n",
       "  <tbody>\n",
       "    <tr>\n",
       "      <th>0</th>\n",
       "      <td>01.11</td>\n",
       "      <td>[6153, 2827, 6143, 6164, 6118, 1368, 1364, 6061, 2847, 18522]</td>\n",
       "      <td>[6153, 6118, 6061, 18522, 6143, 1364, 2847, 6164, 1368, 2827]</td>\n",
       "    </tr>\n",
       "    <tr>\n",
       "      <th>1</th>\n",
       "      <td>01.13</td>\n",
       "      <td>[6235, 6229, 2874, 6238, 1379, 1373, 6225, 6230, 6222, 744]</td>\n",
       "      <td>[6225, 744, 6238, 6235, 6230, 1373, 6229, 1379, 6222, 2874]</td>\n",
       "    </tr>\n",
       "    <tr>\n",
       "      <th>2</th>\n",
       "      <td>01.15</td>\n",
       "      <td>[18165, 18168, 6245, 18175, 18169, 18177, 18178, 6246, 18171, 18164]</td>\n",
       "      <td>[18169, 18175, 18178, 6245, 18165, 18171, 18177, 6246, 18168, 18164]</td>\n",
       "    </tr>\n",
       "    <tr>\n",
       "      <th>3</th>\n",
       "      <td>01.16</td>\n",
       "      <td>[2887, 6249, 6272, 6264, 6270, 6250, 6259, 6258, 6271, 747]</td>\n",
       "      <td>[6264, 6259, 747, 6272, 2887, 6249, 6258, 6271, 6250, 6270]</td>\n",
       "    </tr>\n",
       "    <tr>\n",
       "      <th>4</th>\n",
       "      <td>01.19</td>\n",
       "      <td>[6273, 6295, 6283, 2893, 6289, 6298, 1385, 6288, 2894, 6284]</td>\n",
       "      <td>[2893, 6289, 6295, 1385, 6288, 6283, 6273, 6298, 6284, 2894]</td>\n",
       "    </tr>\n",
       "    <tr>\n",
       "      <th>...</th>\n",
       "      <td>...</td>\n",
       "      <td>...</td>\n",
       "      <td>...</td>\n",
       "    </tr>\n",
       "    <tr>\n",
       "      <th>222</th>\n",
       "      <td>95.29</td>\n",
       "      <td>[19261, 19274, 19284, 19279, 19304, 19320, 19321, 19281, 19282, 19297]</td>\n",
       "      <td>[19321, 19297, 19282, 19261, 19281, 19304, 19320, 19284, 19279, 19274]</td>\n",
       "    </tr>\n",
       "    <tr>\n",
       "      <th>223</th>\n",
       "      <td>96.01</td>\n",
       "      <td>[19332, 19403, 19371, 19372, 19379, 19355, 19323, 19338, 19393, 19329]</td>\n",
       "      <td>[19323, 19329, 19371, 19332, 19403, 19372, 19393, 19338, 19379, 19355]</td>\n",
       "    </tr>\n",
       "    <tr>\n",
       "      <th>224</th>\n",
       "      <td>96.02</td>\n",
       "      <td>[19414, 6025, 1353, 2817, 19415, 19411, 19412, 6026, 2818, 19410]</td>\n",
       "      <td>[19415, 2817, 19410, 6026, 19411, 1353, 19414, 2818, 19412, 6025]</td>\n",
       "    </tr>\n",
       "    <tr>\n",
       "      <th>225</th>\n",
       "      <td>96.03</td>\n",
       "      <td>[1354, 19427, 19430, 19424, 19438, 19431, 19432, 19434, 19439, 6030]</td>\n",
       "      <td>[19438, 1354, 6030, 19427, 19424, 19432, 19430, 19431, 19439, 19434]</td>\n",
       "    </tr>\n",
       "    <tr>\n",
       "      <th>226</th>\n",
       "      <td>96.09</td>\n",
       "      <td>[19460, 19446, 19458, 19455, 19463, 19453, 6033, 6036, 19456, 19447]</td>\n",
       "      <td>[6033, 19456, 19453, 6036, 19455, 19460, 19463, 19446, 19447, 19458]</td>\n",
       "    </tr>\n",
       "  </tbody>\n",
       "</table>\n",
       "<p>227 rows × 3 columns</p>\n",
       "</div>"
      ],
      "text/plain": [
       "     group  \\\n",
       "0    01.11   \n",
       "1    01.13   \n",
       "2    01.15   \n",
       "3    01.16   \n",
       "4    01.19   \n",
       "..     ...   \n",
       "222  95.29   \n",
       "223  96.01   \n",
       "224  96.02   \n",
       "225  96.03   \n",
       "226  96.09   \n",
       "\n",
       "                                                                         id  \\\n",
       "0             [6153, 2827, 6143, 6164, 6118, 1368, 1364, 6061, 2847, 18522]   \n",
       "1               [6235, 6229, 2874, 6238, 1379, 1373, 6225, 6230, 6222, 744]   \n",
       "2      [18165, 18168, 6245, 18175, 18169, 18177, 18178, 6246, 18171, 18164]   \n",
       "3               [2887, 6249, 6272, 6264, 6270, 6250, 6259, 6258, 6271, 747]   \n",
       "4              [6273, 6295, 6283, 2893, 6289, 6298, 1385, 6288, 2894, 6284]   \n",
       "..                                                                      ...   \n",
       "222  [19261, 19274, 19284, 19279, 19304, 19320, 19321, 19281, 19282, 19297]   \n",
       "223  [19332, 19403, 19371, 19372, 19379, 19355, 19323, 19338, 19393, 19329]   \n",
       "224       [19414, 6025, 1353, 2817, 19415, 19411, 19412, 6026, 2818, 19410]   \n",
       "225    [1354, 19427, 19430, 19424, 19438, 19431, 19432, 19434, 19439, 6030]   \n",
       "226    [19460, 19446, 19458, 19455, 19463, 19453, 6033, 6036, 19456, 19447]   \n",
       "\n",
       "                                                                      id_eq  \n",
       "0             [6153, 6118, 6061, 18522, 6143, 1364, 2847, 6164, 1368, 2827]  \n",
       "1               [6225, 744, 6238, 6235, 6230, 1373, 6229, 1379, 6222, 2874]  \n",
       "2      [18169, 18175, 18178, 6245, 18165, 18171, 18177, 6246, 18168, 18164]  \n",
       "3               [6264, 6259, 747, 6272, 2887, 6249, 6258, 6271, 6250, 6270]  \n",
       "4              [2893, 6289, 6295, 1385, 6288, 6283, 6273, 6298, 6284, 2894]  \n",
       "..                                                                      ...  \n",
       "222  [19321, 19297, 19282, 19261, 19281, 19304, 19320, 19284, 19279, 19274]  \n",
       "223  [19323, 19329, 19371, 19332, 19403, 19372, 19393, 19338, 19379, 19355]  \n",
       "224       [19415, 2817, 19410, 6026, 19411, 1353, 19414, 2818, 19412, 6025]  \n",
       "225    [19438, 1354, 6030, 19427, 19424, 19432, 19430, 19431, 19439, 19434]  \n",
       "226    [6033, 19456, 19453, 6036, 19455, 19460, 19463, 19446, 19447, 19458]  \n",
       "\n",
       "[227 rows x 3 columns]"
      ]
     },
     "execution_count": 11,
     "metadata": {},
     "output_type": "execute_result"
    }
   ],
   "source": [
    "groups"
   ]
  },
  {
   "cell_type": "code",
   "execution_count": 12,
   "metadata": {},
   "outputs": [
    {
     "data": {
      "text/html": [
       "<div>\n",
       "<style scoped>\n",
       "    .dataframe tbody tr th:only-of-type {\n",
       "        vertical-align: middle;\n",
       "    }\n",
       "\n",
       "    .dataframe tbody tr th {\n",
       "        vertical-align: top;\n",
       "    }\n",
       "\n",
       "    .dataframe thead th {\n",
       "        text-align: right;\n",
       "    }\n",
       "</style>\n",
       "<table border=\"1\" class=\"dataframe\">\n",
       "  <thead>\n",
       "    <tr style=\"text-align: right;\">\n",
       "      <th></th>\n",
       "      <th>group</th>\n",
       "      <th>group_neq</th>\n",
       "      <th>id_neq</th>\n",
       "    </tr>\n",
       "  </thead>\n",
       "  <tbody>\n",
       "    <tr>\n",
       "      <th>0</th>\n",
       "      <td>01.11</td>\n",
       "      <td>95.24</td>\n",
       "      <td>[19216, 19226, 19225, 19228, 19221, 19217, 1349, 19229, 19219, 19222]</td>\n",
       "    </tr>\n",
       "    <tr>\n",
       "      <th>1</th>\n",
       "      <td>01.13</td>\n",
       "      <td>10.13</td>\n",
       "      <td>[7927, 18244, 18216, 18221, 7895, 18312, 18311, 18326, 18313, 18269]</td>\n",
       "    </tr>\n",
       "    <tr>\n",
       "      <th>2</th>\n",
       "      <td>01.15</td>\n",
       "      <td>10.61</td>\n",
       "      <td>[3228, 3225, 8571, 806, 1526, 1527, 8569, 3222, 3226, 8538]</td>\n",
       "    </tr>\n",
       "    <tr>\n",
       "      <th>3</th>\n",
       "      <td>01.16</td>\n",
       "      <td>26.51</td>\n",
       "      <td>[13568, 13531, 13504, 4215, 4205, 13495, 4218, 13529, 13483, 13476]</td>\n",
       "    </tr>\n",
       "    <tr>\n",
       "      <th>4</th>\n",
       "      <td>01.19</td>\n",
       "      <td>30.91</td>\n",
       "      <td>[4676, 15217, 2183, 2185, 15224, 2184, 15222, 2182, 15214, 4677]</td>\n",
       "    </tr>\n",
       "    <tr>\n",
       "      <th>...</th>\n",
       "      <td>...</td>\n",
       "      <td>...</td>\n",
       "      <td>...</td>\n",
       "    </tr>\n",
       "    <tr>\n",
       "      <th>221</th>\n",
       "      <td>95.29</td>\n",
       "      <td>28.93</td>\n",
       "      <td>[4551, 14674, 14686, 14687, 14682, 4558, 14651, 14641, 14648, 4549]</td>\n",
       "    </tr>\n",
       "    <tr>\n",
       "      <th>222</th>\n",
       "      <td>96.01</td>\n",
       "      <td>01.16</td>\n",
       "      <td>[6272, 6270, 6249, 6250, 747, 2887, 6264, 6258, 6259, 6271]</td>\n",
       "    </tr>\n",
       "    <tr>\n",
       "      <th>223</th>\n",
       "      <td>96.02</td>\n",
       "      <td>13.20</td>\n",
       "      <td>[9215, 9263, 9192, 9313, 9196, 3350, 9311, 9212, 9243, 9260]</td>\n",
       "    </tr>\n",
       "    <tr>\n",
       "      <th>224</th>\n",
       "      <td>96.03</td>\n",
       "      <td>38.22</td>\n",
       "      <td>[4886, 18806, 18796, 18795, 18802, 4889, 18799, 18807, 18804, 18801]</td>\n",
       "    </tr>\n",
       "    <tr>\n",
       "      <th>225</th>\n",
       "      <td>96.09</td>\n",
       "      <td>27.51</td>\n",
       "      <td>[13892, 4335, 4337, 4331, 13908, 2035, 13895, 13897, 13888, 13910]</td>\n",
       "    </tr>\n",
       "  </tbody>\n",
       "</table>\n",
       "<p>226 rows × 3 columns</p>\n",
       "</div>"
      ],
      "text/plain": [
       "     group group_neq  \\\n",
       "0    01.11     95.24   \n",
       "1    01.13     10.13   \n",
       "2    01.15     10.61   \n",
       "3    01.16     26.51   \n",
       "4    01.19     30.91   \n",
       "..     ...       ...   \n",
       "221  95.29     28.93   \n",
       "222  96.01     01.16   \n",
       "223  96.02     13.20   \n",
       "224  96.03     38.22   \n",
       "225  96.09     27.51   \n",
       "\n",
       "                                                                    id_neq  \n",
       "0    [19216, 19226, 19225, 19228, 19221, 19217, 1349, 19229, 19219, 19222]  \n",
       "1     [7927, 18244, 18216, 18221, 7895, 18312, 18311, 18326, 18313, 18269]  \n",
       "2              [3228, 3225, 8571, 806, 1526, 1527, 8569, 3222, 3226, 8538]  \n",
       "3      [13568, 13531, 13504, 4215, 4205, 13495, 4218, 13529, 13483, 13476]  \n",
       "4         [4676, 15217, 2183, 2185, 15224, 2184, 15222, 2182, 15214, 4677]  \n",
       "..                                                                     ...  \n",
       "221    [4551, 14674, 14686, 14687, 14682, 4558, 14651, 14641, 14648, 4549]  \n",
       "222            [6272, 6270, 6249, 6250, 747, 2887, 6264, 6258, 6259, 6271]  \n",
       "223           [9215, 9263, 9192, 9313, 9196, 3350, 9311, 9212, 9243, 9260]  \n",
       "224   [4886, 18806, 18796, 18795, 18802, 4889, 18799, 18807, 18804, 18801]  \n",
       "225     [13892, 4335, 4337, 4331, 13908, 2035, 13895, 13897, 13888, 13910]  \n",
       "\n",
       "[226 rows x 3 columns]"
      ]
     },
     "execution_count": 12,
     "metadata": {},
     "output_type": "execute_result"
    }
   ],
   "source": [
    "# непохожие примеры\n",
    "\n",
    "# пары из разных групп\n",
    "groups_ = groups[['group']].reset_index(drop=True)\n",
    "groups_['group_neq'] = rng.permutation(groups['group'])\n",
    "groups_ = groups_.query('group!=group_neq')\n",
    "\n",
    "groups_ = groups_.merge( groups[['group','id']]\\\n",
    "                          .rename(columns={'group':'group_neq','id':'id_neq'}), \n",
    "                        on=['group_neq'])\n",
    "\n",
    "groups_['id_neq'] = groups_['id_neq'].apply(rng.permutation)\n",
    "\n",
    "# groups[['group','id']].rename(columns={'group':'group_neq','id':'id_neq'})\n",
    "\n",
    "groups_"
   ]
  },
  {
   "cell_type": "code",
   "execution_count": 13,
   "metadata": {},
   "outputs": [
    {
     "data": {
      "text/html": [
       "<div>\n",
       "<style scoped>\n",
       "    .dataframe tbody tr th:only-of-type {\n",
       "        vertical-align: middle;\n",
       "    }\n",
       "\n",
       "    .dataframe tbody tr th {\n",
       "        vertical-align: top;\n",
       "    }\n",
       "\n",
       "    .dataframe thead th {\n",
       "        text-align: right;\n",
       "    }\n",
       "</style>\n",
       "<table border=\"1\" class=\"dataframe\">\n",
       "  <thead>\n",
       "    <tr style=\"text-align: right;\">\n",
       "      <th></th>\n",
       "      <th>group</th>\n",
       "      <th>id</th>\n",
       "      <th>id_eq</th>\n",
       "      <th>id_neq</th>\n",
       "    </tr>\n",
       "  </thead>\n",
       "  <tbody>\n",
       "    <tr>\n",
       "      <th>0</th>\n",
       "      <td>01.11</td>\n",
       "      <td>[6153, 2827, 6143, 6164, 6118, 1368, 1364, 6061, 2847, 18522]</td>\n",
       "      <td>[6153, 6118, 6061, 18522, 6143, 1364, 2847, 6164, 1368, 2827]</td>\n",
       "      <td>[19216, 19226, 19225, 19228, 19221, 19217, 1349, 19229, 19219, 19222]</td>\n",
       "    </tr>\n",
       "    <tr>\n",
       "      <th>1</th>\n",
       "      <td>01.13</td>\n",
       "      <td>[6235, 6229, 2874, 6238, 1379, 1373, 6225, 6230, 6222, 744]</td>\n",
       "      <td>[6225, 744, 6238, 6235, 6230, 1373, 6229, 1379, 6222, 2874]</td>\n",
       "      <td>[7927, 18244, 18216, 18221, 7895, 18312, 18311, 18326, 18313, 18269]</td>\n",
       "    </tr>\n",
       "    <tr>\n",
       "      <th>2</th>\n",
       "      <td>01.15</td>\n",
       "      <td>[18165, 18168, 6245, 18175, 18169, 18177, 18178, 6246, 18171, 18164]</td>\n",
       "      <td>[18169, 18175, 18178, 6245, 18165, 18171, 18177, 6246, 18168, 18164]</td>\n",
       "      <td>[3228, 3225, 8571, 806, 1526, 1527, 8569, 3222, 3226, 8538]</td>\n",
       "    </tr>\n",
       "    <tr>\n",
       "      <th>3</th>\n",
       "      <td>01.16</td>\n",
       "      <td>[2887, 6249, 6272, 6264, 6270, 6250, 6259, 6258, 6271, 747]</td>\n",
       "      <td>[6264, 6259, 747, 6272, 2887, 6249, 6258, 6271, 6250, 6270]</td>\n",
       "      <td>[13568, 13531, 13504, 4215, 4205, 13495, 4218, 13529, 13483, 13476]</td>\n",
       "    </tr>\n",
       "    <tr>\n",
       "      <th>4</th>\n",
       "      <td>01.19</td>\n",
       "      <td>[6273, 6295, 6283, 2893, 6289, 6298, 1385, 6288, 2894, 6284]</td>\n",
       "      <td>[2893, 6289, 6295, 1385, 6288, 6283, 6273, 6298, 6284, 2894]</td>\n",
       "      <td>[4676, 15217, 2183, 2185, 15224, 2184, 15222, 2182, 15214, 4677]</td>\n",
       "    </tr>\n",
       "    <tr>\n",
       "      <th>...</th>\n",
       "      <td>...</td>\n",
       "      <td>...</td>\n",
       "      <td>...</td>\n",
       "      <td>...</td>\n",
       "    </tr>\n",
       "    <tr>\n",
       "      <th>221</th>\n",
       "      <td>95.29</td>\n",
       "      <td>[19261, 19274, 19284, 19279, 19304, 19320, 19321, 19281, 19282, 19297]</td>\n",
       "      <td>[19321, 19297, 19282, 19261, 19281, 19304, 19320, 19284, 19279, 19274]</td>\n",
       "      <td>[4551, 14674, 14686, 14687, 14682, 4558, 14651, 14641, 14648, 4549]</td>\n",
       "    </tr>\n",
       "    <tr>\n",
       "      <th>222</th>\n",
       "      <td>96.01</td>\n",
       "      <td>[19332, 19403, 19371, 19372, 19379, 19355, 19323, 19338, 19393, 19329]</td>\n",
       "      <td>[19323, 19329, 19371, 19332, 19403, 19372, 19393, 19338, 19379, 19355]</td>\n",
       "      <td>[6272, 6270, 6249, 6250, 747, 2887, 6264, 6258, 6259, 6271]</td>\n",
       "    </tr>\n",
       "    <tr>\n",
       "      <th>223</th>\n",
       "      <td>96.02</td>\n",
       "      <td>[19414, 6025, 1353, 2817, 19415, 19411, 19412, 6026, 2818, 19410]</td>\n",
       "      <td>[19415, 2817, 19410, 6026, 19411, 1353, 19414, 2818, 19412, 6025]</td>\n",
       "      <td>[9215, 9263, 9192, 9313, 9196, 3350, 9311, 9212, 9243, 9260]</td>\n",
       "    </tr>\n",
       "    <tr>\n",
       "      <th>224</th>\n",
       "      <td>96.03</td>\n",
       "      <td>[1354, 19427, 19430, 19424, 19438, 19431, 19432, 19434, 19439, 6030]</td>\n",
       "      <td>[19438, 1354, 6030, 19427, 19424, 19432, 19430, 19431, 19439, 19434]</td>\n",
       "      <td>[4886, 18806, 18796, 18795, 18802, 4889, 18799, 18807, 18804, 18801]</td>\n",
       "    </tr>\n",
       "    <tr>\n",
       "      <th>225</th>\n",
       "      <td>96.09</td>\n",
       "      <td>[19460, 19446, 19458, 19455, 19463, 19453, 6033, 6036, 19456, 19447]</td>\n",
       "      <td>[6033, 19456, 19453, 6036, 19455, 19460, 19463, 19446, 19447, 19458]</td>\n",
       "      <td>[13892, 4335, 4337, 4331, 13908, 2035, 13895, 13897, 13888, 13910]</td>\n",
       "    </tr>\n",
       "  </tbody>\n",
       "</table>\n",
       "<p>226 rows × 4 columns</p>\n",
       "</div>"
      ],
      "text/plain": [
       "     group  \\\n",
       "0    01.11   \n",
       "1    01.13   \n",
       "2    01.15   \n",
       "3    01.16   \n",
       "4    01.19   \n",
       "..     ...   \n",
       "221  95.29   \n",
       "222  96.01   \n",
       "223  96.02   \n",
       "224  96.03   \n",
       "225  96.09   \n",
       "\n",
       "                                                                         id  \\\n",
       "0             [6153, 2827, 6143, 6164, 6118, 1368, 1364, 6061, 2847, 18522]   \n",
       "1               [6235, 6229, 2874, 6238, 1379, 1373, 6225, 6230, 6222, 744]   \n",
       "2      [18165, 18168, 6245, 18175, 18169, 18177, 18178, 6246, 18171, 18164]   \n",
       "3               [2887, 6249, 6272, 6264, 6270, 6250, 6259, 6258, 6271, 747]   \n",
       "4              [6273, 6295, 6283, 2893, 6289, 6298, 1385, 6288, 2894, 6284]   \n",
       "..                                                                      ...   \n",
       "221  [19261, 19274, 19284, 19279, 19304, 19320, 19321, 19281, 19282, 19297]   \n",
       "222  [19332, 19403, 19371, 19372, 19379, 19355, 19323, 19338, 19393, 19329]   \n",
       "223       [19414, 6025, 1353, 2817, 19415, 19411, 19412, 6026, 2818, 19410]   \n",
       "224    [1354, 19427, 19430, 19424, 19438, 19431, 19432, 19434, 19439, 6030]   \n",
       "225    [19460, 19446, 19458, 19455, 19463, 19453, 6033, 6036, 19456, 19447]   \n",
       "\n",
       "                                                                      id_eq  \\\n",
       "0             [6153, 6118, 6061, 18522, 6143, 1364, 2847, 6164, 1368, 2827]   \n",
       "1               [6225, 744, 6238, 6235, 6230, 1373, 6229, 1379, 6222, 2874]   \n",
       "2      [18169, 18175, 18178, 6245, 18165, 18171, 18177, 6246, 18168, 18164]   \n",
       "3               [6264, 6259, 747, 6272, 2887, 6249, 6258, 6271, 6250, 6270]   \n",
       "4              [2893, 6289, 6295, 1385, 6288, 6283, 6273, 6298, 6284, 2894]   \n",
       "..                                                                      ...   \n",
       "221  [19321, 19297, 19282, 19261, 19281, 19304, 19320, 19284, 19279, 19274]   \n",
       "222  [19323, 19329, 19371, 19332, 19403, 19372, 19393, 19338, 19379, 19355]   \n",
       "223       [19415, 2817, 19410, 6026, 19411, 1353, 19414, 2818, 19412, 6025]   \n",
       "224    [19438, 1354, 6030, 19427, 19424, 19432, 19430, 19431, 19439, 19434]   \n",
       "225    [6033, 19456, 19453, 6036, 19455, 19460, 19463, 19446, 19447, 19458]   \n",
       "\n",
       "                                                                    id_neq  \n",
       "0    [19216, 19226, 19225, 19228, 19221, 19217, 1349, 19229, 19219, 19222]  \n",
       "1     [7927, 18244, 18216, 18221, 7895, 18312, 18311, 18326, 18313, 18269]  \n",
       "2              [3228, 3225, 8571, 806, 1526, 1527, 8569, 3222, 3226, 8538]  \n",
       "3      [13568, 13531, 13504, 4215, 4205, 13495, 4218, 13529, 13483, 13476]  \n",
       "4         [4676, 15217, 2183, 2185, 15224, 2184, 15222, 2182, 15214, 4677]  \n",
       "..                                                                     ...  \n",
       "221    [4551, 14674, 14686, 14687, 14682, 4558, 14651, 14641, 14648, 4549]  \n",
       "222            [6272, 6270, 6249, 6250, 747, 2887, 6264, 6258, 6259, 6271]  \n",
       "223           [9215, 9263, 9192, 9313, 9196, 3350, 9311, 9212, 9243, 9260]  \n",
       "224   [4886, 18806, 18796, 18795, 18802, 4889, 18799, 18807, 18804, 18801]  \n",
       "225     [13892, 4335, 4337, 4331, 13908, 2035, 13895, 13897, 13888, 13910]  \n",
       "\n",
       "[226 rows x 4 columns]"
      ]
     },
     "execution_count": 13,
     "metadata": {},
     "output_type": "execute_result"
    }
   ],
   "source": [
    "# группа, описания, похожие описания, непохожие описания\n",
    "groups = groups.merge( groups_[['group','id_neq']], on=['group'] )\n",
    "groups"
   ]
  },
  {
   "cell_type": "code",
   "execution_count": 14,
   "metadata": {},
   "outputs": [
    {
     "name": "stdout",
     "output_type": "stream",
     "text": [
      "записей: 2 260\n"
     ]
    },
    {
     "data": {
      "text/html": [
       "<div>\n",
       "<style scoped>\n",
       "    .dataframe tbody tr th:only-of-type {\n",
       "        vertical-align: middle;\n",
       "    }\n",
       "\n",
       "    .dataframe tbody tr th {\n",
       "        vertical-align: top;\n",
       "    }\n",
       "\n",
       "    .dataframe thead th {\n",
       "        text-align: right;\n",
       "    }\n",
       "</style>\n",
       "<table border=\"1\" class=\"dataframe\">\n",
       "  <thead>\n",
       "    <tr style=\"text-align: right;\">\n",
       "      <th></th>\n",
       "      <th>id</th>\n",
       "      <th>id_eq</th>\n",
       "      <th>id_neq</th>\n",
       "    </tr>\n",
       "  </thead>\n",
       "  <tbody>\n",
       "    <tr>\n",
       "      <th>11</th>\n",
       "      <td>7059</td>\n",
       "      <td>6974</td>\n",
       "      <td>6540</td>\n",
       "    </tr>\n",
       "    <tr>\n",
       "      <th>198</th>\n",
       "      <td>5552</td>\n",
       "      <td>5552</td>\n",
       "      <td>8955</td>\n",
       "    </tr>\n",
       "    <tr>\n",
       "      <th>158</th>\n",
       "      <td>19018</td>\n",
       "      <td>15339</td>\n",
       "      <td>7981</td>\n",
       "    </tr>\n",
       "  </tbody>\n",
       "</table>\n",
       "</div>"
      ],
      "text/plain": [
       "        id  id_eq id_neq\n",
       "11    7059   6974   6540\n",
       "198   5552   5552   8955\n",
       "158  19018  15339   7981"
      ]
     },
     "execution_count": 14,
     "metadata": {},
     "output_type": "execute_result"
    }
   ],
   "source": [
    "# разворачиваем в список пар\n",
    "groups = pd.DataFrame({'id':groups['id'].explode(), \n",
    "              'id_eq':groups['id_eq'].explode(),\n",
    "              'id_neq':groups['id_neq'].explode()})\n",
    "ppr(groups)\n",
    "groups.sample(3)"
   ]
  },
  {
   "cell_type": "code",
   "execution_count": 15,
   "metadata": {},
   "outputs": [
    {
     "data": {
      "text/html": [
       "<div>\n",
       "<style scoped>\n",
       "    .dataframe tbody tr th:only-of-type {\n",
       "        vertical-align: middle;\n",
       "    }\n",
       "\n",
       "    .dataframe tbody tr th {\n",
       "        vertical-align: top;\n",
       "    }\n",
       "\n",
       "    .dataframe thead th {\n",
       "        text-align: right;\n",
       "    }\n",
       "</style>\n",
       "<table border=\"1\" class=\"dataframe\">\n",
       "  <thead>\n",
       "    <tr style=\"text-align: right;\">\n",
       "      <th></th>\n",
       "      <th>id_L</th>\n",
       "      <th>id_R</th>\n",
       "      <th>target</th>\n",
       "    </tr>\n",
       "  </thead>\n",
       "  <tbody>\n",
       "    <tr>\n",
       "      <th>153</th>\n",
       "      <td>2174</td>\n",
       "      <td>266</td>\n",
       "      <td>0</td>\n",
       "    </tr>\n",
       "    <tr>\n",
       "      <th>104</th>\n",
       "      <td>18590</td>\n",
       "      <td>850</td>\n",
       "      <td>0</td>\n",
       "    </tr>\n",
       "    <tr>\n",
       "      <th>133</th>\n",
       "      <td>14123</td>\n",
       "      <td>14082</td>\n",
       "      <td>1</td>\n",
       "    </tr>\n",
       "  </tbody>\n",
       "</table>\n",
       "</div>"
      ],
      "text/plain": [
       "      id_L   id_R  target\n",
       "153   2174    266       0\n",
       "104  18590    850       0\n",
       "133  14123  14082       1"
      ]
     },
     "execution_count": 15,
     "metadata": {},
     "output_type": "execute_result"
    }
   ],
   "source": [
    "# формируем датасет\n",
    "pair = groups[['id','id_eq']].rename(columns={'id':'id_L','id_eq':'id_R'})\n",
    "pair['target'] = 1\n",
    "pair = pd.concat([ pair, groups[['id','id_neq']]\\\n",
    "           .rename(columns={'id':'id_L','id_neq':'id_R'}) ])\\\n",
    "           .fillna(0).astype(int)\n",
    "\n",
    "pair.sample(3)"
   ]
  },
  {
   "cell_type": "code",
   "execution_count": 16,
   "metadata": {},
   "outputs": [],
   "source": [
    "%xdel groups\n",
    "%xdel groups_"
   ]
  },
  {
   "cell_type": "markdown",
   "metadata": {},
   "source": [
    "## очистка данных"
   ]
  },
  {
   "cell_type": "code",
   "execution_count": 17,
   "metadata": {},
   "outputs": [],
   "source": [
    "# data['ttext_clean'] = data['ttext']\\\n",
    "#     .progress_apply(lambda t:[ w.strip() for w in t.split() if w.strip() ] )\\\n",
    "#     .progress_apply(lambda t:[ re.sub(r'^http.*',' url ', w.strip() ) for w in t ] )\\\n",
    "#     .progress_apply(lambda t:[ re.sub(r'[:;]-*[)D]',' happysmile ', w.strip() )for w in t ])\\\n",
    "#     .progress_apply(lambda t:[ re.sub(r'\\)\\)\\)*',' happysmile ', w.strip() ) for w in t ])\\\n",
    "#     .progress_apply(lambda t:[ re.sub(r'[:;]\\*',' kisssmile ', w.strip() ) for w in t ])\\\n",
    "#     .progress_apply(lambda t:[ re.sub(r':\\(',' sadsmile ', w.strip() ) for w in t ])\\\n",
    "#     .progress_apply(lambda t:[ re.sub(r'\\(\\(\\(*',' sadsmile ', w.strip() ) for w in t ])"
   ]
  },
  {
   "cell_type": "code",
   "execution_count": 18,
   "metadata": {},
   "outputs": [],
   "source": [
    "# data['ttext_clean'] = [ ' '.join(s) for s in data['ttext_clean'] ]"
   ]
  },
  {
   "cell_type": "code",
   "execution_count": 19,
   "metadata": {},
   "outputs": [
    {
     "name": "stderr",
     "output_type": "stream",
     "text": [
      "100%|██████████| 9632/9632 [00:00<00:00, 138853.88it/s]\n",
      "100%|██████████| 9632/9632 [00:00<00:00, 776839.46it/s]\n",
      "100%|██████████| 9632/9632 [00:00<00:00, 404464.54it/s]\n",
      "100%|██████████| 9632/9632 [00:00<00:00, 429106.68it/s]\n",
      "100%|██████████| 9632/9632 [00:00<00:00, 166525.98it/s]\n"
     ]
    }
   ],
   "source": [
    "data['ttext_clean'] = data['Наименование'].str.lower()\\\n",
    "    .progress_apply(lambda s: re.sub( r'\\W', ' ', s))\\\n",
    "    .progress_apply(lambda s: re.sub( r'_', ' ', s))\\\n",
    "    .progress_apply(lambda s: re.sub( r'\\b\\d+\\b', ' digit ', s))\\\n",
    "    .progress_apply(lambda t:[ w.strip() for w in t.split() if w.strip() ] )\\\n",
    "    .progress_apply(lambda t: [w for w in t if not re.match( r'\\b.*\\d+.*\\b', w) ])"
   ]
  },
  {
   "cell_type": "code",
   "execution_count": 20,
   "metadata": {},
   "outputs": [
    {
     "data": {
      "text/html": [
       "<div>\n",
       "<style scoped>\n",
       "    .dataframe tbody tr th:only-of-type {\n",
       "        vertical-align: middle;\n",
       "    }\n",
       "\n",
       "    .dataframe tbody tr th {\n",
       "        vertical-align: top;\n",
       "    }\n",
       "\n",
       "    .dataframe thead th {\n",
       "        text-align: right;\n",
       "    }\n",
       "</style>\n",
       "<table border=\"1\" class=\"dataframe\">\n",
       "  <thead>\n",
       "    <tr style=\"text-align: right;\">\n",
       "      <th></th>\n",
       "      <th>id</th>\n",
       "      <th>group</th>\n",
       "      <th>Наименование</th>\n",
       "      <th>ttext_clean</th>\n",
       "    </tr>\n",
       "  </thead>\n",
       "  <tbody>\n",
       "    <tr>\n",
       "      <th>1740</th>\n",
       "      <td>3747</td>\n",
       "      <td>20.42</td>\n",
       "      <td>Средства для макияжа губ и глаз</td>\n",
       "      <td>[средства, для, макияжа, губ, и, глаз]</td>\n",
       "    </tr>\n",
       "    <tr>\n",
       "      <th>7446</th>\n",
       "      <td>14940</td>\n",
       "      <td>29.32</td>\n",
       "      <td>Системы сменные выпуска отработавших газов двигателей, в том числе глушители и резонаторы</td>\n",
       "      <td>[системы, сменные, выпуска, отработавших, газов, двигателей, в, том, числе, глушители, и, резонаторы]</td>\n",
       "    </tr>\n",
       "    <tr>\n",
       "      <th>3834</th>\n",
       "      <td>7996</td>\n",
       "      <td>10.20</td>\n",
       "      <td>Сельдь и филе сельди горячего копчения</td>\n",
       "      <td>[сельдь, и, филе, сельди, горячего, копчения]</td>\n",
       "    </tr>\n",
       "  </tbody>\n",
       "</table>\n",
       "</div>"
      ],
      "text/plain": [
       "         id  group  \\\n",
       "1740   3747  20.42   \n",
       "7446  14940  29.32   \n",
       "3834   7996  10.20   \n",
       "\n",
       "                                                                                   Наименование  \\\n",
       "1740                                                            Средства для макияжа губ и глаз   \n",
       "7446  Системы сменные выпуска отработавших газов двигателей, в том числе глушители и резонаторы   \n",
       "3834                                                     Сельдь и филе сельди горячего копчения   \n",
       "\n",
       "                                                                                                ttext_clean  \n",
       "1740                                                                 [средства, для, макияжа, губ, и, глаз]  \n",
       "7446  [системы, сменные, выпуска, отработавших, газов, двигателей, в, том, числе, глушители, и, резонаторы]  \n",
       "3834                                                          [сельдь, и, филе, сельди, горячего, копчения]  "
      ]
     },
     "execution_count": 20,
     "metadata": {},
     "output_type": "execute_result"
    }
   ],
   "source": [
    "data.sample(3)"
   ]
  },
  {
   "cell_type": "code",
   "execution_count": 21,
   "metadata": {},
   "outputs": [
    {
     "name": "stdout",
     "output_type": "stream",
     "text": [
      "записей: 9 632\n",
      "записей: 9 632\n"
     ]
    }
   ],
   "source": [
    "ppr(data)\n",
    "data = data[ data['ttext_clean'].str.len()>0 ].reset_index(drop=True) \n",
    "ppr(data)"
   ]
  },
  {
   "cell_type": "code",
   "execution_count": 22,
   "metadata": {},
   "outputs": [
    {
     "data": {
      "text/html": [
       "<div>\n",
       "<style scoped>\n",
       "    .dataframe tbody tr th:only-of-type {\n",
       "        vertical-align: middle;\n",
       "    }\n",
       "\n",
       "    .dataframe tbody tr th {\n",
       "        vertical-align: top;\n",
       "    }\n",
       "\n",
       "    .dataframe thead th {\n",
       "        text-align: right;\n",
       "    }\n",
       "</style>\n",
       "<table border=\"1\" class=\"dataframe\">\n",
       "  <thead>\n",
       "    <tr style=\"text-align: right;\">\n",
       "      <th></th>\n",
       "      <th>id</th>\n",
       "      <th>group</th>\n",
       "      <th>Наименование</th>\n",
       "      <th>ttext_clean</th>\n",
       "    </tr>\n",
       "  </thead>\n",
       "  <tbody>\n",
       "    <tr>\n",
       "      <th>7662</th>\n",
       "      <td>15405</td>\n",
       "      <td>32.20</td>\n",
       "      <td>Инструменты электромузыкальные адаптиризованные струнные щипковые</td>\n",
       "      <td>[инструменты, электромузыкальные, адаптиризованные, струнные, щипковые]</td>\n",
       "    </tr>\n",
       "    <tr>\n",
       "      <th>6760</th>\n",
       "      <td>13451</td>\n",
       "      <td>26.51</td>\n",
       "      <td>Инструмент микрометрический (микрометры)</td>\n",
       "      <td>[инструмент, микрометрический, микрометры]</td>\n",
       "    </tr>\n",
       "    <tr>\n",
       "      <th>2369</th>\n",
       "      <td>5104</td>\n",
       "      <td>46.61</td>\n",
       "      <td>Услуги по оптовой торговле садово-огородной техникой и инвентарем</td>\n",
       "      <td>[услуги, по, оптовой, торговле, садово, огородной, техникой, и, инвентарем]</td>\n",
       "    </tr>\n",
       "  </tbody>\n",
       "</table>\n",
       "</div>"
      ],
      "text/plain": [
       "         id  group  \\\n",
       "7662  15405  32.20   \n",
       "6760  13451  26.51   \n",
       "2369   5104  46.61   \n",
       "\n",
       "                                                           Наименование  \\\n",
       "7662  Инструменты электромузыкальные адаптиризованные струнные щипковые   \n",
       "6760                           Инструмент микрометрический (микрометры)   \n",
       "2369  Услуги по оптовой торговле садово-огородной техникой и инвентарем   \n",
       "\n",
       "                                                                      ttext_clean  \n",
       "7662      [инструменты, электромузыкальные, адаптиризованные, струнные, щипковые]  \n",
       "6760                                   [инструмент, микрометрический, микрометры]  \n",
       "2369  [услуги, по, оптовой, торговле, садово, огородной, техникой, и, инвентарем]  "
      ]
     },
     "execution_count": 22,
     "metadata": {},
     "output_type": "execute_result"
    }
   ],
   "source": [
    "data.sample(3)"
   ]
  },
  {
   "cell_type": "code",
   "execution_count": 23,
   "metadata": {},
   "outputs": [
    {
     "name": "stdout",
     "output_type": "stream",
     "text": [
      "записей: 9 976\n"
     ]
    }
   ],
   "source": [
    "words = sorted(set.union( *data['ttext_clean'].apply(set) ))\n",
    "voc = { w:i+1 for i,w in enumerate(words) }\n",
    "voc['<pad>']= 0\n",
    "ppr(voc)"
   ]
  },
  {
   "cell_type": "markdown",
   "metadata": {},
   "source": [
    "## кодируем слова"
   ]
  },
  {
   "cell_type": "code",
   "execution_count": 24,
   "metadata": {},
   "outputs": [
    {
     "name": "stderr",
     "output_type": "stream",
     "text": [
      "100%|██████████| 9632/9632 [00:00<00:00, 415975.45it/s]\n"
     ]
    }
   ],
   "source": [
    "data['code'] = data['ttext_clean'].progress_apply(lambda t: [ voc[w] for w in t] )"
   ]
  },
  {
   "cell_type": "code",
   "execution_count": 25,
   "metadata": {},
   "outputs": [
    {
     "data": {
      "text/html": [
       "<div>\n",
       "<style scoped>\n",
       "    .dataframe tbody tr th:only-of-type {\n",
       "        vertical-align: middle;\n",
       "    }\n",
       "\n",
       "    .dataframe tbody tr th {\n",
       "        vertical-align: top;\n",
       "    }\n",
       "\n",
       "    .dataframe thead th {\n",
       "        text-align: right;\n",
       "    }\n",
       "</style>\n",
       "<table border=\"1\" class=\"dataframe\">\n",
       "  <thead>\n",
       "    <tr style=\"text-align: right;\">\n",
       "      <th></th>\n",
       "      <th>ttext_clean</th>\n",
       "      <th>code</th>\n",
       "    </tr>\n",
       "  </thead>\n",
       "  <tbody>\n",
       "    <tr>\n",
       "      <th>3388</th>\n",
       "      <td>[рыба, морская, прочая, свежая, или, охлажденная, являющаяся, продукцией, рыбоводства]</td>\n",
       "      <td>[7278, 4320, 6701, 7409, 2515, 5397, 9932, 6551, 7288]</td>\n",
       "    </tr>\n",
       "    <tr>\n",
       "      <th>6920</th>\n",
       "      <td>[провода, и, шнуры, силовые, прочие, не, включенные, в, другие, группировки]</td>\n",
       "      <td>[6516, 2416, 9657, 7587, 6707, 4595, 917, 700, 1986, 1600]</td>\n",
       "    </tr>\n",
       "    <tr>\n",
       "      <th>3739</th>\n",
       "      <td>[мясо, кур, в, том, числе, цыплят, включая, цыплят, бройлеров, замороженное]</td>\n",
       "      <td>[4415, 3553, 700, 8581, 9516, 9448, 913, 9448, 600, 2248]</td>\n",
       "    </tr>\n",
       "  </tbody>\n",
       "</table>\n",
       "</div>"
      ],
      "text/plain": [
       "                                                                                 ttext_clean  \\\n",
       "3388  [рыба, морская, прочая, свежая, или, охлажденная, являющаяся, продукцией, рыбоводства]   \n",
       "6920            [провода, и, шнуры, силовые, прочие, не, включенные, в, другие, группировки]   \n",
       "3739            [мясо, кур, в, том, числе, цыплят, включая, цыплят, бройлеров, замороженное]   \n",
       "\n",
       "                                                            code  \n",
       "3388      [7278, 4320, 6701, 7409, 2515, 5397, 9932, 6551, 7288]  \n",
       "6920  [6516, 2416, 9657, 7587, 6707, 4595, 917, 700, 1986, 1600]  \n",
       "3739   [4415, 3553, 700, 8581, 9516, 9448, 913, 9448, 600, 2248]  "
      ]
     },
     "execution_count": 25,
     "metadata": {},
     "output_type": "execute_result"
    }
   ],
   "source": [
    "data[['ttext_clean','code']].sample(3)"
   ]
  },
  {
   "cell_type": "code",
   "execution_count": 26,
   "metadata": {},
   "outputs": [
    {
     "data": {
      "text/plain": [
       "count    9632\n",
       "mean        7\n",
       "std         2\n",
       "min         2\n",
       "25%         5\n",
       "50%         7\n",
       "75%         9\n",
       "max        16\n",
       "Name: code, dtype: int64"
      ]
     },
     "execution_count": 26,
     "metadata": {},
     "output_type": "execute_result"
    }
   ],
   "source": [
    "# оценка размеров последовательнистей\n",
    "data['code'].str.len().describe().astype(int)"
   ]
  },
  {
   "cell_type": "code",
   "execution_count": 27,
   "metadata": {},
   "outputs": [
    {
     "data": {
      "text/plain": [
       "<AxesSubplot:ylabel='Frequency'>"
      ]
     },
     "execution_count": 27,
     "metadata": {},
     "output_type": "execute_result"
    },
    {
     "data": {
      "image/png": "[encoded data removed]",
      "text/plain": [
       "<Figure size 432x288 with 1 Axes>"
      ]
     },
     "metadata": {
      "needs_background": "light"
     },
     "output_type": "display_data"
    }
   ],
   "source": [
    "data['code'].str.len().plot.hist()"
   ]
  },
  {
   "cell_type": "code",
   "execution_count": 28,
   "metadata": {},
   "outputs": [
    {
     "data": {
      "text/plain": [
       "16"
      ]
     },
     "execution_count": 28,
     "metadata": {},
     "output_type": "execute_result"
    }
   ],
   "source": [
    "# максимальная длина\n",
    "code_max_len = data['code'].str.len().max()\n",
    "code_max_len"
   ]
  },
  {
   "cell_type": "code",
   "execution_count": 29,
   "metadata": {},
   "outputs": [
    {
     "name": "stderr",
     "output_type": "stream",
     "text": [
      "100%|██████████| 9632/9632 [00:00<00:00, 147681.79it/s]\n"
     ]
    }
   ],
   "source": [
    "# дополняем короткие до максимальной длины\n",
    "z = [0]*code_max_len\n",
    "data['code'] = data['code'].progress_apply(lambda c: c+z[:(code_max_len-len(c))]  )"
   ]
  },
  {
   "cell_type": "code",
   "execution_count": 30,
   "metadata": {},
   "outputs": [
    {
     "data": {
      "text/plain": [
       "count    9632\n",
       "mean       16\n",
       "std         0\n",
       "min        16\n",
       "25%        16\n",
       "50%        16\n",
       "75%        16\n",
       "max        16\n",
       "Name: code, dtype: int64"
      ]
     },
     "execution_count": 30,
     "metadata": {},
     "output_type": "execute_result"
    }
   ],
   "source": [
    "data['code'].str.len().describe().astype(int)"
   ]
  },
  {
   "cell_type": "code",
   "execution_count": 31,
   "metadata": {},
   "outputs": [],
   "source": [
    "# data"
   ]
  },
  {
   "cell_type": "markdown",
   "metadata": {},
   "source": [
    "## строим датасет"
   ]
  },
  {
   "cell_type": "code",
   "execution_count": 32,
   "metadata": {},
   "outputs": [
    {
     "data": {
      "text/html": [
       "<div>\n",
       "<style scoped>\n",
       "    .dataframe tbody tr th:only-of-type {\n",
       "        vertical-align: middle;\n",
       "    }\n",
       "\n",
       "    .dataframe tbody tr th {\n",
       "        vertical-align: top;\n",
       "    }\n",
       "\n",
       "    .dataframe thead th {\n",
       "        text-align: right;\n",
       "    }\n",
       "</style>\n",
       "<table border=\"1\" class=\"dataframe\">\n",
       "  <thead>\n",
       "    <tr style=\"text-align: right;\">\n",
       "      <th></th>\n",
       "      <th>id_L</th>\n",
       "      <th>id_R</th>\n",
       "      <th>target</th>\n",
       "    </tr>\n",
       "  </thead>\n",
       "  <tbody>\n",
       "    <tr>\n",
       "      <th>0</th>\n",
       "      <td>6153</td>\n",
       "      <td>6153</td>\n",
       "      <td>1</td>\n",
       "    </tr>\n",
       "    <tr>\n",
       "      <th>0</th>\n",
       "      <td>2827</td>\n",
       "      <td>6118</td>\n",
       "      <td>1</td>\n",
       "    </tr>\n",
       "    <tr>\n",
       "      <th>0</th>\n",
       "      <td>6143</td>\n",
       "      <td>6061</td>\n",
       "      <td>1</td>\n",
       "    </tr>\n",
       "    <tr>\n",
       "      <th>0</th>\n",
       "      <td>6164</td>\n",
       "      <td>18522</td>\n",
       "      <td>1</td>\n",
       "    </tr>\n",
       "    <tr>\n",
       "      <th>0</th>\n",
       "      <td>6118</td>\n",
       "      <td>6143</td>\n",
       "      <td>1</td>\n",
       "    </tr>\n",
       "    <tr>\n",
       "      <th>...</th>\n",
       "      <td>...</td>\n",
       "      <td>...</td>\n",
       "      <td>...</td>\n",
       "    </tr>\n",
       "    <tr>\n",
       "      <th>225</th>\n",
       "      <td>19453</td>\n",
       "      <td>2035</td>\n",
       "      <td>0</td>\n",
       "    </tr>\n",
       "    <tr>\n",
       "      <th>225</th>\n",
       "      <td>6033</td>\n",
       "      <td>13895</td>\n",
       "      <td>0</td>\n",
       "    </tr>\n",
       "    <tr>\n",
       "      <th>225</th>\n",
       "      <td>6036</td>\n",
       "      <td>13897</td>\n",
       "      <td>0</td>\n",
       "    </tr>\n",
       "    <tr>\n",
       "      <th>225</th>\n",
       "      <td>19456</td>\n",
       "      <td>13888</td>\n",
       "      <td>0</td>\n",
       "    </tr>\n",
       "    <tr>\n",
       "      <th>225</th>\n",
       "      <td>19447</td>\n",
       "      <td>13910</td>\n",
       "      <td>0</td>\n",
       "    </tr>\n",
       "  </tbody>\n",
       "</table>\n",
       "<p>4520 rows × 3 columns</p>\n",
       "</div>"
      ],
      "text/plain": [
       "      id_L   id_R  target\n",
       "0     6153   6153       1\n",
       "0     2827   6118       1\n",
       "0     6143   6061       1\n",
       "0     6164  18522       1\n",
       "0     6118   6143       1\n",
       "..     ...    ...     ...\n",
       "225  19453   2035       0\n",
       "225   6033  13895       0\n",
       "225   6036  13897       0\n",
       "225  19456  13888       0\n",
       "225  19447  13910       0\n",
       "\n",
       "[4520 rows x 3 columns]"
      ]
     },
     "execution_count": 32,
     "metadata": {},
     "output_type": "execute_result"
    }
   ],
   "source": [
    "pair"
   ]
  },
  {
   "cell_type": "code",
   "execution_count": 33,
   "metadata": {},
   "outputs": [
    {
     "name": "stdout",
     "output_type": "stream",
     "text": [
      "записей: 4 520\n"
     ]
    },
    {
     "data": {
      "text/html": [
       "<div>\n",
       "<style scoped>\n",
       "    .dataframe tbody tr th:only-of-type {\n",
       "        vertical-align: middle;\n",
       "    }\n",
       "\n",
       "    .dataframe tbody tr th {\n",
       "        vertical-align: top;\n",
       "    }\n",
       "\n",
       "    .dataframe thead th {\n",
       "        text-align: right;\n",
       "    }\n",
       "</style>\n",
       "<table border=\"1\" class=\"dataframe\">\n",
       "  <thead>\n",
       "    <tr style=\"text-align: right;\">\n",
       "      <th></th>\n",
       "      <th>id_L</th>\n",
       "      <th>id_R</th>\n",
       "      <th>target</th>\n",
       "      <th>code_L</th>\n",
       "      <th>code_R</th>\n",
       "    </tr>\n",
       "  </thead>\n",
       "  <tbody>\n",
       "    <tr>\n",
       "      <th>2713</th>\n",
       "      <td>983</td>\n",
       "      <td>11957</td>\n",
       "      <td>0</td>\n",
       "      <td>[4928, 4105, 0, 0, 0, 0, 0, 0, 0, 0, 0, 0, 0, 0, 0, 0]</td>\n",
       "      <td>[5684, 7088, 9301, 0, 0, 0, 0, 0, 0, 0, 0, 0, 0, 0, 0, 0]</td>\n",
       "    </tr>\n",
       "    <tr>\n",
       "      <th>1664</th>\n",
       "      <td>8990</td>\n",
       "      <td>18149</td>\n",
       "      <td>1</td>\n",
       "      <td>[1003, 4197, 6481, 5772, 3680, 0, 0, 0, 0, 0, 0, 0, 0, 0, 0, 0]</td>\n",
       "      <td>[1003, 5772, 1239, 7011, 700, 2029, 0, 0, 0, 0, 0, 0, 0, 0, 0, 0]</td>\n",
       "    </tr>\n",
       "    <tr>\n",
       "      <th>1507</th>\n",
       "      <td>5355</td>\n",
       "      <td>5349</td>\n",
       "      <td>1</td>\n",
       "      <td>[8968, 5911, 633, 9466, 2416, 3113, 76, 8000, 0, 0, 0, 0, 0, 0, 0, 0]</td>\n",
       "      <td>[8968, 2057, 3902, 2515, 634, 0, 0, 0, 0, 0, 0, 0, 0, 0, 0, 0]</td>\n",
       "    </tr>\n",
       "  </tbody>\n",
       "</table>\n",
       "</div>"
      ],
      "text/plain": [
       "      id_L   id_R  target  \\\n",
       "2713   983  11957       0   \n",
       "1664  8990  18149       1   \n",
       "1507  5355   5349       1   \n",
       "\n",
       "                                                                     code_L  \\\n",
       "2713                 [4928, 4105, 0, 0, 0, 0, 0, 0, 0, 0, 0, 0, 0, 0, 0, 0]   \n",
       "1664        [1003, 4197, 6481, 5772, 3680, 0, 0, 0, 0, 0, 0, 0, 0, 0, 0, 0]   \n",
       "1507  [8968, 5911, 633, 9466, 2416, 3113, 76, 8000, 0, 0, 0, 0, 0, 0, 0, 0]   \n",
       "\n",
       "                                                                 code_R  \n",
       "2713          [5684, 7088, 9301, 0, 0, 0, 0, 0, 0, 0, 0, 0, 0, 0, 0, 0]  \n",
       "1664  [1003, 5772, 1239, 7011, 700, 2029, 0, 0, 0, 0, 0, 0, 0, 0, 0, 0]  \n",
       "1507     [8968, 2057, 3902, 2515, 634, 0, 0, 0, 0, 0, 0, 0, 0, 0, 0, 0]  "
      ]
     },
     "execution_count": 33,
     "metadata": {},
     "output_type": "execute_result"
    }
   ],
   "source": [
    "dataset = pair\\\n",
    "  .merge(data[['id','code']].rename(columns={'id':'id_L','code':'code_L'}), on=['id_L'] )\\\n",
    "  .merge(data[['id','code']].rename(columns={'id':'id_R','code':'code_R'}), on=['id_R'] )\n",
    "ppr(dataset)\n",
    "dataset.sample(3)"
   ]
  },
  {
   "cell_type": "code",
   "execution_count": 34,
   "metadata": {},
   "outputs": [
    {
     "data": {
      "text/plain": [
       "((4520, 16), (4520, 16), (4520, 1))"
      ]
     },
     "execution_count": 34,
     "metadata": {},
     "output_type": "execute_result"
    }
   ],
   "source": [
    "x_left  = np.vstack(dataset['code_L'].values)\n",
    "x_right = np.vstack(dataset['code_R'].values)\n",
    "target  = np.vstack(dataset['target'].values)\n",
    "\n",
    "x_left.shape,x_right.shape,target.shape"
   ]
  },
  {
   "cell_type": "code",
   "execution_count": 35,
   "metadata": {},
   "outputs": [],
   "source": [
    "# размер вектора OHE для embeding слоя\n",
    "embed_input_dim = max([x_left.max(),x_right.max()]) + 1"
   ]
  },
  {
   "cell_type": "code",
   "execution_count": 36,
   "metadata": {},
   "outputs": [
    {
     "data": {
      "text/plain": [
       "((4520, 16), (4520, 16), (4520, 1), 9976)"
      ]
     },
     "execution_count": 36,
     "metadata": {},
     "output_type": "execute_result"
    }
   ],
   "source": [
    "x_left.shape, x_right.shape, target.shape, embed_input_dim"
   ]
  },
  {
   "cell_type": "code",
   "execution_count": 37,
   "metadata": {},
   "outputs": [],
   "source": [
    "# переворачиваем последовательности (нули дополнения вначале, первое слово в конце)\n",
    "x_left  = np.flip( x_left,  axis=1 )\n",
    "x_right = np.flip( x_right, axis=1 )"
   ]
  },
  {
   "cell_type": "code",
   "execution_count": 38,
   "metadata": {},
   "outputs": [
    {
     "data": {
      "text/plain": [
       "16"
      ]
     },
     "execution_count": 38,
     "metadata": {},
     "output_type": "execute_result"
    }
   ],
   "source": [
    "# длина последовательности слов \n",
    "seq_len = x_left.shape[1]\n",
    "seq_len"
   ]
  },
  {
   "cell_type": "code",
   "execution_count": 39,
   "metadata": {},
   "outputs": [],
   "source": [
    "# from sklearn.model_selection import train_test_split\n",
    "# from matplotlib import pyplot as plt"
   ]
  },
  {
   "cell_type": "code",
   "execution_count": 40,
   "metadata": {},
   "outputs": [],
   "source": [
    "# # отделяем тестовый набор\n",
    "# x_train, x_test, y_train, y_test = train_test_split( np.hstack([x_left,x_right]), target, test_size=.5)\n",
    "# x_train.shape, y_train.shape, x_test.shape, y_test.shape"
   ]
  },
  {
   "cell_type": "code",
   "execution_count": 41,
   "metadata": {},
   "outputs": [],
   "source": [
    "# x_left_train, x_right_train = x_train[:,:seq_len],x_train[:,seq_len:]\n",
    "# y_train = y_train.flatten()\n",
    "# x_left_train.shape, x_right_train.shape, y_train.shape"
   ]
  },
  {
   "cell_type": "code",
   "execution_count": 42,
   "metadata": {},
   "outputs": [],
   "source": [
    "# x_left_test, x_right_test = x_test[:,:seq_len],x_test[:,seq_len:]\n",
    "# y_test = y_test.flatten()\n",
    "# x_left_test.shape, x_right_test.shape, y_test.shape"
   ]
  },
  {
   "cell_type": "code",
   "execution_count": 43,
   "metadata": {},
   "outputs": [],
   "source": [
    "# %xdel x_left\n",
    "# %xdel x_right\n",
    "# %xdel target"
   ]
  },
  {
   "cell_type": "code",
   "execution_count": 44,
   "metadata": {},
   "outputs": [],
   "source": [
    "# gc.collect()"
   ]
  },
  {
   "cell_type": "code",
   "execution_count": 45,
   "metadata": {},
   "outputs": [],
   "source": [
    "# y_train.sum()/len(y_train), y_test.sum()/len(y_test)"
   ]
  },
  {
   "cell_type": "markdown",
   "metadata": {},
   "source": [
    "## модель"
   ]
  },
  {
   "cell_type": "code",
   "execution_count": 46,
   "metadata": {},
   "outputs": [
    {
     "data": {
      "text/plain": [
       "(9976, 128, 16)"
      ]
     },
     "execution_count": 46,
     "metadata": {},
     "output_type": "execute_result"
    }
   ],
   "source": [
    "embed_len = 128\n",
    "embed_input_dim, embed_len, seq_len"
   ]
  },
  {
   "cell_type": "code",
   "execution_count": 47,
   "metadata": {},
   "outputs": [
    {
     "data": {
      "text/plain": [
       "('2.4.0', '2.4.0')"
      ]
     },
     "execution_count": 47,
     "metadata": {},
     "output_type": "execute_result"
    }
   ],
   "source": [
    "from tensorflow import __version__ as tf_version\n",
    "from tensorflow.keras import __version__ as keras_version\n",
    "tf_version,keras_version"
   ]
  },
  {
   "cell_type": "code",
   "execution_count": 48,
   "metadata": {},
   "outputs": [],
   "source": [
    "from tensorflow.keras.models import Model\n",
    "from tensorflow.keras.layers import Input\n",
    "from tensorflow.keras.layers import Embedding\n",
    "from tensorflow.keras.layers import LSTM\n",
    "from tensorflow.keras.layers import Dense\n",
    "from tensorflow.keras.layers import Lambda\n",
    "from tensorflow.keras.optimizers import Adam\n",
    "from tensorflow.keras import backend as K\n",
    "from tensorflow.keras.utils import plot_model\n",
    "# from tensorflow_addons.losses import contrastive_loss\n",
    "from tensorflow import cast"
   ]
  },
  {
   "cell_type": "markdown",
   "metadata": {},
   "source": [
    "$$\n",
    "contrastive\\_loss(y,p) = y \\cdot p^2 + (1 - y) \\cdot \\max(0, m - p ) ^2\n",
    "$$"
   ]
  },
  {
   "cell_type": "code",
   "execution_count": 49,
   "metadata": {},
   "outputs": [],
   "source": [
    "def contrastive_loss(y, preds, margin=1):\n",
    "    y = cast(y, preds.dtype)\n",
    "    squaredMargin = K.square(K.maximum(margin - preds, 0))\n",
    "    return K.mean( y * K.square(preds) + (1-y)*squaredMargin)"
   ]
  },
  {
   "cell_type": "markdown",
   "metadata": {},
   "source": [
    "$$\n",
    "contrastive\\_loss(y,p) = y \\cdot p^2 + (1 - y) \\cdot \\max(0, m - p ) ^2\n",
    "$$"
   ]
  },
  {
   "cell_type": "code",
   "execution_count": 50,
   "metadata": {},
   "outputs": [],
   "source": [
    "# from matplotlib import pyplot as plt\n",
    "# y = np.ones(10)\n",
    "# p = np.linspace(0,1,10)\n",
    "# # y = np.zeros(10)\n",
    "# # p = np.linspace(1,0,10)\n",
    "# plt.plot( y*(p**2) + (1-y)*((1-p)**2) )"
   ]
  },
  {
   "cell_type": "code",
   "execution_count": 51,
   "metadata": {},
   "outputs": [
    {
     "data": {
      "text/plain": [
       "(9976, 16, 128)"
      ]
     },
     "execution_count": 51,
     "metadata": {},
     "output_type": "execute_result"
    }
   ],
   "source": [
    "embed_input_dim,seq_len,embed_len"
   ]
  },
  {
   "cell_type": "code",
   "execution_count": 52,
   "metadata": {},
   "outputs": [
    {
     "name": "stdout",
     "output_type": "stream",
     "text": [
      "WARNING:tensorflow:Layer lstm will not use cuDNN kernel since it doesn't meet the cuDNN kernel criteria. It will use generic GPU kernel as fallback when running on GPU\n"
     ]
    }
   ],
   "source": [
    "embedding = Embedding(input_dim=embed_input_dim, input_length=seq_len, output_dim=embed_len, )\n",
    "lstm = LSTM(embed_len,activation='relu') "
   ]
  },
  {
   "cell_type": "code",
   "execution_count": 53,
   "metadata": {},
   "outputs": [],
   "source": [
    "# Конструирование левой ветви модели: \n",
    "input_l = Input( shape=(seq_len,), dtype='int32')\n",
    "embedding_l = embedding(input_l)\n",
    "lstm_l = lstm(embedding_l)\n",
    "\n",
    "# Конструирование правой ветви модели: \n",
    "input_r = Input(shape=(seq_len,), dtype='int32')\n",
    "embedding_r = embedding(input_r)\n",
    "lstm_r = lstm(embedding_r)\n",
    "\n",
    "# # Getting the L1 Distance between the 2 encodings\n",
    "merged = Lambda(lambda t:K.abs(t[0]-t[1]),name='L1_distance')([lstm_l,lstm_r])\n",
    "\n",
    "# классификатор\n",
    "predictions = Dense(1, activation='relu')(merged)\n",
    "\n",
    "# создаём модель\n",
    "model = Model([input_l,input_r], predictions )"
   ]
  },
  {
   "cell_type": "code",
   "execution_count": 54,
   "metadata": {
    "scrolled": true
   },
   "outputs": [
    {
     "data": {
      "image/png": "[encoded data removed]",
      "text/plain": [
       "<IPython.core.display.Image object>"
      ]
     },
     "execution_count": 54,
     "metadata": {},
     "output_type": "execute_result"
    }
   ],
   "source": [
    "plot_model(model, show_layer_names=True, show_shapes=True )"
   ]
  },
  {
   "cell_type": "code",
   "execution_count": 55,
   "metadata": {},
   "outputs": [],
   "source": [
    "learning_rate = 9e-3\n",
    "model.compile(loss=contrastive_loss, metrics=['acc',], optimizer=Adam(learning_rate))"
   ]
  },
  {
   "cell_type": "code",
   "execution_count": 56,
   "metadata": {},
   "outputs": [
    {
     "data": {
      "text/plain": [
       "((4520, 16), (4520, 1))"
      ]
     },
     "execution_count": 56,
     "metadata": {},
     "output_type": "execute_result"
    }
   ],
   "source": [
    "x_left.shape,target.shape"
   ]
  },
  {
   "cell_type": "code",
   "execution_count": 57,
   "metadata": {},
   "outputs": [
    {
     "name": "stdout",
     "output_type": "stream",
     "text": [
      "Epoch 1/25\n",
      "5/5 [==============================] - 3s 40ms/step - loss: 0.4252 - acc: 0.4927\n",
      "Epoch 2/25\n",
      "5/5 [==============================] - 0s 38ms/step - loss: 0.2281 - acc: 0.3969\n",
      "Epoch 3/25\n",
      "5/5 [==============================] - 0s 39ms/step - loss: 0.1392 - acc: 0.1657\n",
      "Epoch 4/25\n",
      "5/5 [==============================] - 0s 41ms/step - loss: 0.0967 - acc: 0.1008\n",
      "Epoch 5/25\n",
      "5/5 [==============================] - 0s 38ms/step - loss: 0.0776 - acc: 0.0643\n",
      "Epoch 6/25\n",
      "5/5 [==============================] - 0s 39ms/step - loss: 0.0597 - acc: 0.0439\n",
      "Epoch 7/25\n",
      "5/5 [==============================] - 0s 36ms/step - loss: 0.0450 - acc: 0.0272\n",
      "Epoch 8/25\n",
      "5/5 [==============================] - 0s 38ms/step - loss: 0.0320 - acc: 0.0188\n",
      "Epoch 9/25\n",
      "5/5 [==============================] - 0s 39ms/step - loss: 0.0200 - acc: 0.0116\n",
      "Epoch 10/25\n",
      "5/5 [==============================] - 0s 41ms/step - loss: 0.0110 - acc: 0.0058\n",
      "Epoch 11/25\n",
      "5/5 [==============================] - 0s 40ms/step - loss: 0.0059 - acc: 0.0038\n",
      "Epoch 12/25\n",
      "5/5 [==============================] - 0s 44ms/step - loss: 0.0030 - acc: 0.0016\n",
      "Epoch 13/25\n",
      "5/5 [==============================] - 0s 40ms/step - loss: 0.0015 - acc: 0.0011\n",
      "Epoch 14/25\n",
      "5/5 [==============================] - 0s 40ms/step - loss: 4.8100e-04 - acc: 1.1444e-04\n",
      "Epoch 15/25\n",
      "5/5 [==============================] - 0s 40ms/step - loss: 3.7707e-04 - acc: 0.0000e+00\n",
      "Epoch 16/25\n",
      "5/5 [==============================] - 0s 44ms/step - loss: 2.0479e-04 - acc: 7.3746e-05\n",
      "Epoch 17/25\n",
      "5/5 [==============================] - 0s 44ms/step - loss: 2.8181e-04 - acc: 1.1444e-04\n",
      "Epoch 18/25\n",
      "5/5 [==============================] - 0s 38ms/step - loss: 1.2539e-04 - acc: 0.0000e+00\n",
      "Epoch 19/25\n",
      "5/5 [==============================] - 0s 38ms/step - loss: 1.4716e-04 - acc: 0.0000e+00\n",
      "Epoch 20/25\n",
      "5/5 [==============================] - 0s 40ms/step - loss: 5.1051e-05 - acc: 0.0000e+00\n",
      "Epoch 21/25\n",
      "5/5 [==============================] - 0s 40ms/step - loss: 8.0269e-05 - acc: 0.0000e+00\n",
      "Epoch 22/25\n",
      "5/5 [==============================] - 0s 42ms/step - loss: 1.0071e-04 - acc: 0.0000e+00\n",
      "Epoch 23/25\n",
      "5/5 [==============================] - 0s 45ms/step - loss: 1.7639e-05 - acc: 0.0000e+00\n",
      "Epoch 24/25\n",
      "5/5 [==============================] - 0s 50ms/step - loss: 6.5614e-06 - acc: 0.0000e+00\n",
      "Epoch 25/25\n",
      "5/5 [==============================] - 0s 50ms/step - loss: 6.0250e-06 - acc: 0.0000e+00\n",
      "CPU times: user 11.7 s, sys: 447 ms, total: 12.2 s\n",
      "Wall time: 8.2 s\n"
     ]
    }
   ],
   "source": [
    "%%time\n",
    "\n",
    "n_epochs = 25\n",
    "\n",
    "history = model.fit( [x_left, x_right], target,epochs = n_epochs, batch_size = 1024, )"
   ]
  },
  {
   "cell_type": "markdown",
   "metadata": {},
   "source": [
    "----"
   ]
  },
  {
   "cell_type": "code",
   "execution_count": 58,
   "metadata": {},
   "outputs": [
    {
     "data": {
      "image/png": "[encoded data removed]",
      "text/plain": [
       "<Figure size 432x288 with 1 Axes>"
      ]
     },
     "metadata": {
      "needs_background": "light"
     },
     "output_type": "display_data"
    }
   ],
   "source": [
    "plt.plot(history.history['loss'],label='train loss')\n",
    "# plt.plot(history.history['val_loss'],label='val loss')\n",
    "plt.legend()\n",
    "plt.grid()"
   ]
  },
  {
   "cell_type": "code",
   "execution_count": 59,
   "metadata": {},
   "outputs": [
    {
     "data": {
      "image/png": "[encoded data removed]",
      "text/plain": [
       "<Figure size 432x288 with 1 Axes>"
      ]
     },
     "metadata": {
      "needs_background": "light"
     },
     "output_type": "display_data"
    }
   ],
   "source": [
    "plt.plot( 1. - np.array(history.history['acc']), label='train acc')\n",
    "# plt.plot( np.array(history.history['val_acc']), label='val acc')\n",
    "plt.legend()\n",
    "plt.grid()"
   ]
  },
  {
   "cell_type": "code",
   "execution_count": 60,
   "metadata": {},
   "outputs": [],
   "source": [
    "# gc.collect()"
   ]
  },
  {
   "cell_type": "markdown",
   "metadata": {},
   "source": [
    "## тест"
   ]
  },
  {
   "cell_type": "code",
   "execution_count": 61,
   "metadata": {},
   "outputs": [],
   "source": [
    "# dataset.sample(2)"
   ]
  },
  {
   "cell_type": "code",
   "execution_count": 62,
   "metadata": {},
   "outputs": [],
   "source": [
    "dataset['dist'] = model.predict([x_left,x_right,])"
   ]
  },
  {
   "cell_type": "code",
   "execution_count": 63,
   "metadata": {},
   "outputs": [],
   "source": [
    "data_dist = dataset[['id_L','id_R','target','dist']]\\\n",
    "    .merge(data[['id','Наименование']].rename(columns={'id':'id_R','Наименование':'ttext_R'}),on='id_R')\\\n",
    "    .merge(data[['id','Наименование']].rename(columns={'id':'id_L','Наименование':'ttext_L'}),on='id_L')\\\n",
    "    [['ttext_L','ttext_R','dist']]\n",
    "\n",
    "# data_dist.sample(3)"
   ]
  },
  {
   "cell_type": "code",
   "execution_count": 64,
   "metadata": {},
   "outputs": [
    {
     "data": {
      "text/html": [
       "<div>\n",
       "<style scoped>\n",
       "    .dataframe tbody tr th:only-of-type {\n",
       "        vertical-align: middle;\n",
       "    }\n",
       "\n",
       "    .dataframe tbody tr th {\n",
       "        vertical-align: top;\n",
       "    }\n",
       "\n",
       "    .dataframe thead th {\n",
       "        text-align: right;\n",
       "    }\n",
       "</style>\n",
       "<table border=\"1\" class=\"dataframe\">\n",
       "  <thead>\n",
       "    <tr style=\"text-align: right;\">\n",
       "      <th></th>\n",
       "      <th>count</th>\n",
       "      <th>mean</th>\n",
       "      <th>std</th>\n",
       "      <th>min</th>\n",
       "      <th>25%</th>\n",
       "      <th>50%</th>\n",
       "      <th>75%</th>\n",
       "      <th>max</th>\n",
       "    </tr>\n",
       "  </thead>\n",
       "  <tbody>\n",
       "    <tr>\n",
       "      <th>dist</th>\n",
       "      <td>4520.0</td>\n",
       "      <td>1.03963</td>\n",
       "      <td>1.137006</td>\n",
       "      <td>0.0</td>\n",
       "      <td>0.0</td>\n",
       "      <td>0.507592</td>\n",
       "      <td>1.974883</td>\n",
       "      <td>5.352191</td>\n",
       "    </tr>\n",
       "  </tbody>\n",
       "</table>\n",
       "</div>"
      ],
      "text/plain": [
       "       count     mean       std  min  25%       50%       75%       max\n",
       "dist  4520.0  1.03963  1.137006  0.0  0.0  0.507592  1.974883  5.352191"
      ]
     },
     "execution_count": 64,
     "metadata": {},
     "output_type": "execute_result"
    }
   ],
   "source": [
    "data_dist[['dist']].describe().T"
   ]
  },
  {
   "cell_type": "code",
   "execution_count": 65,
   "metadata": {},
   "outputs": [
    {
     "data": {
      "text/html": [
       "<div>\n",
       "<style scoped>\n",
       "    .dataframe tbody tr th:only-of-type {\n",
       "        vertical-align: middle;\n",
       "    }\n",
       "\n",
       "    .dataframe tbody tr th {\n",
       "        vertical-align: top;\n",
       "    }\n",
       "\n",
       "    .dataframe thead th {\n",
       "        text-align: right;\n",
       "    }\n",
       "</style>\n",
       "<table border=\"1\" class=\"dataframe\">\n",
       "  <thead>\n",
       "    <tr style=\"text-align: right;\">\n",
       "      <th></th>\n",
       "      <th>ttext_L</th>\n",
       "      <th>ttext_R</th>\n",
       "      <th>dist</th>\n",
       "    </tr>\n",
       "  </thead>\n",
       "  <tbody>\n",
       "    <tr>\n",
       "      <th>2274</th>\n",
       "      <td>Плитки огнеупорные из кремнеземистой каменной муки или диатомитовых земель</td>\n",
       "      <td>Изделия огнеупорные безобжиговые</td>\n",
       "      <td>0.0</td>\n",
       "    </tr>\n",
       "    <tr>\n",
       "      <th>4314</th>\n",
       "      <td>Газогенераторы, аппараты для дистилляции и фильтрования</td>\n",
       "      <td>Оборудование для взвешивания и дозировки промышленное, бытовое и прочее</td>\n",
       "      <td>0.0</td>\n",
       "    </tr>\n",
       "    <tr>\n",
       "      <th>1139</th>\n",
       "      <td>Соли прочих ароматических монокарбоновых кислот</td>\n",
       "      <td>Эфиры линоленовой кислоты сложные</td>\n",
       "      <td>0.0</td>\n",
       "    </tr>\n",
       "    <tr>\n",
       "      <th>1719</th>\n",
       "      <td>Лом и отходы кадмия и его сплавов</td>\n",
       "      <td>Лом и отходы чугунные легированные</td>\n",
       "      <td>0.0</td>\n",
       "    </tr>\n",
       "    <tr>\n",
       "      <th>1979</th>\n",
       "      <td>Услуги федерального государственного метрологического надзора</td>\n",
       "      <td>Услуги по инженерно-техническому проектированию объектов водоснабжения и канализации</td>\n",
       "      <td>0.0</td>\n",
       "    </tr>\n",
       "    <tr>\n",
       "      <th>4428</th>\n",
       "      <td>Аккордеоны и аналогичные инструменты</td>\n",
       "      <td>Части и принадлежности духовых музыкальных инструментов</td>\n",
       "      <td>0.0</td>\n",
       "    </tr>\n",
       "    <tr>\n",
       "      <th>2874</th>\n",
       "      <td>Услуги профессиональные, научные и технические, прочие, не включенные в другие группировки</td>\n",
       "      <td>Услуги по проведению оценки уязвимости объектов транспортной инфраструктуры и транспортных средств</td>\n",
       "      <td>0.0</td>\n",
       "    </tr>\n",
       "    <tr>\n",
       "      <th>390</th>\n",
       "      <td>Овцы взрослые, кроме чистопородных племенных овец</td>\n",
       "      <td>Овцы взрослые тонкорунных пород, кроме чистопородных племенных овец</td>\n",
       "      <td>0.0</td>\n",
       "    </tr>\n",
       "    <tr>\n",
       "      <th>2778</th>\n",
       "      <td>Светильники электрические настольные, прикроватные или напольные</td>\n",
       "      <td>Лампы накаливания или газоразрядные лампы; дуговые лампы; светодиодные лампы</td>\n",
       "      <td>0.0</td>\n",
       "    </tr>\n",
       "    <tr>\n",
       "      <th>2583</th>\n",
       "      <td>Услуги по розничной торговле животными маслами и жирами в специализированных магазинах</td>\n",
       "      <td>Услуги по розничной торговле молочными продуктами в специализированных магазинах</td>\n",
       "      <td>0.0</td>\n",
       "    </tr>\n",
       "  </tbody>\n",
       "</table>\n",
       "</div>"
      ],
      "text/plain": [
       "                                                                                         ttext_L  \\\n",
       "2274                  Плитки огнеупорные из кремнеземистой каменной муки или диатомитовых земель   \n",
       "4314                                     Газогенераторы, аппараты для дистилляции и фильтрования   \n",
       "1139                                             Соли прочих ароматических монокарбоновых кислот   \n",
       "1719                                                           Лом и отходы кадмия и его сплавов   \n",
       "1979                               Услуги федерального государственного метрологического надзора   \n",
       "4428                                                        Аккордеоны и аналогичные инструменты   \n",
       "2874  Услуги профессиональные, научные и технические, прочие, не включенные в другие группировки   \n",
       "390                                            Овцы взрослые, кроме чистопородных племенных овец   \n",
       "2778                            Светильники электрические настольные, прикроватные или напольные   \n",
       "2583      Услуги по розничной торговле животными маслами и жирами в специализированных магазинах   \n",
       "\n",
       "                                                                                                 ttext_R  \\\n",
       "2274                                                                    Изделия огнеупорные безобжиговые   \n",
       "4314                             Оборудование для взвешивания и дозировки промышленное, бытовое и прочее   \n",
       "1139                                                                   Эфиры линоленовой кислоты сложные   \n",
       "1719                                                                  Лом и отходы чугунные легированные   \n",
       "1979                Услуги по инженерно-техническому проектированию объектов водоснабжения и канализации   \n",
       "4428                                             Части и принадлежности духовых музыкальных инструментов   \n",
       "2874  Услуги по проведению оценки уязвимости объектов транспортной инфраструктуры и транспортных средств   \n",
       "390                                  Овцы взрослые тонкорунных пород, кроме чистопородных племенных овец   \n",
       "2778                        Лампы накаливания или газоразрядные лампы; дуговые лампы; светодиодные лампы   \n",
       "2583                    Услуги по розничной торговле молочными продуктами в специализированных магазинах   \n",
       "\n",
       "      dist  \n",
       "2274   0.0  \n",
       "4314   0.0  \n",
       "1139   0.0  \n",
       "1719   0.0  \n",
       "1979   0.0  \n",
       "4428   0.0  \n",
       "2874   0.0  \n",
       "390    0.0  \n",
       "2778   0.0  \n",
       "2583   0.0  "
      ]
     },
     "execution_count": 65,
     "metadata": {},
     "output_type": "execute_result"
    }
   ],
   "source": [
    "# похожие тексты\n",
    "data_dist[ (data_dist['dist']<0.5) & (data_dist['ttext_L']!=data_dist['ttext_R']) ].sample(10)"
   ]
  },
  {
   "cell_type": "code",
   "execution_count": 66,
   "metadata": {},
   "outputs": [
    {
     "data": {
      "text/html": [
       "<div>\n",
       "<style scoped>\n",
       "    .dataframe tbody tr th:only-of-type {\n",
       "        vertical-align: middle;\n",
       "    }\n",
       "\n",
       "    .dataframe tbody tr th {\n",
       "        vertical-align: top;\n",
       "    }\n",
       "\n",
       "    .dataframe thead th {\n",
       "        text-align: right;\n",
       "    }\n",
       "</style>\n",
       "<table border=\"1\" class=\"dataframe\">\n",
       "  <thead>\n",
       "    <tr style=\"text-align: right;\">\n",
       "      <th></th>\n",
       "      <th>ttext_L</th>\n",
       "      <th>ttext_R</th>\n",
       "      <th>dist</th>\n",
       "    </tr>\n",
       "  </thead>\n",
       "  <tbody>\n",
       "    <tr>\n",
       "      <th>3643</th>\n",
       "      <td>Смеси асфальтобетонные дорожные, аэродромные и асфальтобетон холодные</td>\n",
       "      <td>Услуги по техническим испытаниям и анализу прочие, не включенные в другие группировки</td>\n",
       "      <td>1.476404</td>\n",
       "    </tr>\n",
       "    <tr>\n",
       "      <th>1767</th>\n",
       "      <td>Крафт-бумага мешочная крепированная или гофрированная</td>\n",
       "      <td>Провода и кабели электронные и электрические прочие</td>\n",
       "      <td>1.541717</td>\n",
       "    </tr>\n",
       "    <tr>\n",
       "      <th>3563</th>\n",
       "      <td>Кузова для автотранспортных средств</td>\n",
       "      <td>Услуги государственного управления в бюджетно-финансовой и налоговой сфере</td>\n",
       "      <td>2.236825</td>\n",
       "    </tr>\n",
       "    <tr>\n",
       "      <th>3345</th>\n",
       "      <td>Угли активированные из торфяного сырья</td>\n",
       "      <td>Двигатели турбореактивные и турбовинтовые</td>\n",
       "      <td>1.588017</td>\n",
       "    </tr>\n",
       "    <tr>\n",
       "      <th>631</th>\n",
       "      <td>Услуги, связанные с лесоводством, прочие, не включенные в другие группировки</td>\n",
       "      <td>Соки фруктово-овощные диффузионные восстановленные</td>\n",
       "      <td>1.537036</td>\n",
       "    </tr>\n",
       "    <tr>\n",
       "      <th>2841</th>\n",
       "      <td>Приборы полупроводниковые и их части</td>\n",
       "      <td>Услуги в области дополнительного образования вспомогательные</td>\n",
       "      <td>1.923834</td>\n",
       "    </tr>\n",
       "    <tr>\n",
       "      <th>3164</th>\n",
       "      <td>Услуги, оказываемые младшим медицинским персоналом хирургических отделений больниц</td>\n",
       "      <td>Соли прочих ароматических монокарбоновых кислот</td>\n",
       "      <td>1.870764</td>\n",
       "    </tr>\n",
       "    <tr>\n",
       "      <th>4185</th>\n",
       "      <td>Машины и приборы для механизации кухонных работ</td>\n",
       "      <td>Трубопроводы магистральные наземные и подводные для перекачки нефтепродуктов и газа</td>\n",
       "      <td>1.874284</td>\n",
       "    </tr>\n",
       "    <tr>\n",
       "      <th>2278</th>\n",
       "      <td>Оборудование технологическое для крупяной промышленности</td>\n",
       "      <td>Пряжа хлопчатобумажная однониточная гребенная суровая для трикотажного производства</td>\n",
       "      <td>2.771484</td>\n",
       "    </tr>\n",
       "    <tr>\n",
       "      <th>1999</th>\n",
       "      <td>Услуги по покраске металлических корпусов будильников и крупногабаритных часов</td>\n",
       "      <td>Трубы и муфты асбестоцементные безнапорные</td>\n",
       "      <td>2.936411</td>\n",
       "    </tr>\n",
       "  </tbody>\n",
       "</table>\n",
       "</div>"
      ],
      "text/plain": [
       "                                                                                 ttext_L  \\\n",
       "3643               Смеси асфальтобетонные дорожные, аэродромные и асфальтобетон холодные   \n",
       "1767                               Крафт-бумага мешочная крепированная или гофрированная   \n",
       "3563                                                 Кузова для автотранспортных средств   \n",
       "3345                                              Угли активированные из торфяного сырья   \n",
       "631         Услуги, связанные с лесоводством, прочие, не включенные в другие группировки   \n",
       "2841                                                Приборы полупроводниковые и их части   \n",
       "3164  Услуги, оказываемые младшим медицинским персоналом хирургических отделений больниц   \n",
       "4185                                     Машины и приборы для механизации кухонных работ   \n",
       "2278                            Оборудование технологическое для крупяной промышленности   \n",
       "1999      Услуги по покраске металлических корпусов будильников и крупногабаритных часов   \n",
       "\n",
       "                                                                                    ttext_R  \\\n",
       "3643  Услуги по техническим испытаниям и анализу прочие, не включенные в другие группировки   \n",
       "1767                                    Провода и кабели электронные и электрические прочие   \n",
       "3563             Услуги государственного управления в бюджетно-финансовой и налоговой сфере   \n",
       "3345                                              Двигатели турбореактивные и турбовинтовые   \n",
       "631                                      Соки фруктово-овощные диффузионные восстановленные   \n",
       "2841                           Услуги в области дополнительного образования вспомогательные   \n",
       "3164                                        Соли прочих ароматических монокарбоновых кислот   \n",
       "4185    Трубопроводы магистральные наземные и подводные для перекачки нефтепродуктов и газа   \n",
       "2278    Пряжа хлопчатобумажная однониточная гребенная суровая для трикотажного производства   \n",
       "1999                                             Трубы и муфты асбестоцементные безнапорные   \n",
       "\n",
       "          dist  \n",
       "3643  1.476404  \n",
       "1767  1.541717  \n",
       "3563  2.236825  \n",
       "3345  1.588017  \n",
       "631   1.537036  \n",
       "2841  1.923834  \n",
       "3164  1.870764  \n",
       "4185  1.874284  \n",
       "2278  2.771484  \n",
       "1999  2.936411  "
      ]
     },
     "execution_count": 66,
     "metadata": {},
     "output_type": "execute_result"
    }
   ],
   "source": [
    "# НЕпохожие тексты\n",
    "data_dist[ (data_dist['dist']>0.5) ].sample(10)"
   ]
  },
  {
   "cell_type": "code",
   "execution_count": null,
   "metadata": {},
   "outputs": [],
   "source": []
  }
 ],
 "metadata": {
  "kernelspec": {
   "display_name": "Python 3",
   "language": "python",
   "name": "python3"
  },
  "language_info": {
   "codemirror_mode": {
    "name": "ipython",
    "version": 3
   },
   "file_extension": ".py",
   "mimetype": "text/x-python",
   "name": "python",
   "nbconvert_exporter": "python",
   "pygments_lexer": "ipython3",
   "version": "3.9.0"
  },
  "toc": {
   "base_numbering": 1,
   "nav_menu": {},
   "number_sections": true,
   "sideBar": true,
   "skip_h1_title": false,
   "title_cell": "Table of Contents",
   "title_sidebar": "Contents",
   "toc_cell": false,
   "toc_position": {},
   "toc_section_display": "block",
   "toc_window_display": false
  }
 },
 "nbformat": 4,
 "nbformat_minor": 4
}
