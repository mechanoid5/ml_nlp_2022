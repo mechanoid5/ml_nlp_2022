{
 "cells": [
  {
   "cell_type": "markdown",
   "metadata": {},
   "source": [
    "**сиамская сеть, оцениваем схожесть текстов**\n",
    "\n",
    "Евгений Борисов <esborisov@sevsu.ru>"
   ]
  },
  {
   "cell_type": "markdown",
   "metadata": {},
   "source": [
    "## Библиотеки"
   ]
  },
  {
   "cell_type": "code",
   "execution_count": 1,
   "metadata": {},
   "outputs": [],
   "source": [
    "import re\n",
    "import numpy as np\n",
    "from numpy import random as rng\n",
    "import pandas as pd\n",
    "from tqdm import tqdm\n",
    "# import gzip"
   ]
  },
  {
   "cell_type": "code",
   "execution_count": 2,
   "metadata": {},
   "outputs": [],
   "source": [
    "pd.options.display.max_colwidth = 200  \n",
    "tqdm.pandas()\n",
    "\n",
    "def pp(d): return \"{:,.0f}\".format(d).replace(\",\", \" \")\n",
    "def ppr(d): print('записей:', pp(len(d)) )  "
   ]
  },
  {
   "cell_type": "markdown",
   "metadata": {},
   "source": [
    "## Данные"
   ]
  },
  {
   "cell_type": "code",
   "execution_count": 3,
   "metadata": {},
   "outputs": [
    {
     "name": "stdout",
     "output_type": "stream",
     "text": [
      "записей: 19 464\n"
     ]
    },
    {
     "data": {
      "text/html": [
       "<div>\n",
       "<style scoped>\n",
       "    .dataframe tbody tr th:only-of-type {\n",
       "        vertical-align: middle;\n",
       "    }\n",
       "\n",
       "    .dataframe tbody tr th {\n",
       "        vertical-align: top;\n",
       "    }\n",
       "\n",
       "    .dataframe thead th {\n",
       "        text-align: right;\n",
       "    }\n",
       "</style>\n",
       "<table border=\"1\" class=\"dataframe\">\n",
       "  <thead>\n",
       "    <tr style=\"text-align: right;\">\n",
       "      <th></th>\n",
       "      <th>Код</th>\n",
       "      <th>Наименование</th>\n",
       "      <th>Комментарий</th>\n",
       "    </tr>\n",
       "  </thead>\n",
       "  <tbody>\n",
       "    <tr>\n",
       "      <th>15737</th>\n",
       "      <td>32.50.22.130</td>\n",
       "      <td>Зубы искусственные</td>\n",
       "      <td>NaN</td>\n",
       "    </tr>\n",
       "    <tr>\n",
       "      <th>12944</th>\n",
       "      <td>25.30.22.125</td>\n",
       "      <td>Комплектующие (запасные части) активных зон ядерных реакторов и элементов активных зон ядерных реакторов</td>\n",
       "      <td>NaN</td>\n",
       "    </tr>\n",
       "    <tr>\n",
       "      <th>8968</th>\n",
       "      <td>11.04.10.120</td>\n",
       "      <td>Вина прочие ароматизированные, в том числе из свежего винограда</td>\n",
       "      <td>NaN</td>\n",
       "    </tr>\n",
       "  </tbody>\n",
       "</table>\n",
       "</div>"
      ],
      "text/plain": [
       "                Код  \\\n",
       "15737  32.50.22.130   \n",
       "12944  25.30.22.125   \n",
       "8968   11.04.10.120   \n",
       "\n",
       "                                                                                                   Наименование  \\\n",
       "15737                                                                                        Зубы искусственные   \n",
       "12944  Комплектующие (запасные части) активных зон ядерных реакторов и элементов активных зон ядерных реакторов   \n",
       "8968                                            Вина прочие ароматизированные, в том числе из свежего винограда   \n",
       "\n",
       "      Комментарий  \n",
       "15737         NaN  \n",
       "12944         NaN  \n",
       "8968          NaN  "
      ]
     },
     "execution_count": 3,
     "metadata": {},
     "output_type": "execute_result"
    }
   ],
   "source": [
    "# каталог товаров\n",
    "data = pd.read_excel('../data/okpd2.xlsx')\n",
    "ppr(data)\n",
    "data.sample(3)"
   ]
  },
  {
   "cell_type": "code",
   "execution_count": 4,
   "metadata": {},
   "outputs": [],
   "source": [
    "# нумеруем позиции каталога\n",
    "data['id'] = range(len(data))\n",
    "# будем использовать второй уровень каталога (две первые цифры)\n",
    "data['group'] = data['Код'].str[:5]"
   ]
  },
  {
   "cell_type": "code",
   "execution_count": 5,
   "metadata": {},
   "outputs": [
    {
     "data": {
      "text/plain": [
       "count    19464\n",
       "mean        58\n",
       "std         39\n",
       "min          3\n",
       "50%         50\n",
       "95%        130\n",
       "max        540\n",
       "Name: Наименование, dtype: int64"
      ]
     },
     "execution_count": 5,
     "metadata": {},
     "output_type": "execute_result"
    }
   ],
   "source": [
    "# длина описаний в символах\n",
    "data['Наименование'].str.len().describe([.95]).astype(int)"
   ]
  },
  {
   "cell_type": "code",
   "execution_count": 6,
   "metadata": {},
   "outputs": [
    {
     "name": "stdout",
     "output_type": "stream",
     "text": [
      "записей: 9 632\n"
     ]
    },
    {
     "data": {
      "text/html": [
       "<div>\n",
       "<style scoped>\n",
       "    .dataframe tbody tr th:only-of-type {\n",
       "        vertical-align: middle;\n",
       "    }\n",
       "\n",
       "    .dataframe tbody tr th {\n",
       "        vertical-align: top;\n",
       "    }\n",
       "\n",
       "    .dataframe thead th {\n",
       "        text-align: right;\n",
       "    }\n",
       "</style>\n",
       "<table border=\"1\" class=\"dataframe\">\n",
       "  <thead>\n",
       "    <tr style=\"text-align: right;\">\n",
       "      <th></th>\n",
       "      <th>id</th>\n",
       "      <th>group</th>\n",
       "      <th>Наименование</th>\n",
       "    </tr>\n",
       "  </thead>\n",
       "  <tbody>\n",
       "    <tr>\n",
       "      <th>2313</th>\n",
       "      <td>5014</td>\n",
       "      <td>46.11</td>\n",
       "      <td>Услуги по оптовой торговле живыми животными за вознаграждение или на договорной основе</td>\n",
       "    </tr>\n",
       "    <tr>\n",
       "      <th>770</th>\n",
       "      <td>1659</td>\n",
       "      <td>16.21</td>\n",
       "      <td>Листы для облицовки; шпон для фанеры; древесина прессованная</td>\n",
       "    </tr>\n",
       "    <tr>\n",
       "      <th>3700</th>\n",
       "      <td>7774</td>\n",
       "      <td>10.11</td>\n",
       "      <td>Говядина и телятина замороженные для детского питания</td>\n",
       "    </tr>\n",
       "  </tbody>\n",
       "</table>\n",
       "</div>"
      ],
      "text/plain": [
       "        id  group  \\\n",
       "2313  5014  46.11   \n",
       "770   1659  16.21   \n",
       "3700  7774  10.11   \n",
       "\n",
       "                                                                                Наименование  \n",
       "2313  Услуги по оптовой торговле живыми животными за вознаграждение или на договорной основе  \n",
       "770                             Листы для облицовки; шпон для фанеры; древесина прессованная  \n",
       "3700                                   Говядина и телятина замороженные для детского питания  "
      ]
     },
     "execution_count": 6,
     "metadata": {},
     "output_type": "execute_result"
    }
   ],
   "source": [
    "# выкидываем короткие описания и дубликаты\n",
    "data = data[ (data['group'].str.len()==5) & data['Наименование'].str.len().between(30,100) ]\\\n",
    "  .drop_duplicates(['Наименование'])[['id','group','Наименование']]\\\n",
    "  .reset_index(drop=True)\n",
    "\n",
    "ppr(data)\n",
    "data.sample(3)"
   ]
  },
  {
   "cell_type": "code",
   "execution_count": 7,
   "metadata": {},
   "outputs": [
    {
     "name": "stdout",
     "output_type": "stream",
     "text": [
      "записей: 596\n"
     ]
    }
   ],
   "source": [
    "# формируем списки описаний по группам\n",
    "groups =  data[['id','group']].groupby('group')['id'].apply(list).reset_index()\n",
    "ppr(groups)"
   ]
  },
  {
   "cell_type": "code",
   "execution_count": 8,
   "metadata": {},
   "outputs": [
    {
     "data": {
      "text/plain": [
       "count    596\n",
       "mean      16\n",
       "std       24\n",
       "min        1\n",
       "50%        7\n",
       "95%       62\n",
       "max      185\n",
       "Name: id, dtype: int64"
      ]
     },
     "execution_count": 8,
     "metadata": {},
     "output_type": "execute_result"
    }
   ],
   "source": [
    "# количество описаний в группах\n",
    "groups['id'].str.len().describe([.95]).astype(int)"
   ]
  },
  {
   "cell_type": "code",
   "execution_count": 9,
   "metadata": {},
   "outputs": [
    {
     "name": "stdout",
     "output_type": "stream",
     "text": [
      "записей: 596\n",
      "записей: 227\n"
     ]
    }
   ],
   "source": [
    "# выкидываем группы с малым количеством описаний, обрезаем большие списки\n",
    "n_samples = 10\n",
    "\n",
    "ppr(groups)\n",
    "groups = groups[ groups['id'].str.len()> n_samples ].reset_index(drop=True)\n",
    "ppr(groups)\n",
    "groups['id'] = groups['id'].apply(rng.permutation).str[:n_samples]"
   ]
  },
  {
   "cell_type": "code",
   "execution_count": 10,
   "metadata": {},
   "outputs": [],
   "source": [
    "# похожие примеры\n",
    "groups['id_eq'] = groups['id'].apply(rng.permutation)"
   ]
  },
  {
   "cell_type": "code",
   "execution_count": 11,
   "metadata": {},
   "outputs": [
    {
     "data": {
      "text/html": [
       "<div>\n",
       "<style scoped>\n",
       "    .dataframe tbody tr th:only-of-type {\n",
       "        vertical-align: middle;\n",
       "    }\n",
       "\n",
       "    .dataframe tbody tr th {\n",
       "        vertical-align: top;\n",
       "    }\n",
       "\n",
       "    .dataframe thead th {\n",
       "        text-align: right;\n",
       "    }\n",
       "</style>\n",
       "<table border=\"1\" class=\"dataframe\">\n",
       "  <thead>\n",
       "    <tr style=\"text-align: right;\">\n",
       "      <th></th>\n",
       "      <th>group</th>\n",
       "      <th>id</th>\n",
       "      <th>id_eq</th>\n",
       "    </tr>\n",
       "  </thead>\n",
       "  <tbody>\n",
       "    <tr>\n",
       "      <th>0</th>\n",
       "      <td>01.11</td>\n",
       "      <td>[2854, 6119, 6069, 1364, 6156, 6164, 6071, 6073, 18539, 18538]</td>\n",
       "      <td>[6073, 6069, 6156, 1364, 2854, 6071, 6119, 6164, 18539, 18538]</td>\n",
       "    </tr>\n",
       "    <tr>\n",
       "      <th>1</th>\n",
       "      <td>01.13</td>\n",
       "      <td>[2866, 6239, 2874, 6220, 1379, 6230, 1371, 6226, 1373, 1376]</td>\n",
       "      <td>[1373, 6226, 1379, 1376, 1371, 2866, 2874, 6239, 6220, 6230]</td>\n",
       "    </tr>\n",
       "    <tr>\n",
       "      <th>2</th>\n",
       "      <td>01.15</td>\n",
       "      <td>[18177, 18165, 6248, 18166, 18178, 18171, 18168, 6245, 18169, 6246]</td>\n",
       "      <td>[18178, 6248, 6246, 18168, 18169, 18166, 18177, 18165, 18171, 6245]</td>\n",
       "    </tr>\n",
       "    <tr>\n",
       "      <th>3</th>\n",
       "      <td>01.16</td>\n",
       "      <td>[6258, 6264, 6271, 6270, 6253, 6249, 747, 6259, 6272, 2887]</td>\n",
       "      <td>[6272, 747, 6258, 6264, 6253, 2887, 6259, 6270, 6249, 6271]</td>\n",
       "    </tr>\n",
       "    <tr>\n",
       "      <th>4</th>\n",
       "      <td>01.19</td>\n",
       "      <td>[6285, 6295, 6288, 6298, 6273, 6284, 1384, 2891, 6283, 2894]</td>\n",
       "      <td>[6298, 6283, 1384, 2894, 6285, 6288, 2891, 6273, 6295, 6284]</td>\n",
       "    </tr>\n",
       "    <tr>\n",
       "      <th>...</th>\n",
       "      <td>...</td>\n",
       "      <td>...</td>\n",
       "      <td>...</td>\n",
       "    </tr>\n",
       "    <tr>\n",
       "      <th>222</th>\n",
       "      <td>95.29</td>\n",
       "      <td>[19303, 19288, 19297, 6018, 19317, 19255, 19260, 19307, 19284, 19290]</td>\n",
       "      <td>[19284, 19307, 19260, 19303, 19317, 6018, 19290, 19288, 19255, 19297]</td>\n",
       "    </tr>\n",
       "    <tr>\n",
       "      <th>223</th>\n",
       "      <td>96.01</td>\n",
       "      <td>[19328, 19358, 19408, 19364, 19373, 19375, 19362, 19397, 19323, 19382]</td>\n",
       "      <td>[19382, 19358, 19328, 19364, 19362, 19373, 19323, 19397, 19408, 19375]</td>\n",
       "    </tr>\n",
       "    <tr>\n",
       "      <th>224</th>\n",
       "      <td>96.02</td>\n",
       "      <td>[1353, 2818, 6025, 19415, 6027, 19414, 19410, 19411, 2817, 19412]</td>\n",
       "      <td>[19414, 6025, 2818, 19410, 19411, 1353, 2817, 6027, 19415, 19412]</td>\n",
       "    </tr>\n",
       "    <tr>\n",
       "      <th>225</th>\n",
       "      <td>96.03</td>\n",
       "      <td>[19437, 19442, 19435, 19434, 19443, 6030, 19430, 19433, 19429, 19431]</td>\n",
       "      <td>[19434, 19435, 19442, 19430, 19431, 6030, 19437, 19429, 19443, 19433]</td>\n",
       "    </tr>\n",
       "    <tr>\n",
       "      <th>226</th>\n",
       "      <td>96.09</td>\n",
       "      <td>[19456, 19462, 19450, 19453, 6033, 19449, 19460, 1356, 19452, 19446]</td>\n",
       "      <td>[19462, 6033, 19452, 19453, 19456, 19449, 19446, 19460, 19450, 1356]</td>\n",
       "    </tr>\n",
       "  </tbody>\n",
       "</table>\n",
       "<p>227 rows × 3 columns</p>\n",
       "</div>"
      ],
      "text/plain": [
       "     group  \\\n",
       "0    01.11   \n",
       "1    01.13   \n",
       "2    01.15   \n",
       "3    01.16   \n",
       "4    01.19   \n",
       "..     ...   \n",
       "222  95.29   \n",
       "223  96.01   \n",
       "224  96.02   \n",
       "225  96.03   \n",
       "226  96.09   \n",
       "\n",
       "                                                                         id  \\\n",
       "0            [2854, 6119, 6069, 1364, 6156, 6164, 6071, 6073, 18539, 18538]   \n",
       "1              [2866, 6239, 2874, 6220, 1379, 6230, 1371, 6226, 1373, 1376]   \n",
       "2       [18177, 18165, 6248, 18166, 18178, 18171, 18168, 6245, 18169, 6246]   \n",
       "3               [6258, 6264, 6271, 6270, 6253, 6249, 747, 6259, 6272, 2887]   \n",
       "4              [6285, 6295, 6288, 6298, 6273, 6284, 1384, 2891, 6283, 2894]   \n",
       "..                                                                      ...   \n",
       "222   [19303, 19288, 19297, 6018, 19317, 19255, 19260, 19307, 19284, 19290]   \n",
       "223  [19328, 19358, 19408, 19364, 19373, 19375, 19362, 19397, 19323, 19382]   \n",
       "224       [1353, 2818, 6025, 19415, 6027, 19414, 19410, 19411, 2817, 19412]   \n",
       "225   [19437, 19442, 19435, 19434, 19443, 6030, 19430, 19433, 19429, 19431]   \n",
       "226    [19456, 19462, 19450, 19453, 6033, 19449, 19460, 1356, 19452, 19446]   \n",
       "\n",
       "                                                                      id_eq  \n",
       "0            [6073, 6069, 6156, 1364, 2854, 6071, 6119, 6164, 18539, 18538]  \n",
       "1              [1373, 6226, 1379, 1376, 1371, 2866, 2874, 6239, 6220, 6230]  \n",
       "2       [18178, 6248, 6246, 18168, 18169, 18166, 18177, 18165, 18171, 6245]  \n",
       "3               [6272, 747, 6258, 6264, 6253, 2887, 6259, 6270, 6249, 6271]  \n",
       "4              [6298, 6283, 1384, 2894, 6285, 6288, 2891, 6273, 6295, 6284]  \n",
       "..                                                                      ...  \n",
       "222   [19284, 19307, 19260, 19303, 19317, 6018, 19290, 19288, 19255, 19297]  \n",
       "223  [19382, 19358, 19328, 19364, 19362, 19373, 19323, 19397, 19408, 19375]  \n",
       "224       [19414, 6025, 2818, 19410, 19411, 1353, 2817, 6027, 19415, 19412]  \n",
       "225   [19434, 19435, 19442, 19430, 19431, 6030, 19437, 19429, 19443, 19433]  \n",
       "226    [19462, 6033, 19452, 19453, 19456, 19449, 19446, 19460, 19450, 1356]  \n",
       "\n",
       "[227 rows x 3 columns]"
      ]
     },
     "execution_count": 11,
     "metadata": {},
     "output_type": "execute_result"
    }
   ],
   "source": [
    "groups"
   ]
  },
  {
   "cell_type": "code",
   "execution_count": 12,
   "metadata": {},
   "outputs": [
    {
     "data": {
      "text/html": [
       "<div>\n",
       "<style scoped>\n",
       "    .dataframe tbody tr th:only-of-type {\n",
       "        vertical-align: middle;\n",
       "    }\n",
       "\n",
       "    .dataframe tbody tr th {\n",
       "        vertical-align: top;\n",
       "    }\n",
       "\n",
       "    .dataframe thead th {\n",
       "        text-align: right;\n",
       "    }\n",
       "</style>\n",
       "<table border=\"1\" class=\"dataframe\">\n",
       "  <thead>\n",
       "    <tr style=\"text-align: right;\">\n",
       "      <th></th>\n",
       "      <th>group</th>\n",
       "      <th>group_neq</th>\n",
       "      <th>id_neq</th>\n",
       "    </tr>\n",
       "  </thead>\n",
       "  <tbody>\n",
       "    <tr>\n",
       "      <th>0</th>\n",
       "      <td>01.11</td>\n",
       "      <td>26.60</td>\n",
       "      <td>[13661, 13650, 13632, 13640, 13648, 13637, 13651, 4246, 13642, 4247]</td>\n",
       "    </tr>\n",
       "    <tr>\n",
       "      <th>1</th>\n",
       "      <td>01.13</td>\n",
       "      <td>29.20</td>\n",
       "      <td>[993, 14907, 14908, 14892, 14900, 4612, 14897, 2149, 2150, 14906]</td>\n",
       "    </tr>\n",
       "    <tr>\n",
       "      <th>2</th>\n",
       "      <td>01.15</td>\n",
       "      <td>23.13</td>\n",
       "      <td>[12092, 12067, 12088, 12086, 3870, 12078, 12075, 12089, 3868, 12085]</td>\n",
       "    </tr>\n",
       "    <tr>\n",
       "      <th>3</th>\n",
       "      <td>01.16</td>\n",
       "      <td>86.90</td>\n",
       "      <td>[5936, 5932, 17699, 17700, 5929, 17697, 5935, 5937, 5934, 17696]</td>\n",
       "    </tr>\n",
       "    <tr>\n",
       "      <th>4</th>\n",
       "      <td>01.19</td>\n",
       "      <td>10.89</td>\n",
       "      <td>[817, 8874, 18402, 8886, 18413, 8868, 1557, 8875, 8871, 18147]</td>\n",
       "    </tr>\n",
       "    <tr>\n",
       "      <th>...</th>\n",
       "      <td>...</td>\n",
       "      <td>...</td>\n",
       "      <td>...</td>\n",
       "    </tr>\n",
       "    <tr>\n",
       "      <th>222</th>\n",
       "      <td>95.29</td>\n",
       "      <td>56.10</td>\n",
       "      <td>[16924, 5395, 16909, 5396, 16919, 16922, 16921, 16929, 16916, 16925]</td>\n",
       "    </tr>\n",
       "    <tr>\n",
       "      <th>223</th>\n",
       "      <td>96.01</td>\n",
       "      <td>10.13</td>\n",
       "      <td>[7898, 18225, 18276, 18315, 7873, 18233, 18244, 18271, 18215, 18246]</td>\n",
       "    </tr>\n",
       "    <tr>\n",
       "      <th>224</th>\n",
       "      <td>96.02</td>\n",
       "      <td>95.22</td>\n",
       "      <td>[19136, 19167, 19169, 19176, 19128, 19161, 19173, 19157, 19174, 19156]</td>\n",
       "    </tr>\n",
       "    <tr>\n",
       "      <th>225</th>\n",
       "      <td>96.03</td>\n",
       "      <td>20.13</td>\n",
       "      <td>[3649, 10965, 10938, 11023, 18554, 10970, 10943, 10847, 10910, 10895]</td>\n",
       "    </tr>\n",
       "    <tr>\n",
       "      <th>226</th>\n",
       "      <td>96.09</td>\n",
       "      <td>64.19</td>\n",
       "      <td>[5552, 5549, 5547, 5553, 2627, 17163, 17162, 1214, 2626, 5546]</td>\n",
       "    </tr>\n",
       "  </tbody>\n",
       "</table>\n",
       "<p>227 rows × 3 columns</p>\n",
       "</div>"
      ],
      "text/plain": [
       "     group group_neq  \\\n",
       "0    01.11     26.60   \n",
       "1    01.13     29.20   \n",
       "2    01.15     23.13   \n",
       "3    01.16     86.90   \n",
       "4    01.19     10.89   \n",
       "..     ...       ...   \n",
       "222  95.29     56.10   \n",
       "223  96.01     10.13   \n",
       "224  96.02     95.22   \n",
       "225  96.03     20.13   \n",
       "226  96.09     64.19   \n",
       "\n",
       "                                                                     id_neq  \n",
       "0      [13661, 13650, 13632, 13640, 13648, 13637, 13651, 4246, 13642, 4247]  \n",
       "1         [993, 14907, 14908, 14892, 14900, 4612, 14897, 2149, 2150, 14906]  \n",
       "2      [12092, 12067, 12088, 12086, 3870, 12078, 12075, 12089, 3868, 12085]  \n",
       "3          [5936, 5932, 17699, 17700, 5929, 17697, 5935, 5937, 5934, 17696]  \n",
       "4            [817, 8874, 18402, 8886, 18413, 8868, 1557, 8875, 8871, 18147]  \n",
       "..                                                                      ...  \n",
       "222    [16924, 5395, 16909, 5396, 16919, 16922, 16921, 16929, 16916, 16925]  \n",
       "223    [7898, 18225, 18276, 18315, 7873, 18233, 18244, 18271, 18215, 18246]  \n",
       "224  [19136, 19167, 19169, 19176, 19128, 19161, 19173, 19157, 19174, 19156]  \n",
       "225   [3649, 10965, 10938, 11023, 18554, 10970, 10943, 10847, 10910, 10895]  \n",
       "226          [5552, 5549, 5547, 5553, 2627, 17163, 17162, 1214, 2626, 5546]  \n",
       "\n",
       "[227 rows x 3 columns]"
      ]
     },
     "execution_count": 12,
     "metadata": {},
     "output_type": "execute_result"
    }
   ],
   "source": [
    "# непохожие примеры\n",
    "\n",
    "# пары из разных групп\n",
    "groups_ = groups[['group']].reset_index(drop=True)\n",
    "groups_['group_neq'] = rng.permutation(groups['group'])\n",
    "groups_ = groups_.query('group!=group_neq')\n",
    "\n",
    "groups_ = groups_.merge( groups[['group','id']]\\\n",
    "                          .rename(columns={'group':'group_neq','id':'id_neq'}), \n",
    "                        on=['group_neq'])\n",
    "\n",
    "groups_['id_neq'] = groups_['id_neq'].apply(rng.permutation)\n",
    "\n",
    "# groups[['group','id']].rename(columns={'group':'group_neq','id':'id_neq'})\n",
    "\n",
    "groups_"
   ]
  },
  {
   "cell_type": "code",
   "execution_count": 13,
   "metadata": {},
   "outputs": [
    {
     "data": {
      "text/html": [
       "<div>\n",
       "<style scoped>\n",
       "    .dataframe tbody tr th:only-of-type {\n",
       "        vertical-align: middle;\n",
       "    }\n",
       "\n",
       "    .dataframe tbody tr th {\n",
       "        vertical-align: top;\n",
       "    }\n",
       "\n",
       "    .dataframe thead th {\n",
       "        text-align: right;\n",
       "    }\n",
       "</style>\n",
       "<table border=\"1\" class=\"dataframe\">\n",
       "  <thead>\n",
       "    <tr style=\"text-align: right;\">\n",
       "      <th></th>\n",
       "      <th>group</th>\n",
       "      <th>id</th>\n",
       "      <th>id_eq</th>\n",
       "      <th>id_neq</th>\n",
       "    </tr>\n",
       "  </thead>\n",
       "  <tbody>\n",
       "    <tr>\n",
       "      <th>0</th>\n",
       "      <td>01.11</td>\n",
       "      <td>[2854, 6119, 6069, 1364, 6156, 6164, 6071, 6073, 18539, 18538]</td>\n",
       "      <td>[6073, 6069, 6156, 1364, 2854, 6071, 6119, 6164, 18539, 18538]</td>\n",
       "      <td>[13661, 13650, 13632, 13640, 13648, 13637, 13651, 4246, 13642, 4247]</td>\n",
       "    </tr>\n",
       "    <tr>\n",
       "      <th>1</th>\n",
       "      <td>01.13</td>\n",
       "      <td>[2866, 6239, 2874, 6220, 1379, 6230, 1371, 6226, 1373, 1376]</td>\n",
       "      <td>[1373, 6226, 1379, 1376, 1371, 2866, 2874, 6239, 6220, 6230]</td>\n",
       "      <td>[993, 14907, 14908, 14892, 14900, 4612, 14897, 2149, 2150, 14906]</td>\n",
       "    </tr>\n",
       "    <tr>\n",
       "      <th>2</th>\n",
       "      <td>01.15</td>\n",
       "      <td>[18177, 18165, 6248, 18166, 18178, 18171, 18168, 6245, 18169, 6246]</td>\n",
       "      <td>[18178, 6248, 6246, 18168, 18169, 18166, 18177, 18165, 18171, 6245]</td>\n",
       "      <td>[12092, 12067, 12088, 12086, 3870, 12078, 12075, 12089, 3868, 12085]</td>\n",
       "    </tr>\n",
       "    <tr>\n",
       "      <th>3</th>\n",
       "      <td>01.16</td>\n",
       "      <td>[6258, 6264, 6271, 6270, 6253, 6249, 747, 6259, 6272, 2887]</td>\n",
       "      <td>[6272, 747, 6258, 6264, 6253, 2887, 6259, 6270, 6249, 6271]</td>\n",
       "      <td>[5936, 5932, 17699, 17700, 5929, 17697, 5935, 5937, 5934, 17696]</td>\n",
       "    </tr>\n",
       "    <tr>\n",
       "      <th>4</th>\n",
       "      <td>01.19</td>\n",
       "      <td>[6285, 6295, 6288, 6298, 6273, 6284, 1384, 2891, 6283, 2894]</td>\n",
       "      <td>[6298, 6283, 1384, 2894, 6285, 6288, 2891, 6273, 6295, 6284]</td>\n",
       "      <td>[817, 8874, 18402, 8886, 18413, 8868, 1557, 8875, 8871, 18147]</td>\n",
       "    </tr>\n",
       "    <tr>\n",
       "      <th>...</th>\n",
       "      <td>...</td>\n",
       "      <td>...</td>\n",
       "      <td>...</td>\n",
       "      <td>...</td>\n",
       "    </tr>\n",
       "    <tr>\n",
       "      <th>222</th>\n",
       "      <td>95.29</td>\n",
       "      <td>[19303, 19288, 19297, 6018, 19317, 19255, 19260, 19307, 19284, 19290]</td>\n",
       "      <td>[19284, 19307, 19260, 19303, 19317, 6018, 19290, 19288, 19255, 19297]</td>\n",
       "      <td>[16924, 5395, 16909, 5396, 16919, 16922, 16921, 16929, 16916, 16925]</td>\n",
       "    </tr>\n",
       "    <tr>\n",
       "      <th>223</th>\n",
       "      <td>96.01</td>\n",
       "      <td>[19328, 19358, 19408, 19364, 19373, 19375, 19362, 19397, 19323, 19382]</td>\n",
       "      <td>[19382, 19358, 19328, 19364, 19362, 19373, 19323, 19397, 19408, 19375]</td>\n",
       "      <td>[7898, 18225, 18276, 18315, 7873, 18233, 18244, 18271, 18215, 18246]</td>\n",
       "    </tr>\n",
       "    <tr>\n",
       "      <th>224</th>\n",
       "      <td>96.02</td>\n",
       "      <td>[1353, 2818, 6025, 19415, 6027, 19414, 19410, 19411, 2817, 19412]</td>\n",
       "      <td>[19414, 6025, 2818, 19410, 19411, 1353, 2817, 6027, 19415, 19412]</td>\n",
       "      <td>[19136, 19167, 19169, 19176, 19128, 19161, 19173, 19157, 19174, 19156]</td>\n",
       "    </tr>\n",
       "    <tr>\n",
       "      <th>225</th>\n",
       "      <td>96.03</td>\n",
       "      <td>[19437, 19442, 19435, 19434, 19443, 6030, 19430, 19433, 19429, 19431]</td>\n",
       "      <td>[19434, 19435, 19442, 19430, 19431, 6030, 19437, 19429, 19443, 19433]</td>\n",
       "      <td>[3649, 10965, 10938, 11023, 18554, 10970, 10943, 10847, 10910, 10895]</td>\n",
       "    </tr>\n",
       "    <tr>\n",
       "      <th>226</th>\n",
       "      <td>96.09</td>\n",
       "      <td>[19456, 19462, 19450, 19453, 6033, 19449, 19460, 1356, 19452, 19446]</td>\n",
       "      <td>[19462, 6033, 19452, 19453, 19456, 19449, 19446, 19460, 19450, 1356]</td>\n",
       "      <td>[5552, 5549, 5547, 5553, 2627, 17163, 17162, 1214, 2626, 5546]</td>\n",
       "    </tr>\n",
       "  </tbody>\n",
       "</table>\n",
       "<p>227 rows × 4 columns</p>\n",
       "</div>"
      ],
      "text/plain": [
       "     group  \\\n",
       "0    01.11   \n",
       "1    01.13   \n",
       "2    01.15   \n",
       "3    01.16   \n",
       "4    01.19   \n",
       "..     ...   \n",
       "222  95.29   \n",
       "223  96.01   \n",
       "224  96.02   \n",
       "225  96.03   \n",
       "226  96.09   \n",
       "\n",
       "                                                                         id  \\\n",
       "0            [2854, 6119, 6069, 1364, 6156, 6164, 6071, 6073, 18539, 18538]   \n",
       "1              [2866, 6239, 2874, 6220, 1379, 6230, 1371, 6226, 1373, 1376]   \n",
       "2       [18177, 18165, 6248, 18166, 18178, 18171, 18168, 6245, 18169, 6246]   \n",
       "3               [6258, 6264, 6271, 6270, 6253, 6249, 747, 6259, 6272, 2887]   \n",
       "4              [6285, 6295, 6288, 6298, 6273, 6284, 1384, 2891, 6283, 2894]   \n",
       "..                                                                      ...   \n",
       "222   [19303, 19288, 19297, 6018, 19317, 19255, 19260, 19307, 19284, 19290]   \n",
       "223  [19328, 19358, 19408, 19364, 19373, 19375, 19362, 19397, 19323, 19382]   \n",
       "224       [1353, 2818, 6025, 19415, 6027, 19414, 19410, 19411, 2817, 19412]   \n",
       "225   [19437, 19442, 19435, 19434, 19443, 6030, 19430, 19433, 19429, 19431]   \n",
       "226    [19456, 19462, 19450, 19453, 6033, 19449, 19460, 1356, 19452, 19446]   \n",
       "\n",
       "                                                                      id_eq  \\\n",
       "0            [6073, 6069, 6156, 1364, 2854, 6071, 6119, 6164, 18539, 18538]   \n",
       "1              [1373, 6226, 1379, 1376, 1371, 2866, 2874, 6239, 6220, 6230]   \n",
       "2       [18178, 6248, 6246, 18168, 18169, 18166, 18177, 18165, 18171, 6245]   \n",
       "3               [6272, 747, 6258, 6264, 6253, 2887, 6259, 6270, 6249, 6271]   \n",
       "4              [6298, 6283, 1384, 2894, 6285, 6288, 2891, 6273, 6295, 6284]   \n",
       "..                                                                      ...   \n",
       "222   [19284, 19307, 19260, 19303, 19317, 6018, 19290, 19288, 19255, 19297]   \n",
       "223  [19382, 19358, 19328, 19364, 19362, 19373, 19323, 19397, 19408, 19375]   \n",
       "224       [19414, 6025, 2818, 19410, 19411, 1353, 2817, 6027, 19415, 19412]   \n",
       "225   [19434, 19435, 19442, 19430, 19431, 6030, 19437, 19429, 19443, 19433]   \n",
       "226    [19462, 6033, 19452, 19453, 19456, 19449, 19446, 19460, 19450, 1356]   \n",
       "\n",
       "                                                                     id_neq  \n",
       "0      [13661, 13650, 13632, 13640, 13648, 13637, 13651, 4246, 13642, 4247]  \n",
       "1         [993, 14907, 14908, 14892, 14900, 4612, 14897, 2149, 2150, 14906]  \n",
       "2      [12092, 12067, 12088, 12086, 3870, 12078, 12075, 12089, 3868, 12085]  \n",
       "3          [5936, 5932, 17699, 17700, 5929, 17697, 5935, 5937, 5934, 17696]  \n",
       "4            [817, 8874, 18402, 8886, 18413, 8868, 1557, 8875, 8871, 18147]  \n",
       "..                                                                      ...  \n",
       "222    [16924, 5395, 16909, 5396, 16919, 16922, 16921, 16929, 16916, 16925]  \n",
       "223    [7898, 18225, 18276, 18315, 7873, 18233, 18244, 18271, 18215, 18246]  \n",
       "224  [19136, 19167, 19169, 19176, 19128, 19161, 19173, 19157, 19174, 19156]  \n",
       "225   [3649, 10965, 10938, 11023, 18554, 10970, 10943, 10847, 10910, 10895]  \n",
       "226          [5552, 5549, 5547, 5553, 2627, 17163, 17162, 1214, 2626, 5546]  \n",
       "\n",
       "[227 rows x 4 columns]"
      ]
     },
     "execution_count": 13,
     "metadata": {},
     "output_type": "execute_result"
    }
   ],
   "source": [
    "# группа, описания, похожие описания, непохожие описания\n",
    "groups = groups.merge( groups_[['group','id_neq']], on=['group'] )\n",
    "groups"
   ]
  },
  {
   "cell_type": "code",
   "execution_count": 14,
   "metadata": {},
   "outputs": [
    {
     "name": "stdout",
     "output_type": "stream",
     "text": [
      "записей: 2 270\n"
     ]
    },
    {
     "data": {
      "text/html": [
       "<div>\n",
       "<style scoped>\n",
       "    .dataframe tbody tr th:only-of-type {\n",
       "        vertical-align: middle;\n",
       "    }\n",
       "\n",
       "    .dataframe tbody tr th {\n",
       "        vertical-align: top;\n",
       "    }\n",
       "\n",
       "    .dataframe thead th {\n",
       "        text-align: right;\n",
       "    }\n",
       "</style>\n",
       "<table border=\"1\" class=\"dataframe\">\n",
       "  <thead>\n",
       "    <tr style=\"text-align: right;\">\n",
       "      <th></th>\n",
       "      <th>id</th>\n",
       "      <th>id_eq</th>\n",
       "      <th>id_neq</th>\n",
       "    </tr>\n",
       "  </thead>\n",
       "  <tbody>\n",
       "    <tr>\n",
       "      <th>101</th>\n",
       "      <td>4037</td>\n",
       "      <td>1901</td>\n",
       "      <td>9622</td>\n",
       "    </tr>\n",
       "    <tr>\n",
       "      <th>220</th>\n",
       "      <td>1349</td>\n",
       "      <td>1349</td>\n",
       "      <td>14363</td>\n",
       "    </tr>\n",
       "    <tr>\n",
       "      <th>186</th>\n",
       "      <td>16746</td>\n",
       "      <td>16751</td>\n",
       "      <td>9602</td>\n",
       "    </tr>\n",
       "  </tbody>\n",
       "</table>\n",
       "</div>"
      ],
      "text/plain": [
       "        id  id_eq id_neq\n",
       "101   4037   1901   9622\n",
       "220   1349   1349  14363\n",
       "186  16746  16751   9602"
      ]
     },
     "execution_count": 14,
     "metadata": {},
     "output_type": "execute_result"
    }
   ],
   "source": [
    "# разворачиваем в список пар\n",
    "groups = pd.DataFrame({'id':groups['id'].explode(), \n",
    "              'id_eq':groups['id_eq'].explode(),\n",
    "              'id_neq':groups['id_neq'].explode()})\n",
    "ppr(groups)\n",
    "groups.sample(3)"
   ]
  },
  {
   "cell_type": "code",
   "execution_count": 15,
   "metadata": {},
   "outputs": [
    {
     "data": {
      "text/html": [
       "<div>\n",
       "<style scoped>\n",
       "    .dataframe tbody tr th:only-of-type {\n",
       "        vertical-align: middle;\n",
       "    }\n",
       "\n",
       "    .dataframe tbody tr th {\n",
       "        vertical-align: top;\n",
       "    }\n",
       "\n",
       "    .dataframe thead th {\n",
       "        text-align: right;\n",
       "    }\n",
       "</style>\n",
       "<table border=\"1\" class=\"dataframe\">\n",
       "  <thead>\n",
       "    <tr style=\"text-align: right;\">\n",
       "      <th></th>\n",
       "      <th>id_L</th>\n",
       "      <th>id_R</th>\n",
       "      <th>target</th>\n",
       "    </tr>\n",
       "  </thead>\n",
       "  <tbody>\n",
       "    <tr>\n",
       "      <th>13</th>\n",
       "      <td>7165</td>\n",
       "      <td>1443</td>\n",
       "      <td>1</td>\n",
       "    </tr>\n",
       "    <tr>\n",
       "      <th>155</th>\n",
       "      <td>2184</td>\n",
       "      <td>2183</td>\n",
       "      <td>1</td>\n",
       "    </tr>\n",
       "    <tr>\n",
       "      <th>58</th>\n",
       "      <td>1625</td>\n",
       "      <td>12134</td>\n",
       "      <td>0</td>\n",
       "    </tr>\n",
       "  </tbody>\n",
       "</table>\n",
       "</div>"
      ],
      "text/plain": [
       "     id_L   id_R  target\n",
       "13   7165   1443       1\n",
       "155  2184   2183       1\n",
       "58   1625  12134       0"
      ]
     },
     "execution_count": 15,
     "metadata": {},
     "output_type": "execute_result"
    }
   ],
   "source": [
    "# формируем датасет\n",
    "pair = groups[['id','id_eq']].rename(columns={'id':'id_L','id_eq':'id_R'})\n",
    "pair['target'] = 1\n",
    "pair = pd.concat([ pair, groups[['id','id_neq']]\\\n",
    "           .rename(columns={'id':'id_L','id_neq':'id_R'}) ])\\\n",
    "           .fillna(0).astype(int)\n",
    "\n",
    "pair.sample(3)"
   ]
  },
  {
   "cell_type": "code",
   "execution_count": 16,
   "metadata": {},
   "outputs": [],
   "source": [
    "%xdel groups\n",
    "%xdel groups_"
   ]
  },
  {
   "cell_type": "markdown",
   "metadata": {},
   "source": [
    "## очистка данных"
   ]
  },
  {
   "cell_type": "code",
   "execution_count": 17,
   "metadata": {},
   "outputs": [],
   "source": [
    "# data['ttext_clean'] = data['ttext']\\\n",
    "#     .progress_apply(lambda t:[ w.strip() for w in t.split() if w.strip() ] )\\\n",
    "#     .progress_apply(lambda t:[ re.sub(r'^http.*',' url ', w.strip() ) for w in t ] )\\\n",
    "#     .progress_apply(lambda t:[ re.sub(r'[:;]-*[)D]',' happysmile ', w.strip() )for w in t ])\\\n",
    "#     .progress_apply(lambda t:[ re.sub(r'\\)\\)\\)*',' happysmile ', w.strip() ) for w in t ])\\\n",
    "#     .progress_apply(lambda t:[ re.sub(r'[:;]\\*',' kisssmile ', w.strip() ) for w in t ])\\\n",
    "#     .progress_apply(lambda t:[ re.sub(r':\\(',' sadsmile ', w.strip() ) for w in t ])\\\n",
    "#     .progress_apply(lambda t:[ re.sub(r'\\(\\(\\(*',' sadsmile ', w.strip() ) for w in t ])"
   ]
  },
  {
   "cell_type": "code",
   "execution_count": 18,
   "metadata": {},
   "outputs": [],
   "source": [
    "# data['ttext_clean'] = [ ' '.join(s) for s in data['ttext_clean'] ]"
   ]
  },
  {
   "cell_type": "code",
   "execution_count": 19,
   "metadata": {},
   "outputs": [
    {
     "name": "stderr",
     "output_type": "stream",
     "text": [
      "100%|██████████| 9632/9632 [00:00<00:00, 140453.20it/s]\n",
      "100%|██████████| 9632/9632 [00:00<00:00, 729510.03it/s]\n",
      "100%|██████████| 9632/9632 [00:00<00:00, 393167.53it/s]\n",
      "100%|██████████| 9632/9632 [00:00<00:00, 456347.55it/s]\n",
      "100%|██████████| 9632/9632 [00:00<00:00, 114958.22it/s]\n"
     ]
    }
   ],
   "source": [
    "data['ttext_clean'] = data['Наименование'].str.lower()\\\n",
    "    .progress_apply(lambda s: re.sub( r'\\W', ' ', s))\\\n",
    "    .progress_apply(lambda s: re.sub( r'_', ' ', s))\\\n",
    "    .progress_apply(lambda s: re.sub( r'\\b\\d+\\b', ' digit ', s))\\\n",
    "    .progress_apply(lambda t:[ w.strip() for w in t.split() if w.strip() ] )\\\n",
    "    .progress_apply(lambda t: [w for w in t if not re.match( r'\\b.*\\d+.*\\b', w) ])"
   ]
  },
  {
   "cell_type": "code",
   "execution_count": 20,
   "metadata": {},
   "outputs": [
    {
     "data": {
      "text/html": [
       "<div>\n",
       "<style scoped>\n",
       "    .dataframe tbody tr th:only-of-type {\n",
       "        vertical-align: middle;\n",
       "    }\n",
       "\n",
       "    .dataframe tbody tr th {\n",
       "        vertical-align: top;\n",
       "    }\n",
       "\n",
       "    .dataframe thead th {\n",
       "        text-align: right;\n",
       "    }\n",
       "</style>\n",
       "<table border=\"1\" class=\"dataframe\">\n",
       "  <thead>\n",
       "    <tr style=\"text-align: right;\">\n",
       "      <th></th>\n",
       "      <th>id</th>\n",
       "      <th>group</th>\n",
       "      <th>Наименование</th>\n",
       "      <th>ttext_clean</th>\n",
       "    </tr>\n",
       "  </thead>\n",
       "  <tbody>\n",
       "    <tr>\n",
       "      <th>7593</th>\n",
       "      <td>15285</td>\n",
       "      <td>31.09</td>\n",
       "      <td>Стеллажи, стойки, вешалки металлические</td>\n",
       "      <td>[стеллажи, стойки, вешалки, металлические]</td>\n",
       "    </tr>\n",
       "    <tr>\n",
       "      <th>4150</th>\n",
       "      <td>8503</td>\n",
       "      <td>10.52</td>\n",
       "      <td>Мороженое кисломолочное с наполнителями и добавками в глазури</td>\n",
       "      <td>[мороженое, кисломолочное, с, наполнителями, и, добавками, в, глазури]</td>\n",
       "    </tr>\n",
       "    <tr>\n",
       "      <th>6440</th>\n",
       "      <td>12800</td>\n",
       "      <td>24.45</td>\n",
       "      <td>Германий и изделия из него, порошки</td>\n",
       "      <td>[германий, и, изделия, из, него, порошки]</td>\n",
       "    </tr>\n",
       "  </tbody>\n",
       "</table>\n",
       "</div>"
      ],
      "text/plain": [
       "         id  group  \\\n",
       "7593  15285  31.09   \n",
       "4150   8503  10.52   \n",
       "6440  12800  24.45   \n",
       "\n",
       "                                                       Наименование  \\\n",
       "7593                        Стеллажи, стойки, вешалки металлические   \n",
       "4150  Мороженое кисломолочное с наполнителями и добавками в глазури   \n",
       "6440                            Германий и изделия из него, порошки   \n",
       "\n",
       "                                                                 ttext_clean  \n",
       "7593                              [стеллажи, стойки, вешалки, металлические]  \n",
       "4150  [мороженое, кисломолочное, с, наполнителями, и, добавками, в, глазури]  \n",
       "6440                               [германий, и, изделия, из, него, порошки]  "
      ]
     },
     "execution_count": 20,
     "metadata": {},
     "output_type": "execute_result"
    }
   ],
   "source": [
    "data.sample(3)"
   ]
  },
  {
   "cell_type": "code",
   "execution_count": 21,
   "metadata": {},
   "outputs": [
    {
     "name": "stdout",
     "output_type": "stream",
     "text": [
      "записей: 9 632\n",
      "записей: 9 632\n"
     ]
    }
   ],
   "source": [
    "ppr(data)\n",
    "data = data[ data['ttext_clean'].str.len()>0 ].reset_index(drop=True) \n",
    "ppr(data)"
   ]
  },
  {
   "cell_type": "code",
   "execution_count": 22,
   "metadata": {},
   "outputs": [
    {
     "data": {
      "text/html": [
       "<div>\n",
       "<style scoped>\n",
       "    .dataframe tbody tr th:only-of-type {\n",
       "        vertical-align: middle;\n",
       "    }\n",
       "\n",
       "    .dataframe tbody tr th {\n",
       "        vertical-align: top;\n",
       "    }\n",
       "\n",
       "    .dataframe thead th {\n",
       "        text-align: right;\n",
       "    }\n",
       "</style>\n",
       "<table border=\"1\" class=\"dataframe\">\n",
       "  <thead>\n",
       "    <tr style=\"text-align: right;\">\n",
       "      <th></th>\n",
       "      <th>id</th>\n",
       "      <th>group</th>\n",
       "      <th>Наименование</th>\n",
       "      <th>ttext_clean</th>\n",
       "    </tr>\n",
       "  </thead>\n",
       "  <tbody>\n",
       "    <tr>\n",
       "      <th>375</th>\n",
       "      <td>1034</td>\n",
       "      <td>36.00</td>\n",
       "      <td>Вода природная; услуги по очистке воды и водоснабжению</td>\n",
       "      <td>[вода, природная, услуги, по, очистке, воды, и, водоснабжению]</td>\n",
       "    </tr>\n",
       "    <tr>\n",
       "      <th>5314</th>\n",
       "      <td>10394</td>\n",
       "      <td>16.24</td>\n",
       "      <td>Комплекты бочковые и бочки заливные</td>\n",
       "      <td>[комплекты, бочковые, и, бочки, заливные]</td>\n",
       "    </tr>\n",
       "    <tr>\n",
       "      <th>1946</th>\n",
       "      <td>4274</td>\n",
       "      <td>27.11</td>\n",
       "      <td>Электродвигатели переменного тока, многофазные, выходной мощностью более 75 кВт</td>\n",
       "      <td>[электродвигатели, переменного, тока, многофазные, выходной, мощностью, более, digit, квт]</td>\n",
       "    </tr>\n",
       "  </tbody>\n",
       "</table>\n",
       "</div>"
      ],
      "text/plain": [
       "         id  group  \\\n",
       "375    1034  36.00   \n",
       "5314  10394  16.24   \n",
       "1946   4274  27.11   \n",
       "\n",
       "                                                                         Наименование  \\\n",
       "375                            Вода природная; услуги по очистке воды и водоснабжению   \n",
       "5314                                              Комплекты бочковые и бочки заливные   \n",
       "1946  Электродвигатели переменного тока, многофазные, выходной мощностью более 75 кВт   \n",
       "\n",
       "                                                                                     ttext_clean  \n",
       "375                               [вода, природная, услуги, по, очистке, воды, и, водоснабжению]  \n",
       "5314                                                   [комплекты, бочковые, и, бочки, заливные]  \n",
       "1946  [электродвигатели, переменного, тока, многофазные, выходной, мощностью, более, digit, квт]  "
      ]
     },
     "execution_count": 22,
     "metadata": {},
     "output_type": "execute_result"
    }
   ],
   "source": [
    "data.sample(3)"
   ]
  },
  {
   "cell_type": "code",
   "execution_count": 23,
   "metadata": {},
   "outputs": [
    {
     "name": "stdout",
     "output_type": "stream",
     "text": [
      "записей: 9 976\n"
     ]
    }
   ],
   "source": [
    "words = sorted(set.union( *data['ttext_clean'].apply(set) ))\n",
    "voc = { w:i+1 for i,w in enumerate(words) }\n",
    "voc['<pad>']= 0\n",
    "ppr(voc)"
   ]
  },
  {
   "cell_type": "markdown",
   "metadata": {},
   "source": [
    "## кодируем слова"
   ]
  },
  {
   "cell_type": "code",
   "execution_count": 24,
   "metadata": {},
   "outputs": [
    {
     "name": "stderr",
     "output_type": "stream",
     "text": [
      "100%|██████████| 9632/9632 [00:00<00:00, 569015.57it/s]\n"
     ]
    }
   ],
   "source": [
    "data['code'] = data['ttext_clean'].progress_apply(lambda t: [ voc[w] for w in t] )"
   ]
  },
  {
   "cell_type": "code",
   "execution_count": 25,
   "metadata": {},
   "outputs": [
    {
     "data": {
      "text/html": [
       "<div>\n",
       "<style scoped>\n",
       "    .dataframe tbody tr th:only-of-type {\n",
       "        vertical-align: middle;\n",
       "    }\n",
       "\n",
       "    .dataframe tbody tr th {\n",
       "        vertical-align: top;\n",
       "    }\n",
       "\n",
       "    .dataframe thead th {\n",
       "        text-align: right;\n",
       "    }\n",
       "</style>\n",
       "<table border=\"1\" class=\"dataframe\">\n",
       "  <thead>\n",
       "    <tr style=\"text-align: right;\">\n",
       "      <th></th>\n",
       "      <th>ttext_clean</th>\n",
       "      <th>code</th>\n",
       "    </tr>\n",
       "  </thead>\n",
       "  <tbody>\n",
       "    <tr>\n",
       "      <th>7605</th>\n",
       "      <td>[гарнитуры, и, наборы, комплектной, мебели, деревянные, для, столовой, и, гостиной]</td>\n",
       "      <td>[1305, 2416, 4436, 3143, 3997, 1738, 1866, 8136, 2416, 1504]</td>\n",
       "    </tr>\n",
       "    <tr>\n",
       "      <th>8627</th>\n",
       "      <td>[жмых, и, остатки, пищевые, твердые, прочие, полученные, при, экстракции, подсолнечного, масла]</td>\n",
       "      <td>[2146, 2416, 5291, 5787, 8383, 6707, 6218, 6420, 9760, 6023, 3931]</td>\n",
       "    </tr>\n",
       "    <tr>\n",
       "      <th>8077</th>\n",
       "      <td>[сооружения, для, движения, водного, транспорта, по, рекам, и, каналам]</td>\n",
       "      <td>[7845, 1866, 1650, 963, 8663, 5911, 7117, 2416, 2744]</td>\n",
       "    </tr>\n",
       "  </tbody>\n",
       "</table>\n",
       "</div>"
      ],
      "text/plain": [
       "                                                                                          ttext_clean  \\\n",
       "7605              [гарнитуры, и, наборы, комплектной, мебели, деревянные, для, столовой, и, гостиной]   \n",
       "8627  [жмых, и, остатки, пищевые, твердые, прочие, полученные, при, экстракции, подсолнечного, масла]   \n",
       "8077                          [сооружения, для, движения, водного, транспорта, по, рекам, и, каналам]   \n",
       "\n",
       "                                                                    code  \n",
       "7605        [1305, 2416, 4436, 3143, 3997, 1738, 1866, 8136, 2416, 1504]  \n",
       "8627  [2146, 2416, 5291, 5787, 8383, 6707, 6218, 6420, 9760, 6023, 3931]  \n",
       "8077               [7845, 1866, 1650, 963, 8663, 5911, 7117, 2416, 2744]  "
      ]
     },
     "execution_count": 25,
     "metadata": {},
     "output_type": "execute_result"
    }
   ],
   "source": [
    "data[['ttext_clean','code']].sample(3)"
   ]
  },
  {
   "cell_type": "code",
   "execution_count": 26,
   "metadata": {},
   "outputs": [
    {
     "data": {
      "text/plain": [
       "count    9632\n",
       "mean        7\n",
       "std         2\n",
       "min         2\n",
       "25%         5\n",
       "50%         7\n",
       "75%         9\n",
       "max        16\n",
       "Name: code, dtype: int64"
      ]
     },
     "execution_count": 26,
     "metadata": {},
     "output_type": "execute_result"
    }
   ],
   "source": [
    "# оценка размеров последовательнистей\n",
    "data['code'].str.len().describe().astype(int)"
   ]
  },
  {
   "cell_type": "code",
   "execution_count": 27,
   "metadata": {},
   "outputs": [
    {
     "data": {
      "text/plain": [
       "<AxesSubplot:ylabel='Frequency'>"
      ]
     },
     "execution_count": 27,
     "metadata": {},
     "output_type": "execute_result"
    },
    {
     "data": {
      "image/png": "[encoded data removed]",
      "text/plain": [
       "<Figure size 432x288 with 1 Axes>"
      ]
     },
     "metadata": {
      "needs_background": "light"
     },
     "output_type": "display_data"
    }
   ],
   "source": [
    "data['code'].str.len().plot.hist()"
   ]
  },
  {
   "cell_type": "code",
   "execution_count": 28,
   "metadata": {},
   "outputs": [
    {
     "data": {
      "text/plain": [
       "16"
      ]
     },
     "execution_count": 28,
     "metadata": {},
     "output_type": "execute_result"
    }
   ],
   "source": [
    "# максимальная длина\n",
    "code_max_len = data['code'].str.len().max()\n",
    "code_max_len"
   ]
  },
  {
   "cell_type": "code",
   "execution_count": 29,
   "metadata": {},
   "outputs": [
    {
     "name": "stderr",
     "output_type": "stream",
     "text": [
      "100%|██████████| 9632/9632 [00:00<00:00, 132312.60it/s]\n"
     ]
    }
   ],
   "source": [
    "# дополняем короткие до максимальной длины\n",
    "z = [0]*code_max_len\n",
    "data['code'] = data['code'].progress_apply(lambda c: c+z[:(code_max_len-len(c))]  )"
   ]
  },
  {
   "cell_type": "code",
   "execution_count": 30,
   "metadata": {},
   "outputs": [
    {
     "data": {
      "text/plain": [
       "count    9632\n",
       "mean       16\n",
       "std         0\n",
       "min        16\n",
       "25%        16\n",
       "50%        16\n",
       "75%        16\n",
       "max        16\n",
       "Name: code, dtype: int64"
      ]
     },
     "execution_count": 30,
     "metadata": {},
     "output_type": "execute_result"
    }
   ],
   "source": [
    "data['code'].str.len().describe().astype(int)"
   ]
  },
  {
   "cell_type": "code",
   "execution_count": 31,
   "metadata": {},
   "outputs": [],
   "source": [
    "# data"
   ]
  },
  {
   "cell_type": "markdown",
   "metadata": {},
   "source": [
    "## строим датасет"
   ]
  },
  {
   "cell_type": "code",
   "execution_count": 32,
   "metadata": {},
   "outputs": [
    {
     "data": {
      "text/html": [
       "<div>\n",
       "<style scoped>\n",
       "    .dataframe tbody tr th:only-of-type {\n",
       "        vertical-align: middle;\n",
       "    }\n",
       "\n",
       "    .dataframe tbody tr th {\n",
       "        vertical-align: top;\n",
       "    }\n",
       "\n",
       "    .dataframe thead th {\n",
       "        text-align: right;\n",
       "    }\n",
       "</style>\n",
       "<table border=\"1\" class=\"dataframe\">\n",
       "  <thead>\n",
       "    <tr style=\"text-align: right;\">\n",
       "      <th></th>\n",
       "      <th>id_L</th>\n",
       "      <th>id_R</th>\n",
       "      <th>target</th>\n",
       "    </tr>\n",
       "  </thead>\n",
       "  <tbody>\n",
       "    <tr>\n",
       "      <th>0</th>\n",
       "      <td>2854</td>\n",
       "      <td>6073</td>\n",
       "      <td>1</td>\n",
       "    </tr>\n",
       "    <tr>\n",
       "      <th>0</th>\n",
       "      <td>6119</td>\n",
       "      <td>6069</td>\n",
       "      <td>1</td>\n",
       "    </tr>\n",
       "    <tr>\n",
       "      <th>0</th>\n",
       "      <td>6069</td>\n",
       "      <td>6156</td>\n",
       "      <td>1</td>\n",
       "    </tr>\n",
       "    <tr>\n",
       "      <th>0</th>\n",
       "      <td>1364</td>\n",
       "      <td>1364</td>\n",
       "      <td>1</td>\n",
       "    </tr>\n",
       "    <tr>\n",
       "      <th>0</th>\n",
       "      <td>6156</td>\n",
       "      <td>2854</td>\n",
       "      <td>1</td>\n",
       "    </tr>\n",
       "    <tr>\n",
       "      <th>...</th>\n",
       "      <td>...</td>\n",
       "      <td>...</td>\n",
       "      <td>...</td>\n",
       "    </tr>\n",
       "    <tr>\n",
       "      <th>226</th>\n",
       "      <td>19449</td>\n",
       "      <td>17163</td>\n",
       "      <td>0</td>\n",
       "    </tr>\n",
       "    <tr>\n",
       "      <th>226</th>\n",
       "      <td>19460</td>\n",
       "      <td>17162</td>\n",
       "      <td>0</td>\n",
       "    </tr>\n",
       "    <tr>\n",
       "      <th>226</th>\n",
       "      <td>1356</td>\n",
       "      <td>1214</td>\n",
       "      <td>0</td>\n",
       "    </tr>\n",
       "    <tr>\n",
       "      <th>226</th>\n",
       "      <td>19452</td>\n",
       "      <td>2626</td>\n",
       "      <td>0</td>\n",
       "    </tr>\n",
       "    <tr>\n",
       "      <th>226</th>\n",
       "      <td>19446</td>\n",
       "      <td>5546</td>\n",
       "      <td>0</td>\n",
       "    </tr>\n",
       "  </tbody>\n",
       "</table>\n",
       "<p>4540 rows × 3 columns</p>\n",
       "</div>"
      ],
      "text/plain": [
       "      id_L   id_R  target\n",
       "0     2854   6073       1\n",
       "0     6119   6069       1\n",
       "0     6069   6156       1\n",
       "0     1364   1364       1\n",
       "0     6156   2854       1\n",
       "..     ...    ...     ...\n",
       "226  19449  17163       0\n",
       "226  19460  17162       0\n",
       "226   1356   1214       0\n",
       "226  19452   2626       0\n",
       "226  19446   5546       0\n",
       "\n",
       "[4540 rows x 3 columns]"
      ]
     },
     "execution_count": 32,
     "metadata": {},
     "output_type": "execute_result"
    }
   ],
   "source": [
    "pair"
   ]
  },
  {
   "cell_type": "code",
   "execution_count": 33,
   "metadata": {},
   "outputs": [
    {
     "name": "stdout",
     "output_type": "stream",
     "text": [
      "записей: 4 540\n"
     ]
    },
    {
     "data": {
      "text/html": [
       "<div>\n",
       "<style scoped>\n",
       "    .dataframe tbody tr th:only-of-type {\n",
       "        vertical-align: middle;\n",
       "    }\n",
       "\n",
       "    .dataframe tbody tr th {\n",
       "        vertical-align: top;\n",
       "    }\n",
       "\n",
       "    .dataframe thead th {\n",
       "        text-align: right;\n",
       "    }\n",
       "</style>\n",
       "<table border=\"1\" class=\"dataframe\">\n",
       "  <thead>\n",
       "    <tr style=\"text-align: right;\">\n",
       "      <th></th>\n",
       "      <th>id_L</th>\n",
       "      <th>id_R</th>\n",
       "      <th>target</th>\n",
       "      <th>code_L</th>\n",
       "      <th>code_R</th>\n",
       "    </tr>\n",
       "  </thead>\n",
       "  <tbody>\n",
       "    <tr>\n",
       "      <th>644</th>\n",
       "      <td>7321</td>\n",
       "      <td>7327</td>\n",
       "      <td>1</td>\n",
       "      <td>[8835, 3054, 3920, 3515, 3051, 7673, 0, 0, 0, 0, 0, 0, 0, 0, 0, 0]</td>\n",
       "      <td>[8835, 3920, 3517, 3051, 7673, 4794, 0, 0, 0, 0, 0, 0, 0, 0, 0, 0]</td>\n",
       "    </tr>\n",
       "    <tr>\n",
       "      <th>1624</th>\n",
       "      <td>199</td>\n",
       "      <td>158</td>\n",
       "      <td>1</td>\n",
       "      <td>[7951, 5375, 3695, 6576, 0, 0, 0, 0, 0, 0, 0, 0, 0, 0, 0, 0]</td>\n",
       "      <td>[3696, 2461, 3449, 7456, 4, 6707, 0, 0, 0, 0, 0, 0, 0, 0, 0, 0]</td>\n",
       "    </tr>\n",
       "    <tr>\n",
       "      <th>3851</th>\n",
       "      <td>16164</td>\n",
       "      <td>16174</td>\n",
       "      <td>1</td>\n",
       "      <td>[8747, 3847, 4469, 2416, 5965, 1866, 5604, 4768, 2416, 1232, 0, 0, 0, 0, 0, 0]</td>\n",
       "      <td>[6818, 5911, 654, 975, 7629, 2515, 5370, 3083, 8696, 7935, 2880, 0, 0, 0, 0, 0]</td>\n",
       "    </tr>\n",
       "  </tbody>\n",
       "</table>\n",
       "</div>"
      ],
      "text/plain": [
       "       id_L   id_R  target  \\\n",
       "644    7321   7327       1   \n",
       "1624    199    158       1   \n",
       "3851  16164  16174       1   \n",
       "\n",
       "                                                                              code_L  \\\n",
       "644               [8835, 3054, 3920, 3515, 3051, 7673, 0, 0, 0, 0, 0, 0, 0, 0, 0, 0]   \n",
       "1624                    [7951, 5375, 3695, 6576, 0, 0, 0, 0, 0, 0, 0, 0, 0, 0, 0, 0]   \n",
       "3851  [8747, 3847, 4469, 2416, 5965, 1866, 5604, 4768, 2416, 1232, 0, 0, 0, 0, 0, 0]   \n",
       "\n",
       "                                                                               code_R  \n",
       "644                [8835, 3920, 3517, 3051, 7673, 4794, 0, 0, 0, 0, 0, 0, 0, 0, 0, 0]  \n",
       "1624                  [3696, 2461, 3449, 7456, 4, 6707, 0, 0, 0, 0, 0, 0, 0, 0, 0, 0]  \n",
       "3851  [6818, 5911, 654, 975, 7629, 2515, 5370, 3083, 8696, 7935, 2880, 0, 0, 0, 0, 0]  "
      ]
     },
     "execution_count": 33,
     "metadata": {},
     "output_type": "execute_result"
    }
   ],
   "source": [
    "dataset = pair\\\n",
    "  .merge(data[['id','code']].rename(columns={'id':'id_L','code':'code_L'}), on=['id_L'] )\\\n",
    "  .merge(data[['id','code']].rename(columns={'id':'id_R','code':'code_R'}), on=['id_R'] )\n",
    "ppr(dataset)\n",
    "dataset.sample(3)"
   ]
  },
  {
   "cell_type": "code",
   "execution_count": 34,
   "metadata": {},
   "outputs": [
    {
     "data": {
      "text/plain": [
       "((4540, 16), (4540, 16), (4540, 1))"
      ]
     },
     "execution_count": 34,
     "metadata": {},
     "output_type": "execute_result"
    }
   ],
   "source": [
    "x_left  = np.vstack(dataset['code_L'].values)\n",
    "x_right = np.vstack(dataset['code_R'].values)\n",
    "target  = np.vstack(dataset['target'].values)\n",
    "\n",
    "x_left.shape,x_right.shape,target.shape"
   ]
  },
  {
   "cell_type": "code",
   "execution_count": 35,
   "metadata": {},
   "outputs": [],
   "source": [
    "# размер вектора OHE для embeding слоя\n",
    "embed_input_dim = max([x_left.max(),x_right.max()]) + 1"
   ]
  },
  {
   "cell_type": "code",
   "execution_count": 36,
   "metadata": {},
   "outputs": [
    {
     "data": {
      "text/plain": [
       "((4540, 16), (4540, 16), (4540, 1), 9976)"
      ]
     },
     "execution_count": 36,
     "metadata": {},
     "output_type": "execute_result"
    }
   ],
   "source": [
    "x_left.shape, x_right.shape, target.shape, embed_input_dim"
   ]
  },
  {
   "cell_type": "code",
   "execution_count": 37,
   "metadata": {},
   "outputs": [],
   "source": [
    "# переворачиваем последовательности (нули дополнения вначале, первое слово в конце)\n",
    "x_left  = np.flip( x_left,  axis=1 )\n",
    "x_right = np.flip( x_right, axis=1 )"
   ]
  },
  {
   "cell_type": "code",
   "execution_count": 38,
   "metadata": {},
   "outputs": [
    {
     "data": {
      "text/plain": [
       "16"
      ]
     },
     "execution_count": 38,
     "metadata": {},
     "output_type": "execute_result"
    }
   ],
   "source": [
    "# длина последовательности слов \n",
    "seq_len = x_left.shape[1]\n",
    "seq_len"
   ]
  },
  {
   "cell_type": "code",
   "execution_count": 39,
   "metadata": {},
   "outputs": [],
   "source": [
    "from sklearn.model_selection import train_test_split\n",
    "from matplotlib import pyplot as plt"
   ]
  },
  {
   "cell_type": "code",
   "execution_count": 40,
   "metadata": {},
   "outputs": [
    {
     "data": {
      "text/plain": [
       "((2270, 32), (2270, 1), (2270, 32), (2270, 1))"
      ]
     },
     "execution_count": 40,
     "metadata": {},
     "output_type": "execute_result"
    }
   ],
   "source": [
    "# отделяем тестовый набор\n",
    "x_train, x_test, y_train, y_test = train_test_split( np.hstack([x_left,x_right]), target, test_size=.5)\n",
    "x_train.shape, y_train.shape, x_test.shape, y_test.shape"
   ]
  },
  {
   "cell_type": "code",
   "execution_count": 41,
   "metadata": {},
   "outputs": [
    {
     "data": {
      "text/plain": [
       "((2270, 16), (2270, 16), (2270,))"
      ]
     },
     "execution_count": 41,
     "metadata": {},
     "output_type": "execute_result"
    }
   ],
   "source": [
    "x_left_train, x_right_train = x_train[:,:seq_len],x_train[:,seq_len:]\n",
    "y_train = y_train.flatten()\n",
    "x_left_train.shape, x_right_train.shape, y_train.shape"
   ]
  },
  {
   "cell_type": "code",
   "execution_count": 42,
   "metadata": {},
   "outputs": [
    {
     "data": {
      "text/plain": [
       "((2270, 16), (2270, 16), (2270,))"
      ]
     },
     "execution_count": 42,
     "metadata": {},
     "output_type": "execute_result"
    }
   ],
   "source": [
    "x_left_test, x_right_test = x_test[:,:seq_len],x_test[:,seq_len:]\n",
    "y_test = y_test.flatten()\n",
    "x_left_test.shape, x_right_test.shape, y_test.shape"
   ]
  },
  {
   "cell_type": "code",
   "execution_count": 43,
   "metadata": {},
   "outputs": [],
   "source": [
    "# %xdel x_left\n",
    "# %xdel x_right\n",
    "# %xdel target"
   ]
  },
  {
   "cell_type": "code",
   "execution_count": 44,
   "metadata": {},
   "outputs": [],
   "source": [
    "# gc.collect()"
   ]
  },
  {
   "cell_type": "code",
   "execution_count": 45,
   "metadata": {},
   "outputs": [],
   "source": [
    "# y_train.sum()/len(y_train), y_test.sum()/len(y_test)"
   ]
  },
  {
   "cell_type": "markdown",
   "metadata": {},
   "source": [
    "## модель"
   ]
  },
  {
   "cell_type": "code",
   "execution_count": 46,
   "metadata": {},
   "outputs": [
    {
     "data": {
      "text/plain": [
       "(9976, 128, 16)"
      ]
     },
     "execution_count": 46,
     "metadata": {},
     "output_type": "execute_result"
    }
   ],
   "source": [
    "embed_len = 128\n",
    "embed_input_dim, embed_len, seq_len"
   ]
  },
  {
   "cell_type": "code",
   "execution_count": 47,
   "metadata": {},
   "outputs": [
    {
     "data": {
      "text/plain": [
       "('2.4.0', '2.4.0')"
      ]
     },
     "execution_count": 47,
     "metadata": {},
     "output_type": "execute_result"
    }
   ],
   "source": [
    "from tensorflow import __version__ as tf_version\n",
    "from tensorflow.keras import __version__ as keras_version\n",
    "tf_version,keras_version"
   ]
  },
  {
   "cell_type": "code",
   "execution_count": 48,
   "metadata": {},
   "outputs": [],
   "source": [
    "from tensorflow.keras.models import Model\n",
    "from tensorflow.keras.layers import Input\n",
    "from tensorflow.keras.layers import Embedding\n",
    "from tensorflow.keras.layers import LSTM\n",
    "from tensorflow.keras.layers import Dense\n",
    "from tensorflow.keras.layers import Lambda\n",
    "from tensorflow.keras.optimizers import Adam\n",
    "from tensorflow.keras import backend as K\n",
    "from tensorflow.keras.utils import plot_model\n",
    "# from tensorflow_addons.losses import contrastive_loss"
   ]
  },
  {
   "cell_type": "code",
   "execution_count": 49,
   "metadata": {},
   "outputs": [],
   "source": [
    "from tensorflow import cast\n",
    "\n",
    "def contrastive_loss(y, preds, margin=1):\n",
    "    y = cast(y, preds.dtype)\n",
    "    squaredMargin = K.square(K.maximum(margin - preds, 0))\n",
    "    return K.mean(y * K.square(preds) + (1 - y) * squaredMargin)"
   ]
  },
  {
   "cell_type": "markdown",
   "metadata": {},
   "source": [
    "$$\n",
    "y \\cdot p^2 + (1 - y) \\cdot ( 1-p ) ^2\n",
    "$$"
   ]
  },
  {
   "cell_type": "code",
   "execution_count": 50,
   "metadata": {},
   "outputs": [
    {
     "data": {
      "text/plain": [
       "[<matplotlib.lines.Line2D at 0x7f13b046bd30>]"
      ]
     },
     "execution_count": 50,
     "metadata": {},
     "output_type": "execute_result"
    },
    {
     "data": {
      "image/png": "[encoded data removed]",
      "text/plain": [
       "<Figure size 432x288 with 1 Axes>"
      ]
     },
     "metadata": {
      "needs_background": "light"
     },
     "output_type": "display_data"
    }
   ],
   "source": [
    "from matplotlib import pyplot as plt\n",
    "\n",
    "y = np.ones(10)\n",
    "p = np.linspace(0,1,10)\n",
    "\n",
    "# y = np.zeros(10)\n",
    "# p = np.linspace(1,0,10)\n",
    "\n",
    "plt.plot( y*(p**2) + (1-y)*((1-p)**2) )"
   ]
  },
  {
   "cell_type": "code",
   "execution_count": 51,
   "metadata": {},
   "outputs": [
    {
     "data": {
      "text/plain": [
       "(9976, 16, 128)"
      ]
     },
     "execution_count": 51,
     "metadata": {},
     "output_type": "execute_result"
    }
   ],
   "source": [
    "embed_input_dim,seq_len,embed_len"
   ]
  },
  {
   "cell_type": "code",
   "execution_count": 52,
   "metadata": {},
   "outputs": [
    {
     "name": "stdout",
     "output_type": "stream",
     "text": [
      "WARNING:tensorflow:Layer lstm will not use cuDNN kernel since it doesn't meet the cuDNN kernel criteria. It will use generic GPU kernel as fallback when running on GPU\n"
     ]
    }
   ],
   "source": [
    "embedding = Embedding(input_dim=embed_input_dim, input_length=seq_len, output_dim=embed_len, )\n",
    "lstm = LSTM(embed_len,activation='relu') "
   ]
  },
  {
   "cell_type": "code",
   "execution_count": 53,
   "metadata": {},
   "outputs": [],
   "source": [
    "# Конструирование левой ветви модели: \n",
    "input_l = Input( shape=(seq_len,), dtype='int32')\n",
    "embedding_l = embedding(input_l)\n",
    "lstm_l = lstm(embedding_l)"
   ]
  },
  {
   "cell_type": "code",
   "execution_count": 54,
   "metadata": {},
   "outputs": [],
   "source": [
    "# Конструирование правой ветви модели: \n",
    "input_r = Input(shape=(seq_len,), dtype='int32')\n",
    "embedding_r = embedding(input_r)\n",
    "lstm_r = lstm(embedding_r)"
   ]
  },
  {
   "cell_type": "code",
   "execution_count": 55,
   "metadata": {},
   "outputs": [],
   "source": [
    "# # Getting the L1 Distance between the 2 encodings\n",
    "merged = Lambda(lambda t:K.abs(t[0]-t[1]),name='L1_distance')([lstm_l,lstm_r])"
   ]
  },
  {
   "cell_type": "code",
   "execution_count": 56,
   "metadata": {},
   "outputs": [],
   "source": [
    "# классификатор\n",
    "predictions = Dense(1, activation='relu')(merged)"
   ]
  },
  {
   "cell_type": "code",
   "execution_count": 57,
   "metadata": {},
   "outputs": [],
   "source": [
    "# создаём модель\n",
    "model = Model([input_l,input_r], predictions )"
   ]
  },
  {
   "cell_type": "code",
   "execution_count": 58,
   "metadata": {
    "scrolled": true
   },
   "outputs": [
    {
     "data": {
      "image/png": "[encoded data removed]",
      "text/plain": [
       "<IPython.core.display.Image object>"
      ]
     },
     "execution_count": 58,
     "metadata": {},
     "output_type": "execute_result"
    }
   ],
   "source": [
    "plot_model(model,\n",
    "           #to_file=pjoin(FOLDER_RESULT,'model-embed-lstm.png'), \n",
    "           show_layer_names=True, show_shapes=True )\n",
    "# model.summary()"
   ]
  },
  {
   "cell_type": "code",
   "execution_count": 59,
   "metadata": {},
   "outputs": [],
   "source": [
    "learning_rate = 9e-3\n",
    "model.compile(loss=contrastive_loss, metrics=['acc',], optimizer=Adam(learning_rate))"
   ]
  },
  {
   "cell_type": "code",
   "execution_count": 60,
   "metadata": {},
   "outputs": [
    {
     "name": "stdout",
     "output_type": "stream",
     "text": [
      "Epoch 1/25\n",
      "1/1 [==============================] - 3s 3s/step - loss: 0.5021 - acc: 0.5022\n",
      "Epoch 2/25\n",
      "1/1 [==============================] - 0s 83ms/step - loss: 0.4516 - acc: 0.5022\n",
      "Epoch 3/25\n",
      "1/1 [==============================] - 0s 79ms/step - loss: 0.3572 - acc: 0.5022\n",
      "Epoch 4/25\n",
      "1/1 [==============================] - 0s 79ms/step - loss: 0.4012 - acc: 0.4013\n",
      "Epoch 5/25\n",
      "1/1 [==============================] - 0s 79ms/step - loss: 0.2274 - acc: 0.4454\n",
      "Epoch 6/25\n",
      "1/1 [==============================] - 0s 78ms/step - loss: 0.2313 - acc: 0.4744\n",
      "Epoch 7/25\n",
      "1/1 [==============================] - 0s 76ms/step - loss: 0.2047 - acc: 0.3802\n",
      "Epoch 8/25\n",
      "1/1 [==============================] - 0s 77ms/step - loss: 0.1604 - acc: 0.2661\n",
      "Epoch 9/25\n",
      "1/1 [==============================] - 0s 77ms/step - loss: 0.1234 - acc: 0.1749\n",
      "Epoch 10/25\n",
      "1/1 [==============================] - 0s 78ms/step - loss: 0.1134 - acc: 0.1374\n",
      "Epoch 11/25\n",
      "1/1 [==============================] - 0s 78ms/step - loss: 0.1144 - acc: 0.1317\n",
      "Epoch 12/25\n",
      "1/1 [==============================] - 0s 79ms/step - loss: 0.0997 - acc: 0.1097\n",
      "Epoch 13/25\n",
      "1/1 [==============================] - 0s 79ms/step - loss: 0.0809 - acc: 0.0824\n",
      "Epoch 14/25\n",
      "1/1 [==============================] - 0s 78ms/step - loss: 0.0684 - acc: 0.0564\n",
      "Epoch 15/25\n",
      "1/1 [==============================] - 0s 78ms/step - loss: 0.0615 - acc: 0.0441\n",
      "Epoch 16/25\n",
      "1/1 [==============================] - 0s 77ms/step - loss: 0.0576 - acc: 0.0322\n",
      "Epoch 17/25\n",
      "1/1 [==============================] - 0s 77ms/step - loss: 0.0551 - acc: 0.0282\n",
      "Epoch 18/25\n",
      "1/1 [==============================] - 0s 76ms/step - loss: 0.0529 - acc: 0.0256\n",
      "Epoch 19/25\n",
      "1/1 [==============================] - 0s 82ms/step - loss: 0.0504 - acc: 0.0220\n",
      "Epoch 20/25\n",
      "1/1 [==============================] - 0s 78ms/step - loss: 0.0473 - acc: 0.0189\n",
      "Epoch 21/25\n",
      "1/1 [==============================] - 0s 78ms/step - loss: 0.0438 - acc: 0.0172\n",
      "Epoch 22/25\n",
      "1/1 [==============================] - 0s 77ms/step - loss: 0.0400 - acc: 0.0141\n",
      "Epoch 23/25\n",
      "1/1 [==============================] - 0s 78ms/step - loss: 0.0365 - acc: 0.0123\n",
      "Epoch 24/25\n",
      "1/1 [==============================] - 0s 77ms/step - loss: 0.0333 - acc: 0.0110\n",
      "Epoch 25/25\n",
      "1/1 [==============================] - 0s 77ms/step - loss: 0.0307 - acc: 0.0097\n",
      "CPU times: user 4.8 s, sys: 183 ms, total: 4.98 s\n",
      "Wall time: 4.89 s\n"
     ]
    }
   ],
   "source": [
    "%%time\n",
    "\n",
    "n_epochs = 25\n",
    "\n",
    "history = model.fit( [x_left_train, x_right_train], y_train,\n",
    "           epochs = n_epochs,\n",
    "           batch_size = 4096,\n",
    "           # validation_split=.2,\n",
    "         )"
   ]
  },
  {
   "cell_type": "markdown",
   "metadata": {},
   "source": [
    "----"
   ]
  },
  {
   "cell_type": "code",
   "execution_count": 61,
   "metadata": {},
   "outputs": [
    {
     "data": {
      "image/png": "[encoded data removed]",
      "text/plain": [
       "<Figure size 432x288 with 1 Axes>"
      ]
     },
     "metadata": {
      "needs_background": "light"
     },
     "output_type": "display_data"
    }
   ],
   "source": [
    "plt.plot(history.history['loss'],label='train loss')\n",
    "# plt.plot(history.history['val_loss'],label='val loss')\n",
    "plt.legend()\n",
    "plt.grid()"
   ]
  },
  {
   "cell_type": "code",
   "execution_count": 62,
   "metadata": {},
   "outputs": [
    {
     "data": {
      "image/png": "[encoded data removed]",
      "text/plain": [
       "<Figure size 432x288 with 1 Axes>"
      ]
     },
     "metadata": {
      "needs_background": "light"
     },
     "output_type": "display_data"
    }
   ],
   "source": [
    "plt.plot( 1. - np.array(history.history['acc']), label='train acc')\n",
    "# plt.plot( np.array(history.history['val_acc']), label='val acc')\n",
    "plt.legend()\n",
    "plt.grid()"
   ]
  },
  {
   "cell_type": "code",
   "execution_count": 63,
   "metadata": {},
   "outputs": [],
   "source": [
    "# gc.collect()"
   ]
  },
  {
   "cell_type": "markdown",
   "metadata": {},
   "source": [
    "## тест"
   ]
  },
  {
   "cell_type": "code",
   "execution_count": 64,
   "metadata": {},
   "outputs": [],
   "source": [
    "# dataset.sample(2)"
   ]
  },
  {
   "cell_type": "code",
   "execution_count": 65,
   "metadata": {},
   "outputs": [],
   "source": [
    "dataset['dist'] = model.predict([x_left,x_right,])"
   ]
  },
  {
   "cell_type": "code",
   "execution_count": 66,
   "metadata": {},
   "outputs": [],
   "source": [
    "data_dist = dataset[['id_L','id_R','target','dist']]\\\n",
    "    .merge(data[['id','Наименование']].rename(columns={'id':'id_R','Наименование':'ttext_R'}),on='id_R')\\\n",
    "    .merge(data[['id','Наименование']].rename(columns={'id':'id_L','Наименование':'ttext_L'}),on='id_L')\\\n",
    "    [['ttext_L','ttext_R','dist']]\n",
    "# data_dist.sample(3)"
   ]
  },
  {
   "cell_type": "code",
   "execution_count": 67,
   "metadata": {},
   "outputs": [
    {
     "data": {
      "text/html": [
       "<div>\n",
       "<style scoped>\n",
       "    .dataframe tbody tr th:only-of-type {\n",
       "        vertical-align: middle;\n",
       "    }\n",
       "\n",
       "    .dataframe tbody tr th {\n",
       "        vertical-align: top;\n",
       "    }\n",
       "\n",
       "    .dataframe thead th {\n",
       "        text-align: right;\n",
       "    }\n",
       "</style>\n",
       "<table border=\"1\" class=\"dataframe\">\n",
       "  <thead>\n",
       "    <tr style=\"text-align: right;\">\n",
       "      <th></th>\n",
       "      <th>count</th>\n",
       "      <th>mean</th>\n",
       "      <th>std</th>\n",
       "      <th>min</th>\n",
       "      <th>25%</th>\n",
       "      <th>50%</th>\n",
       "      <th>75%</th>\n",
       "      <th>max</th>\n",
       "    </tr>\n",
       "  </thead>\n",
       "  <tbody>\n",
       "    <tr>\n",
       "      <th>dist</th>\n",
       "      <td>4540.0</td>\n",
       "      <td>0.700882</td>\n",
       "      <td>0.50953</td>\n",
       "      <td>0.056379</td>\n",
       "      <td>0.226269</td>\n",
       "      <td>0.63806</td>\n",
       "      <td>1.083852</td>\n",
       "      <td>2.442996</td>\n",
       "    </tr>\n",
       "  </tbody>\n",
       "</table>\n",
       "</div>"
      ],
      "text/plain": [
       "       count      mean      std       min       25%      50%       75%  \\\n",
       "dist  4540.0  0.700882  0.50953  0.056379  0.226269  0.63806  1.083852   \n",
       "\n",
       "           max  \n",
       "dist  2.442996  "
      ]
     },
     "execution_count": 67,
     "metadata": {},
     "output_type": "execute_result"
    }
   ],
   "source": [
    "data_dist[['dist']].describe().T"
   ]
  },
  {
   "cell_type": "code",
   "execution_count": 68,
   "metadata": {},
   "outputs": [
    {
     "data": {
      "text/html": [
       "<div>\n",
       "<style scoped>\n",
       "    .dataframe tbody tr th:only-of-type {\n",
       "        vertical-align: middle;\n",
       "    }\n",
       "\n",
       "    .dataframe tbody tr th {\n",
       "        vertical-align: top;\n",
       "    }\n",
       "\n",
       "    .dataframe thead th {\n",
       "        text-align: right;\n",
       "    }\n",
       "</style>\n",
       "<table border=\"1\" class=\"dataframe\">\n",
       "  <thead>\n",
       "    <tr style=\"text-align: right;\">\n",
       "      <th></th>\n",
       "      <th>ttext_L</th>\n",
       "      <th>ttext_R</th>\n",
       "      <th>dist</th>\n",
       "    </tr>\n",
       "  </thead>\n",
       "  <tbody>\n",
       "    <tr>\n",
       "      <th>1627</th>\n",
       "      <td>Услуги в области картографии, кроме услуг в области кадастровой деятельности</td>\n",
       "      <td>Услуги по инженерно-техническому проектированию зданий</td>\n",
       "      <td>0.204517</td>\n",
       "    </tr>\n",
       "    <tr>\n",
       "      <th>2646</th>\n",
       "      <td>Куртки мужские или для мальчиков из текстильных материалов, кроме трикотажных или вязаных</td>\n",
       "      <td>Пальто, полупальто мужские или для мальчиков трикотажные или вязаные</td>\n",
       "      <td>0.220851</td>\n",
       "    </tr>\n",
       "    <tr>\n",
       "      <th>1176</th>\n",
       "      <td>Услуги вспомогательные, связанные с космическим транспортом</td>\n",
       "      <td>Услуги по управлению воздушным движением</td>\n",
       "      <td>0.103882</td>\n",
       "    </tr>\n",
       "    <tr>\n",
       "      <th>1265</th>\n",
       "      <td>Подшипники качения роликовые с витыми роликами радиальные</td>\n",
       "      <td>Муфты механические управляемые</td>\n",
       "      <td>0.153323</td>\n",
       "    </tr>\n",
       "    <tr>\n",
       "      <th>3883</th>\n",
       "      <td>Услуги по ведению (восстановлению) бухгалтерского учета</td>\n",
       "      <td>Услуги по налоговому консультированию и подготовка налоговой документации для юридических лиц</td>\n",
       "      <td>0.261267</td>\n",
       "    </tr>\n",
       "  </tbody>\n",
       "</table>\n",
       "</div>"
      ],
      "text/plain": [
       "                                                                                        ttext_L  \\\n",
       "1627               Услуги в области картографии, кроме услуг в области кадастровой деятельности   \n",
       "2646  Куртки мужские или для мальчиков из текстильных материалов, кроме трикотажных или вязаных   \n",
       "1176                                Услуги вспомогательные, связанные с космическим транспортом   \n",
       "1265                                  Подшипники качения роликовые с витыми роликами радиальные   \n",
       "3883                                    Услуги по ведению (восстановлению) бухгалтерского учета   \n",
       "\n",
       "                                                                                            ttext_R  \\\n",
       "1627                                         Услуги по инженерно-техническому проектированию зданий   \n",
       "2646                           Пальто, полупальто мужские или для мальчиков трикотажные или вязаные   \n",
       "1176                                                       Услуги по управлению воздушным движением   \n",
       "1265                                                                 Муфты механические управляемые   \n",
       "3883  Услуги по налоговому консультированию и подготовка налоговой документации для юридических лиц   \n",
       "\n",
       "          dist  \n",
       "1627  0.204517  \n",
       "2646  0.220851  \n",
       "1176  0.103882  \n",
       "1265  0.153323  \n",
       "3883  0.261267  "
      ]
     },
     "execution_count": 68,
     "metadata": {},
     "output_type": "execute_result"
    }
   ],
   "source": [
    "# похожие тексты\n",
    "data_dist[ (data_dist['dist']<0.5) & (data_dist['ttext_L']!=data_dist['ttext_R']) ].sample(5)"
   ]
  },
  {
   "cell_type": "code",
   "execution_count": 69,
   "metadata": {},
   "outputs": [
    {
     "data": {
      "text/html": [
       "<div>\n",
       "<style scoped>\n",
       "    .dataframe tbody tr th:only-of-type {\n",
       "        vertical-align: middle;\n",
       "    }\n",
       "\n",
       "    .dataframe tbody tr th {\n",
       "        vertical-align: top;\n",
       "    }\n",
       "\n",
       "    .dataframe thead th {\n",
       "        text-align: right;\n",
       "    }\n",
       "</style>\n",
       "<table border=\"1\" class=\"dataframe\">\n",
       "  <thead>\n",
       "    <tr style=\"text-align: right;\">\n",
       "      <th></th>\n",
       "      <th>ttext_L</th>\n",
       "      <th>ttext_R</th>\n",
       "      <th>dist</th>\n",
       "    </tr>\n",
       "  </thead>\n",
       "  <tbody>\n",
       "    <tr>\n",
       "      <th>741</th>\n",
       "      <td>Продукты пищевые прочие, содержащие какао (кроме подслащенного какао-порошка), в неупакованном виде</td>\n",
       "      <td>Работы по установке строительных лесов и подмостей</td>\n",
       "      <td>1.084550</td>\n",
       "    </tr>\n",
       "    <tr>\n",
       "      <th>2333</th>\n",
       "      <td>Краски на основе сложных полиэфиров, акриловых или виниловых полимеров в неводной среде</td>\n",
       "      <td>Резервуары, цистерны, баки и аналогичные емкости пластмассовые вместимостью свыше 300 л</td>\n",
       "      <td>1.140303</td>\n",
       "    </tr>\n",
       "    <tr>\n",
       "      <th>447</th>\n",
       "      <td>Резервуары, цистерны и аналогичные емкости из металлов прочие</td>\n",
       "      <td>Полотно железнодорожное для подземных или надземных городских систем скоростного транспорта</td>\n",
       "      <td>0.940312</td>\n",
       "    </tr>\n",
       "    <tr>\n",
       "      <th>1595</th>\n",
       "      <td>Жмых и прочие остатки пищевые твердые, полученные при экстракции сурепного масла</td>\n",
       "      <td>Табло световые и аналогичные устройства</td>\n",
       "      <td>0.675673</td>\n",
       "    </tr>\n",
       "    <tr>\n",
       "      <th>4093</th>\n",
       "      <td>Услуги, оказываемые средним медицинским персоналом центров реабилитации</td>\n",
       "      <td>Услуги по страхованию автотранспортных средств</td>\n",
       "      <td>0.956607</td>\n",
       "    </tr>\n",
       "  </tbody>\n",
       "</table>\n",
       "</div>"
      ],
      "text/plain": [
       "                                                                                                  ttext_L  \\\n",
       "741   Продукты пищевые прочие, содержащие какао (кроме подслащенного какао-порошка), в неупакованном виде   \n",
       "2333              Краски на основе сложных полиэфиров, акриловых или виниловых полимеров в неводной среде   \n",
       "447                                         Резервуары, цистерны и аналогичные емкости из металлов прочие   \n",
       "1595                     Жмых и прочие остатки пищевые твердые, полученные при экстракции сурепного масла   \n",
       "4093                              Услуги, оказываемые средним медицинским персоналом центров реабилитации   \n",
       "\n",
       "                                                                                          ttext_R  \\\n",
       "741                                            Работы по установке строительных лесов и подмостей   \n",
       "2333      Резервуары, цистерны, баки и аналогичные емкости пластмассовые вместимостью свыше 300 л   \n",
       "447   Полотно железнодорожное для подземных или надземных городских систем скоростного транспорта   \n",
       "1595                                                      Табло световые и аналогичные устройства   \n",
       "4093                                               Услуги по страхованию автотранспортных средств   \n",
       "\n",
       "          dist  \n",
       "741   1.084550  \n",
       "2333  1.140303  \n",
       "447   0.940312  \n",
       "1595  0.675673  \n",
       "4093  0.956607  "
      ]
     },
     "execution_count": 69,
     "metadata": {},
     "output_type": "execute_result"
    }
   ],
   "source": [
    "# НЕпохожие тексты\n",
    "data_dist[ (data_dist['dist']>0.5) & (data_dist['ttext_L']!=data_dist['ttext_R']) ].sample(5)"
   ]
  },
  {
   "cell_type": "code",
   "execution_count": null,
   "metadata": {},
   "outputs": [],
   "source": []
  }
 ],
 "metadata": {
  "kernelspec": {
   "display_name": "Python 3",
   "language": "python",
   "name": "python3"
  },
  "language_info": {
   "codemirror_mode": {
    "name": "ipython",
    "version": 3
   },
   "file_extension": ".py",
   "mimetype": "text/x-python",
   "name": "python",
   "nbconvert_exporter": "python",
   "pygments_lexer": "ipython3",
   "version": "3.9.0"
  },
  "toc": {
   "base_numbering": 1,
   "nav_menu": {},
   "number_sections": true,
   "sideBar": true,
   "skip_h1_title": false,
   "title_cell": "Table of Contents",
   "title_sidebar": "Contents",
   "toc_cell": false,
   "toc_position": {},
   "toc_section_display": "block",
   "toc_window_display": false
  }
 },
 "nbformat": 4,
 "nbformat_minor": 4
}
