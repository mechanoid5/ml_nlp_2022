{
 "cells": [
  {
   "cell_type": "markdown",
   "metadata": {},
   "source": [
    "__Нейросетевая языковая модель__\n",
    "\n",
    "Евгений Борисов <esborisov@sevsu.ru>\n",
    "\n",
    "charCNN-LSTM\n",
    "\n",
    "генерирует следующий символ по предыдущим"
   ]
  },
  {
   "cell_type": "code",
   "execution_count": 1,
   "metadata": {},
   "outputs": [],
   "source": [
    "import gzip\n",
    "import re\n",
    "import numpy as np\n",
    "from numpy import random as rng\n",
    "import pandas as pd\n",
    "from tqdm import tqdm\n",
    "from os.path import join as pjoin"
   ]
  },
  {
   "cell_type": "code",
   "execution_count": 2,
   "metadata": {},
   "outputs": [],
   "source": [
    "# from utils.helpers import ppr\n",
    "# from utils.helpers import replace_patterns"
   ]
  },
  {
   "cell_type": "code",
   "execution_count": 3,
   "metadata": {},
   "outputs": [],
   "source": [
    "def ppr(df): return print(len(df))\n",
    "\n",
    "def replace_patterns(s,pat):\n",
    "    if len(pat)<1: return s\n",
    "    return  replace_patterns( re.sub(pat[0][0],pat[0][1],s), pat[1:] )"
   ]
  },
  {
   "cell_type": "code",
   "execution_count": 4,
   "metadata": {},
   "outputs": [],
   "source": [
    "np.set_printoptions(precision=2) # вывод на печать чисел до 2 знака\n",
    "pd.options.display.max_colwidth=200 \n",
    "\n",
    "tqdm.pandas()"
   ]
  },
  {
   "cell_type": "code",
   "execution_count": 5,
   "metadata": {},
   "outputs": [],
   "source": [
    "FOLDER_RESULT='result'"
   ]
  },
  {
   "cell_type": "code",
   "execution_count": 6,
   "metadata": {},
   "outputs": [
    {
     "name": "stdout",
     "output_type": "stream",
     "text": [
      "mkdir: невозможно создать каталог «result»: Файл существует\r\n"
     ]
    }
   ],
   "source": [
    "!mkdir result"
   ]
  },
  {
   "cell_type": "markdown",
   "metadata": {},
   "source": [
    "## загружаем данные"
   ]
  },
  {
   "cell_type": "code",
   "execution_count": 8,
   "metadata": {},
   "outputs": [
    {
     "name": "stdout",
     "output_type": "stream",
     "text": [
      "465595\n"
     ]
    }
   ],
   "source": [
    "FILE_DATA = '../data/dostoevsky-besy-p2.txt.gz'\n",
    "with gzip.open(FILE_DATA,'rt',encoding='utf-8') as f: text = f.read()     \n",
    "ppr(text)    "
   ]
  },
  {
   "cell_type": "code",
   "execution_count": 9,
   "metadata": {},
   "outputs": [
    {
     "name": "stdout",
     "output_type": "stream",
     "text": [
      "БЕСЫ\n",
      "\n",
      "Федор Михайлович Достоевский\n",
      "\n",
      "\n",
      "\n",
      "\n",
      "\n",
      "ЧАСТЬ ВТОРАЯ\n",
      "\n",
      "\n",
      "\n",
      "ГЛАВА ПЕРВАЯ\n",
      "\n",
      "\n",
      "\n",
      "Ночь\n",
      "\n",
      "\n",
      "\n",
      "I\n",
      "\n",
      "\n",
      "\n",
      "Прошло восемь дней. Теперь, когда уже все прошло, и я пишу хронику, мы уже знаем в чем дело; но тогда мы еще ничего...\n"
     ]
    }
   ],
   "source": [
    "print(text[:200]+'...')"
   ]
  },
  {
   "cell_type": "code",
   "execution_count": 10,
   "metadata": {},
   "outputs": [
    {
     "data": {
      "text/html": [
       "<div>\n",
       "<style scoped>\n",
       "    .dataframe tbody tr th:only-of-type {\n",
       "        vertical-align: middle;\n",
       "    }\n",
       "\n",
       "    .dataframe tbody tr th {\n",
       "        vertical-align: top;\n",
       "    }\n",
       "\n",
       "    .dataframe thead th {\n",
       "        text-align: right;\n",
       "    }\n",
       "</style>\n",
       "<table border=\"1\" class=\"dataframe\">\n",
       "  <thead>\n",
       "    <tr style=\"text-align: right;\">\n",
       "      <th></th>\n",
       "      <th>line</th>\n",
       "    </tr>\n",
       "  </thead>\n",
       "  <tbody>\n",
       "    <tr>\n",
       "      <th>0</th>\n",
       "      <td>БЕСЫ</td>\n",
       "    </tr>\n",
       "    <tr>\n",
       "      <th>1</th>\n",
       "      <td>Федор Михайлович Достоевский</td>\n",
       "    </tr>\n",
       "    <tr>\n",
       "      <th>2</th>\n",
       "      <td>ЧАСТЬ ВТОРАЯ</td>\n",
       "    </tr>\n",
       "    <tr>\n",
       "      <th>3</th>\n",
       "      <td>ГЛАВА ПЕРВАЯ</td>\n",
       "    </tr>\n",
       "    <tr>\n",
       "      <th>4</th>\n",
       "      <td>Ночь</td>\n",
       "    </tr>\n",
       "    <tr>\n",
       "      <th>5</th>\n",
       "      <td>I</td>\n",
       "    </tr>\n",
       "    <tr>\n",
       "      <th>6</th>\n",
       "      <td>Прошло восемь дней.</td>\n",
       "    </tr>\n",
       "    <tr>\n",
       "      <th>7</th>\n",
       "      <td>Теперь, когда уже все прошло, и я пишу хронику, мы уже знаем в чем дело;</td>\n",
       "    </tr>\n",
       "    <tr>\n",
       "      <th>8</th>\n",
       "      <td>но тогда мы еще ничего не знали, и естественно, что нам представлялись странными разные вещи.</td>\n",
       "    </tr>\n",
       "    <tr>\n",
       "      <th>9</th>\n",
       "      <td>По крайней мере мы со Степаном Трофимовичем в первое время заперлись и с испугом наблюдали издали.</td>\n",
       "    </tr>\n",
       "    <tr>\n",
       "      <th>10</th>\n",
       "      <td>Я-то кой-куда еще выходил и по-прежнему приносил ему разные вести, без чего он и пробыть не мог.</td>\n",
       "    </tr>\n",
       "    <tr>\n",
       "      <th>11</th>\n",
       "      <td>Нечего и говорить, что по городу пошли самые разнообразные слухи, то-есть насчет пощечины, обморока Лизаветы Николаевны и прочего случившегося в то воскресенье.</td>\n",
       "    </tr>\n",
       "    <tr>\n",
       "      <th>12</th>\n",
       "      <td>Но удивительно нам было то: через кого это все могло так скоро и точно выйти наружу?</td>\n",
       "    </tr>\n",
       "    <tr>\n",
       "      <th>13</th>\n",
       "      <td>Ни одно из присутствовавших тогда лиц не имело бы, кажется, ни нужды, ни выгоды нарушить секрет происшедшего.</td>\n",
       "    </tr>\n",
       "    <tr>\n",
       "      <th>14</th>\n",
       "      <td>Прислуги тогда не было;</td>\n",
       "    </tr>\n",
       "    <tr>\n",
       "      <th>15</th>\n",
       "      <td>один Лебядкин мог бы что-нибудь разболтать, не столько по злобе, потому что вышел тогда в крайнем испуге (а страх к врагу уничтожает и злобу к нему), а единственно по невоздержности.</td>\n",
       "    </tr>\n",
       "    <tr>\n",
       "      <th>16</th>\n",
       "      <td>Но Лебядкин, вместе с сестрицей, на другой же день пропал без вести;</td>\n",
       "    </tr>\n",
       "    <tr>\n",
       "      <th>17</th>\n",
       "      <td>в доме Филиппова его не оказалось, он переехал неизвестно куда и точно сгинул.</td>\n",
       "    </tr>\n",
       "    <tr>\n",
       "      <th>18</th>\n",
       "      <td>Шатов, у которого я хотел было справиться о Марье Тимофеевне, заперся и, кажется, все эти восемь дней просидел у себя на квартире, даже прервав свои занятия в городе.</td>\n",
       "    </tr>\n",
       "    <tr>\n",
       "      <th>19</th>\n",
       "      <td>Меня он не принял.</td>\n",
       "    </tr>\n",
       "    <tr>\n",
       "      <th>20</th>\n",
       "      <td>Я было зашел к нему во вторник и стукнул в дверь.</td>\n",
       "    </tr>\n",
       "    <tr>\n",
       "      <th>21</th>\n",
       "      <td>Ответа не получил, но уверенный, по несомненным данным, что он дома, постучался в другой раз.</td>\n",
       "    </tr>\n",
       "    <tr>\n",
       "      <th>22</th>\n",
       "      <td>Тогда он, соскочив по-видимому с постели, подошел крупными шагами к дверям и крикнул мне во весь голос: \"Шатова дома нет\".</td>\n",
       "    </tr>\n",
       "    <tr>\n",
       "      <th>23</th>\n",
       "      <td>Я с тем и ушел.</td>\n",
       "    </tr>\n",
       "    <tr>\n",
       "      <th>24</th>\n",
       "      <td>Мы со Степаном Трофимовичем, не без страха за смелость предположения, но обоюдно ободряя друг друга, остановились наконец на одной мысли: мы решили, что виновником разошедшихся слухов мог быть оди...</td>\n",
       "    </tr>\n",
       "    <tr>\n",
       "      <th>25</th>\n",
       "      <td>Вот что еще замечательно: на второй же день, в понедельник ввечеру, я встретил Липутина, и он уже знал все до последнего слова, стало быть, несомненно узнал из первых.</td>\n",
       "    </tr>\n",
       "    <tr>\n",
       "      <th>26</th>\n",
       "      <td>Многие из дам (и из самых светских) любопытствовали и о \"загадочной хромоножке\", так называли Марью Тимофеевну.</td>\n",
       "    </tr>\n",
       "    <tr>\n",
       "      <th>27</th>\n",
       "      <td>Нашлись даже пожелавшие непременно увидать ее лично и познакомиться, так что господа, поспешившие припрятать Лебядкиных, очевидно поступили и кстати.</td>\n",
       "    </tr>\n",
       "    <tr>\n",
       "      <th>28</th>\n",
       "      <td>Но на первом плане все-таки стоял обморок Лизаветы Николаевны, и этим интересовался \"весь свет\", уже по тому одному, что дело прямо касалось Юлии Михайловны как родственницы Лизаветы Николаевны и...</td>\n",
       "    </tr>\n",
       "    <tr>\n",
       "      <th>29</th>\n",
       "      <td>И чего-чего ни болтали!</td>\n",
       "    </tr>\n",
       "  </tbody>\n",
       "</table>\n",
       "</div>"
      ],
      "text/plain": [
       "                                                                                                                                                                                                       line\n",
       "0                                                                                                                                                                                                      БЕСЫ\n",
       "1                                                                                                                                                                              Федор Михайлович Достоевский\n",
       "2                                                                                                                                                                                              ЧАСТЬ ВТОРАЯ\n",
       "3                                                                                                                                                                                              ГЛАВА ПЕРВАЯ\n",
       "4                                                                                                                                                                                                      Ночь\n",
       "5                                                                                                                                                                                                         I\n",
       "6                                                                                                                                                                                       Прошло восемь дней.\n",
       "7                                                                                                                                  Теперь, когда уже все прошло, и я пишу хронику, мы уже знаем в чем дело;\n",
       "8                                                                                                             но тогда мы еще ничего не знали, и естественно, что нам представлялись странными разные вещи.\n",
       "9                                                                                                        По крайней мере мы со Степаном Трофимовичем в первое время заперлись и с испугом наблюдали издали.\n",
       "10                                                                                                         Я-то кой-куда еще выходил и по-прежнему приносил ему разные вести, без чего он и пробыть не мог.\n",
       "11                                         Нечего и говорить, что по городу пошли самые разнообразные слухи, то-есть насчет пощечины, обморока Лизаветы Николаевны и прочего случившегося в то воскресенье.\n",
       "12                                                                                                                     Но удивительно нам было то: через кого это все могло так скоро и точно выйти наружу?\n",
       "13                                                                                            Ни одно из присутствовавших тогда лиц не имело бы, кажется, ни нужды, ни выгоды нарушить секрет происшедшего.\n",
       "14                                                                                                                                                                                  Прислуги тогда не было;\n",
       "15                   один Лебядкин мог бы что-нибудь разболтать, не столько по злобе, потому что вышел тогда в крайнем испуге (а страх к врагу уничтожает и злобу к нему), а единственно по невоздержности.\n",
       "16                                                                                                                                     Но Лебядкин, вместе с сестрицей, на другой же день пропал без вести;\n",
       "17                                                                                                                           в доме Филиппова его не оказалось, он переехал неизвестно куда и точно сгинул.\n",
       "18                                   Шатов, у которого я хотел было справиться о Марье Тимофеевне, заперся и, кажется, все эти восемь дней просидел у себя на квартире, даже прервав свои занятия в городе.\n",
       "19                                                                                                                                                                                       Меня он не принял.\n",
       "20                                                                                                                                                        Я было зашел к нему во вторник и стукнул в дверь.\n",
       "21                                                                                                            Ответа не получил, но уверенный, по несомненным данным, что он дома, постучался в другой раз.\n",
       "22                                                                               Тогда он, соскочив по-видимому с постели, подошел крупными шагами к дверям и крикнул мне во весь голос: \"Шатова дома нет\".\n",
       "23                                                                                                                                                                                          Я с тем и ушел.\n",
       "24  Мы со Степаном Трофимовичем, не без страха за смелость предположения, но обоюдно ободряя друг друга, остановились наконец на одной мысли: мы решили, что виновником разошедшихся слухов мог быть оди...\n",
       "25                                  Вот что еще замечательно: на второй же день, в понедельник ввечеру, я встретил Липутина, и он уже знал все до последнего слова, стало быть, несомненно узнал из первых.\n",
       "26                                                                                          Многие из дам (и из самых светских) любопытствовали и о \"загадочной хромоножке\", так называли Марью Тимофеевну.\n",
       "27                                                    Нашлись даже пожелавшие непременно увидать ее лично и познакомиться, так что господа, поспешившие припрятать Лебядкиных, очевидно поступили и кстати.\n",
       "28   Но на первом плане все-таки стоял обморок Лизаветы Николаевны, и этим интересовался \"весь свет\", уже по тому одному, что дело прямо касалось Юлии Михайловны как родственницы Лизаветы Николаевны и...\n",
       "29                                                                                                                                                                                  И чего-чего ни болтали!"
      ]
     },
     "execution_count": 10,
     "metadata": {},
     "output_type": "execute_result"
    }
   ],
   "source": [
    "pat = [\n",
    "    [r'([\\.!\\?;]+)',r'\\1\\n'],\n",
    "    ['\\n+','\\n'],\n",
    "]\n",
    "\n",
    "data = pd.DataFrame({'line':replace_patterns(text,pat).split('\\n')})\n",
    "data.head(30)"
   ]
  },
  {
   "cell_type": "code",
   "execution_count": 11,
   "metadata": {},
   "outputs": [],
   "source": [
    "data = data.iloc[6:]"
   ]
  },
  {
   "cell_type": "code",
   "execution_count": 12,
   "metadata": {},
   "outputs": [
    {
     "data": {
      "text/plain": [
       "count    6828\n",
       "mean       66\n",
       "std        59\n",
       "min         0\n",
       "25%        26\n",
       "50%        49\n",
       "75%        89\n",
       "max       584\n",
       "Name: line, dtype: int64"
      ]
     },
     "execution_count": 12,
     "metadata": {},
     "output_type": "execute_result"
    }
   ],
   "source": [
    "data['line'] = data['line'].str.strip()\n",
    "data['line'].str.len().describe().astype(int)"
   ]
  },
  {
   "cell_type": "code",
   "execution_count": 13,
   "metadata": {},
   "outputs": [
    {
     "name": "stdout",
     "output_type": "stream",
     "text": [
      "6828\n",
      "6827\n"
     ]
    }
   ],
   "source": [
    "ppr(data)\n",
    "data = data[ data['line'].str.len()>0 ] \n",
    "ppr(data)"
   ]
  },
  {
   "cell_type": "code",
   "execution_count": 14,
   "metadata": {},
   "outputs": [],
   "source": [
    "# data[data['line'].str.len()<1]"
   ]
  },
  {
   "cell_type": "markdown",
   "metadata": {},
   "source": [
    "## очистка данных"
   ]
  },
  {
   "cell_type": "code",
   "execution_count": 15,
   "metadata": {},
   "outputs": [],
   "source": [
    "def tokenize(s): \n",
    "    return [ w.strip() for w in re.split(r'\\b| ',s) if w.strip() ]"
   ]
  },
  {
   "cell_type": "code",
   "execution_count": 16,
   "metadata": {},
   "outputs": [
    {
     "name": "stderr",
     "output_type": "stream",
     "text": [
      "100%|██████████████████████████████████████████████████████████████████████████████████████████████████████████████████████████████████████████████████████████████████████████████████████████████████| 6827/6827 [00:00<00:00, 54850.66it/s]\n",
      "100%|██████████████████████████████████████████████████████████████████████████████████████████████████████████████████████████████████████████████████████████████████████████████████████████████████| 6827/6827 [00:00<00:00, 82072.48it/s]\n"
     ]
    }
   ],
   "source": [
    "pat = [\n",
    "    [r'\"|\\'',' '],\n",
    "    [r'\\(|\\)',','],\n",
    "    ['\\d+','D'],\n",
    "    ['[a-z•^]+',' '],\n",
    "    ['\\n',' '],\n",
    "    [',',' , '],\n",
    "    ['-',' - '],\n",
    "    [r' +',' ',],\n",
    "]\n",
    "\n",
    "data['line'] = data['line']\\\n",
    "    .progress_apply(lambda s: replace_patterns(s.lower(),pat).strip() )\\\n",
    "    .progress_apply(tokenize) "
   ]
  },
  {
   "cell_type": "code",
   "execution_count": 17,
   "metadata": {},
   "outputs": [],
   "source": [
    "%xdel text"
   ]
  },
  {
   "cell_type": "code",
   "execution_count": 18,
   "metadata": {},
   "outputs": [
    {
     "name": "stdout",
     "output_type": "stream",
     "text": [
      "6827\n"
     ]
    },
    {
     "data": {
      "text/html": [
       "<div>\n",
       "<style scoped>\n",
       "    .dataframe tbody tr th:only-of-type {\n",
       "        vertical-align: middle;\n",
       "    }\n",
       "\n",
       "    .dataframe tbody tr th {\n",
       "        vertical-align: top;\n",
       "    }\n",
       "\n",
       "    .dataframe thead th {\n",
       "        text-align: right;\n",
       "    }\n",
       "</style>\n",
       "<table border=\"1\" class=\"dataframe\">\n",
       "  <thead>\n",
       "    <tr style=\"text-align: right;\">\n",
       "      <th></th>\n",
       "      <th>line</th>\n",
       "    </tr>\n",
       "  </thead>\n",
       "  <tbody>\n",
       "    <tr>\n",
       "      <th>5799</th>\n",
       "      <td>[необходимо, лишь, необходимое, ,, вот, девиз, земного, шара, отселе, .]</td>\n",
       "    </tr>\n",
       "    <tr>\n",
       "      <th>593</th>\n",
       "      <td>[-, по, чрезвычайному, дождю, грязь, по, здешним, улицам, нестерпимая, ,, -, доложил, алексей, егорович, в, виде, отдаленной, попытки, в, последний, раз, отклонить, барина, от, путешествия, .]</td>\n",
       "    </tr>\n",
       "    <tr>\n",
       "      <th>4889</th>\n",
       "      <td>[-, громко, захохотал, ставрогин, ;]</td>\n",
       "    </tr>\n",
       "    <tr>\n",
       "      <th>2943</th>\n",
       "      <td>[но, тут, подвернулся, петр, степанович, и, стало, происходить, нечто, странное, .]</td>\n",
       "    </tr>\n",
       "  </tbody>\n",
       "</table>\n",
       "</div>"
      ],
      "text/plain": [
       "                                                                                                                                                                                                  line\n",
       "5799                                                                                                                          [необходимо, лишь, необходимое, ,, вот, девиз, земного, шара, отселе, .]\n",
       "593   [-, по, чрезвычайному, дождю, грязь, по, здешним, улицам, нестерпимая, ,, -, доложил, алексей, егорович, в, виде, отдаленной, попытки, в, последний, раз, отклонить, барина, от, путешествия, .]\n",
       "4889                                                                                                                                                              [-, громко, захохотал, ставрогин, ;]\n",
       "2943                                                                                                               [но, тут, подвернулся, петр, степанович, и, стало, происходить, нечто, странное, .]"
      ]
     },
     "execution_count": 18,
     "metadata": {},
     "output_type": "execute_result"
    }
   ],
   "source": [
    "ppr(data)\n",
    "data.sample(4)"
   ]
  },
  {
   "cell_type": "code",
   "execution_count": 19,
   "metadata": {},
   "outputs": [
    {
     "name": "stdout",
     "output_type": "stream",
     "text": [
      "6827\n",
      "6791\n"
     ]
    }
   ],
   "source": [
    "ppr(data)\n",
    "data = data[ data['line'].str.len()>0 ] \n",
    "ppr(data)"
   ]
  },
  {
   "cell_type": "code",
   "execution_count": 20,
   "metadata": {},
   "outputs": [],
   "source": [
    "# data[data['line'].str.len()<1]"
   ]
  },
  {
   "cell_type": "markdown",
   "metadata": {},
   "source": [
    "## формируем словари"
   ]
  },
  {
   "cell_type": "code",
   "execution_count": 21,
   "metadata": {},
   "outputs": [
    {
     "name": "stdout",
     "output_type": "stream",
     "text": [
      "15171\n"
     ]
    }
   ],
   "source": [
    "words = sorted(set(sum(data['line'].values.tolist(),[]) )) # список слов\n",
    "ppr(words)\n",
    "# words"
   ]
  },
  {
   "cell_type": "code",
   "execution_count": 22,
   "metadata": {},
   "outputs": [
    {
     "name": "stdout",
     "output_type": "stream",
     "text": [
      "15172\n"
     ]
    }
   ],
   "source": [
    "vocabulary = { a:i+1 for i,a in enumerate(words) } # словарь\n",
    "vocabulary['PAD']=0\n",
    "ppr(vocabulary)\n",
    "# vocabulary"
   ]
  },
  {
   "cell_type": "code",
   "execution_count": 23,
   "metadata": {},
   "outputs": [],
   "source": [
    "# ord?\n",
    "\n",
    "# [ chr(i) for i in range(0,100) ] \n",
    "# [ [i,chr(i)] for i in range(100,200) ] \n",
    "# [ [i,chr(i)] for i in range(200,300) ] \n",
    "# [ [i,chr(i)] for i in range(300,400) ] \n",
    "# [ [i,chr(i)] for i in range(500,600) ] \n",
    "# [ [i,chr(i)] for i in range(600,700) ] \n",
    "# [ [i,chr(i)] for i in range(700,800) ] "
   ]
  },
  {
   "cell_type": "code",
   "execution_count": 24,
   "metadata": {},
   "outputs": [
    {
     "name": "stdout",
     "output_type": "stream",
     "text": [
      "42\n"
     ]
    }
   ],
   "source": [
    "abc = set(' '.join(words) ) # алфавит\n",
    "abc = { a:i+1 for i,a in enumerate(sorted(abc)) }\n",
    "zero_symbol = '\\t'\n",
    "abc[zero_symbol] = 0\n",
    "ppr(abc)\n",
    "# abc"
   ]
  },
  {
   "cell_type": "code",
   "execution_count": 25,
   "metadata": {},
   "outputs": [],
   "source": [
    "# %xdel words"
   ]
  },
  {
   "cell_type": "code",
   "execution_count": 26,
   "metadata": {},
   "outputs": [],
   "source": [
    "# voc_len = len(vocabulary)\n",
    "# abc_len = len(abc)\n",
    "# voc_len, len(words), abc_len, max(vocabulary.values()), max(abc.values())"
   ]
  },
  {
   "cell_type": "markdown",
   "metadata": {},
   "source": [
    "----"
   ]
  },
  {
   "cell_type": "code",
   "execution_count": 27,
   "metadata": {},
   "outputs": [
    {
     "name": "stdout",
     "output_type": "stream",
     "text": [
      "15171\n"
     ]
    },
    {
     "data": {
      "text/plain": [
       "19"
      ]
     },
     "execution_count": 27,
     "metadata": {},
     "output_type": "execute_result"
    }
   ],
   "source": [
    "words = pd.DataFrame({'word':words}) # список слов\n",
    "max_word_len = words['word'].str.len().max() # максимальная длина слова\n",
    "ppr(words)\n",
    "# words.sample(3)\n",
    "max_word_len"
   ]
  },
  {
   "cell_type": "code",
   "execution_count": 28,
   "metadata": {},
   "outputs": [],
   "source": [
    "# дополняем слово до максимальной длины\n",
    "def pad_word(w,max_word_len=max_word_len,zero_symbol=zero_symbol):\n",
    "    return w+zero_symbol*(max_word_len-len(w))\n",
    "\n",
    "# заменяем символы слова на последовательность номеров символов в алфавите \n",
    "def encode_abc(w,abc=abc ): \n",
    "    return list(map(abc.get,w))\n",
    "\n",
    "# выполняем OHE номеров символов \n",
    "def encode_abc_bin(codes,abc_len=len(abc)):\n",
    "    return np.array([ np.eye(abc_len,dtype=int)[c] for c in codes ], dtype=int)[np.newaxis,:]\n"
   ]
  },
  {
   "cell_type": "code",
   "execution_count": 29,
   "metadata": {},
   "outputs": [],
   "source": [
    "# w = 'символы'\n",
    "# encode_abc_bin(encode_abc( pad_word(w) )).shape\n",
    "# w+zero_symbol*(max_word_len-len(w))"
   ]
  },
  {
   "cell_type": "code",
   "execution_count": 30,
   "metadata": {},
   "outputs": [
    {
     "name": "stderr",
     "output_type": "stream",
     "text": [
      "100%|███████████████████████████████████████████████████████████████████████████████████████████████████████████████████████████████████████████████████████████████████████████████████████████████| 15171/15171 [00:00<00:00, 281394.71it/s]\n",
      "100%|███████████████████████████████████████████████████████████████████████████████████████████████████████████████████████████████████████████████████████████████████████████████████████████████| 15171/15171 [00:00<00:00, 381474.09it/s]\n",
      "100%|████████████████████████████████████████████████████████████████████████████████████████████████████████████████████████████████████████████████████████████████████████████████████████████████| 15171/15171 [00:00<00:00, 19894.69it/s]\n"
     ]
    }
   ],
   "source": [
    "words['code_char_bin_pad'] = words['word']\\\n",
    "                 .progress_apply(pad_word)\\\n",
    "                 .progress_apply(encode_abc)\\\n",
    "                 .progress_apply(encode_abc_bin)"
   ]
  },
  {
   "cell_type": "code",
   "execution_count": 31,
   "metadata": {},
   "outputs": [
    {
     "data": {
      "text/plain": [
       "(15171, 19, 42)"
      ]
     },
     "execution_count": 31,
     "metadata": {},
     "output_type": "execute_result"
    }
   ],
   "source": [
    "np.vstack(words['code_char_bin_pad']).shape"
   ]
  },
  {
   "cell_type": "code",
   "execution_count": 32,
   "metadata": {},
   "outputs": [
    {
     "name": "stdout",
     "output_type": "stream",
     "text": [
      "42\n"
     ]
    }
   ],
   "source": [
    "# алфавит\n",
    "ppr(abc)\n",
    "# abc"
   ]
  },
  {
   "cell_type": "code",
   "execution_count": 33,
   "metadata": {},
   "outputs": [
    {
     "name": "stdout",
     "output_type": "stream",
     "text": [
      "15172\n"
     ]
    }
   ],
   "source": [
    "# словарь\n",
    "ppr(vocabulary)\n",
    "# abc"
   ]
  },
  {
   "cell_type": "code",
   "execution_count": 34,
   "metadata": {},
   "outputs": [
    {
     "name": "stdout",
     "output_type": "stream",
     "text": [
      "15171\n"
     ]
    },
    {
     "data": {
      "text/html": [
       "<div>\n",
       "<style scoped>\n",
       "    .dataframe tbody tr th:only-of-type {\n",
       "        vertical-align: middle;\n",
       "    }\n",
       "\n",
       "    .dataframe tbody tr th {\n",
       "        vertical-align: top;\n",
       "    }\n",
       "\n",
       "    .dataframe thead th {\n",
       "        text-align: right;\n",
       "    }\n",
       "</style>\n",
       "<table border=\"1\" class=\"dataframe\">\n",
       "  <thead>\n",
       "    <tr style=\"text-align: right;\">\n",
       "      <th></th>\n",
       "      <th>word</th>\n",
       "      <th>code_char_bin_pad</th>\n",
       "    </tr>\n",
       "  </thead>\n",
       "  <tbody>\n",
       "    <tr>\n",
       "      <th>5990</th>\n",
       "      <td>нами</td>\n",
       "      <td>[[[0, 0, 0, 0, 0, 0, 0, 0, 0, 0, 0, 0, 0, 0, 0, 0, 0, 0, 0, 0, 0, 0, 0, 1, 0, 0, 0, 0, 0, 0, 0, 0, 0, 0, 0, 0, 0, 0, 0, 0, 0, 0], [0, 0, 0, 0, 0, 0, 0, 0, 0, 0, 1, 0, 0, 0, 0, 0, 0, 0, 0, 0, 0, 0,...</td>\n",
       "    </tr>\n",
       "    <tr>\n",
       "      <th>14257</th>\n",
       "      <td>учреждений</td>\n",
       "      <td>[[[0, 0, 0, 0, 0, 0, 0, 0, 0, 0, 0, 0, 0, 0, 0, 0, 0, 0, 0, 0, 0, 0, 0, 0, 0, 0, 0, 0, 0, 1, 0, 0, 0, 0, 0, 0, 0, 0, 0, 0, 0, 0], [0, 0, 0, 0, 0, 0, 0, 0, 0, 0, 0, 0, 0, 0, 0, 0, 0, 0, 0, 0, 0, 0,...</td>\n",
       "    </tr>\n",
       "    <tr>\n",
       "      <th>8379</th>\n",
       "      <td>поводу</td>\n",
       "      <td>[[[0, 0, 0, 0, 0, 0, 0, 0, 0, 0, 0, 0, 0, 0, 0, 0, 0, 0, 0, 0, 0, 0, 0, 0, 0, 1, 0, 0, 0, 0, 0, 0, 0, 0, 0, 0, 0, 0, 0, 0, 0, 0], [0, 0, 0, 0, 0, 0, 0, 0, 0, 0, 0, 0, 0, 0, 0, 0, 0, 0, 0, 0, 0, 0,...</td>\n",
       "    </tr>\n",
       "  </tbody>\n",
       "</table>\n",
       "</div>"
      ],
      "text/plain": [
       "             word  \\\n",
       "5990         нами   \n",
       "14257  учреждений   \n",
       "8379       поводу   \n",
       "\n",
       "                                                                                                                                                                                             code_char_bin_pad  \n",
       "5990   [[[0, 0, 0, 0, 0, 0, 0, 0, 0, 0, 0, 0, 0, 0, 0, 0, 0, 0, 0, 0, 0, 0, 0, 1, 0, 0, 0, 0, 0, 0, 0, 0, 0, 0, 0, 0, 0, 0, 0, 0, 0, 0], [0, 0, 0, 0, 0, 0, 0, 0, 0, 0, 1, 0, 0, 0, 0, 0, 0, 0, 0, 0, 0, 0,...  \n",
       "14257  [[[0, 0, 0, 0, 0, 0, 0, 0, 0, 0, 0, 0, 0, 0, 0, 0, 0, 0, 0, 0, 0, 0, 0, 0, 0, 0, 0, 0, 0, 1, 0, 0, 0, 0, 0, 0, 0, 0, 0, 0, 0, 0], [0, 0, 0, 0, 0, 0, 0, 0, 0, 0, 0, 0, 0, 0, 0, 0, 0, 0, 0, 0, 0, 0,...  \n",
       "8379   [[[0, 0, 0, 0, 0, 0, 0, 0, 0, 0, 0, 0, 0, 0, 0, 0, 0, 0, 0, 0, 0, 0, 0, 0, 0, 1, 0, 0, 0, 0, 0, 0, 0, 0, 0, 0, 0, 0, 0, 0, 0, 0], [0, 0, 0, 0, 0, 0, 0, 0, 0, 0, 0, 0, 0, 0, 0, 0, 0, 0, 0, 0, 0, 0,...  "
      ]
     },
     "execution_count": 34,
     "metadata": {},
     "output_type": "execute_result"
    }
   ],
   "source": [
    "# таблица кодов слов\n",
    "ppr(words)\n",
    "words.sample(3)"
   ]
  },
  {
   "cell_type": "markdown",
   "metadata": {},
   "source": [
    "## кодируем текст"
   ]
  },
  {
   "cell_type": "code",
   "execution_count": 35,
   "metadata": {},
   "outputs": [
    {
     "name": "stderr",
     "output_type": "stream",
     "text": [
      "100%|█████████████████████████████████████████████████████████████████████████████████████████████████████████████████████████████████████████████████████████████████████████████████████████████████| 6791/6791 [00:00<00:00, 163593.08it/s]\n"
     ]
    }
   ],
   "source": [
    "# заменяем слова на последовательность номеров слов в словаре \n",
    "data['seq_code_word'] = data['line'].progress_apply(lambda s: [ vocabulary[w] for w in s ])"
   ]
  },
  {
   "cell_type": "code",
   "execution_count": 36,
   "metadata": {},
   "outputs": [
    {
     "data": {
      "text/plain": [
       "count    6791\n",
       "mean       13\n",
       "std        11\n",
       "min         1\n",
       "10%         4\n",
       "25%         6\n",
       "50%        10\n",
       "75%        18\n",
       "90%        28\n",
       "95%        35\n",
       "99%        54\n",
       "max       111\n",
       "Name: seq_code_word, dtype: int64"
      ]
     },
     "execution_count": 36,
     "metadata": {},
     "output_type": "execute_result"
    }
   ],
   "source": [
    "# data['seq_code_word'].str.len().plot.hist()\n",
    "data['seq_code_word'].str.len().describe([.1,.25,.5,.75,.9,.95,.99]).astype(int)"
   ]
  },
  {
   "cell_type": "code",
   "execution_count": 37,
   "metadata": {},
   "outputs": [
    {
     "name": "stdout",
     "output_type": "stream",
     "text": [
      "6791\n"
     ]
    },
    {
     "data": {
      "text/html": [
       "<div>\n",
       "<style scoped>\n",
       "    .dataframe tbody tr th:only-of-type {\n",
       "        vertical-align: middle;\n",
       "    }\n",
       "\n",
       "    .dataframe tbody tr th {\n",
       "        vertical-align: top;\n",
       "    }\n",
       "\n",
       "    .dataframe thead th {\n",
       "        text-align: right;\n",
       "    }\n",
       "</style>\n",
       "<table border=\"1\" class=\"dataframe\">\n",
       "  <thead>\n",
       "    <tr style=\"text-align: right;\">\n",
       "      <th></th>\n",
       "      <th>line</th>\n",
       "      <th>seq_code_word</th>\n",
       "    </tr>\n",
       "  </thead>\n",
       "  <tbody>\n",
       "    <tr>\n",
       "      <th>3823</th>\n",
       "      <td>[лембке, покраснел, и, замялся, .]</td>\n",
       "      <td>[5094, 8841, 3985, 3594, 8]</td>\n",
       "    </tr>\n",
       "    <tr>\n",
       "      <th>1694</th>\n",
       "      <td>[-, но, ...]</td>\n",
       "      <td>[7, 6756, 10]</td>\n",
       "    </tr>\n",
       "    <tr>\n",
       "      <th>3092</th>\n",
       "      <td>[ей, вероятно, нравилось, ,, что, та, в, свою, очередь, почти, принижается, пред, николаем, всеволодовичем, и, любезничает, с, ним, как, ни, с, кем, .]</td>\n",
       "      <td>[3078, 913, 6819, 6, 14808, 13135, 766, 11568, 7927, 9451, 9994, 9547, 6721, 1507, 3985, 5254, 11378, 6728, 4426, 6682, 11378, 4534, 8]</td>\n",
       "    </tr>\n",
       "  </tbody>\n",
       "</table>\n",
       "</div>"
      ],
      "text/plain": [
       "                                                                                                                                                         line  \\\n",
       "3823                                                                                                                       [лембке, покраснел, и, замялся, .]   \n",
       "1694                                                                                                                                             [-, но, ...]   \n",
       "3092  [ей, вероятно, нравилось, ,, что, та, в, свою, очередь, почти, принижается, пред, николаем, всеволодовичем, и, любезничает, с, ним, как, ни, с, кем, .]   \n",
       "\n",
       "                                                                                                                                seq_code_word  \n",
       "3823                                                                                                              [5094, 8841, 3985, 3594, 8]  \n",
       "1694                                                                                                                            [7, 6756, 10]  \n",
       "3092  [3078, 913, 6819, 6, 14808, 13135, 766, 11568, 7927, 9451, 9994, 9547, 6721, 1507, 3985, 5254, 11378, 6728, 4426, 6682, 11378, 4534, 8]  "
      ]
     },
     "execution_count": 37,
     "metadata": {},
     "output_type": "execute_result"
    }
   ],
   "source": [
    "# последовательность слов (основной текст)\n",
    "ppr(data)\n",
    "data.sample(3)"
   ]
  },
  {
   "cell_type": "markdown",
   "metadata": {},
   "source": [
    "## собираем датасет"
   ]
  },
  {
   "cell_type": "code",
   "execution_count": 38,
   "metadata": {},
   "outputs": [],
   "source": [
    "hist_deep = 5 # глубина истории контекста"
   ]
  },
  {
   "cell_type": "code",
   "execution_count": 39,
   "metadata": {},
   "outputs": [
    {
     "data": {
      "text/plain": [
       "count    6791\n",
       "mean       13\n",
       "std        11\n",
       "min         1\n",
       "10%         4\n",
       "25%         6\n",
       "50%        10\n",
       "75%        18\n",
       "90%        28\n",
       "95%        35\n",
       "99%        54\n",
       "max       111\n",
       "Name: seq_code_word, dtype: int64"
      ]
     },
     "execution_count": 39,
     "metadata": {},
     "output_type": "execute_result"
    }
   ],
   "source": [
    "data['seq_code_word'].str.len().describe([.1,.25,.5,.75,.9,.95,.99]).astype(int)"
   ]
  },
  {
   "cell_type": "code",
   "execution_count": 40,
   "metadata": {},
   "outputs": [
    {
     "name": "stdout",
     "output_type": "stream",
     "text": [
      "6791\n",
      "4977\n"
     ]
    }
   ],
   "source": [
    "ppr(data)\n",
    "# data = data[ data['seq_code_word'].str.len()>hist_deep ] \n",
    "data = data[ data['seq_code_word'].str.len().between(hist_deep+1,data['seq_code_word'].str.len().quantile(.95)) ] \n",
    "ppr(data)"
   ]
  },
  {
   "cell_type": "code",
   "execution_count": 41,
   "metadata": {},
   "outputs": [],
   "source": [
    "# s = data.sample()['seq_code_word'].values[0]\n",
    "# len(s)\n",
    "# hist_deep"
   ]
  },
  {
   "cell_type": "code",
   "execution_count": 42,
   "metadata": {},
   "outputs": [],
   "source": [
    "# [ контекст, слово ]\n",
    "def pack_history(s,hd=hist_deep):\n",
    "    return [ [ s[i-hd:i], s[i] ] for i in range(hd,len(s)) ] \n",
    "\n",
    "# pack_history(s)"
   ]
  },
  {
   "cell_type": "code",
   "execution_count": 43,
   "metadata": {},
   "outputs": [
    {
     "name": "stderr",
     "output_type": "stream",
     "text": [
      "100%|██████████████████████████████████████████████████████████████████████████████████████████████████████████████████████████████████████████████████████████████████████████████████████████████████| 4977/4977 [00:00<00:00, 53450.80it/s]\n"
     ]
    },
    {
     "name": "stdout",
     "output_type": "stream",
     "text": [
      "46809\n"
     ]
    },
    {
     "data": {
      "text/html": [
       "<div>\n",
       "<style scoped>\n",
       "    .dataframe tbody tr th:only-of-type {\n",
       "        vertical-align: middle;\n",
       "    }\n",
       "\n",
       "    .dataframe tbody tr th {\n",
       "        vertical-align: top;\n",
       "    }\n",
       "\n",
       "    .dataframe thead th {\n",
       "        text-align: right;\n",
       "    }\n",
       "</style>\n",
       "<table border=\"1\" class=\"dataframe\">\n",
       "  <thead>\n",
       "    <tr style=\"text-align: right;\">\n",
       "      <th></th>\n",
       "      <th>x_context</th>\n",
       "      <th>x</th>\n",
       "    </tr>\n",
       "  </thead>\n",
       "  <tbody>\n",
       "    <tr>\n",
       "      <th>41805</th>\n",
       "      <td>[11305, 6, 9068, 7327, 844]</td>\n",
       "      <td>2134</td>\n",
       "    </tr>\n",
       "    <tr>\n",
       "      <th>6603</th>\n",
       "      <td>[6, 2392, 13169, 6, 4805]</td>\n",
       "      <td>3985</td>\n",
       "    </tr>\n",
       "    <tr>\n",
       "      <th>20617</th>\n",
       "      <td>[6, 14808, 891, 785, 6835]</td>\n",
       "      <td>6</td>\n",
       "    </tr>\n",
       "  </tbody>\n",
       "</table>\n",
       "</div>"
      ],
      "text/plain": [
       "                         x_context     x\n",
       "41805  [11305, 6, 9068, 7327, 844]  2134\n",
       "6603     [6, 2392, 13169, 6, 4805]  3985\n",
       "20617   [6, 14808, 891, 785, 6835]     6"
      ]
     },
     "execution_count": 43,
     "metadata": {},
     "output_type": "execute_result"
    }
   ],
   "source": [
    "d = data['seq_code_word'].progress_apply(pack_history)\n",
    "d = pd.DataFrame( sum(d.values.tolist(),[]), columns=['x_context','x'] )\n",
    "ppr(d)\n",
    "d.sample(3)"
   ]
  },
  {
   "cell_type": "code",
   "execution_count": 44,
   "metadata": {},
   "outputs": [
    {
     "data": {
      "text/plain": [
       "((46809,), (46809, 5))"
      ]
     },
     "execution_count": 44,
     "metadata": {},
     "output_type": "execute_result"
    }
   ],
   "source": [
    "x = d['x'].values # номер слова\n",
    "x_context = np.vstack(d['x_context'].values) # контекст слова\n",
    "x.shape, x_context.shape"
   ]
  },
  {
   "cell_type": "code",
   "execution_count": 45,
   "metadata": {},
   "outputs": [],
   "source": [
    "%xdel d"
   ]
  },
  {
   "cell_type": "markdown",
   "metadata": {},
   "source": [
    "## модель"
   ]
  },
  {
   "cell_type": "code",
   "execution_count": 46,
   "metadata": {},
   "outputs": [],
   "source": [
    "# import tensorflow as tf\n",
    "from tensorflow.keras import Model\n",
    "from tensorflow.keras.layers import Input\n",
    "from tensorflow.keras.layers import Conv2D\n",
    "from tensorflow.keras.layers import MaxPooling2D\n",
    "from tensorflow.keras.layers import Reshape\n",
    "from tensorflow.keras.layers import LSTM\n",
    "from tensorflow.keras.layers import Bidirectional\n",
    "from tensorflow.keras.layers import Dense\n",
    "from tensorflow.keras.optimizers import Adam\n",
    "\n",
    "from tensorflow.keras.utils import plot_model"
   ]
  },
  {
   "cell_type": "code",
   "execution_count": 47,
   "metadata": {},
   "outputs": [],
   "source": [
    "# from utils.tf_helpers import tf_info\n",
    "# from IPython.display import display, HTML\n",
    "# display(HTML(tf_info()))"
   ]
  },
  {
   "cell_type": "markdown",
   "metadata": {},
   "source": [
    "---"
   ]
  },
  {
   "cell_type": "code",
   "execution_count": 48,
   "metadata": {},
   "outputs": [
    {
     "data": {
      "text/plain": [
       "(46809, 5)"
      ]
     },
     "execution_count": 48,
     "metadata": {},
     "output_type": "execute_result"
    }
   ],
   "source": [
    "x_context.shape"
   ]
  },
  {
   "cell_type": "code",
   "execution_count": 49,
   "metadata": {},
   "outputs": [
    {
     "data": {
      "text/plain": [
       "(15171, 19, 42)"
      ]
     },
     "execution_count": 49,
     "metadata": {},
     "output_type": "execute_result"
    }
   ],
   "source": [
    "# бинарные коды слов\n",
    "# [ номер слова в словаре, номер символа в слове, номер символа в алфавите ]\n",
    "words_char_code_bin_pad = np.vstack(words['code_char_bin_pad'].values.tolist() )\n",
    "words_char_code_bin_pad.shape"
   ]
  },
  {
   "cell_type": "code",
   "execution_count": 50,
   "metadata": {},
   "outputs": [
    {
     "data": {
      "text/plain": [
       "(15172, 19, 42)"
      ]
     },
     "execution_count": 50,
     "metadata": {},
     "output_type": "execute_result"
    }
   ],
   "source": [
    "# добавляем код \"нулевого\" слова (PAD)\n",
    "_,j,k = words_char_code_bin_pad.shape\n",
    "words_char_code_bin_pad = np.vstack([\n",
    "   np.zeros([1,j,k]),\n",
    "   words_char_code_bin_pad\n",
    "])\n",
    "\n",
    "words_char_code_bin_pad.shape"
   ]
  },
  {
   "cell_type": "code",
   "execution_count": 51,
   "metadata": {},
   "outputs": [
    {
     "data": {
      "text/plain": [
       "(5, 19, 15172, 42, 1024)"
      ]
     },
     "execution_count": 51,
     "metadata": {},
     "output_type": "execute_result"
    }
   ],
   "source": [
    "voc_len = len(vocabulary) # размер словаря\n",
    "abc_len = len(abc) # размер алфавита\n",
    "hist_deep = x_context.shape[1] # глубина контекста\n",
    "word_len = words_char_code_bin_pad.shape[1] # максимальная длина слова \n",
    "\n",
    "code_len = 1024 # размер внутреннего представления контекста\n",
    "\n",
    "hist_deep, word_len, voc_len, abc_len, code_len, "
   ]
  },
  {
   "cell_type": "code",
   "execution_count": 52,
   "metadata": {},
   "outputs": [
    {
     "name": "stderr",
     "output_type": "stream",
     "text": [
      "2022-03-03 12:45:49.308118: I tensorflow/stream_executor/cuda/cuda_gpu_executor.cc:936] successful NUMA node read from SysFS had negative value (-1), but there must be at least one NUMA node, so returning NUMA node zero\n",
      "2022-03-03 12:45:49.370026: I tensorflow/stream_executor/cuda/cuda_gpu_executor.cc:936] successful NUMA node read from SysFS had negative value (-1), but there must be at least one NUMA node, so returning NUMA node zero\n",
      "2022-03-03 12:45:49.370218: I tensorflow/stream_executor/cuda/cuda_gpu_executor.cc:936] successful NUMA node read from SysFS had negative value (-1), but there must be at least one NUMA node, so returning NUMA node zero\n",
      "2022-03-03 12:45:49.370775: I tensorflow/core/platform/cpu_feature_guard.cc:151] This TensorFlow binary is optimized with oneAPI Deep Neural Network Library (oneDNN) to use the following CPU instructions in performance-critical operations:  AVX2 FMA\n",
      "To enable them in other operations, rebuild TensorFlow with the appropriate compiler flags.\n",
      "2022-03-03 12:45:49.371117: I tensorflow/stream_executor/cuda/cuda_gpu_executor.cc:936] successful NUMA node read from SysFS had negative value (-1), but there must be at least one NUMA node, so returning NUMA node zero\n",
      "2022-03-03 12:45:49.371276: I tensorflow/stream_executor/cuda/cuda_gpu_executor.cc:936] successful NUMA node read from SysFS had negative value (-1), but there must be at least one NUMA node, so returning NUMA node zero\n",
      "2022-03-03 12:45:49.371406: I tensorflow/stream_executor/cuda/cuda_gpu_executor.cc:936] successful NUMA node read from SysFS had negative value (-1), but there must be at least one NUMA node, so returning NUMA node zero\n",
      "2022-03-03 12:45:49.761111: I tensorflow/stream_executor/cuda/cuda_gpu_executor.cc:936] successful NUMA node read from SysFS had negative value (-1), but there must be at least one NUMA node, so returning NUMA node zero\n",
      "2022-03-03 12:45:49.761278: I tensorflow/stream_executor/cuda/cuda_gpu_executor.cc:936] successful NUMA node read from SysFS had negative value (-1), but there must be at least one NUMA node, so returning NUMA node zero\n",
      "2022-03-03 12:45:49.761398: I tensorflow/stream_executor/cuda/cuda_gpu_executor.cc:936] successful NUMA node read from SysFS had negative value (-1), but there must be at least one NUMA node, so returning NUMA node zero\n",
      "2022-03-03 12:45:49.761505: I tensorflow/core/common_runtime/gpu/gpu_device.cc:1525] Created device /job:localhost/replica:0/task:0/device:GPU:0 with 4994 MB memory:  -> device: 0, name: NVIDIA GeForce GTX 1060 6GB, pci bus id: 0000:01:00.0, compute capability: 6.1\n"
     ]
    }
   ],
   "source": [
    "model_name='charCNN2-BiLSTM'\n",
    "\n",
    "i = Input(shape=(None, word_len, abc_len))\n",
    "o = Conv2D(filters=code_len,kernel_size=5,strides=(1,1),padding='same', activation='relu')(i)\n",
    "o = MaxPooling2D(pool_size=(word_len,1), data_format='channels_first')(o)\n",
    "o = Reshape(target_shape=(hist_deep,code_len))(o)\n",
    "o = Bidirectional(LSTM(code_len))(o)\n",
    "o = Dense(voc_len, activation='softmax')(o)\n",
    "model = Model(i,o)"
   ]
  },
  {
   "cell_type": "code",
   "execution_count": 53,
   "metadata": {},
   "outputs": [
    {
     "data": {
      "image/png": "[encoded data removed]",
      "text/plain": [
       "<IPython.core.display.Image object>"
      ]
     },
     "execution_count": 53,
     "metadata": {},
     "output_type": "execute_result"
    }
   ],
   "source": [
    "plot_model(model,to_file=pjoin(FOLDER_RESULT,model_name+'.png'), \n",
    "                show_layer_names=True, show_shapes=True )"
   ]
  },
  {
   "cell_type": "code",
   "execution_count": 54,
   "metadata": {},
   "outputs": [],
   "source": [
    "with open( pjoin(FOLDER_RESULT,model_name+'.json'), 'wt') as f: f.write( model.to_json() )"
   ]
  },
  {
   "cell_type": "markdown",
   "metadata": {},
   "source": [
    "## обучаем модель"
   ]
  },
  {
   "cell_type": "code",
   "execution_count": 55,
   "metadata": {},
   "outputs": [
    {
     "name": "stderr",
     "output_type": "stream",
     "text": [
      "/opt/python3.8/lib/python3.8/site-packages/keras/optimizer_v2/adam.py:105: UserWarning: The `lr` argument is deprecated, use `learning_rate` instead.\n",
      "  super(Adam, self).__init__(name, **kwargs)\n"
     ]
    }
   ],
   "source": [
    "learning_rate = 1e-3\n",
    "\n",
    "optimizer=Adam(lr=learning_rate)\n",
    "model.compile(optimizer=optimizer, loss='categorical_crossentropy',metrics=['accuracy'])"
   ]
  },
  {
   "cell_type": "code",
   "execution_count": 56,
   "metadata": {},
   "outputs": [],
   "source": [
    "# преобразовать весь датасет в матрицы OHE займёт очень много памяти\n",
    "# будем делать это в процессе формирования batch\n",
    "# построим генератор батчей\n",
    "\n",
    "# x - номера слов, \n",
    "# xc- цепочки номеров слов контекста для x\n",
    "# batch_size - размер пакета данных\n",
    "# ccb - матрицы кодов слов (OHE символов в словах, дополненные нулями до единого размера)\n",
    "# voc_len - количество слов в словаре\n",
    "def data_gen(x,xc,batch_size,ccb=words_char_code_bin_pad,voc_len=voc_len):\n",
    "    bc = np.ceil(x.shape[0]/batch_size).astype(int) # количество пакетов данных\n",
    "    while True:\n",
    "        # перемешиваем номера примеров\n",
    "        rand_idx = rng.permutation(range(x.shape[0]))\n",
    "        # делим список индексов на части\n",
    "        batches_idx = np.array_split(rand_idx,bc)\n",
    "        # последовательно формируем и выдаём пакеты данных\n",
    "        for ii in batches_idx:\n",
    "            yield  ccb[xc[ii,:]], np.eye(voc_len,dtype=int)[x[ii]]"
   ]
  },
  {
   "cell_type": "code",
   "execution_count": 57,
   "metadata": {},
   "outputs": [
    {
     "name": "stdout",
     "output_type": "stream",
     "text": [
      "Epoch 1/64\n"
     ]
    },
    {
     "name": "stderr",
     "output_type": "stream",
     "text": [
      "2022-03-03 12:45:55.744918: I tensorflow/stream_executor/cuda/cuda_dnn.cc:368] Loaded cuDNN version 8300\n"
     ]
    },
    {
     "name": "stdout",
     "output_type": "stream",
     "text": [
      "22/22 [==============================] - 32s 871ms/step - loss: 7.6473 - accuracy: 0.0481\n",
      "Epoch 2/64\n",
      "22/22 [==============================] - 18s 831ms/step - loss: 6.8097 - accuracy: 0.1035\n",
      "Epoch 3/64\n",
      "22/22 [==============================] - 18s 829ms/step - loss: 6.6941 - accuracy: 0.1038\n",
      "Epoch 4/64\n",
      "22/22 [==============================] - 18s 822ms/step - loss: 6.6237 - accuracy: 0.1039\n",
      "Epoch 5/64\n",
      "22/22 [==============================] - 19s 850ms/step - loss: 6.5296 - accuracy: 0.1064\n",
      "Epoch 6/64\n",
      "22/22 [==============================] - 18s 832ms/step - loss: 6.3423 - accuracy: 0.1156\n",
      "Epoch 7/64\n",
      "22/22 [==============================] - 19s 847ms/step - loss: 6.2495 - accuracy: 0.1179\n",
      "Epoch 8/64\n",
      "22/22 [==============================] - 18s 838ms/step - loss: 6.0998 - accuracy: 0.1219\n",
      "Epoch 9/64\n",
      "22/22 [==============================] - 18s 832ms/step - loss: 5.9378 - accuracy: 0.1234\n",
      "Epoch 10/64\n",
      "22/22 [==============================] - 18s 828ms/step - loss: 5.7911 - accuracy: 0.1292\n",
      "Epoch 11/64\n",
      "22/22 [==============================] - 18s 831ms/step - loss: 5.8120 - accuracy: 0.1224\n",
      "Epoch 12/64\n",
      "22/22 [==============================] - 18s 828ms/step - loss: 5.5641 - accuracy: 0.1307\n",
      "Epoch 13/64\n",
      "22/22 [==============================] - 18s 829ms/step - loss: 5.3538 - accuracy: 0.1360\n",
      "Epoch 14/64\n",
      "22/22 [==============================] - 18s 825ms/step - loss: 5.1321 - accuracy: 0.1432\n",
      "Epoch 15/64\n",
      "22/22 [==============================] - 18s 838ms/step - loss: 4.9188 - accuracy: 0.1459\n",
      "Epoch 16/64\n",
      "22/22 [==============================] - 18s 830ms/step - loss: 4.7326 - accuracy: 0.1537\n",
      "Epoch 17/64\n",
      "22/22 [==============================] - 18s 837ms/step - loss: 4.4592 - accuracy: 0.1685\n",
      "Epoch 18/64\n",
      "22/22 [==============================] - 19s 841ms/step - loss: 4.2154 - accuracy: 0.1883\n",
      "Epoch 19/64\n",
      "22/22 [==============================] - 18s 831ms/step - loss: 4.0732 - accuracy: 0.2023\n",
      "Epoch 20/64\n",
      "22/22 [==============================] - 18s 833ms/step - loss: 3.7450 - accuracy: 0.2388\n",
      "Epoch 21/64\n",
      "22/22 [==============================] - 18s 831ms/step - loss: 3.5310 - accuracy: 0.2718\n",
      "Epoch 22/64\n",
      "22/22 [==============================] - 18s 827ms/step - loss: 3.3310 - accuracy: 0.3049\n",
      "Epoch 23/64\n",
      "22/22 [==============================] - 18s 828ms/step - loss: 3.1891 - accuracy: 0.3258\n",
      "Epoch 24/64\n",
      "22/22 [==============================] - 18s 827ms/step - loss: 2.8029 - accuracy: 0.3985\n",
      "Epoch 25/64\n",
      "22/22 [==============================] - 18s 829ms/step - loss: 2.5911 - accuracy: 0.4424\n",
      "Epoch 26/64\n",
      "22/22 [==============================] - 18s 828ms/step - loss: 2.3727 - accuracy: 0.4841\n",
      "Epoch 27/64\n",
      "22/22 [==============================] - 18s 837ms/step - loss: 2.2349 - accuracy: 0.5067\n",
      "Epoch 28/64\n",
      "22/22 [==============================] - 18s 833ms/step - loss: 2.0232 - accuracy: 0.5548\n",
      "Epoch 29/64\n",
      "22/22 [==============================] - 18s 833ms/step - loss: 1.8347 - accuracy: 0.5937\n",
      "Epoch 30/64\n",
      "22/22 [==============================] - 18s 829ms/step - loss: 1.6502 - accuracy: 0.6318\n",
      "Epoch 31/64\n",
      "22/22 [==============================] - 18s 834ms/step - loss: 1.6056 - accuracy: 0.6382\n",
      "Epoch 32/64\n",
      "22/22 [==============================] - 18s 830ms/step - loss: 1.3658 - accuracy: 0.7013\n",
      "Epoch 33/64\n",
      "22/22 [==============================] - 18s 832ms/step - loss: 1.2268 - accuracy: 0.7354\n",
      "Epoch 34/64\n",
      "22/22 [==============================] - 18s 828ms/step - loss: 1.2042 - accuracy: 0.7337\n",
      "Epoch 35/64\n",
      "22/22 [==============================] - 18s 832ms/step - loss: 1.0040 - accuracy: 0.7892\n",
      "Epoch 36/64\n",
      "22/22 [==============================] - 18s 827ms/step - loss: 0.8617 - accuracy: 0.8273\n",
      "Epoch 37/64\n",
      "22/22 [==============================] - 18s 830ms/step - loss: 0.7452 - accuracy: 0.8566\n",
      "Epoch 38/64\n",
      "22/22 [==============================] - 18s 827ms/step - loss: 0.6919 - accuracy: 0.8701\n",
      "Epoch 39/64\n",
      "22/22 [==============================] - 18s 841ms/step - loss: 0.5699 - accuracy: 0.9007\n",
      "Epoch 40/64\n",
      "22/22 [==============================] - 19s 850ms/step - loss: 0.4711 - accuracy: 0.9257\n",
      "Epoch 41/64\n",
      "22/22 [==============================] - 18s 831ms/step - loss: 1.0437 - accuracy: 0.8420\n",
      "Epoch 42/64\n",
      "22/22 [==============================] - 19s 839ms/step - loss: 2.3347 - accuracy: 0.4669\n",
      "Epoch 43/64\n",
      "22/22 [==============================] - 19s 843ms/step - loss: 0.9585 - accuracy: 0.7878\n",
      "Epoch 44/64\n",
      "22/22 [==============================] - 18s 836ms/step - loss: 0.5198 - accuracy: 0.9132\n",
      "Epoch 45/64\n",
      "22/22 [==============================] - 19s 842ms/step - loss: 0.3495 - accuracy: 0.9531\n",
      "Epoch 46/64\n",
      "22/22 [==============================] - 18s 831ms/step - loss: 0.2624 - accuracy: 0.9724\n",
      "Epoch 47/64\n",
      "22/22 [==============================] - 18s 835ms/step - loss: 0.2102 - accuracy: 0.9801\n",
      "Epoch 48/64\n",
      "22/22 [==============================] - 18s 827ms/step - loss: 0.1744 - accuracy: 0.9852\n",
      "Epoch 49/64\n",
      "22/22 [==============================] - 18s 828ms/step - loss: 0.1506 - accuracy: 0.9873\n",
      "Epoch 50/64\n",
      "22/22 [==============================] - 18s 830ms/step - loss: 0.1327 - accuracy: 0.9892\n",
      "Epoch 51/64\n",
      "22/22 [==============================] - 18s 832ms/step - loss: 0.1159 - accuracy: 0.9906\n",
      "Epoch 52/64\n",
      "22/22 [==============================] - 19s 861ms/step - loss: 0.1030 - accuracy: 0.9915\n",
      "Epoch 53/64\n",
      "22/22 [==============================] - 19s 874ms/step - loss: 0.0921 - accuracy: 0.9921\n",
      "Epoch 54/64\n",
      "22/22 [==============================] - 19s 857ms/step - loss: 0.0854 - accuracy: 0.9922\n",
      "Epoch 55/64\n",
      "22/22 [==============================] - 19s 855ms/step - loss: 0.0754 - accuracy: 0.9930\n",
      "Epoch 56/64\n",
      "22/22 [==============================] - 18s 837ms/step - loss: 0.0719 - accuracy: 0.9925\n",
      "Epoch 57/64\n",
      "22/22 [==============================] - 18s 826ms/step - loss: 0.0665 - accuracy: 0.9928\n",
      "Epoch 58/64\n",
      "22/22 [==============================] - 18s 838ms/step - loss: 0.0641 - accuracy: 0.9921\n",
      "Epoch 59/64\n",
      "22/22 [==============================] - 19s 846ms/step - loss: 0.0580 - accuracy: 0.9932\n",
      "Epoch 60/64\n",
      "22/22 [==============================] - 18s 839ms/step - loss: 0.0550 - accuracy: 0.9926\n",
      "Epoch 61/64\n",
      "22/22 [==============================] - 18s 836ms/step - loss: 0.0521 - accuracy: 0.9927\n",
      "Epoch 62/64\n",
      "22/22 [==============================] - 18s 830ms/step - loss: 0.0494 - accuracy: 0.9928\n",
      "Epoch 63/64\n",
      "22/22 [==============================] - 18s 827ms/step - loss: 0.0470 - accuracy: 0.9931\n",
      "Epoch 64/64\n",
      "22/22 [==============================] - 18s 826ms/step - loss: 0.0459 - accuracy: 0.9927\n",
      "CPU times: user 13min 51s, sys: 3min 14s, total: 17min 5s\n",
      "Wall time: 19min 49s\n"
     ]
    }
   ],
   "source": [
    "%%time \n",
    "\n",
    "n_epochs = 64\n",
    "batch_size = 2048\n",
    "\n",
    "hist = model.fit(\n",
    "    data_gen(x,x_context,batch_size),\n",
    "    steps_per_epoch = x.shape[0]//batch_size,\n",
    "    epochs = n_epochs\n",
    ")"
   ]
  },
  {
   "cell_type": "code",
   "execution_count": 58,
   "metadata": {},
   "outputs": [],
   "source": [
    "model.save_weights( pjoin(FOLDER_RESULT,model_name+'-%02d.tf'%(n_epochs) ), save_format='tf') "
   ]
  },
  {
   "cell_type": "markdown",
   "metadata": {},
   "source": [
    "---"
   ]
  },
  {
   "cell_type": "code",
   "execution_count": 59,
   "metadata": {},
   "outputs": [
    {
     "data": {
      "image/png": "[encoded data removed]",
      "text/plain": [
       "<Figure size 864x288 with 2 Axes>"
      ]
     },
     "metadata": {
      "needs_background": "light"
     },
     "output_type": "display_data"
    }
   ],
   "source": [
    "from matplotlib import pyplot as plt\n",
    "\n",
    "k = hist.history.keys()\n",
    "\n",
    "w,h = 6,4\n",
    "\n",
    "fig,ax = plt.subplots(1,len(k),figsize=(w*len(k),h))\n",
    "for i,n in enumerate(k):\n",
    "    ax[i].plot(hist.history[n],label=n)\n",
    "    ax[i].grid(True)\n",
    "    ax[i].legend()\n",
    "    ax[i].set_ylim([-.1,1.1])"
   ]
  },
  {
   "cell_type": "markdown",
   "metadata": {},
   "source": [
    "## тестируем"
   ]
  },
  {
   "cell_type": "code",
   "execution_count": 60,
   "metadata": {},
   "outputs": [],
   "source": [
    "# !ls result"
   ]
  },
  {
   "cell_type": "code",
   "execution_count": 61,
   "metadata": {},
   "outputs": [],
   "source": [
    "# from tensorflow.keras.models import model_from_json\n",
    "# # from tensorflow.keras.models import load_model\n",
    "\n",
    "# fname='result/charCNN-BiLSTM.json'\n",
    "# with open( fname, 'rt') as f: model = model_from_json(f.read())\n",
    "# #model.compile(optimizer='Adam', loss='categorical_crossentropy',metrics=['accuracy'])\n",
    "\n",
    "# fname = 'result/charCNN-BiLSTM-64.tf'\n",
    "# model.load_weights( fname )     "
   ]
  },
  {
   "cell_type": "code",
   "execution_count": 62,
   "metadata": {},
   "outputs": [],
   "source": [
    "def encode_str(s): \n",
    "    return np.vstack([\n",
    "        encode_abc_bin(encode_abc(pad_word(w)))\n",
    "        for w in tokenize(s) \n",
    "    ])[np.newaxis,:]"
   ]
  },
  {
   "cell_type": "code",
   "execution_count": 63,
   "metadata": {},
   "outputs": [],
   "source": [
    "vocabulary_inv = { vocabulary[k]:k for k in vocabulary } # декодер слов"
   ]
  },
  {
   "cell_type": "code",
   "execution_count": 64,
   "metadata": {},
   "outputs": [
    {
     "data": {
      "text/plain": [
       "'но надо , чтоб и'"
      ]
     },
     "execution_count": 64,
     "metadata": {},
     "output_type": "execute_result"
    }
   ],
   "source": [
    "# начальный контекст\n",
    "s = data['line'].apply(' '.join).sample().values[0]\n",
    "s = ' '.join(tokenize(s)[:hist_deep])\n",
    "s"
   ]
  },
  {
   "cell_type": "code",
   "execution_count": 65,
   "metadata": {},
   "outputs": [
    {
     "data": {
      "text/plain": [
       "'но надо , чтоб и |  народ уверовал , что мы знаем , чего хотим , а что те только машут дубиной и бьют по своим . нему вместе . давно , потом можно была никогда'"
      ]
     },
     "execution_count": 65,
     "metadata": {},
     "output_type": "execute_result"
    }
   ],
   "source": [
    "o = s + ' | ' # результат\n",
    "\n",
    "for i in range(30):\n",
    "    t = encode_str(s)\n",
    "    p = model.predict(t)\n",
    "    r = np.argmax(p)\n",
    "    w = vocabulary_inv[r]\n",
    "    s = ' '.join(tokenize(s)[1:] + [ w ])\n",
    "    o += ' '+w\n",
    "\n",
    "o"
   ]
  },
  {
   "cell_type": "code",
   "execution_count": 66,
   "metadata": {},
   "outputs": [
    {
     "data": {
      "text/plain": [
       "', потом можно была никогда'"
      ]
     },
     "execution_count": 66,
     "metadata": {},
     "output_type": "execute_result"
    }
   ],
   "source": [
    "s"
   ]
  },
  {
   "cell_type": "code",
   "execution_count": null,
   "metadata": {},
   "outputs": [],
   "source": []
  }
 ],
 "metadata": {
  "kernelspec": {
   "display_name": "Python 3 (ipykernel)",
   "language": "python",
   "name": "python3"
  },
  "language_info": {
   "codemirror_mode": {
    "name": "ipython",
    "version": 3
   },
   "file_extension": ".py",
   "mimetype": "text/x-python",
   "name": "python",
   "nbconvert_exporter": "python",
   "pygments_lexer": "ipython3",
   "version": "3.8.9"
  },
  "toc": {
   "base_numbering": 1,
   "nav_menu": {},
   "number_sections": true,
   "sideBar": true,
   "skip_h1_title": false,
   "title_cell": "Table of Contents",
   "title_sidebar": "Contents",
   "toc_cell": false,
   "toc_position": {
    "height": "calc(100% - 180px)",
    "left": "10px",
    "top": "150px",
    "width": "218.594px"
   },
   "toc_section_display": true,
   "toc_window_display": false
  }
 },
 "nbformat": 4,
 "nbformat_minor": 2
}
