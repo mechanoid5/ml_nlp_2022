{
 "cells": [
  {
   "cell_type": "markdown",
   "metadata": {},
   "source": [
    "__Sequence to Sequence for Neural Machne Translation.__\n",
    "\n",
    "*This notebook is based on [open-source implementation](https://github.com/bentrevett/pytorch-seq2seq/blob/master/1%20-%20Sequence%20to%20Sequence%20Learning%20with%20Neural%20Networks.ipynb) of seq2seq NMT in PyTorch.*\n",
    "\n",
    "We are going to implement the model from the [Sequence to Sequence Learning with Neural Networks](https://arxiv.org/abs/1409.3215) paper. \n",
    "\n",
    "The model will be trained for German to English translations, but it can be applied to any problem that involves going from one sequence to another, such as summarization."
   ]
  },
  {
   "cell_type": "code",
   "execution_count": 1,
   "metadata": {},
   "outputs": [],
   "source": [
    "import time\n",
    "import random\n",
    "import math\n",
    "import gzip\n",
    "import numpy as np\n",
    "import matplotlib\n",
    "import matplotlib.pyplot as plt\n",
    "from IPython.display import clear_output\n",
    "\n",
    "import pandas as pd\n",
    "from sklearn.model_selection import train_test_split\n",
    "import spacy"
   ]
  },
  {
   "cell_type": "code",
   "execution_count": 2,
   "metadata": {},
   "outputs": [],
   "source": [
    "import torch\n",
    "import torch.nn as nn\n",
    "import torch.optim as optim\n",
    "# from torch.utils.tensorboard import SummaryWriter"
   ]
  },
  {
   "cell_type": "code",
   "execution_count": 3,
   "metadata": {},
   "outputs": [],
   "source": [
    "from torchtext.data import Field\n",
    "from torchtext.data import BucketIterator\n",
    "\n",
    "from torchtext.data import Example\n",
    "from torchtext.data import TabularDataset"
   ]
  },
  {
   "cell_type": "code",
   "execution_count": 4,
   "metadata": {},
   "outputs": [],
   "source": [
    "# matplotlib.rcParams.update({'figure.figsize': (16, 12), 'font.size': 14})\n",
    "# %matplotlib inline"
   ]
  },
  {
   "cell_type": "markdown",
   "metadata": {},
   "source": [
    "---"
   ]
  },
  {
   "cell_type": "code",
   "execution_count": 5,
   "metadata": {},
   "outputs": [
    {
     "name": "stdout",
     "output_type": "stream",
     "text": [
      "336667\n"
     ]
    },
    {
     "data": {
      "text/html": [
       "<div>\n",
       "<style scoped>\n",
       "    .dataframe tbody tr th:only-of-type {\n",
       "        vertical-align: middle;\n",
       "    }\n",
       "\n",
       "    .dataframe tbody tr th {\n",
       "        vertical-align: top;\n",
       "    }\n",
       "\n",
       "    .dataframe thead th {\n",
       "        text-align: right;\n",
       "    }\n",
       "</style>\n",
       "<table border=\"1\" class=\"dataframe\">\n",
       "  <thead>\n",
       "    <tr style=\"text-align: right;\">\n",
       "      <th></th>\n",
       "      <th>src</th>\n",
       "      <th>trg</th>\n",
       "    </tr>\n",
       "  </thead>\n",
       "  <tbody>\n",
       "    <tr>\n",
       "      <th>229772</th>\n",
       "      <td>Don't you feel happy and relaxed?</td>\n",
       "      <td>Вы разве не чувствуете себя счастливыми и расс...</td>\n",
       "    </tr>\n",
       "    <tr>\n",
       "      <th>148165</th>\n",
       "      <td>Why don't you take a seat?</td>\n",
       "      <td>Почему бы тебе не присесть?</td>\n",
       "    </tr>\n",
       "    <tr>\n",
       "      <th>254244</th>\n",
       "      <td>The child threw a stone at the cat.</td>\n",
       "      <td>Ребёнок бросил камень в кота.</td>\n",
       "    </tr>\n",
       "  </tbody>\n",
       "</table>\n",
       "</div>"
      ],
      "text/plain": [
       "                                        src  \\\n",
       "229772    Don't you feel happy and relaxed?   \n",
       "148165           Why don't you take a seat?   \n",
       "254244  The child threw a stone at the cat.   \n",
       "\n",
       "                                                      trg  \n",
       "229772  Вы разве не чувствуете себя счастливыми и расс...  \n",
       "148165                        Почему бы тебе не присесть?  \n",
       "254244                      Ребёнок бросил камень в кота.  "
      ]
     },
     "execution_count": 5,
     "metadata": {},
     "output_type": "execute_result"
    }
   ],
   "source": [
    "# список фраз на английском с переводом на русский\n",
    "with gzip.open('../data/rus-eng/rus.txt.gz', 'rt', encoding='utf-8') as f:\n",
    "    data = f.read().split('\\n')\n",
    "print(len(data))\n",
    "data = pd.DataFrame([ s.split('\\t') for s in data ],columns=['src','trg'])\n",
    "data.sample(3)"
   ]
  },
  {
   "cell_type": "code",
   "execution_count": 6,
   "metadata": {},
   "outputs": [],
   "source": [
    "# ограничиваем набор данных для ускорения процесса\n",
    "data = data.sample(50000).reset_index(drop=True)"
   ]
  },
  {
   "cell_type": "code",
   "execution_count": 7,
   "metadata": {},
   "outputs": [],
   "source": [
    "# !mkdir tmp"
   ]
  },
  {
   "cell_type": "code",
   "execution_count": 8,
   "metadata": {},
   "outputs": [],
   "source": [
    "data.to_csv('tmp/data_train.csv', index=False, sep='\\t')"
   ]
  },
  {
   "cell_type": "markdown",
   "metadata": {},
   "source": [
    "---"
   ]
  },
  {
   "cell_type": "code",
   "execution_count": 9,
   "metadata": {},
   "outputs": [],
   "source": [
    "# инициализируем пакет Torch\n",
    "SEED = 8432\n",
    "random.seed(SEED)\n",
    "torch.manual_seed(SEED)\n",
    "torch.backends.cudnn.deterministic = True"
   ]
  },
  {
   "cell_type": "code",
   "execution_count": 10,
   "metadata": {},
   "outputs": [
    {
     "name": "stderr",
     "output_type": "stream",
     "text": [
      "/usr/lib/python3.9/site-packages/torchtext/data/field.py:150: UserWarning: Field class will be retired soon and moved to torchtext.legacy. Please see the most recent release notes for further information.\n",
      "  warnings.warn('{} class will be retired soon and moved to torchtext.legacy. Please see the most recent release notes for further information.'.format(self.__class__.__name__), UserWarning)\n"
     ]
    }
   ],
   "source": [
    "# создаём препроцессор для текстов\n",
    "spacy_en = spacy.load('en_core_web_sm')\n",
    "spacy_ru = spacy.load('ru_core_news_sm')\n",
    "\n",
    "def tokenize_en(text): return [tok.text for tok in spacy_en.tokenizer(text)]\n",
    "def tokenize_ru(text): return [tok.text for tok in spacy_ru.tokenizer(text)]\n",
    "\n",
    "SRC = Field(tokenize = tokenize_en, init_token = '<sos>', eos_token = '<eos>', lower = True)\n",
    "TRG = Field(tokenize = tokenize_ru, init_token = '<sos>', eos_token = '<eos>', lower = True)"
   ]
  },
  {
   "cell_type": "code",
   "execution_count": 11,
   "metadata": {},
   "outputs": [
    {
     "name": "stderr",
     "output_type": "stream",
     "text": [
      "/usr/lib/python3.9/site-packages/torchtext/data/example.py:68: UserWarning: Example class will be retired soon and moved to torchtext.legacy. Please see the most recent release notes for further information.\n",
      "  warnings.warn('Example class will be retired soon and moved to torchtext.legacy. Please see the most recent release notes for further information.', UserWarning)\n",
      "/usr/lib/python3.9/site-packages/torchtext/data/example.py:78: UserWarning: Example class will be retired soon and moved to torchtext.legacy. Please see the most recent release notes for further information.\n",
      "  warnings.warn('Example class will be retired soon and moved to torchtext.legacy. Please see the most recent release notes for further information.', UserWarning)\n"
     ]
    }
   ],
   "source": [
    "# загружаем датасет в формате Torch\n",
    "# и выполняем предобработку данных\n",
    "fields = [('src',SRC),('trg',TRG)]\n",
    "(train_data,) = TabularDataset.splits(\n",
    "                            path = 'tmp',\n",
    "                            train = 'data_train.csv',\n",
    "                            format = 'tsv', #'tsv' for tabs, 'csv' for commas\n",
    "                            fields = fields\n",
    ")"
   ]
  },
  {
   "cell_type": "code",
   "execution_count": 12,
   "metadata": {},
   "outputs": [
    {
     "data": {
      "text/plain": [
       "50001"
      ]
     },
     "execution_count": 12,
     "metadata": {},
     "output_type": "execute_result"
    }
   ],
   "source": [
    "# количество примеров\n",
    "len(train_data.examples)"
   ]
  },
  {
   "cell_type": "code",
   "execution_count": 13,
   "metadata": {},
   "outputs": [],
   "source": [
    "# словари \n",
    "SRC.build_vocab(train_data, min_freq = 2)\n",
    "TRG.build_vocab(train_data, min_freq = 2)"
   ]
  },
  {
   "cell_type": "code",
   "execution_count": 14,
   "metadata": {},
   "outputs": [
    {
     "data": {
      "text/plain": [
       "device(type='cuda')"
      ]
     },
     "execution_count": 14,
     "metadata": {},
     "output_type": "execute_result"
    }
   ],
   "source": [
    "device = torch.device('cuda' if torch.cuda.is_available() else 'cpu')\n",
    "device"
   ]
  },
  {
   "cell_type": "code",
   "execution_count": 15,
   "metadata": {},
   "outputs": [
    {
     "name": "stderr",
     "output_type": "stream",
     "text": [
      "/usr/lib/python3.9/site-packages/torchtext/data/iterator.py:48: UserWarning: BucketIterator class will be retired soon and moved to torchtext.legacy. Please see the most recent release notes for further information.\n",
      "  warnings.warn('{} class will be retired soon and moved to torchtext.legacy. Please see the most recent release notes for further information.'.format(self.__class__.__name__), UserWarning)\n"
     ]
    }
   ],
   "source": [
    "# раскидываем данные по батчам,\n",
    "# в один батч будут помещены тексты одинаковой (или близкой) длинны\n",
    "\n",
    "BATCH_SIZE = 128\n",
    "\n",
    "(train_iterator,) = BucketIterator.splits(\n",
    "    (train_data,), \n",
    "    batch_size = BATCH_SIZE, \n",
    "    device = device)"
   ]
  },
  {
   "cell_type": "code",
   "execution_count": 16,
   "metadata": {},
   "outputs": [],
   "source": [
    "# # пример батча\n",
    "# for x in train_iterator:  break\n",
    "# print(x)\n",
    "# print(x.src.shape, x.trg.shape)"
   ]
  },
  {
   "cell_type": "code",
   "execution_count": 17,
   "metadata": {},
   "outputs": [],
   "source": [
    "# строим модель"
   ]
  },
  {
   "cell_type": "code",
   "execution_count": 18,
   "metadata": {},
   "outputs": [],
   "source": [
    "class Encoder(nn.Module):\n",
    "    def __init__(self, input_dim, emb_dim, hid_dim):\n",
    "        super().__init__()\n",
    "        self.embedding = nn.Embedding(input_dim, emb_dim)\n",
    "        self.rnn = nn.LSTM(emb_dim, hid_dim)\n",
    "        \n",
    "    def forward(self, src):\n",
    "        embedded = self.embedding(src)\n",
    "        output, (hidden, cell) = self.rnn(embedded)\n",
    "        # return output,hidden, cell\n",
    "        return hidden, cell    "
   ]
  },
  {
   "cell_type": "code",
   "execution_count": 19,
   "metadata": {},
   "outputs": [],
   "source": [
    "class Decoder(nn.Module):\n",
    "    def __init__(self, output_dim, emb_dim, hid_dim ):\n",
    "        super().__init__()\n",
    "        \n",
    "        self.embedding = nn.Embedding(output_dim,emb_dim)\n",
    "        self.rnn =  nn.LSTM(emb_dim,hid_dim)\n",
    "        self.out = nn.Linear(hid_dim,output_dim)\n",
    "        \n",
    "    def forward(self, input, hidden, cell):\n",
    "        input = input.unsqueeze(0)\n",
    "        #input = [1, batch size]\n",
    "\n",
    "        embedded = self.embedding(input)\n",
    "        #embedded = [1, batch size, emb dim]\n",
    "\n",
    "        output, (hidden, cell) = self.rnn(embedded, (hidden, cell))\n",
    "               \n",
    "        prediction = self.out(output.squeeze(0))\n",
    "        #prediction = [batch size, output dim]\n",
    "        \n",
    "        return prediction, hidden, cell"
   ]
  },
  {
   "cell_type": "code",
   "execution_count": 20,
   "metadata": {},
   "outputs": [],
   "source": [
    "class Seq2Seq(nn.Module):\n",
    "    def __init__(self, encoder, decoder, device, trg_vocab_size):\n",
    "        super().__init__()\n",
    "        \n",
    "        self.encoder = encoder\n",
    "        self.decoder = decoder\n",
    "        self.device = device\n",
    "        self.trg_vocab_size = trg_vocab_size\n",
    "        \n",
    "    def forward(self, src, trg, teacher_forcing_ratio = 0.5):\n",
    "        #src = [src sent len, batch size]\n",
    "        #trg = [trg sent len, batch size]\n",
    "        #teacher_forcing_ratio is probability to use teacher forcing\n",
    "        #e.g. if teacher_forcing_ratio is 0.75 we use ground-truth inputs 75% of the time\n",
    "        \n",
    "        # Again, now batch is the first dimention instead of zero\n",
    "        batch_size = trg.shape[1]\n",
    "        max_len = trg.shape[0]\n",
    "        # trg_vocab_size = self.decoder.output_dim\n",
    "        \n",
    "        #tensor to store decoder outputs\n",
    "        outputs = torch.zeros(max_len, batch_size, self.trg_vocab_size).to(self.device)\n",
    "        \n",
    "        #last hidden state of the encoder is used as the initial hidden state of the decoder\n",
    "        hidden, cell = self.encoder(src)\n",
    "        \n",
    "        #first input to the decoder is the <sos> tokens\n",
    "        input = trg[0,:]\n",
    "        \n",
    "        for t in range(1, max_len):\n",
    "            output, hidden, cell = self.decoder(input, hidden, cell)\n",
    "            outputs[t] = output\n",
    "            teacher_force = random.random() < teacher_forcing_ratio\n",
    "            top1 = output.max(1)[1]\n",
    "            input = (trg[t] if teacher_force else top1)\n",
    "        \n",
    "        return outputs"
   ]
  },
  {
   "cell_type": "code",
   "execution_count": 21,
   "metadata": {},
   "outputs": [],
   "source": [
    "# собираем модель из частей"
   ]
  },
  {
   "cell_type": "code",
   "execution_count": 22,
   "metadata": {},
   "outputs": [],
   "source": [
    "INPUT_DIM = len(SRC.vocab)\n",
    "OUTPUT_DIM = len(TRG.vocab)\n",
    "ENC_EMB_DIM = 256\n",
    "DEC_EMB_DIM = 256\n",
    "HID_DIM = 512\n",
    "\n",
    "enc = Encoder(INPUT_DIM, ENC_EMB_DIM, HID_DIM)\n",
    "dec = Decoder(OUTPUT_DIM, DEC_EMB_DIM, HID_DIM)\n",
    "\n",
    "# dont forget to put the model to the right device\n",
    "model = Seq2Seq(enc, dec, device,OUTPUT_DIM).to(device)"
   ]
  },
  {
   "cell_type": "code",
   "execution_count": 23,
   "metadata": {},
   "outputs": [
    {
     "data": {
      "text/plain": [
       "Seq2Seq(\n",
       "  (encoder): Encoder(\n",
       "    (embedding): Embedding(5007, 256)\n",
       "    (rnn): LSTM(256, 512)\n",
       "  )\n",
       "  (decoder): Decoder(\n",
       "    (embedding): Embedding(10186, 256)\n",
       "    (rnn): LSTM(256, 512)\n",
       "    (out): Linear(in_features=512, out_features=10186, bias=True)\n",
       "  )\n",
       ")"
      ]
     },
     "execution_count": 23,
     "metadata": {},
     "output_type": "execute_result"
    }
   ],
   "source": [
    "# инициализация модели\n",
    "def init_weights(m): \n",
    "    for p in m.parameters():\n",
    "        nn.init.uniform_(p,-.08,.08)\n",
    "            \n",
    "model.apply(init_weights)"
   ]
  },
  {
   "cell_type": "code",
   "execution_count": 24,
   "metadata": {},
   "outputs": [],
   "source": [
    "# метод оптимизации\n",
    "optimizer = optim.Adam(model.parameters())"
   ]
  },
  {
   "cell_type": "code",
   "execution_count": 25,
   "metadata": {},
   "outputs": [],
   "source": [
    "# функция потери\n",
    "PAD_IDX = TRG.vocab.stoi['<pad>']\n",
    "criterion = nn.CrossEntropyLoss(ignore_index = PAD_IDX)"
   ]
  },
  {
   "cell_type": "code",
   "execution_count": 26,
   "metadata": {},
   "outputs": [],
   "source": [
    "# процедура обучения\n",
    "def train(model, \n",
    "          iterator, \n",
    "          optimizer, \n",
    "          criterion, \n",
    "          clip, \n",
    "          train_history=None, \n",
    "          ):\n",
    "    \n",
    "    model.train()\n",
    "    \n",
    "    epoch_loss = 0\n",
    "    history = []\n",
    "    for i, batch in enumerate(iterator):\n",
    "        \n",
    "        src = batch.src\n",
    "        trg = batch.trg\n",
    "        optimizer.zero_grad()\n",
    "        output = model(src, trg)\n",
    "        \n",
    "        output = output[1:].view(-1, output.shape[-1])\n",
    "        trg = trg[1:].view(-1)\n",
    "        \n",
    "        loss = criterion(output, trg)\n",
    "        loss.backward()\n",
    "        \n",
    "        # clip the gradient\n",
    "        torch.nn.utils.clip_grad_norm_(model.parameters(), clip)\n",
    "        \n",
    "        optimizer.step()\n",
    "        \n",
    "        epoch_loss += loss.item()\n",
    "        \n",
    "        history.append(loss.cpu().data.numpy())\n",
    "                      \n",
    "    return epoch_loss / len(iterator)"
   ]
  },
  {
   "cell_type": "code",
   "execution_count": 27,
   "metadata": {},
   "outputs": [],
   "source": [
    "train_history = []"
   ]
  },
  {
   "cell_type": "code",
   "execution_count": 28,
   "metadata": {},
   "outputs": [
    {
     "name": "stderr",
     "output_type": "stream",
     "text": [
      "/usr/lib/python3.9/site-packages/torchtext/data/batch.py:23: UserWarning: Batch class will be retired soon and moved to torchtext.legacy. Please see the most recent release notes for further information.\n",
      "  warnings.warn('{} class will be retired soon and moved to torchtext.legacy. Please see the most recent release notes for further information.'.format(self.__class__.__name__), UserWarning)\n"
     ]
    },
    {
     "name": "stdout",
     "output_type": "stream",
     "text": [
      "Epoch: 01\tTrain Loss: 5.023\n",
      "Epoch: 02\tTrain Loss: 4.174\n",
      "Epoch: 03\tTrain Loss: 3.669\n",
      "Epoch: 04\tTrain Loss: 3.220\n",
      "Epoch: 05\tTrain Loss: 2.824\n",
      "Epoch: 06\tTrain Loss: 2.457\n",
      "Epoch: 07\tTrain Loss: 2.159\n",
      "Epoch: 08\tTrain Loss: 1.885\n",
      "Epoch: 09\tTrain Loss: 1.637\n",
      "Epoch: 10\tTrain Loss: 1.437\n",
      "Epoch: 11\tTrain Loss: 1.259\n",
      "Epoch: 12\tTrain Loss: 1.109\n",
      "Epoch: 13\tTrain Loss: 0.968\n",
      "Epoch: 14\tTrain Loss: 0.874\n",
      "Epoch: 15\tTrain Loss: 0.770\n",
      "Epoch: 16\tTrain Loss: 0.686\n",
      "Epoch: 17\tTrain Loss: 0.617\n",
      "Epoch: 18\tTrain Loss: 0.538\n",
      "Epoch: 19\tTrain Loss: 0.482\n",
      "Epoch: 20\tTrain Loss: 0.423\n",
      "CPU times: user 20min 23s, sys: 3min 9s, total: 23min 32s\n",
      "Wall time: 16min 29s\n"
     ]
    }
   ],
   "source": [
    "%%time\n",
    "\n",
    "N_EPOCHS = 20\n",
    "CLIP = 1\n",
    "\n",
    "for epoch in range(N_EPOCHS):\n",
    "    \n",
    "    start_time = time.time()\n",
    "    \n",
    "    train_loss = train(model, \n",
    "                       train_iterator, \n",
    "                       optimizer, \n",
    "                       criterion, \n",
    "                       CLIP, \n",
    "                       train_history, \n",
    "                      )\n",
    "       \n",
    "    train_history.append(train_loss)\n",
    "\n",
    "    print(f'Epoch: {epoch+1:02}\\tTrain Loss: {train_loss:.3f}')"
   ]
  },
  {
   "cell_type": "code",
   "execution_count": 37,
   "metadata": {},
   "outputs": [
    {
     "data": {
      "text/plain": [
       "<matplotlib.legend.Legend at 0x7fb31856ceb0>"
      ]
     },
     "execution_count": 37,
     "metadata": {},
     "output_type": "execute_result"
    },
    {
     "data": {
      "image/png": "[encoded data removed]",
      "text/plain": [
       "<Figure size 432x288 with 1 Axes>"
      ]
     },
     "metadata": {
      "needs_background": "light"
     },
     "output_type": "display_data"
    }
   ],
   "source": [
    "plt.grid()\n",
    "plt.plot(train_history,label='train loss')\n",
    "plt.legend()"
   ]
  },
  {
   "cell_type": "markdown",
   "metadata": {},
   "source": [
    "---"
   ]
  },
  {
   "cell_type": "code",
   "execution_count": 29,
   "metadata": {},
   "outputs": [],
   "source": [
    "def translate_sentence(sentence, \n",
    "                       src_field, \n",
    "                       trg_field, \n",
    "                       model, \n",
    "                       device, \n",
    "                       max_len=50,\n",
    "                       spacy_lang_mod = 'ru_core_news_sm'\n",
    "                      ):\n",
    "    model.eval()\n",
    "        \n",
    "    if isinstance(sentence, str):\n",
    "        nlp = spacy.load(spacy_lang_mod)\n",
    "        tokens = [token.text.lower() for token in nlp(sentence)]\n",
    "    else:\n",
    "        tokens = [token.lower() for token in sentence]\n",
    "\n",
    "    tokens = [src_field.init_token] + tokens + [src_field.eos_token]\n",
    "    src_indexes = [src_field.vocab.stoi[token] for token in tokens]\n",
    "    src_tensor = torch.LongTensor(src_indexes).unsqueeze(1).to(device)\n",
    "    src_len = torch.LongTensor([len(src_indexes)]).to(device)\n",
    "    \n",
    "    with torch.no_grad():  hidden, cell = model.encoder(src_tensor)\n",
    "        \n",
    "    trg_indexes = [trg_field.vocab.stoi[trg_field.init_token]]\n",
    "\n",
    "    for t in range(1, max_len):\n",
    "        trg_tensor = torch.LongTensor([trg_indexes[-1]]).to(device)\n",
    "        output, hidden, cell = model.decoder(trg_tensor, hidden, cell)\n",
    "        pred_token = output.argmax(1).item()\n",
    "        trg_indexes.append(pred_token)\n",
    "        if pred_token == trg_field.vocab.stoi[trg_field.eos_token]: break\n",
    "    \n",
    "    trg_tokens = [trg_field.vocab.itos[i] for i in trg_indexes]\n",
    "    \n",
    "    return trg_tokens[1:]"
   ]
  },
  {
   "cell_type": "code",
   "execution_count": 30,
   "metadata": {},
   "outputs": [],
   "source": [
    "def get_example_translation():\n",
    "    example_idx = np.random.choice(np.arange(len(train_data)))\n",
    "    src = vars(train_data.examples[example_idx])['src']\n",
    "    trg = vars(train_data.examples[example_idx])['trg']\n",
    "    translation = translate_sentence(src, SRC, TRG, model, device)\n",
    "   \n",
    "    return [' '.join(src),' '.join(trg),' '.join(translation)]"
   ]
  },
  {
   "cell_type": "code",
   "execution_count": 31,
   "metadata": {},
   "outputs": [
    {
     "data": {
      "text/html": [
       "<table>\n",
       "<thead>\n",
       "<tr><th style=\"text-align: right;\">  </th><th>src                                           </th><th>trg                                                    </th><th>pred                                                               </th></tr>\n",
       "</thead>\n",
       "<tbody>\n",
       "<tr><td style=\"text-align: right;\"> 0</td><td>climb onto the roof .                         </td><td>заберись на крышу .                                    </td><td>&lt;unk&gt; на крышу . &lt;eos&gt;                                             </td></tr>\n",
       "<tr><td style=\"text-align: right;\"> 1</td><td>do you have your guitar with you ?            </td><td>у тебя есть с собой гитара ?                           </td><td>у тебя есть с собой гитара ? &lt;eos&gt;                                 </td></tr>\n",
       "<tr><td style=\"text-align: right;\"> 2</td><td>the first girl i ever kissed was mary .       </td><td>первой девочкой , которую я поцеловал , была мэри .    </td><td>первой девочкой , которую я поцеловал поцеловал мэри . &lt;eos&gt;       </td></tr>\n",
       "<tr><td style=\"text-align: right;\"> 3</td><td>i wish you &#x27;d been there .                    </td><td>хотелось бы мне , чтобы вы были там .                  </td><td>я бы хотел , чтобы ты была там . &lt;eos&gt;                             </td></tr>\n",
       "<tr><td style=\"text-align: right;\"> 4</td><td>what do you say ?                             </td><td>что вы говорите ?                                      </td><td>что ты говорите ? &lt;eos&gt;                                            </td></tr>\n",
       "<tr><td style=\"text-align: right;\"> 5</td><td>i do n&#x27;t drink now .                          </td><td>я теперь не пью .                                      </td><td>я не сейчас . &lt;eos&gt;                                                </td></tr>\n",
       "<tr><td style=\"text-align: right;\"> 6</td><td>i got your messages .                         </td><td>я получил твои сообщения .                             </td><td>я получил твои сообщения . &lt;eos&gt;                                   </td></tr>\n",
       "<tr><td style=\"text-align: right;\"> 7</td><td>i still have to pay the phone bill .          </td><td>мне ещё счёт за телефон оплачивать .                   </td><td>мне ещё раз добраться оплачивать дорогу до темноты . &lt;eos&gt;         </td></tr>\n",
       "<tr><td style=\"text-align: right;\"> 8</td><td>i was inspired by tom .                       </td><td>меня вдохновил том .                                   </td><td>меня вдохновил том . &lt;eos&gt;                                         </td></tr>\n",
       "<tr><td style=\"text-align: right;\"> 9</td><td>tom said mary was mistaken .                  </td><td>том сказал , что мэри ошибается .                      </td><td>том сказал , что мэри ошибается . &lt;eos&gt;                            </td></tr>\n",
       "<tr><td style=\"text-align: right;\">10</td><td>hey , what are you doing here ?               </td><td>эй , вы чем тут занимаетесь ?                          </td><td>эй , ты что ты здесь ? &lt;eos&gt;                                       </td></tr>\n",
       "<tr><td style=\"text-align: right;\">11</td><td>give me your money or else i &#x27;ll beat you up .</td><td>дай мне твои деньги , или я тебя побью .               </td><td>дай мне твои деньги , а мне нужно . &lt;eos&gt;                          </td></tr>\n",
       "<tr><td style=\"text-align: right;\">12</td><td>she &#x27;s worked hard to save up money .         </td><td>она упорно трудились , чтобы откладывать деньги .      </td><td>она упорно &lt;unk&gt; , чтобы откладывать деньги . &lt;eos&gt;                </td></tr>\n",
       "<tr><td style=\"text-align: right;\">13</td><td>he does n&#x27;t appear to be wise , does he ?     </td><td>он не выглядит умным , верно ?                         </td><td>он не &lt;unk&gt; умным , верно ? &lt;eos&gt;                                  </td></tr>\n",
       "<tr><td style=\"text-align: right;\">14</td><td>i &#x27;m sorry i was late this morning .          </td><td>прости , что опоздал сегодня утром .                   </td><td>прости , что опоздал сегодня утром . &lt;eos&gt;                         </td></tr>\n",
       "<tr><td style=\"text-align: right;\">15</td><td>mary looked in her purse .                    </td><td>мэри заглянула к себе в сумочку .                      </td><td>мэри &lt;unk&gt; к себе в сумочку . &lt;eos&gt;                                </td></tr>\n",
       "<tr><td style=\"text-align: right;\">16</td><td>a young man broke into my house last night .  </td><td>вчера вечером какой - то парень вломился ко мне в дом .</td><td>вчера вечером какой &lt;unk&gt; &lt;unk&gt; парень был в школе рождения . &lt;eos&gt;</td></tr>\n",
       "<tr><td style=\"text-align: right;\">17</td><td>i do n&#x27;t intend to do that anymore .          </td><td>я не намерен больше этим заниматься .                  </td><td>я больше намерен больше заниматься заниматься . &lt;eos&gt;              </td></tr>\n",
       "<tr><td style=\"text-align: right;\">18</td><td>he intended to marry her .                    </td><td>он собирался на ней жениться .                         </td><td>он собирался на жениться . &lt;eos&gt;                                   </td></tr>\n",
       "<tr><td style=\"text-align: right;\">19</td><td>i hardly ever go to bed before midnight .     </td><td>я почти никогда не ложусь спать раньше полуночи .      </td><td>я почти никогда не ложусь раньше полуночи . &lt;eos&gt;                  </td></tr>\n",
       "</tbody>\n",
       "</table>"
      ],
      "text/plain": [
       "'<table>\\n<thead>\\n<tr><th style=\"text-align: right;\">  </th><th>src                                           </th><th>trg                                                    </th><th>pred                                                               </th></tr>\\n</thead>\\n<tbody>\\n<tr><td style=\"text-align: right;\"> 0</td><td>climb onto the roof .                         </td><td>заберись на крышу .                                    </td><td>&lt;unk&gt; на крышу . &lt;eos&gt;                                             </td></tr>\\n<tr><td style=\"text-align: right;\"> 1</td><td>do you have your guitar with you ?            </td><td>у тебя есть с собой гитара ?                           </td><td>у тебя есть с собой гитара ? &lt;eos&gt;                                 </td></tr>\\n<tr><td style=\"text-align: right;\"> 2</td><td>the first girl i ever kissed was mary .       </td><td>первой девочкой , которую я поцеловал , была мэри .    </td><td>первой девочкой , которую я поцеловал поцеловал мэри . &lt;eos&gt;       </td></tr>\\n<tr><td style=\"text-align: right;\"> 3</td><td>i wish you &#x27;d been there .                    </td><td>хотелось бы мне , чтобы вы были там .                  </td><td>я бы хотел , чтобы ты была там . &lt;eos&gt;                             </td></tr>\\n<tr><td style=\"text-align: right;\"> 4</td><td>what do you say ?                             </td><td>что вы говорите ?                                      </td><td>что ты говорите ? &lt;eos&gt;                                            </td></tr>\\n<tr><td style=\"text-align: right;\"> 5</td><td>i do n&#x27;t drink now .                          </td><td>я теперь не пью .                                      </td><td>я не сейчас . &lt;eos&gt;                                                </td></tr>\\n<tr><td style=\"text-align: right;\"> 6</td><td>i got your messages .                         </td><td>я получил твои сообщения .                             </td><td>я получил твои сообщения . &lt;eos&gt;                                   </td></tr>\\n<tr><td style=\"text-align: right;\"> 7</td><td>i still have to pay the phone bill .          </td><td>мне ещё счёт за телефон оплачивать .                   </td><td>мне ещё раз добраться оплачивать дорогу до темноты . &lt;eos&gt;         </td></tr>\\n<tr><td style=\"text-align: right;\"> 8</td><td>i was inspired by tom .                       </td><td>меня вдохновил том .                                   </td><td>меня вдохновил том . &lt;eos&gt;                                         </td></tr>\\n<tr><td style=\"text-align: right;\"> 9</td><td>tom said mary was mistaken .                  </td><td>том сказал , что мэри ошибается .                      </td><td>том сказал , что мэри ошибается . &lt;eos&gt;                            </td></tr>\\n<tr><td style=\"text-align: right;\">10</td><td>hey , what are you doing here ?               </td><td>эй , вы чем тут занимаетесь ?                          </td><td>эй , ты что ты здесь ? &lt;eos&gt;                                       </td></tr>\\n<tr><td style=\"text-align: right;\">11</td><td>give me your money or else i &#x27;ll beat you up .</td><td>дай мне твои деньги , или я тебя побью .               </td><td>дай мне твои деньги , а мне нужно . &lt;eos&gt;                          </td></tr>\\n<tr><td style=\"text-align: right;\">12</td><td>she &#x27;s worked hard to save up money .         </td><td>она упорно трудились , чтобы откладывать деньги .      </td><td>она упорно &lt;unk&gt; , чтобы откладывать деньги . &lt;eos&gt;                </td></tr>\\n<tr><td style=\"text-align: right;\">13</td><td>he does n&#x27;t appear to be wise , does he ?     </td><td>он не выглядит умным , верно ?                         </td><td>он не &lt;unk&gt; умным , верно ? &lt;eos&gt;                                  </td></tr>\\n<tr><td style=\"text-align: right;\">14</td><td>i &#x27;m sorry i was late this morning .          </td><td>прости , что опоздал сегодня утром .                   </td><td>прости , что опоздал сегодня утром . &lt;eos&gt;                         </td></tr>\\n<tr><td style=\"text-align: right;\">15</td><td>mary looked in her purse .                    </td><td>мэри заглянула к себе в сумочку .                      </td><td>мэри &lt;unk&gt; к себе в сумочку . &lt;eos&gt;                                </td></tr>\\n<tr><td style=\"text-align: right;\">16</td><td>a young man broke into my house last night .  </td><td>вчера вечером какой - то парень вломился ко мне в дом .</td><td>вчера вечером какой &lt;unk&gt; &lt;unk&gt; парень был в школе рождения . &lt;eos&gt;</td></tr>\\n<tr><td style=\"text-align: right;\">17</td><td>i do n&#x27;t intend to do that anymore .          </td><td>я не намерен больше этим заниматься .                  </td><td>я больше намерен больше заниматься заниматься . &lt;eos&gt;              </td></tr>\\n<tr><td style=\"text-align: right;\">18</td><td>he intended to marry her .                    </td><td>он собирался на ней жениться .                         </td><td>он собирался на жениться . &lt;eos&gt;                                   </td></tr>\\n<tr><td style=\"text-align: right;\">19</td><td>i hardly ever go to bed before midnight .     </td><td>я почти никогда не ложусь спать раньше полуночи .      </td><td>я почти никогда не ложусь раньше полуночи . &lt;eos&gt;                  </td></tr>\\n</tbody>\\n</table>'"
      ]
     },
     "execution_count": 31,
     "metadata": {},
     "output_type": "execute_result"
    }
   ],
   "source": [
    "from tabulate import tabulate \n",
    "\n",
    "tabulate(\n",
    "    [ get_example_translation() for i in range(20) ], \n",
    "    headers=['src', 'trg', 'pred'], \n",
    "    tablefmt='html', \n",
    "    showindex='always'\n",
    ")"
   ]
  },
  {
   "cell_type": "code",
   "execution_count": null,
   "metadata": {},
   "outputs": [],
   "source": []
  }
 ],
 "metadata": {
  "kernelspec": {
   "display_name": "Python 3",
   "language": "python",
   "name": "python3"
  },
  "language_info": {
   "codemirror_mode": {
    "name": "ipython",
    "version": 3
   },
   "file_extension": ".py",
   "mimetype": "text/x-python",
   "name": "python",
   "nbconvert_exporter": "python",
   "pygments_lexer": "ipython3",
   "version": "3.9.1"
  },
  "toc": {
   "base_numbering": 1,
   "nav_menu": {},
   "number_sections": true,
   "sideBar": true,
   "skip_h1_title": false,
   "title_cell": "Table of Contents",
   "title_sidebar": "Contents",
   "toc_cell": false,
   "toc_position": {},
   "toc_section_display": true,
   "toc_window_display": false
  }
 },
 "nbformat": 4,
 "nbformat_minor": 4
}
