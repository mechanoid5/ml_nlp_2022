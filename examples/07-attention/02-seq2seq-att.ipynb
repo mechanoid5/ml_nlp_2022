{
 "cells": [
  {
   "cell_type": "markdown",
   "metadata": {},
   "source": [
    "__Sequence to Sequence for Neural Machne Translation.__\n",
    "\n",
    "*This notebook is based on [open-source implementation](https://github.com/bentrevett/pytorch-seq2seq/blob/master/1%20-%20Sequence%20to%20Sequence%20Learning%20with%20Neural%20Networks.ipynb) of seq2seq NMT in PyTorch.*\n",
    "\n",
    "We are going to implement the model from the [Sequence to Sequence Learning with Neural Networks](https://arxiv.org/abs/1409.3215) paper. \n",
    "\n",
    "The model will be trained for German to English translations, but it can be applied to any problem that involves going from one sequence to another, such as summarization."
   ]
  },
  {
   "cell_type": "code",
   "execution_count": 1,
   "metadata": {},
   "outputs": [],
   "source": [
    "import time\n",
    "import random\n",
    "import math\n",
    "import gzip\n",
    "import numpy as np\n",
    "import matplotlib\n",
    "import matplotlib.pyplot as plt\n",
    "# from IPython.display import clear_output\n",
    "\n",
    "import pandas as pd\n",
    "# from sklearn.model_selection import train_test_split\n",
    "import spacy"
   ]
  },
  {
   "cell_type": "code",
   "execution_count": 2,
   "metadata": {},
   "outputs": [],
   "source": [
    "import torch\n",
    "import torch.nn as nn\n",
    "import torch.optim as optim\n",
    "# from torch.utils.tensorboard import SummaryWriter"
   ]
  },
  {
   "cell_type": "code",
   "execution_count": 3,
   "metadata": {},
   "outputs": [],
   "source": [
    "from torchtext.data import Field\n",
    "from torchtext.data import BucketIterator\n",
    "\n",
    "from torchtext.data import Example\n",
    "from torchtext.data import TabularDataset"
   ]
  },
  {
   "cell_type": "code",
   "execution_count": 4,
   "metadata": {},
   "outputs": [],
   "source": [
    "# matplotlib.rcParams.update({'figure.figsize': (16, 12), 'font.size': 14})\n",
    "# %matplotlib inline"
   ]
  },
  {
   "cell_type": "markdown",
   "metadata": {},
   "source": [
    "## загружаем данные"
   ]
  },
  {
   "cell_type": "code",
   "execution_count": 5,
   "metadata": {},
   "outputs": [
    {
     "name": "stdout",
     "output_type": "stream",
     "text": [
      "336667\n"
     ]
    },
    {
     "data": {
      "text/html": [
       "<div>\n",
       "<style scoped>\n",
       "    .dataframe tbody tr th:only-of-type {\n",
       "        vertical-align: middle;\n",
       "    }\n",
       "\n",
       "    .dataframe tbody tr th {\n",
       "        vertical-align: top;\n",
       "    }\n",
       "\n",
       "    .dataframe thead th {\n",
       "        text-align: right;\n",
       "    }\n",
       "</style>\n",
       "<table border=\"1\" class=\"dataframe\">\n",
       "  <thead>\n",
       "    <tr style=\"text-align: right;\">\n",
       "      <th></th>\n",
       "      <th>src</th>\n",
       "      <th>trg</th>\n",
       "    </tr>\n",
       "  </thead>\n",
       "  <tbody>\n",
       "    <tr>\n",
       "      <th>224864</th>\n",
       "      <td>Tom didn't come home that night.</td>\n",
       "      <td>Том в ту ночь не пришёл домой.</td>\n",
       "    </tr>\n",
       "    <tr>\n",
       "      <th>10559</th>\n",
       "      <td>Suit yourself.</td>\n",
       "      <td>Воля твоя.</td>\n",
       "    </tr>\n",
       "    <tr>\n",
       "      <th>309454</th>\n",
       "      <td>If it were not for the sun, we would all die.</td>\n",
       "      <td>Если б не солнце, мы бы все умерли.</td>\n",
       "    </tr>\n",
       "  </tbody>\n",
       "</table>\n",
       "</div>"
      ],
      "text/plain": [
       "                                                  src  \\\n",
       "224864               Tom didn't come home that night.   \n",
       "10559                                  Suit yourself.   \n",
       "309454  If it were not for the sun, we would all die.   \n",
       "\n",
       "                                        trg  \n",
       "224864       Том в ту ночь не пришёл домой.  \n",
       "10559                            Воля твоя.  \n",
       "309454  Если б не солнце, мы бы все умерли.  "
      ]
     },
     "execution_count": 5,
     "metadata": {},
     "output_type": "execute_result"
    }
   ],
   "source": [
    "# список фраз на английском с переводом на русский\n",
    "with gzip.open('../data/rus-eng/rus.txt.gz', 'rt', encoding='utf-8') as f:\n",
    "    data = f.read().split('\\n')\n",
    "print(len(data))\n",
    "data = pd.DataFrame([ s.split('\\t') for s in data ],columns=['src','trg'])\n",
    "data.sample(3)"
   ]
  },
  {
   "cell_type": "code",
   "execution_count": 6,
   "metadata": {},
   "outputs": [],
   "source": [
    "# ограничиваем набор данных для ускорения процесса\n",
    "data = data.sample(50000).reset_index(drop=True)"
   ]
  },
  {
   "cell_type": "code",
   "execution_count": 7,
   "metadata": {},
   "outputs": [],
   "source": [
    "# !mkdir tmp"
   ]
  },
  {
   "cell_type": "code",
   "execution_count": 8,
   "metadata": {},
   "outputs": [],
   "source": [
    "data.to_csv('tmp/data_train.csv', index=False, sep='\\t')"
   ]
  },
  {
   "cell_type": "markdown",
   "metadata": {},
   "source": [
    "---"
   ]
  },
  {
   "cell_type": "code",
   "execution_count": 9,
   "metadata": {},
   "outputs": [],
   "source": [
    "# инициализируем пакет Torch\n",
    "SEED = 8432\n",
    "random.seed(SEED)\n",
    "torch.manual_seed(SEED)\n",
    "torch.backends.cudnn.deterministic = True"
   ]
  },
  {
   "cell_type": "code",
   "execution_count": 10,
   "metadata": {},
   "outputs": [
    {
     "name": "stderr",
     "output_type": "stream",
     "text": [
      "/usr/lib/python3.9/site-packages/torchtext/data/field.py:150: UserWarning: Field class will be retired soon and moved to torchtext.legacy. Please see the most recent release notes for further information.\n",
      "  warnings.warn('{} class will be retired soon and moved to torchtext.legacy. Please see the most recent release notes for further information.'.format(self.__class__.__name__), UserWarning)\n"
     ]
    }
   ],
   "source": [
    "# создаём препроцессор для текстов\n",
    "spacy_en = spacy.load('en_core_web_sm')\n",
    "spacy_ru = spacy.load('ru_core_news_sm')\n",
    "\n",
    "def tokenize_en(text): return [tok.text for tok in spacy_en.tokenizer(text)]\n",
    "def tokenize_ru(text): return [tok.text for tok in spacy_ru.tokenizer(text)]\n",
    "\n",
    "SRC = Field(tokenize = tokenize_en, init_token = '<sos>', eos_token = '<eos>', lower = True)\n",
    "TRG = Field(tokenize = tokenize_ru, init_token = '<sos>', eos_token = '<eos>', lower = True)"
   ]
  },
  {
   "cell_type": "code",
   "execution_count": 11,
   "metadata": {},
   "outputs": [
    {
     "name": "stderr",
     "output_type": "stream",
     "text": [
      "/usr/lib/python3.9/site-packages/torchtext/data/example.py:68: UserWarning: Example class will be retired soon and moved to torchtext.legacy. Please see the most recent release notes for further information.\n",
      "  warnings.warn('Example class will be retired soon and moved to torchtext.legacy. Please see the most recent release notes for further information.', UserWarning)\n",
      "/usr/lib/python3.9/site-packages/torchtext/data/example.py:78: UserWarning: Example class will be retired soon and moved to torchtext.legacy. Please see the most recent release notes for further information.\n",
      "  warnings.warn('Example class will be retired soon and moved to torchtext.legacy. Please see the most recent release notes for further information.', UserWarning)\n"
     ]
    }
   ],
   "source": [
    "# загружаем датасет в формате Torch\n",
    "# и выполняем предобработку данных\n",
    "fields = [('src',SRC),('trg',TRG)]\n",
    "(train_data,) = TabularDataset.splits(\n",
    "                            path = 'tmp',\n",
    "                            train = 'data_train.csv',\n",
    "                            format = 'tsv', #'tsv' for tabs, 'csv' for commas\n",
    "                            fields = fields\n",
    ")"
   ]
  },
  {
   "cell_type": "code",
   "execution_count": 12,
   "metadata": {},
   "outputs": [
    {
     "data": {
      "text/plain": [
       "50001"
      ]
     },
     "execution_count": 12,
     "metadata": {},
     "output_type": "execute_result"
    }
   ],
   "source": [
    "# количество примеров\n",
    "len(train_data.examples)"
   ]
  },
  {
   "cell_type": "code",
   "execution_count": 13,
   "metadata": {},
   "outputs": [],
   "source": [
    "# словари \n",
    "SRC.build_vocab(train_data, min_freq = 2)\n",
    "TRG.build_vocab(train_data, min_freq = 2)"
   ]
  },
  {
   "cell_type": "code",
   "execution_count": 14,
   "metadata": {},
   "outputs": [
    {
     "data": {
      "text/plain": [
       "device(type='cuda')"
      ]
     },
     "execution_count": 14,
     "metadata": {},
     "output_type": "execute_result"
    }
   ],
   "source": [
    "device = torch.device('cuda' if torch.cuda.is_available() else 'cpu')\n",
    "device"
   ]
  },
  {
   "cell_type": "code",
   "execution_count": 15,
   "metadata": {},
   "outputs": [
    {
     "name": "stderr",
     "output_type": "stream",
     "text": [
      "/usr/lib/python3.9/site-packages/torchtext/data/iterator.py:48: UserWarning: BucketIterator class will be retired soon and moved to torchtext.legacy. Please see the most recent release notes for further information.\n",
      "  warnings.warn('{} class will be retired soon and moved to torchtext.legacy. Please see the most recent release notes for further information.'.format(self.__class__.__name__), UserWarning)\n"
     ]
    }
   ],
   "source": [
    "# раскидываем данные по батчам,\n",
    "# в один батч будут помещены тексты одинаковой (или близкой) длинны\n",
    "\n",
    "BATCH_SIZE = 128\n",
    "\n",
    "(train_iterator,) = BucketIterator.splits(\n",
    "    (train_data,), \n",
    "    batch_size = BATCH_SIZE, \n",
    "    device = device)"
   ]
  },
  {
   "cell_type": "code",
   "execution_count": 16,
   "metadata": {},
   "outputs": [],
   "source": [
    "# # пример батча\n",
    "# for x in train_iterator:  break\n",
    "# print(x)\n",
    "# print(x.src.shape, x.trg.shape)"
   ]
  },
  {
   "cell_type": "markdown",
   "metadata": {},
   "source": [
    "## строим модель"
   ]
  },
  {
   "cell_type": "code",
   "execution_count": 18,
   "metadata": {},
   "outputs": [],
   "source": [
    "class Encoder(nn.Module):\n",
    "    def __init__(self, input_dim, emb_dim, enc_hid_dim, dec_hid_dim, n_layers, dropout):\n",
    "        super().__init__()\n",
    "        self.emb_dim = emb_dim\n",
    "        self.enc_hid_dim = enc_hid_dim\n",
    "        self.dec_hid_dim = dec_hid_dim\n",
    "        self.input_dim = input_dim\n",
    "        self.n_layers = n_layers\n",
    "        self.dropout = dropout\n",
    "\n",
    "        self.embedding = nn.Embedding(input_dim, emb_dim)\n",
    "        self.rnn = nn.GRU(emb_dim, enc_hid_dim, n_layers, dropout=dropout, bidirectional=True)\n",
    "        self.fc = nn.Linear(enc_hid_dim * 2, dec_hid_dim)\n",
    "\n",
    "    def forward(self, src_batch):\n",
    "        # src [sent len, batch size]\n",
    "\n",
    "        # [sent len, batch size, emb dim]\n",
    "        embedded = self.embedding(src_batch)\n",
    "        outputs, hidden = self.rnn(embedded)\n",
    "        # outputs -> [sent len, batch size, hidden dim * n directions]\n",
    "        # hidden -> [n layers * n directions, batch size, hidden dim]\n",
    "\n",
    "        # initial decoder hidden is final hidden state of the forwards and\n",
    "        # backwards encoder RNNs fed through a linear layer\n",
    "        concated = torch.cat((hidden[-2, :, :], hidden[-1, :, :]), dim=1)\n",
    "        hidden = torch.tanh(self.fc(concated))\n",
    "        return outputs, hidden"
   ]
  },
  {
   "cell_type": "code",
   "execution_count": 19,
   "metadata": {},
   "outputs": [],
   "source": [
    "class Attention(nn.Module):\n",
    "\n",
    "    def __init__(self, enc_hid_dim, dec_hid_dim):\n",
    "        super().__init__()\n",
    "        self.enc_hid_dim = enc_hid_dim\n",
    "        self.dec_hid_dim = dec_hid_dim\n",
    "\n",
    "        # enc_hid_dim multiply by 2 due to bidirectional\n",
    "        self.fc1 = nn.Linear(enc_hid_dim * 2 + dec_hid_dim, dec_hid_dim)\n",
    "        self.fc2 = nn.Linear(dec_hid_dim, 1, bias=False)\n",
    "\n",
    "    def forward(self, encoder_outputs, hidden):\n",
    "        src_len = encoder_outputs.shape[0]\n",
    "        batch_size = encoder_outputs.shape[1]\n",
    "        \n",
    "        # repeat encoder hidden state src_len times [batch size, sent len, dec hid dim]\n",
    "        hidden = hidden.unsqueeze(1).repeat(1, src_len, 1)\n",
    "        # reshape/permute the encoder output, so that the batch size comes first\n",
    "        # [batch size, sent len, enc hid dim * 2], times 2 because of bidirectional\n",
    "        outputs = encoder_outputs.permute(1, 0, 2)\n",
    "\n",
    "        # the attention mechanism receives a concatenation of the hidden state\n",
    "        # and the encoder output\n",
    "        concat = torch.cat((hidden, outputs), dim=2)\n",
    "        \n",
    "        # fully connected layer and softmax layer to compute the attention weight\n",
    "        # [batch size, sent len, dec hid dim]\n",
    "        energy = torch.tanh(self.fc1(concat))\n",
    "\n",
    "        # attention weight should be of [batch size, sent len]\n",
    "        attention = self.fc2(energy).squeeze(dim=2)        \n",
    "        attention_weight = torch.softmax(attention, dim=1)\n",
    "        return attention_weight"
   ]
  },
  {
   "cell_type": "code",
   "execution_count": 20,
   "metadata": {},
   "outputs": [],
   "source": [
    "class Decoder(nn.Module):\n",
    "\n",
    "    def __init__(self, output_dim, emb_dim, enc_hid_dim, dec_hid_dim, n_layers,\n",
    "                 dropout, attention):\n",
    "        super().__init__()\n",
    "        self.emb_dim = emb_dim\n",
    "        self.enc_hid_dim = enc_hid_dim\n",
    "        self.dec_hid_dim = dec_hid_dim\n",
    "        self.output_dim = output_dim\n",
    "        self.n_layers = n_layers\n",
    "        self.dropout = dropout\n",
    "        self.attention = attention\n",
    "\n",
    "        self.embedding = nn.Embedding(output_dim, emb_dim)\n",
    "        self.rnn = nn.GRU(enc_hid_dim * 2 + emb_dim, dec_hid_dim, n_layers, dropout=dropout)\n",
    "        self.linear = nn.Linear(dec_hid_dim, output_dim)\n",
    "\n",
    "    def forward(self, trg, encoder_outputs, hidden):\n",
    "        # trg [batch size]\n",
    "        # outputs [src sen len, batch size, enc hid dim * 2], times 2 due to bidirectional\n",
    "        # hidden [batch size, dec hid dim]\n",
    "\n",
    "        # [batch size, 1, sent len] \n",
    "        attention = self.attention(encoder_outputs, hidden).unsqueeze(1)\n",
    "\n",
    "        # [batch size, sent len, enc hid dim * 2]\n",
    "        outputs = encoder_outputs.permute(1, 0, 2)\n",
    "\n",
    "        # [1, batch size, enc hid dim * 2]\n",
    "        context = torch.bmm(attention, outputs).permute(1, 0, 2)\n",
    "\n",
    "        # input sentence -> embedding\n",
    "        # [1, batch size, emb dim]\n",
    "        embedded = self.embedding(trg.unsqueeze(0))\n",
    "        rnn_input = torch.cat((embedded, context), dim=2)\n",
    "\n",
    "        outputs, hidden = self.rnn(rnn_input, hidden.unsqueeze(0))\n",
    "        prediction = self.linear(outputs.squeeze(0))\n",
    "        return prediction, hidden.squeeze(0)"
   ]
  },
  {
   "cell_type": "code",
   "execution_count": 21,
   "metadata": {},
   "outputs": [],
   "source": [
    "class Seq2Seq(nn.Module):\n",
    "    def __init__(self, encoder, decoder, device):\n",
    "        super().__init__()\n",
    "        self.encoder = encoder\n",
    "        self.decoder = decoder\n",
    "        self.device = device\n",
    "\n",
    "    def forward(self, src_batch, trg_batch, teacher_forcing_ratio=0.5):\n",
    "        max_len, batch_size = trg_batch.shape\n",
    "        trg_vocab_size = self.decoder.output_dim\n",
    "\n",
    "        # tensor to store decoder's output\n",
    "        outputs = torch.zeros(max_len, batch_size, trg_vocab_size).to(self.device)\n",
    "\n",
    "        # encoder_outputs : all hidden states of the input sequence (forward and backward)\n",
    "        # hidden : final forward and backward hidden states, passed through a linear layer\n",
    "        encoder_outputs, hidden = self.encoder(src_batch)\n",
    "\n",
    "        trg = trg_batch[0]\n",
    "        for i in range(1, max_len):\n",
    "            prediction, hidden = self.decoder(trg, encoder_outputs, hidden)\n",
    "            outputs[i] = prediction\n",
    "\n",
    "            if random.random() < teacher_forcing_ratio:\n",
    "                trg = trg_batch[i]\n",
    "            else:\n",
    "                trg = prediction.argmax(1)\n",
    "\n",
    "        return outputs"
   ]
  },
  {
   "cell_type": "code",
   "execution_count": 25,
   "metadata": {},
   "outputs": [],
   "source": [
    "# adjustable parameters\n",
    "INPUT_DIM = len(SRC.vocab)\n",
    "OUTPUT_DIM = len(TRG.vocab)\n",
    "ENC_EMB_DIM = 256\n",
    "DEC_EMB_DIM = 256\n",
    "ENC_HID_DIM = 512\n",
    "DEC_HID_DIM = 512\n",
    "N_LAYERS = 1\n",
    "ENC_DROPOUT = 0.5\n",
    "DEC_DROPOUT = 0.5\n"
   ]
  },
  {
   "cell_type": "code",
   "execution_count": 26,
   "metadata": {},
   "outputs": [
    {
     "name": "stderr",
     "output_type": "stream",
     "text": [
      "/usr/lib/python3.9/site-packages/torch/nn/modules/rnn.py:58: UserWarning: dropout option adds dropout after all but last recurrent layer, so non-zero dropout expects num_layers greater than 1, but got dropout=0.5 and num_layers=1\n",
      "  warnings.warn(\"dropout option adds dropout after all but last \"\n"
     ]
    },
    {
     "data": {
      "text/plain": [
       "Seq2Seq(\n",
       "  (encoder): Encoder(\n",
       "    (embedding): Embedding(5015, 256)\n",
       "    (rnn): GRU(256, 512, dropout=0.5, bidirectional=True)\n",
       "    (fc): Linear(in_features=1024, out_features=512, bias=True)\n",
       "  )\n",
       "  (decoder): Decoder(\n",
       "    (attention): Attention(\n",
       "      (fc1): Linear(in_features=1536, out_features=512, bias=True)\n",
       "      (fc2): Linear(in_features=512, out_features=1, bias=False)\n",
       "    )\n",
       "    (embedding): Embedding(10308, 256)\n",
       "    (rnn): GRU(1280, 512, dropout=0.5)\n",
       "    (linear): Linear(in_features=512, out_features=10308, bias=True)\n",
       "  )\n",
       ")"
      ]
     },
     "execution_count": 26,
     "metadata": {},
     "output_type": "execute_result"
    }
   ],
   "source": [
    "attention = Attention(ENC_HID_DIM, DEC_HID_DIM)\n",
    "encoder = Encoder(INPUT_DIM, ENC_EMB_DIM, ENC_HID_DIM, DEC_HID_DIM, N_LAYERS, ENC_DROPOUT)\n",
    "decoder = Decoder(OUTPUT_DIM, DEC_EMB_DIM, ENC_HID_DIM, DEC_HID_DIM, N_LAYERS, DEC_DROPOUT, attention)\n",
    "seq2seq = Seq2Seq(encoder, decoder, device).to(device)\n",
    "seq2seq"
   ]
  },
  {
   "cell_type": "markdown",
   "metadata": {},
   "source": [
    "## процесс обучения модели"
   ]
  },
  {
   "cell_type": "code",
   "execution_count": 28,
   "metadata": {},
   "outputs": [],
   "source": [
    "optimizer = optim.Adam(seq2seq.parameters())\n",
    "\n",
    "# ignore the padding index when calculating the loss\n",
    "PAD_IDX = TRG.vocab.stoi['<pad>']\n",
    "criterion = nn.CrossEntropyLoss(ignore_index=PAD_IDX)"
   ]
  },
  {
   "cell_type": "code",
   "execution_count": 29,
   "metadata": {},
   "outputs": [],
   "source": [
    "def train(seq2seq, iterator, optimizer, criterion):\n",
    "    seq2seq.train()\n",
    "    \n",
    "    epoch_loss = 0\n",
    "    for batch in iterator:\n",
    "        optimizer.zero_grad()\n",
    "        outputs = seq2seq(batch.src, batch.trg)\n",
    "\n",
    "        # the loss function only works on 2d inputs\n",
    "        # and 1d targets we need to flatten each of them\n",
    "        outputs_flatten = outputs[1:].view(-1, outputs.shape[-1])\n",
    "        trg_flatten = batch.trg[1:].view(-1)\n",
    "        loss = criterion(outputs_flatten, trg_flatten)\n",
    "        \n",
    "        loss.backward()\n",
    "        optimizer.step()\n",
    "        \n",
    "        epoch_loss += loss.item()\n",
    "\n",
    "    return epoch_loss / len(iterator)"
   ]
  },
  {
   "cell_type": "markdown",
   "metadata": {},
   "source": [
    "---"
   ]
  },
  {
   "cell_type": "code",
   "execution_count": 30,
   "metadata": {},
   "outputs": [
    {
     "name": "stderr",
     "output_type": "stream",
     "text": [
      "/usr/lib/python3.9/site-packages/torchtext/data/batch.py:23: UserWarning: Batch class will be retired soon and moved to torchtext.legacy. Please see the most recent release notes for further information.\n",
      "  warnings.warn('{} class will be retired soon and moved to torchtext.legacy. Please see the most recent release notes for further information.'.format(self.__class__.__name__), UserWarning)\n"
     ]
    },
    {
     "name": "stdout",
     "output_type": "stream",
     "text": [
      "Epoch: 01\tTrain Loss: 4.325\n",
      "Epoch: 02\tTrain Loss: 2.706\n",
      "Epoch: 03\tTrain Loss: 1.914\n",
      "Epoch: 04\tTrain Loss: 1.438\n",
      "Epoch: 05\tTrain Loss: 1.097\n",
      "Epoch: 06\tTrain Loss: 0.867\n",
      "Epoch: 07\tTrain Loss: 0.694\n",
      "Epoch: 08\tTrain Loss: 0.552\n",
      "Epoch: 09\tTrain Loss: 0.447\n",
      "Epoch: 10\tTrain Loss: 0.370\n"
     ]
    }
   ],
   "source": [
    "N_EPOCHS = 10\n",
    "#best_valid_loss = float('inf')\n",
    "train_history=[]\n",
    "\n",
    "for epoch in range(N_EPOCHS):\n",
    "    # start_time = time.time()\n",
    "    train_loss = train(seq2seq, train_iterator, optimizer, criterion)\n",
    "    train_history.append(train_loss)\n",
    "\n",
    "    # valid_loss = evaluate(seq2seq, valid_iterator, criterion)\n",
    "    # end_time = time.time()\n",
    "    #epoch_mins, epoch_secs = epoch_time(start_time, end_time)\n",
    "\n",
    "#     if valid_loss < best_valid_loss:\n",
    "#         best_valid_loss = valid_loss\n",
    "#         torch.save(seq2seq.state_dict(), 'tut2-model.pt')\n",
    "\n",
    "#     print(f'Epoch: {epoch+1:02} | Time: {epoch_mins}m {epoch_secs}s')\n",
    "#     print(f'\\tTrain Loss: {train_loss:.3f} | Train PPL: {math.exp(train_loss):7.3f}')\n",
    "#     print(f'\\t Val. Loss: {valid_loss:.3f} |  Val. PPL: {math.exp(valid_loss):7.3f}')\n",
    "\n",
    "    print(f'Epoch: {epoch+1:02}\\tTrain Loss: {train_loss:.3f}')"
   ]
  },
  {
   "cell_type": "code",
   "execution_count": 62,
   "metadata": {},
   "outputs": [
    {
     "data": {
      "text/plain": [
       "<matplotlib.legend.Legend at 0x7fb4315235b0>"
      ]
     },
     "execution_count": 62,
     "metadata": {},
     "output_type": "execute_result"
    },
    {
     "data": {
      "image/png": "[encoded data removed]",
      "text/plain": [
       "<Figure size 432x288 with 1 Axes>"
      ]
     },
     "metadata": {
      "needs_background": "light"
     },
     "output_type": "display_data"
    }
   ],
   "source": [
    "plt.grid()\n",
    "plt.plot(train_history,label='train loss')\n",
    "plt.legend()"
   ]
  },
  {
   "cell_type": "markdown",
   "metadata": {},
   "source": [
    "## проверяем результаты"
   ]
  },
  {
   "cell_type": "code",
   "execution_count": 55,
   "metadata": {},
   "outputs": [],
   "source": [
    "def translate_sentence(sentence, \n",
    "                       src_field, \n",
    "                       trg_field, \n",
    "                       model, \n",
    "                       device, \n",
    "                       max_len=50,\n",
    "                       spacy_lang_mod = 'ru_core_news_sm'\n",
    "                      ):\n",
    "    model.eval()\n",
    "        \n",
    "    if isinstance(sentence, str):\n",
    "        nlp = spacy.load(spacy_lang_mod)\n",
    "        tokens = [token.text.lower() for token in nlp(sentence)]\n",
    "    else:\n",
    "        tokens = [token.lower() for token in sentence]\n",
    "\n",
    "    tokens = [src_field.init_token] + tokens + [src_field.eos_token]\n",
    "    src_indexes = [src_field.vocab.stoi[token] for token in tokens]\n",
    "    src_tensor = torch.LongTensor(src_indexes).unsqueeze(1).to(device)\n",
    "    src_len = torch.LongTensor([len(src_indexes)]).to(device)\n",
    "    \n",
    "    with torch.no_grad():  \n",
    "        # hidden, cell = model.encoder(src_tensor)\n",
    "        outputs, hidden = model.encoder(src_tensor)\n",
    "        \n",
    "    trg_indexes = [trg_field.vocab.stoi[trg_field.init_token]]\n",
    "\n",
    "    for t in range(1, max_len):\n",
    "        trg_tensor = torch.LongTensor([trg_indexes[-1]]).to(device)\n",
    "        # output, hidden, cell = model.decoder(trg_tensor, hidden, cell)\n",
    "        output, hidden = model.decoder(trg_tensor, outputs, hidden )\n",
    "        \n",
    "        pred_token = output.argmax(1).item()\n",
    "        trg_indexes.append(pred_token)\n",
    "        if pred_token == trg_field.vocab.stoi[trg_field.eos_token]: break\n",
    "    \n",
    "    trg_tokens = [trg_field.vocab.itos[i] for i in trg_indexes]\n",
    "    \n",
    "    return trg_tokens[1:]"
   ]
  },
  {
   "cell_type": "code",
   "execution_count": 57,
   "metadata": {},
   "outputs": [],
   "source": [
    "def get_example_translation():\n",
    "    example_idx = np.random.choice(np.arange(len(train_data)))\n",
    "    src = vars(train_data.examples[example_idx])['src']\n",
    "    trg = vars(train_data.examples[example_idx])['trg']\n",
    "    \n",
    "    translation = translate_sentence(src, SRC, TRG, seq2seq, device)\n",
    "   \n",
    "    return [' '.join(src),' '.join(trg),' '.join(translation)]"
   ]
  },
  {
   "cell_type": "code",
   "execution_count": 61,
   "metadata": {},
   "outputs": [],
   "source": [
    "# get_example_translation()"
   ]
  },
  {
   "cell_type": "code",
   "execution_count": 60,
   "metadata": {},
   "outputs": [
    {
     "data": {
      "text/html": [
       "<table>\n",
       "<thead>\n",
       "<tr><th style=\"text-align: right;\">  </th><th>src                                                                                                                                             </th><th>trg                                                                                                        </th><th>pred                                                                                                </th></tr>\n",
       "</thead>\n",
       "<tbody>\n",
       "<tr><td style=\"text-align: right;\"> 0</td><td>&quot; you dislike tom , do n&#x27;t you ? &quot; &quot; it &#x27;s not that i dislike like him , it &#x27;s just that i kind of have trouble dealing with people like him . &quot;</td><td>&quot; ты не любишь тома ? &quot; - &quot; не то чтобы не люблю - мне просто немного трудно иметь дело с такими людьми &quot; .</td><td>&quot; ты не любишь тома ? &quot; - &quot; не люблю мне просто немного с с с с людьми с ним людьми с людьми . &lt;eos&gt;</td></tr>\n",
       "<tr><td style=\"text-align: right;\"> 1</td><td>would you like a newspaper or magazine ?                                                                                                        </td><td>вам газету или журнал ?                                                                                    </td><td>вам газету или журнал ? &lt;eos&gt;                                                                       </td></tr>\n",
       "<tr><td style=\"text-align: right;\"> 2</td><td>tom gets very animated when he &#x27;s watching rugby on tv .                                                                                        </td><td>том очень оживляется , когда смотрит регби по телевизору .                                                 </td><td>том очень &lt;unk&gt; , когда смотрит &lt;unk&gt; по телевизору . &lt;eos&gt;                                         </td></tr>\n",
       "<tr><td style=\"text-align: right;\"> 3</td><td>i never lie to you .                                                                                                                            </td><td>я никогда тебе не вру .                                                                                    </td><td>я никогда тебе не вру . &lt;eos&gt;                                                                       </td></tr>\n",
       "<tr><td style=\"text-align: right;\"> 4</td><td>tom asked for money .                                                                                                                           </td><td>том просил денег .                                                                                         </td><td>том попросил денег . &lt;eos&gt;                                                                          </td></tr>\n",
       "<tr><td style=\"text-align: right;\"> 5</td><td>are you sure tom is going to win ?                                                                                                              </td><td>вы уверены , что том победит ?                                                                             </td><td>ты уверен , что том победит ? &lt;eos&gt;                                                                 </td></tr>\n",
       "<tr><td style=\"text-align: right;\"> 6</td><td>what time did you see tom ?                                                                                                                     </td><td>в какое время ты видел тома ?                                                                              </td><td>в какое ты видел тома ? &lt;eos&gt;                                                                       </td></tr>\n",
       "<tr><td style=\"text-align: right;\"> 7</td><td>you do n&#x27;t have to worry . i &#x27;ll do it myself .                                                                                                 </td><td>можете не беспокоиться . я сам это сделаю .                                                                </td><td>не нужно беспокоиться . я сам это сам . &lt;eos&gt;                                                       </td></tr>\n",
       "<tr><td style=\"text-align: right;\"> 8</td><td>tell us who you are .                                                                                                                           </td><td>расскажите нам , кто вы .                                                                                  </td><td>расскажите нам , кто вы . &lt;eos&gt;                                                                     </td></tr>\n",
       "<tr><td style=\"text-align: right;\"> 9</td><td>how long will it take to you ?                                                                                                                  </td><td>сколько это у тебя займёт ?                                                                                </td><td>сколько это у тебя займёт ? &lt;eos&gt;                                                                   </td></tr>\n",
       "<tr><td style=\"text-align: right;\">10</td><td>ca n&#x27;t you help us ?                                                                                                                            </td><td>вы не можете нам помочь ?                                                                                  </td><td>ты нам не поможешь ? &lt;eos&gt;                                                                          </td></tr>\n",
       "<tr><td style=\"text-align: right;\">11</td><td>can i go with you ?                                                                                                                             </td><td>можно мне с вами ?                                                                                         </td><td>можно мне поехать с вами ? &lt;eos&gt;                                                                    </td></tr>\n",
       "<tr><td style=\"text-align: right;\">12</td><td>that &#x27;s tom &#x27;s boat .                                                                                                                           </td><td>это лодка тома .                                                                                           </td><td>это лодка тома . &lt;eos&gt;                                                                              </td></tr>\n",
       "<tr><td style=\"text-align: right;\">13</td><td>nobody knew what to say .                                                                                                                       </td><td>никто не знал , что сказать .                                                                              </td><td>никто не знал , что сказать . &lt;eos&gt;                                                                 </td></tr>\n",
       "<tr><td style=\"text-align: right;\">14</td><td>i already knew about this .                                                                                                                     </td><td>я об этом уже знал .                                                                                       </td><td>я об этом уже знал . &lt;eos&gt;                                                                          </td></tr>\n",
       "<tr><td style=\"text-align: right;\">15</td><td>we want to hire you .                                                                                                                           </td><td>мы хотим нанять вас .                                                                                      </td><td>мы хотим нанять вас . &lt;eos&gt;                                                                         </td></tr>\n",
       "<tr><td style=\"text-align: right;\">16</td><td>he can not have said that .                                                                                                                     </td><td>он не мог этого сказать .                                                                                  </td><td>он не мог такого сказать . &lt;eos&gt;                                                                    </td></tr>\n",
       "<tr><td style=\"text-align: right;\">17</td><td>are you sure it &#x27;s all true ?                                                                                                                   </td><td>ты уверен , что это всё правда ?                                                                           </td><td>ты уверен , что это всё правда ? &lt;eos&gt;                                                              </td></tr>\n",
       "<tr><td style=\"text-align: right;\">18</td><td>tom says he left a note .                                                                                                                       </td><td>том говорит , что оставил записку .                                                                        </td><td>том говорит , что оставил записку . &lt;eos&gt;                                                           </td></tr>\n",
       "<tr><td style=\"text-align: right;\">19</td><td>put down your pencil .                                                                                                                          </td><td>положите свой карандаш .                                                                                   </td><td>положи свой карандаш . &lt;eos&gt;                                                                        </td></tr>\n",
       "</tbody>\n",
       "</table>"
      ],
      "text/plain": [
       "'<table>\\n<thead>\\n<tr><th style=\"text-align: right;\">  </th><th>src                                                                                                                                             </th><th>trg                                                                                                        </th><th>pred                                                                                                </th></tr>\\n</thead>\\n<tbody>\\n<tr><td style=\"text-align: right;\"> 0</td><td>&quot; you dislike tom , do n&#x27;t you ? &quot; &quot; it &#x27;s not that i dislike like him , it &#x27;s just that i kind of have trouble dealing with people like him . &quot;</td><td>&quot; ты не любишь тома ? &quot; - &quot; не то чтобы не люблю - мне просто немного трудно иметь дело с такими людьми &quot; .</td><td>&quot; ты не любишь тома ? &quot; - &quot; не люблю мне просто немного с с с с людьми с ним людьми с людьми . &lt;eos&gt;</td></tr>\\n<tr><td style=\"text-align: right;\"> 1</td><td>would you like a newspaper or magazine ?                                                                                                        </td><td>вам газету или журнал ?                                                                                    </td><td>вам газету или журнал ? &lt;eos&gt;                                                                       </td></tr>\\n<tr><td style=\"text-align: right;\"> 2</td><td>tom gets very animated when he &#x27;s watching rugby on tv .                                                                                        </td><td>том очень оживляется , когда смотрит регби по телевизору .                                                 </td><td>том очень &lt;unk&gt; , когда смотрит &lt;unk&gt; по телевизору . &lt;eos&gt;                                         </td></tr>\\n<tr><td style=\"text-align: right;\"> 3</td><td>i never lie to you .                                                                                                                            </td><td>я никогда тебе не вру .                                                                                    </td><td>я никогда тебе не вру . &lt;eos&gt;                                                                       </td></tr>\\n<tr><td style=\"text-align: right;\"> 4</td><td>tom asked for money .                                                                                                                           </td><td>том просил денег .                                                                                         </td><td>том попросил денег . &lt;eos&gt;                                                                          </td></tr>\\n<tr><td style=\"text-align: right;\"> 5</td><td>are you sure tom is going to win ?                                                                                                              </td><td>вы уверены , что том победит ?                                                                             </td><td>ты уверен , что том победит ? &lt;eos&gt;                                                                 </td></tr>\\n<tr><td style=\"text-align: right;\"> 6</td><td>what time did you see tom ?                                                                                                                     </td><td>в какое время ты видел тома ?                                                                              </td><td>в какое ты видел тома ? &lt;eos&gt;                                                                       </td></tr>\\n<tr><td style=\"text-align: right;\"> 7</td><td>you do n&#x27;t have to worry . i &#x27;ll do it myself .                                                                                                 </td><td>можете не беспокоиться . я сам это сделаю .                                                                </td><td>не нужно беспокоиться . я сам это сам . &lt;eos&gt;                                                       </td></tr>\\n<tr><td style=\"text-align: right;\"> 8</td><td>tell us who you are .                                                                                                                           </td><td>расскажите нам , кто вы .                                                                                  </td><td>расскажите нам , кто вы . &lt;eos&gt;                                                                     </td></tr>\\n<tr><td style=\"text-align: right;\"> 9</td><td>how long will it take to you ?                                                                                                                  </td><td>сколько это у тебя займёт ?                                                                                </td><td>сколько это у тебя займёт ? &lt;eos&gt;                                                                   </td></tr>\\n<tr><td style=\"text-align: right;\">10</td><td>ca n&#x27;t you help us ?                                                                                                                            </td><td>вы не можете нам помочь ?                                                                                  </td><td>ты нам не поможешь ? &lt;eos&gt;                                                                          </td></tr>\\n<tr><td style=\"text-align: right;\">11</td><td>can i go with you ?                                                                                                                             </td><td>можно мне с вами ?                                                                                         </td><td>можно мне поехать с вами ? &lt;eos&gt;                                                                    </td></tr>\\n<tr><td style=\"text-align: right;\">12</td><td>that &#x27;s tom &#x27;s boat .                                                                                                                           </td><td>это лодка тома .                                                                                           </td><td>это лодка тома . &lt;eos&gt;                                                                              </td></tr>\\n<tr><td style=\"text-align: right;\">13</td><td>nobody knew what to say .                                                                                                                       </td><td>никто не знал , что сказать .                                                                              </td><td>никто не знал , что сказать . &lt;eos&gt;                                                                 </td></tr>\\n<tr><td style=\"text-align: right;\">14</td><td>i already knew about this .                                                                                                                     </td><td>я об этом уже знал .                                                                                       </td><td>я об этом уже знал . &lt;eos&gt;                                                                          </td></tr>\\n<tr><td style=\"text-align: right;\">15</td><td>we want to hire you .                                                                                                                           </td><td>мы хотим нанять вас .                                                                                      </td><td>мы хотим нанять вас . &lt;eos&gt;                                                                         </td></tr>\\n<tr><td style=\"text-align: right;\">16</td><td>he can not have said that .                                                                                                                     </td><td>он не мог этого сказать .                                                                                  </td><td>он не мог такого сказать . &lt;eos&gt;                                                                    </td></tr>\\n<tr><td style=\"text-align: right;\">17</td><td>are you sure it &#x27;s all true ?                                                                                                                   </td><td>ты уверен , что это всё правда ?                                                                           </td><td>ты уверен , что это всё правда ? &lt;eos&gt;                                                              </td></tr>\\n<tr><td style=\"text-align: right;\">18</td><td>tom says he left a note .                                                                                                                       </td><td>том говорит , что оставил записку .                                                                        </td><td>том говорит , что оставил записку . &lt;eos&gt;                                                           </td></tr>\\n<tr><td style=\"text-align: right;\">19</td><td>put down your pencil .                                                                                                                          </td><td>положите свой карандаш .                                                                                   </td><td>положи свой карандаш . &lt;eos&gt;                                                                        </td></tr>\\n</tbody>\\n</table>'"
      ]
     },
     "execution_count": 60,
     "metadata": {},
     "output_type": "execute_result"
    }
   ],
   "source": [
    "from tabulate import tabulate \n",
    "\n",
    "tabulate(\n",
    "    [ get_example_translation() for i in range(20) ], \n",
    "    headers=['src', 'trg', 'pred'], \n",
    "    tablefmt='html', \n",
    "    showindex='always'\n",
    ")"
   ]
  },
  {
   "cell_type": "code",
   "execution_count": null,
   "metadata": {},
   "outputs": [],
   "source": []
  },
  {
   "cell_type": "markdown",
   "metadata": {},
   "source": [
    "---"
   ]
  },
  {
   "cell_type": "code",
   "execution_count": 31,
   "metadata": {},
   "outputs": [],
   "source": [
    "# # инициализация модели\n",
    "# def init_weights(m): \n",
    "#     for p in m.parameters():\n",
    "#         nn.init.uniform_(p,-.08,.08)\n",
    "            \n",
    "# model.apply(init_weights)"
   ]
  },
  {
   "cell_type": "code",
   "execution_count": 32,
   "metadata": {},
   "outputs": [],
   "source": [
    "# # метод оптимизации\n",
    "# optimizer = optim.Adam(model.parameters())"
   ]
  },
  {
   "cell_type": "code",
   "execution_count": 33,
   "metadata": {},
   "outputs": [],
   "source": [
    "# # функция потери\n",
    "# PAD_IDX = TRG.vocab.stoi['<pad>']\n",
    "# criterion = nn.CrossEntropyLoss(ignore_index = PAD_IDX)"
   ]
  },
  {
   "cell_type": "code",
   "execution_count": 34,
   "metadata": {},
   "outputs": [],
   "source": [
    "# # процедура обучения\n",
    "# def train(model, \n",
    "#           iterator, \n",
    "#           optimizer, \n",
    "#           criterion, \n",
    "#           clip, \n",
    "#           train_history=None, \n",
    "#           ):\n",
    "    \n",
    "#     model.train()\n",
    "    \n",
    "#     epoch_loss = 0\n",
    "#     history = []\n",
    "#     for i, batch in enumerate(iterator):\n",
    "        \n",
    "#         src = batch.src\n",
    "#         trg = batch.trg\n",
    "#         optimizer.zero_grad()\n",
    "#         output = model(src, trg)\n",
    "        \n",
    "#         output = output[1:].view(-1, output.shape[-1])\n",
    "#         trg = trg[1:].view(-1)\n",
    "        \n",
    "#         loss = criterion(output, trg)\n",
    "#         loss.backward()\n",
    "        \n",
    "#         # clip the gradient\n",
    "#         torch.nn.utils.clip_grad_norm_(model.parameters(), clip)\n",
    "        \n",
    "#         optimizer.step()\n",
    "        \n",
    "#         epoch_loss += loss.item()\n",
    "        \n",
    "#         history.append(loss.cpu().data.numpy())\n",
    "                      \n",
    "#     return epoch_loss / len(iterator)"
   ]
  },
  {
   "cell_type": "code",
   "execution_count": 35,
   "metadata": {},
   "outputs": [],
   "source": [
    "# train_history = []"
   ]
  },
  {
   "cell_type": "code",
   "execution_count": 36,
   "metadata": {},
   "outputs": [],
   "source": [
    "# %%time\n",
    "\n",
    "# N_EPOCHS = 20\n",
    "# CLIP = 1\n",
    "\n",
    "# for epoch in range(N_EPOCHS):\n",
    "    \n",
    "#     start_time = time.time()\n",
    "    \n",
    "#     train_loss = train(model, \n",
    "#                        train_iterator, \n",
    "#                        optimizer, \n",
    "#                        criterion, \n",
    "#                        CLIP, \n",
    "#                        train_history, \n",
    "#                       )\n",
    "       \n",
    "#     train_history.append(train_loss)\n",
    "\n",
    "#     print(f'Epoch: {epoch+1:02}\\tTrain Loss: {train_loss:.3f}')"
   ]
  }
 ],
 "metadata": {
  "kernelspec": {
   "display_name": "Python 3",
   "language": "python",
   "name": "python3"
  },
  "language_info": {
   "codemirror_mode": {
    "name": "ipython",
    "version": 3
   },
   "file_extension": ".py",
   "mimetype": "text/x-python",
   "name": "python",
   "nbconvert_exporter": "python",
   "pygments_lexer": "ipython3",
   "version": "3.9.1"
  },
  "toc": {
   "base_numbering": 1,
   "nav_menu": {},
   "number_sections": true,
   "sideBar": true,
   "skip_h1_title": false,
   "title_cell": "Table of Contents",
   "title_sidebar": "Contents",
   "toc_cell": false,
   "toc_position": {},
   "toc_section_display": true,
   "toc_window_display": false
  }
 },
 "nbformat": 4,
 "nbformat_minor": 4
}
