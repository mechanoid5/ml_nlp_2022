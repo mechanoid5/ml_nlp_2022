{
 "cells": [
  {
   "cell_type": "markdown",
   "metadata": {},
   "source": [
    "**лабораторная работа N2**: поиск в масиве текста с помощью W2V"
   ]
  },
  {
   "cell_type": "markdown",
   "metadata": {},
   "source": [
    "**цель**: изучить возможности W2V с помощью библиотеки Gensim"
   ]
  },
  {
   "cell_type": "markdown",
   "metadata": {},
   "source": [
    "---"
   ]
  },
  {
   "cell_type": "markdown",
   "metadata": {},
   "source": [
    "\n",
    "__задача:__ реализовать поиск строк по запросам"
   ]
  },
  {
   "cell_type": "markdown",
   "metadata": {},
   "source": [
    "__решение:__\n",
    "- кодируем слова w2v (Gensim)\n",
    "- для каждой строки агрегируем список кодов (считаем устреднённый вектор w2v)\n",
    "- кодируем слова запроса и агрегируем список кодов\n",
    "- ищем ближайшие векторы вопросов к вектору запроса (косинусная мера близости)"
   ]
  },
  {
   "cell_type": "markdown",
   "metadata": {},
   "source": [
    "описание решения задачи можно найти в лекциях ФПМИ"
   ]
  },
  {
   "cell_type": "markdown",
   "metadata": {},
   "source": [
    "Лекторий ФПМИ: Прикладное машинное обучение 1. Intro to NLP. Word embeddings; Радослав Нейчев   \n",
    "https://www.youtube.com/watch?v=aZ5se_SW81c\n",
    "\n",
    "Лекторий ФПМИ: Прикладное машинное обучение. Семинар 1. Word embeddings; Николай Карпачев   \n",
    "https://www.youtube.com/watch?v=XlEHTf93Y8w\n",
    "\n",
    "https://github.com/girafe-ai/ml-mipt/tree/master/week1_01_word_embeddings"
   ]
  },
  {
   "cell_type": "markdown",
   "metadata": {},
   "source": [
    "---"
   ]
  },
  {
   "cell_type": "markdown",
   "metadata": {},
   "source": [
    "**данные**"
   ]
  },
  {
   "cell_type": "code",
   "execution_count": 4,
   "metadata": {},
   "outputs": [
    {
     "name": "stdout",
     "output_type": "stream",
     "text": [
      "--2022-02-21 15:10:35--  https://www.dropbox.com/s/obaitrix9jyu84r/quora.txt?dl=1\n",
      "SSL_INIT\n",
      "Загружен сертификат CA «/etc/ssl/certs/ca-certificates.crt»\n",
      "Распознаётся www.dropbox.com (www.dropbox.com)… 162.125.70.18, 2620:100:6026:18::a27d:4612\n",
      "Подключение к www.dropbox.com (www.dropbox.com)|162.125.70.18|:443... соединение установлено.\n",
      "HTTP-запрос отправлен. Ожидание ответа… 301 Moved Permanently\n",
      "Адрес: /s/dl/obaitrix9jyu84r/quora.txt [переход]\n",
      "--2022-02-21 15:10:35--  https://www.dropbox.com/s/dl/obaitrix9jyu84r/quora.txt\n",
      "SSL_INIT\n",
      "Повторное использование соединения с www.dropbox.com:443.\n",
      "HTTP-запрос отправлен. Ожидание ответа… 302 Found\n",
      "Адрес: https://uc71ee483856a96753811f7a15bf.dl.dropboxusercontent.com/cd/0/get/BgLjtSazdx4KDvJ-8mTqRNMAbkHY6iTJILlrSxLbgLO-bfPgKzSpYT88HQvB9Z1Ef-hjea69UCcepyvcFh4K2ybJjDIG7fRWAOkwwwJBHNOEcSD7yx326s6skyxWp2bzozQn8bBoBFJt8dN3W6Eao_Tc/file?dl=1# [переход]\n",
      "--2022-02-21 15:10:36--  https://uc71ee483856a96753811f7a15bf.dl.dropboxusercontent.com/cd/0/get/BgLjtSazdx4KDvJ-8mTqRNMAbkHY6iTJILlrSxLbgLO-bfPgKzSpYT88HQvB9Z1Ef-hjea69UCcepyvcFh4K2ybJjDIG7fRWAOkwwwJBHNOEcSD7yx326s6skyxWp2bzozQn8bBoBFJt8dN3W6Eao_Tc/file?dl=1\n",
      "SSL_INIT\n",
      "Распознаётся uc71ee483856a96753811f7a15bf.dl.dropboxusercontent.com (uc71ee483856a96753811f7a15bf.dl.dropboxusercontent.com)… 162.125.70.15, 2620:100:6026:15::a27d:460f\n",
      "Подключение к uc71ee483856a96753811f7a15bf.dl.dropboxusercontent.com (uc71ee483856a96753811f7a15bf.dl.dropboxusercontent.com)|162.125.70.15|:443... соединение установлено.\n",
      "HTTP-запрос отправлен. Ожидание ответа… 200 OK\n",
      "Длина: нет данных [application/binary]\n",
      "Сохранение в: «./quora.txt»\n",
      "\n",
      "./quora.txt             [      <=>           ]  32,25M  6,10MB/s    за 6,0s    \n",
      "\n",
      "2022-02-21 15:10:43 (5,42 MB/s) - «./quora.txt» сохранён [33813903]\n",
      "\n"
     ]
    }
   ],
   "source": [
    "!wget -c https://www.dropbox.com/s/obaitrix9jyu84r/quora.txt?dl=1 -O ./quora.txt\n",
    "# # alternative download link: https://yadi.sk/i/BPQrUu1NaTduEw"
   ]
  },
  {
   "cell_type": "code",
   "execution_count": 5,
   "metadata": {},
   "outputs": [],
   "source": [
    "import numpy as np"
   ]
  },
  {
   "cell_type": "code",
   "execution_count": 6,
   "metadata": {},
   "outputs": [
    {
     "data": {
      "text/plain": [
       "['Do you think the AAP will fulfill the promises they mentioned in their manifesto? Why and how?',\n",
       " 'What are all the pros and cons of having dual citizenship?',\n",
       " 'Can someone translate this one from Italian or Latin?']"
      ]
     },
     "execution_count": 6,
     "metadata": {},
     "output_type": "execute_result"
    }
   ],
   "source": [
    "# список вопросов\n",
    "\n",
    "with open('./quora.txt', encoding='utf-8',mode='rt') as f: \n",
    "    data = f.read().split('\\n')\n",
    "\n",
    "data[54:57]"
   ]
  },
  {
   "cell_type": "markdown",
   "metadata": {},
   "source": [
    "---"
   ]
  },
  {
   "cell_type": "code",
   "execution_count": 10,
   "metadata": {},
   "outputs": [],
   "source": [
    "# !pip install gensim"
   ]
  },
  {
   "cell_type": "code",
   "execution_count": 9,
   "metadata": {},
   "outputs": [],
   "source": [
    "# import gensim"
   ]
  },
  {
   "cell_type": "markdown",
   "metadata": {},
   "source": [
    "---"
   ]
  },
  {
   "cell_type": "code",
   "execution_count": null,
   "metadata": {},
   "outputs": [],
   "source": []
  }
 ],
 "metadata": {
  "kernelspec": {
   "display_name": "Python 3 (ipykernel)",
   "language": "python",
   "name": "python3"
  },
  "language_info": {
   "codemirror_mode": {
    "name": "ipython",
    "version": 3
   },
   "file_extension": ".py",
   "mimetype": "text/x-python",
   "name": "python",
   "nbconvert_exporter": "python",
   "pygments_lexer": "ipython3",
   "version": "3.8.9"
  },
  "toc": {
   "base_numbering": 1,
   "nav_menu": {},
   "number_sections": true,
   "sideBar": true,
   "skip_h1_title": false,
   "title_cell": "Table of Contents",
   "title_sidebar": "Contents",
   "toc_cell": false,
   "toc_position": {},
   "toc_section_display": "block",
   "toc_window_display": false
  }
 },
 "nbformat": 4,
 "nbformat_minor": 4
}
