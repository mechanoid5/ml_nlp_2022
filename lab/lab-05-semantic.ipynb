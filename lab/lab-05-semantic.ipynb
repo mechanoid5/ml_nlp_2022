{
 "cells": [
  {
   "cell_type": "markdown",
   "id": "20b602aa",
   "metadata": {},
   "source": [
    "__лабораторная работа N6:__ оценка семантической близости слов"
   ]
  },
  {
   "cell_type": "markdown",
   "id": "45891270",
   "metadata": {},
   "source": [
    "__цель:__ научиться оценивать семантическую близость слов"
   ]
  },
  {
   "cell_type": "markdown",
   "id": "96ce681e",
   "metadata": {},
   "source": [
    "__порядок выполнения:__  "
   ]
  },
  {
   "cell_type": "markdown",
   "id": "b1a7d17c",
   "metadata": {},
   "source": [
    "---"
   ]
  },
  {
   "cell_type": "code",
   "execution_count": 1,
   "id": "c467f457",
   "metadata": {},
   "outputs": [],
   "source": [
    "# WordNet\n",
    "# Gensim"
   ]
  },
  {
   "cell_type": "markdown",
   "id": "e5cdbd1d",
   "metadata": {},
   "source": [
    "->  лабораторная работа N2: поиск в масиве текста с помощью W2V"
   ]
  },
  {
   "cell_type": "code",
   "execution_count": null,
   "id": "651b3e43",
   "metadata": {},
   "outputs": [],
   "source": []
  }
 ],
 "metadata": {
  "kernelspec": {
   "display_name": "Python 3 (ipykernel)",
   "language": "python",
   "name": "python3"
  },
  "language_info": {
   "codemirror_mode": {
    "name": "ipython",
    "version": 3
   },
   "file_extension": ".py",
   "mimetype": "text/x-python",
   "name": "python",
   "nbconvert_exporter": "python",
   "pygments_lexer": "ipython3",
   "version": "3.8.9"
  },
  "toc": {
   "base_numbering": 1,
   "nav_menu": {},
   "number_sections": true,
   "sideBar": true,
   "skip_h1_title": false,
   "title_cell": "Table of Contents",
   "title_sidebar": "Contents",
   "toc_cell": false,
   "toc_position": {},
   "toc_section_display": true,
   "toc_window_display": false
  }
 },
 "nbformat": 4,
 "nbformat_minor": 5
}
